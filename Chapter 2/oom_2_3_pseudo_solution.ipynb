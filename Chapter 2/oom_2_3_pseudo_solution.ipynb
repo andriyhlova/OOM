{
 "cells": [
  {
   "cell_type": "markdown",
   "metadata": {
    "id": "uDSAycn9QF1Y"
   },
   "source": [
    "# 2.3 Знаходження псевдорозв'язків несумісних СЛАР\n",
    "---------------------"
   ]
  },
  {
   "cell_type": "markdown",
   "metadata": {
    "id": "elD_lWBKQF1j"
   },
   "source": [
    "Нехай $n, m$ -- довільні фіксовані натуральні числа, причому $n \\ge 2$. Розглянемо  СЛАР\n",
    "\n",
    "$(1)\\qquad\\qquad\\qquad A\\,x = b,$\n",
    "\n",
    "де  $x \\in \\mathbb{R}^{n}$  -- невідомий вектор, \n",
    "$A\\in \\mathbb{R}^{m\\times n},\\; b\\in \\mathbb{R}^{m}$ - задані матриця і вектор вільних членів відповідно:\n",
    "\n",
    "$(2)\\qquad\\qquad\n",
    "A=\n",
    "\\begin{pmatrix}\n",
    "a_{11} & a_{12} &\\ldots & a_{1n} \\\\\n",
    "a_{21} & a_{22} &\\ldots & a_{2n} \\\\\n",
    "\\ldots & \\ldots & \\ldots \\\\\n",
    "a_{m1} & a_{m2} &\\ldots & a_{mn}\n",
    "\\end{pmatrix},\\quad\n",
    "b:=\n",
    "\\begin{pmatrix}\n",
    "b_{1}\\\\\n",
    "b_{2}\\\\\n",
    "\\ldots  \\\\\n",
    "b_{m}\n",
    "\\end{pmatrix}.\n",
    "$\n",
    " \n",
    "Вважаємо, що  система (1) несумісна, тобто не має розв'язків."
   ]
  },
  {
   "cell_type": "markdown",
   "metadata": {
    "id": "elD_lWBKQF1j"
   },
   "source": [
    "**Означення.** \n",
    "Псевдорозв'язком *несумісної* системи (1)  називають вектор $x^{*}\\in \\mathbb{R}^{n}$ \n",
    "такий, що\n",
    "\n",
    "$(3)\\qquad\\qquad\\qquad \\|Ax^{*}-b\\|=\\inf_{x\\in \\mathbb{R}^{n}} \\|Ax-b\\|,$\n",
    "\n",
    "де $\\| \\cdot \\|$ --- одна із норм в просторі $\\mathbb{R}^{m}$.\n",
    "\n",
    "Відомо, що псевдорозв'яки системи (1) існують та збігаються з\n",
    "розв'язками системи\n",
    "\n",
    "$(4)\\qquad\\qquad\\qquad\n",
    "A^{\\top}Ax=A^{\\top}b. $"
   ]
  },
  {
   "cell_type": "markdown",
   "metadata": {
    "id": "elD_lWBKQF1j"
   },
   "source": [
    "Для знаходження псевдорозв'язків використаємо метод ``dot`` множення багатовимірних масивів з бібліотеки ``NumPy`` і  функцію ``linalg.solve`` з бібліотеки ``SciPy`` для розв'язування СЛАР."
   ]
  },
  {
   "cell_type": "markdown",
   "metadata": {
    "id": "C56etMUzw6qS",
    "tags": []
   },
   "source": [
    "#### Пояснення до використання програмного коду\n",
    "-----------------"
   ]
  },
  {
   "cell_type": "markdown",
   "metadata": {
    "id": "C56etMUzw6qS"
   },
   "source": [
    "*   Підготувати обчислювальне середовище і потрібні функції :\n",
    "    1. виконати комірку для підготовки середовища (з імпортом ``NumPy`` і ``SciPy.linalg``)\n",
    "    2. виконати комірку, в якій визначена функція ``linalg_solver`` \n",
    "*   Обчислити шуканий псевдорозв'язок заданої СЛАР (1):\n",
    "    1. виконати комірки, в яких визначені функції ``set_matrix`` i ``set_vector`` \n",
    "    2. виконати комірку з викликом функції ``linalg_solver``"
   ]
  },
  {
   "cell_type": "markdown",
   "metadata": {
    "tags": []
   },
   "source": [
    "#### Програмна реалізація методу\n",
    "------------"
   ]
  },
  {
   "cell_type": "markdown",
   "metadata": {
    "tags": []
   },
   "source": [
    ">#### Підготовка середовища"
   ]
  },
  {
   "cell_type": "code",
   "execution_count": 1,
   "metadata": {
    "tags": []
   },
   "outputs": [],
   "source": [
    "import numpy as np\n",
    "from scipy import linalg"
   ]
  },
  {
   "cell_type": "markdown",
   "metadata": {
    "id": "ocZR4xN_cvNf",
    "tags": []
   },
   "source": [
    ">#### ``linalg_solver`` -- функція, яка організовує обчислення чисельного розв'язку СЛАР (1)\n",
    "\n",
    "-------------------\n",
    "*   На початку формується матриця і вектор вільних членів СЛАР (1)\n",
    "*   Далі обчислюється транспонована матриця і формується СЛАР (4)\n",
    "*   Після цього функція ``linalg.solve`` обчислює чисельний розв'язок СЛАР (4)"
   ]
  },
  {
   "cell_type": "code",
   "execution_count": 2,
   "metadata": {},
   "outputs": [],
   "source": [
    "def linalg_solver(set_matrix, set_vector):\n",
    "    \"\"\" Обчислення матриці і вектора вільних членів для СЛАР (4) і розв'язування її функцією linalg.solve\n",
    "            a.T -- значенням виразу є транспонована матриця для матриці ``a``\n",
    "            a.dot(b) -- значенням виразу є добуток матриць   a i b          \n",
    "    \"\"\"      \n",
    "    a=set_matrix()\n",
    "    b=set_vector()    \n",
    "    aT=a.T\n",
    "    aTa=aT.dot(a)\n",
    "    aTb=aT.dot(b)\n",
    "    return linalg.solve(aTa, aTb)"
   ]
  },
  {
   "cell_type": "markdown",
   "metadata": {
    "id": "JML_Qdgo363W",
    "tags": []
   },
   "source": [
    ">#### Функції для задання матриці та векторів вільних членів та початкового наближення конкретних СЛАР\n",
    "*   ``set_matrix`` - функція, яка задає і повертає як результат матрицю СЛАР\n",
    "*   ``set_vector`` - функція, яка задає і повертає як результат вектор вільних членів "
   ]
  },
  {
   "cell_type": "markdown",
   "metadata": {
    "tags": []
   },
   "source": [
    "#### Обчислювальні експерименти\n",
    "------------"
   ]
  },
  {
   "cell_type": "markdown",
   "metadata": {
    "tags": []
   },
   "source": [
    "Продемонструємо обчислення псевдорозв'язків."
   ]
  },
  {
   "cell_type": "markdown",
   "metadata": {},
   "source": [
    "* Приклад 1. (Приклад 2.6) \n",
    "Обчислити псевдорозв'язки СЛАР\n",
    "\n",
    "$\n",
    "\\left\\{\\begin{array}{rcl}\n",
    "x_1 + x_2 &\\!=\\!& 2,\\\\\n",
    "2x_1 - x_2 &\\!=\\!& 1,\\\\\n",
    "4x_1 + x_2 &\\!=\\!& 6.\n",
    "\\end{array} \\right.\n",
    "$"
   ]
  },
  {
   "cell_type": "markdown",
   "metadata": {},
   "source": [
    "Підготуємо функції, які задаватимуть матрицю і вектор вільних членів СЛАР (1):"
   ]
  },
  {
   "cell_type": "code",
   "execution_count": 3,
   "metadata": {
    "id": "IdDn2xvxQF1n"
   },
   "outputs": [],
   "source": [
    "def set_matrix():\n",
    "    \"\"\" функція для задання матриці СЛАР (1)\"\"\"\n",
    "    matrix=np.array([[1, 1],[2,-1],[4,1]],dtype=float )\n",
    "    return matrix"
   ]
  },
  {
   "cell_type": "code",
   "execution_count": 4,
   "metadata": {
    "id": "ZpgpDhlWQF1o"
   },
   "outputs": [],
   "source": [
    "def set_vector():\n",
    "    \"\"\" функція для задання вектора вільних членів СЛАР(1)\"\"\"\n",
    "    vector=np.array([[2], [1], [6]],dtype=float)\n",
    "    return vector"
   ]
  },
  {
   "cell_type": "code",
   "execution_count": 5,
   "metadata": {},
   "outputs": [
    {
     "name": "stdout",
     "output_type": "stream",
     "text": [
      "Псевдорозв'язок СЛАР \n",
      " x=[[1.16666667]\n",
      " [1.16666667]]\n"
     ]
    }
   ],
   "source": [
    "x=linalg_solver(set_matrix, set_vector)\n",
    "print(f\"Псевдорозв'язок СЛАР \\n x={x}\")"
   ]
  },
  {
   "cell_type": "markdown",
   "metadata": {},
   "source": [
    "* Приклад 2.(вправа 2)\n",
    "Обчислити псевдорозв'язки СЛАР\n",
    "\n",
    "$\n",
    "\\left\\{\\begin{array}{rcl}\n",
    "3x_1 + x_2 &\\!=\\!& 2, \\\\\n",
    "x_1 + 4x_2 &\\!=\\!& 5, \\\\\n",
    "4x_1 + 5x_2 &\\!=\\!& 5.\n",
    "\\end{array} \\right.\n",
    "$"
   ]
  },
  {
   "cell_type": "markdown",
   "metadata": {},
   "source": [
    "Підготуємо функції, які задаватимуть матрицю і вектор вільних членів СЛАР (1):"
   ]
  },
  {
   "cell_type": "code",
   "execution_count": 6,
   "metadata": {
    "id": "IdDn2xvxQF1n"
   },
   "outputs": [],
   "source": [
    "def set_matrix():\n",
    "    \"\"\" функція для задання матриці СЛАР\"\"\"\n",
    "    matrix=np.array([[3, 1],[1,4],[4,5]],dtype=float )\n",
    "    return matrix"
   ]
  },
  {
   "cell_type": "code",
   "execution_count": 7,
   "metadata": {
    "id": "ZpgpDhlWQF1o"
   },
   "outputs": [],
   "source": [
    "def set_vector():\n",
    "    \"\"\" функція для задання вектора вільних членів СЛАР\"\"\"\n",
    "    vector=np.array([[2], [5], [5]],dtype=float)\n",
    "    return vector"
   ]
  },
  {
   "cell_type": "code",
   "execution_count": 8,
   "metadata": {},
   "outputs": [
    {
     "name": "stdout",
     "output_type": "stream",
     "text": [
      "Псевдорозв'язок СЛАР [[0.09090909]\n",
      " [1.06060606]]\n"
     ]
    }
   ],
   "source": [
    "x=linalg_solver(set_matrix, set_vector)\n",
    "print(f\"Псевдорозв'язок СЛАР \\n x={x}\")"
   ]
  },
  {
   "cell_type": "markdown",
   "metadata": {},
   "source": [
    "* Приклад 3.(вправа 4)\n",
    "Обчислити псевдорозв'язки СЛАР\n",
    "\n",
    "$\n",
    "\\left\\{\\begin{array}{rcl}\n",
    "x_1 + 2x_2 + x_3 &\\!=\\!& 3 \\\\\n",
    "2x_1 + 4x_2 + 2x_3 &\\!=\\!& 5\n",
    "\\end{array} \\right.\n",
    "$\n",
    "\n",
    "У цьому випадку матриця отриманої СЛАР (4) є сингулярною, тому використання ``scipy.linalg`` зумовить помилку під час виконання цієї функції "
   ]
  },
  {
   "cell_type": "markdown",
   "metadata": {},
   "source": [
    "Підготуємо функції, які задаватимуть матрицю і вектор вільних членів СЛАР (1):"
   ]
  },
  {
   "cell_type": "code",
   "execution_count": 9,
   "metadata": {
    "id": "IdDn2xvxQF1n"
   },
   "outputs": [],
   "source": [
    "def set_matrix():\n",
    "    \"\"\" функція для задання матриці СЛАР\"\"\"\n",
    "    matrix=np.array([[1, 2, 1],[2,4,2]],dtype=float )\n",
    "    return matrix"
   ]
  },
  {
   "cell_type": "code",
   "execution_count": 10,
   "metadata": {
    "id": "ZpgpDhlWQF1o"
   },
   "outputs": [],
   "source": [
    "def set_vector():\n",
    "    \"\"\" функція для задання вектора вільних членів СЛАР\"\"\"\n",
    "    vector=np.array([[3], [5]],dtype=float)\n",
    "    return vector"
   ]
  },
  {
   "cell_type": "code",
   "execution_count": 11,
   "metadata": {},
   "outputs": [
    {
     "ename": "LinAlgError",
     "evalue": "Matrix is singular.",
     "output_type": "error",
     "traceback": [
      "\u001b[1;31m---------------------------------------------------------------------------\u001b[0m",
      "\u001b[1;31mLinAlgError\u001b[0m                               Traceback (most recent call last)",
      "\u001b[1;32mC:\\Users\\AF9AD~1.MUZ\\AppData\\Local\\Temp/ipykernel_24244/4098447305.py\u001b[0m in \u001b[0;36m<module>\u001b[1;34m\u001b[0m\n\u001b[1;32m----> 1\u001b[1;33m \u001b[0mx\u001b[0m\u001b[1;33m=\u001b[0m\u001b[0mlinalg_solver\u001b[0m\u001b[1;33m(\u001b[0m\u001b[0mset_matrix\u001b[0m\u001b[1;33m,\u001b[0m \u001b[0mset_vector\u001b[0m\u001b[1;33m)\u001b[0m\u001b[1;33m\u001b[0m\u001b[1;33m\u001b[0m\u001b[0m\n\u001b[0m\u001b[0;32m      2\u001b[0m \u001b[0mprint\u001b[0m\u001b[1;33m(\u001b[0m\u001b[1;34m'Псевдорозв\\'язок СЛАР'\u001b[0m\u001b[1;33m,\u001b[0m \u001b[0mx\u001b[0m\u001b[1;33m)\u001b[0m\u001b[1;33m\u001b[0m\u001b[1;33m\u001b[0m\u001b[0m\n",
      "\u001b[1;32mC:\\Users\\AF9AD~1.MUZ\\AppData\\Local\\Temp/ipykernel_24244/980201514.py\u001b[0m in \u001b[0;36mlinalg_solver\u001b[1;34m(set_matrix, set_vector)\u001b[0m\n\u001b[0;32m      9\u001b[0m     \u001b[0maTa\u001b[0m\u001b[1;33m=\u001b[0m\u001b[0maT\u001b[0m\u001b[1;33m.\u001b[0m\u001b[0mdot\u001b[0m\u001b[1;33m(\u001b[0m\u001b[0ma\u001b[0m\u001b[1;33m)\u001b[0m\u001b[1;33m\u001b[0m\u001b[1;33m\u001b[0m\u001b[0m\n\u001b[0;32m     10\u001b[0m     \u001b[0maTb\u001b[0m\u001b[1;33m=\u001b[0m\u001b[0maT\u001b[0m\u001b[1;33m.\u001b[0m\u001b[0mdot\u001b[0m\u001b[1;33m(\u001b[0m\u001b[0mb\u001b[0m\u001b[1;33m)\u001b[0m\u001b[1;33m\u001b[0m\u001b[1;33m\u001b[0m\u001b[0m\n\u001b[1;32m---> 11\u001b[1;33m     \u001b[1;32mreturn\u001b[0m \u001b[0mlinalg\u001b[0m\u001b[1;33m.\u001b[0m\u001b[0msolve\u001b[0m\u001b[1;33m(\u001b[0m\u001b[0maTa\u001b[0m\u001b[1;33m,\u001b[0m \u001b[0maTb\u001b[0m\u001b[1;33m)\u001b[0m\u001b[1;33m\u001b[0m\u001b[1;33m\u001b[0m\u001b[0m\n\u001b[0m",
      "\u001b[1;32m~\\anaconda3\\lib\\site-packages\\scipy\\linalg\\basic.py\u001b[0m in \u001b[0;36msolve\u001b[1;34m(a, b, sym_pos, lower, overwrite_a, overwrite_b, debug, check_finite, assume_a, transposed)\u001b[0m\n\u001b[0;32m    217\u001b[0m                                                (a1, b1))\n\u001b[0;32m    218\u001b[0m         \u001b[0mlu\u001b[0m\u001b[1;33m,\u001b[0m \u001b[0mipvt\u001b[0m\u001b[1;33m,\u001b[0m \u001b[0minfo\u001b[0m \u001b[1;33m=\u001b[0m \u001b[0mgetrf\u001b[0m\u001b[1;33m(\u001b[0m\u001b[0ma1\u001b[0m\u001b[1;33m,\u001b[0m \u001b[0moverwrite_a\u001b[0m\u001b[1;33m=\u001b[0m\u001b[0moverwrite_a\u001b[0m\u001b[1;33m)\u001b[0m\u001b[1;33m\u001b[0m\u001b[1;33m\u001b[0m\u001b[0m\n\u001b[1;32m--> 219\u001b[1;33m         \u001b[0m_solve_check\u001b[0m\u001b[1;33m(\u001b[0m\u001b[0mn\u001b[0m\u001b[1;33m,\u001b[0m \u001b[0minfo\u001b[0m\u001b[1;33m)\u001b[0m\u001b[1;33m\u001b[0m\u001b[1;33m\u001b[0m\u001b[0m\n\u001b[0m\u001b[0;32m    220\u001b[0m         x, info = getrs(lu, ipvt, b1,\n\u001b[0;32m    221\u001b[0m                         trans=trans, overwrite_b=overwrite_b)\n",
      "\u001b[1;32m~\\anaconda3\\lib\\site-packages\\scipy\\linalg\\basic.py\u001b[0m in \u001b[0;36m_solve_check\u001b[1;34m(n, info, lamch, rcond)\u001b[0m\n\u001b[0;32m     27\u001b[0m                          '.'.format(-info))\n\u001b[0;32m     28\u001b[0m     \u001b[1;32melif\u001b[0m \u001b[1;36m0\u001b[0m \u001b[1;33m<\u001b[0m \u001b[0minfo\u001b[0m\u001b[1;33m:\u001b[0m\u001b[1;33m\u001b[0m\u001b[1;33m\u001b[0m\u001b[0m\n\u001b[1;32m---> 29\u001b[1;33m         \u001b[1;32mraise\u001b[0m \u001b[0mLinAlgError\u001b[0m\u001b[1;33m(\u001b[0m\u001b[1;34m'Matrix is singular.'\u001b[0m\u001b[1;33m)\u001b[0m\u001b[1;33m\u001b[0m\u001b[1;33m\u001b[0m\u001b[0m\n\u001b[0m\u001b[0;32m     30\u001b[0m \u001b[1;33m\u001b[0m\u001b[0m\n\u001b[0;32m     31\u001b[0m     \u001b[1;32mif\u001b[0m \u001b[0mlamch\u001b[0m \u001b[1;32mis\u001b[0m \u001b[1;32mNone\u001b[0m\u001b[1;33m:\u001b[0m\u001b[1;33m\u001b[0m\u001b[1;33m\u001b[0m\u001b[0m\n",
      "\u001b[1;31mLinAlgError\u001b[0m: Matrix is singular."
     ]
    }
   ],
   "source": [
    "x=linalg_solver(set_matrix, set_vector)\n",
    "print(f\"Псевдорозв'язок СЛАР \\n x={x}\")"
   ]
  },
  {
   "cell_type": "code",
   "execution_count": null,
   "metadata": {},
   "outputs": [],
   "source": []
  }
 ],
 "metadata": {
  "anaconda-cloud": {},
  "colab": {
   "name": "oom_2_2_1_simple_iteration.ipynb",
   "private_outputs": true,
   "provenance": []
  },
  "kernelspec": {
   "display_name": "Python 3 (ipykernel)",
   "language": "python",
   "name": "python3"
  },
  "language_info": {
   "codemirror_mode": {
    "name": "ipython",
    "version": 3
   },
   "file_extension": ".py",
   "mimetype": "text/x-python",
   "name": "python",
   "nbconvert_exporter": "python",
   "pygments_lexer": "ipython3",
   "version": "3.9.7"
  }
 },
 "nbformat": 4,
 "nbformat_minor": 4
}
