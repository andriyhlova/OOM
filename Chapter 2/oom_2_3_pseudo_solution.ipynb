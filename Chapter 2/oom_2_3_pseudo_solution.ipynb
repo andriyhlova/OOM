{
 "cells": [
  {
   "cell_type": "markdown",
   "metadata": {
    "id": "uDSAycn9QF1Y"
   },
   "source": [
    "# 2.3 Знаходження псевдорозв'язків несумісних СЛАР\n",
    "---------------------"
   ]
  },
  {
   "cell_type": "markdown",
   "metadata": {
    "id": "elD_lWBKQF1j"
   },
   "source": [
    "Нехай $n, m$ -- довільні фіксовані натуральні числа, причому $n \\ge 2$. Розглянемо  СЛАР\n",
    "\n",
    "$(1)\\qquad\\qquad\\qquad A\\,x = b,$\n",
    "\n",
    "де  $x \\in \\mathbb{R}^{n}$  -- невідомий вектор, \n",
    "$A\\in \\mathbb{R}^{m\\times n},\\; b\\in \\mathbb{R}^{m}$ - задані матриця і вектор вільних членів відповідно:\n",
    "\n",
    "$(2)\\qquad\\qquad\n",
    "A=\n",
    "\\begin{pmatrix}\n",
    "a_{11} & a_{12} &\\ldots & a_{1n} \\\\\n",
    "a_{21} & a_{22} &\\ldots & a_{2n} \\\\\n",
    "\\ldots & \\ldots & \\ldots \\\\\n",
    "a_{m1} & a_{m2} &\\ldots & a_{mn}\n",
    "\\end{pmatrix},\\quad\n",
    "b:=\n",
    "\\begin{pmatrix}\n",
    "b_{1}\\\\\n",
    "b_{2}\\\\\n",
    "\\ldots  \\\\\n",
    "b_{m}\n",
    "\\end{pmatrix}.\n",
    "$\n",
    " \n",
    "Вважаємо, що  система (1) несумісна, тобто не має розв'язків.\n",
    "\n",
    "**Означення.** \n",
    "Псевдорозв'язком *несумісної* системи (1)  називають вектор $x^{*}\\in \\mathbb{R}^{n}$ \n",
    "такий, що\n",
    "\n",
    "$(3)\\qquad\\qquad\\qquad \\|Ax^{*}-b\\|=\\inf_{x\\in \\mathbb{R}^{n}} \\|Ax-b\\|,$\n",
    "\n",
    "де $\\| \\cdot \\|$ --- одна із норм в просторі $\\mathbb{R}^{m}$.\n",
    "\n",
    "Відомо, що псевдорозв'яки системи (1) існують та збігаються з\n",
    "розв'язками системи\n",
    "\n",
    "$(4)\\qquad\\qquad\\qquad\n",
    "A^{\\top}Ax=A^{\\top}b. $\n",
    "\n",
    "Для розв'язування системи (4) будемо використовувати метод Гаусса або бібліотечну функцію ``linalg.solve``.\n"
   ]
  },
  {
   "cell_type": "markdown",
   "metadata": {
    "id": "C56etMUzw6qS",
    "tags": []
   },
   "source": [
    "#### Пояснення до використання програмного коду\n",
    "-----------------"
   ]
  },
  {
   "cell_type": "markdown",
   "metadata": {
    "id": "C56etMUzw6qS"
   },
   "source": [
    "**1) Застосування методу Гаусса.**\n",
    "*   Підготувати  функції, які потрібні для реалізації методу: \n",
    "    1.   виконати комірку з імпортом ``NumPy`` і ``SciPy``\n",
    "    2.   виконати комірку з визначеннями функцій ``Gaussian_elimination`` і ``backward_substitution``\n",
    "    3.   виконати комірку з визначеннями функції ``GEM_adapter`` \n",
    "*   Підготувати  функції, які задають конкретну СЛАР (1)\n",
    "    1.   виконати комірки з визначеннями функцій ``set_matrix`` i ``set_vector`` \n",
    "*   Виконати комірку з викликом функції ``GEM_adapter``"
   ]
  },
  {
   "cell_type": "markdown",
   "metadata": {
    "id": "C56etMUzw6qS"
   },
   "source": [
    "**2) Застосування функції ``linalg.solve``.**\n",
    "*   Підготувати  функції, які потрібні для реалізації методу: \n",
    "    1.   виконати комірку з імпортом ``NumPy`` і ``SciPy``\n",
    "    2.   виконати комірку з визначеннями функції ``linalg_solver`` \n",
    "*   Підготувати  функції, які задають конкретну СЛАР (1)\n",
    "    1.   виконати комірки з визначеннями функцій ``set_matrix`` i ``set_vector`` \n",
    "*   Виконати комірку з викликом функції ``linalg_solver``"
   ]
  },
  {
   "cell_type": "code",
   "execution_count": null,
   "metadata": {
    "tags": []
   },
   "outputs": [],
   "source": [
    "import numpy as np\n",
    "from scipy import linalg"
   ]
  },
  {
   "cell_type": "code",
   "execution_count": null,
   "metadata": {
    "id": "0qc5BcctO5t2"
   },
   "outputs": [],
   "source": [
    "def Gaussian_elimination(a,b):\n",
    "    \"\"\" зведення добреобумовленою квадратної матриці a до верхньої трикутної \n",
    "        та перетворення вектора b вільних членів \n",
    "        методом Гаусса          \n",
    "    \"\"\"\n",
    "    for k in range(1,a.shape[0]):\n",
    "        for i in range(k,a.shape[0]): \n",
    "            m=a[i,k-1]/a[k-1,k-1]\n",
    "            for j in range(k,a.shape[1]):\n",
    "                a[i,j]-= m * a[k-1,j]                \n",
    "            b[i]-= m * b[k-1]\n",
    "\n",
    "def backward_substitution(a,b):\n",
    "    \"\"\" Розв'язування СЛАР з трикутною матрицею a \n",
    "        і вектором b вільних членів.\n",
    "        Розв'язок буде збережено у векторі b         \n",
    "    \"\"\"      \n",
    "    n=b.size\n",
    "    b[n-1]/=a[n-1,n-1]\n",
    "    for k in range(1,n):\n",
    "        for j in range(n-k,n):\n",
    "            b[n-k-1]-=a[n-k-1,j]*b[j]            \n",
    "        b[n-k-1]/=a[n-k-1,n-k-1]"
   ]
  },
  {
   "cell_type": "code",
   "execution_count": null,
   "metadata": {},
   "outputs": [],
   "source": [
    "def GEM_adapter(set_matrix, set_vector):\n",
    "    \"\"\" Обчислення матриці і вектора вільних членів для СЛАР (4) і розв'язування її методом Гаусса         \n",
    "    \"\"\"      \n",
    "    a=set_matrix()\n",
    "    aT=a.T\n",
    "    b=set_vector()\n",
    "    aTa=aT.dot(a)\n",
    "    aTb=aT.dot(b)\n",
    "    Gaussian_elimination(aTa,aTb)\n",
    "    backward_substitution(aTa,aTb)\n",
    "    return aTb"
   ]
  },
  {
   "cell_type": "code",
   "execution_count": null,
   "metadata": {},
   "outputs": [],
   "source": [
    "def linalg_solver(set_matrix, set_vector):\n",
    "    \"\"\" Обчислення матриці і вектора вільних членів для СЛАР (4) і розв'язування її функцією linalg.solve\n",
    "            a.T -- значенням виразу є транспонована матриця для матриці ``a``\n",
    "            a.dot(b) -- значенням виразу є добуток матриць   a i b          \n",
    "    \"\"\"      \n",
    "    a=set_matrix()\n",
    "    aT=a.T\n",
    "    b=set_vector()\n",
    "    aTa=aT.dot(a)\n",
    "    aTb=aT.dot(b)\n",
    "    return linalg.solve(aTa, aTb)"
   ]
  },
  {
   "cell_type": "markdown",
   "metadata": {
    "id": "ocZR4xN_cvNf",
    "tags": []
   },
   "source": [
    ">#### Приклади обчислення псевдорозв'язку СЛАР (1) як розв'язку СЛАР (4) з використанням методу Гаусса\n",
    "\n",
    "-------------------"
   ]
  },
  {
   "cell_type": "markdown",
   "metadata": {},
   "source": [
    "* Приклад 1."
   ]
  },
  {
   "cell_type": "code",
   "execution_count": null,
   "metadata": {
    "id": "IdDn2xvxQF1n"
   },
   "outputs": [],
   "source": [
    "def set_matrix():\n",
    "    \"\"\" функція для задання матриці СЛАР (1)\"\"\"\n",
    "    matrix=np.array([[1, 1],[2,-1],[4,1]],dtype=float )\n",
    "    return matrix"
   ]
  },
  {
   "cell_type": "code",
   "execution_count": null,
   "metadata": {
    "id": "ZpgpDhlWQF1o"
   },
   "outputs": [],
   "source": [
    "def set_vector():\n",
    "    \"\"\" функція для задання вектора вільних членів СЛАР(1)\"\"\"\n",
    "    vector=np.array([[2], [1], [6]],dtype=float)\n",
    "    return vector"
   ]
  },
  {
   "cell_type": "code",
   "execution_count": null,
   "metadata": {},
   "outputs": [],
   "source": [
    "x = GEM_adapter(set_matrix, set_vector)\n",
    "print('Псевдорозв\\'язок СЛАР (1)', x)"
   ]
  },
  {
   "cell_type": "code",
   "execution_count": null,
   "metadata": {
    "tags": []
   },
   "outputs": [],
   "source": []
  },
  {
   "cell_type": "markdown",
   "metadata": {},
   "source": [
    "* Приклад 2.\n",
    "---------------------"
   ]
  },
  {
   "cell_type": "code",
   "execution_count": null,
   "metadata": {
    "id": "IdDn2xvxQF1n"
   },
   "outputs": [],
   "source": [
    "def set_matrix():\n",
    "    \"\"\" функція для задання матриці СЛАР\"\"\"\n",
    "    matrix=np.array([[3, 1],[1,4],[4,5]],dtype=float )\n",
    "    return matrix"
   ]
  },
  {
   "cell_type": "code",
   "execution_count": null,
   "metadata": {
    "id": "ZpgpDhlWQF1o"
   },
   "outputs": [],
   "source": [
    "def set_vector():\n",
    "    \"\"\" функція для задання вектора вільних членів СЛАР\"\"\"\n",
    "    vector=np.array([[2], [5], [5]],dtype=float)\n",
    "    return vector"
   ]
  },
  {
   "cell_type": "code",
   "execution_count": null,
   "metadata": {},
   "outputs": [],
   "source": [
    "x = GEM_adapter(set_matrix, set_vector)\n",
    "print('Псевдорозв\\'язок СЛАР', x)"
   ]
  },
  {
   "cell_type": "code",
   "execution_count": null,
   "metadata": {
    "tags": []
   },
   "outputs": [],
   "source": []
  },
  {
   "cell_type": "markdown",
   "metadata": {
    "id": "ocZR4xN_cvNf",
    "tags": []
   },
   "source": [
    ">#### Приклади обчислення псевдорозв'язку СЛАР (1) з використанням бібліотеки ``scipy.linalg`` для формування і розв'язування СЛАР (4)\n",
    "\n",
    "-------------------"
   ]
  },
  {
   "cell_type": "markdown",
   "metadata": {},
   "source": [
    "* Приклад 1.\n",
    "-------------------"
   ]
  },
  {
   "cell_type": "code",
   "execution_count": null,
   "metadata": {
    "id": "IdDn2xvxQF1n"
   },
   "outputs": [],
   "source": [
    "def set_matrix():\n",
    "    \"\"\" функція для задання матриці СЛАР (1)\"\"\"\n",
    "    matrix=np.array([[1, 1],[2,-1],[4,1]],dtype=float )\n",
    "    return matrix"
   ]
  },
  {
   "cell_type": "code",
   "execution_count": null,
   "metadata": {
    "id": "ZpgpDhlWQF1o"
   },
   "outputs": [],
   "source": [
    "def set_vector():\n",
    "    \"\"\" функція для задання вектора вільних членів СЛАР(1)\"\"\"\n",
    "    vector=np.array([[2], [1], [6]],dtype=float)\n",
    "    return vector"
   ]
  },
  {
   "cell_type": "code",
   "execution_count": null,
   "metadata": {},
   "outputs": [],
   "source": [
    "x=linalg_solver(set_matrix, set_vector)\n",
    "print('Псевдорозв\\'язок СЛАР', x)"
   ]
  },
  {
   "cell_type": "markdown",
   "metadata": {},
   "source": [
    "* Приклад 2.\n",
    "-----------------"
   ]
  },
  {
   "cell_type": "code",
   "execution_count": null,
   "metadata": {
    "id": "IdDn2xvxQF1n"
   },
   "outputs": [],
   "source": [
    "def set_matrix():\n",
    "    \"\"\" функція для задання матриці СЛАР\"\"\"\n",
    "    matrix=np.array([[3, 1],[1,4],[4,5]],dtype=float )\n",
    "    return matrix"
   ]
  },
  {
   "cell_type": "code",
   "execution_count": null,
   "metadata": {
    "id": "ZpgpDhlWQF1o"
   },
   "outputs": [],
   "source": [
    "def set_vector():\n",
    "    \"\"\" функція для задання вектора вільних членів СЛАР\"\"\"\n",
    "    vector=np.array([[2], [5], [5]],dtype=float)\n",
    "    return vector"
   ]
  },
  {
   "cell_type": "code",
   "execution_count": null,
   "metadata": {},
   "outputs": [],
   "source": [
    "x=linalg_solver(set_matrix, set_vector)\n",
    "print('Псевдорозв\\'язок СЛАР', x)"
   ]
  },
  {
   "cell_type": "markdown",
   "metadata": {},
   "source": [
    "* Приклад 3.\n",
    "---------------\n",
    "\n",
    "У цьому випадку матриця СЛАР сингулярна, тому використання ``scipy.linalg`` зумовить помилку під час виконання цієї функції "
   ]
  },
  {
   "cell_type": "code",
   "execution_count": null,
   "metadata": {
    "id": "IdDn2xvxQF1n"
   },
   "outputs": [],
   "source": [
    "def set_matrix():\n",
    "    \"\"\" функція для задання матриці СЛАР\"\"\"\n",
    "    matrix=np.array([[1, 2, 1],[2,4,2]],dtype=float )\n",
    "    return matrix"
   ]
  },
  {
   "cell_type": "code",
   "execution_count": null,
   "metadata": {
    "id": "ZpgpDhlWQF1o"
   },
   "outputs": [],
   "source": [
    "def set_vector():\n",
    "    \"\"\" функція для задання вектора вільних членів СЛАР\"\"\"\n",
    "    vector=np.array([[3], [5]],dtype=float)\n",
    "    return vector"
   ]
  },
  {
   "cell_type": "code",
   "execution_count": null,
   "metadata": {},
   "outputs": [],
   "source": [
    "x=linalg_solver(set_matrix, set_vector)\n",
    "print('Псевдорозв\\'язок СЛАР', x)"
   ]
  },
  {
   "cell_type": "code",
   "execution_count": null,
   "metadata": {},
   "outputs": [],
   "source": []
  }
 ],
 "metadata": {
  "anaconda-cloud": {},
  "colab": {
   "name": "oom_2_2_1_simple_iteration.ipynb",
   "private_outputs": true,
   "provenance": []
  },
  "kernelspec": {
   "display_name": "Python 3 (ipykernel)",
   "language": "python",
   "name": "python3"
  },
  "language_info": {
   "codemirror_mode": {
    "name": "ipython",
    "version": 3
   },
   "file_extension": ".py",
   "mimetype": "text/x-python",
   "name": "python",
   "nbconvert_exporter": "python",
   "pygments_lexer": "ipython3",
   "version": "3.9.7"
  }
 },
 "nbformat": 4,
 "nbformat_minor": 4
}
