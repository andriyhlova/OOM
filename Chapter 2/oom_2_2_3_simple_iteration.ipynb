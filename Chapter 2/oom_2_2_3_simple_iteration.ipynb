{
 "cells": [
  {
   "cell_type": "markdown",
   "metadata": {
    "id": "uDSAycn9QF1Y",
    "tags": []
   },
   "source": [
    "# 2.2. Ітераційні методи розв'язування СЛАР\n",
    "---------------------"
   ]
  },
  {
   "cell_type": "markdown",
   "metadata": {
    "id": "TrvVaZ02QF1h"
   },
   "source": [
    "## 2.2.1.  Метод простих ітерацій"
   ]
  },
  {
   "cell_type": "markdown",
   "metadata": {
    "id": "elD_lWBKQF1j"
   },
   "source": [
    "Нехай  СЛАР має вигляд\n",
    "\n",
    "$(1)\\qquad\\qquad x=Bx+d, $\n",
    "\n",
    "де $B\\in \\mathbb{R}^{n\\times n},\\; d\\in \\mathbb{R}^{n}$ --- задані квадратна матриця і вектор вільних членів відповідно,\n",
    "\n",
    " $x \\in \\mathbb{R}^{n}$  --- невідомий вектор.\n",
    "\n",
    "Цю систему розв'язуємо методом *послідовних наближень*, а саме, будуємо послідовність\n",
    "\n",
    "$(2)\\qquad\\qquad x^0, x^1, \\ldots, x^k, \\ldots $\n",
    "\n",
    "наближень розв'язку системи за правилом:\n",
    "\n",
    "$(3)\\qquad\\qquad x^{k+1}=Bx^{k}+d, \\quad k\\in \\mathbb{N}_0:=\\mathbb{N}\\cup\\{0\\},$\n",
    "\n",
    "де $x^0 \\in \\mathbb{R}^n $--- початкове наближення,\n",
    "$x^k =(x_1^k,x_2^k, \\dots , x_n^k)^\\top$ ---  наближення розв'язку на $k$-тій ітерації.\n",
    "\n",
    "Вважаємо, що матриця $B$ задовольняє умову \n",
    "\n",
    "$(4)\\qquad\\qquad \\|B\\|_{l}<1$ для деякого $l \\in \\{1,2\\}$ \n",
    "\n",
    "з такими означеннями норм\n",
    "\n",
    "$(5)\\qquad\\qquad \\|B\\|_1 = \\max_{1\\leq i \\leq n} \\sum_{j=1}^n |b_{ij}|, \\quad \n",
    "\\|B\\|_2 = \\max_{1\\leq j \\leq n} \\sum_{i=1}^n |b_{ij}|.$\n",
    "\n",
    "Відомо (**Теорема 2.3**), що виконання нерівності (4) є достатньою умовою для збіжності ітерацій до шуканого розв'язку СЛАР. "
   ]
  },
  {
   "cell_type": "markdown",
   "metadata": {
    "id": "C56etMUzw6qS"
   },
   "source": [
    ">#### Пояснення до використання програмного коду\n",
    "-----------------"
   ]
  },
  {
   "cell_type": "markdown",
   "metadata": {
    "id": "C56etMUzw6qS"
   },
   "source": [
    "*   Підготувати  функції, які потрібні для реалізації методу: \n",
    "    1.   виконати комірку з імпортом ``NumPy``\n",
    "    2.   виконати комірку з визначеннями допоміжних функцій ``norm_1``,``norm_2`` i ``norm_3``    \n",
    "    3.   виконати комірку з визначеннями функцій ``simple_iteration`` і ``simple_iteration_solver``\n",
    "*   Підготувати  функції, які задають конкретну СЛАР і дані чисельного методу\n",
    "    1.   виконати комірки з визначеннями функцій ``set_matrix`` i ``set_vector`` \n",
    "    2.   виконати комірку з визначеннями функцій ``set_x0`` \n",
    "    3.   виконати комірку із заданням точності ``eps`` і максимальної кількості ітерацій ``max_iter``\n",
    "*   Виконати комірку з викликом функції ``simple_iteration_solver``"
   ]
  },
  {
   "cell_type": "code",
   "execution_count": 99,
   "metadata": {
    "id": "Dv08qO4sQF1k"
   },
   "outputs": [],
   "source": [
    "import numpy as np"
   ]
  },
  {
   "cell_type": "code",
   "execution_count": 100,
   "metadata": {
    "id": "jb5hlEr5QF1p"
   },
   "outputs": [],
   "source": [
    "# Допоміжні функції\n",
    "\n",
    "def norm_1(a):\n",
    "    \"\"\"обчислення норми_1 матриці a\"\"\"   \n",
    "    m=0\n",
    "    for i in range(a.shape[0]):\n",
    "        s=0\n",
    "        for j in range(a.shape[1]):\n",
    "            s+=abs(a[i][j])\n",
    "        if s>m:\n",
    "            m=s\n",
    "    return m\n",
    "\n",
    "def norm_2(a):\n",
    "    \"\"\"обчислення норми_2 матриці a\"\"\"   \n",
    "    m=0\n",
    "    for j in range(a.shape[1]):\n",
    "        s=0\n",
    "        for i in range(a.shape[0]):\n",
    "            s+=abs(a[i][j])\n",
    "        if s>m:\n",
    "            m=s\n",
    "    return m\n",
    "\n",
    "def norm_3(a):\n",
    "    \"\"\"обчислення евклідової норми вектора a\"\"\"\n",
    "    return np.sqrt(np.sum(a**2))"
   ]
  },
  {
   "cell_type": "markdown",
   "metadata": {
    "id": "ocZR4xN_cvNf",
    "tags": []
   },
   "source": [
    ">#### ``simple_iteration`` розв'язує СЛАР (1)   методом простої ітерації  \n",
    "\n",
    "-------------------\n",
    "*   На кожній ітерації $k$ для зберігання попереднього наближення розв'язку $x^{k-1}$ використовуємо вектор x_prev, \n",
    "*   Після обчислення нового значення $x^{k}$ зберігаємо його у векторі x_new  \n",
    "    \n",
    "\n"
   ]
  },
  {
   "cell_type": "code",
   "execution_count": 101,
   "metadata": {},
   "outputs": [],
   "source": [
    "def simple_iteration(b,d,x0,eps,max_iter):\n",
    "    \"\"\" послідовно обчислює наближення розв'язку СЛАР \n",
    "      методом простої ітерації, поки евклідова норма \n",
    "      різниці двох послідовних наближень не стане меншою заданої точності eps      \n",
    "      x0 -- початкове наближення \"\"\"\n",
    "    x_prev=x0.copy()  \n",
    "    k=1\n",
    "    x_new=np.matmul(b,x0)+d   \n",
    "    while norm_3(x_new-x_prev) > eps and k < max_iter:\n",
    "        k+=1\n",
    "        x_prev=x_new\n",
    "        x_new=np.matmul(b,x_prev)+d\n",
    "    return k, x_new"
   ]
  },
  {
   "cell_type": "markdown",
   "metadata": {
    "id": "ocZR4xN_cvNf",
    "tags": []
   },
   "source": [
    ">#### ``simple_iteration_solver`` організовує обчислення наближеного розв'язку СЛАР (1) методом простої ітерації при виконанні достатньої умови збіжності (4)\n",
    "\n",
    "-------------------\n",
    "*   На початку формується матриця СЛАР (1)\n",
    "*   Якщо виконується достатня умова збіжності (4), то буде задано вектор вільних членів СЛАР і початкове наближення  розв'язку. Після цього обчислюється наближення розв'язку, яке функція повертає як елемент кортежу. У цьому випадку перший елемент цього кортежу матиме значення кількості виконаних ітерацій.  \n",
    "*   Якщо умова (4) не виконується, то першим елементом кортежу є число 0. \n",
    "    \n",
    "\n"
   ]
  },
  {
   "cell_type": "code",
   "execution_count": 102,
   "metadata": {},
   "outputs": [],
   "source": [
    "def simple_iteration_solver(set_matrix, set_vector,set_x0, eps, max_iter):\n",
    "    \"\"\" Розв'язування СЛАР методом простих ітерацій \"\"\"      \n",
    "    b=set_matrix()  \n",
    "    k=0\n",
    "    if norm_1(b)<1 or norm_2(b)<1 :\n",
    "        d=set_vector()\n",
    "        x0=set_x0()\n",
    "        k, x=simple_iteration(b,d,x0,eps,max_iter)\n",
    "        return k, x\n",
    "    else:\n",
    "        return k, b \n",
    "    "
   ]
  },
  {
   "cell_type": "markdown",
   "metadata": {
    "id": "ocZR4xN_cvNf",
    "tags": []
   },
   "source": [
    ">#### Обчислення наближеного розв'язку СЛАР (1) методом простої ітерації з точністю ``eps``\n",
    "\n",
    "-------------------"
   ]
  },
  {
   "cell_type": "code",
   "execution_count": 103,
   "metadata": {
    "id": "IdDn2xvxQF1n"
   },
   "outputs": [],
   "source": [
    "def set_matrix():\n",
    "    \"\"\" функція для задання матриці конкретної СЛАР\"\"\"\n",
    "    return np.array([[0.1, -0.2, 0],[0.2,-0.3,0.1],[0,0.4,0.4]])"
   ]
  },
  {
   "cell_type": "code",
   "execution_count": 104,
   "metadata": {
    "id": "ZpgpDhlWQF1o"
   },
   "outputs": [],
   "source": [
    "def set_vector():\n",
    "    \"\"\" функція для задання вектора вільних членів конкретної СЛАР\"\"\"\n",
    "    return np.array([[2.5], [1.1], [-1]])"
   ]
  },
  {
   "cell_type": "code",
   "execution_count": 105,
   "metadata": {
    "id": "ZpgpDhlWQF1o",
    "tags": []
   },
   "outputs": [],
   "source": [
    "def set_x0():\n",
    "    \"\"\" функція для задання вектора початкового наближення розв'язку\"\"\"\n",
    "    return set_vector()"
   ]
  },
  {
   "cell_type": "code",
   "execution_count": 106,
   "metadata": {},
   "outputs": [],
   "source": [
    "eps=0.001\n",
    "max_iter=100"
   ]
  },
  {
   "cell_type": "code",
   "execution_count": 107,
   "metadata": {},
   "outputs": [
    {
     "name": "stdout",
     "output_type": "stream",
     "text": [
      "Наближений розв'язок системи \n",
      " [[ 2.51887537]\n",
      " [ 1.16516253]\n",
      " [-0.89035284]] \n",
      " обчислено за 7 ітерацій\n"
     ]
    }
   ],
   "source": [
    "cond, x=simple_iteration_solver(set_matrix, set_vector, set_x0, eps, max_iter)\n",
    "\n",
    "if cond > 0 and cond < max_iter:\n",
    "    print(f\"Наближений розв'язок системи \\n {x} \\n обчислено за {cond} ітерацій\")\n",
    "elif  cond == max_iter : \n",
    "    print(f\"Наближений розв'язок системи не обчислено за {cond} ітерацій\")\n",
    "else:\n",
    "    print(\"Матриця СЛАР (1) не задовольняє достатню умову збіжності ітерацій\")"
   ]
  },
  {
   "cell_type": "markdown",
   "metadata": {
    "id": "ocZR4xN_cvNf",
    "tags": []
   },
   "source": [
    ">#### Обчислення наближеного розв'язку СЛАР (1) методом простої ітерації з точністю ``eps``\n",
    "\n",
    "-------------------"
   ]
  },
  {
   "cell_type": "code",
   "execution_count": 108,
   "metadata": {
    "id": "IdDn2xvxQF1n",
    "tags": []
   },
   "outputs": [],
   "source": [
    "def set_matrix():\n",
    "    \"\"\" функція для задання матриці конкретної СЛАР\"\"\"\n",
    "    return np.array([[0, -0.1, -0.2],[-0.2,0,0.2],[-0.1,0.2,0]])"
   ]
  },
  {
   "cell_type": "code",
   "execution_count": 109,
   "metadata": {
    "id": "ZpgpDhlWQF1o"
   },
   "outputs": [],
   "source": [
    "def set_vector():\n",
    "    \"\"\" функція для задання вектора вільних членів конкретної СЛАР\"\"\"\n",
    "    return np.array([[1.8], [1.6], [2.7]])"
   ]
  },
  {
   "cell_type": "code",
   "execution_count": 110,
   "metadata": {},
   "outputs": [
    {
     "name": "stdout",
     "output_type": "stream",
     "text": [
      "Наближений розв'язок системи \n",
      " [[1.0001988 ]\n",
      " [1.99975656]\n",
      " [2.99979648]] \n",
      " обчислено за 7 ітерацій\n"
     ]
    }
   ],
   "source": [
    "cond, x=simple_iteration_solver(set_matrix, set_vector, set_x0, eps, max_iter)\n",
    "\n",
    "if cond > 0 and cond < max_iter:\n",
    "    print(f\"Наближений розв'язок системи \\n {x} \\n обчислено за {cond} ітерацій\")\n",
    "elif  cond == max_iter : \n",
    "    print(f\"Наближений розв'язок системи не обчислено за {cond} ітерацій\")\n",
    "else:\n",
    "    print(\"Матриця СЛАР (1) не задовольняє достатню умову збіжності ітерацій\")"
   ]
  },
  {
   "cell_type": "code",
   "execution_count": null,
   "metadata": {},
   "outputs": [],
   "source": []
  },
  {
   "cell_type": "code",
   "execution_count": 111,
   "metadata": {
    "tags": []
   },
   "outputs": [],
   "source": [
    "from scipy import linalg"
   ]
  },
  {
   "cell_type": "code",
   "execution_count": 115,
   "metadata": {},
   "outputs": [],
   "source": [
    "A=set_matrix()"
   ]
  },
  {
   "cell_type": "code",
   "execution_count": 118,
   "metadata": {
    "tags": []
   },
   "outputs": [],
   "source": [
    "la, v = linalg.eig(A)"
   ]
  },
  {
   "cell_type": "code",
   "execution_count": 119,
   "metadata": {},
   "outputs": [
    {
     "data": {
      "text/plain": [
       "numpy.ndarray"
      ]
     },
     "execution_count": 119,
     "metadata": {},
     "output_type": "execute_result"
    }
   ],
   "source": [
    "type(v)"
   ]
  },
  {
   "cell_type": "code",
   "execution_count": 121,
   "metadata": {},
   "outputs": [
    {
     "data": {
      "text/plain": [
       "numpy.complex128"
      ]
     },
     "execution_count": 121,
     "metadata": {},
     "output_type": "execute_result"
    }
   ],
   "source": [
    "type(la[0])"
   ]
  },
  {
   "cell_type": "code",
   "execution_count": 118,
   "metadata": {},
   "outputs": [],
   "source": [
    "l1, l2, l3 = la\n",
    "\n",
    "print(l1, l2, l3)   # eigenvalues"
   ]
  },
  {
   "cell_type": "code",
   "execution_count": 122,
   "metadata": {},
   "outputs": [
    {
     "name": "stdout",
     "output_type": "stream",
     "text": [
      "0.3318628217750187 0.17358839960227107 0.17358839960227107\n"
     ]
    }
   ],
   "source": [
    "print(np.abs(l1), np.abs(l2), np.abs(l3))"
   ]
  },
  {
   "cell_type": "code",
   "execution_count": 118,
   "metadata": {},
   "outputs": [
    {
     "name": "stdout",
     "output_type": "stream",
     "text": [
      "(0.3318628217750187+0j) (-0.16593141088750932+0.05098724700705367j) (-0.16593141088750932-0.05098724700705367j)\n",
      "[ 0.52662979+0.j -0.64857356+0.j -0.54955746+0.j]\n",
      "[ 0.49592199+0.36069127j -0.28997839+0.34564314j  0.64838765+0.j        ]\n",
      "[ 0.49592199-0.36069127j -0.28997839-0.34564314j  0.64838765-0.j        ]\n",
      "[1. 1. 1.]\n",
      "1.6653345369377348e-16\n"
     ]
    }
   ],
   "source": [
    "print(v[:, 0])   # first eigenvector\n",
    "print(v[:, 1])   # second eigenvector\n",
    "print(v[:, 2])\n",
    "\n",
    "print(np.sum(abs(v**2), axis=0))  # eigenvectors are unitary\n",
    "\n",
    "v1 = np.array(v[:, 0]).T\n",
    "print(linalg.norm(A.dot(v1) - l1*v1))"
   ]
  },
  {
   "cell_type": "code",
   "execution_count": null,
   "metadata": {},
   "outputs": [],
   "source": []
  }
 ],
 "metadata": {
  "anaconda-cloud": {},
  "colab": {
   "name": "oom_2_2_1_simple_iteration.ipynb",
   "private_outputs": true,
   "provenance": []
  },
  "kernelspec": {
   "display_name": "Python 3 (ipykernel)",
   "language": "python",
   "name": "python3"
  },
  "language_info": {
   "codemirror_mode": {
    "name": "ipython",
    "version": 3
   },
   "file_extension": ".py",
   "mimetype": "text/x-python",
   "name": "python",
   "nbconvert_exporter": "python",
   "pygments_lexer": "ipython3",
   "version": "3.9.7"
  }
 },
 "nbformat": 4,
 "nbformat_minor": 4
}
