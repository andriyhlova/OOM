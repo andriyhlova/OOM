{
 "cells": [
  {
   "cell_type": "markdown",
   "metadata": {
    "id": "uDSAycn9QF1Y",
    "tags": []
   },
   "source": [
    "# 2.2. Ітераційні методи розв'язування СЛАР\n",
    "---------------------"
   ]
  },
  {
   "cell_type": "markdown",
   "metadata": {
    "id": "TrvVaZ02QF1h"
   },
   "source": [
    "## 2.2.1.  Метод простих ітерацій"
   ]
  },
  {
   "cell_type": "markdown",
   "metadata": {
    "id": "elD_lWBKQF1j"
   },
   "source": [
    "Нехай  СЛАР має вигляд\n",
    "\n",
    "$(1)\\qquad\\qquad x=Bx+d, $\n",
    "\n",
    "де $B\\in \\mathbb{R}^{n\\times n},\\; d\\in \\mathbb{R}^{n}$ --- задані квадратна матриця і вектор вільних членів відповідно,\n",
    "\n",
    " $x \\in \\mathbb{R}^{n}$  --- невідомий вектор.\n",
    "\n",
    "Цю систему розв'язуємо методом *послідовних наближень*, а саме, будуємо послідовність\n",
    "\n",
    "$(2)\\qquad\\qquad x^0, x^1, \\ldots, x^k, \\ldots $\n",
    "\n",
    "наближень розв'язку системи за правилом:\n",
    "\n",
    "$(3)\\qquad\\qquad x^{k+1}=Bx^{k}+d, \\quad k\\in \\mathbb{N}_0:=\\mathbb{N}\\cup\\{0\\},$\n",
    "\n",
    "де $x^0 \\in \\mathbb{R}^n $--- початкове наближення,\n",
    "$x^k =(x_1^k,x_2^k, \\dots , x_n^k)^\\top$ ---  наближення розв'язку на $k$-тій ітерації.\n",
    "\n",
    "Вважаємо, що матриця $B$ задовольняє умову \n",
    "\n",
    "$(4)\\qquad\\qquad \\|B\\|_{l}<1$ для деякого $l \\in \\{1,2\\}$ \n",
    "\n",
    "з такими означеннями норм\n",
    "\n",
    "$(5)\\qquad\\qquad \\|B\\|_1 = \\max_{1\\leq i \\leq n} \\sum_{j=1}^n |b_{ij}|, \\quad \n",
    "\\|B\\|_2 = \\max_{1\\leq j \\leq n} \\sum_{i=1}^n |b_{ij}|.$\n",
    "\n",
    "Відомо (**Теорема 2.3**), що виконання нерівності (4) є достатньою умовою для збіжності ітерацій до шуканого розв'язку СЛАР. "
   ]
  },
  {
   "cell_type": "markdown",
   "metadata": {
    "id": "C56etMUzw6qS"
   },
   "source": [
    "#### Пояснення до використання програмного коду\n",
    "-----------------"
   ]
  },
  {
   "cell_type": "markdown",
   "metadata": {
    "id": "C56etMUzw6qS"
   },
   "source": [
    "*   Підготувати обчислювальне середовище і потрібні функції :\n",
    "    1. виконати комірку для підготовки середовища\n",
    "    2. виконати комірку, де визначені допоміжні функції ``norm_1``,``norm_2`` i ``norm_3``    \n",
    "    3. виконати комірку, де визначені функції ``simple_iteration`` і ``simple_iteration_solver``\n",
    "*   Обчислити шуканий розв'язок заданої СЛАР :\n",
    "    1.   виконати комірки, де визначені функції ``set_matrix`` i ``set_vector`` \n",
    "    2.   виконати комірку, де визначена функція ``set_x0`` \n",
    "    3.   виконати комірку із заданням точності ``eps`` і максимальної кількості ітерацій ``max_iter``\n",
    "    4.   виконати комірку з викликом функції ``simple_iteration_solver``"
   ]
  },
  {
   "cell_type": "markdown",
   "metadata": {
    "tags": []
   },
   "source": [
    "#### Програмна реалізація методу\n",
    "------------"
   ]
  },
  {
   "cell_type": "markdown",
   "metadata": {
    "tags": []
   },
   "source": [
    ">#### Підготовка середовища"
   ]
  },
  {
   "cell_type": "code",
   "execution_count": 1,
   "metadata": {
    "id": "Dv08qO4sQF1k",
    "tags": []
   },
   "outputs": [],
   "source": [
    "import numpy as np"
   ]
  },
  {
   "cell_type": "markdown",
   "metadata": {
    "tags": []
   },
   "source": [
    ">#### Допоміжні функції"
   ]
  },
  {
   "cell_type": "code",
   "execution_count": 2,
   "metadata": {
    "id": "jb5hlEr5QF1p"
   },
   "outputs": [],
   "source": [
    "def norm_1(a):\n",
    "    \"\"\"обчислення норми_1 матриці a\"\"\"   \n",
    "    m=0\n",
    "    for i in range(a.shape[0]):\n",
    "        s=0\n",
    "        for j in range(a.shape[1]):\n",
    "            s+=abs(a[i][j])\n",
    "        if s>m:\n",
    "            m=s\n",
    "    return m\n",
    "\n",
    "def norm_2(a):\n",
    "    \"\"\"обчислення норми_2 матриці a\"\"\"   \n",
    "    m=0\n",
    "    for j in range(a.shape[1]):\n",
    "        s=0\n",
    "        for i in range(a.shape[0]):\n",
    "            s+=abs(a[i][j])\n",
    "        if s>m:\n",
    "            m=s\n",
    "    return m\n",
    "\n",
    "def norm_3(a):\n",
    "    \"\"\"обчислення евклідової норми вектора a\"\"\"\n",
    "    return np.sqrt(np.sum(a**2))"
   ]
  },
  {
   "cell_type": "markdown",
   "metadata": {
    "id": "ocZR4xN_cvNf",
    "tags": []
   },
   "source": [
    ">#### ``simple_iteration`` - функція, яка розв'язує СЛАР (1)   методом простої ітерації  "
   ]
  },
  {
   "cell_type": "code",
   "execution_count": 3,
   "metadata": {},
   "outputs": [],
   "source": [
    "def simple_iteration(b,d,x0,eps,max_iter):\n",
    "    \"\"\" послідовно обчислює наближення розв'язку СЛАР \n",
    "      методом простої ітерації, поки евклідова норма \n",
    "      різниці двох послідовних наближень не стане меншою заданої точності eps      \n",
    "      x0 -- початкове наближення \"\"\"\n",
    "    x_prev=x0.copy()  \n",
    "    k=1\n",
    "    x_new=np.matmul(b,x0)+d   \n",
    "    while norm_3(x_new-x_prev) > eps and k < max_iter:\n",
    "        k+=1\n",
    "        x_prev=x_new\n",
    "        x_new=np.matmul(b,x_prev)+d\n",
    "    return k, x_new"
   ]
  },
  {
   "cell_type": "markdown",
   "metadata": {
    "id": "ocZR4xN_cvNf",
    "tags": []
   },
   "source": [
    ">#### ``simple_iteration_solver`` -- функція, яка організовує обчислення чисельного розв'язку СЛАР (1) методом простої ітерації при виконанні достатньої умови збіжності (4)\n",
    "\n",
    "-------------------\n",
    "*   На початку формується матриця СЛАР (1)\n",
    "*   Якщо виконується достатня умова збіжності (4), то буде задано вектор вільних членів СЛАР і початкове наближення  розв'язку. Після цього обчислюється чисельний розв'язок, який функція повертає як елемент кортежу. У цьому випадку перший елемент цього кортежу матиме значення кількості виконаних ітерацій.  \n",
    "*   Якщо умова (4) не виконується, то першим елементом кортежу є число 0. \n",
    "    \n",
    "\n"
   ]
  },
  {
   "cell_type": "code",
   "execution_count": 4,
   "metadata": {},
   "outputs": [],
   "source": [
    "def simple_iteration_solver(set_matrix, set_vector,set_x0, eps, max_iter):\n",
    "    \"\"\" Розв'язування СЛАР методом простих ітерацій \"\"\"      \n",
    "    b=set_matrix()  \n",
    "    k=0\n",
    "    if norm_1(b)<1 or norm_2(b)<1 :\n",
    "        d=set_vector()\n",
    "        x0=set_x0()\n",
    "        k, x=simple_iteration(b,d,x0,eps,max_iter)\n",
    "        return k, x\n",
    "    else:\n",
    "        return k, b \n",
    "    "
   ]
  },
  {
   "cell_type": "markdown",
   "metadata": {
    "id": "JML_Qdgo363W",
    "tags": []
   },
   "source": [
    ">#### Функції для задання матриці та векторів вільних членів та початкового наближення конкретних СЛАР\n",
    "*   ``set_matrix`` - функція, яка задає і повертає як результат матрицю СЛАР\n",
    "*   ``set_vector`` - функція, яка задає і повертає як результат вектор вільних членів \n",
    "*   ``set_x0`` - функція, яка задає і повертає як результат вектор початкового наближення\n",
    "*   виконати відповідну комірку з визначеннм цих функцій кожного разу, коли матрицю або вектор змінюють "
   ]
  },
  {
   "cell_type": "markdown",
   "metadata": {
    "tags": []
   },
   "source": [
    "#### Обчислювальні експерименти\n",
    "------------"
   ]
  },
  {
   "cell_type": "markdown",
   "metadata": {
    "tags": []
   },
   "source": [
    "Продемонструємо на прикладах застосування методу простої ітерації до розв'язування СЛАР."
   ]
  },
  {
   "cell_type": "markdown",
   "metadata": {
    "tags": []
   },
   "source": [
    "**Приклад 1.** (приклад 2.4) Обчислити методом простої ітерації розв'язок СЛАР\n",
    "\\begin{equation}\\label{2.2.2}\n",
    "\\left\\{\\begin{array}{rcl}\n",
    " \\quad x_1 + 0.1 x_2 + 0.2 x_3 & = 1.8 \\\\\n",
    "0.2 x_1 + x_2 - 0.2 x_3  & = 1.6 \\\\\n",
    "0.1 x_1 - 0.2 x_2 + x_3  & = 2.7\\,\n",
    "\\end{array} \\right. \n",
    "\\end{equation}"
   ]
  },
  {
   "cell_type": "markdown",
   "metadata": {},
   "source": [
    "Легко переконатися, що вектор  $x=(1,2,3)^\\top$ є точним розв'язком цієї системи, збережемо це значення:"
   ]
  },
  {
   "cell_type": "code",
   "execution_count": 5,
   "metadata": {},
   "outputs": [],
   "source": [
    "x=np.array([[1], [2], [3]])"
   ]
  },
  {
   "cell_type": "markdown",
   "metadata": {},
   "source": [
    "Задана СЛАР приводиться до вигляду (1), де матриця $B$ має вигляд\n",
    "\n",
    "$$\n",
    "B=\n",
    "\\left(\\begin{matrix}\n",
    " 0 & -0,1 & -0,2\\\\\n",
    " -0,2 & 0 & 0,2\\\\\n",
    " -0,1 & 0,2 & 0\n",
    "\\end{matrix}\\right).\n",
    "$$"
   ]
  },
  {
   "cell_type": "markdown",
   "metadata": {},
   "source": [
    "Підготуємо функцію, яка задаватиме цю матрицю:"
   ]
  },
  {
   "cell_type": "code",
   "execution_count": 6,
   "metadata": {
    "id": "IdDn2xvxQF1n",
    "tags": []
   },
   "outputs": [],
   "source": [
    "def set_matrix():\n",
    "    \"\"\" функція для задання матриці конкретної СЛАР\"\"\"\n",
    "    return np.array([[0, -0.1, -0.2],[-0.2,0,0.2],[-0.1,0.2,0]])"
   ]
  },
  {
   "cell_type": "markdown",
   "metadata": {},
   "source": [
    "Можемо переконатися, що матриця $B$ задовольняє нерівність (5) за обома нормами:"
   ]
  },
  {
   "cell_type": "code",
   "execution_count": 32,
   "metadata": {},
   "outputs": [
    {
     "name": "stdout",
     "output_type": "stream",
     "text": [
      "Норми матриці В: 0.4, 0.4\n"
     ]
    }
   ],
   "source": [
    "print(f\"Норми матриці В: {norm_1(set_matrix())}, {norm_2(set_matrix())}\")"
   ]
  },
  {
   "cell_type": "markdown",
   "metadata": {},
   "source": [
    "Отож, ітераційний процес буде збіжний. "
   ]
  },
  {
   "cell_type": "markdown",
   "metadata": {},
   "source": [
    "Визначимо функції, які повертатимуть  вектор $d$ і вектор початкового наближення $x^0$, беручи $x^0 = d$:"
   ]
  },
  {
   "cell_type": "code",
   "execution_count": 7,
   "metadata": {
    "id": "ZpgpDhlWQF1o"
   },
   "outputs": [],
   "source": [
    "def set_vector():\n",
    "    \"\"\" функція для задання вектора вільних членів конкретної СЛАР\"\"\"\n",
    "    return np.array([[1.8], [1.6], [2.7]])"
   ]
  },
  {
   "cell_type": "code",
   "execution_count": 8,
   "metadata": {
    "id": "ZpgpDhlWQF1o",
    "tags": []
   },
   "outputs": [],
   "source": [
    "def set_x0():\n",
    "    \"\"\" функція для задання вектора початкового наближення розв'язку\"\"\"\n",
    "    return set_vector()"
   ]
  },
  {
   "cell_type": "markdown",
   "metadata": {},
   "source": [
    "Задамо тепер значення параметрів допустимої похибки чисельного розв'язку $eps$ "
   ]
  },
  {
   "cell_type": "code",
   "execution_count": 9,
   "metadata": {},
   "outputs": [],
   "source": [
    "eps=0.001"
   ]
  },
  {
   "cell_type": "markdown",
   "metadata": {},
   "source": [
    "та максимального числа ітерацій $max\\_iter$"
   ]
  },
  {
   "cell_type": "code",
   "execution_count": 10,
   "metadata": {},
   "outputs": [],
   "source": [
    "max_iter=100"
   ]
  },
  {
   "cell_type": "markdown",
   "metadata": {},
   "source": [
    "Тепер знаходимо чисельний розв'язок"
   ]
  },
  {
   "cell_type": "code",
   "execution_count": 11,
   "metadata": {},
   "outputs": [
    {
     "name": "stdout",
     "output_type": "stream",
     "text": [
      "Чисельний розв'язок системи \n",
      " x=[[1.0001988 ]\n",
      " [1.99975656]\n",
      " [2.99979648]] \n",
      " обчислено за 7 ітерацій\n",
      "похибка чисельного розв'язку 0.00037443939963607115.\n"
     ]
    }
   ],
   "source": [
    "k, xk=simple_iteration_solver(set_matrix, set_vector, set_x0, eps, max_iter)\n",
    "\n",
    "if k > 0 and k < max_iter:\n",
    "    print(f\"Чисельний розв'язок системи \\n x={xk} \\n обчислено за {k} ітерацій\")\n",
    "    print(f\"похибка чисельного розв'язку {norm_3(xk-x)}.\")\n",
    "elif  k == max_iter : \n",
    "    print(f\"Чисельний розв'язок системи не обчислено за {k} ітерацій\")\n",
    "else:\n",
    "    print(\"Матриця СЛАР (1) не задовольняє достатню умову збіжності ітерацій\")"
   ]
  },
  {
   "cell_type": "markdown",
   "metadata": {},
   "source": [
    "Бачимо, що чисельний розв'язок $x^7$ близький до точного за евклідовою нормою.\n",
    "Поекспериментуємо з розв'язуванням, змінюючи значення параметра $eps$ : "
   ]
  },
  {
   "cell_type": "code",
   "execution_count": 30,
   "metadata": {},
   "outputs": [
    {
     "name": "stdout",
     "output_type": "stream",
     "text": [
      "Чисельний розв'язок системи \n",
      " x=[[0.99999847]\n",
      " [2.00000188]\n",
      " [3.00000159]] \n",
      " обчислено за 13 ітерацій\n",
      "похибка чисельного розв'язку 3.063853949051739e-06.\n"
     ]
    }
   ],
   "source": [
    "eps=0.00001\n",
    "k, xk=simple_iteration_solver(set_matrix, set_vector, set_x0, eps, max_iter)\n",
    "\n",
    "if k > 0 and k < max_iter:\n",
    "    print(f\"Чисельний розв'язок системи \\n x={xk} \\n обчислено за {k} ітерацій\")\n",
    "    print(f\"похибка чисельного розв'язку {norm_3(xk-x)}.\")\n",
    "elif  k == max_iter : \n",
    "    print(f\"Чисельний розв'язок системи не обчислено за {k} ітерацій\")\n",
    "else:\n",
    "    print(\"Матриця СЛАР (1) не задовольняє достатню умову збіжності ітерацій\")"
   ]
  },
  {
   "cell_type": "code",
   "execution_count": 21,
   "metadata": {},
   "outputs": [
    {
     "name": "stdout",
     "output_type": "stream",
     "text": [
      "Чисельний розв'язок системи \n",
      " x=[[1.00000009]\n",
      " [1.99999989]\n",
      " [2.99999991]] \n",
      " обчислено за 14 ітерацій\n",
      "похибка чисельного розв'язку 0.0.\n"
     ]
    }
   ],
   "source": [
    "eps=0.000001\n",
    "k, xk=simple_iteration_solver(set_matrix, set_vector, set_x0, eps, max_iter)\n",
    "\n",
    "if k > 0 and k < max_iter:\n",
    "    print(f\"Чисельний розв'язок системи \\n x={xk} \\n обчислено за {k} ітерацій\")\n",
    "    print(f\"похибка чисельного розв'язку {norm_3(xk-x)}.\")\n",
    "elif  k == max_iter : \n",
    "    print(f\"Чисельний розв'язок системи не обчислено за {k} ітерацій\")\n",
    "else:\n",
    "    print(\"Матриця СЛАР (1) не задовольняє достатню умову збіжності ітерацій\")"
   ]
  },
  {
   "cell_type": "code",
   "execution_count": null,
   "metadata": {},
   "outputs": [],
   "source": [
    "Розглянемо тепер чисельні розв'язки СЛАР при різних початкових наближеннях. "
   ]
  },
  {
   "cell_type": "code",
   "execution_count": 33,
   "metadata": {
    "id": "ZpgpDhlWQF1o",
    "tags": []
   },
   "outputs": [],
   "source": [
    "def set_x0():\n",
    "    \"\"\" функція для задання вектора початкового наближення розв'язку\"\"\"\n",
    "    return np.array([[10 ], [10], [11]])"
   ]
  },
  {
   "cell_type": "code",
   "execution_count": 34,
   "metadata": {},
   "outputs": [
    {
     "name": "stdout",
     "output_type": "stream",
     "text": [
      "Чисельний розв'язок системи \n",
      " x=[[0.99999983]\n",
      " [2.00000021]\n",
      " [3.00000018]] \n",
      " обчислено за 15 ітерацій\n",
      "похибка чисельного розв'язку 4.850158884211414e-07.\n"
     ]
    }
   ],
   "source": [
    "eps=0.000001\n",
    "k, xk=simple_iteration_solver(set_matrix, set_vector, set_x0, eps, max_iter)\n",
    "\n",
    "if k > 0 and k < max_iter:\n",
    "    print(f\"Чисельний розв'язок системи \\n x={xk} \\n обчислено за {k} ітерацій\")\n",
    "    print(f\"похибка чисельного розв'язку {norm_3(xk-x)}.\")\n",
    "elif  k == max_iter : \n",
    "    print(f\"Чисельний розв'язок системи не обчислено за {k} ітерацій\")\n",
    "else:\n",
    "    print(\"Матриця СЛАР (1) не задовольняє достатню умову збіжності ітерацій\")"
   ]
  },
  {
   "cell_type": "code",
   "execution_count": 35,
   "metadata": {
    "id": "ZpgpDhlWQF1o",
    "tags": []
   },
   "outputs": [],
   "source": [
    "def set_x0():\n",
    "    \"\"\" функція для задання вектора початкового наближення розв'язку\"\"\"\n",
    "    return np.array([[0 ], [1], [0]])"
   ]
  },
  {
   "cell_type": "code",
   "execution_count": 36,
   "metadata": {},
   "outputs": [
    {
     "name": "stdout",
     "output_type": "stream",
     "text": [
      "Чисельний розв'язок системи \n",
      " x=[[1.00000021]\n",
      " [1.99999975]\n",
      " [2.99999979]] \n",
      " обчислено за 14 ітерацій\n",
      "похибка чисельного розв'язку 2.2485513311112248e-07.\n"
     ]
    }
   ],
   "source": [
    "eps=0.000001\n",
    "k, xk=simple_iteration_solver(set_matrix, set_vector, set_x0, eps, max_iter)\n",
    "\n",
    "if k > 0 and k < max_iter:\n",
    "    print(f\"Чисельний розв'язок системи \\n x={xk} \\n обчислено за {k} ітерацій\")\n",
    "    print(f\"похибка чисельного розв'язку {norm_3(xk-x)}.\")\n",
    "elif  k == max_iter : \n",
    "    print(f\"Чисельний розв'язок системи не обчислено за {k} ітерацій\")\n",
    "else:\n",
    "    print(\"Матриця СЛАР (1) не задовольняє достатню умову збіжності ітерацій\")"
   ]
  },
  {
   "cell_type": "code",
   "execution_count": 39,
   "metadata": {
    "id": "ZpgpDhlWQF1o",
    "tags": []
   },
   "outputs": [],
   "source": [
    "def set_x0():\n",
    "    \"\"\" функція для задання вектора початкового наближення розв'язку\"\"\"\n",
    "    return np.array([[-1 ], [-100], [11]])"
   ]
  },
  {
   "cell_type": "code",
   "execution_count": 40,
   "metadata": {},
   "outputs": [
    {
     "name": "stdout",
     "output_type": "stream",
     "text": [
      "Чисельний розв'язок системи \n",
      " x=[[1.00000019]\n",
      " [1.99999977]\n",
      " [2.9999998 ]] \n",
      " обчислено за 17 ітерацій\n",
      "похибка чисельного розв'язку 1.95478385736245e-07.\n"
     ]
    }
   ],
   "source": [
    "eps=0.000001\n",
    "k, xk=simple_iteration_solver(set_matrix, set_vector, set_x0, eps, max_iter)\n",
    "\n",
    "if k > 0 and k < max_iter:\n",
    "    print(f\"Чисельний розв'язок системи \\n x={xk} \\n обчислено за {k} ітерацій\")\n",
    "    print(f\"похибка чисельного розв'язку {norm_3(xk-x)}.\")\n",
    "elif  k == max_iter : \n",
    "    print(f\"Чисельний розв'язок системи не обчислено за {k} ітерацій\")\n",
    "else:\n",
    "    print(\"Матриця СЛАР (1) не задовольняє достатню умову збіжності ітерацій\")"
   ]
  },
  {
   "cell_type": "markdown",
   "metadata": {},
   "source": [
    "Як бачимо, для даної СЛАР збіжність методу при різних початкових наближеннях практично не відрізняється."
   ]
  }
 ],
 "metadata": {
  "anaconda-cloud": {},
  "colab": {
   "name": "oom_2_2_1_simple_iteration.ipynb",
   "private_outputs": true,
   "provenance": []
  },
  "kernelspec": {
   "display_name": "Python 3 (ipykernel)",
   "language": "python",
   "name": "python3"
  },
  "language_info": {
   "codemirror_mode": {
    "name": "ipython",
    "version": 3
   },
   "file_extension": ".py",
   "mimetype": "text/x-python",
   "name": "python",
   "nbconvert_exporter": "python",
   "pygments_lexer": "ipython3",
   "version": "3.9.7"
  }
 },
 "nbformat": 4,
 "nbformat_minor": 4
}
