{
 "cells": [
  {
   "cell_type": "markdown",
   "metadata": {
    "id": "uDSAycn9QF1Y"
   },
   "source": [
    "# 2.2 Знаходження власних значень і власних векторів  матриць\n",
    "---------------------"
   ]
  },
  {
   "cell_type": "markdown",
   "metadata": {
    "id": "elD_lWBKQF1j"
   },
   "source": [
    "Нехай $A\\in \\mathbb{M}_n(\\mathbb{C})$ -- яка-небудь матриця. Число $\\lambda$ називається\n",
    "*власним значенням* матриці $A$, якщо існує ненульовий вектор $v\\in \\mathbb{C}^n$ такий, що\n",
    "виконується рівність\n",
    "\n",
    "$(1)\\qquad\\qquad\\qquad \n",
    "Av=\\lambda v.$\n",
    "\n",
    "Згаданий вектор $v$ називається *власним вектором*, який відповідає власному значенню $\\lambda$.\n",
    "\n",
    "Відшукання власних значень і власних векторів матриці $A$\n",
    "зводиться до знаходження таких\n",
    "значень $\\lambda$, за яких система лінійних алгебраїчних рівнянь\n",
    "\n",
    "$(2)\\qquad\\qquad\\qquad \n",
    " \\bigl(A-\\lambda I\\bigr)v=0$\n",
    "\n",
    "має ненульові розв'язки (тут $I$ --- одинична матриця, $0$ --- нульовий вектор).\n",
    "\n",
    "Це означає, що власні значення матриці $A$ є розв'язками рівняння\n",
    "\n",
    "$(3)\\qquad\\qquad\\qquad \n",
    "\\text{det}\\bigl(A-\\lambda I\\bigr)=0.$\n",
    "\n",
    "Для знаходження власних значень і власних векторів матриць можна використати бібліотечну функцію "
   ]
  },
  {
   "cell_type": "markdown",
   "metadata": {
    "id": "C56etMUzw6qS",
    "tags": []
   },
   "source": [
    "#### Пояснення до використання програмного коду\n",
    "-----------------"
   ]
  },
  {
   "cell_type": "markdown",
   "metadata": {
    "id": "C56etMUzw6qS"
   },
   "source": [
    "*   Підготувати потрібну функцію ``linalg.eig``: \n",
    "    1.   виконати комірку з імпортом ``NumPy`` і ``SciPy``\n",
    "   \n",
    "*   Підготувати  функцію, яка задає конкретну матрицю \n",
    "    1.   виконати комірку з визначеннями функції ``set_matrix`` \n",
    "\n",
    "*   Виконати комірку з викликом функції ``linalg.eig``"
   ]
  },
  {
   "cell_type": "code",
   "execution_count": null,
   "metadata": {
    "tags": []
   },
   "outputs": [],
   "source": [
    "import numpy as np\n",
    "from scipy import linalg"
   ]
  },
  {
   "cell_type": "markdown",
   "metadata": {},
   "source": [
    ">#### Функція для підготовки матриці\n",
    "---------------"
   ]
  },
  {
   "cell_type": "code",
   "execution_count": null,
   "metadata": {
    "id": "IdDn2xvxQF1n"
   },
   "outputs": [],
   "source": [
    "def set_matrix():\n",
    "    \"\"\" функція для задання конкретної матриці  \"\"\"\n",
    "    return np.array([[ 0.   ,  -0.1  ,  -0.2  ], [ 0.   , 0.02 , 0.24 ], [ 0.   , 0.014, 0.068]],dtype=float)"
   ]
  },
  {
   "cell_type": "markdown",
   "metadata": {
    "id": "ocZR4xN_cvNf",
    "tags": []
   },
   "source": [
    ">#### Обчислення власних чисел і векторів матриці\n",
    "\n",
    "-------------------"
   ]
  },
  {
   "cell_type": "code",
   "execution_count": null,
   "metadata": {},
   "outputs": [],
   "source": [
    "a=set_matrix()"
   ]
  },
  {
   "cell_type": "code",
   "execution_count": null,
   "metadata": {
    "tags": []
   },
   "outputs": [],
   "source": [
    "lmbds, vs = linalg.eig(a)"
   ]
  },
  {
   "cell_type": "code",
   "execution_count": null,
   "metadata": {},
   "outputs": [],
   "source": [
    "print(f'eigenvalues: \\n{lmbds} ')   "
   ]
  },
  {
   "cell_type": "code",
   "execution_count": null,
   "metadata": {},
   "outputs": [],
   "source": [
    "print(f'eigenvectors: \\n{vs} ')   "
   ]
  },
  {
   "cell_type": "code",
   "execution_count": null,
   "metadata": {},
   "outputs": [],
   "source": []
  }
 ],
 "metadata": {
  "anaconda-cloud": {},
  "colab": {
   "name": "oom_2_2_1_simple_iteration.ipynb",
   "private_outputs": true,
   "provenance": []
  },
  "kernelspec": {
   "display_name": "Python 3 (ipykernel)",
   "language": "python",
   "name": "python3"
  },
  "language_info": {
   "codemirror_mode": {
    "name": "ipython",
    "version": 3
   },
   "file_extension": ".py",
   "mimetype": "text/x-python",
   "name": "python",
   "nbconvert_exporter": "python",
   "pygments_lexer": "ipython3",
   "version": "3.9.7"
  }
 },
 "nbformat": 4,
 "nbformat_minor": 4
}
