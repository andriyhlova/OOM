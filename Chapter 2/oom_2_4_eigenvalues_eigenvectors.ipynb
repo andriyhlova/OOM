{
 "cells": [
  {
   "cell_type": "markdown",
   "metadata": {
    "id": "uDSAycn9QF1Y"
   },
   "source": [
    "# 2.2 Знаходження власних значень і власних векторів  матриць\n",
    "---------------------"
   ]
  },
  {
   "cell_type": "markdown",
   "metadata": {
    "id": "elD_lWBKQF1j"
   },
   "source": [
    "Нехай $A\\in \\mathbb{R}^n(\\mathbb{C})$ -- яка-небудь матриця. Число $\\lambda$ називається\n",
    "*власним значенням* матриці $A$, якщо існує ненульовий вектор $v\\in \\mathbb{C}^n$ такий, що\n",
    "виконується рівність\n",
    "\n",
    "$(1)\\qquad\\qquad\\qquad \n",
    "Av=\\lambda v.$\n",
    "\n",
    "Тоді вектор $v$ називається *власним вектором*, який відповідає власному значенню $\\lambda$.\n",
    "\n",
    "Для знаходження власних значень і власних векторів матриць можна використати бібліотечну функцію ``eig``, яка належить модулю ``linalg``, що є частиною бібліотеки ``scipy``. \n",
    "\n",
    "Першим аргументом функції ``eig`` є матриця. Якщо решту аргументів прийняти за замовчуванням, то результатом виконання цієї функції є два ``numpy.ndarray`` масиви:\n",
    "        - вектор, елементами якого є власні числа, \n",
    "        - матриця, стовпцями якої є власні вектори, впорядковані за порядком відповідних власних значень у попередньому векторі. "
   ]
  },
  {
   "cell_type": "markdown",
   "metadata": {
    "id": "C56etMUzw6qS",
    "tags": []
   },
   "source": [
    "#### Пояснення до використання програмного коду\n",
    "-----------------"
   ]
  },
  {
   "cell_type": "markdown",
   "metadata": {
    "id": "C56etMUzw6qS"
   },
   "source": [
    "*   Підготувати обчислювальне середовище і потрібні функції :\n",
    "    1. виконати комірку для підготовки середовища, зокрема імпортувати модуль ``linalg``\n",
    "    2. виконати комірку, де **визначена** функція ``eigenvalue_problem_solver``\n",
    "   \n",
    "*   Обчислити власні числа і власні вектори заданої СЛАР :\n",
    "    1. виконати комірку, де визначена функція ``set_matrix`` \n",
    "    2. Виконати комірку з викликом функції  ``eigenvalue_problem_solver`` \n"
   ]
  },
  {
   "cell_type": "markdown",
   "metadata": {
    "tags": []
   },
   "source": [
    "#### Програмна реалізація методів\n",
    "------------"
   ]
  },
  {
   "cell_type": "markdown",
   "metadata": {
    "tags": []
   },
   "source": [
    ">#### Підготовка середовища"
   ]
  },
  {
   "cell_type": "code",
   "execution_count": 1,
   "metadata": {
    "tags": []
   },
   "outputs": [],
   "source": [
    "import numpy as np\n",
    "from scipy import linalg"
   ]
  },
  {
   "cell_type": "markdown",
   "metadata": {},
   "source": [
    ">#### ``eigenvalue_problem_solver`` -- функція, яка визначає процес обчислення власних значень та векторів матриці за допомогою ``linalg.eig``"
   ]
  },
  {
   "cell_type": "code",
   "execution_count": 2,
   "metadata": {
    "id": "IdDn2xvxQF1n"
   },
   "outputs": [],
   "source": [
    "def eigenvalue_problem_solver(n, matrix):\n",
    "    \"\"\" функція для задання конкретної матриці  \"\"\"\n",
    "    eig_values, eig_vectors = linalg.eig(matrix(n))\n",
    "    return eig_values, eig_vectors.T"
   ]
  },
  {
   "cell_type": "markdown",
   "metadata": {},
   "source": [
    ">#### ``residual_calc`` -- функція для обчислення нев'язки $residual := A v - \\lambda v$  після пістановки власних значень та відповідних власних векторів матриці у рівняння (1)"
   ]
  },
  {
   "cell_type": "code",
   "execution_count": 3,
   "metadata": {},
   "outputs": [],
   "source": [
    "def residual_calc(matrix,eig_values,eig_vector):\n",
    "    for i in range(matrix.shape[0]):\n",
    "        residual = linalg.norm(matrix.dot(eig_vector[i,:]) - eig_values[i]*eig_vector[i,:])\n",
    "        print(f\"i={i}, residual={residual}\")"
   ]
  },
  {
   "cell_type": "markdown",
   "metadata": {
    "tags": []
   },
   "source": [
    "#### Обчислювальні експерименти\n",
    "------------"
   ]
  },
  {
   "cell_type": "markdown",
   "metadata": {
    "tags": []
   },
   "source": [
    "Продемонструємо на прикладах застосування функції ``linalg.eig`` для обчислення власних значень та векторів квадратних матриць."
   ]
  },
  {
   "cell_type": "markdown",
   "metadata": {
    "tags": []
   },
   "source": [
    "**Приклад 1.** (example 5.3) Обчислити власні значення та вектори матриці\n",
    "$\\qquad\n",
    "A=\n",
    "\\begin{pmatrix}\n",
    "15 & -2 &  2 \\\\\n",
    "1  & 10 & -3 \\\\\n",
    "-2 &  1 & 0\n",
    "\\end{pmatrix}\n",
    "$."
   ]
  },
  {
   "cell_type": "markdown",
   "metadata": {},
   "source": [
    "Визначимо функцію для задання матриці"
   ]
  },
  {
   "cell_type": "code",
   "execution_count": 4,
   "metadata": {
    "id": "IdDn2xvxQF1n"
   },
   "outputs": [],
   "source": [
    "def set_matrix(n):\n",
    "    \"\"\" функція для задання конкретної матриці  \"\"\"\n",
    "    return np.array([[15,  - 2,  2], [ 1,  10 , -3], [ -2, 1, 0]],dtype=float)"
   ]
  },
  {
   "cell_type": "code",
   "execution_count": 5,
   "metadata": {
    "tags": []
   },
   "outputs": [
    {
     "data": {
      "text/plain": [
       "array([[-0.08811726,  0.30873868,  0.94705637],\n",
       "       [-0.94359219, -0.31169403,  0.11171665],\n",
       "       [ 0.39292879,  0.91947889,  0.01286632]])"
      ]
     },
     "execution_count": 5,
     "metadata": {},
     "output_type": "execute_result"
    }
   ],
   "source": [
    "lmbds, vs = eigenvalue_problem_solver(3,set_matrix)\n",
    "vs"
   ]
  },
  {
   "cell_type": "code",
   "execution_count": 6,
   "metadata": {},
   "outputs": [
    {
     "name": "stdout",
     "output_type": "stream",
     "text": [
      "Власні числа: \n",
      "[ 0.51208483+0.j 14.10255576+0.j 10.38535941+0.j] \n"
     ]
    }
   ],
   "source": [
    "print(f'Власні числа: \\n{lmbds} ')   "
   ]
  },
  {
   "cell_type": "code",
   "execution_count": 7,
   "metadata": {},
   "outputs": [
    {
     "name": "stdout",
     "output_type": "stream",
     "text": [
      "Власні вектори: \n",
      "[[-0.08811726  0.30873868  0.94705637]\n",
      " [-0.94359219 -0.31169403  0.11171665]\n",
      " [ 0.39292879  0.91947889  0.01286632]] \n"
     ]
    }
   ],
   "source": [
    "print(f'Власні вектори: \\n{vs} ')   "
   ]
  },
  {
   "cell_type": "markdown",
   "metadata": {},
   "source": [
    "Переконаємося, що для кожного з отриманих власних значень і відповідних власних векторів нев'язка буде малою:"
   ]
  },
  {
   "cell_type": "code",
   "execution_count": 8,
   "metadata": {},
   "outputs": [
    {
     "name": "stdout",
     "output_type": "stream",
     "text": [
      "i=0, residual=1.5207579772826452e-15\n",
      "i=1, residual=2.5219419200973697e-15\n",
      "i=2, residual=3.5658083926151344e-15\n"
     ]
    }
   ],
   "source": [
    "residual_calc(set_matrix(3),lmbds,vs)"
   ]
  },
  {
   "cell_type": "markdown",
   "metadata": {
    "tags": []
   },
   "source": [
    "**Приклад 2.** Обчислити власні значення та вектори матриці Гільберта різних розмірів (див.приклади розв'язування методом Гаусса)."
   ]
  },
  {
   "cell_type": "markdown",
   "metadata": {
    "tags": []
   },
   "source": [
    "Визначимо функцію, яка генеруватиме матрицю Гільберта:"
   ]
  },
  {
   "cell_type": "code",
   "execution_count": 9,
   "metadata": {
    "id": "IdDn2xvxQF1n",
    "tags": []
   },
   "outputs": [],
   "source": [
    "def H_matrix(n):\n",
    "    \"\"\" функція для задання матриці Гільберта\"\"\"   \n",
    "    a = np.empty((n,n),dtype=float)\n",
    "    for i in range(n):\n",
    "        for j in range(n):\n",
    "            a[i,j] = 1/(i+j+1) \n",
    "    return a"
   ]
  },
  {
   "cell_type": "markdown",
   "metadata": {
    "tags": []
   },
   "source": [
    "Обчислимо власні значення та вектори матриці Гільберта для різних значень ``n``."
   ]
  },
  {
   "cell_type": "code",
   "execution_count": 10,
   "metadata": {
    "tags": []
   },
   "outputs": [],
   "source": [
    "n=3\n",
    "Hvals, Hvects = eigenvalue_problem_solver(n,H_matrix)"
   ]
  },
  {
   "cell_type": "code",
   "execution_count": 11,
   "metadata": {},
   "outputs": [
    {
     "name": "stdout",
     "output_type": "stream",
     "text": [
      "Власні числа: \n",
      "[1.40831893+0.j 0.12232707+0.j 0.00268734+0.j] \n"
     ]
    }
   ],
   "source": [
    "print(f'Власні числа: \\n{Hvals} ')   "
   ]
  },
  {
   "cell_type": "code",
   "execution_count": 12,
   "metadata": {},
   "outputs": [
    {
     "name": "stdout",
     "output_type": "stream",
     "text": [
      "Власні вектори: \n",
      "[[ 0.82704493  0.4598639   0.32329844]\n",
      " [ 0.54744843 -0.52829024 -0.64900666]\n",
      " [ 0.12765933 -0.71374689  0.68867153]] \n"
     ]
    }
   ],
   "source": [
    "print(f'Власні вектори: \\n{Hvects} ')   "
   ]
  },
  {
   "cell_type": "code",
   "execution_count": 13,
   "metadata": {
    "tags": []
   },
   "outputs": [],
   "source": [
    "n=5\n",
    "Hvals, Hvects = eigenvalue_problem_solver(n,H_matrix)"
   ]
  },
  {
   "cell_type": "code",
   "execution_count": 14,
   "metadata": {},
   "outputs": [
    {
     "name": "stdout",
     "output_type": "stream",
     "text": [
      "Власні числа: \n",
      "[1.56705069e+00+0.j 2.08534219e-01+0.j 1.14074916e-02+0.j\n",
      " 3.05898040e-04+0.j 3.28792877e-06+0.j] \n"
     ]
    }
   ],
   "source": [
    "print(f'Власні числа: \\n{Hvals} ')   "
   ]
  },
  {
   "cell_type": "code",
   "execution_count": 15,
   "metadata": {},
   "outputs": [
    {
     "name": "stdout",
     "output_type": "stream",
     "text": [
      "Власні вектори: \n",
      "[[-0.76785474 -0.44579106 -0.32157829 -0.25343894 -0.20982264]\n",
      " [-0.60187148  0.27591342  0.42487662  0.44390304  0.42901335]\n",
      " [-0.21421362  0.72410213  0.12045328 -0.30957397 -0.56519341]\n",
      " [-0.04716181  0.43266733 -0.66735044 -0.23302452  0.55759995]\n",
      " [ 0.00617386 -0.11669275  0.50616366 -0.76719119  0.37624555]] \n"
     ]
    }
   ],
   "source": [
    "print(f'Власні вектори: \\n{Hvects} ')   "
   ]
  },
  {
   "cell_type": "code",
   "execution_count": 16,
   "metadata": {
    "tags": []
   },
   "outputs": [],
   "source": [
    "n=10\n",
    "Hvals, Hvects = eigenvalue_problem_solver(n,H_matrix)"
   ]
  },
  {
   "cell_type": "code",
   "execution_count": 17,
   "metadata": {},
   "outputs": [
    {
     "name": "stdout",
     "output_type": "stream",
     "text": [
      "Власні числа: \n",
      "[1.75191967e+00+0.j 3.42929548e-01+0.j 3.57418163e-02+0.j\n",
      " 2.53089077e-03+0.j 1.28749614e-04+0.j 4.72968929e-06+0.j\n",
      " 1.22896774e-07+0.j 2.14743882e-09+0.j 2.26674554e-11+0.j\n",
      " 1.09322786e-13+0.j] \n"
     ]
    }
   ],
   "source": [
    "print(f'Власні числа: \\n{Hvals} ')   "
   ]
  },
  {
   "cell_type": "code",
   "execution_count": 18,
   "metadata": {},
   "outputs": [
    {
     "name": "stdout",
     "output_type": "stream",
     "text": [
      "Власні вектори: \n",
      "[[ 6.99514891e-01  4.25998913e-01  3.16976988e-01  2.55523006e-01\n",
      "   2.15277840e-01  1.86578238e-01  1.64946526e-01  1.47992143e-01\n",
      "   1.34310446e-01  1.23016713e-01]\n",
      " [ 6.37640842e-01 -7.04371051e-02 -2.33556605e-01 -2.82108835e-01\n",
      "  -2.93657165e-01 -2.90981823e-01 -2.82497991e-01 -2.71744237e-01\n",
      "  -2.60323765e-01 -2.48988410e-01]\n",
      " [-3.03404206e-01  5.99560151e-01  3.78571505e-01  1.44313674e-01\n",
      "  -2.74969528e-02 -1.46916578e-01 -2.29138818e-01 -2.85631577e-01\n",
      "  -3.24264002e-01 -3.50361227e-01]\n",
      " [ 1.05515795e-01 -5.76271783e-01  2.01933680e-01  4.12043529e-01\n",
      "   3.51322220e-01  1.95432922e-01  1.93990025e-02 -1.47212403e-01\n",
      "  -2.94208926e-01 -4.19514164e-01]\n",
      " [-2.93126764e-02  3.22879147e-01 -5.83114115e-01 -1.69552768e-01\n",
      "   2.29493333e-01  3.74836695e-01  3.09362024e-01  1.12143643e-01\n",
      "  -1.54211321e-01 -4.48204956e-01]\n",
      " [-6.67484774e-03  1.27505803e-01 -4.97391459e-01  4.10971927e-01\n",
      "   3.63294163e-01 -4.87344006e-02 -3.43217612e-01 -3.52928835e-01\n",
      "  -7.57666942e-02  4.30053664e-01]\n",
      " [ 1.24745611e-03 -3.76884259e-02  2.55155899e-01 -5.66480585e-01\n",
      "   2.25122887e-01  4.26343115e-01  2.94090306e-02 -3.71927497e-01\n",
      "  -3.26500431e-01  3.66506465e-01]\n",
      " [ 1.87818384e-04 -8.42526387e-03  8.88775676e-02 -3.56877238e-01\n",
      "   5.70640477e-01 -1.34051444e-01 -4.46875715e-01  6.15397744e-02\n",
      "   4.94713512e-01 -2.69891725e-01]\n",
      " [ 2.16832927e-05 -1.37869181e-03  2.12016008e-02 -1.33416320e-01\n",
      "   4.04674430e-01 -5.80924741e-01  2.13963522e-01  4.06588652e-01\n",
      "  -4.93025119e-01  1.62312164e-01]\n",
      " [-1.67403199e-06  1.45567590e-04 -3.11587894e-03  2.84375525e-02\n",
      "  -1.36071415e-01  3.75033634e-01 -6.16652433e-01  5.97017611e-01\n",
      "  -3.13921546e-01  6.91298093e-02]] \n"
     ]
    }
   ],
   "source": [
    "print(f'Власні вектори: \\n{Hvects} ')   "
   ]
  },
  {
   "cell_type": "markdown",
   "metadata": {},
   "source": [
    "Можна переконатися, що для кожного з отриманих власних значень і відповідних власних векторів нев'язка буде малою. Наприклад, нев'язка для останнього результату буде такою:"
   ]
  },
  {
   "cell_type": "code",
   "execution_count": 19,
   "metadata": {},
   "outputs": [
    {
     "name": "stdout",
     "output_type": "stream",
     "text": [
      "i=0, residual=1.0448048107080504e-15\n",
      "i=1, residual=5.114581455958995e-16\n",
      "i=2, residual=2.262086438359439e-16\n",
      "i=3, residual=1.8628763940619207e-16\n",
      "i=4, residual=1.0494865757486728e-16\n",
      "i=5, residual=3.245010027011731e-16\n",
      "i=6, residual=1.162316126507303e-16\n",
      "i=7, residual=4.8236658328790986e-17\n",
      "i=8, residual=5.4402650311295894e-17\n",
      "i=9, residual=3.055098308349397e-17\n"
     ]
    }
   ],
   "source": [
    "residual_calc(H_matrix(10),Hvals,Hvects)"
   ]
  },
  {
   "cell_type": "markdown",
   "metadata": {},
   "source": [
    "На завершення ще розглянемо число обумовленості розглянутих матриць, яке обчислюють за формулою $K(A):=\\frac{|\\lambda_{max}|}{|\\lambda_{min}|}$, де $\\lambda_{max}$ і $\\lambda_{min}$ -- максимальне і мінімальне за абсолютною величиною власні значення матриці $A$. Матимемо $K(A_3)\\approx 5\\times 10^2$, $K(A_5)\\approx 10^5$ і $K(A_{10})\\approx 10^{13}$ при розмірах $n=3$, $n=5$ і $n=10$ відповідно, що означає погану обумовленість матриць Гільберта вже при невеликих розмірах. Відомо, що чисельне розв'язування таких систем є проблематичним. "
   ]
  },
  {
   "cell_type": "markdown",
   "metadata": {},
   "source": [
    "Отож, приходимо до висновку, що за допомогою бібліотечної функції ``linalg.eig`` можна обчислювати власні значення і власні вектори матриць з великою точністю. При чисельному розв'язуванні СЛАР таким шляхом можна дослідити обумовленість відповідних матриць."
   ]
  },
  {
   "cell_type": "code",
   "execution_count": null,
   "metadata": {},
   "outputs": [],
   "source": []
  }
 ],
 "metadata": {
  "anaconda-cloud": {},
  "colab": {
   "name": "oom_2_2_1_simple_iteration.ipynb",
   "private_outputs": true,
   "provenance": []
  },
  "kernelspec": {
   "display_name": "Python 3 (ipykernel)",
   "language": "python",
   "name": "python3"
  },
  "language_info": {
   "codemirror_mode": {
    "name": "ipython",
    "version": 3
   },
   "file_extension": ".py",
   "mimetype": "text/x-python",
   "name": "python",
   "nbconvert_exporter": "python",
   "pygments_lexer": "ipython3",
   "version": "3.9.7"
  }
 },
 "nbformat": 4,
 "nbformat_minor": 4
}
