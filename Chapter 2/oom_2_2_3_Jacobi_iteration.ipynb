{
 "cells": [
  {
   "cell_type": "markdown",
   "metadata": {
    "id": "uDSAycn9QF1Y"
   },
   "source": [
    "# 2.2 Ітераційні методи розв'язування СЛАР\n",
    "---------------------"
   ]
  },
  {
   "cell_type": "markdown",
   "metadata": {
    "id": "TrvVaZ02QF1h"
   },
   "source": [
    "## 2.2.3.  Метод Якобі"
   ]
  },
  {
   "cell_type": "markdown",
   "metadata": {
    "id": "elD_lWBKQF1j"
   },
   "source": [
    "Нехай маємо СЛАР\n",
    "\n",
    "$(1)\\qquad\\qquad\\qquad A\\,x = b,$\n",
    "\n",
    "де  $x \\in \\mathbb{R}^{n}$  --- невідомий вектор, $n \\ge 2$ - довільне натуральне число,\n",
    "$A\\in \\mathbb{R}^{n\\times n},\\; b\\in \\mathbb{R}^{n}$ - задані квадратна матриця і вектор вільних членів відповідно:\n",
    "\n",
    "$(2)\\qquad\\qquad\n",
    "A=\n",
    "\\begin{pmatrix}\n",
    "a_{11} & a_{12} &\\ldots & a_{1n} \\\\\n",
    "a_{21} & a_{22} &\\ldots & a_{2n} \\\\\n",
    "\\ldots & \\ldots & \\ldots \\\\\n",
    "a_{n1} & a_{n2} &\\ldots & a_{nn}\n",
    "\\end{pmatrix},\\quad  \n",
    "b=\n",
    "\\begin{pmatrix}\n",
    "b_{1}\\\\\n",
    "b_{2}\\\\\n",
    "\\ldots  \\\\\n",
    "b_{n}\n",
    "\\end{pmatrix}.\n",
    "$\n",
    "\n",
    "Вважаємо, що $\\mathrm{det} A\\neq 0$, а також $a_{ii} \\neq 0, \\; i \\in \\overline {1, n}$.\n",
    "\n",
    "Позначимо\n",
    "\n",
    "$(3)\\qquad\\qquad B:=\n",
    "\\begin{pmatrix}\n",
    "0 & -\\frac{a_{12}}{a_{11}} &\\ldots & -\\frac{a_{1n}}{a_{11}} \\\\\n",
    "-\\frac{a_{21}}{a_{22}} & 0 &\\ldots & -\\frac{a_{2n}}{a_{22}} \\\\\n",
    "\\ldots & \\ldots & \\ldots \\\\\n",
    "-\\frac{a_{n1}}{a_{nn}} & -\\frac{a_{n2}}{a_{nn}} &\\ldots & 0\n",
    "\\end{pmatrix},\\quad  \n",
    "d=\n",
    "\\begin{pmatrix}\n",
    "\\frac{b_{1}}{a_{11}}\\\\\n",
    "\\frac{b_{2}}{a_{22}}\\\\\n",
    "\\ldots  \\\\\n",
    "\\frac{b_n}{a_{nn}}\n",
    "\\end{pmatrix}.$\n",
    "\n",
    "Метод *Якобі* полягає у заміні (1) еквівалентною  СЛАР\n",
    "\n",
    "$(4)\\qquad\\qquad x=Bx+d, $\n",
    "\n",
    "для якої будують ітераційний процес обчислення послідовності \n",
    "\n",
    "$\\qquad\\qquad x^0, x^1, \\ldots, x^k, \\ldots$\n",
    "\n",
    "наближень розв'язку системи за правилом:\n",
    "\n",
    "$(5)\\qquad\\qquad\\qquad\n",
    "x^{k+1}=B\\,x^k+d, \\quad k\\in \\mathbb{N}_0.\n",
    "$\n",
    "\n",
    "де $x^0 \\in \\mathbb{R}^n $--- початкове наближення,\n",
    "$x^k =(x_1^k,x_2^k, \\dots , x_n^k)^\\top$ ---  наближення розв'язку на $k$-тій ітерації.\n",
    "\n",
    "Якщо отримана матриця $B$ задовольняє умову \n",
    "\n",
    "$(6)\\qquad\\qquad \\|B\\|_{l}<1$ для деякого $l \\in \\{1,2\\}$ \n",
    "\n",
    "з такими означеннями норм\n",
    "\n",
    "$(7)\\qquad\\qquad \\|B\\|_1 = \\max_{1\\leq i \\leq n} \\sum_{j=1}^n |b_{ij}|, \\quad \n",
    "\\|B\\|_2 = \\max_{1\\leq j \\leq n} \\sum_{i=1}^n |b_{ij}|,$\n",
    "\n",
    "то ітераційний процес Якобі збігається."
   ]
  },
  {
   "cell_type": "markdown",
   "metadata": {
    "id": "C56etMUzw6qS"
   },
   "source": [
    "#### Пояснення до використання програмного коду\n",
    "-----------------"
   ]
  },
  {
   "cell_type": "markdown",
   "metadata": {
    "id": "C56etMUzw6qS"
   },
   "source": [
    "*   Підготувати обчислювальне середовище і потрібні функції :\n",
    "    1. виконати комірку для підготовки середовища\n",
    "    2. виконати комірку, де визначені допоміжні функції  ``norm_1``,``norm_2`` i ``norm_3``    \n",
    "    3. виконати комірку, де визначена функція ``simple_iteration`` \n",
    "    4. виконати комірку, де визначені функції ``Jacobi_modification`` і ``Jacobi_solver``\n",
    "*   Обчислити шуканий розв'язок заданої СЛАР :\n",
    "    1. виконати комірки, де визначені функції ``set_matrix`` i ``set_vector`` \n",
    "    2. виконати комірку, де визначена функція ``set_x0`` \n",
    "    3. виконати комірку із заданням точності ``eps`` і максимальної кількості ітерацій ``max_iter``\n",
    "    4. Виконати комірку з викликом функції ``Jacobi_solver``"
   ]
  },
  {
   "cell_type": "markdown",
   "metadata": {
    "tags": []
   },
   "source": [
    "#### Програмна реалізація методу\n",
    "------------"
   ]
  },
  {
   "cell_type": "markdown",
   "metadata": {
    "tags": []
   },
   "source": [
    ">#### Підготовка середовища"
   ]
  },
  {
   "cell_type": "code",
   "execution_count": 1,
   "metadata": {
    "id": "Dv08qO4sQF1k",
    "tags": []
   },
   "outputs": [],
   "source": [
    "import numpy as np"
   ]
  },
  {
   "cell_type": "markdown",
   "metadata": {
    "tags": []
   },
   "source": [
    ">#### Допоміжні функції"
   ]
  },
  {
   "cell_type": "code",
   "execution_count": 2,
   "metadata": {
    "id": "jb5hlEr5QF1p"
   },
   "outputs": [],
   "source": [
    "def norm_1(a):\n",
    "    \"\"\"обчислення норми_1 матриці a\"\"\"   \n",
    "    m=0\n",
    "    for i in range(a.shape[0]):\n",
    "        s=0\n",
    "        for j in range(a.shape[1]):\n",
    "            s+=abs(a[i][j])\n",
    "        if s>m:\n",
    "            m=s\n",
    "    return m\n",
    "\n",
    "def norm_2(a):\n",
    "    \"\"\"обчислення норми_2 матриці a\"\"\"   \n",
    "    m=0\n",
    "    for j in range(a.shape[1]):\n",
    "        s=0\n",
    "        for i in range(a.shape[0]):\n",
    "            s+=abs(a[i][j])\n",
    "        if s>m:\n",
    "            m=s\n",
    "    return m\n",
    "\n",
    "def norm_3(a):\n",
    "    \"\"\"обчислення евклідової норми вектора a\"\"\"\n",
    "    return np.sqrt(np.sum(a**2))"
   ]
  },
  {
   "cell_type": "markdown",
   "metadata": {
    "id": "ocZR4xN_cvNf",
    "tags": []
   },
   "source": [
    ">#### ``simple_iteration`` -- функція, яка розв'язує СЛАР (4)   методом простої ітерації  \n",
    "\n",
    "-------------------"
   ]
  },
  {
   "cell_type": "code",
   "execution_count": 3,
   "metadata": {},
   "outputs": [],
   "source": [
    "def simple_iteration(b,d,x0,eps,max_iter):\n",
    "    \"\"\" послідовно обчислює наближення розв'язку СЛАР \n",
    "      методом простої ітерації, поки евклідова норма \n",
    "      різниці двох послідовних наближень не стане меншою заданої точності eps      \n",
    "      x0 -- початкове наближення \"\"\"\n",
    "    x_prev=x0.copy()  \n",
    "    k=1\n",
    "    x_new=np.matmul(b,x0)+d   \n",
    "    while norm_3(x_new-x_prev) > eps and k < max_iter:\n",
    "        k+=1\n",
    "        x_prev=x_new\n",
    "        x_new=np.matmul(b,x_prev)+d\n",
    "    return k, x_new"
   ]
  },
  {
   "cell_type": "markdown",
   "metadata": {
    "id": "ocZR4xN_cvNf",
    "tags": []
   },
   "source": [
    ">#### ``Jacobi_modification`` -- функція, яка перетворює матрицю і вектор вільних членів СЛАР (1) за формулою (3)     \n",
    "\n",
    "-------------------"
   ]
  },
  {
   "cell_type": "code",
   "execution_count": 4,
   "metadata": {
    "id": "jb5hlEr5QF1p"
   },
   "outputs": [],
   "source": [
    "def Jacobi_modification(a, b):\n",
    "    \"\"\" модифікація матриці a і вектора вільних членів b СЛАР згідно формули (6)\"\"\"\n",
    "    for i in range(a.shape[0]):\n",
    "        b[i] /=a [i,i]\n",
    "        a[i,:] /= -a[i,i]\n",
    "        a[i,i] = 0  \n",
    "        "
   ]
  },
  {
   "cell_type": "markdown",
   "metadata": {
    "id": "ocZR4xN_cvNf",
    "tags": []
   },
   "source": [
    ">#### ``Jacobi_solver`` -- функція, яка організовує обчислення чисельного розв'язку СЛАР (1) методом Якобі з точністю ``eps`` при виконанні достатньої умови збіжності (6)\n",
    "\n",
    "-------------------\n",
    "*   На початку формується матриця і  вектор вільних членів конкретної СЛАР (1), які далі модифікуються ``Jacobi_modification`` за формулою (3)\n",
    "*   Якщо виконується достатня умова збіжності (6), то буде задано початкове наближення  розв'язку. Після цього обчислюється чисельний розв'язок, який функція повертає як елемент кортежу. У цьому випадку перший елемент цього кортежу матиме значення кількості виконаних ітерацій.  \n",
    "*   Якщо умова (6) не виконується, то першим елементом кортежу є число 0. \n",
    "    \n"
   ]
  },
  {
   "cell_type": "code",
   "execution_count": 5,
   "metadata": {
    "id": "0qc5BcctO5t2"
   },
   "outputs": [],
   "source": [
    "def Jacobi_solver(set_matrix, set_vector,set_x0, eps, max_iter):\n",
    "    \"\"\" послідовно обчислює наближення розв'язку СЛАР \n",
    "      методом Якобі, поки евклідова норма \n",
    "      різниці двох послідовних наближень не стане меншою заданої точності eps      \n",
    "      \"\"\"\n",
    "    b=set_matrix()\n",
    "    d=set_vector()\n",
    "    Jacobi_modification(b, d)\n",
    "    k=0\n",
    "    if norm_1(b)<1 or norm_2(b)<1 :  \n",
    "        x0=set_x0()\n",
    "        k, x=simple_iteration(b,d,x0,eps,max_iter)\n",
    "        return k, x        \n",
    "    else:\n",
    "        return k, d     "
   ]
  },
  {
   "cell_type": "markdown",
   "metadata": {
    "id": "JML_Qdgo363W",
    "tags": []
   },
   "source": [
    ">#### Функції для задання матриці та векторів вільних членів та початкового наближення конкретних СЛАР\n",
    "*   ``set_matrix`` - функція, яка задає і повертає як результат матрицю СЛАР\n",
    "*   ``set_vector`` - функція, яка задає і повертає як результат вектор вільних членів \n",
    "*   ``set_x0`` - функція, яка задає і повертає як результат вектор початкового наближення\n",
    "*   виконати відповідну комірку з визначеннм цих функцій кожного разу, коли матрицю або вектор змінюють "
   ]
  },
  {
   "cell_type": "markdown",
   "metadata": {
    "tags": []
   },
   "source": [
    "#### Обчислювальні експерименти\n",
    "------------"
   ]
  },
  {
   "cell_type": "markdown",
   "metadata": {
    "tags": []
   },
   "source": [
    "Продемонструємо на прикладах застосування ітераційного методу Якобі  до розв'язування СЛАР."
   ]
  },
  {
   "cell_type": "markdown",
   "metadata": {
    "tags": []
   },
   "source": [
    "**Приклад 1.** (приклад 2.4) Обчислити методом Якобі розв'язок СЛАР\n",
    "\\begin{equation}\\label{2.2.2}\n",
    "\\left\\{\\begin{array}{rcl}\n",
    "10 x_1 + \\;\\, x_2 +\\;\\; 2 x_3 & = 18 \\\\\n",
    "\\quad x_1 + 5 x_2 - \\; \\;\\; x_3  & = 8 \\\\\n",
    "\\quad x_1 - 2 x_2 + 10 x_3  & = 27\\,\n",
    "\\end{array} \\right. \n",
    "\\end{equation}"
   ]
  },
  {
   "cell_type": "markdown",
   "metadata": {},
   "source": [
    "Легко переконатися, що вектор  $x=(1,2,3)^\\top$ є точним розв'язком цієї системи, збережемо це значення:"
   ]
  },
  {
   "cell_type": "code",
   "execution_count": 6,
   "metadata": {},
   "outputs": [],
   "source": [
    "x=np.array([[1], [2], [3]])"
   ]
  },
  {
   "cell_type": "markdown",
   "metadata": {
    "tags": []
   },
   "source": [
    "Підготуємо функції, які задаватимуть матрицю СЛАР та вектори вільних членів $d$ і початкового наближення $x^0$:"
   ]
  },
  {
   "cell_type": "code",
   "execution_count": 7,
   "metadata": {
    "id": "IdDn2xvxQF1n"
   },
   "outputs": [],
   "source": [
    "def set_matrix():\n",
    "    \"\"\" функція для задання матриці конкретної СЛАР\"\"\"\n",
    "    matrix=np.array([[10, 1, 2],[1,5,-1],[1,-2,10]],dtype=float )\n",
    "    return matrix"
   ]
  },
  {
   "cell_type": "code",
   "execution_count": 8,
   "metadata": {
    "id": "ZpgpDhlWQF1o",
    "tags": []
   },
   "outputs": [],
   "source": [
    "def set_vector():\n",
    "    \"\"\" функція для задання вектора вільних членів конкретної СЛАР\"\"\"\n",
    "    vector=np.array([[18], [8], [27]],dtype=float)\n",
    "    return vector"
   ]
  },
  {
   "cell_type": "code",
   "execution_count": 9,
   "metadata": {
    "id": "ZpgpDhlWQF1o",
    "tags": []
   },
   "outputs": [],
   "source": [
    "def set_x0():\n",
    "    \"\"\" функція для задання вектора початкового наближення розв'язку\"\"\"\n",
    "    return np.array([[1], [2], [1]],dtype=float)"
   ]
  },
  {
   "cell_type": "markdown",
   "metadata": {},
   "source": [
    "Оскільки ми не робили оцінки необхідної кількості ітерацій, то наперед обмежимо їх достатньо великим числом: "
   ]
  },
  {
   "cell_type": "code",
   "execution_count": 10,
   "metadata": {},
   "outputs": [],
   "source": [
    "max_iter=100"
   ]
  },
  {
   "cell_type": "markdown",
   "metadata": {},
   "source": [
    "Знайдемо чисельний розв'язок СЛАР, попередньо задавши значення параметра $eps$: "
   ]
  },
  {
   "cell_type": "code",
   "execution_count": 11,
   "metadata": {},
   "outputs": [
    {
     "name": "stdout",
     "output_type": "stream",
     "text": [
      "Чисельний розв'язок системи \n",
      " x=[[1.00010128]\n",
      " [1.99987424]\n",
      " [2.99989456]] \n",
      " обчислено за 8 ітерацій\n",
      "похибка чисельного розв'язку 0.00019284918874576268.\n"
     ]
    }
   ],
   "source": [
    "eps=0.001\n",
    "k, xk = Jacobi_solver(set_matrix, set_vector, set_x0, eps, max_iter)\n",
    "\n",
    "if k > 0 and k < max_iter:\n",
    "    print(f\"Чисельний розв'язок системи \\n x={xk} \\n обчислено за {k} ітерацій\")\n",
    "    print(f\"похибка чисельного розв'язку {norm_3(xk-x)}.\")\n",
    "elif  k == max_iter : \n",
    "    print(f\"Чисельний розв'язок системи не обчислено за {k} ітерацій\")\n",
    "else:\n",
    "    print(\"Матриця СЛАР (1) не задовольняє достатню умову збіжності ітерацій\")"
   ]
  },
  {
   "cell_type": "markdown",
   "metadata": {},
   "source": [
    "Можемо досягти більшої точності чисельного розв'язку, модифікуючи значення параметра $eps$: "
   ]
  },
  {
   "cell_type": "code",
   "execution_count": 12,
   "metadata": {},
   "outputs": [
    {
     "name": "stdout",
     "output_type": "stream",
     "text": [
      "Чисельний розв'язок системи \n",
      " x=[[1.00000123]\n",
      " [1.99999848]\n",
      " [2.99999872]] \n",
      " обчислено за 12 ітерацій\n",
      "похибка чисельного розв'язку 2.337751989001623e-06.\n"
     ]
    }
   ],
   "source": [
    "eps=0.00001\n",
    "k, xk = Jacobi_solver(set_matrix, set_vector, set_x0, eps, max_iter)\n",
    "\n",
    "if k > 0 and k < max_iter:\n",
    "    print(f\"Чисельний розв'язок системи \\n x={xk} \\n обчислено за {k} ітерацій\")\n",
    "    print(f\"похибка чисельного розв'язку {norm_3(xk-x)}.\")\n",
    "elif  k == max_iter : \n",
    "    print(f\"Чисельний розв'язок системи не обчислено за {k} ітерацій\")\n",
    "else:\n",
    "    print(\"Матриця СЛАР (1) не задовольняє достатню умову збіжності ітерацій\")"
   ]
  },
  {
   "cell_type": "code",
   "execution_count": 13,
   "metadata": {},
   "outputs": [
    {
     "name": "stdout",
     "output_type": "stream",
     "text": [
      "Чисельний розв'язок системи \n",
      " x=[[1.00000001]\n",
      " [1.99999998]\n",
      " [2.99999998]] \n",
      " обчислено за 16 ітерацій\n",
      "похибка чисельного розв'язку 2.8353437253144928e-08.\n"
     ]
    }
   ],
   "source": [
    "eps=0.0000001\n",
    "k, xk = Jacobi_solver(set_matrix, set_vector, set_x0, eps, max_iter)\n",
    "\n",
    "if k > 0 and k < max_iter:\n",
    "    print(f\"Чисельний розв'язок системи \\n x={xk} \\n обчислено за {k} ітерацій\")\n",
    "    print(f\"похибка чисельного розв'язку {norm_3(xk-x)}.\")\n",
    "elif  k == max_iter : \n",
    "    print(f\"Чисельний розв'язок системи не обчислено за {k} ітерацій\")\n",
    "else:\n",
    "    print(\"Матриця СЛАР (1) не задовольняє достатню умову збіжності ітерацій\")"
   ]
  },
  {
   "cell_type": "code",
   "execution_count": null,
   "metadata": {},
   "outputs": [],
   "source": []
  }
 ],
 "metadata": {
  "anaconda-cloud": {},
  "colab": {
   "name": "oom_2_2_1_simple_iteration.ipynb",
   "private_outputs": true,
   "provenance": []
  },
  "kernelspec": {
   "display_name": "Python 3 (ipykernel)",
   "language": "python",
   "name": "python3"
  },
  "language_info": {
   "codemirror_mode": {
    "name": "ipython",
    "version": 3
   },
   "file_extension": ".py",
   "mimetype": "text/x-python",
   "name": "python",
   "nbconvert_exporter": "python",
   "pygments_lexer": "ipython3",
   "version": "3.9.7"
  }
 },
 "nbformat": 4,
 "nbformat_minor": 4
}
