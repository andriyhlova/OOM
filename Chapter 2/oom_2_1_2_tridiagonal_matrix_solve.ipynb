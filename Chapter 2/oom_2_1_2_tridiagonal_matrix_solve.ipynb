{
 "cells": [
  {
   "cell_type": "markdown",
   "metadata": {
    "id": "uDSAycn9QF1Y"
   },
   "source": [
    "# 2.1 Прямі методи розв'язування СЛАР\n",
    "---------------------"
   ]
  },
  {
   "cell_type": "markdown",
   "metadata": {
    "id": "TrvVaZ02QF1h"
   },
   "source": [
    "## 2.1.2.  Метод прогонки для роз'язування СЛАР з тридіагональною матрицею "
   ]
  },
  {
   "cell_type": "markdown",
   "metadata": {
    "id": "elD_lWBKQF1j"
   },
   "source": [
    "Нехай маємо СЛАР\n",
    "\\begin{equation}\n",
    "Hx=g,\n",
    "\\end{equation}\n",
    "де $H\\in \\mathbb{R}^{(n+1)\\times (n+1)}$ --- задана квадратна тридіагональна матриця\n",
    "$$\n",
    "H=\n",
    "\\begin{pmatrix}\n",
    "c_0 & b_0 & 0 \\ \\quad \\ldots  \\quad  & 0 & 0 & 0  \\\\\n",
    "a_1 & c_1 & b_1 \\quad \\ldots  \\quad  & 0 & 0 & 0  \\\\\n",
    "\\ldots &\\ldots &\\ldots & \\ldots  & \\ldots  & \\ldots  \\\\\n",
    "0 & 0 & 0\\ \\quad \\ldots  & a_{n-1} & c_{n-1} & b_{n-1}\\\\\n",
    "0 & 0 & 0\\ \\quad \\ldots  & 0 & a_n & c_n\n",
    "\\end{pmatrix},\n",
    "$$\n",
    "\n",
    " $n$ --- натуральне число, $g\\in \\mathbb{R}^{n+1}$ --- заданий вектор вільних членів  і \n",
    " $x \\in \\mathbb{R}^{n+1}$  --- невідомий вектор.\n",
    "\n",
    "Шляхом зведення цієї системи до трикутного вигляду згідно методу Гауса можна показати, що, компоненти вектора $x$ можна послідовно обчислити (починаючи з кінця) за формулами \n",
    "\n",
    "\\begin{equation}\n",
    "x_n=\\beta_n, \\quad x_i = \\alpha_i \\cdot x_{i+1} + \\beta_i, \\quad i =\\overline{n-1,0},\n",
    "\\end{equation}\n",
    "де \n",
    "\\begin{equation}\n",
    "\\alpha_0 := - \\frac{b_0}{c_0},\\quad \\beta_0 := \\frac{g_0}{c_0},\\quad \\alpha_i := - \\frac{b_i}{a_i \\cdot \\alpha_{i-1}+c_i},\\quad \\beta_i := \\frac{g_i - a_i\\cdot \\beta_{i-1}}{a_i\\cdot \\alpha_{i-1}+c_i},\\quad\n",
    "i =\\overline{1,n}.\n",
    "\\end{equation}\n",
    "\n",
    "Вважаємо, що матриця $H$ є такою, що $c_0 \\neq 0$ і  $a_i\\cdot \\alpha_{i-1}+c_i \\neq 0, \\; i =\\overline{1,n}$."
   ]
  },
  {
   "cell_type": "markdown",
   "metadata": {
    "id": "C56etMUzw6qS",
    "tags": []
   },
   "source": [
    "#### Пояснення до використання програмного коду\n",
    "-----------------\n",
    "*   Підготувати обчислювальне середовище і потрібні функції :\n",
    "    1. виконати комірку для підготовки середовища \n",
    "    2. виконати комірку, де визначена функція ``TDMA_solver``     \n",
    "*   Обчислити шуканий розв'язок заданої СЛАР :\n",
    "    1. виконати комірки, де визначені функції ``set_matrix_diagonals`` і ``set_vector``\n",
    "    2. виконати комірку з викликом функції ``TDMA_solver`` з аргументами, які визначені в попередньому пункті.  Результатом цієї функції є вектор шуканого розв'язку."
   ]
  },
  {
   "cell_type": "markdown",
   "metadata": {
    "tags": []
   },
   "source": [
    "#### Програмна реалізація методу\n",
    "------------"
   ]
  },
  {
   "cell_type": "markdown",
   "metadata": {
    "tags": []
   },
   "source": [
    ">#### Підготовка середовища"
   ]
  },
  {
   "cell_type": "code",
   "execution_count": 1,
   "metadata": {
    "id": "Dv08qO4sQF1k"
   },
   "outputs": [],
   "source": [
    "import numpy as np"
   ]
  },
  {
   "cell_type": "markdown",
   "metadata": {
    "id": "ocZR4xN_cvNf"
   },
   "source": [
    ">####  TDMA_solver - функція, яка реалізує метод прогонки для розв'язування СЛАР"
   ]
  },
  {
   "cell_type": "code",
   "execution_count": 2,
   "metadata": {
    "id": "0qc5BcctO5t2"
   },
   "outputs": [],
   "source": [
    "def TDMA_solver(n,set_matrix_diagonals,set_vector):\n",
    "    \"\"\" метод прогонки для розв'язування СЛАР\n",
    "        з 3-діагональною матрицею \n",
    "        вектор с-головна діагональ\n",
    "        вектори a i b - нижня і верхня діагоналі, паралельні головній\n",
    "        вектор g - вільні члени\n",
    "      \"\"\"\n",
    "    c,a,b = set_matrix_diagonals(n)\n",
    "    g = set_vector(n)\n",
    "   \n",
    "    alpha = np.empty(n+1, dtype=float ) \n",
    "    beta  = np.empty(n+1, dtype=float )\n",
    "    \n",
    "    if c[0] !=0 :\n",
    "        alpha[0] =-b[0]/c[0]\n",
    "        beta [0] = g[0]/c[0]\n",
    "    else:\n",
    "        raise Exception('c[0]==0') \n",
    "    \n",
    "    for i in range(1,n+1):\n",
    "        w=a[i]*alpha[i-1]+c[i]\n",
    "        if w != 0 :\n",
    "            alpha[i] =-b[i]/w\n",
    "            beta[i]  = (g[i] - a[i]*beta[i-1])/w\n",
    "        else:\n",
    "            raise Exception('w==0')\n",
    "        \n",
    "    x = np.empty(n+1, dtype=float )\n",
    "    x[n] = beta[n]\n",
    "    for i in range(n-1,-1,-1):\n",
    "        x[i] = alpha[i]*x[i+1] + beta[i]\n",
    "    return x"
   ]
  },
  {
   "cell_type": "markdown",
   "metadata": {
    "id": "JML_Qdgo363W",
    "tags": []
   },
   "source": [
    ">#### Функції для задання діагоналей матриці  $H$ та вектора $g$ конкретних СЛАР\n",
    "*   ``set_matrix_diagonals`` - функція, яка задає і повертає як результат три діагоналі матриці $H$ \n",
    "*   ``set_vector`` - функція, яка задає і повертає як результат вектор вільних членів $g$\n",
    "*   виконати відповідну комірку з визначеннм цих функцій кожного разу, коли матрицю або вектор змінюють "
   ]
  },
  {
   "cell_type": "markdown",
   "metadata": {
    "tags": []
   },
   "source": [
    "#### Обчислювальні експерименти\n",
    "------------"
   ]
  },
  {
   "cell_type": "markdown",
   "metadata": {
    "tags": []
   },
   "source": [
    "Продемонструємо на прикладах розв'язування СЛАР методом прогонки."
   ]
  },
  {
   "cell_type": "markdown",
   "metadata": {
    "tags": []
   },
   "source": [
    "**Приклад 1.** (приклад 2.3) Обчислити методом прогонки розв'язок СЛАР\n",
    "\\begin{aligned}\n",
    "\\left\\{\\begin{array}{rcl}\n",
    "x_0+3x_1   \\;\\; \\;\\quad\\quad\\quad\\quad & =  4 \\\\\n",
    "x_0+2x_1 -\\;\\; x_2 \\; \\quad \\quad & =  2 \\\\\n",
    "x_1 + 4x_2 +\\; x_3 & =  6 \\\\\n",
    "\\quad \\quad\\; \\; x_2 + 4x_3  & =  5. \\\\\n",
    "\\end{array} \\right.\n",
    "\\end{aligned}"
   ]
  },
  {
   "cell_type": "markdown",
   "metadata": {
    "id": "4OrUqmgnS2x9",
    "tags": []
   },
   "source": [
    "Спочатку визначимо функції, які задаватимуть матрицю і вектор вільних членів СЛАР :"
   ]
  },
  {
   "cell_type": "code",
   "execution_count": 3,
   "metadata": {
    "id": "IdDn2xvxQF1n"
   },
   "outputs": [],
   "source": [
    "def set_matrix_diagonals(n):\n",
    "    \"\"\" функція задає 3 діагоналі матриці СЛАР \"\"\"\n",
    "    c=np.array([1, 2, 4, 4], dtype=float)\n",
    "    a=np.array([0, 1, 1, 1], dtype=float)\n",
    "    b=np.array([3,-1, 1, 0], dtype=float)\n",
    "    return c,a,b"
   ]
  },
  {
   "cell_type": "code",
   "execution_count": 4,
   "metadata": {
    "id": "ZpgpDhlWQF1o"
   },
   "outputs": [],
   "source": [
    "def set_vector(n):\n",
    "    \"\"\" функція задає вектор вільних членів СЛАР\"\"\"\n",
    "    g = np.array([4, 2, 6, 5], dtype=float)\n",
    "    return g"
   ]
  },
  {
   "cell_type": "markdown",
   "metadata": {},
   "source": [
    "Тепер можемо викликати функцію ``TDMA_solver`` з відповідними аргументами:"
   ]
  },
  {
   "cell_type": "code",
   "execution_count": 5,
   "metadata": {
    "tags": []
   },
   "outputs": [
    {
     "name": "stdout",
     "output_type": "stream",
     "text": [
      "Чисельний розв'язок СЛАР при n=3\n",
      "  x=[1. 1. 1. 1.]\n"
     ]
    }
   ],
   "source": [
    "n=3\n",
    "x = TDMA_solver(n, set_matrix_diagonals, set_vector)\n",
    "print(f'Чисельний розв\\'язок СЛАР при n={n}\\n  x={x}')"
   ]
  },
  {
   "cell_type": "markdown",
   "metadata": {
    "tags": []
   },
   "source": [
    "**Приклад 2.** (приклад 2.1.2.ІІ) Обчислити методом прогонки розв'язок СЛАР\n",
    "\\begin{aligned}\n",
    "\\left\\{\\begin{array}{rcl}\n",
    "2 x_0+5 x_1   \\;\\; \\;\\quad\\quad\\quad\\quad & =  7 \\\\\n",
    "x_0-3 x_1 +\\;2 x_2 \\; \\quad \\quad & =  0 \\\\\n",
    "x_1 + 6 x_2 -\\; x_3 & =  6 \\\\\n",
    "\\quad \\quad\\; \\; x_2 + 4 x_3  & =  5. \\\\\n",
    "\\end{array} \\right.\n",
    "\\end{aligned}"
   ]
  },
  {
   "cell_type": "markdown",
   "metadata": {},
   "source": [
    "Отримання чисельного розв'язку цієї СЛАР повністю повторює розв'язування попереднього прикладу:"
   ]
  },
  {
   "cell_type": "code",
   "execution_count": 6,
   "metadata": {
    "id": "IdDn2xvxQF1n"
   },
   "outputs": [],
   "source": [
    "def set_matrix_diagonals(n):\n",
    "    \"\"\" функція задає 3 діагоналі матриці СЛАР \"\"\"\n",
    "    c=np.array([2, -3, 6, 4], dtype=float)\n",
    "    a=np.array([0, 1, 1, 1], dtype=float)\n",
    "    b=np.array([5, 2, -1, 0], dtype=float)\n",
    "    return c,a,b"
   ]
  },
  {
   "cell_type": "code",
   "execution_count": 7,
   "metadata": {
    "id": "ZpgpDhlWQF1o"
   },
   "outputs": [],
   "source": [
    "def set_vector(n):\n",
    "    \"\"\" функція задає вектор вільних членів СЛАР\"\"\"\n",
    "    g = np.array([7, 0, 6, 5], dtype=float)\n",
    "    return g"
   ]
  },
  {
   "cell_type": "code",
   "execution_count": 8,
   "metadata": {
    "id": "0L8dI09xRUFF",
    "tags": []
   },
   "outputs": [
    {
     "name": "stdout",
     "output_type": "stream",
     "text": [
      "Чисельний розв'язок СЛАР при n=3\n",
      "  x=[1. 1. 1. 1.]\n"
     ]
    }
   ],
   "source": [
    "n=3\n",
    "x = TDMA_solver(n,set_matrix_diagonals,set_vector)\n",
    "print(f'Чисельний розв\\'язок СЛАР при n={n}\\n  x={x}')"
   ]
  },
  {
   "cell_type": "code",
   "execution_count": null,
   "metadata": {},
   "outputs": [],
   "source": []
  }
 ],
 "metadata": {
  "anaconda-cloud": {},
  "colab": {
   "name": "oom_2_2_1_simple_iteration.ipynb",
   "private_outputs": true,
   "provenance": []
  },
  "kernelspec": {
   "display_name": "Python 3 (ipykernel)",
   "language": "python",
   "name": "python3"
  },
  "language_info": {
   "codemirror_mode": {
    "name": "ipython",
    "version": 3
   },
   "file_extension": ".py",
   "mimetype": "text/x-python",
   "name": "python",
   "nbconvert_exporter": "python",
   "pygments_lexer": "ipython3",
   "version": "3.9.7"
  }
 },
 "nbformat": 4,
 "nbformat_minor": 4
}
