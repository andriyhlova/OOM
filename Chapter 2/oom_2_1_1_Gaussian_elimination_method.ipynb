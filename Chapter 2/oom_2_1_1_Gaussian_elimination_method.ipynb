{
 "cells": [
  {
   "cell_type": "markdown",
   "metadata": {
    "id": "uDSAycn9QF1Y"
   },
   "source": [
    "# 2.1. Прямі методи розв'язування СЛАР\n",
    "---------------------"
   ]
  },
  {
   "cell_type": "markdown",
   "metadata": {
    "id": "TrvVaZ02QF1h"
   },
   "source": [
    "## 2.1.1.  Метод Гаусса \n",
    "\n",
    "_____________________"
   ]
  },
  {
   "cell_type": "markdown",
   "metadata": {
    "id": "elD_lWBKQF1j"
   },
   "source": [
    "Нехай маємо СЛАР\n",
    "\n",
    "$(1)\\quad\\qquad\\qquad\\qquad Ax=b, $\n",
    "\n",
    "задану добре обумовленою квадратною матрицею і вектором вільних членів\n",
    "\n",
    "$(2)\\quad\\qquad\\qquad\\qquad\n",
    "A:=\n",
    "\\begin{pmatrix}\n",
    "a_{11} & a_{12} &\\ldots & a_{1n} \\\\\n",
    "a_{21} & a_{22} &\\ldots & a_{2n} \\\\\n",
    "\\ldots & \\ldots & \\ldots \\\\\n",
    "a_{n1} & a_{n2} &\\ldots & a_{nn}\n",
    "\\end{pmatrix} \\in \\mathbb{R}^{n \\times n}, \\quad\n",
    "b:=\n",
    "\\begin{pmatrix}\n",
    "b_{1}\\\\\n",
    "b_{2}\\\\\n",
    "\\ldots  \\\\\n",
    "b_{n}\n",
    "\\end{pmatrix} \\in \\mathbb{R}^n, \\; n\\in \\mathbb{N},\n",
    "$\n",
    "\n",
    "$\\qquad\\qquad\\qquad\\qquad x:=\n",
    "\\begin{pmatrix}\n",
    "x_{1}\\\\\n",
    "x_{2}\\\\\n",
    "\\ldots  \\\\\n",
    "x_{n}\n",
    "\\end{pmatrix}\\equiv (x_1,x_2\\ldots,x_n)^\\top \\in \\mathbb{R}^n \n",
    "$ -- вектор невідомих величин."
   ]
  },
  {
   "cell_type": "markdown",
   "metadata": {
    "id": "elD_lWBKQF1j"
   },
   "source": [
    "Метод Гаусса полягає в покроковому зведенні цієї системи до трикутного вигляду (прямий хід):\n",
    "\n",
    "$(3)\\quad\\qquad\\qquad\\qquad\n",
    "A:=\n",
    "\\begin{pmatrix}\n",
    "a_{11} & a_{12} &\\ldots & a_{1n} \\\\\n",
    "0 & a^{(1)}_{22} &\\ldots & a^{(1)}_{2n} \\\\\n",
    "\\ldots & \\ldots & \\ldots \\\\\n",
    "0 & 0 &\\ldots & a^{(n-1)}_{nn}\n",
    "\\end{pmatrix}\n",
    "\\begin{pmatrix}\n",
    "x_{1}\\\\\n",
    "x_{2}\\\\\n",
    "\\ldots  \\\\\n",
    "x_{n}\n",
    "\\end{pmatrix}\n",
    "=\n",
    "\\begin{pmatrix}\n",
    "b_{1}\\\\\n",
    "b^{(1)}_{2}\\\\\n",
    "\\ldots  \\\\\n",
    "b^{(n-1)}_{n}\n",
    "\\end{pmatrix},\n",
    "$\n",
    "\n",
    "після чого елементи розв'язку обчислюють зворотною підстановкою (обернений хід)."
   ]
  },
  {
   "cell_type": "markdown",
   "metadata": {
    "id": "elD_lWBKQF1j"
   },
   "source": [
    "Тут верхній індекс елементів матриці та вектора вказує номер кроку, на якому вони були обчислені.\n",
    "\n",
    "Після виконання $k-$го кроку маємо $a^{(k)}_{i,j} =0$ при $i\\geq k, \\; j<k$.\n",
    "\n",
    "На наступному $(k+1)-$му кроці елементи матриці та вектора правої частини перераховують за формулами\n",
    "\n",
    "$(4)\\quad\\qquad\\qquad\\qquad\n",
    "a^{(k+1)}_{i,j} = a^{(k)}_{i,j} - m_{i,k}\\,a^{(k)}_{k,j}, \\; i,j=k+1,\\ldots,n,$\n",
    "\n",
    "$(5)\\quad\\qquad\\qquad\\qquad\n",
    "b^{(k+1)}_{i} = b^{(k)}_{i} - m_{i,k}\\,b^{(k)}_{k}, \\; i=k+1,\\ldots,n,$\n",
    "\n",
    "де $ m_{i,k} = \\frac{a^{(k)}_{i,k}}{a^{(k)}_{k,k}}, \\; i=k+1,\\ldots,n.$"
   ]
  },
  {
   "cell_type": "markdown",
   "metadata": {
    "id": "elD_lWBKQF1j"
   },
   "source": [
    "Вважаємо, що на кожному кроці $a^{(k)}_{k,k}\\neq 0$, якщо ж ні, то переставляємо рядки матриці, щоб ця умова виконувалася."
   ]
  },
  {
   "cell_type": "markdown",
   "metadata": {
    "id": "C56etMUzw6qS",
    "tags": []
   },
   "source": [
    "#### Пояснення до використання програмного коду\n",
    "-----------------\n",
    "*   Підготувати потрібні функції : \n",
    "    1.   виконати комірку з імпортом NumPy \n",
    "    2.   виконати комірки з визначеннями функцій set_matrix і set_vector\n",
    "    3.   виконати комірку з визначеннями функцій Gaussian_elimination, backward_substitution і GEM_solver \n",
    "\n",
    "*   Виконати комірку з викликом функції GEM_solver з аргументами, які є функціями, що повертають потрібні матрицю та вектор.\n",
    "    \n",
    "    Результатом цієї функціх є шуканий розв'язок заданої СЛАР."
   ]
  },
  {
   "cell_type": "code",
   "execution_count": 9,
   "metadata": {
    "id": "Dv08qO4sQF1k",
    "tags": []
   },
   "outputs": [],
   "source": [
    "import numpy as np"
   ]
  },
  {
   "cell_type": "markdown",
   "metadata": {
    "id": "JML_Qdgo363W"
   },
   "source": [
    ">### Функції для задання матриці та вектора\n",
    "\n",
    "---------------\n",
    "*   функція set_matrix задає і повертає як результат матрицю СЛАР\n",
    "*   функція set_vector задає і повертає як результат вектор вільних членів \n",
    "*   виконати відповідну комірку кожного разу, коли матрицю або вектор змінюють \n",
    "*   розміри матриці та вектора мають бути узгодженими"
   ]
  },
  {
   "cell_type": "code",
   "execution_count": 10,
   "metadata": {
    "id": "IdDn2xvxQF1n"
   },
   "outputs": [],
   "source": [
    "def set_matrix():\n",
    "    \"\"\" функція для задання матриці конкретної СЛАР (по рядках)\"\"\"   \n",
    "    return np.array([[2, 2, 3],[1,3,2],[2,1,2]],dtype=float )"
   ]
  },
  {
   "cell_type": "code",
   "execution_count": 11,
   "metadata": {
    "id": "ZpgpDhlWQF1o"
   },
   "outputs": [],
   "source": [
    "def set_vector():\n",
    "    \"\"\" функція для задання вектора вільних членів конкретної СЛАР\"\"\"\n",
    "    return np.array([1, -8, 3],dtype=float)"
   ]
  },
  {
   "cell_type": "markdown",
   "metadata": {
    "id": "ocZR4xN_cvNf"
   },
   "source": [
    ">### Функція  GEM_solver реалізує розв'язування СЛАР методом Гаусса\n",
    "\n",
    "-------------------"
   ]
  },
  {
   "cell_type": "code",
   "execution_count": 12,
   "metadata": {
    "id": "0qc5BcctO5t2"
   },
   "outputs": [],
   "source": [
    "def Gaussian_elimination(a,b):\n",
    "    \"\"\" зведення добреобумовленою квадратної матриці a до верхньої трикутної \n",
    "        та перетворення вектора b вільних членів \n",
    "        методом Гаусса          \n",
    "    \"\"\"\n",
    "    n=b.size   \n",
    "    for k in range(1,n):\n",
    "        for i in range(k,n):            \n",
    "            m=a[i,k-1]/a[k-1,k-1]\n",
    "            for j in range(k,n):\n",
    "                a[i,j]-= m * a[k-1,j]                \n",
    "            b[i]-= m * b[k-1]\n",
    "\n",
    "def backward_substitution(a,b):\n",
    "    \"\"\" Розв'язування СЛАР з трикутною матрицею a \n",
    "        і вектором b вільних членів.\n",
    "        Розв'язок буде збережено у векторі b         \n",
    "    \"\"\"      \n",
    "    n=b.size\n",
    "    b[n-1]/=a[n-1,n-1]\n",
    "    for k in range(1,n):\n",
    "        for j in range(n-k,n):\n",
    "            b[n-k-1]-=a[n-k-1,j]*b[j]            \n",
    "        b[n-k-1]/=a[n-k-1,n-k-1]"
   ]
  },
  {
   "cell_type": "code",
   "execution_count": 13,
   "metadata": {},
   "outputs": [],
   "source": [
    "def GEM_solver(set_matrix, set_vector):\n",
    "    \"\"\" Розв'язування СЛАР методом Гаусса         \n",
    "    \"\"\"      \n",
    "    a=set_matrix()\n",
    "    b=set_vector()\n",
    "    Gaussian_elimination(a,b)\n",
    "    backward_substitution(a,b)\n",
    "    return b"
   ]
  },
  {
   "cell_type": "markdown",
   "metadata": {
    "id": "4OrUqmgnS2x9",
    "tags": []
   },
   "source": [
    ">### Обчислення розв'язку СЛАР\n",
    "\n",
    "--------------"
   ]
  },
  {
   "cell_type": "code",
   "execution_count": 8,
   "metadata": {},
   "outputs": [
    {
     "name": "stdout",
     "output_type": "stream",
     "text": [
      "Розв'язок СЛАР [ 1. -5.  3.]\n"
     ]
    }
   ],
   "source": [
    "x = GEM_solver(set_matrix, set_vector)\n",
    "print('Розв\\'язок СЛАР', x)"
   ]
  },
  {
   "cell_type": "code",
   "execution_count": null,
   "metadata": {},
   "outputs": [],
   "source": []
  }
 ],
 "metadata": {
  "anaconda-cloud": {},
  "colab": {
   "name": "oom_2_2_1_simple_iteration.ipynb",
   "private_outputs": true,
   "provenance": []
  },
  "kernelspec": {
   "display_name": "Python 3 (ipykernel)",
   "language": "python",
   "name": "python3"
  },
  "language_info": {
   "codemirror_mode": {
    "name": "ipython",
    "version": 3
   },
   "file_extension": ".py",
   "mimetype": "text/x-python",
   "name": "python",
   "nbconvert_exporter": "python",
   "pygments_lexer": "ipython3",
   "version": "3.9.7"
  }
 },
 "nbformat": 4,
 "nbformat_minor": 4
}
