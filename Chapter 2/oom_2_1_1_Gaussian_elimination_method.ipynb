{
 "cells": [
  {
   "cell_type": "markdown",
   "metadata": {
    "id": "uDSAycn9QF1Y"
   },
   "source": [
    "# 2.1. Прямі методи розв'язування СЛАР\n",
    "---------------------"
   ]
  },
  {
   "cell_type": "markdown",
   "metadata": {
    "id": "TrvVaZ02QF1h"
   },
   "source": [
    "## 2.1.1.  Метод Гаусса \n",
    "\n",
    "_____________________"
   ]
  },
  {
   "cell_type": "markdown",
   "metadata": {
    "id": "elD_lWBKQF1j"
   },
   "source": [
    "Нехай маємо СЛАР\n",
    "\n",
    "$(1)\\quad\\qquad\\qquad\\qquad Ax=b, $\n",
    "\n",
    "задану добре обумовленою квадратною матрицею і вектором вільних членів\n",
    "\n",
    "$(2)\\quad\\qquad\\qquad\\qquad\n",
    "A:=\n",
    "\\begin{pmatrix}\n",
    "a_{11} & a_{12} &\\ldots & a_{1n} \\\\\n",
    "a_{21} & a_{22} &\\ldots & a_{2n} \\\\\n",
    "\\ldots & \\ldots & \\ldots \\\\\n",
    "a_{n1} & a_{n2} &\\ldots & a_{nn}\n",
    "\\end{pmatrix} \\in \\mathbb{R}^{n \\times n}, \\quad\n",
    "b:=\n",
    "\\begin{pmatrix}\n",
    "b_{1}\\\\\n",
    "b_{2}\\\\\n",
    "\\ldots  \\\\\n",
    "b_{n}\n",
    "\\end{pmatrix} \\in \\mathbb{R}^n, \\; n\\in \\mathbb{N},\n",
    "$\n",
    "\n",
    "$\\qquad\\qquad\\qquad\\qquad x:=\n",
    "\\begin{pmatrix}\n",
    "x_{1}\\\\\n",
    "x_{2}\\\\\n",
    "\\ldots  \\\\\n",
    "x_{n}\n",
    "\\end{pmatrix}\\equiv (x_1,x_2\\ldots,x_n)^\\top \\in \\mathbb{R}^n \n",
    "$ -- вектор невідомих величин."
   ]
  },
  {
   "cell_type": "markdown",
   "metadata": {
    "id": "elD_lWBKQF1j"
   },
   "source": [
    "Метод Гаусса полягає в покроковому зведенні цієї системи до трикутного вигляду (прямий хід):\n",
    "\n",
    "$(3)\\quad\\qquad\\qquad\\qquad\n",
    "A:=\n",
    "\\begin{pmatrix}\n",
    "a_{11} & a_{12} &\\ldots & a_{1n} \\\\\n",
    "0 & a^{(1)}_{22} &\\ldots & a^{(1)}_{2n} \\\\\n",
    "\\ldots & \\ldots & \\ldots \\\\\n",
    "0 & 0 &\\ldots & a^{(n-1)}_{nn}\n",
    "\\end{pmatrix}\n",
    "\\begin{pmatrix}\n",
    "x_{1}\\\\\n",
    "x_{2}\\\\\n",
    "\\ldots  \\\\\n",
    "x_{n}\n",
    "\\end{pmatrix}\n",
    "=\n",
    "\\begin{pmatrix}\n",
    "b_{1}\\\\\n",
    "b^{(1)}_{2}\\\\\n",
    "\\ldots  \\\\\n",
    "b^{(n-1)}_{n}\n",
    "\\end{pmatrix},\n",
    "$\n",
    "\n",
    "після чого елементи розв'язку обчислюють зворотною підстановкою (обернений хід)."
   ]
  },
  {
   "cell_type": "markdown",
   "metadata": {
    "id": "elD_lWBKQF1j"
   },
   "source": [
    "Тут верхній індекс елементів матриці та вектора вказує номер кроку, на якому вони були обчислені.\n",
    "\n",
    "Після виконання $k-$го кроку маємо $a^{(k)}_{i,j} =0$ при $i\\geq k, \\; j<k$.\n",
    "\n",
    "На наступному $(k+1)-$му кроці елементи матриці та вектора правої частини перераховують за формулами\n",
    "\n",
    "$(4)\\quad\\qquad\\qquad\\qquad\n",
    "a^{(k+1)}_{i,j} = a^{(k)}_{i,j} - m_{i,k}\\,a^{(k)}_{k,j}, \\; i,j=k+1,\\ldots,n,$\n",
    "\n",
    "$(5)\\quad\\qquad\\qquad\\qquad\n",
    "b^{(k+1)}_{i} = b^{(k)}_{i} - m_{i,k}\\,b^{(k)}_{k}, \\; i=k+1,\\ldots,n,$\n",
    "\n",
    "де $ m_{i,k} = \\frac{a^{(k)}_{i,k}}{a^{(k)}_{k,k}}, \\; i=k+1,\\ldots,n.$"
   ]
  },
  {
   "cell_type": "markdown",
   "metadata": {
    "id": "elD_lWBKQF1j"
   },
   "source": [
    "Вважаємо, що на кожному кроці $a^{(k)}_{k,k}\\neq 0$, якщо ж ні, то переставляємо рядки матриці, щоб ця умова виконувалася."
   ]
  },
  {
   "cell_type": "markdown",
   "metadata": {
    "id": "C56etMUzw6qS",
    "tags": []
   },
   "source": [
    "#### Пояснення до використання програмного коду\n",
    "-----------------\n",
    "*   Підготувати обчислювальне середовище і потрібні функції :\n",
    "    1. виконати комірку для підготовки середовища \n",
    "    2. виконати комірку, де визначені функції ``Gaussian_elimination``, ``backward_substitution`` і ``GEM_solver``\n",
    "     \n",
    "\n",
    "*   Обчислити шуканий розв'язок заданої СЛАР :\n",
    "    1. виконати комірки, де визначені функції ``set_matrix`` і ``set_vector``\n",
    "    2. виконати комірку з викликом функції ``GEM_solver`` з аргументами, які визначені в попередньому пункті.  Результатом цієї функції є вектор шуканого розв'язку."
   ]
  },
  {
   "cell_type": "markdown",
   "metadata": {
    "tags": []
   },
   "source": [
    "#### Програмна реалізація методу\n",
    "------------"
   ]
  },
  {
   "cell_type": "markdown",
   "metadata": {
    "tags": []
   },
   "source": [
    ">#### Підготовка середовища"
   ]
  },
  {
   "cell_type": "code",
   "execution_count": 1,
   "metadata": {
    "id": "Dv08qO4sQF1k",
    "tags": []
   },
   "outputs": [],
   "source": [
    "import numpy as np"
   ]
  },
  {
   "cell_type": "markdown",
   "metadata": {
    "id": "ocZR4xN_cvNf"
   },
   "source": [
    ">#### ``Gaussian_elimination`` - функція, яка реалізує прямий хід методу Гаусса"
   ]
  },
  {
   "cell_type": "code",
   "execution_count": 2,
   "metadata": {
    "id": "0qc5BcctO5t2"
   },
   "outputs": [],
   "source": [
    "def Gaussian_elimination(a,b):\n",
    "    \"\"\" зведення добреобумовленої квадратної матриці a до верхньої трикутної \n",
    "        та перетворення вектора b вільних членів \n",
    "        методом Гаусса          \n",
    "    \"\"\"\n",
    "    n=b.size   \n",
    "    for k in range(1,n):\n",
    "        for i in range(k,n):            \n",
    "            m=a[i,k-1]/a[k-1,k-1]\n",
    "            for j in range(k,n):\n",
    "                a[i,j]-= m * a[k-1,j]                \n",
    "            b[i]-= m * b[k-1]"
   ]
  },
  {
   "cell_type": "markdown",
   "metadata": {
    "id": "ocZR4xN_cvNf"
   },
   "source": [
    ">#### ``backward_substitution``- функція, яка реалізує зворотній хід методу Гаусса"
   ]
  },
  {
   "cell_type": "code",
   "execution_count": 3,
   "metadata": {
    "id": "0qc5BcctO5t2"
   },
   "outputs": [],
   "source": [
    "def backward_substitution(a,b):\n",
    "    \"\"\" Розв'язування СЛАР з трикутною матрицею a \n",
    "        і вектором b вільних членів.\n",
    "        Розв'язок буде збережено у векторі b         \n",
    "    \"\"\"      \n",
    "    n=b.size\n",
    "    b[n-1]/=a[n-1,n-1]\n",
    "    for k in range(1,n):\n",
    "        for j in range(n-k,n):\n",
    "            b[n-k-1]-=a[n-k-1,j]*b[j]            \n",
    "        b[n-k-1]/=a[n-k-1,n-k-1]"
   ]
  },
  {
   "cell_type": "markdown",
   "metadata": {
    "id": "ocZR4xN_cvNf"
   },
   "source": [
    ">#### ``GEM_solver``- функція, яка реалізує розв'язування СЛАР методом Гаусса"
   ]
  },
  {
   "cell_type": "code",
   "execution_count": 4,
   "metadata": {},
   "outputs": [],
   "source": [
    "def GEM_solver(n, set_matrix, set_vector):\n",
    "    \"\"\" Розв'язування СЛАР методом Гаусса         \n",
    "    \"\"\"      \n",
    "    a=set_matrix(n)\n",
    "    b=set_vector(n)\n",
    "    Gaussian_elimination(a,b)\n",
    "    backward_substitution(a,b)\n",
    "    return b"
   ]
  },
  {
   "cell_type": "markdown",
   "metadata": {
    "id": "JML_Qdgo363W",
    "tags": []
   },
   "source": [
    ">#### Функції для задання матриці та вектора конкретних СЛАР\n",
    "*   ``set_matrix`` - функція, яка задає і повертає як результат матрицю СЛАР\n",
    "*   ``set_vector`` - функція, яка задає і повертає як результат вектор вільних членів \n",
    "*   виконати відповідну комірку з визначеннм цих функцій кожного разу, коли матрицю або вектор змінюють "
   ]
  },
  {
   "cell_type": "markdown",
   "metadata": {
    "tags": []
   },
   "source": [
    "#### Обчислювальні експерименти\n",
    "------------"
   ]
  },
  {
   "cell_type": "markdown",
   "metadata": {
    "tags": []
   },
   "source": [
    "Продемонструємо на прикладах розв'язування СЛАР методом Гаусса ."
   ]
  },
  {
   "cell_type": "markdown",
   "metadata": {
    "tags": []
   },
   "source": [
    "**Приклад 1.** (приклад 2.1) Обчислити методом Гаусса розв'язок СЛАР\n",
    "$$\n",
    "\\left\\{\\begin{array}{rcl}\n",
    "2x_1 + 2x_2 + 3x_3 &\\!=\\!& 1, \\\\\n",
    "x_1 + 3x_2 + 2x_3 &\\!=\\!& -8, \\\\\n",
    "2x_1 + x_2 + 2x_3 &\\!=\\!& 3. \\\\\n",
    "\\end{array} \\right.\n",
    "$$\n"
   ]
  },
  {
   "cell_type": "markdown",
   "metadata": {
    "id": "4OrUqmgnS2x9",
    "tags": []
   },
   "source": [
    "Спочатку визначимо функції, які задаватимуть матрицю і вектор вільних членів СЛАР :"
   ]
  },
  {
   "cell_type": "code",
   "execution_count": 5,
   "metadata": {
    "id": "IdDn2xvxQF1n"
   },
   "outputs": [],
   "source": [
    "def set_matrix(n):\n",
    "    \"\"\" функція для задання матриці конкретної СЛАР (по рядках)\"\"\"   \n",
    "    return np.array([[2, 2, 3],[1,3,2],[2,1,2]],dtype=float )"
   ]
  },
  {
   "cell_type": "code",
   "execution_count": 6,
   "metadata": {
    "id": "ZpgpDhlWQF1o",
    "tags": []
   },
   "outputs": [],
   "source": [
    "def set_vector(n):\n",
    "    \"\"\" функція для задання вектора вільних членів конкретної СЛАР\"\"\"\n",
    "    return np.array([1, -8, 3],dtype=float)"
   ]
  },
  {
   "cell_type": "markdown",
   "metadata": {
    "id": "4OrUqmgnS2x9",
    "tags": []
   },
   "source": [
    "Знайдемо чисельний розв'язок СЛАР:"
   ]
  },
  {
   "cell_type": "code",
   "execution_count": 7,
   "metadata": {
    "tags": []
   },
   "outputs": [
    {
     "name": "stdout",
     "output_type": "stream",
     "text": [
      "Чисельний розв'язок СЛАР при n=3\n",
      "  x=[ 1. -5.  3.]\n"
     ]
    }
   ],
   "source": [
    "n=3\n",
    "x = GEM_solver(n, set_matrix, set_vector)\n",
    "print(f'Чисельний розв\\'язок СЛАР при n={n}\\n  x={x}')"
   ]
  },
  {
   "cell_type": "markdown",
   "metadata": {},
   "source": [
    "Метод Гаусса є представником так званих прямих методів. Відомо, що вони є чутливими до похибок, які виникають в процесі обчислень. Продемонструємо це на наступному прикладі."
   ]
  },
  {
   "cell_type": "markdown",
   "metadata": {
    "tags": []
   },
   "source": [
    "**Приклад 2.** Нехай елементи матриці і вектор вільних членів СЛАР задані формулами $a_{i,j} = (i+j+1)^{-1}, \\; i,j=\\overline{0,n-1},\\; n \\in \\mathbb{N},$  та\n",
    "$b_i = \\sum_{j=0}^{n-1}(i+j+1)^{-1}, \\; i=\\overline{0,n-1},\\; n \\in \\mathbb{N},$ відповідно. Обчислити методом Гаусса розв'язок СЛАР (1) при різних значеннях $n$."
   ]
  },
  {
   "cell_type": "markdown",
   "metadata": {},
   "source": [
    "Легко бачити, що при довільному $n$ розв'язком такої системи є вектор $x = (1, 1,\\ldots,1)^\\top$, складений з одиничок. Зазначимо, що так задану матрицю називають матрицею Гільберта. Відомо, що при зростанні розміру $n$ задана у такий спосіб СЛАР стає погано обумовленою, тобто на її чисельний розв'язок суттєво впливатимуть похибки обчислень. "
   ]
  },
  {
   "cell_type": "markdown",
   "metadata": {},
   "source": [
    "Спочатку визначимо функції, які  задаватимуть СЛАР невеликого розміру:"
   ]
  },
  {
   "cell_type": "code",
   "execution_count": 8,
   "metadata": {
    "id": "IdDn2xvxQF1n",
    "tags": []
   },
   "outputs": [],
   "source": [
    "def set_matrix(n):\n",
    "    \"\"\" функція для задання матриці конкретної СЛАР (по рядках)\"\"\"   \n",
    "    a = np.empty((n,n),dtype=float)\n",
    "    for i in range(n):\n",
    "        for j in range(n):\n",
    "            a[i,j] = 1/(i+j+1) \n",
    "    return a"
   ]
  },
  {
   "cell_type": "code",
   "execution_count": 9,
   "metadata": {
    "id": "IdDn2xvxQF1n"
   },
   "outputs": [],
   "source": [
    "def set_vector(n):\n",
    "    \"\"\" функція для задання матриці конкретної СЛАР (по рядках)\"\"\"   \n",
    "    b = np.zeros(n ,dtype=float)\n",
    "    for i in range(n):\n",
    "        for j in range(n):\n",
    "            b[i] += 1/(i+j+1) \n",
    "    return b"
   ]
  },
  {
   "cell_type": "markdown",
   "metadata": {},
   "source": [
    "Можемо переглянути, який вигляд мають матриця і вектор вільних членів, згенеровані цими функціями, для невеликих значень $n$:"
   ]
  },
  {
   "cell_type": "code",
   "execution_count": 10,
   "metadata": {},
   "outputs": [
    {
     "data": {
      "text/plain": [
       "array([[1.        , 0.5       , 0.33333333, 0.25      , 0.2       ],\n",
       "       [0.5       , 0.33333333, 0.25      , 0.2       , 0.16666667],\n",
       "       [0.33333333, 0.25      , 0.2       , 0.16666667, 0.14285714],\n",
       "       [0.25      , 0.2       , 0.16666667, 0.14285714, 0.125     ],\n",
       "       [0.2       , 0.16666667, 0.14285714, 0.125     , 0.11111111]])"
      ]
     },
     "execution_count": 10,
     "metadata": {},
     "output_type": "execute_result"
    }
   ],
   "source": [
    "set_matrix(5)"
   ]
  },
  {
   "cell_type": "code",
   "execution_count": 11,
   "metadata": {
    "tags": []
   },
   "outputs": [
    {
     "data": {
      "text/plain": [
       "array([2.28333333, 1.45      , 1.09285714, 0.88452381, 0.74563492])"
      ]
     },
     "execution_count": 11,
     "metadata": {},
     "output_type": "execute_result"
    }
   ],
   "source": [
    "set_vector(5)"
   ]
  },
  {
   "cell_type": "markdown",
   "metadata": {},
   "source": [
    "Знайдемо тепер чисельний розв'язок методом Гаусса при  $n=5$:"
   ]
  },
  {
   "cell_type": "code",
   "execution_count": 12,
   "metadata": {
    "tags": []
   },
   "outputs": [
    {
     "name": "stdout",
     "output_type": "stream",
     "text": [
      "Чисельний розв'язок СЛАР при n=5\n",
      "  x=[1. 1. 1. 1. 1.]\n"
     ]
    }
   ],
   "source": [
    "n=5\n",
    "x = GEM_solver(n, set_matrix, set_vector)\n",
    "print(f'Чисельний розв\\'язок СЛАР при n={n}\\n  x={x}')"
   ]
  },
  {
   "cell_type": "markdown",
   "metadata": {},
   "source": [
    "Як бачимо, він повністю співпадає з точним розв'язком цієї системи."
   ]
  },
  {
   "cell_type": "markdown",
   "metadata": {},
   "source": [
    "Знайдемо тепер чисельний розв'язок СЛАР більшого розміру: "
   ]
  },
  {
   "cell_type": "code",
   "execution_count": 13,
   "metadata": {
    "tags": []
   },
   "outputs": [
    {
     "name": "stdout",
     "output_type": "stream",
     "text": [
      "Чисельний розв'язок СЛАР при n=10\n",
      "  x=[1.         1.00000011 0.99999774 1.00002048 0.99990264 1.00026691\n",
      " 0.99956309 1.0004214  0.99977914 1.0000485 ]\n"
     ]
    }
   ],
   "source": [
    "n=10\n",
    "x = GEM_solver(n, set_matrix, set_vector)\n",
    "print(f'Чисельний розв\\'язок СЛАР при n={n}\\n  x={x}')"
   ]
  },
  {
   "cell_type": "code",
   "execution_count": 14,
   "metadata": {
    "tags": []
   },
   "outputs": [
    {
     "name": "stdout",
     "output_type": "stream",
     "text": [
      "Чисельний розв'язок СЛАР при n=12\n",
      "  x=[0.99999998 1.00000272 0.99991614 1.00112492 0.99185897 1.03538471\n",
      " 0.90231481 1.17541948 0.79576776 1.14866257 0.93852547 1.01102248]\n"
     ]
    }
   ],
   "source": [
    "n=12\n",
    "x = GEM_solver(n, set_matrix, set_vector)\n",
    "print(f'Чисельний розв\\'язок СЛАР при n={n}\\n  x={x}')"
   ]
  },
  {
   "cell_type": "code",
   "execution_count": 15,
   "metadata": {
    "tags": []
   },
   "outputs": [
    {
     "name": "stdout",
     "output_type": "stream",
     "text": [
      "Чисельний розв'язок СЛАР при n=15\n",
      "  x=[ 0.99999997  1.00000242  0.99999492  0.99864026  1.02566811  0.78193349\n",
      "  2.06684093 -2.2790367   7.53239313 -7.35504757  7.38066706 -1.12904142\n",
      "  0.42574875  1.73328423  0.81795234]\n"
     ]
    }
   ],
   "source": [
    "n=15\n",
    "x = GEM_solver(n, set_matrix, set_vector)\n",
    "print(f'Чисельний розв\\'язок СЛАР при n={n}\\n  x={x}')"
   ]
  },
  {
   "cell_type": "markdown",
   "metadata": {},
   "source": [
    "Як бачимо, вже при $n\\geq 12$ чисельний розв'язок уже суттєво відрізняється від точного, тобто метод Гаусса стає непридатним для таких СЛАР."
   ]
  },
  {
   "cell_type": "code",
   "execution_count": null,
   "metadata": {},
   "outputs": [],
   "source": []
  }
 ],
 "metadata": {
  "anaconda-cloud": {},
  "colab": {
   "name": "oom_2_2_1_simple_iteration.ipynb",
   "private_outputs": true,
   "provenance": []
  },
  "kernelspec": {
   "display_name": "Python 3 (ipykernel)",
   "language": "python",
   "name": "python3"
  },
  "language_info": {
   "codemirror_mode": {
    "name": "ipython",
    "version": 3
   },
   "file_extension": ".py",
   "mimetype": "text/x-python",
   "name": "python",
   "nbconvert_exporter": "python",
   "pygments_lexer": "ipython3",
   "version": "3.9.7"
  }
 },
 "nbformat": 4,
 "nbformat_minor": 4
}
