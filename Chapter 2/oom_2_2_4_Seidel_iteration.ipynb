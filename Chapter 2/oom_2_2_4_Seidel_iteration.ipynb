{
 "cells": [
  {
   "cell_type": "markdown",
   "metadata": {
    "id": "uDSAycn9QF1Y"
   },
   "source": [
    "# 2.2 Ітераційні методи розв'язування СЛАР\n",
    "---------------------"
   ]
  },
  {
   "cell_type": "markdown",
   "metadata": {
    "id": "TrvVaZ02QF1h",
    "tags": []
   },
   "source": [
    "## 2.2.4.  Метод Зейделя"
   ]
  },
  {
   "cell_type": "markdown",
   "metadata": {
    "id": "elD_lWBKQF1j"
   },
   "source": [
    "Нехай маємо СЛАР\n",
    "\n",
    "$(1)\\qquad\\qquad\\qquad A\\,x = b,$\n",
    "\n",
    "де  $x \\in \\mathbb{R}^{n}$  --- невідомий вектор, $n \\ge 2$ - довільне натуральне число,\n",
    "$A\\in \\mathbb{R}^{n\\times n},\\; b\\in \\mathbb{R}^{n}$ - задані квадратна матриця і вектор вільних членів відповідно:\n",
    "\n",
    "$(2)\\qquad\\qquad\n",
    "A=\n",
    "\\begin{pmatrix}\n",
    "a_{11} & a_{12} &\\ldots & a_{1n} \\\\\n",
    "a_{21} & a_{22} &\\ldots & a_{2n} \\\\\n",
    "\\ldots & \\ldots & \\ldots \\\\\n",
    "a_{n1} & a_{n2} &\\ldots & a_{nn}\n",
    "\\end{pmatrix},\\quad  \n",
    "b=\n",
    "\\begin{pmatrix}\n",
    "b_{1}\\\\\n",
    "b_{2}\\\\\n",
    "\\ldots  \\\\\n",
    "b_{n}\n",
    "\\end{pmatrix}.\n",
    "$\n",
    "\n",
    "Вважаємо, що $\\mathrm{det} A\\neq 0$, а також $a_{ii} \\neq 0, \\; i \\in \\overline {1, n}$.\n",
    "\n",
    "\n",
    "Метод *Зейделя* полягає в обчисленні послідовності \n",
    "\n",
    "$\\qquad\\qquad x^0, x^1, \\ldots, x^k, \\ldots$\n",
    "\n",
    "наближень розв'язку системи за правилом:\n",
    "\n",
    "$(3)\\qquad\\qquad\\qquad\n",
    "x_{i}^{k+1} =  - \\sum_{j=1}^{i-1} \\frac{a_{ij}}{a_{ii}} x_j^{k+1} - \\sum_{j=i+1}^n\n",
    "\\frac{a_{ij}}{a_{ii}} x_j^k + d_i,\\quad\n",
    " i =\\overline{1,n},\\ \\ \\ k\\in \\mathbb{N}_0.\n",
    "$\n",
    "\n",
    "де \n",
    "$x^k =(x_1^k,x_2^k, \\dots , x_n^k)^\\top$ -- $k$-та ітерація вектора наближень, $x^0 \\in \\mathbb{R}^n$ -- початкове наближення.\n"
   ]
  },
  {
   "cell_type": "markdown",
   "metadata": {
    "id": "C56etMUzw6qS",
    "tags": []
   },
   "source": [
    "#### Пояснення до використання програмного коду\n",
    "-----------------"
   ]
  },
  {
   "cell_type": "markdown",
   "metadata": {
    "id": "C56etMUzw6qS"
   },
   "source": [
    "*   Підготувати обчислювальне середовище і потрібні функції :\n",
    "    1. виконати комірку для підготовки середовища\n",
    "    2. виконати комірку, де визначені допоміжні функції  ``norm_1``,``norm_2`` i ``norm_3``    \n",
    "    3. виконати комірку, де визначена функція ``simple_iteration`` \n",
    "    4. виконати комірку, де визначені функції ``Jacobi_modification`` і ``Seidel_solver``\n",
    "*   Обчислити шуканий розв'язок заданої СЛАР :\n",
    "    1. виконати комірки, де визначені функції ``set_matrix`` i ``set_vector`` \n",
    "    2. виконати комірку, де визначена функція ``set_x0`` \n",
    "    3. виконати комірку із заданням точності ``eps`` і максимальної кількості ітерацій ``max_iter``\n",
    "    4. Виконати комірку з викликом функції``Seidel_solver``"
   ]
  },
  {
   "cell_type": "markdown",
   "metadata": {
    "tags": []
   },
   "source": [
    "#### Програмна реалізація методу\n",
    "------------"
   ]
  },
  {
   "cell_type": "markdown",
   "metadata": {
    "tags": []
   },
   "source": [
    ">#### Підготовка середовища"
   ]
  },
  {
   "cell_type": "code",
   "execution_count": 1,
   "metadata": {
    "id": "Dv08qO4sQF1k",
    "tags": []
   },
   "outputs": [],
   "source": [
    "import numpy as np"
   ]
  },
  {
   "cell_type": "markdown",
   "metadata": {
    "tags": []
   },
   "source": [
    ">#### Допоміжні функції"
   ]
  },
  {
   "cell_type": "code",
   "execution_count": 2,
   "metadata": {
    "id": "jb5hlEr5QF1p"
   },
   "outputs": [],
   "source": [
    "def norm_1(a):\n",
    "    \"\"\"обчислення норми_1 матриці a\"\"\"   \n",
    "    m=0\n",
    "    for i in range(a.shape[0]):\n",
    "        s=0\n",
    "        for j in range(a.shape[1]):\n",
    "            s+=abs(a[i][j])\n",
    "        if s>m:\n",
    "            m=s\n",
    "    return m\n",
    "\n",
    "def norm_2(a):\n",
    "    \"\"\"обчислення норми_2 матриці a\"\"\"   \n",
    "    m=0\n",
    "    for j in range(a.shape[1]):\n",
    "        s=0\n",
    "        for i in range(a.shape[0]):\n",
    "            s+=abs(a[i][j])\n",
    "        if s>m:\n",
    "            m=s\n",
    "    return m\n",
    "\n",
    "def norm_3(a):\n",
    "    \"\"\"обчислення евклідової норми вектора a\"\"\"\n",
    "    return np.sqrt(np.sum(a**2))"
   ]
  },
  {
   "cell_type": "markdown",
   "metadata": {
    "id": "ocZR4xN_cvNf",
    "tags": []
   },
   "source": [
    ">#### ``Jacobi_modification`` -- функція, яка модифікує матрицю і вектор вільних членів СЛАР (1)     \n",
    "\n",
    "-------------------"
   ]
  },
  {
   "cell_type": "code",
   "execution_count": 3,
   "metadata": {
    "id": "jb5hlEr5QF1p"
   },
   "outputs": [],
   "source": [
    "def Jacobi_modification(a, b):\n",
    "    \"\"\" модифікація матриці і вектора вільних членів СЛАР \"\"\"\n",
    "    for i in range(a.shape[0]):\n",
    "        b[i] /= a[i,i]\n",
    "        a[i,:] /= -a[i,i]\n",
    "        a[i,i]=0\n",
    "        "
   ]
  },
  {
   "cell_type": "markdown",
   "metadata": {
    "id": "ocZR4xN_cvNf"
   },
   "source": [
    ">#### ``Seidel_iteration`` -- функція, яка реалізує метод Зейделя для розв'язування СЛАР\n",
    "\n",
    "-------------------"
   ]
  },
  {
   "cell_type": "code",
   "execution_count": 4,
   "metadata": {
    "id": "0qc5BcctO5t2"
   },
   "outputs": [],
   "source": [
    "def Seidel_iteration(b,d,x0,eps,iter_print):\n",
    "    \"\"\" послідовно обчислює наближення розв'язку СЛАР \n",
    "      за методом Зейделя, поки евклідова норма \n",
    "      різниці двох послідовних наближень не стане меншою заданої точності eps      \n",
    "      \"\"\"\n",
    "    n=b.shape[0]\n",
    "    x_prev=x0.copy()\n",
    "    \n",
    "    k=1\n",
    "    x_n = np.empty(n) \n",
    "    x_n[0]=np.matmul(b[0,1:],x_prev[1:]).sum() +d[0]\n",
    "    for i in range(1,n):\n",
    "        x_n[i]= np.matmul(b[i,:i],x_n[:i]).sum() + np.matmul(b[i,i+1:],x_prev[i+1:]).sum() +d[i] \n",
    "\n",
    "    while norm_3(x_n - x_prev)  > eps and k < max_iter:        \n",
    "        x_prev=x_n.copy()  \n",
    "        \n",
    "        k+=1\n",
    "        x_n[0]=np.matmul(b[0,1:],x_prev[1:]).sum() +d[0]   \n",
    "        for i in range(1,n):\n",
    "            x_n[i]= np.matmul(b[i,:i],x_n[:i]).sum() + np.matmul(b[i,i+1:],x_prev[i+1:]).sum() +d[i] \n",
    "            \n",
    "    return k, x_n\n",
    "    "
   ]
  },
  {
   "cell_type": "markdown",
   "metadata": {
    "id": "ocZR4xN_cvNf",
    "tags": []
   },
   "source": [
    ">#### ``Seidel_solver`` -- функція, яка організовує обчислення наближеного розв'язку СЛАР (1) методом Зейделя з точністю ``eps`` \n",
    "-------------------"
   ]
  },
  {
   "cell_type": "code",
   "execution_count": 11,
   "metadata": {},
   "outputs": [
    {
     "name": "stdout",
     "output_type": "stream",
     "text": [
      "Чисельний розв'язок системи \n",
      " x=[1.00008551 1.99994699 2.99998085] \n",
      " обчислено за 5 ітерацій\n",
      "похибка чисельного розв'язку 0.00010241602653679628.\n"
     ]
    }
   ],
   "source": [
    "eps=0.001\n",
    "k, xk = Seidel_solver(set_matrix, set_vector, set_x0, eps, max_iter)\n",
    "\n",
    "if k > 0 and k < max_iter:\n",
    "    print(f\"Чисельний розв'язок системи \\n x={xk} \\n обчислено за {k} ітерацій\")\n",
    "    print(f\"похибка чисельного розв'язку {norm_3(xk-x)}.\")\n",
    "elif  k == max_iter : \n",
    "    print(f\"Чисельний розв'язок системи не обчислено за {k} ітерацій\")\n",
    "else:\n",
    "    print(\"Матриця СЛАР (1) не задовольняє достатню умову збіжності ітерацій\")"
   ]
  },
  {
   "cell_type": "markdown",
   "metadata": {
    "id": "JML_Qdgo363W",
    "tags": []
   },
   "source": [
    ">#### Функції для задання матриці та векторів вільних членів та початкового наближення конкретних СЛАР\n",
    "*   ``set_matrix`` - функція, яка задає і повертає як результат матрицю СЛАР\n",
    "*   ``set_vector`` - функція, яка задає і повертає як результат вектор вільних членів \n",
    "*   ``set_x0`` - функція, яка задає і повертає як результат вектор початкового наближення\n",
    "*   виконати відповідну комірку з визначеннм цих функцій кожного разу, коли матрицю або вектор змінюють "
   ]
  },
  {
   "cell_type": "markdown",
   "metadata": {
    "tags": []
   },
   "source": [
    "#### Обчислювальні експерименти\n",
    "------------"
   ]
  },
  {
   "cell_type": "markdown",
   "metadata": {
    "tags": []
   },
   "source": [
    "Продемонструємо на прикладах застосування ітераційного методу Зейделя  до розв'язування СЛАР."
   ]
  },
  {
   "cell_type": "markdown",
   "metadata": {
    "tags": []
   },
   "source": [
    "**Приклад 1.** (приклад 2.4) Обчислити методом Зейделя розв'язок СЛАР\n",
    "\\begin{equation}\\label{2.2.2}\n",
    "\\left\\{\\begin{array}{rcl}\n",
    "10 x_1 + \\;\\, x_2 +\\;\\; 2 x_3 & = 18 \\\\\n",
    "\\quad x_1 + 5 x_2 - \\; \\;\\; x_3  & = 8 \\\\\n",
    "\\quad x_1 - 2 x_2 + 10 x_3  & = 27\\,\n",
    "\\end{array} \\right. \n",
    "\\end{equation}"
   ]
  },
  {
   "cell_type": "markdown",
   "metadata": {},
   "source": [
    "Легко переконатися, що вектор  $x=(1,2,3)^\\top$ є точним розв'язком цієї системи, збережемо це значення:"
   ]
  },
  {
   "cell_type": "code",
   "execution_count": 6,
   "metadata": {
    "tags": []
   },
   "outputs": [],
   "source": [
    "x=np.array([1, 2, 3])"
   ]
  },
  {
   "cell_type": "markdown",
   "metadata": {
    "tags": []
   },
   "source": [
    "Підготуємо функції, які задаватимуть матрицю СЛАР та вектори вільних членів $d$ і початкового наближення $x^0$:"
   ]
  },
  {
   "cell_type": "code",
   "execution_count": 7,
   "metadata": {
    "id": "IdDn2xvxQF1n"
   },
   "outputs": [],
   "source": [
    "def set_matrix():\n",
    "    \"\"\" функція для задання матриці СЛАР\"\"\"\n",
    "    matrix=np.array([[10, 1, 2],[1,5,-1],[1,-2,10]],dtype=float )\n",
    "    return matrix"
   ]
  },
  {
   "cell_type": "code",
   "execution_count": 8,
   "metadata": {
    "id": "ZpgpDhlWQF1o"
   },
   "outputs": [],
   "source": [
    "def set_vector():\n",
    "    \"\"\" функція для задання вектора вільних членів СЛАР\"\"\"\n",
    "    vector=np.array([[18], [8], [27]],dtype=float)\n",
    "    return vector"
   ]
  },
  {
   "cell_type": "code",
   "execution_count": 9,
   "metadata": {
    "id": "ZpgpDhlWQF1o",
    "tags": []
   },
   "outputs": [],
   "source": [
    "def set_x0():\n",
    "    \"\"\" функція для задання вектора початкового наближення розв'язку\"\"\"\n",
    "    return np.array([[1], [2], [1]],dtype=float)"
   ]
  },
  {
   "cell_type": "markdown",
   "metadata": {},
   "source": [
    "Оскільки ми не робили оцінки необхідної кількості ітерацій, то наперед обмежимо їх достатньо великим числом: "
   ]
  },
  {
   "cell_type": "code",
   "execution_count": 22,
   "metadata": {},
   "outputs": [],
   "source": [
    "max_iter=100"
   ]
  },
  {
   "cell_type": "markdown",
   "metadata": {},
   "source": [
    "Знайдемо чисельний розв'язок СЛАР, попередньо задавши значення параметра $eps$: "
   ]
  },
  {
   "cell_type": "code",
   "execution_count": 11,
   "metadata": {},
   "outputs": [
    {
     "name": "stdout",
     "output_type": "stream",
     "text": [
      "Чисельний розв'язок системи \n",
      " x=[1.00008551 1.99994699 2.99998085] \n",
      " обчислено за 5 ітерацій\n",
      "похибка чисельного розв'язку 0.00010241602653679628.\n"
     ]
    }
   ],
   "source": [
    "eps=0.001\n",
    "k, xk = Seidel_solver(set_matrix, set_vector, set_x0, eps, max_iter)\n",
    "\n",
    "if k > 0 and k < max_iter:\n",
    "    print(f\"Чисельний розв'язок системи \\n x={xk} \\n обчислено за {k} ітерацій\")\n",
    "    print(f\"похибка чисельного розв'язку {norm_3(xk-x)}.\")\n",
    "elif  k == max_iter : \n",
    "    print(f\"Чисельний розв'язок системи не обчислено за {k} ітерацій\")\n",
    "else:\n",
    "    print(\"Матриця СЛАР (1) не задовольняє достатню умову збіжності ітерацій\")"
   ]
  },
  {
   "cell_type": "markdown",
   "metadata": {},
   "source": [
    "Можемо досягти більшої точності чисельного розв'язку, модифікуючи значення параметра $eps$: "
   ]
  },
  {
   "cell_type": "code",
   "execution_count": 12,
   "metadata": {},
   "outputs": [
    {
     "name": "stdout",
     "output_type": "stream",
     "text": [
      "Чисельний розв'язок системи \n",
      " x=[1.00000097 1.9999994  2.99999978] \n",
      " обчислено за 7 ітерацій\n",
      "похибка чисельного розв'язку 1.1670628701770979e-06.\n"
     ]
    }
   ],
   "source": [
    "eps=0.00001\n",
    "k, xk = Seidel_solver(set_matrix, set_vector, set_x0, eps, max_iter)\n",
    "\n",
    "if k > 0 and k < max_iter:\n",
    "    print(f\"Чисельний розв'язок системи \\n x={xk} \\n обчислено за {k} ітерацій\")\n",
    "    print(f\"похибка чисельного розв'язку {norm_3(xk-x)}.\")\n",
    "elif  k == max_iter : \n",
    "    print(f\"Чисельний розв'язок системи не обчислено за {k} ітерацій\")\n",
    "else:\n",
    "    print(\"Матриця СЛАР (1) не задовольняє достатню умову збіжності ітерацій\")"
   ]
  },
  {
   "cell_type": "code",
   "execution_count": 13,
   "metadata": {},
   "outputs": [
    {
     "name": "stdout",
     "output_type": "stream",
     "text": [
      "Чисельний розв'язок системи \n",
      " x=[1. 2. 3.] \n",
      " обчислено за 10 ітерацій\n",
      "похибка чисельного розв'язку 1.4192169363730446e-09.\n"
     ]
    }
   ],
   "source": [
    "eps=0.0000001\n",
    "k, xk = Seidel_solver(set_matrix, set_vector, set_x0, eps, max_iter)\n",
    "\n",
    "if k > 0 and k < max_iter:\n",
    "    print(f\"Чисельний розв'язок системи \\n x={xk} \\n обчислено за {k} ітерацій\")\n",
    "    print(f\"похибка чисельного розв'язку {norm_3(xk-x)}.\")\n",
    "elif  k == max_iter : \n",
    "    print(f\"Чисельний розв'язок системи не обчислено за {k} ітерацій\")\n",
    "else:\n",
    "    print(\"Матриця СЛАР (1) не задовольняє достатню умову збіжності ітерацій\")"
   ]
  },
  {
   "cell_type": "markdown",
   "metadata": {},
   "source": [
    "Якщо порівняти отримані чисельні розв'язки даної СЛАР з розв'язками методу Якобі, то можна побачити, що метод Зейделя тосягає потрібну точність за меншу кількість ітерацій."
   ]
  },
  {
   "cell_type": "code",
   "execution_count": null,
   "metadata": {},
   "outputs": [],
   "source": []
  },
  {
   "cell_type": "markdown",
   "metadata": {},
   "source": [
    "Зейдель для матриці Гільберта"
   ]
  },
  {
   "cell_type": "code",
   "execution_count": 26,
   "metadata": {},
   "outputs": [],
   "source": [
    "def Seidel_solver_Hilbert(n,set_matrix, set_vector,set_x0, eps, max_iter):\n",
    "    \"\"\" Розв'язування СЛАР методом простих ітерацій \"\"\"      \n",
    "    b=set_matrix(n)  \n",
    "    d=set_vector(n)\n",
    "    Jacobi_modification(b, d) \n",
    "    k=0\n",
    "    if norm_1(b)<10 or norm_2(b)<10 : \n",
    "        x0=set_x0(n)        \n",
    "        k, x = Seidel_iteration(b,d,x0,eps,max_iter)\n",
    "        return k, x   \n",
    "    else:\n",
    "        return k, d \n",
    "    "
   ]
  },
  {
   "cell_type": "code",
   "execution_count": 33,
   "metadata": {
    "id": "IdDn2xvxQF1n",
    "tags": []
   },
   "outputs": [],
   "source": [
    "def set_matrix(n):\n",
    "    \"\"\" функція для задання матриці конкретної СЛАР (по рядках)\"\"\"   \n",
    "    a = np.empty((n,n),dtype=float)\n",
    "    for i in range(n):\n",
    "        for j in range(n):\n",
    "            a[i,j] = 1/(i+j+1) \n",
    "    return a"
   ]
  },
  {
   "cell_type": "code",
   "execution_count": 34,
   "metadata": {
    "id": "IdDn2xvxQF1n"
   },
   "outputs": [],
   "source": [
    "def set_vector(n):\n",
    "    \"\"\" функція для задання матриці конкретної СЛАР (по рядках)\"\"\"   \n",
    "    b = np.zeros(n ,dtype=float)\n",
    "    for i in range(n):\n",
    "        for j in range(n):\n",
    "            b[i] += 1/(i+j+1) \n",
    "    return b"
   ]
  },
  {
   "cell_type": "code",
   "execution_count": 38,
   "metadata": {
    "id": "ZpgpDhlWQF1o",
    "tags": []
   },
   "outputs": [],
   "source": [
    "def set_x0(n):\n",
    "    \"\"\" функція для задання вектора початкового наближення розв'язку\"\"\"\n",
    "    return set_vector(n)"
   ]
  },
  {
   "cell_type": "code",
   "execution_count": 24,
   "metadata": {},
   "outputs": [],
   "source": [
    "n=5"
   ]
  },
  {
   "cell_type": "code",
   "execution_count": 32,
   "metadata": {},
   "outputs": [
    {
     "name": "stdout",
     "output_type": "stream",
     "text": [
      "Чисельний розв'язок системи \n",
      " x=[0.99998456 1.00028347 0.99879233 1.00180808 0.99912123] \n",
      " обчислено за 60054 ітерацій\n"
     ]
    }
   ],
   "source": [
    "eps=0.0000001\n",
    "max_iter=100000\n",
    "k, xk = Seidel_solver_Hilbert(n,set_matrix, set_vector, set_x0, eps, max_iter)\n",
    "\n",
    "if k > 0 and k < max_iter:\n",
    "    print(f\"Чисельний розв'язок системи \\n x={xk} \\n обчислено за {k} ітерацій\")\n",
    "    #print(f\"похибка чисельного розв'язку {norm_3(xk-x)}.\")\n",
    "elif  k == max_iter : \n",
    "    print(f\"Чисельний розв'язок системи не обчислено за {k} ітерацій\")\n",
    "else:\n",
    "    print(\"Матриця СЛАР (1) не задовольняє достатню умову збіжності ітерацій\")"
   ]
  },
  {
   "cell_type": "code",
   "execution_count": null,
   "metadata": {},
   "outputs": [],
   "source": []
  },
  {
   "cell_type": "code",
   "execution_count": 48,
   "metadata": {},
   "outputs": [],
   "source": [
    "def Seidel_solver_HPS(n,set_matrix, set_vector,set_x0, eps, max_iter):\n",
    "    \"\"\" Розв'язування СЛАР методом простих ітерацій \"\"\"      \n",
    "    aa=set_matrix(n)  \n",
    "    bb=set_vector(n)\n",
    "    aT=aa.T\n",
    "    aTa=aT.dot(aa)\n",
    "    aTb=aT.dot(bb)\n",
    "    Jacobi_modification(aTa, aTb) \n",
    "    k=0\n",
    "    if norm_1(aTa)<100 or norm_2(aTa)<100 : \n",
    "        x0=set_x0(n)        \n",
    "        k, x = Seidel_iteration(aTa,aTb,x0,eps,max_iter)\n",
    "        return k, x   \n",
    "    else:\n",
    "        return k, bb \n",
    "    "
   ]
  },
  {
   "cell_type": "code",
   "execution_count": 51,
   "metadata": {},
   "outputs": [
    {
     "name": "stdout",
     "output_type": "stream",
     "text": [
      "Чисельний розв'язок системи \n",
      " x=[1.00142376 1.0333191  0.90862127 0.96381889 1.01723252 1.04820861\n",
      " 1.05983009 1.05769717 1.04638801 1.02917617 1.00831087 0.98531729\n",
      " 0.96122468 0.93672516 0.91228149] \n",
      " обчислено за 17079 ітерацій\n"
     ]
    }
   ],
   "source": [
    "eps=0.00001\n",
    "max_iter=100000\n",
    "n=15\n",
    "k, xk = Seidel_solver_HPS(n,set_matrix, set_vector, set_x0, eps, max_iter)\n",
    "\n",
    "if k > 0 and k < max_iter:\n",
    "    print(f\"Чисельний розв'язок системи \\n x={xk} \\n обчислено за {k} ітерацій\")\n",
    "    #print(f\"похибка чисельного розв'язку {norm_3(xk-x)}.\")\n",
    "elif  k == max_iter : \n",
    "    print(f\"Чисельний розв'язок системи не обчислено за {k} ітерацій\")\n",
    "else:\n",
    "    print(\"Матриця СЛАР (1) не задовольняє достатню умову збіжності ітерацій\")"
   ]
  },
  {
   "cell_type": "code",
   "execution_count": null,
   "metadata": {},
   "outputs": [],
   "source": []
  }
 ],
 "metadata": {
  "anaconda-cloud": {},
  "colab": {
   "name": "oom_2_2_1_simple_iteration.ipynb",
   "private_outputs": true,
   "provenance": []
  },
  "kernelspec": {
   "display_name": "Python 3 (ipykernel)",
   "language": "python",
   "name": "python3"
  },
  "language_info": {
   "codemirror_mode": {
    "name": "ipython",
    "version": 3
   },
   "file_extension": ".py",
   "mimetype": "text/x-python",
   "name": "python",
   "nbconvert_exporter": "python",
   "pygments_lexer": "ipython3",
   "version": "3.9.7"
  }
 },
 "nbformat": 4,
 "nbformat_minor": 4
}
