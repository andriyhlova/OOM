{
 "cells": [
  {
   "cell_type": "markdown",
   "metadata": {
    "id": "uDSAycn9QF1Y"
   },
   "source": [
    "# 2.2 Ітераційні методи розв'язування СЛАР\n",
    "---------------------"
   ]
  },
  {
   "cell_type": "markdown",
   "metadata": {
    "id": "TrvVaZ02QF1h",
    "tags": []
   },
   "source": [
    "## 2.2.4.  Метод Зейделя"
   ]
  },
  {
   "cell_type": "markdown",
   "metadata": {
    "id": "elD_lWBKQF1j"
   },
   "source": [
    "Нехай маємо СЛАР\n",
    "\n",
    "$(1)\\qquad\\qquad\\qquad A\\,x = b,$\n",
    "\n",
    "де  $x \\in \\mathbb{R}^{n}$  --- невідомий вектор, $n \\ge 2$ - довільне натуральне число,\n",
    "$A\\in \\mathbb{R}^{n\\times n},\\; b\\in \\mathbb{R}^{n}$ - задані квадратна матриця і вектор вільних членів відповідно:\n",
    "\n",
    "$(2)\\qquad\\qquad\n",
    "A=\n",
    "\\begin{pmatrix}\n",
    "a_{11} & a_{12} &\\ldots & a_{1n} \\\\\n",
    "a_{21} & a_{22} &\\ldots & a_{2n} \\\\\n",
    "\\ldots & \\ldots & \\ldots \\\\\n",
    "a_{n1} & a_{n2} &\\ldots & a_{nn}\n",
    "\\end{pmatrix},\\quad  \n",
    "b=\n",
    "\\begin{pmatrix}\n",
    "b_{1}\\\\\n",
    "b_{2}\\\\\n",
    "\\ldots  \\\\\n",
    "b_{n}\n",
    "\\end{pmatrix}.\n",
    "$\n",
    "\n",
    "Вважаємо, що $\\mathrm{det} A\\neq 0$, а також $a_{ii} \\neq 0, \\; i \\in \\overline {1, n}$.\n",
    "\n",
    "\n",
    "Метод *Зейделя* полягає в обчисленні послідовності \n",
    "\n",
    "$\\qquad\\qquad x^0, x^1, \\ldots, x^k, \\ldots$\n",
    "\n",
    "наближень розв'язку системи за правилом:\n",
    "\n",
    "$(3)\\qquad\\qquad\\qquad\n",
    "x_{i}^{k+1} =  - \\sum_{j=1}^{i-1} \\frac{a_{ij}}{a_{ii}} x_j^{k+1} - \\sum_{j=i+1}^n\n",
    "\\frac{a_{ij}}{a_{ii}} x_j^k + d_i,\\quad\n",
    " i =\\overline{1,n},\\ \\ \\ k\\in \\mathbb{N}_0.\n",
    "$\n",
    "\n",
    "де \n",
    "$x^k =(x_1^k,x_2^k, \\dots , x_n^k)^\\top$ --- $k$-та ітерація вектора наближень, $x^0 \\in \\mathbb{R}^n$ --- початкове наближення.\n"
   ]
  },
  {
   "cell_type": "markdown",
   "metadata": {
    "id": "C56etMUzw6qS",
    "tags": []
   },
   "source": [
    "#### Пояснення до використання програмного коду\n",
    "-----------------"
   ]
  },
  {
   "cell_type": "markdown",
   "metadata": {
    "id": "C56etMUzw6qS"
   },
   "source": [
    "*   Підготувати  функції, які потрібні для реалізації методу: \n",
    "    1.   виконати комірку з імпортом ``NumPy``\n",
    "    2.   виконати комірку з визначеннями допоміжних функцій ``norm_1``,``norm_2`` i ``norm_3``    \n",
    "    3.   виконати комірку з визначеннями функції ``simple_iteration`` \n",
    "    4.   виконати комірку з визначеннями функцій ``Jacobi_modification`` і ``Seidel_solver``\n",
    "*   Підготувати  функції, які задають конкретну СЛАР і дані чисельного методу\n",
    "    1.   виконати комірки з визначеннями функцій ``set_matrix`` i ``set_vector`` \n",
    "    2.   виконати комірку з визначеннями функцій ``set_x0`` \n",
    "    3.   виконати комірку із заданням точності ``eps`` і максимальної кількості ітерацій ``max_iter``\n",
    "*   Виконати комірку з викликом функції ``Seidel_solver``"
   ]
  },
  {
   "cell_type": "code",
   "execution_count": 2,
   "metadata": {
    "id": "Dv08qO4sQF1k"
   },
   "outputs": [],
   "source": [
    "import numpy as np"
   ]
  },
  {
   "cell_type": "code",
   "execution_count": 3,
   "metadata": {
    "id": "jb5hlEr5QF1p"
   },
   "outputs": [],
   "source": [
    "# Допоміжні функції\n",
    "\n",
    "def norm_1(a):\n",
    "    \"\"\"обчислення норми_1 матриці a\"\"\"   \n",
    "    m=0\n",
    "    for i in range(a.shape[0]):\n",
    "        s=0\n",
    "        for j in range(a.shape[1]):\n",
    "            s+=abs(a[i][j])\n",
    "        if s>m:\n",
    "            m=s\n",
    "    return m\n",
    "\n",
    "def norm_2(a):\n",
    "    \"\"\"обчислення норми_2 матриці a\"\"\"   \n",
    "    m=0\n",
    "    for j in range(a.shape[1]):\n",
    "        s=0\n",
    "        for i in range(a.shape[0]):\n",
    "            s+=abs(a[i][j])\n",
    "        if s>m:\n",
    "            m=s\n",
    "    return m\n",
    "def normv_1(a):\n",
    "    for i in range(len(a)):\n",
    "        a[i]=np.abs(a[i])\n",
    "    return np.max(a)\n",
    "\n",
    "def norm_3(a):\n",
    "    \"\"\"обчислення евклідової норми вектора a\"\"\"\n",
    "    return np.sqrt(np.sum(a**2))"
   ]
  },
  {
   "cell_type": "markdown",
   "metadata": {
    "id": "ocZR4xN_cvNf",
    "tags": []
   },
   "source": [
    ">#### ``Jacobi_modification`` модифікує матрицю і вектор вільних членів СЛАР (1)     \n",
    "\n",
    "-------------------"
   ]
  },
  {
   "cell_type": "code",
   "execution_count": 4,
   "metadata": {},
   "outputs": [],
   "source": [
    "def Jacobi_modification(a, b):\n",
    "    \"\"\" модифікація матриці і вектора вільних членів СЛАР \"\"\"\n",
    "    for i in range(a.shape[0]):\n",
    "        b[i] /= a[i,i]\n",
    "        a[i,:] /= -a[i,i]\n",
    "        a[i,i]=0\n",
    "        "
   ]
  },
  {
   "cell_type": "markdown",
   "metadata": {
    "id": "ocZR4xN_cvNf"
   },
   "source": [
    ">### Функція  ``Seidel_iteration``  реалізує метод Зейделя для розв'язування СЛАР\n",
    "\n",
    "-------------------\n",
    "*   На кожній ітерації $k$ для зберігання попереднього наближення розв'язку $x^{k-1}$ використовуємо вектор x_prev, \n",
    "*   Після обчислення нового значення $x^{k}$ зберігаємо його у векторі x_new  \n",
    "    \n",
    "\n"
   ]
  },
  {
   "cell_type": "code",
   "execution_count": 5,
   "metadata": {
    "id": "0qc5BcctO5t2"
   },
   "outputs": [],
   "source": [
    "def Seidel_iteration(b,d,x0,eps,iter_print):\n",
    "    \"\"\" послідовно обчислює наближення розв'язку СЛАР \n",
    "      за методом Зейделя, поки евклідова норма \n",
    "      різниці двох послідовних наближень не стане меншою заданої точності eps      \n",
    "      \"\"\"\n",
    "    n=b.shape[0]\n",
    "    x_prev=x0.copy()\n",
    "    \n",
    "    k=1\n",
    "    x_n = np.empty(n) \n",
    "    x_n[0]=np.matmul(b[0,1:],x_prev[1:]).sum() +d[0]\n",
    "    for i in range(1,n):\n",
    "        x_n[i]= np.matmul(b[i,:i],x_n[:i]).sum() + np.matmul(b[i,i+1:],x_prev[i+1:]).sum() +d[i] \n",
    "\n",
    "    while normv_1(x_n - x_prev)  > eps and k < max_iter:        \n",
    "        x_prev=x_n.copy()  \n",
    "        \n",
    "        k+=1\n",
    "        x_n[0]=np.matmul(b[0,1:],x_prev[1:]).sum() +d[0]   \n",
    "        for i in range(1,n):\n",
    "            x_n[i]= np.matmul(b[i,:i],x_n[:i]).sum() + np.matmul(b[i,i+1:],x_prev[i+1:]).sum() +d[i] \n",
    "            \n",
    "    return k, x_n\n",
    "    "
   ]
  },
  {
   "cell_type": "markdown",
   "metadata": {
    "id": "ocZR4xN_cvNf",
    "tags": []
   },
   "source": [
    ">#### ``Seidel_solver`` організовує обчислення наближеного розв'язку СЛАР (1) методом Зейделя з точністю ``eps`` \n",
    "-------------------\n"
   ]
  },
  {
   "cell_type": "code",
   "execution_count": 6,
   "metadata": {},
   "outputs": [],
   "source": [
    "def Seidel_solver(set_matrix, set_vector,set_x0, eps, max_iter):\n",
    "    \"\"\" Розв'язування СЛАР методом простих ітерацій \"\"\"      \n",
    "    b=set_matrix()  \n",
    "    d=set_vector()\n",
    "    Jacobi_modification(b, d) \n",
    "    k=0\n",
    "    if norm_1(b)<1 or norm_2(b)<1 : \n",
    "        x0=set_x0()        \n",
    "        k, x = Seidel_iteration(b,d,x0,eps,max_iter)\n",
    "        return k, x   \n",
    "    else:\n",
    "        return k, d \n",
    "    "
   ]
  },
  {
   "cell_type": "markdown",
   "metadata": {
    "id": "ocZR4xN_cvNf",
    "tags": []
   },
   "source": [
    ">#### Обчислення наближеного розв'язку СЛАР (1) методом Зейделя з точністю ``eps``\n",
    "\n",
    "-------------------"
   ]
  },
  {
   "cell_type": "code",
   "execution_count": 7,
   "metadata": {
    "id": "IdDn2xvxQF1n"
   },
   "outputs": [],
   "source": [
    "def set_matrix():\n",
    "    \"\"\" функція для задання матриці СЛАР\"\"\"\n",
    "    matrix=np.array([[10, 1, 2],[1,5,-1],[1,-2,10]],dtype=float )\n",
    "    return matrix"
   ]
  },
  {
   "cell_type": "code",
   "execution_count": 8,
   "metadata": {
    "id": "ZpgpDhlWQF1o"
   },
   "outputs": [],
   "source": [
    "def set_vector():\n",
    "    \"\"\" функція для задання вектора вільних членів СЛАР\"\"\"\n",
    "    vector=np.array([[18], [8], [27]],dtype=float)\n",
    "    return vector"
   ]
  },
  {
   "cell_type": "code",
   "execution_count": 9,
   "metadata": {
    "id": "ZpgpDhlWQF1o",
    "tags": []
   },
   "outputs": [],
   "source": [
    "def set_x0():\n",
    "    \"\"\" функція для задання вектора початкового наближення розв'язку\"\"\"\n",
    "    return np.array([[1], [2], [1]],dtype=float)"
   ]
  },
  {
   "cell_type": "code",
   "execution_count": 10,
   "metadata": {},
   "outputs": [],
   "source": [
    "eps=0.001\n",
    "max_iter=100"
   ]
  },
  {
   "cell_type": "code",
   "execution_count": 11,
   "metadata": {},
   "outputs": [
    {
     "name": "stdout",
     "output_type": "stream",
     "text": [
      "Наближений розв'язок системи \n",
      " [1.00008551 1.99994699 2.99998085] \n",
      " обчислено за 5 ітерацій\n"
     ]
    }
   ],
   "source": [
    "cond, x = Seidel_solver(set_matrix, set_vector, set_x0, eps, max_iter)\n",
    "\n",
    "if cond > 0 and cond < max_iter:\n",
    "    print(f\"Наближений розв'язок системи \\n {x} \\n обчислено за {cond} ітерацій\")\n",
    "elif  cond == max_iter : \n",
    "    print(f\"Наближений розв'язок системи не обчислено за {cond} ітерацій\")\n",
    "else:\n",
    "    print(\"Матриця СЛАР (1) не задовольняє достатню умову збіжності ітерацій\")"
   ]
  },
  {
   "cell_type": "code",
   "execution_count": null,
   "metadata": {
    "tags": []
   },
   "outputs": [],
   "source": []
  },
  {
   "cell_type": "code",
   "execution_count": 12,
   "metadata": {
    "tags": []
   },
   "outputs": [],
   "source": [
    "from scipy import linalg"
   ]
  },
  {
   "cell_type": "code",
   "execution_count": 46,
   "metadata": {
    "id": "jb5hlEr5QF1p"
   },
   "outputs": [],
   "source": [
    "def Jacobi_decomposition(a,b):\n",
    "    \"\"\" модифікація матриці a і вектора b вільних членів СЛАР  \n",
    "        повернення M i L, M+L=a \n",
    "    \"\"\"\n",
    "    n=a.shape[0]\n",
    "    M=np.zeros((n,n), dtype=float)\n",
    "    L=np.zeros((n,n), dtype=float)\n",
    "    for i in range(n):        \n",
    "        b[i] /= a[i,i]\n",
    "        M[i, :i+1] = a[i,:i+1] / a[i,i]\n",
    "        L[i, i+1:] = a[i, i+1:] / a[i,i]\n",
    "        a[i,:] /= a[i,i]\n",
    "    return M,L\n",
    "        "
   ]
  },
  {
   "cell_type": "code",
   "execution_count": 13,
   "metadata": {},
   "outputs": [
    {
     "data": {
      "text/plain": [
       "array([[10.,  1.,  2.],\n",
       "       [ 1.,  5., -1.],\n",
       "       [ 1., -2., 10.]])"
      ]
     },
     "execution_count": 13,
     "metadata": {},
     "output_type": "execute_result"
    }
   ],
   "source": [
    "A=set_matrix()\n",
    "A"
   ]
  },
  {
   "cell_type": "code",
   "execution_count": 14,
   "metadata": {},
   "outputs": [
    {
     "data": {
      "text/plain": [
       "array([[18.],\n",
       "       [ 8.],\n",
       "       [27.]])"
      ]
     },
     "execution_count": 14,
     "metadata": {},
     "output_type": "execute_result"
    }
   ],
   "source": [
    "d=set_vector()\n",
    "d"
   ]
  },
  {
   "cell_type": "markdown",
   "metadata": {},
   "source": [
    "#### $A=M+L$"
   ]
  },
  {
   "cell_type": "code",
   "execution_count": 16,
   "metadata": {},
   "outputs": [],
   "source": [
    "M, L = Jacobi_decomposition(A,d) "
   ]
  },
  {
   "cell_type": "code",
   "execution_count": 17,
   "metadata": {},
   "outputs": [
    {
     "data": {
      "text/plain": [
       "array([[1.8],\n",
       "       [1.6],\n",
       "       [2.7]])"
      ]
     },
     "execution_count": 17,
     "metadata": {},
     "output_type": "execute_result"
    }
   ],
   "source": [
    "d"
   ]
  },
  {
   "cell_type": "code",
   "execution_count": null,
   "metadata": {},
   "outputs": [],
   "source": []
  },
  {
   "cell_type": "code",
   "execution_count": 18,
   "metadata": {},
   "outputs": [
    {
     "data": {
      "text/plain": [
       "array([[ 1. ,  0. ,  0. ],\n",
       "       [ 0.2,  1. ,  0. ],\n",
       "       [ 0.1, -0.2,  1. ]])"
      ]
     },
     "execution_count": 18,
     "metadata": {},
     "output_type": "execute_result"
    }
   ],
   "source": [
    "M"
   ]
  },
  {
   "cell_type": "code",
   "execution_count": 19,
   "metadata": {},
   "outputs": [
    {
     "data": {
      "text/plain": [
       "array([[ 0. ,  0.1,  0.2],\n",
       "       [ 0. ,  0. , -0.2],\n",
       "       [ 0. ,  0. ,  0. ]])"
      ]
     },
     "execution_count": 19,
     "metadata": {},
     "output_type": "execute_result"
    }
   ],
   "source": [
    "L"
   ]
  },
  {
   "cell_type": "markdown",
   "metadata": {},
   "source": [
    "#### $Minv = M^{-1}$"
   ]
  },
  {
   "cell_type": "code",
   "execution_count": 20,
   "metadata": {},
   "outputs": [
    {
     "data": {
      "text/plain": [
       "array([[ 1.  , -0.  , -0.  ],\n",
       "       [-0.2 ,  1.  , -0.  ],\n",
       "       [-0.14,  0.2 ,  1.  ]])"
      ]
     },
     "execution_count": 20,
     "metadata": {},
     "output_type": "execute_result"
    }
   ],
   "source": [
    "Minv=linalg.inv(M)\n",
    "Minv"
   ]
  },
  {
   "cell_type": "code",
   "execution_count": 47,
   "metadata": {},
   "outputs": [
    {
     "data": {
      "text/plain": [
       "array([[1., 0., 0.],\n",
       "       [0., 1., 0.],\n",
       "       [0., 0., 1.]])"
      ]
     },
     "execution_count": 47,
     "metadata": {},
     "output_type": "execute_result"
    }
   ],
   "source": [
    "# перевірка\n",
    "Minv.dot(M)"
   ]
  },
  {
   "cell_type": "markdown",
   "metadata": {},
   "source": [
    "#### $b = M^{-1}L$"
   ]
  },
  {
   "cell_type": "code",
   "execution_count": 48,
   "metadata": {
    "tags": []
   },
   "outputs": [
    {
     "data": {
      "text/plain": [
       "array([[-0.   , -0.1  , -0.2  ],\n",
       "       [-0.   ,  0.02 ,  0.24 ],\n",
       "       [-0.   ,  0.014,  0.068]])"
      ]
     },
     "execution_count": 48,
     "metadata": {},
     "output_type": "execute_result"
    }
   ],
   "source": [
    "b=-Minv.dot(L)\n",
    "b"
   ]
  },
  {
   "cell_type": "code",
   "execution_count": 49,
   "metadata": {},
   "outputs": [
    {
     "data": {
      "text/plain": [
       "0.30000000000000004"
      ]
     },
     "execution_count": 49,
     "metadata": {},
     "output_type": "execute_result"
    }
   ],
   "source": [
    "nb1=norm_1(b) \n",
    "nb1"
   ]
  },
  {
   "cell_type": "code",
   "execution_count": 51,
   "metadata": {
    "tags": []
   },
   "outputs": [
    {
     "data": {
      "text/plain": [
       "12"
      ]
     },
     "execution_count": 51,
     "metadata": {},
     "output_type": "execute_result"
    }
   ],
   "source": [
    "k=int( np.log10(eps *(1-nb1) /normv_1(d1) )  / np.log10(nb1) )\n",
    "k"
   ]
  },
  {
   "cell_type": "code",
   "execution_count": 52,
   "metadata": {},
   "outputs": [
    {
     "data": {
      "text/plain": [
       "0.508"
      ]
     },
     "execution_count": 52,
     "metadata": {},
     "output_type": "execute_result"
    }
   ],
   "source": [
    "nb2=norm_2(b)\n",
    "nb2"
   ]
  },
  {
   "cell_type": "code",
   "execution_count": 53,
   "metadata": {},
   "outputs": [
    {
     "data": {
      "text/plain": [
       "22"
      ]
     },
     "execution_count": 53,
     "metadata": {},
     "output_type": "execute_result"
    }
   ],
   "source": [
    "k=int( np.log10(eps *(1-nb2) /normv_1(d1) )  / np.log10(nb2) )\n",
    "k"
   ]
  },
  {
   "cell_type": "markdown",
   "metadata": {},
   "source": [
    "#### $d1 = M^{-1}d$"
   ]
  },
  {
   "cell_type": "code",
   "execution_count": 26,
   "metadata": {},
   "outputs": [
    {
     "data": {
      "text/plain": [
       "array([[1.8  ],\n",
       "       [1.24 ],\n",
       "       [2.768]])"
      ]
     },
     "execution_count": 26,
     "metadata": {},
     "output_type": "execute_result"
    }
   ],
   "source": [
    "d1=Minv.dot(d)\n",
    "d1"
   ]
  },
  {
   "cell_type": "code",
   "execution_count": 30,
   "metadata": {},
   "outputs": [
    {
     "data": {
      "text/plain": [
       "2.7680000000000002"
      ]
     },
     "execution_count": 30,
     "metadata": {},
     "output_type": "execute_result"
    }
   ],
   "source": [
    "normv_1(d1)"
   ]
  },
  {
   "cell_type": "markdown",
   "metadata": {},
   "source": [
    "функції для підготовки вектора і матриці при застосуванні простої ітерації"
   ]
  },
  {
   "cell_type": "code",
   "execution_count": 31,
   "metadata": {
    "id": "ZpgpDhlWQF1o"
   },
   "outputs": [],
   "source": [
    "def set_vector1():\n",
    "    \"\"\" функція для задання вектора вільних членів СЛАР\"\"\"\n",
    "    vector=np.array([[1.8  ], [1.24 ],[2.768]],dtype=float)\n",
    "    return vector"
   ]
  },
  {
   "cell_type": "code",
   "execution_count": 32,
   "metadata": {
    "id": "IdDn2xvxQF1n"
   },
   "outputs": [],
   "source": [
    "def set_matrix1():\n",
    "    \"\"\" функція для задання матриці конкретної СЛАР\"\"\"\n",
    "    return np.array([[ 0.   ,  -0.1  ,  -0.2  ], [ 0.   , 0.02 , 0.24 ], [ 0.   , 0.014, 0.068]],dtype=float)"
   ]
  },
  {
   "cell_type": "code",
   "execution_count": 35,
   "metadata": {
    "id": "ZpgpDhlWQF1o",
    "tags": []
   },
   "outputs": [],
   "source": [
    "def set_x0():\n",
    "    \"\"\" функція для задання вектора початкового наближення розв'язку\"\"\"\n",
    "    return set_vector1()"
   ]
  },
  {
   "cell_type": "code",
   "execution_count": null,
   "metadata": {},
   "outputs": [],
   "source": [
    "\n"
   ]
  },
  {
   "cell_type": "code",
   "execution_count": 33,
   "metadata": {},
   "outputs": [],
   "source": [
    "def simple_iteration(b,d,x0,eps,max_iter):\n",
    "    \"\"\" послідовно обчислює наближення розв'язку СЛАР \n",
    "      методом простої ітерації, поки евклідова норма \n",
    "      різниці двох послідовних наближень не стане меншою заданої точності eps      \n",
    "      x0 -- початкове наближення \"\"\"\n",
    "    x_prev=x0.copy()  \n",
    "    k=1\n",
    "    x_new=np.matmul(b,x0)+d   \n",
    "    while normv_1(x_new-x_prev) > eps and k < max_iter:\n",
    "        k+=1\n",
    "        x_prev=x_new\n",
    "        x_new=np.matmul(b,x_prev)+d\n",
    "    return k, x_new"
   ]
  },
  {
   "cell_type": "code",
   "execution_count": 34,
   "metadata": {},
   "outputs": [],
   "source": [
    "def simple_iteration_solver(set_matrix, set_vector,set_x0, eps, max_iter):\n",
    "    \"\"\" Розв'язування СЛАР методом простих ітерацій \"\"\"      \n",
    "    b=set_matrix()  \n",
    "    k=0\n",
    "    if norm_1(b)<1 or norm_2(b)<1 :\n",
    "        d=set_vector()\n",
    "        x0=set_x0()\n",
    "        k, x=simple_iteration(b,d,x0,eps,max_iter)\n",
    "        return k, x\n",
    "    else:\n",
    "        return k, b \n",
    "    "
   ]
  },
  {
   "cell_type": "markdown",
   "metadata": {
    "id": "ocZR4xN_cvNf",
    "tags": []
   },
   "source": [
    ">#### Обчислення наближеного розв'язку СЛАР (1) методом Якобі-Зейделя з точністю ``eps``\n",
    "\n",
    "-------------------"
   ]
  },
  {
   "cell_type": "code",
   "execution_count": 54,
   "metadata": {},
   "outputs": [],
   "source": [
    "eps=0.000001\n",
    "max_iter=100"
   ]
  },
  {
   "cell_type": "code",
   "execution_count": 55,
   "metadata": {},
   "outputs": [
    {
     "name": "stdout",
     "output_type": "stream",
     "text": [
      "Наближений розв'язок системи \n",
      " [[1.00000002]\n",
      " [1.99999999]\n",
      " [3.        ]] \n",
      " обчислено за 8 ітерацій\n"
     ]
    }
   ],
   "source": [
    "cond, x=simple_iteration_solver(set_matrix1, set_vector1, set_x0, eps, max_iter)\n",
    "\n",
    "if cond > 0 and cond < max_iter:\n",
    "    print(f\"Наближений розв'язок системи \\n {x} \\n обчислено за {cond} ітерацій\")\n",
    "elif  cond == max_iter : \n",
    "    print(f\"Наближений розв'язок системи не обчислено за {cond} ітерацій\")\n",
    "else:\n",
    "    print(\"Матриця СЛАР (1) не задовольняє достатню умову збіжності ітерацій\")"
   ]
  },
  {
   "cell_type": "markdown",
   "metadata": {
    "id": "ocZR4xN_cvNf",
    "tags": []
   },
   "source": [
    ">#### Обчислення наближеного розв'язку СЛАР (1) методом Зейделя з точністю ``eps``\n",
    "\n",
    "-------------------"
   ]
  },
  {
   "cell_type": "code",
   "execution_count": 56,
   "metadata": {},
   "outputs": [
    {
     "name": "stdout",
     "output_type": "stream",
     "text": [
      "Наближений розв'язок системи \n",
      " [1.00000002 1.99999999 3.        ] \n",
      " обчислено за 8 ітерацій\n"
     ]
    }
   ],
   "source": [
    "cond, x = Seidel_solver(set_matrix, set_vector, set_x0, eps, max_iter)\n",
    "\n",
    "if cond > 0 and cond < max_iter:\n",
    "    print(f\"Наближений розв'язок системи \\n {x} \\n обчислено за {cond} ітерацій\")\n",
    "elif  cond == max_iter : \n",
    "    print(f\"Наближений розв'язок системи не обчислено за {cond} ітерацій\")\n",
    "else:\n",
    "    print(\"Матриця СЛАР (1) не задовольняє достатню умову збіжності ітерацій\")"
   ]
  },
  {
   "cell_type": "code",
   "execution_count": null,
   "metadata": {},
   "outputs": [],
   "source": []
  },
  {
   "cell_type": "markdown",
   "metadata": {
    "id": "ocZR4xN_cvNf",
    "tags": []
   },
   "source": [
    ">#### Обчислення власних чисел і векторів матриці, отриманої для методу Якобі-Зейделя\n",
    "\n",
    "-------------------"
   ]
  },
  {
   "cell_type": "code",
   "execution_count": null,
   "metadata": {},
   "outputs": [],
   "source": []
  },
  {
   "cell_type": "code",
   "execution_count": 57,
   "metadata": {},
   "outputs": [],
   "source": [
    "MinvL=set_matrix1()"
   ]
  },
  {
   "cell_type": "code",
   "execution_count": 58,
   "metadata": {
    "tags": []
   },
   "outputs": [],
   "source": [
    "la, v = linalg.eig(MinvL)"
   ]
  },
  {
   "cell_type": "code",
   "execution_count": 59,
   "metadata": {},
   "outputs": [
    {
     "data": {
      "text/plain": [
       "numpy.ndarray"
      ]
     },
     "execution_count": 59,
     "metadata": {},
     "output_type": "execute_result"
    }
   ],
   "source": [
    "type(v)"
   ]
  },
  {
   "cell_type": "code",
   "execution_count": 60,
   "metadata": {},
   "outputs": [
    {
     "data": {
      "text/plain": [
       "numpy.complex128"
      ]
     },
     "execution_count": 60,
     "metadata": {},
     "output_type": "execute_result"
    }
   ],
   "source": [
    "type(la[0])"
   ]
  },
  {
   "cell_type": "code",
   "execution_count": 61,
   "metadata": {},
   "outputs": [
    {
     "name": "stdout",
     "output_type": "stream",
     "text": [
      "0j (-0.018737548565432485+0j) (0.1067375485654325+0j)\n"
     ]
    }
   ],
   "source": [
    "l1, l2, l3 = la\n",
    "\n",
    "print(l1, l2, l3)   # eigenvalues"
   ]
  },
  {
   "cell_type": "code",
   "execution_count": 62,
   "metadata": {},
   "outputs": [
    {
     "name": "stdout",
     "output_type": "stream",
     "text": [
      "0.0 0.018737548565432485 0.1067375485654325\n"
     ]
    }
   ],
   "source": [
    "print(np.abs(l1), np.abs(l2), np.abs(l3))"
   ]
  },
  {
   "cell_type": "code",
   "execution_count": 63,
   "metadata": {},
   "outputs": [
    {
     "name": "stdout",
     "output_type": "stream",
     "text": [
      "[1. 0. 0.]\n",
      "[-0.96289452 -0.26642981  0.04300349]\n",
      "[ 0.83507981 -0.51737697 -0.18698337]\n",
      "[1. 1. 1.]\n",
      "0.0\n"
     ]
    }
   ],
   "source": [
    "print(v[:, 0])   # first eigenvector\n",
    "print(v[:, 1])   # second eigenvector\n",
    "print(v[:, 2])   # third eigenvector\n",
    "\n",
    "print(np.sum(abs(v**2), axis=0))  # eigenvectors are unitary\n",
    "\n",
    "v1 = np.array(v[:, 0]).T\n",
    "print(linalg.norm(MinvL.dot(v1) - l1*v1))"
   ]
  },
  {
   "cell_type": "code",
   "execution_count": null,
   "metadata": {},
   "outputs": [],
   "source": []
  }
 ],
 "metadata": {
  "anaconda-cloud": {},
  "colab": {
   "name": "oom_2_2_1_simple_iteration.ipynb",
   "private_outputs": true,
   "provenance": []
  },
  "kernelspec": {
   "display_name": "Python 3 (ipykernel)",
   "language": "python",
   "name": "python3"
  },
  "language_info": {
   "codemirror_mode": {
    "name": "ipython",
    "version": 3
   },
   "file_extension": ".py",
   "mimetype": "text/x-python",
   "name": "python",
   "nbconvert_exporter": "python",
   "pygments_lexer": "ipython3",
   "version": "3.9.7"
  }
 },
 "nbformat": 4,
 "nbformat_minor": 4
}
