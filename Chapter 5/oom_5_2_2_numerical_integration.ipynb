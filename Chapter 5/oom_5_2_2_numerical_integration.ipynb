{
 "cells": [
  {
   "cell_type": "markdown",
   "metadata": {},
   "source": [
    "# Чисельне інтегрування\n",
    "--------------------\n",
    "При чисельному інтегруванні неперервної функції значення інтеграла \n",
    "\n",
    "$\\quad\\qquad\\qquad\\qquad I=\\int^{b}_{a}f(x)\\,dx$   \n",
    "\n",
    "можна знайти наближено за *квадратурною формулою*\n",
    "\n",
    "$(1)\\qquad\\qquad\\qquad     I_n=\\sum_{i=0}^{n}A^{(n)}_{i}f(x_{i}),$\n",
    "\n",
    "де $n$ -- ціле число,  \n",
    "\n",
    "$x_{i},\\, i=\\overline{0,n},$ -- вузли (абсциси) такі, що  $a\\leq x_{0}<x_{1}<...<x_{n}\\leq b$, \n",
    "\n",
    "$A^{(n)}_{i},\\, i=\\overline{0,n},$  -- коефіцієнти (сталі).\n",
    "\n",
    "Тоді \n",
    "\n",
    "$\\quad\\qquad\\qquad\\qquad I=I_n+\\widehat{R}_{n}(f),$\n",
    "\n",
    "де $\\widehat{R}_{n}(f)$ -- залишковий член квадратурної формули. \n",
    "\n",
    "Методи чисельного інтегрування забезпечують $\\widehat{R}_{n}(f) \\to 0$ при $n\\to \\infty$.\n"
   ]
  },
  {
   "cell_type": "markdown",
   "metadata": {
    "id": "uDSAycn9QF1Y",
    "tags": []
   },
   "source": [
    "# 5.2.2. Квадратури Ньютона-Котеса: квадратурні формули прямокутників, трапецій і парабол (Сімпсона)\n",
    "---------------------\n",
    "Квадратурні формули Ньютона-Котеса отримані шляхом заміни підінтегральної функції інтерполяційним поліномом Лагранжа. Залежно від степеня $n$ полінома розрізняють квадратурні формули:\n",
    "*    $n=0$ -- прямокутників,\n",
    "*    $n=1$ -- трапецій,\n",
    "*    $n=2$ -- парабол (Сімпсона)."
   ]
  },
  {
   "cell_type": "markdown",
   "metadata": {
    "id": "uDSAycn9QF1Y"
   },
   "source": [
    "При  $n=0$ розглядають випадки так званих лівих, правих і середніх прямокутників залежно від розміщення вузла в лівому чи правому кінці проміжку інтегрування, або ж посередині. \n",
    "\n",
    "Якщо проміжок інтегрування попередньо поділити на $m > 1$ відрізків і на кожному застосувати квадратурну формулу, то отриману формулу називають *великою квадратурною формулою*, позначатимемо її $I_{n,m}$.\n",
    "На практиці, щоб переконатися, що наближення достатньо точне, виконують кілька послідовних викликів, збільшуючи значення параметра $m$."
   ]
  },
  {
   "cell_type": "markdown",
   "metadata": {
    "id": "elD_lWBKQF1j"
   },
   "source": [
    "Нехай проміжок інтегрування розбито на $m$ відрізків довжиною $h=\\frac{b-a}{m}$, тоді великі квадратурні формули мають вигляд:\n",
    "*    формула прямокутників\n",
    "\n",
    "$(2)\\qquad\\qquad\\qquad     I_{0,m}=h\\sum_{i=0}^{m-1}f(x_{i})$\n",
    "*    формула трапецій\n",
    "\n",
    "$(3)\\qquad\\qquad\\qquad     I_{1,m}=h\\left[\\frac{1}{2}(f(x_0)+f(x_m)) + \\sum_{i=1}^{m-1} f(x_i)\\right]$\n",
    "*    формула парабол\n",
    "\n",
    "$(4)\\qquad\\qquad\\qquad     I_{2,m}=\\frac{h}{6}\\left[ f(x_0)+4 \\sum_{i=0}^{m-1} f(x_{2i+1})+ 2\\sum_{i=1}^{m-1} f(x_{2i})+f(x_{2m})\\right]$.\n",
    "\n",
    "Для оцінки результатів чисельного інтегрування розглядають абсолютну $e_{n,m}:=|I-I_{n,m}|$ і відносну $d_{n,m}:=\\frac{e_{n,m}}{|I|}\\times 100\\%$ похибки чисельного інтегрування, а також відношення $r_{n,m} = \\frac{e_{n,m}}{e_{n,2m}}$, яке характеризує швидкість збіжності відповідної квадратурної формули.\n"
   ]
  },
  {
   "cell_type": "markdown",
   "metadata": {
    "id": "C56etMUzw6qS"
   },
   "source": [
    "#### Пояснення до використання програмного коду\n",
    "-----------------\n",
    "*   Підготувати середовище і потрібні функції : \n",
    "    1. виконати комірку для підготовки середовища  \n",
    "    2. виконати комірки, в яких **визначені** функції ``rectangle_formula``,  ``trapezoidal_formula``, ``simpson_formula``\n",
    " \n",
    "*   Обчислити наближені значення конкретної функції :  \n",
    "    1. виконати комірку, де **визначена** функція, яка задає підінтегральну функцію ``f``\n",
    "    2. виконати комірку з викликом потрібної функції ``rectangle_formula``, ``trapezoidal_formula`` чи ``simpson_formula``, задаючи перед виконанням відповідні аргументи цієї функції."
   ]
  },
  {
   "cell_type": "markdown",
   "metadata": {
    "tags": []
   },
   "source": [
    "#### Програмна реалізація методів\n",
    "------------"
   ]
  },
  {
   "cell_type": "markdown",
   "metadata": {
    "tags": []
   },
   "source": [
    ">#### Підготовка середовища"
   ]
  },
  {
   "cell_type": "code",
   "execution_count": 1,
   "metadata": {
    "id": "Dv08qO4sQF1k"
   },
   "outputs": [],
   "source": [
    "import numpy as np\n",
    "import matplotlib.pyplot as plt\n",
    "import pandas as pd\n",
    "#%matplotlib inline\n",
    "%matplotlib widget"
   ]
  },
  {
   "cell_type": "markdown",
   "metadata": {
    "tags": []
   },
   "source": [
    ">#### ``rectangle_formula`` -- функція для чисельного інтегрування за великою формулою середніх прямокутників"
   ]
  },
  {
   "cell_type": "code",
   "execution_count": 2,
   "metadata": {
    "id": "0qc5BcctO5t2"
   },
   "outputs": [],
   "source": [
    "def rectangle_formula(f,a,b,m):\n",
    "    \"\"\"Чисельне інтегрування за великою формулою середніх прямокутників\n",
    "    \"\"\"\n",
    "    h=(b-a)/m\n",
    "    x=np.linspace(a+h/2, b-h/2, m) #обчислення усіх вузлів квадратурної формули\n",
    "    y=f(x)                         # обчислення функції в усіх вузлах\n",
    "    return h*y.sum()               # обчислення наближеного значення інтеграла"
   ]
  },
  {
   "cell_type": "markdown",
   "metadata": {
    "tags": []
   },
   "source": [
    ">#### ``trapezoidal_formula`` -- функція для чисельного інтегрування за великою формулою трапецій"
   ]
  },
  {
   "cell_type": "code",
   "execution_count": 3,
   "metadata": {
    "id": "0qc5BcctO5t2"
   },
   "outputs": [],
   "source": [
    "def trapezoidal_formula(f,a,b,m):\n",
    "    \"\"\" Чисельне інтегрування за великою формулою трапецій     \n",
    "    \"\"\"\n",
    "    h=(b-a)/m\n",
    "    x=np.linspace(a, b, m+1) \n",
    "    y=f(x)\n",
    "    return h*( 0.5*(y[0]+y[m]) + y[1:m].sum() )"
   ]
  },
  {
   "cell_type": "markdown",
   "metadata": {
    "tags": []
   },
   "source": [
    ">#### ``simpson_formula`` -- функція для чисельного інтегрування за великою формулою парабол"
   ]
  },
  {
   "cell_type": "code",
   "execution_count": 4,
   "metadata": {
    "id": "0qc5BcctO5t2"
   },
   "outputs": [],
   "source": [
    "def simpson_formula(f,a,b,m):\n",
    "    \"\"\"  обчислення наближеного значення інтеграла  \n",
    "        за великою формулою парабол     \n",
    "      \"\"\"\n",
    "    h=(b-a)/m\n",
    "    x=np.linspace(a, b, 2*m+1) \n",
    "    y=f(x)\n",
    "    return h/6*(y[0]+4*y[1::2].sum()+2*y[2:2*m-1:2].sum()+y[2*m])"
   ]
  },
  {
   "cell_type": "markdown",
   "metadata": {
    "tags": []
   },
   "source": [
    ">#### ``f`` -- функція, яка задає обчислення конкретної підінтегральної функції "
   ]
  },
  {
   "cell_type": "markdown",
   "metadata": {
    "tags": []
   },
   "source": [
    "#### Обчислювальні експерименти\n",
    "------------"
   ]
  },
  {
   "cell_type": "markdown",
   "metadata": {
    "tags": []
   },
   "source": [
    "Продемонструємо застосування великої формули середніх прямокутників для чисельного інтегрування неперервних функцій."
   ]
  },
  {
   "cell_type": "markdown",
   "metadata": {
    "tags": []
   },
   "source": [
    "**Приклад 1.** Обчислити інтеграл від $f(x)=x$ на відрізку $[a,b]=[0,\\,10]$ різними квадратурними формулами."
   ]
  },
  {
   "cell_type": "markdown",
   "metadata": {},
   "source": [
    "Визначимо функцію ``f1``, яка задає обчислення підінтегральної функції $f$:"
   ]
  },
  {
   "cell_type": "code",
   "execution_count": 5,
   "metadata": {},
   "outputs": [],
   "source": [
    "def f1(x):\n",
    "    return x"
   ]
  },
  {
   "cell_type": "markdown",
   "metadata": {},
   "source": [
    "Тепер можемо викликати функції для чисельного інтегрування:"
   ]
  },
  {
   "cell_type": "code",
   "execution_count": 6,
   "metadata": {
    "tags": []
   },
   "outputs": [
    {
     "data": {
      "text/plain": [
       "50.0"
      ]
     },
     "execution_count": 6,
     "metadata": {},
     "output_type": "execute_result"
    }
   ],
   "source": [
    "rectangle_formula(f1,0,10,1)"
   ]
  },
  {
   "cell_type": "code",
   "execution_count": 7,
   "metadata": {},
   "outputs": [
    {
     "data": {
      "text/plain": [
       "50.0"
      ]
     },
     "execution_count": 7,
     "metadata": {},
     "output_type": "execute_result"
    }
   ],
   "source": [
    "trapezoidal_formula(f1,0,10,10)"
   ]
  },
  {
   "cell_type": "code",
   "execution_count": 8,
   "metadata": {},
   "outputs": [
    {
     "data": {
      "text/plain": [
       "50.0"
      ]
     },
     "execution_count": 8,
     "metadata": {},
     "output_type": "execute_result"
    }
   ],
   "source": [
    "simpson_formula(f1,0,10,10)"
   ]
  },
  {
   "cell_type": "markdown",
   "metadata": {
    "jp-MarkdownHeadingCollapsed": true,
    "tags": []
   },
   "source": [
    "Оскільки підінтегральна функція у прикладі 1 є сталою, то усі розглянуті квадратурні формули є точними для цього випадку."
   ]
  },
  {
   "cell_type": "markdown",
   "metadata": {
    "jp-MarkdownHeadingCollapsed": true,
    "tags": []
   },
   "source": [
    "**Приклад 2.** Обчислити інтеграл від $f(x)=x\\,e^{-x}\\,cos(2x)$ на відрізку $[a,b]=[0,\\,2\\pi]$ різними квадратурними формулами\n",
    "та дослідити збіжність чисельних результатів."
   ]
  },
  {
   "cell_type": "markdown",
   "metadata": {},
   "source": [
    "Значення інтеграла з точністю до $10^{-16}$ можна обчислити так: "
   ]
  },
  {
   "cell_type": "code",
   "execution_count": 9,
   "metadata": {},
   "outputs": [
    {
     "name": "stdout",
     "output_type": "stream",
     "text": [
      "Точне значення інтеграла  -0.12212260461896841\n"
     ]
    }
   ],
   "source": [
    "iex = 0.12*(np.exp(-2*np.pi)-1)-0.4*np.pi*np.exp(-2*np.pi)\n",
    "print(f\"Точне значення інтеграла  {iex}\")"
   ]
  },
  {
   "cell_type": "markdown",
   "metadata": {},
   "source": [
    "Обчислення підінтегральної функції можна задати так:"
   ]
  },
  {
   "cell_type": "code",
   "execution_count": 10,
   "metadata": {},
   "outputs": [],
   "source": [
    "def f2(x):\n",
    "    return x*np.exp(-x)*np.cos(2*x)"
   ]
  },
  {
   "cell_type": "markdown",
   "metadata": {},
   "source": [
    "Тепер виконаємо чисельне інтегрування різними квадратурними формулами при різних значеннях параметра ``m``:"
   ]
  },
  {
   "cell_type": "code",
   "execution_count": 11,
   "metadata": {
    "tags": []
   },
   "outputs": [
    {
     "name": "stdout",
     "output_type": "stream",
     "text": [
      "Чисельні значення інтеграла при m=20\n"
     ]
    }
   ],
   "source": [
    "m=20\n",
    "print(f\"Чисельні значення інтеграла при m={m}\")"
   ]
  },
  {
   "cell_type": "code",
   "execution_count": 12,
   "metadata": {},
   "outputs": [
    {
     "name": "stdout",
     "output_type": "stream",
     "text": [
      "ri = -0.11786295252589699, відносна похибка 3.4880128100459853%\n"
     ]
    }
   ],
   "source": [
    "ri = rectangle_formula(f2,0,2*np.pi,m)\n",
    "print(f\"ri = {ri}, відносна похибка {np.abs(iex-ri)/np.abs(iex)*100}%\")"
   ]
  },
  {
   "cell_type": "code",
   "execution_count": 13,
   "metadata": {},
   "outputs": [
    {
     "name": "stdout",
     "output_type": "stream",
     "text": [
      "ti = -0.13055053965359473, відносна похибка 6.901208061293891%\n"
     ]
    }
   ],
   "source": [
    "ti = trapezoidal_formula(f2,0,2*np.pi,m)\n",
    "print(f\"ti = {ti}, відносна похибка {np.abs(iex-ti)/np.abs(iex)*100}%\")"
   ]
  },
  {
   "cell_type": "code",
   "execution_count": 14,
   "metadata": {},
   "outputs": [
    {
     "name": "stdout",
     "output_type": "stream",
     "text": [
      "si = -0.12209214823512955, відносна похибка 0.02493918626603797%\n"
     ]
    }
   ],
   "source": [
    "si = simpson_formula(f2,0,2*np.pi,m)\n",
    "print(f\"si = {si}, відносна похибка {np.abs(iex-si)/np.abs(iex)*100}%\")"
   ]
  },
  {
   "cell_type": "code",
   "execution_count": 15,
   "metadata": {},
   "outputs": [
    {
     "name": "stdout",
     "output_type": "stream",
     "text": [
      "Чисельні значення інтеграла при m=100\n"
     ]
    }
   ],
   "source": [
    "m=100\n",
    "print(f\"Чисельні значення інтеграла при m={m}\")"
   ]
  },
  {
   "cell_type": "code",
   "execution_count": 16,
   "metadata": {},
   "outputs": [
    {
     "name": "stdout",
     "output_type": "stream",
     "text": [
      "ri = -0.12195631578862703, відносна похибка 0.13616547965072726%\n"
     ]
    }
   ],
   "source": [
    "ri = rectangle_formula(f2,0,2*np.pi,m)\n",
    "print(f\"ri = {ri}, відносна похибка {np.abs(iex-ri)/np.abs(iex)*100}%\")"
   ]
  },
  {
   "cell_type": "code",
   "execution_count": 17,
   "metadata": {},
   "outputs": [
    {
     "name": "stdout",
     "output_type": "stream",
     "text": [
      "ti = -0.12245503440935065, відносна похибка 0.27220987582065304%\n"
     ]
    }
   ],
   "source": [
    "ti = trapezoidal_formula(f2,0,2*np.pi,m)\n",
    "print(f\"ti = {ti}, відносна похибка {np.abs(iex-ti)/np.abs(iex)*100}%\")"
   ]
  },
  {
   "cell_type": "code",
   "execution_count": 18,
   "metadata": {},
   "outputs": [
    {
     "name": "stdout",
     "output_type": "stream",
     "text": [
      "si = -0.12212255532886822, відносна похибка 4.036116028610757e-05%\n"
     ]
    }
   ],
   "source": [
    "si = simpson_formula(f2,0,2*np.pi,m)\n",
    "print(f\"si = {si}, відносна похибка {np.abs(iex-si)/np.abs(iex)*100}%\")"
   ]
  },
  {
   "cell_type": "markdown",
   "metadata": {
    "id": "PnO4509Yw2xA",
    "tags": []
   },
   "source": [
    "Отримані результати демонструють зменшення відносної похибки квадратурних формул при збільшенні значення параметра $m$. Щоб отримати повнішу картину цього процесу виконаємо серію обчислень абсолютної похибки, подвоюючи на кожному кроці параметр $m$. "
   ]
  },
  {
   "cell_type": "markdown",
   "metadata": {
    "id": "PnO4509Yw2xA",
    "tags": []
   },
   "source": [
    "Побудуємо таку множину значень $m=2^k, \\; k = \\overline{2,14}$:"
   ]
  },
  {
   "cell_type": "code",
   "execution_count": 19,
   "metadata": {},
   "outputs": [
    {
     "data": {
      "text/plain": [
       "[4, 8, 16, 32, 64, 128, 256, 512, 1024, 2048, 4096, 8192, 16384]"
      ]
     },
     "execution_count": 19,
     "metadata": {},
     "output_type": "execute_result"
    }
   ],
   "source": [
    "mk=[2**k for k in range(2,15)]\n",
    "mk"
   ]
  },
  {
   "cell_type": "markdown",
   "metadata": {
    "id": "PnO4509Yw2xA",
    "tags": []
   },
   "source": [
    "Обчислимо абсолютні похибки $e_{n,m}$  та відношення $r_{n,m}$ для розглянутих квадратурних формул та збережемо їх у таблиці:"
   ]
  },
  {
   "cell_type": "code",
   "execution_count": 20,
   "metadata": {},
   "outputs": [
    {
     "data": {
      "text/html": [
       "<div>\n",
       "<style scoped>\n",
       "    .dataframe tbody tr th:only-of-type {\n",
       "        vertical-align: middle;\n",
       "    }\n",
       "\n",
       "    .dataframe tbody tr th {\n",
       "        vertical-align: top;\n",
       "    }\n",
       "\n",
       "    .dataframe thead th {\n",
       "        text-align: right;\n",
       "    }\n",
       "</style>\n",
       "<table border=\"1\" class=\"dataframe\">\n",
       "  <thead>\n",
       "    <tr style=\"text-align: right;\">\n",
       "      <th></th>\n",
       "      <th>m</th>\n",
       "      <th>e_0_m</th>\n",
       "      <th>r_0_m</th>\n",
       "      <th>e_1_m</th>\n",
       "      <th>r_1_m</th>\n",
       "      <th>e_2_m</th>\n",
       "      <th>r_2_m</th>\n",
       "    </tr>\n",
       "    <tr>\n",
       "      <th>k</th>\n",
       "      <th></th>\n",
       "      <th></th>\n",
       "      <th></th>\n",
       "      <th></th>\n",
       "      <th></th>\n",
       "      <th></th>\n",
       "      <th></th>\n",
       "    </tr>\n",
       "  </thead>\n",
       "  <tbody>\n",
       "    <tr>\n",
       "      <th>2</th>\n",
       "      <td>4</td>\n",
       "      <td>1.221226e-01</td>\n",
       "      <td>0.000000</td>\n",
       "      <td>2.348282e-01</td>\n",
       "      <td>0.000000</td>\n",
       "      <td>3.138990e-03</td>\n",
       "      <td>0.000000</td>\n",
       "    </tr>\n",
       "    <tr>\n",
       "      <th>3</th>\n",
       "      <td>8</td>\n",
       "      <td>2.980433e-02</td>\n",
       "      <td>4.097479</td>\n",
       "      <td>5.635282e-02</td>\n",
       "      <td>4.167107</td>\n",
       "      <td>1.085280e-03</td>\n",
       "      <td>2.892332</td>\n",
       "    </tr>\n",
       "    <tr>\n",
       "      <th>4</th>\n",
       "      <td>16</td>\n",
       "      <td>6.747837e-03</td>\n",
       "      <td>4.416871</td>\n",
       "      <td>1.327424e-02</td>\n",
       "      <td>4.245275</td>\n",
       "      <td>7.381014e-05</td>\n",
       "      <td>14.703676</td>\n",
       "    </tr>\n",
       "    <tr>\n",
       "      <th>5</th>\n",
       "      <td>32</td>\n",
       "      <td>1.638624e-03</td>\n",
       "      <td>4.117989</td>\n",
       "      <td>3.263203e-03</td>\n",
       "      <td>4.067857</td>\n",
       "      <td>4.681869e-06</td>\n",
       "      <td>15.765100</td>\n",
       "    </tr>\n",
       "    <tr>\n",
       "      <th>6</th>\n",
       "      <td>64</td>\n",
       "      <td>4.065851e-04</td>\n",
       "      <td>4.030213</td>\n",
       "      <td>8.122894e-04</td>\n",
       "      <td>4.017291</td>\n",
       "      <td>2.936021e-07</td>\n",
       "      <td>15.946308</td>\n",
       "    </tr>\n",
       "    <tr>\n",
       "      <th>7</th>\n",
       "      <td>128</td>\n",
       "      <td>1.014536e-04</td>\n",
       "      <td>4.007596</td>\n",
       "      <td>2.028522e-04</td>\n",
       "      <td>4.004342</td>\n",
       "      <td>1.836519e-08</td>\n",
       "      <td>15.986883</td>\n",
       "    </tr>\n",
       "    <tr>\n",
       "      <th>8</th>\n",
       "      <td>256</td>\n",
       "      <td>2.535135e-05</td>\n",
       "      <td>4.001902</td>\n",
       "      <td>5.069927e-05</td>\n",
       "      <td>4.001087</td>\n",
       "      <td>1.148058e-09</td>\n",
       "      <td>15.996740</td>\n",
       "    </tr>\n",
       "    <tr>\n",
       "      <th>9</th>\n",
       "      <td>512</td>\n",
       "      <td>6.337085e-06</td>\n",
       "      <td>4.000476</td>\n",
       "      <td>1.267396e-05</td>\n",
       "      <td>4.000272</td>\n",
       "      <td>7.175727e-11</td>\n",
       "      <td>15.999188</td>\n",
       "    </tr>\n",
       "    <tr>\n",
       "      <th>10</th>\n",
       "      <td>1024</td>\n",
       "      <td>1.584224e-06</td>\n",
       "      <td>4.000119</td>\n",
       "      <td>3.168435e-06</td>\n",
       "      <td>4.000068</td>\n",
       "      <td>4.484899e-12</td>\n",
       "      <td>15.999752</td>\n",
       "    </tr>\n",
       "    <tr>\n",
       "      <th>11</th>\n",
       "      <td>2048</td>\n",
       "      <td>3.960531e-07</td>\n",
       "      <td>4.000030</td>\n",
       "      <td>7.921054e-07</td>\n",
       "      <td>4.000017</td>\n",
       "      <td>2.802758e-13</td>\n",
       "      <td>16.001733</td>\n",
       "    </tr>\n",
       "    <tr>\n",
       "      <th>12</th>\n",
       "      <td>4096</td>\n",
       "      <td>9.901310e-08</td>\n",
       "      <td>4.000007</td>\n",
       "      <td>1.980261e-07</td>\n",
       "      <td>4.000004</td>\n",
       "      <td>1.749989e-14</td>\n",
       "      <td>16.015860</td>\n",
       "    </tr>\n",
       "    <tr>\n",
       "      <th>13</th>\n",
       "      <td>8192</td>\n",
       "      <td>2.475326e-08</td>\n",
       "      <td>4.000002</td>\n",
       "      <td>4.950652e-08</td>\n",
       "      <td>4.000001</td>\n",
       "      <td>1.068590e-15</td>\n",
       "      <td>16.376623</td>\n",
       "    </tr>\n",
       "    <tr>\n",
       "      <th>14</th>\n",
       "      <td>16384</td>\n",
       "      <td>6.188315e-09</td>\n",
       "      <td>4.000000</td>\n",
       "      <td>1.237663e-08</td>\n",
       "      <td>4.000000</td>\n",
       "      <td>6.938894e-17</td>\n",
       "      <td>15.400000</td>\n",
       "    </tr>\n",
       "  </tbody>\n",
       "</table>\n",
       "</div>"
      ],
      "text/plain": [
       "        m         e_0_m     r_0_m         e_1_m     r_1_m         e_2_m  \\\n",
       "k                                                                         \n",
       "2       4  1.221226e-01  0.000000  2.348282e-01  0.000000  3.138990e-03   \n",
       "3       8  2.980433e-02  4.097479  5.635282e-02  4.167107  1.085280e-03   \n",
       "4      16  6.747837e-03  4.416871  1.327424e-02  4.245275  7.381014e-05   \n",
       "5      32  1.638624e-03  4.117989  3.263203e-03  4.067857  4.681869e-06   \n",
       "6      64  4.065851e-04  4.030213  8.122894e-04  4.017291  2.936021e-07   \n",
       "7     128  1.014536e-04  4.007596  2.028522e-04  4.004342  1.836519e-08   \n",
       "8     256  2.535135e-05  4.001902  5.069927e-05  4.001087  1.148058e-09   \n",
       "9     512  6.337085e-06  4.000476  1.267396e-05  4.000272  7.175727e-11   \n",
       "10   1024  1.584224e-06  4.000119  3.168435e-06  4.000068  4.484899e-12   \n",
       "11   2048  3.960531e-07  4.000030  7.921054e-07  4.000017  2.802758e-13   \n",
       "12   4096  9.901310e-08  4.000007  1.980261e-07  4.000004  1.749989e-14   \n",
       "13   8192  2.475326e-08  4.000002  4.950652e-08  4.000001  1.068590e-15   \n",
       "14  16384  6.188315e-09  4.000000  1.237663e-08  4.000000  6.938894e-17   \n",
       "\n",
       "        r_2_m  \n",
       "k              \n",
       "2    0.000000  \n",
       "3    2.892332  \n",
       "4   14.703676  \n",
       "5   15.765100  \n",
       "6   15.946308  \n",
       "7   15.986883  \n",
       "8   15.996740  \n",
       "9   15.999188  \n",
       "10  15.999752  \n",
       "11  16.001733  \n",
       "12  16.015860  \n",
       "13  16.376623  \n",
       "14  15.400000  "
      ]
     },
     "execution_count": 20,
     "metadata": {},
     "output_type": "execute_result"
    }
   ],
   "source": [
    "e_0=[ np.abs( iex - rectangle_formula(f2,0,2*np.pi,m)) for m in mk]\n",
    "e_1=[ np.abs( iex - trapezoidal_formula(f2,0,2*np.pi,m)) for m in mk]\n",
    "e_2=[ np.abs( iex - simpson_formula(f2,0,2*np.pi,m)) for m in mk]\n",
    "\n",
    "r_0=[0,]\n",
    "r_1=[0,]\n",
    "r_2=[0,]\n",
    "for i in range(1,len(e_0)):\n",
    "    r_0.append((e_0[i-1]/e_0[i]))\n",
    "    r_1.append((e_1[i-1]/e_1[i]))\n",
    "    r_2.append((e_2[i-1]/e_2[i]))\n",
    "\n",
    "df=pd.DataFrame({'k':range(2,15),'m':mk,'e_0_m':e_0,'r_0_m':r_0,'e_1_m':e_1,'r_1_m':r_1,'e_2_m':e_2,'r_2_m':r_2}).set_index('k')\n",
    "df"
   ]
  },
  {
   "cell_type": "markdown",
   "metadata": {
    "id": "PnO4509Yw2xA",
    "tags": []
   },
   "source": [
    "Побудуємо графіки отриманих похибок. Оскільки їх значення швидко заникають, то будуємо їх у логарифмішній шкалі, беручи на осі абсцис степінь двійки при обчисленні значення параметра $m$:"
   ]
  },
  {
   "cell_type": "code",
   "execution_count": 25,
   "metadata": {
    "tags": []
   },
   "outputs": [
    {
     "data": {
      "application/vnd.jupyter.widget-view+json": {
       "model_id": "9349997b1c9346988dde2c359cdde2bc",
       "version_major": 2,
       "version_minor": 0
      },
      "text/plain": [
       "Canvas(toolbar=Toolbar(toolitems=[('Home', 'Reset original view', 'home', 'home'), ('Back', 'Back to previous …"
      ]
     },
     "metadata": {},
     "output_type": "display_data"
    }
   ],
   "source": [
    "fig = plt.figure(figsize=(8, 5))\n",
    "df.e_0_m.plot(logy=True)\n",
    "df.e_1_m.plot(logy=True)\n",
    "df.e_2_m.plot(logy=True)\n",
    "ax = fig.gca()\n",
    "ax.legend();"
   ]
  },
  {
   "cell_type": "markdown",
   "metadata": {
    "id": "PnO4509Yw2xA",
    "tags": []
   },
   "source": [
    "Як бачимо, отримані за допомогою квадратурних формул чисельні результати швидко збігаються до точного значення інтеграла від заданої функції, що відповідає теоретичним оцінкам у розділі 5. Зокрема для великих квадратурних формул прямокутників і трапецій маємо швидкості збіжності рівні 4, що означає зменшення у 4 рази абсолютних похибок при подвоєнні розбиття проміжку інтегрування. Для формули парабол швидкість збіжності близька до 16."
   ]
  },
  {
   "cell_type": "code",
   "execution_count": null,
   "metadata": {
    "tags": []
   },
   "outputs": [],
   "source": [
    "plt.close('all')"
   ]
  },
  {
   "cell_type": "code",
   "execution_count": null,
   "metadata": {},
   "outputs": [],
   "source": []
  },
  {
   "cell_type": "code",
   "execution_count": null,
   "metadata": {},
   "outputs": [],
   "source": []
  }
 ],
 "metadata": {
  "anaconda-cloud": {},
  "colab": {
   "name": "oom_2_2_1_simple_iteration.ipynb",
   "private_outputs": true,
   "provenance": []
  },
  "kernelspec": {
   "display_name": "Python 3 (ipykernel)",
   "language": "python",
   "name": "python3"
  },
  "language_info": {
   "codemirror_mode": {
    "name": "ipython",
    "version": 3
   },
   "file_extension": ".py",
   "mimetype": "text/x-python",
   "name": "python",
   "nbconvert_exporter": "python",
   "pygments_lexer": "ipython3",
   "version": "3.9.7"
  }
 },
 "nbformat": 4,
 "nbformat_minor": 4
}
