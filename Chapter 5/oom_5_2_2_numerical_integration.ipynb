{
 "cells": [
  {
   "cell_type": "markdown",
   "metadata": {},
   "source": [
    "# Чисельне інтегрування\n",
    "--------------------\n",
    "При чисельному інтегруванні неперервної функції значення інтеграла \n",
    "\n",
    "$\\quad\\qquad\\qquad\\qquad I=\\int^{b}_{a}f(x)\\,dx$   \n",
    "\n",
    "можна знайти наближено за *квадратурною формулою*\n",
    "\n",
    "$(1)\\qquad\\qquad\\qquad     I_n=\\sum_{i=0}^{n}A^{(n)}_{i}f(x_{i}),$\n",
    "\n",
    "де $n$ -- ціле число,  \n",
    "\n",
    "$x_{i},\\, i=\\overline{0,n},$ -- вузли (абсциси) такі, що  $a\\leq x_{0}<x_{1}<...<x_{n}\\leq b$, \n",
    "\n",
    "$A^{(n)}_{i},\\, i=\\overline{0,n},$  -- коефіцієнти (сталі).\n",
    "\n",
    "Тоді \n",
    "\n",
    "$\\quad\\qquad\\qquad\\qquad I=I_n+\\widehat{R}_{n}(f),$\n",
    "\n",
    "де $\\widehat{R}_{n}(f)$ -- залишковий член квадратурної формули. \n",
    "\n",
    "Оскільки методи визначення коефіцієнтів квадратурних формул забезпечують $\\widehat{R}_{n}(f) \\to 0$ при $n\\to \\infty$, то \n",
    "\n",
    "$\\quad\\qquad\\qquad\\qquad I \\approx I_n.$ \n"
   ]
  },
  {
   "cell_type": "markdown",
   "metadata": {
    "id": "uDSAycn9QF1Y"
   },
   "source": [
    "# 5.2.2. Квадратури Ньютона-Котеса: квадратурні формули прямокутників, трапецій і парабол (Сімпсона)\n",
    "---------------------\n",
    "Нагадаємо, що квадратурні формули Ньютона-Котеса отримані шляхом заміни підінтегральної функції інтерполяційним поліномом Лагранжа. Залежно від степеня $n$ полінома розрізняють квадратурні формули:\n",
    "*    $n=0$ -- прямокутників,\n",
    "*    $n=1$ -- трапецій,\n",
    "*    $n=2$ -- парабол (Сімпсона)."
   ]
  },
  {
   "cell_type": "markdown",
   "metadata": {
    "id": "uDSAycn9QF1Y"
   },
   "source": [
    "Якщо проміжок інтегрування попередньо поділити на $m > 1$ однакових відрізків і на кожному застосувати квадратурну формулу, то отриману формулу називають *великою квадратурною формулою*, позначатимемо її $I_{n,m}$.\n",
    "\n",
    "##### Позначення \n",
    "${\\bf x}:=(x_0, x_1, \\ldots, x_{m-1})$,\n",
    "\n",
    "${\\bf y}:=(y_0, y_1, \\ldots, y_{m-1}),\\quad y_k=f(x_k),\\; k=\\overline{0,(m-1)}$."
   ]
  },
  {
   "cell_type": "markdown",
   "metadata": {
    "id": "uDSAycn9QF1Y"
   },
   "source": [
    "##### Пояснення виразів, \n",
    "які зустрічаються в коді програми, де використано масиви бібліотеки NumPy.\n",
    "\n",
    "Вектор, в якому нумерація індексів починається з нуля, розглядаємо як математичну модель одновимірного масиву ``x``, елементи якого доступні за їхніми індексами:\n",
    "\n",
    "``x[0],x[1],x[2],...,x[m-1]``.  \n",
    "\n",
    "Вираз `` y= f(x)`` означає обчислення масиву ``y`` за правилом, яке задає функція $f$, коли її аргумент послідовно набуває значень елементів масиву ``x``. Математичною моделлю такого виразу є обчислення векторної функції  ${\\bf y}= f({\\bf x})$.\n",
    "\n",
    "Вираз ``y.sum()`` означає обчислення суми усіх елементів масиву ``y``."
   ]
  },
  {
   "cell_type": "markdown",
   "metadata": {
    "id": "uDSAycn9QF1Y"
   },
   "source": [
    "``x=np.linspace(a, b, m)`` означає обчислення елементів масиву  ``x`` за формулою $x_i=a+hi, \\; i= \\overline{0,m}, \\; h=\\frac{b-a}{m}$.\n",
    "\n",
    "Вирази підмножин елементів масиву  ``x``:\n",
    "*    ``x[i:j]`` -- підмножина ``x[i],x[i+1],x[i+2],...,x[j-1]``\n",
    "*    ``x[:]``  -- множина усіх елементів  \n",
    "*    ``x[0::2]`` -- підмножина елементів з парними індексами ``x[0],x[2],x[4],...`` \n",
    "*    ``x[1::2]`` -- підмножина елементів з непарними індексами ``x[1],x[3],x[5],...`` \n",
    "*    ``x[-1]``  -- останній елемент "
   ]
  },
  {
   "cell_type": "markdown",
   "metadata": {
    "id": "TrvVaZ02QF1h",
    "tags": []
   },
   "source": [
    "## 5.2.2.2.  Велика квадратурна формула прямокутників"
   ]
  },
  {
   "cell_type": "markdown",
   "metadata": {
    "id": "elD_lWBKQF1j"
   },
   "source": [
    "Нехай проміжок інтегрування розбито на $m$ відрізків довжиною $h=\\frac{b-a}{m}$, тоді велика квадратурна формула (середніх) прямокутників має вигляд:\n",
    "\n",
    "$(2)\\qquad\\qquad\\qquad     I_{0,m}=h\\sum_{i=0}^{m-1}f(x_{i})$."
   ]
  },
  {
   "cell_type": "markdown",
   "metadata": {
    "id": "elD_lWBKQF1j"
   },
   "source": [
    "Враховуючи попередні позначення, вираз для обчислення за такою формулою буде такий\n",
    "\n",
    "``I_0_m=h*y.sum()``"
   ]
  },
  {
   "cell_type": "markdown",
   "metadata": {
    "id": "C56etMUzw6qS"
   },
   "source": [
    "#### Пояснення до використання програмного коду\n",
    "-----------------\n",
    "*   Підготувати потрібні функції : \n",
    "    1.   виконати комірку з імпортом NumPy \n",
    "    2.   виконати комірку з функцією ``rectangle_formula``\n",
    "    3.   виконати комірку з підінтегральною функцією ``f``\n",
    "\n",
    "*   Для отримання наближення інтеграла треба виконати комірку з викликом функції ``rectangle_formula``, перед виконанням задати відповідні аргументи цієї функції.\n",
    "\n",
    "*   Щоб переконатися, що наближення достатньо точне, можна виконати кілька послідовних викликів, збільшуючи значення параметра $m$."
   ]
  },
  {
   "cell_type": "code",
   "execution_count": 1,
   "metadata": {
    "id": "Dv08qO4sQF1k"
   },
   "outputs": [],
   "source": [
    "import numpy as np"
   ]
  },
  {
   "cell_type": "code",
   "execution_count": 2,
   "metadata": {
    "id": "0qc5BcctO5t2"
   },
   "outputs": [],
   "source": [
    "def rectangle_formula(f,a,b,m):\n",
    "    \"\"\" обчислення наближеного значення інтеграла  \n",
    "        за великою формулою прямокутників\n",
    "    \"\"\"\n",
    "    h=(b-a)/m\n",
    "    x=np.linspace(a+h/2, b-h/2, m) #обчислення усіх вузлів квадратурної формули\n",
    "    y=f(x)                         # обчислення функції в усіх вузлах\n",
    "    return h*y.sum()               # обчислення наближеного значення інтеграла"
   ]
  },
  {
   "cell_type": "markdown",
   "metadata": {
    "tags": []
   },
   "source": [
    "##### Приклад 1.\n",
    "$f(x)=x, \\quad [a,b]=[0,\\,10]$"
   ]
  },
  {
   "cell_type": "code",
   "execution_count": 3,
   "metadata": {},
   "outputs": [],
   "source": [
    "def f1(x):\n",
    "    return x"
   ]
  },
  {
   "cell_type": "code",
   "execution_count": 4,
   "metadata": {
    "tags": []
   },
   "outputs": [
    {
     "data": {
      "text/plain": [
       "50.0"
      ]
     },
     "execution_count": 4,
     "metadata": {},
     "output_type": "execute_result"
    }
   ],
   "source": [
    "#виклик функції для знаходження наближення інтеграла\n",
    "rectangle_formula(f1,0,10,1)"
   ]
  },
  {
   "cell_type": "markdown",
   "metadata": {},
   "source": [
    "##### Приклад 2.\n",
    "$f(x)=x\\,e^{-x}\\,cos(2x), \\quad [a,b]=[0,\\,2\\pi]$"
   ]
  },
  {
   "cell_type": "markdown",
   "metadata": {},
   "source": [
    "Значення інтеграла (**точне**) можна обчислити так: "
   ]
  },
  {
   "cell_type": "code",
   "execution_count": 5,
   "metadata": {},
   "outputs": [
    {
     "name": "stdout",
     "output_type": "stream",
     "text": [
      "-0.12212260461896841\n"
     ]
    }
   ],
   "source": [
    "I=0.12*(np.exp(-2*np.pi)-1)-0.4*np.pi*np.exp(-2*np.pi)\n",
    "print(I)"
   ]
  },
  {
   "cell_type": "code",
   "execution_count": 6,
   "metadata": {},
   "outputs": [],
   "source": [
    "def f2(x):\n",
    "    return x*np.exp(-x)*np.cos(2*x)"
   ]
  },
  {
   "cell_type": "code",
   "execution_count": 7,
   "metadata": {},
   "outputs": [
    {
     "data": {
      "text/plain": [
       "-0.10387020876663354"
      ]
     },
     "execution_count": 7,
     "metadata": {},
     "output_type": "execute_result"
    }
   ],
   "source": [
    "#виклик функції для знаходження наближення інтеграла\n",
    "rectangle_formula(f2,0,2*np.pi,10)"
   ]
  },
  {
   "cell_type": "code",
   "execution_count": 8,
   "metadata": {},
   "outputs": [
    {
     "data": {
      "text/plain": [
       "-0.12195631578862703"
      ]
     },
     "execution_count": 8,
     "metadata": {},
     "output_type": "execute_result"
    }
   ],
   "source": [
    "#виклик функції для знаходження наближення інтеграла\n",
    "rectangle_formula(f2,0,2*np.pi,100)"
   ]
  },
  {
   "cell_type": "code",
   "execution_count": 9,
   "metadata": {},
   "outputs": [
    {
     "data": {
      "text/plain": [
       "-0.1221209434386473"
      ]
     },
     "execution_count": 9,
     "metadata": {},
     "output_type": "execute_result"
    }
   ],
   "source": [
    "#виклик функції для знаходження наближення інтеграла\n",
    "rectangle_formula(f2,0,2*np.pi,1000)"
   ]
  },
  {
   "cell_type": "code",
   "execution_count": 10,
   "metadata": {},
   "outputs": [
    {
     "data": {
      "text/plain": [
       "-0.12212258800733602"
      ]
     },
     "execution_count": 10,
     "metadata": {},
     "output_type": "execute_result"
    }
   ],
   "source": [
    "#виклик функції для знаходження наближення інтеграла\n",
    "rectangle_formula(f2,0,2*np.pi,10000)"
   ]
  },
  {
   "cell_type": "markdown",
   "metadata": {
    "id": "TrvVaZ02QF1h",
    "tags": []
   },
   "source": [
    "## 5.2.2.3.  Велика квадратурна формула трапецій"
   ]
  },
  {
   "cell_type": "markdown",
   "metadata": {
    "id": "elD_lWBKQF1j"
   },
   "source": [
    "Нехай, як і раніше, проміжок інтегрування розбито на $m$ відрізків довжиною $h=\\frac{b-a}{m}$, тоді велика квадратурна формула трапецій має вигляд:"
   ]
  },
  {
   "cell_type": "markdown",
   "metadata": {
    "id": "elD_lWBKQF1j"
   },
   "source": [
    "$(3)\\qquad\\qquad\\qquad     I_{1,m}=h\\left(\\frac{1}{2}f(x_0)+\\sum_{i=1}^{m-1} f(x_i)+\\frac{1}{2}f(x_m)\\right)$."
   ]
  },
  {
   "cell_type": "markdown",
   "metadata": {
    "id": "elD_lWBKQF1j"
   },
   "source": [
    "Враховуючи попередні позначення, вираз для обчислення за такою формулою буде такий\n",
    "\n",
    "``I_1_m=h*(0.5*(y[0]+y[m])+y[1:m].sum())``"
   ]
  },
  {
   "cell_type": "markdown",
   "metadata": {
    "id": "C56etMUzw6qS",
    "tags": []
   },
   "source": [
    "**Використання програмного коду** таке, як і для методу прямокутників, з тим винятком, що працюємо з функцією ``trapezoidal_formula``\n"
   ]
  },
  {
   "cell_type": "code",
   "execution_count": 11,
   "metadata": {
    "id": "0qc5BcctO5t2"
   },
   "outputs": [],
   "source": [
    "def trapezoidal_formula(f,a,b,m):\n",
    "    \"\"\"  обчислення наближеного значення інтеграла  \n",
    "        за великою формулою трапецій     \n",
    "      \"\"\"\n",
    "    h=(b-a)/m\n",
    "    x=np.linspace(a, b, m+1) \n",
    "    y=f(x)\n",
    "    return h*( 0.5*(y[0]+y[m]) + y[1:m].sum() )"
   ]
  },
  {
   "cell_type": "code",
   "execution_count": 12,
   "metadata": {},
   "outputs": [
    {
     "data": {
      "text/plain": [
       "50.0"
      ]
     },
     "execution_count": 12,
     "metadata": {},
     "output_type": "execute_result"
    }
   ],
   "source": [
    "trapezoidal_formula(f1,0,10,10)"
   ]
  },
  {
   "cell_type": "code",
   "execution_count": 13,
   "metadata": {},
   "outputs": [
    {
     "data": {
      "text/plain": [
       "-0.15723087054055593"
      ]
     },
     "execution_count": 13,
     "metadata": {},
     "output_type": "execute_result"
    }
   ],
   "source": [
    "trapezoidal_formula(f2,0,2*np.pi,10)"
   ]
  },
  {
   "cell_type": "code",
   "execution_count": 14,
   "metadata": {},
   "outputs": [
    {
     "data": {
      "text/plain": [
       "-0.12245503440935065"
      ]
     },
     "execution_count": 14,
     "metadata": {},
     "output_type": "execute_result"
    }
   ],
   "source": [
    "trapezoidal_formula(f2,0,2*np.pi,100)"
   ]
  },
  {
   "cell_type": "code",
   "execution_count": 15,
   "metadata": {},
   "outputs": [
    {
     "data": {
      "text/plain": [
       "-0.12212592696481724"
      ]
     },
     "execution_count": 15,
     "metadata": {},
     "output_type": "execute_result"
    }
   ],
   "source": [
    "trapezoidal_formula(f2,0,2*np.pi,1000)"
   ]
  },
  {
   "cell_type": "code",
   "execution_count": 16,
   "metadata": {},
   "outputs": [
    {
     "data": {
      "text/plain": [
       "-0.12212263784223164"
      ]
     },
     "execution_count": 16,
     "metadata": {},
     "output_type": "execute_result"
    }
   ],
   "source": [
    "trapezoidal_formula(f2,0,2*np.pi,10000)"
   ]
  },
  {
   "cell_type": "markdown",
   "metadata": {},
   "source": [
    "## 5.2.2.4.  Велика квадратурна формула парабол (Сімпсона)"
   ]
  },
  {
   "cell_type": "markdown",
   "metadata": {
    "id": "elD_lWBKQF1j"
   },
   "source": [
    "Нехай, як і раніше, проміжок інтегрування розбито на $m$ відрізків довжиною $h=\\frac{b-a}{m}$, тоді велика квадратурна формула парабол має вигляд:"
   ]
  },
  {
   "cell_type": "markdown",
   "metadata": {
    "id": "elD_lWBKQF1j"
   },
   "source": [
    "$(4)\\qquad\\qquad\\qquad     I_{2,m}=\\frac{h}{6}\\left( f(x_0)+4 \\sum_{i=0}^{m-1} f(x_{2i+1})+ 2\\sum_{i=1}^{m-1} f(x_{2i})+f(x_{2m})\\right)$."
   ]
  },
  {
   "cell_type": "markdown",
   "metadata": {
    "id": "elD_lWBKQF1j"
   },
   "source": [
    "Враховуючи попередні позначення, вираз для обчислення за такою формулою буде такий\n",
    "\n",
    "``I_2_m=h/6*( y[0] + 4*y[1::2].sum() + 2*y[1:2*m-1:2].sum() + y[2*m]``"
   ]
  },
  {
   "cell_type": "markdown",
   "metadata": {
    "id": "C56etMUzw6qS",
    "tags": []
   },
   "source": [
    "**Використання програмного коду** таке, як і для методу прямокутників, з тим винятком, що працюємо з функцією ``simpson_formula``\n"
   ]
  },
  {
   "cell_type": "code",
   "execution_count": 17,
   "metadata": {
    "id": "0qc5BcctO5t2"
   },
   "outputs": [],
   "source": [
    "def simpson_formula(f,a,b,m):\n",
    "    \"\"\"  обчислення наближеного значення інтеграла  \n",
    "        за великою формулою Сімпсона     \n",
    "      \"\"\"\n",
    "    h=(b-a)/m\n",
    "    x=np.linspace(a, b, 2*m+1) \n",
    "    y=f(x)\n",
    "    return h/6*(y[0]+4*y[1::2].sum()+2*y[2:2*m-1:2].sum()+y[2*m])"
   ]
  },
  {
   "cell_type": "code",
   "execution_count": 18,
   "metadata": {},
   "outputs": [
    {
     "data": {
      "text/plain": [
       "50.0"
      ]
     },
     "execution_count": 18,
     "metadata": {},
     "output_type": "execute_result"
    }
   ],
   "source": [
    "simpson_formula(f1,0,10,10)"
   ]
  },
  {
   "cell_type": "code",
   "execution_count": 19,
   "metadata": {},
   "outputs": [
    {
     "data": {
      "text/plain": [
       "-0.12165709602460766"
      ]
     },
     "execution_count": 19,
     "metadata": {},
     "output_type": "execute_result"
    }
   ],
   "source": [
    "simpson_formula(f2,0,2*np.pi,10)"
   ]
  },
  {
   "cell_type": "code",
   "execution_count": 20,
   "metadata": {},
   "outputs": [
    {
     "data": {
      "text/plain": [
       "-0.12212255532886822"
      ]
     },
     "execution_count": 20,
     "metadata": {},
     "output_type": "execute_result"
    }
   ],
   "source": [
    "simpson_formula(f2,0,2*np.pi,100)"
   ]
  },
  {
   "cell_type": "code",
   "execution_count": 21,
   "metadata": {},
   "outputs": [
    {
     "data": {
      "text/plain": [
       "-0.12212592696481724"
      ]
     },
     "execution_count": 21,
     "metadata": {},
     "output_type": "execute_result"
    }
   ],
   "source": [
    "trapezoidal_formula(f2,0,2*np.pi,1000)"
   ]
  },
  {
   "cell_type": "code",
   "execution_count": 22,
   "metadata": {},
   "outputs": [
    {
     "data": {
      "text/plain": [
       "-0.12212263784223164"
      ]
     },
     "execution_count": 22,
     "metadata": {},
     "output_type": "execute_result"
    }
   ],
   "source": [
    "trapezoidal_formula(f2,0,2*np.pi,10000)"
   ]
  },
  {
   "cell_type": "markdown",
   "metadata": {
    "id": "PnO4509Yw2xA",
    "tags": []
   },
   "source": [
    "## Аналіз результатів обчислювального експерименту\n",
    "-------------\n",
    "1)   Оскільки підінтегральна функція у прикладі 1 є сталою, то усі розглянуті квадратурні формули є точними для цього випадку.\n",
    "\n",
    "2)   Для функції з прикладу 2 спостерігаємо наближення величин $I_{n,m}$ до точного значення інтегралу при збільшенні значення параметра $m$. \n",
    "\n",
    "Для точнішої оцінки знайдемо абхолютну похибку чисельного інтегрування за формулою \n",
    "$e_{n,m}:=|I-I_{n,m}|$\n",
    "та візуалізуємо отримані результати\n"
   ]
  },
  {
   "cell_type": "code",
   "execution_count": 23,
   "metadata": {},
   "outputs": [
    {
     "data": {
      "text/plain": [
       "[4, 8, 16, 32, 64, 128, 256, 512, 1024, 2048, 4096, 8192, 16384]"
      ]
     },
     "execution_count": 23,
     "metadata": {},
     "output_type": "execute_result"
    }
   ],
   "source": [
    "#mk=[10**k for k in [1,2,3,4,5]]\n",
    "mk=[2**k for k in range(2,15)]\n",
    "mk"
   ]
  },
  {
   "cell_type": "code",
   "execution_count": 24,
   "metadata": {},
   "outputs": [],
   "source": [
    "e_0=[ np.abs( I - rectangle_formula(f2,0,2*np.pi,m)) for m in mk]\n",
    "e_1=[ np.abs( I - trapezoidal_formula(f2,0,2*np.pi,m)) for m in mk]\n",
    "e_2=[ np.abs( I - simpson_formula(f2,0,2*np.pi,m)) for m in mk]"
   ]
  },
  {
   "cell_type": "code",
   "execution_count": 25,
   "metadata": {},
   "outputs": [],
   "source": [
    "r_0=[0,]\n",
    "r_1=[0,]\n",
    "r_2=[0,]\n",
    "for i in range(1,len(e_0)):\n",
    "    r_0.append(np.log2(e_0[i-1]/e_0[i]))\n",
    "    r_1.append(np.log2(e_1[i-1]/e_1[i]))\n",
    "    r_2.append(np.log2(e_2[i-1]/e_2[i]))"
   ]
  },
  {
   "cell_type": "code",
   "execution_count": 26,
   "metadata": {},
   "outputs": [],
   "source": [
    "r_0=[0,]\n",
    "r_1=[0,]\n",
    "r_2=[0,]\n",
    "for i in range(1,len(e_0)):\n",
    "    r_0.append((e_0[i-1]/e_0[i]))\n",
    "    r_1.append((e_1[i-1]/e_1[i]))\n",
    "    r_2.append((e_2[i-1]/e_2[i]))"
   ]
  },
  {
   "cell_type": "code",
   "execution_count": 27,
   "metadata": {},
   "outputs": [],
   "source": [
    "import pandas as pd"
   ]
  },
  {
   "cell_type": "code",
   "execution_count": 28,
   "metadata": {},
   "outputs": [
    {
     "data": {
      "text/html": [
       "<div>\n",
       "<style scoped>\n",
       "    .dataframe tbody tr th:only-of-type {\n",
       "        vertical-align: middle;\n",
       "    }\n",
       "\n",
       "    .dataframe tbody tr th {\n",
       "        vertical-align: top;\n",
       "    }\n",
       "\n",
       "    .dataframe thead th {\n",
       "        text-align: right;\n",
       "    }\n",
       "</style>\n",
       "<table border=\"1\" class=\"dataframe\">\n",
       "  <thead>\n",
       "    <tr style=\"text-align: right;\">\n",
       "      <th></th>\n",
       "      <th>m</th>\n",
       "      <th>e_0_m</th>\n",
       "      <th>r_0_m</th>\n",
       "      <th>e_1_m</th>\n",
       "      <th>r_1_m</th>\n",
       "      <th>e_2_m</th>\n",
       "      <th>r_2_m</th>\n",
       "    </tr>\n",
       "  </thead>\n",
       "  <tbody>\n",
       "    <tr>\n",
       "      <th>2</th>\n",
       "      <td>4</td>\n",
       "      <td>1.221226e-01</td>\n",
       "      <td>0.000000</td>\n",
       "      <td>2.348282e-01</td>\n",
       "      <td>0.000000</td>\n",
       "      <td>3.138990e-03</td>\n",
       "      <td>0.000000</td>\n",
       "    </tr>\n",
       "    <tr>\n",
       "      <th>3</th>\n",
       "      <td>8</td>\n",
       "      <td>2.980433e-02</td>\n",
       "      <td>4.097479</td>\n",
       "      <td>5.635282e-02</td>\n",
       "      <td>4.167107</td>\n",
       "      <td>1.085280e-03</td>\n",
       "      <td>2.892332</td>\n",
       "    </tr>\n",
       "    <tr>\n",
       "      <th>4</th>\n",
       "      <td>16</td>\n",
       "      <td>6.747837e-03</td>\n",
       "      <td>4.416871</td>\n",
       "      <td>1.327424e-02</td>\n",
       "      <td>4.245275</td>\n",
       "      <td>7.381014e-05</td>\n",
       "      <td>14.703676</td>\n",
       "    </tr>\n",
       "    <tr>\n",
       "      <th>5</th>\n",
       "      <td>32</td>\n",
       "      <td>1.638624e-03</td>\n",
       "      <td>4.117989</td>\n",
       "      <td>3.263203e-03</td>\n",
       "      <td>4.067857</td>\n",
       "      <td>4.681869e-06</td>\n",
       "      <td>15.765100</td>\n",
       "    </tr>\n",
       "    <tr>\n",
       "      <th>6</th>\n",
       "      <td>64</td>\n",
       "      <td>4.065851e-04</td>\n",
       "      <td>4.030213</td>\n",
       "      <td>8.122894e-04</td>\n",
       "      <td>4.017291</td>\n",
       "      <td>2.936021e-07</td>\n",
       "      <td>15.946308</td>\n",
       "    </tr>\n",
       "    <tr>\n",
       "      <th>7</th>\n",
       "      <td>128</td>\n",
       "      <td>1.014536e-04</td>\n",
       "      <td>4.007596</td>\n",
       "      <td>2.028522e-04</td>\n",
       "      <td>4.004342</td>\n",
       "      <td>1.836519e-08</td>\n",
       "      <td>15.986883</td>\n",
       "    </tr>\n",
       "    <tr>\n",
       "      <th>8</th>\n",
       "      <td>256</td>\n",
       "      <td>2.535135e-05</td>\n",
       "      <td>4.001902</td>\n",
       "      <td>5.069927e-05</td>\n",
       "      <td>4.001087</td>\n",
       "      <td>1.148058e-09</td>\n",
       "      <td>15.996740</td>\n",
       "    </tr>\n",
       "    <tr>\n",
       "      <th>9</th>\n",
       "      <td>512</td>\n",
       "      <td>6.337085e-06</td>\n",
       "      <td>4.000476</td>\n",
       "      <td>1.267396e-05</td>\n",
       "      <td>4.000272</td>\n",
       "      <td>7.175727e-11</td>\n",
       "      <td>15.999188</td>\n",
       "    </tr>\n",
       "    <tr>\n",
       "      <th>10</th>\n",
       "      <td>1024</td>\n",
       "      <td>1.584224e-06</td>\n",
       "      <td>4.000119</td>\n",
       "      <td>3.168435e-06</td>\n",
       "      <td>4.000068</td>\n",
       "      <td>4.484899e-12</td>\n",
       "      <td>15.999752</td>\n",
       "    </tr>\n",
       "    <tr>\n",
       "      <th>11</th>\n",
       "      <td>2048</td>\n",
       "      <td>3.960531e-07</td>\n",
       "      <td>4.000030</td>\n",
       "      <td>7.921054e-07</td>\n",
       "      <td>4.000017</td>\n",
       "      <td>2.802758e-13</td>\n",
       "      <td>16.001733</td>\n",
       "    </tr>\n",
       "    <tr>\n",
       "      <th>12</th>\n",
       "      <td>4096</td>\n",
       "      <td>9.901310e-08</td>\n",
       "      <td>4.000007</td>\n",
       "      <td>1.980261e-07</td>\n",
       "      <td>4.000004</td>\n",
       "      <td>1.749989e-14</td>\n",
       "      <td>16.015860</td>\n",
       "    </tr>\n",
       "    <tr>\n",
       "      <th>13</th>\n",
       "      <td>8192</td>\n",
       "      <td>2.475326e-08</td>\n",
       "      <td>4.000002</td>\n",
       "      <td>4.950652e-08</td>\n",
       "      <td>4.000001</td>\n",
       "      <td>1.068590e-15</td>\n",
       "      <td>16.376623</td>\n",
       "    </tr>\n",
       "    <tr>\n",
       "      <th>14</th>\n",
       "      <td>16384</td>\n",
       "      <td>6.188315e-09</td>\n",
       "      <td>4.000000</td>\n",
       "      <td>1.237663e-08</td>\n",
       "      <td>4.000000</td>\n",
       "      <td>6.938894e-17</td>\n",
       "      <td>15.400000</td>\n",
       "    </tr>\n",
       "  </tbody>\n",
       "</table>\n",
       "</div>"
      ],
      "text/plain": [
       "        m         e_0_m     r_0_m         e_1_m     r_1_m         e_2_m  \\\n",
       "2       4  1.221226e-01  0.000000  2.348282e-01  0.000000  3.138990e-03   \n",
       "3       8  2.980433e-02  4.097479  5.635282e-02  4.167107  1.085280e-03   \n",
       "4      16  6.747837e-03  4.416871  1.327424e-02  4.245275  7.381014e-05   \n",
       "5      32  1.638624e-03  4.117989  3.263203e-03  4.067857  4.681869e-06   \n",
       "6      64  4.065851e-04  4.030213  8.122894e-04  4.017291  2.936021e-07   \n",
       "7     128  1.014536e-04  4.007596  2.028522e-04  4.004342  1.836519e-08   \n",
       "8     256  2.535135e-05  4.001902  5.069927e-05  4.001087  1.148058e-09   \n",
       "9     512  6.337085e-06  4.000476  1.267396e-05  4.000272  7.175727e-11   \n",
       "10   1024  1.584224e-06  4.000119  3.168435e-06  4.000068  4.484899e-12   \n",
       "11   2048  3.960531e-07  4.000030  7.921054e-07  4.000017  2.802758e-13   \n",
       "12   4096  9.901310e-08  4.000007  1.980261e-07  4.000004  1.749989e-14   \n",
       "13   8192  2.475326e-08  4.000002  4.950652e-08  4.000001  1.068590e-15   \n",
       "14  16384  6.188315e-09  4.000000  1.237663e-08  4.000000  6.938894e-17   \n",
       "\n",
       "        r_2_m  \n",
       "2    0.000000  \n",
       "3    2.892332  \n",
       "4   14.703676  \n",
       "5   15.765100  \n",
       "6   15.946308  \n",
       "7   15.986883  \n",
       "8   15.996740  \n",
       "9   15.999188  \n",
       "10  15.999752  \n",
       "11  16.001733  \n",
       "12  16.015860  \n",
       "13  16.376623  \n",
       "14  15.400000  "
      ]
     },
     "execution_count": 28,
     "metadata": {},
     "output_type": "execute_result"
    }
   ],
   "source": [
    "df=pd.DataFrame({'m':mk,'e_0_m':e_0,'r_0_m':r_0,'e_1_m':e_1,'r_1_m':r_1,'e_2_m':e_2,'r_2_m':r_2}, index=range(2,15))\n",
    "df"
   ]
  },
  {
   "cell_type": "code",
   "execution_count": 29,
   "metadata": {},
   "outputs": [],
   "source": [
    "import matplotlib.pyplot as plt\n",
    "%matplotlib inline"
   ]
  },
  {
   "cell_type": "code",
   "execution_count": 30,
   "metadata": {},
   "outputs": [
    {
     "data": {
      "text/plain": [
       "<AxesSubplot:>"
      ]
     },
     "execution_count": 30,
     "metadata": {},
     "output_type": "execute_result"
    },
    {
     "data": {
      "image/png": "[encoded data removed]",
      "text/plain": [
       "<Figure size 432x288 with 1 Axes>"
      ]
     },
     "metadata": {
      "needs_background": "light"
     },
     "output_type": "display_data"
    }
   ],
   "source": [
    "df.e_0_m.plot()\n",
    "df.e_1_m.plot()\n",
    "df.e_2_m.plot()"
   ]
  },
  {
   "cell_type": "code",
   "execution_count": 31,
   "metadata": {},
   "outputs": [
    {
     "data": {
      "text/plain": [
       "<pandas.plotting._core.PlotAccessor object at 0x00000277679A4940>"
      ]
     },
     "execution_count": 31,
     "metadata": {},
     "output_type": "execute_result"
    },
    {
     "data": {
      "image/png": "[encoded data removed]",
      "text/plain": [
       "<Figure size 432x288 with 1 Axes>"
      ]
     },
     "metadata": {
      "needs_background": "light"
     },
     "output_type": "display_data"
    }
   ],
   "source": [
    "df.e_0_m.plot(logy=True)\n",
    "df.e_1_m.plot(logy=True)\n",
    "df.e_2_m.plot(logy=True)\n",
    "df.plot"
   ]
  },
  {
   "cell_type": "code",
   "execution_count": null,
   "metadata": {},
   "outputs": [],
   "source": []
  },
  {
   "cell_type": "code",
   "execution_count": null,
   "metadata": {},
   "outputs": [],
   "source": []
  },
  {
   "cell_type": "code",
   "execution_count": null,
   "metadata": {},
   "outputs": [],
   "source": []
  },
  {
   "cell_type": "code",
   "execution_count": null,
   "metadata": {},
   "outputs": [],
   "source": []
  },
  {
   "cell_type": "code",
   "execution_count": null,
   "metadata": {},
   "outputs": [],
   "source": []
  },
  {
   "cell_type": "code",
   "execution_count": null,
   "metadata": {},
   "outputs": [],
   "source": []
  }
 ],
 "metadata": {
  "anaconda-cloud": {},
  "colab": {
   "name": "oom_2_2_1_simple_iteration.ipynb",
   "private_outputs": true,
   "provenance": []
  },
  "kernelspec": {
   "display_name": "Python 3 (ipykernel)",
   "language": "python",
   "name": "python3"
  },
  "language_info": {
   "codemirror_mode": {
    "name": "ipython",
    "version": 3
   },
   "file_extension": ".py",
   "mimetype": "text/x-python",
   "name": "python",
   "nbconvert_exporter": "python",
   "pygments_lexer": "ipython3",
   "version": "3.9.7"
  }
 },
 "nbformat": 4,
 "nbformat_minor": 4
}
