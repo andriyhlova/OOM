{
 "cells": [
  {
   "cell_type": "markdown",
   "metadata": {
    "tags": []
   },
   "source": [
    "# 7.2. Методи розв'язування лінійних інтегральних рівнянь Фредгольма \n",
    "другого роду\n",
    "--------------------\n",
    "Нехай $-\\infty<a<b<+\\infty$, $K \\in C([a,b]\\times[a,b])$, $f\\in C([a,b]$, $\\lambda \\in \\mathbb{R}$.\n",
    "\n",
    "Розглянемо лінійне одновимірне інтегральне рівняння Фредгольма другого роду\n",
    "\n",
    "$(1)\\quad\\qquad\\qquad\\qquad u-\\lambda \\int^{b}_{a}K(x,y)\\,u\\,dy=f(x), \\quad x\\in [a,b].$\n",
    "\n",
    "Під розв'язком рівняння (1) розуміють функцію $u=u(x)$, $x\\in [a,b]$, з простору\n",
    "$C([a,b]$, яка після підстановки у це рівняння перетворює його в тотожність."
   ]
  },
  {
   "cell_type": "markdown",
   "metadata": {},
   "source": [
    "## 7.2.2. Метод механічних квадратур\n",
    "-----------\n",
    "Використаємо в (1) формулу чисельного інтегрування\n",
    "\n",
    "$(2)\\quad\\qquad\\qquad\\qquad \\int^{b}_{a}g(y)\\,dy \\approx \\sum^{n}_{j=0}A^{(n)}_{j}g(x_{j})$,\n",
    "\n",
    "де $n \\in \\mathbb{N}$ -- довільне фіксоване число, $A^{(n)}_{0}, A^{(n)}_{1}, \\ldots, A^{(n)}_{n}$ і $x_{0}, x_{1}, \\ldots, x_{n}$ -- відомі коефіцієнти і вузли квадратурної формули. Отримаємо: \n",
    "\n",
    "$(3)\\quad\\qquad\\qquad\\qquad u(x)-\\lambda\\left[\\sum^{n}_{j=0}A^{(n)}_{j}K(x,x_{j})u(x_{j})\\right]\\approx f(x), \\quad x\\in [a,b]$.\n",
    "\n",
    "Наближений розв'язок рівняння (1) розглядаємо в точках $x_{0}, x_{1}, \\ldots, x_{n}$, а саме шукаємо наближення $u_{i}$, $i=\\overline{0,n}$, значень розв'язку $u(x_{i})$, $i=\\overline{0,n}$. \n",
    "\n",
    "Тоді, покладаючи почергово $x=x_{i}$, $i=\\overline{0,n}$, з (3) отримаємо систему лінійних алгебричних рівнянь\n",
    "\n",
    "$(4)\\quad\\qquad\\qquad\\qquad u_{i}-\\lambda\\sum^{n}_{j=0}A^{(n)}_{j}K_{ij}u_{j}=f_{i}, \\quad i=\\overline{0,n},$.\n",
    "\n",
    "Далі для обчислень використовуватимемо квадратурні формули,  вузли яких утворюють рівномірне розбиття проміжку інтегрування\n",
    "\n",
    "$ x_{i}:=a+ih,\\; i=\\overline{0,n}, \\; h:=\\frac{b-a}{n}$.\n",
    "\n",
    "Похибку чисельного розв'язку в точці $x_i, \\;i=\\overline{1,n}$, позначимо  $\\varepsilon_i :=|u(x_i)-u_i|$.  "
   ]
  },
  {
   "cell_type": "markdown",
   "metadata": {
    "tags": []
   },
   "source": [
    "## 7.2.3. Обчислювальні експерименти\n",
    "------------\n",
    "Будемо використовувати велику квадратурну формулу трапецій.\n",
    "\n",
    "Знаходження чисельних розв'язків рівняння (1) продемонструємо на таких прикладах:"
   ]
  },
  {
   "cell_type": "markdown",
   "metadata": {
    "jp-MarkdownHeadingCollapsed": true,
    "tags": []
   },
   "source": [
    "##### Приклад 1.\n",
    "$K(x,y)=x+y,\\quad$\n",
    "$f(x)=x^2, \\quad [a,b]=[0,\\,2]$"
   ]
  },
  {
   "cell_type": "markdown",
   "metadata": {
    "tags": []
   },
   "source": [
    "##### Приклад 2.\n",
    "$K(x,y)=xy,\\quad$ $f(x)=x+1, \\quad [a,b]=[0,\\,1].$\n",
    "\n",
    "Можна перевірити, що функція $u(x)=2.25x+1$ є точним розв'язком рівняння (1) у цьому випадку."
   ]
  },
  {
   "cell_type": "markdown",
   "metadata": {
    "id": "C56etMUzw6qS"
   },
   "source": [
    "#### Пояснення до використання програмного коду\n",
    "-----------------\n",
    "*   Підготувати потрібні функції : \n",
    "    1.   виконати комірку з імпортом бібліотек numpy, pandas і matplotlib  \n",
    "    2.   виконати комірку з функцією ``A``, яка задає коефіцієнти великої квадратурної формули трапецій\n",
    "    3.   виконати комірку з функцією ``ie_MQuadrature``\n",
    "    4.   запрограмувати і виконати комірку з функцією ``f``\n",
    "    5.   запрограмувати і виконати комірку з функцією ``K``\n",
    "\n",
    "*   Для отримання наближення розв'язку треба виконати комірку з викликом функції ``ie_MQuadrature`` з відповідними аргументами цієї функції.\n",
    "\n",
    "*   Щоб переконатися, що наближення достатньо точне, можна виконати кілька послідовних викликів, збільшуючи значення параметра $n$.\n"
   ]
  },
  {
   "cell_type": "code",
   "execution_count": 1,
   "metadata": {},
   "outputs": [],
   "source": [
    "# Імпорт бібліотек\n",
    "%matplotlib widget\n",
    "import matplotlib.pyplot as plt\n",
    "import numpy as np\n",
    "import pandas as pd"
   ]
  },
  {
   "cell_type": "code",
   "execution_count": 2,
   "metadata": {},
   "outputs": [],
   "source": [
    "# Коефіцієнти великої квадратурної формули трапецій\n",
    "def A(n):\n",
    "    w=np.ones(n+1, dtype=float)\n",
    "    w[0]=0.5\n",
    "    w[n]=0.5\n",
    "    return w"
   ]
  },
  {
   "cell_type": "code",
   "execution_count": 3,
   "metadata": {
    "id": "0qc5BcctO5t2"
   },
   "outputs": [],
   "source": [
    "def ie_MQuadrature(K,lmbd,a,b,n,A,f):\n",
    "    \"\"\"  метод механічних квадратур \n",
    "         з рівномірним розбиттям проміжку інтегрування    \n",
    "    \"\"\"   \n",
    "    x=np.linspace(a, b, n+1)\n",
    "    c=f(x)\n",
    "    h=(b-a)/n\n",
    "    w=lmbd*h*A(n)\n",
    "    \n",
    "    B=np.zeros((n+1,n+1),dtype=float)\n",
    "    for i in range(n+1):\n",
    "        B[i,:]=-w*K(x[i],x)\n",
    "        B[i,i]+=1\n",
    "\n",
    "    u=np.linalg.solve(B, c)\n",
    "    \n",
    "    return u"
   ]
  },
  {
   "cell_type": "markdown",
   "metadata": {},
   "source": [
    "#### 1) Чисельне розв'язування прикладу 1\n",
    "--------------"
   ]
  },
  {
   "cell_type": "code",
   "execution_count": 4,
   "metadata": {
    "id": "0qc5BcctO5t2"
   },
   "outputs": [],
   "source": [
    "def K1(xi,x):\n",
    "    return x+xi"
   ]
  },
  {
   "cell_type": "code",
   "execution_count": 5,
   "metadata": {},
   "outputs": [],
   "source": [
    "def f1(x):\n",
    "    return x**2"
   ]
  },
  {
   "cell_type": "code",
   "execution_count": 6,
   "metadata": {},
   "outputs": [],
   "source": [
    "lmbd=1\n",
    "a=0\n",
    "b=2\n",
    "n=2"
   ]
  },
  {
   "cell_type": "code",
   "execution_count": 7,
   "metadata": {
    "id": "-FxkdWfrQF19"
   },
   "outputs": [],
   "source": [
    "u_0=ie_MQuadrature(K1,lmbd,a,b,n,A,f1)"
   ]
  },
  {
   "cell_type": "code",
   "execution_count": 8,
   "metadata": {},
   "outputs": [
    {
     "data": {
      "text/html": [
       "<div>\n",
       "<style scoped>\n",
       "    .dataframe tbody tr th:only-of-type {\n",
       "        vertical-align: middle;\n",
       "    }\n",
       "\n",
       "    .dataframe tbody tr th {\n",
       "        vertical-align: top;\n",
       "    }\n",
       "\n",
       "    .dataframe thead th {\n",
       "        text-align: right;\n",
       "    }\n",
       "</style>\n",
       "<table border=\"1\" class=\"dataframe\">\n",
       "  <thead>\n",
       "    <tr style=\"text-align: right;\">\n",
       "      <th></th>\n",
       "      <th>x</th>\n",
       "      <th>u</th>\n",
       "    </tr>\n",
       "  </thead>\n",
       "  <tbody>\n",
       "    <tr>\n",
       "      <th>0</th>\n",
       "      <td>0.0</td>\n",
       "      <td>-0.8</td>\n",
       "    </tr>\n",
       "    <tr>\n",
       "      <th>1</th>\n",
       "      <td>1.0</td>\n",
       "      <td>-1.2</td>\n",
       "    </tr>\n",
       "    <tr>\n",
       "      <th>2</th>\n",
       "      <td>2.0</td>\n",
       "      <td>0.4</td>\n",
       "    </tr>\n",
       "  </tbody>\n",
       "</table>\n",
       "</div>"
      ],
      "text/plain": [
       "     x    u\n",
       "0  0.0 -0.8\n",
       "1  1.0 -1.2\n",
       "2  2.0  0.4"
      ]
     },
     "execution_count": 8,
     "metadata": {},
     "output_type": "execute_result"
    }
   ],
   "source": [
    "x_0=np.linspace(a, b, n+1) \n",
    "df=pd.DataFrame({'x':x_0,'u':u_0})\n",
    "df"
   ]
  },
  {
   "cell_type": "markdown",
   "metadata": {},
   "source": [
    "#### 2) Чисельне розв'язування прикладу 2\n",
    "--------------"
   ]
  },
  {
   "cell_type": "code",
   "execution_count": 9,
   "metadata": {
    "id": "0qc5BcctO5t2"
   },
   "outputs": [],
   "source": [
    "def K2(xi,x):\n",
    "    return x*xi"
   ]
  },
  {
   "cell_type": "code",
   "execution_count": 10,
   "metadata": {},
   "outputs": [],
   "source": [
    "def f2(x):\n",
    "    return x+1"
   ]
  },
  {
   "cell_type": "code",
   "execution_count": 11,
   "metadata": {},
   "outputs": [],
   "source": [
    "lmbd=1\n",
    "a=0\n",
    "b=1\n",
    "n=2"
   ]
  },
  {
   "cell_type": "code",
   "execution_count": 12,
   "metadata": {
    "id": "-FxkdWfrQF19"
   },
   "outputs": [],
   "source": [
    "u_0=ie_MQuadrature(K2,lmbd,a,b,n,A,f2)"
   ]
  },
  {
   "cell_type": "code",
   "execution_count": 13,
   "metadata": {},
   "outputs": [
    {
     "data": {
      "text/html": [
       "<div>\n",
       "<style scoped>\n",
       "    .dataframe tbody tr th:only-of-type {\n",
       "        vertical-align: middle;\n",
       "    }\n",
       "\n",
       "    .dataframe tbody tr th {\n",
       "        vertical-align: top;\n",
       "    }\n",
       "\n",
       "    .dataframe thead th {\n",
       "        text-align: right;\n",
       "    }\n",
       "</style>\n",
       "<table border=\"1\" class=\"dataframe\">\n",
       "  <thead>\n",
       "    <tr style=\"text-align: right;\">\n",
       "      <th></th>\n",
       "      <th>x</th>\n",
       "      <th>u</th>\n",
       "    </tr>\n",
       "  </thead>\n",
       "  <tbody>\n",
       "    <tr>\n",
       "      <th>0</th>\n",
       "      <td>0.0</td>\n",
       "      <td>1.0</td>\n",
       "    </tr>\n",
       "    <tr>\n",
       "      <th>1</th>\n",
       "      <td>0.5</td>\n",
       "      <td>2.2</td>\n",
       "    </tr>\n",
       "    <tr>\n",
       "      <th>2</th>\n",
       "      <td>1.0</td>\n",
       "      <td>3.4</td>\n",
       "    </tr>\n",
       "  </tbody>\n",
       "</table>\n",
       "</div>"
      ],
      "text/plain": [
       "     x    u\n",
       "0  0.0  1.0\n",
       "1  0.5  2.2\n",
       "2  1.0  3.4"
      ]
     },
     "execution_count": 13,
     "metadata": {},
     "output_type": "execute_result"
    }
   ],
   "source": [
    "x_0=np.linspace(a, b, n+1) \n",
    "df=pd.DataFrame({'x':x_0,'u':u_0})\n",
    "df"
   ]
  },
  {
   "cell_type": "markdown",
   "metadata": {},
   "source": [
    "Щоб продемонструвати збіжність чисельного розв'язку до аналітичного, розглянемо його на послідовності розбиттів, кожного разу вдвічі зменшуючи крок $h$.\n",
    "В програмі результат кожного ``i``-того експерименту зберігаємо в масиві ``u_i``."
   ]
  },
  {
   "cell_type": "code",
   "execution_count": 14,
   "metadata": {},
   "outputs": [],
   "source": [
    "u_0=ie_MQuadrature(K2,lmbd,a,b,n,A,f2)\n",
    "\n",
    "u_1=ie_MQuadrature(K2,lmbd,a,b,2*n,A,f2)\n",
    "\n",
    "u_2=ie_MQuadrature(K2,lmbd,a,b,4*n,A,f2)\n",
    "\n",
    "u_3=ie_MQuadrature(K2,lmbd,a,b,8*n,A,f2)\n",
    "\n",
    "u_4=ie_MQuadrature(K2,lmbd,a,b,16*n,A,f2)"
   ]
  },
  {
   "cell_type": "code",
   "execution_count": 15,
   "metadata": {},
   "outputs": [],
   "source": [
    "x_0=np.linspace(a, b, n+1) \n",
    "x=np.linspace(a, b, 64*n+1) \n",
    "u=2.25*x+1"
   ]
  },
  {
   "cell_type": "code",
   "execution_count": 19,
   "metadata": {},
   "outputs": [
    {
     "data": {
      "text/html": [
       "<div>\n",
       "<style scoped>\n",
       "    .dataframe tbody tr th:only-of-type {\n",
       "        vertical-align: middle;\n",
       "    }\n",
       "\n",
       "    .dataframe tbody tr th {\n",
       "        vertical-align: top;\n",
       "    }\n",
       "\n",
       "    .dataframe thead th {\n",
       "        text-align: right;\n",
       "    }\n",
       "</style>\n",
       "<table border=\"1\" class=\"dataframe\">\n",
       "  <thead>\n",
       "    <tr style=\"text-align: right;\">\n",
       "      <th></th>\n",
       "      <th>x_0</th>\n",
       "      <th>u_0</th>\n",
       "      <th>u_1</th>\n",
       "      <th>u_2</th>\n",
       "      <th>u_3</th>\n",
       "      <th>u_4</th>\n",
       "      <th>u</th>\n",
       "    </tr>\n",
       "  </thead>\n",
       "  <tbody>\n",
       "    <tr>\n",
       "      <th>0</th>\n",
       "      <td>0.0</td>\n",
       "      <td>1.0</td>\n",
       "      <td>1.000000</td>\n",
       "      <td>1.000000</td>\n",
       "      <td>1.000000</td>\n",
       "      <td>1.000000</td>\n",
       "      <td>1.000</td>\n",
       "    </tr>\n",
       "    <tr>\n",
       "      <th>1</th>\n",
       "      <td>0.5</td>\n",
       "      <td>2.2</td>\n",
       "      <td>2.142857</td>\n",
       "      <td>2.129412</td>\n",
       "      <td>2.126100</td>\n",
       "      <td>2.125275</td>\n",
       "      <td>2.125</td>\n",
       "    </tr>\n",
       "    <tr>\n",
       "      <th>2</th>\n",
       "      <td>1.0</td>\n",
       "      <td>3.4</td>\n",
       "      <td>3.285714</td>\n",
       "      <td>3.258824</td>\n",
       "      <td>3.252199</td>\n",
       "      <td>3.250549</td>\n",
       "      <td>3.250</td>\n",
       "    </tr>\n",
       "  </tbody>\n",
       "</table>\n",
       "</div>"
      ],
      "text/plain": [
       "   x_0  u_0       u_1       u_2       u_3       u_4      u\n",
       "0  0.0  1.0  1.000000  1.000000  1.000000  1.000000  1.000\n",
       "1  0.5  2.2  2.142857  2.129412  2.126100  2.125275  2.125\n",
       "2  1.0  3.4  3.285714  3.258824  3.252199  3.250549  3.250"
      ]
     },
     "execution_count": 19,
     "metadata": {},
     "output_type": "execute_result"
    }
   ],
   "source": [
    "df=pd.DataFrame({'x_0':x_0[::],'u_0':u_0[::],'u_1':u_1[::2],'u_2':u_2[::4],'u_3':u_3[::8],'u_4':u_4[::16],'u':u[::64]})\n",
    "df"
   ]
  },
  {
   "cell_type": "markdown",
   "metadata": {},
   "source": [
    "Зауважимо, що використаний спосіб побудови табличок вимагає, щоб у кожній колонці була однакова кількість чисел.\n",
    "\n",
    "Щоб отримати табличку з довшими колонками, опустимо колонку ``u_0``:"
   ]
  },
  {
   "cell_type": "code",
   "execution_count": 20,
   "metadata": {},
   "outputs": [
    {
     "data": {
      "text/html": [
       "<div>\n",
       "<style scoped>\n",
       "    .dataframe tbody tr th:only-of-type {\n",
       "        vertical-align: middle;\n",
       "    }\n",
       "\n",
       "    .dataframe tbody tr th {\n",
       "        vertical-align: top;\n",
       "    }\n",
       "\n",
       "    .dataframe thead th {\n",
       "        text-align: right;\n",
       "    }\n",
       "</style>\n",
       "<table border=\"1\" class=\"dataframe\">\n",
       "  <thead>\n",
       "    <tr style=\"text-align: right;\">\n",
       "      <th></th>\n",
       "      <th>x_1</th>\n",
       "      <th>u_1</th>\n",
       "      <th>u_2</th>\n",
       "      <th>u_3</th>\n",
       "      <th>u_4</th>\n",
       "      <th>u</th>\n",
       "    </tr>\n",
       "  </thead>\n",
       "  <tbody>\n",
       "    <tr>\n",
       "      <th>0</th>\n",
       "      <td>0.00</td>\n",
       "      <td>1.000000</td>\n",
       "      <td>1.000000</td>\n",
       "      <td>1.000000</td>\n",
       "      <td>1.000000</td>\n",
       "      <td>1.0000</td>\n",
       "    </tr>\n",
       "    <tr>\n",
       "      <th>1</th>\n",
       "      <td>0.25</td>\n",
       "      <td>1.571429</td>\n",
       "      <td>1.564706</td>\n",
       "      <td>1.563050</td>\n",
       "      <td>1.562637</td>\n",
       "      <td>1.5625</td>\n",
       "    </tr>\n",
       "    <tr>\n",
       "      <th>2</th>\n",
       "      <td>0.50</td>\n",
       "      <td>2.142857</td>\n",
       "      <td>2.129412</td>\n",
       "      <td>2.126100</td>\n",
       "      <td>2.125275</td>\n",
       "      <td>2.1250</td>\n",
       "    </tr>\n",
       "    <tr>\n",
       "      <th>3</th>\n",
       "      <td>0.75</td>\n",
       "      <td>2.714286</td>\n",
       "      <td>2.694118</td>\n",
       "      <td>2.689150</td>\n",
       "      <td>2.687912</td>\n",
       "      <td>2.6875</td>\n",
       "    </tr>\n",
       "    <tr>\n",
       "      <th>4</th>\n",
       "      <td>1.00</td>\n",
       "      <td>3.285714</td>\n",
       "      <td>3.258824</td>\n",
       "      <td>3.252199</td>\n",
       "      <td>3.250549</td>\n",
       "      <td>3.2500</td>\n",
       "    </tr>\n",
       "  </tbody>\n",
       "</table>\n",
       "</div>"
      ],
      "text/plain": [
       "    x_1       u_1       u_2       u_3       u_4       u\n",
       "0  0.00  1.000000  1.000000  1.000000  1.000000  1.0000\n",
       "1  0.25  1.571429  1.564706  1.563050  1.562637  1.5625\n",
       "2  0.50  2.142857  2.129412  2.126100  2.125275  2.1250\n",
       "3  0.75  2.714286  2.694118  2.689150  2.687912  2.6875\n",
       "4  1.00  3.285714  3.258824  3.252199  3.250549  3.2500"
      ]
     },
     "execution_count": 20,
     "metadata": {},
     "output_type": "execute_result"
    }
   ],
   "source": [
    "x_1=np.linspace(a, b, 2*n+1) \n",
    "df1=pd.DataFrame({'x_1':x_1[::],'u_1':u_1[::],'u_2':u_2[::2],'u_3':u_3[::4],'u_4':u_4[::8],'u':u[::32]})\n",
    "df1"
   ]
  },
  {
   "cell_type": "markdown",
   "metadata": {},
   "source": [
    "Оскільки відомо точний розв'язок рівняння, то знайдемо похибку чисельного розв'язку на кожному розбитті та порядок збіжності."
   ]
  },
  {
   "cell_type": "code",
   "execution_count": 21,
   "metadata": {},
   "outputs": [
    {
     "data": {
      "text/html": [
       "<div>\n",
       "<style scoped>\n",
       "    .dataframe tbody tr th:only-of-type {\n",
       "        vertical-align: middle;\n",
       "    }\n",
       "\n",
       "    .dataframe tbody tr th {\n",
       "        vertical-align: top;\n",
       "    }\n",
       "\n",
       "    .dataframe thead th {\n",
       "        text-align: right;\n",
       "    }\n",
       "</style>\n",
       "<table border=\"1\" class=\"dataframe\">\n",
       "  <thead>\n",
       "    <tr style=\"text-align: right;\">\n",
       "      <th></th>\n",
       "      <th>x_0</th>\n",
       "      <th>e_0</th>\n",
       "      <th>e_1</th>\n",
       "      <th>r_1</th>\n",
       "      <th>e_2</th>\n",
       "      <th>r_2</th>\n",
       "      <th>e_3</th>\n",
       "      <th>r_3</th>\n",
       "      <th>e_4</th>\n",
       "      <th>r_4</th>\n",
       "    </tr>\n",
       "  </thead>\n",
       "  <tbody>\n",
       "    <tr>\n",
       "      <th>0</th>\n",
       "      <td>0.0</td>\n",
       "      <td>0.000</td>\n",
       "      <td>0.000000</td>\n",
       "      <td>NaN</td>\n",
       "      <td>0.000000</td>\n",
       "      <td>NaN</td>\n",
       "      <td>0.000000</td>\n",
       "      <td>NaN</td>\n",
       "      <td>0.000000</td>\n",
       "      <td>NaN</td>\n",
       "    </tr>\n",
       "    <tr>\n",
       "      <th>1</th>\n",
       "      <td>0.5</td>\n",
       "      <td>0.075</td>\n",
       "      <td>0.017857</td>\n",
       "      <td>2.070389</td>\n",
       "      <td>0.004412</td>\n",
       "      <td>2.017074</td>\n",
       "      <td>0.001100</td>\n",
       "      <td>2.004237</td>\n",
       "      <td>0.000275</td>\n",
       "      <td>2.001057</td>\n",
       "    </tr>\n",
       "    <tr>\n",
       "      <th>2</th>\n",
       "      <td>1.0</td>\n",
       "      <td>0.150</td>\n",
       "      <td>0.035714</td>\n",
       "      <td>2.070389</td>\n",
       "      <td>0.008824</td>\n",
       "      <td>2.017074</td>\n",
       "      <td>0.002199</td>\n",
       "      <td>2.004237</td>\n",
       "      <td>0.000549</td>\n",
       "      <td>2.001057</td>\n",
       "    </tr>\n",
       "  </tbody>\n",
       "</table>\n",
       "</div>"
      ],
      "text/plain": [
       "   x_0    e_0       e_1       r_1       e_2       r_2       e_3       r_3  \\\n",
       "0  0.0  0.000  0.000000       NaN  0.000000       NaN  0.000000       NaN   \n",
       "1  0.5  0.075  0.017857  2.070389  0.004412  2.017074  0.001100  2.004237   \n",
       "2  1.0  0.150  0.035714  2.070389  0.008824  2.017074  0.002199  2.004237   \n",
       "\n",
       "        e_4       r_4  \n",
       "0  0.000000       NaN  \n",
       "1  0.000275  2.001057  \n",
       "2  0.000549  2.001057  "
      ]
     },
     "execution_count": 21,
     "metadata": {},
     "output_type": "execute_result"
    }
   ],
   "source": [
    "err=pd.DataFrame({'x_0':x_0})\n",
    "err['e_0']=np.abs(df['u_0'] -df['u'])\n",
    "\n",
    "err['e_1']=np.abs(df['u_1'] -df['u'])\n",
    "err['r_1']=np.log2(err['e_0'] /err['e_1'])\n",
    "\n",
    "err['e_2']=np.abs(df['u_2'] -df['u'])\n",
    "err['r_2']=np.log2(err['e_1'] /err['e_2'])\n",
    "\n",
    "err['e_3']=np.abs(df['u_3'] -df['u'])\n",
    "err['r_3']=np.log2(err['e_2'] /err['e_3'])\n",
    "\n",
    "err['e_4']=np.abs(df['u_4'] -df['u'])\n",
    "err['r_4']=np.log2(err['e_3'] /err['e_4'])\n",
    "err"
   ]
  },
  {
   "cell_type": "code",
   "execution_count": 22,
   "metadata": {},
   "outputs": [
    {
     "data": {
      "text/html": [
       "<div>\n",
       "<style scoped>\n",
       "    .dataframe tbody tr th:only-of-type {\n",
       "        vertical-align: middle;\n",
       "    }\n",
       "\n",
       "    .dataframe tbody tr th {\n",
       "        vertical-align: top;\n",
       "    }\n",
       "\n",
       "    .dataframe thead th {\n",
       "        text-align: right;\n",
       "    }\n",
       "</style>\n",
       "<table border=\"1\" class=\"dataframe\">\n",
       "  <thead>\n",
       "    <tr style=\"text-align: right;\">\n",
       "      <th></th>\n",
       "      <th>x_1</th>\n",
       "      <th>e_1</th>\n",
       "      <th>e_2</th>\n",
       "      <th>r_2</th>\n",
       "      <th>e_3</th>\n",
       "      <th>r_3</th>\n",
       "      <th>e_4</th>\n",
       "      <th>r_4</th>\n",
       "    </tr>\n",
       "  </thead>\n",
       "  <tbody>\n",
       "    <tr>\n",
       "      <th>0</th>\n",
       "      <td>0.00</td>\n",
       "      <td>0.000000</td>\n",
       "      <td>0.000000</td>\n",
       "      <td>NaN</td>\n",
       "      <td>0.000000</td>\n",
       "      <td>NaN</td>\n",
       "      <td>0.000000</td>\n",
       "      <td>NaN</td>\n",
       "    </tr>\n",
       "    <tr>\n",
       "      <th>1</th>\n",
       "      <td>0.25</td>\n",
       "      <td>0.017857</td>\n",
       "      <td>0.004412</td>\n",
       "      <td>2.017074</td>\n",
       "      <td>0.001100</td>\n",
       "      <td>2.004237</td>\n",
       "      <td>0.000275</td>\n",
       "      <td>2.001057</td>\n",
       "    </tr>\n",
       "    <tr>\n",
       "      <th>2</th>\n",
       "      <td>0.50</td>\n",
       "      <td>0.035714</td>\n",
       "      <td>0.008824</td>\n",
       "      <td>2.017074</td>\n",
       "      <td>0.002199</td>\n",
       "      <td>2.004237</td>\n",
       "      <td>0.000549</td>\n",
       "      <td>2.001057</td>\n",
       "    </tr>\n",
       "    <tr>\n",
       "      <th>3</th>\n",
       "      <td>0.75</td>\n",
       "      <td>NaN</td>\n",
       "      <td>NaN</td>\n",
       "      <td>NaN</td>\n",
       "      <td>NaN</td>\n",
       "      <td>NaN</td>\n",
       "      <td>NaN</td>\n",
       "      <td>NaN</td>\n",
       "    </tr>\n",
       "    <tr>\n",
       "      <th>4</th>\n",
       "      <td>1.00</td>\n",
       "      <td>NaN</td>\n",
       "      <td>NaN</td>\n",
       "      <td>NaN</td>\n",
       "      <td>NaN</td>\n",
       "      <td>NaN</td>\n",
       "      <td>NaN</td>\n",
       "      <td>NaN</td>\n",
       "    </tr>\n",
       "  </tbody>\n",
       "</table>\n",
       "</div>"
      ],
      "text/plain": [
       "    x_1       e_1       e_2       r_2       e_3       r_3       e_4       r_4\n",
       "0  0.00  0.000000  0.000000       NaN  0.000000       NaN  0.000000       NaN\n",
       "1  0.25  0.017857  0.004412  2.017074  0.001100  2.004237  0.000275  2.001057\n",
       "2  0.50  0.035714  0.008824  2.017074  0.002199  2.004237  0.000549  2.001057\n",
       "3  0.75       NaN       NaN       NaN       NaN       NaN       NaN       NaN\n",
       "4  1.00       NaN       NaN       NaN       NaN       NaN       NaN       NaN"
      ]
     },
     "execution_count": 22,
     "metadata": {},
     "output_type": "execute_result"
    }
   ],
   "source": [
    "err=pd.DataFrame({'x_1':x_1})\n",
    "\n",
    "err['e_1']=np.abs(df['u_1'] -df['u'])\n",
    "#err['r_1']=np.log2(err['e_0'] /err['e_1'])\n",
    "\n",
    "err['e_2']=np.abs(df['u_2'] -df['u'])\n",
    "err['r_2']=np.log2(err['e_1'] /err['e_2'])\n",
    "\n",
    "err['e_3']=np.abs(df['u_3'] -df['u'])\n",
    "err['r_3']=np.log2(err['e_2'] /err['e_3'])\n",
    "\n",
    "err['e_4']=np.abs(df['u_4'] -df['u'])\n",
    "err['r_4']=np.log2(err['e_3'] /err['e_4'])\n",
    "err"
   ]
  },
  {
   "cell_type": "code",
   "execution_count": 23,
   "metadata": {},
   "outputs": [],
   "source": [
    "x_1=np.linspace(a, b, 2*n+1) \n",
    "\n",
    "x_2=np.linspace(a, b, 4*n+1) \n",
    "\n",
    "x_3=np.linspace(a, b, 8*n+1) \n",
    "\n",
    "x_4=np.linspace(a, b, 16*n+1) "
   ]
  },
  {
   "cell_type": "code",
   "execution_count": 24,
   "metadata": {},
   "outputs": [],
   "source": [
    "plt.close('all')"
   ]
  },
  {
   "cell_type": "code",
   "execution_count": 25,
   "metadata": {},
   "outputs": [
    {
     "data": {
      "application/vnd.jupyter.widget-view+json": {
       "model_id": "9a3d36b5503e4968af951a9ae1f2111b",
       "version_major": 2,
       "version_minor": 0
      },
      "text/plain": [
       "Canvas(toolbar=Toolbar(toolitems=[('Home', 'Reset original view', 'home', 'home'), ('Back', 'Back to previous …"
      ]
     },
     "metadata": {},
     "output_type": "display_data"
    },
    {
     "data": {
      "text/plain": [
       "[<matplotlib.lines.Line2D at 0x155b1c8be50>]"
      ]
     },
     "execution_count": 25,
     "metadata": {},
     "output_type": "execute_result"
    }
   ],
   "source": [
    "fig = plt.figure(figsize=(8, 5))\n",
    "ax = fig.gca()\n",
    "ax.axhline(color=\"grey\", ls=\"--\", zorder=-1)\n",
    "ax.axvline(color=\"grey\", ls=\"--\", zorder=-1)\n",
    "\n",
    "plt.plot(x, u)\n",
    "\n",
    "plt.plot(x_0, u_0)\n",
    "\n",
    "plt.plot(x_1, u_1)\n",
    "\n",
    "plt.plot(x_2, u_2)\n",
    "\n",
    "plt.plot(x_3, u_3)\n",
    "\n",
    "plt.plot(x_4, u_4)"
   ]
  },
  {
   "cell_type": "code",
   "execution_count": 26,
   "metadata": {},
   "outputs": [],
   "source": [
    "plt.close('all')"
   ]
  },
  {
   "cell_type": "code",
   "execution_count": null,
   "metadata": {},
   "outputs": [],
   "source": []
  }
 ],
 "metadata": {
  "kernelspec": {
   "display_name": "Python 3 (ipykernel)",
   "language": "python",
   "name": "python3"
  },
  "language_info": {
   "codemirror_mode": {
    "name": "ipython",
    "version": 3
   },
   "file_extension": ".py",
   "mimetype": "text/x-python",
   "name": "python",
   "nbconvert_exporter": "python",
   "pygments_lexer": "ipython3",
   "version": "3.9.7"
  }
 },
 "nbformat": 4,
 "nbformat_minor": 4
}
