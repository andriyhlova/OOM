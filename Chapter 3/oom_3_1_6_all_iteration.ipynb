{
 "cells": [
  {
   "cell_type": "markdown",
   "metadata": {},
   "source": [
    "# 3. Розв'язування нелінійних рівнянь\n",
    "------------"
   ]
  },
  {
   "cell_type": "markdown",
   "metadata": {},
   "source": [
    "Нехай маємо рівняння\n",
    "\n",
    "$(1)\\qquad\\qquad\\qquad\n",
    "f(x)=0, \\quad x\\in [a,b],$\n",
    "\n",
    "де $f:[a,b]\\to \\mathbb{R}$ -- неперервна на $[a,b]$ функція.\n"
   ]
  },
  {
   "cell_type": "markdown",
   "metadata": {
    "tags": []
   },
   "source": [
    "### 3.1.5. Метод січних\n",
    "--------------\n",
    "Нехай рівняння (1) \n",
    "має і тільки один корінь $x_*$ на відрізку $[a,b]$. \n",
    "\n",
    "Запишемо це рівняння у вигляді\n",
    "\n",
    "$(2)\\qquad\\qquad\\qquad\n",
    "x = \\varphi (x),$\n",
    " \n",
    "де \n",
    "\n",
    "$(3)\\qquad\\qquad\\qquad \\varphi(x) := x + \\rho(x)f(x),\\quad x\\in [a,b],$\n",
    "\n",
    "а $\\rho:[a,b]\\to \\mathbb{R}$ -- довільна неперервна функція, яка не має коренів на $[a,b]$. Зокрема, може бути $\\rho(x)= 1,\\, x\\in [a,b]$."
   ]
  },
  {
   "cell_type": "markdown",
   "metadata": {
    "tags": []
   },
   "source": [
    "Метод простої ітерації визначається так:\n",
    "\n",
    "* задаємо початкове значення $x_0\\in [a,b]$ і\n",
    "\n",
    "* знаходимо послідовні наближення $x_1, x_2, x_3, \\ldots$ розв'язку рівняння (2) за формулою\n",
    "\n",
    "$(4)\\qquad\\qquad\\qquad x_{n+1} = \\varphi(x_n), \\quad n=0,1,2, \\dots\\,.$\n",
    "\n",
    "\n",
    "**Теорема.** Нехай функція $\\varphi: [a,b]\\to \\mathbb{R}$ є стискуючим відображенням, тобто задовольняє умову Ліпшиця \n",
    "\n",
    "$(5)\\qquad\\qquad\\qquad \n",
    "|\\varphi(x^{\\prime\\prime}) - \\varphi(x^{\\prime})| \\leqslant q|x^{\\prime\\prime} - x^{\\prime}|,\\quad x^{\\prime}, \\ x^{\\prime\\prime} \\in [a,b],$\n",
    "\n",
    "зі сталою $q\\in (0,1)$,\n",
    "та $x_0$ і $d>0$ такі, що $ [x_0-d,x_0+d]\\subset [a,b]$ і \n",
    "\n",
    "$(6)\\qquad\\qquad\\qquad\n",
    "|\\varphi(x_0)-x_0| \\leqslant (1-q)d$.\n",
    "\n",
    "Тоді рівняння (2) має на відрізку $[x_0-d,x_0+d]$ єдиний корінь $x_*$ і він є границею послідовності (4).\n",
    "\n",
    "Для похибки  $x_{n+1} - x_*$ маємо оцінку\n",
    "\n",
    "$(7)\\qquad\\qquad\\qquad\n",
    "|x_{n+1} - x_*|\\leqslant q^{n+1} |b-a|.$\n",
    " \n",
    "тобто метод простої ітерації збігається зі швидкістю геометричної прогресії із знаменником $q$.\n"
   ]
  },
  {
   "cell_type": "markdown",
   "metadata": {
    "tags": []
   },
   "source": [
    "#### Пояснення до використання програмного коду\n",
    "-----------------\n",
    "*   Підготувати середовище і потрібні функції : \n",
    "    1. виконати комірку для підготовки середовища\n",
    "    2. виконати комірку, де **визначена** функція ``secant_iteration`` \n",
    "    3. виконати комірку, де **визначена** функція ``plot_graphics``\n",
    "    4. виконати комірку, де **визначена** функція ``f`` \n",
    "    \n",
    "*   Локалізувати (графічно) корінь рівняння (1)\n",
    "    1. виконати комірку, в якій задається відрізок\n",
    "    2. виконати комірку, в якій будується графік\n",
    "    3. виконати комірку, в якій задається звужений відрізок\n",
    "    4. виконати комірку, в якій будується графік на звуженому відрізку\n",
    "    5. пункти 3 і 4 можна повтороти для точнішої локалізації потрібного кореня\n",
    "    \n",
    "*   Обчислити наближення локалізованого кореня\n",
    "    1. задати точність ``eps`` наближеного кореня та початкові наближення ``x0`` і ``x1``\n",
    "    2. виконати комірку, де є **виклик** функції ``secant_iteration``\n",
    "    3. для знаходження іншого корення виконати дії пунктів локалізації"
   ]
  },
  {
   "cell_type": "code",
   "execution_count": 1,
   "metadata": {},
   "outputs": [],
   "source": [
    "# Підготовка середовища\n",
    "\n",
    "# при виконанні в JupyterLab наступний рядок розкоментувати\n",
    "#%matplotlib widget\n",
    "\n",
    "import numpy as np\n",
    "import matplotlib.pyplot as plt"
   ]
  },
  {
   "cell_type": "markdown",
   "metadata": {},
   "source": [
    ">#### ``secant_iteration`` -- фуункція, яка реалізує метод січних "
   ]
  },
  {
   "cell_type": "code",
   "execution_count": 2,
   "metadata": {
    "colab": {
     "base_uri": "https://localhost:8080/"
    },
    "executionInfo": {
     "elapsed": 338,
     "status": "ok",
     "timestamp": 1629912431271,
     "user": {
      "displayName": "Anatoliy Muzychuk",
      "photoUrl": "",
      "userId": "02436432047169316818"
     },
     "user_tz": -180
    },
    "id": "c6TrJDY0PQGz",
    "outputId": "e915a7a1-5b99-4c21-a2fd-2cb036410d10"
   },
   "outputs": [],
   "source": [
    "def secant_iteration(f,a, b, x0,x1, eps):\n",
    "    \"\"\" знаходження методом січних наближеного кореня рівняння (1), \n",
    "        де f -- непервна функція на відрізку [a, b],          \n",
    "        x0 -- початкове наближення\n",
    "        eps -- задана точність\n",
    "    \"\"\"   \n",
    "    x_pprev=x0\n",
    "    x_prev=x1\n",
    "    k=2\n",
    "    x_new = x_prev - f(x_prev)*(x_prev-x_pprev)/(f(x_prev)-f(x_pprev))\n",
    "    if np.abs(x_new-x_prev)<eps:\n",
    "        return x_new,k\n",
    "    while np.abs(x_new-x_prev) > eps:\n",
    "        k+=1\n",
    "        x_pprev=x_prev\n",
    "        x_prev = x_new\n",
    "        x_new = x_prev - f(x_prev)*(x_prev-x_pprev)/(f(x_prev)-f(x_pprev))       \n",
    "    return x_new,k"
   ]
  },
  {
   "cell_type": "markdown",
   "metadata": {},
   "source": [
    ">#### ``Newton_iteration`` -- фуункція, яка реалізує метод Ньютона "
   ]
  },
  {
   "cell_type": "code",
   "execution_count": 3,
   "metadata": {
    "colab": {
     "base_uri": "https://localhost:8080/"
    },
    "executionInfo": {
     "elapsed": 338,
     "status": "ok",
     "timestamp": 1629912431271,
     "user": {
      "displayName": "Anatoliy Muzychuk",
      "photoUrl": "",
      "userId": "02436432047169316818"
     },
     "user_tz": -180
    },
    "id": "c6TrJDY0PQGz",
    "outputId": "e915a7a1-5b99-4c21-a2fd-2cb036410d10"
   },
   "outputs": [],
   "source": [
    "def Newton_iteration(f,f_deriv, a, b, x0, eps):\n",
    "    \"\"\" знаходження методом Ньютона наближеного кореня рівняння (1), \n",
    "        де f -- непервна функція на відрізку [a, b],  \n",
    "        f_deriv -- похідна функція на відрізку [a, b]\n",
    "        x0 -- початкове наближення\n",
    "        eps -- задана точність\n",
    "    \"\"\"   \n",
    "    x_prev=x0\n",
    "    k=1\n",
    "    x_new = x_prev - f(x_prev)/f_deriv(x_prev)\n",
    "    if np.abs(x_new-x_prev)<eps:\n",
    "        return x_new,k\n",
    "    while np.abs(x_new-x_prev) > eps:\n",
    "        k+=1\n",
    "        x_prev = x_new\n",
    "        x_new = x_prev - f(x_prev)/f_deriv(x_prev)       \n",
    "    return x_new,k"
   ]
  },
  {
   "cell_type": "markdown",
   "metadata": {},
   "source": [
    ">#### ``simple_iteration`` -- фуункція, яка реалізує метод простої ітерації "
   ]
  },
  {
   "cell_type": "code",
   "execution_count": 4,
   "metadata": {
    "colab": {
     "base_uri": "https://localhost:8080/"
    },
    "executionInfo": {
     "elapsed": 338,
     "status": "ok",
     "timestamp": 1629912431271,
     "user": {
      "displayName": "Anatoliy Muzychuk",
      "photoUrl": "",
      "userId": "02436432047169316818"
     },
     "user_tz": -180
    },
    "id": "c6TrJDY0PQGz",
    "outputId": "e915a7a1-5b99-4c21-a2fd-2cb036410d10"
   },
   "outputs": [],
   "source": [
    "def simple_iteration(f,rho,a,b, x0, eps):\n",
    "    \"\"\" знаходження методом простої ітерації наближеного кореня рівняння (1), \n",
    "        де f -- непервна стискаюча функція на відрізку [a, b],  \n",
    "        rho -- непервна функція на відрізку [a, b]\n",
    "        x0 -- початкове наближення\n",
    "        eps -- задана точність\n",
    "    \"\"\"  \n",
    "    x_prev=x0\n",
    "    k=1\n",
    "    x_new = x_prev + rho(x_prev)*f(x_prev)\n",
    "    if np.abs(x_new-x_prev)<eps:\n",
    "        return x_new,k\n",
    "    while np.abs(x_new-x_prev) > eps:\n",
    "        k+=1\n",
    "        x_prev = x_new\n",
    "        x_new = x_prev + rho(x_prev)*f(x_prev)       \n",
    "    return x_new,k"
   ]
  },
  {
   "cell_type": "markdown",
   "metadata": {},
   "source": [
    ">#### ``bisection`` -- фуункція, яка реалізує метод бісекції "
   ]
  },
  {
   "cell_type": "code",
   "execution_count": 5,
   "metadata": {
    "colab": {
     "base_uri": "https://localhost:8080/"
    },
    "executionInfo": {
     "elapsed": 338,
     "status": "ok",
     "timestamp": 1629912431271,
     "user": {
      "displayName": "Anatoliy Muzychuk",
      "photoUrl": "",
      "userId": "02436432047169316818"
     },
     "user_tz": -180
    },
    "id": "c6TrJDY0PQGz",
    "outputId": "e915a7a1-5b99-4c21-a2fd-2cb036410d10"
   },
   "outputs": [],
   "source": [
    "def bisection(f,a,b,eps):\n",
    "    \"\"\" знаходження методом бісекції наближеного кореня рівняння (1), \n",
    "        де f -- непервна функція на проміжку (a, b), eps -- задана точність\n",
    "    \"\"\"\n",
    "    ba=np.abs(b-a)\n",
    "    k=1\n",
    "    if ba < eps:\n",
    "        return (a+b)/2\n",
    "    while ba > eps:\n",
    "        k+=1\n",
    "        fa=f(a)\n",
    "        x=(a+b)/2\n",
    "        fx=f(x)\n",
    "        if fx==0 :\n",
    "            return x, k\n",
    "        if fa*fx < 0:\n",
    "            b=x\n",
    "        else:\n",
    "            a=x\n",
    "        ba=np.abs(b-a)\n",
    "    return (a+b)/2,k"
   ]
  },
  {
   "cell_type": "markdown",
   "metadata": {},
   "source": [
    ">#### ``plot_graphics`` -- фуункція для побудови графіка функції ``f`` на відрізку ``[a,\\,b]`` за значеннями в ``n`` точках "
   ]
  },
  {
   "cell_type": "code",
   "execution_count": 6,
   "metadata": {},
   "outputs": [],
   "source": [
    "def plot_graphics(f, a, b, n):\n",
    "    \"\"\"фуункція для побудови графіка функції f \n",
    "       на відрізку [a,b] за значеннями в n точках \n",
    "    \"\"\"\n",
    "    xarr = np.linspace(a, b, n)    \n",
    "    y=f(xarr) \n",
    "    fig = plt.figure()\n",
    "    ax = fig.gca()\n",
    "    ax.plot(xarr,y)\n",
    "    ax.axhline(color=\"grey\", ls=\"--\", zorder=-1)\n",
    "    ax.axvline(color=\"grey\", ls=\"--\", zorder=-1)\n",
    "    ax.set_xlim(a,b)\n",
    "    plt.show()"
   ]
  },
  {
   "cell_type": "code",
   "execution_count": 7,
   "metadata": {},
   "outputs": [],
   "source": [
    "def f(x):\n",
    "    \"\"\"функція лівої частини рівняння (1)\"\"\"\n",
    "    return np.sin(x*x-2*x)"
   ]
  },
  {
   "cell_type": "code",
   "execution_count": 8,
   "metadata": {},
   "outputs": [],
   "source": [
    "def f_deriv(x):\n",
    "    \"\"\"похідна функції лівої частини рівняння (1)\"\"\"\n",
    "    return (2*x - 2)*np.cos(x*x-2*x)"
   ]
  },
  {
   "cell_type": "code",
   "execution_count": 9,
   "metadata": {},
   "outputs": [],
   "source": [
    "def rho(x):\n",
    "    \"\"\"функція \\rho в рівнянні (2)\"\"\"\n",
    "    return 1"
   ]
  },
  {
   "cell_type": "markdown",
   "metadata": {},
   "source": [
    ">#### Побудова графіку функції ``f``"
   ]
  },
  {
   "cell_type": "code",
   "execution_count": 10,
   "metadata": {},
   "outputs": [],
   "source": [
    "# задання відрізка\n",
    "a=-10\n",
    "b=10"
   ]
  },
  {
   "cell_type": "code",
   "execution_count": 11,
   "metadata": {},
   "outputs": [
    {
     "data": {
      "image/png": "[encoded data removed]",
      "text/plain": [
       "<Figure size 432x288 with 1 Axes>"
      ]
     },
     "metadata": {
      "needs_background": "light"
     },
     "output_type": "display_data"
    }
   ],
   "source": [
    "plot_graphics(f, a, b, 256)"
   ]
  },
  {
   "cell_type": "code",
   "execution_count": 12,
   "metadata": {
    "tags": []
   },
   "outputs": [],
   "source": [
    "plt.close('all')"
   ]
  },
  {
   "cell_type": "markdown",
   "metadata": {},
   "source": [
    ">#### Уточнення проміжку ``[a, b]``"
   ]
  },
  {
   "cell_type": "code",
   "execution_count": 13,
   "metadata": {},
   "outputs": [],
   "source": [
    "# задання відрізка\n",
    "a=2.9\n",
    "b=3.1"
   ]
  },
  {
   "cell_type": "code",
   "execution_count": 14,
   "metadata": {},
   "outputs": [
    {
     "data": {
      "image/png": "[encoded data removed]",
      "text/plain": [
       "<Figure size 432x288 with 1 Axes>"
      ]
     },
     "metadata": {
      "needs_background": "light"
     },
     "output_type": "display_data"
    }
   ],
   "source": [
    "plot_graphics(f, a, b, 256)"
   ]
  },
  {
   "cell_type": "code",
   "execution_count": 15,
   "metadata": {
    "tags": []
   },
   "outputs": [],
   "source": [
    "plt.close('all')"
   ]
  },
  {
   "cell_type": "code",
   "execution_count": 16,
   "metadata": {},
   "outputs": [
    {
     "name": "stdout",
     "output_type": "stream",
     "text": [
      "корінь рівняння x=3.0350903305724577 з точністю eps=1e-05 за k=5 ітерацій\n"
     ]
    }
   ],
   "source": [
    "#знаходження наближення кореня\n",
    "eps=0.00001\n",
    "x0=a\n",
    "x1=b\n",
    "x, k =secant_iteration(f, a, b,x0, x1, eps)\n",
    "print(f\"корінь рівняння x={x} з точністю eps={eps} за k={k} ітерацій\")"
   ]
  },
  {
   "cell_type": "code",
   "execution_count": 17,
   "metadata": {},
   "outputs": [
    {
     "name": "stdout",
     "output_type": "stream",
     "text": [
      "корінь рівняння x=3.0350903305725274 з точністю eps=1e-05 за k=3 ітерацій\n"
     ]
    }
   ],
   "source": [
    "#знаходження наближення кореня\n",
    "eps=0.00001\n",
    "x0=3\n",
    "x, k =Newton_iteration(f, f_deriv, a, b,x0, eps)\n",
    "print(f\"корінь рівняння x={x} з точністю eps={eps} за k={k} ітерацій\")"
   ]
  },
  {
   "cell_type": "code",
   "execution_count": 18,
   "metadata": {},
   "outputs": [
    {
     "name": "stdout",
     "output_type": "stream",
     "text": [
      "корінь рівняння x=3.035089257932675 з точністю eps=1e-05 за k=62072 ітерацій\n"
     ]
    }
   ],
   "source": [
    "#знаходження наближення кореня\n",
    "eps=0.00001\n",
    "x0=3\n",
    "x, k =simple_iteration(f, rho, a, b,x0, eps)\n",
    "print(f\"корінь рівняння x={x} з точністю eps={eps} за k={k} ітерацій\")"
   ]
  },
  {
   "cell_type": "code",
   "execution_count": 19,
   "metadata": {},
   "outputs": [
    {
     "name": "stdout",
     "output_type": "stream",
     "text": [
      "корінь рівняння x=3.0350921630859373 з точністю eps=1e-05 за k=16 ітерацій\n"
     ]
    }
   ],
   "source": [
    "#знаходження наближення кореня\n",
    "eps=0.00001\n",
    "x, k =bisection(f, a, b, eps)\n",
    "print(f\"корінь рівняння x={x} з точністю eps={eps} за k={k} ітерацій\")"
   ]
  },
  {
   "cell_type": "code",
   "execution_count": null,
   "metadata": {},
   "outputs": [],
   "source": []
  }
 ],
 "metadata": {
  "kernelspec": {
   "display_name": "Python 3 (ipykernel)",
   "language": "python",
   "name": "python3"
  },
  "language_info": {
   "codemirror_mode": {
    "name": "ipython",
    "version": 3
   },
   "file_extension": ".py",
   "mimetype": "text/x-python",
   "name": "python",
   "nbconvert_exporter": "python",
   "pygments_lexer": "ipython3",
   "version": "3.9.7"
  }
 },
 "nbformat": 4,
 "nbformat_minor": 4
}
