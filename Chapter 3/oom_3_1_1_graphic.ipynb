{
 "cells": [
  {
   "cell_type": "markdown",
   "metadata": {
    "tags": []
   },
   "source": [
    "# 3. Розв'язування нелінійних рівнянь: Лабораторний практикум\n",
    "------------"
   ]
  },
  {
   "cell_type": "markdown",
   "metadata": {},
   "source": [
    "Нехай маємо рівняння\n",
    "\n",
    "$(1)\\qquad\\qquad\\qquad\n",
    "f(x)=0, \\quad x\\in [a,b],$\n",
    "\n",
    "де $f:[a,b]\\to \\mathbb{R}$ -- неперервна на $[a,b]$ функція.\n",
    "\n",
    "*Чисельне розв'язування* такого рівняння cкладається з двох етапів:\n",
    "\n",
    "1. локалізація коренів, тобто пошук числових проміжків, на яких є тільки один корінь цього рівняння;\n",
    "2. обчислення коренів з наперед заданою точністю на кожному з виділених проміжків."
   ]
  },
  {
   "cell_type": "markdown",
   "metadata": {
    "tags": []
   },
   "source": [
    "### 3.1.1.2 Виконання локалізації розв'язків рівняння графічним методом\n",
    "-------\n",
    "Побудову графіка функції ``f`` виконуватимемо за допомогою функції ``plot_graphics``, яка реалізована на основі бібліотеки ``matplotlib``. \n",
    "Найпростіше це робити в інтерактивному режимі, який встановлють командою ``%matplotlib widget``. \n",
    "У цьому випадку після виконання функції ``plot_graphics``, яка побудує потрібний графік на графічній панелі, треба виконати такі дії:\n",
    " 1. активізувати режим ``Zoom to rectangle`` за допомогою іконки меню на графічній панелі (яка містить зображення прямокутника)\n",
    " 2. на графічній панелі визначити мишкою якомога меншу за розмірами прямокутну область, яка містить точку перетину графіка функції з віссю абсцис. \n",
    "\n",
    "Виконання пункту 2 автоматично приведе до відображення визначеної прямокутної області на всю графічну панель, що дає змогу локалізувати нуль функції на відрізку ``[a, b]`` меншої довжини. Виконуючи цей пункт кілька разів, можна досягти локалізації нуля на відрізку потрібної довжини. Зазначимо, що таке масштабування графіка відбуватиметься на тій самій графічній панелі.\n",
    "\n",
    "Якщо режим ``widget`` не встановлено, то  функцію ``plot_graphics``  виконують кілька разів, послідовно уточнюючи координати відрізка ``[a, b]``, поки не локалізують розв'язок з потрібною точністю."
   ]
  },
  {
   "cell_type": "markdown",
   "metadata": {
    "tags": []
   },
   "source": [
    "#### Пояснення до використання програмного коду\n",
    "-----------------\n",
    "*   Підготувати потрібні функції : \n",
    "    1.   виконати комірку, де виконується підготовка середовища (в JupyterLab  розкоментувати рядок з ``%matplotlib widget``, щоб мати змогу масштабувати графік при локалізації у п.4 )\n",
    "    2.   виконати комірку з визначенням функції ``plot_graphics``\n",
    "    3.   виконати комірку з визначенням функції ``f`` \n",
    "         (цю комірку виконувати кожного разу після внесення змін у визначення функції ``f`` )  \n",
    "\n",
    "*    Локалізувати потрібний розв'язок рівняння :\n",
    "     1.   виконати комірку, в якій задається відрізок ``[a, b]``\n",
    "     2.   виконати комірку з викликом функції ``plot_graphics`` для побудови графіка\n",
    "     3.   уточнити (звузити) відрізок ``[a, b]``, щоб на ньому знаходився лише один розв'язок рівняння\n",
    "     4.   якщо в обчислювальному середовищі доступний інтерактивний режим (наприклад, в JupyterLab), то активізувати ``Zoom to rectangle`` ( вибрати  в меню на графічній панелі іконку з прямокутником) і виділити мишкою прямокутну область з потрібним фрагментом графіка \n",
    "     5.   пункти 1 - 3 можна повторити для точнішої локалізації потрібного кореня"
   ]
  },
  {
   "cell_type": "markdown",
   "metadata": {
    "tags": []
   },
   "source": [
    "#### Програмна реалізація графічного методу\n",
    "------------"
   ]
  },
  {
   "cell_type": "markdown",
   "metadata": {},
   "source": [
    ">#### Підготовка середовища"
   ]
  },
  {
   "cell_type": "code",
   "execution_count": 1,
   "metadata": {
    "tags": []
   },
   "outputs": [],
   "source": [
    "# при виконанні в JupyterLab наступний рядок має бути розкоментований\n",
    "%matplotlib widget\n",
    "\n",
    "import numpy as np\n",
    "import matplotlib.pyplot as plt"
   ]
  },
  {
   "cell_type": "code",
   "execution_count": 2,
   "metadata": {},
   "outputs": [],
   "source": [
    "def plot_graphics(f, a, b, n):\n",
    "    \"\"\"фуункція для побудови графіка функції f \n",
    "       на відрізку [a,b] за значеннями в n точках \n",
    "    \"\"\"\n",
    "    xarr = np.linspace(a, b, n) \n",
    "    y=f(xarr) \n",
    "    fig = plt.figure()\n",
    "    ax = fig.gca()\n",
    "    ax.plot(xarr,y)\n",
    "    ax.axhline(color=\"grey\", ls=\"--\", zorder=-1)\n",
    "    ax.axvline(color=\"grey\", ls=\"--\", zorder=-1)\n",
    "    ax.set_xlim(a,b)\n",
    "    plt.show()"
   ]
  },
  {
   "cell_type": "markdown",
   "metadata": {
    "tags": []
   },
   "source": [
    "#### Обчислювальні експерименти\n",
    "------------"
   ]
  },
  {
   "cell_type": "markdown",
   "metadata": {
    "tags": []
   },
   "source": [
    "Локалізацію розв'язків рівняння продемонструємо на прикладах."
   ]
  },
  {
   "cell_type": "markdown",
   "metadata": {},
   "source": [
    "**Приклад 1.** Локалізувати другий додатній розв'язок рівняння (1), якщо $f(x)=sin(x^2-2x)$."
   ]
  },
  {
   "cell_type": "markdown",
   "metadata": {
    "tags": []
   },
   "source": [
    "Задамо значення аргументів функції ``plot_graphics``, а саме  функцію, яка визначає ліву частину рівняння (1):"
   ]
  },
  {
   "cell_type": "code",
   "execution_count": 3,
   "metadata": {
    "tags": []
   },
   "outputs": [],
   "source": [
    "def f(x):\n",
    "    \"\"\"функція лівої частини рівняння (1)\"\"\"\n",
    "    return np.sin(x*x-2*x)"
   ]
  },
  {
   "cell_type": "markdown",
   "metadata": {},
   "source": [
    "а також кінці відрізка, на якому розглядаємо це рівняння"
   ]
  },
  {
   "cell_type": "code",
   "execution_count": 4,
   "metadata": {},
   "outputs": [],
   "source": [
    "a=0\n",
    "b=10"
   ]
  },
  {
   "cell_type": "markdown",
   "metadata": {
    "tags": []
   },
   "source": [
    "Після виконання комірки, де є виклик функції ``plot_graphics``, отримаємо графічну панель з графіком функції:"
   ]
  },
  {
   "cell_type": "code",
   "execution_count": 16,
   "metadata": {},
   "outputs": [
    {
     "data": {
      "application/vnd.jupyter.widget-view+json": {
       "model_id": "591badecb3814ca98a8e34ee69c8bb14",
       "version_major": 2,
       "version_minor": 0
      },
      "text/plain": [
       "Canvas(toolbar=Toolbar(toolitems=[('Home', 'Reset original view', 'home', 'home'), ('Back', 'Back to previous …"
      ]
     },
     "metadata": {},
     "output_type": "display_data"
    }
   ],
   "source": [
    "plot_graphics(f, a, b, 256)"
   ]
  },
  {
   "cell_type": "markdown",
   "metadata": {},
   "source": [
    "В інтерактивному режимі на графічній панелі використовуємо в меню іконку ``Zoom to rectangle`` і кілька разів звужуємо відрізок, на якому автоматично перемальовуватиметься графік. Причому буде використовуватися та сама графічна панель.\n",
    "\n",
    "Без використання автоматичного масштабування можна кілька разів явно задати нові значення кінців відрізка і повторно будувати графік: "
   ]
  },
  {
   "cell_type": "code",
   "execution_count": 18,
   "metadata": {},
   "outputs": [],
   "source": [
    "# задання оновленого відрізка\n",
    "a=2.8\n",
    "b=3.2"
   ]
  },
  {
   "cell_type": "code",
   "execution_count": 19,
   "metadata": {},
   "outputs": [
    {
     "data": {
      "application/vnd.jupyter.widget-view+json": {
       "model_id": "aabcf3c873b640c0a844cadc0c620a80",
       "version_major": 2,
       "version_minor": 0
      },
      "text/plain": [
       "Canvas(toolbar=Toolbar(toolitems=[('Home', 'Reset original view', 'home', 'home'), ('Back', 'Back to previous …"
      ]
     },
     "metadata": {},
     "output_type": "display_data"
    }
   ],
   "source": [
    "plot_graphics(f, a, b, 256)"
   ]
  },
  {
   "cell_type": "code",
   "execution_count": 20,
   "metadata": {},
   "outputs": [],
   "source": [
    "# задання оновленого відрізка\n",
    "a=3.0\n",
    "b=3.05"
   ]
  },
  {
   "cell_type": "code",
   "execution_count": 21,
   "metadata": {},
   "outputs": [
    {
     "data": {
      "application/vnd.jupyter.widget-view+json": {
       "model_id": "c89ca7a5bf344f85b15045d6c4faf652",
       "version_major": 2,
       "version_minor": 0
      },
      "text/plain": [
       "Canvas(toolbar=Toolbar(toolitems=[('Home', 'Reset original view', 'home', 'home'), ('Back', 'Back to previous …"
      ]
     },
     "metadata": {},
     "output_type": "display_data"
    }
   ],
   "source": [
    "plot_graphics(f, a, b, 256)"
   ]
  },
  {
   "cell_type": "code",
   "execution_count": 22,
   "metadata": {},
   "outputs": [],
   "source": [
    "# задання оновленого відрізка\n",
    "a=3.03\n",
    "b=3.04"
   ]
  },
  {
   "cell_type": "code",
   "execution_count": 23,
   "metadata": {},
   "outputs": [
    {
     "data": {
      "application/vnd.jupyter.widget-view+json": {
       "model_id": "acfac4b9546c4a21a9e42fe7bde112ed",
       "version_major": 2,
       "version_minor": 0
      },
      "text/plain": [
       "Canvas(toolbar=Toolbar(toolitems=[('Home', 'Reset original view', 'home', 'home'), ('Back', 'Back to previous …"
      ]
     },
     "metadata": {},
     "output_type": "display_data"
    }
   ],
   "source": [
    "plot_graphics(f, a, b, 256)"
   ]
  },
  {
   "cell_type": "markdown",
   "metadata": {},
   "source": [
    "Зауважимо, що на кожному кроці побудова графіка виконувалася з нової комірки на новій графічній панелі. Такий прийом може виявитися зручним для порівняння графіків, отриманих з різним масштабом."
   ]
  },
  {
   "cell_type": "markdown",
   "metadata": {
    "tags": []
   },
   "source": [
    "**Висновок.** Другий додатній розв'язок рівняння знаходиться на відрізку [3.034, 3.036]."
   ]
  },
  {
   "cell_type": "markdown",
   "metadata": {
    "tags": []
   },
   "source": [
    "**Приклад 2.** Локалізувати другий додатній розв'язок рівняння (1), якщо $f(x)=cos(x^2-2x)$."
   ]
  },
  {
   "cell_type": "markdown",
   "metadata": {
    "tags": []
   },
   "source": [
    "Відмінність від попереднього прикладу є лише у визначенні функції. Зазначимо, що для зручності для неї використано інший ідентифікатор ``fcs``:"
   ]
  },
  {
   "cell_type": "code",
   "execution_count": 12,
   "metadata": {
    "tags": []
   },
   "outputs": [],
   "source": [
    "def fcs(x):\n",
    "    \"\"\"функція лівої частини рівняння (1)\"\"\"\n",
    "    return np.cos(x*x-2*x)"
   ]
  },
  {
   "cell_type": "code",
   "execution_count": 24,
   "metadata": {},
   "outputs": [],
   "source": [
    "a=0\n",
    "b=10"
   ]
  },
  {
   "cell_type": "code",
   "execution_count": 25,
   "metadata": {
    "tags": []
   },
   "outputs": [
    {
     "data": {
      "application/vnd.jupyter.widget-view+json": {
       "model_id": "d872d11f24c847c6a80310790b3e7849",
       "version_major": 2,
       "version_minor": 0
      },
      "text/plain": [
       "Canvas(toolbar=Toolbar(toolitems=[('Home', 'Reset original view', 'home', 'home'), ('Back', 'Back to previous …"
      ]
     },
     "metadata": {},
     "output_type": "display_data"
    }
   ],
   "source": [
    "plot_graphics(fcs, a, b, 256)"
   ]
  },
  {
   "cell_type": "markdown",
   "metadata": {},
   "source": [
    "Локалізацію потрібного розв'язку можна виконати одним з двох підходів, розглянутих у попередньому прикладі."
   ]
  },
  {
   "cell_type": "markdown",
   "metadata": {},
   "source": [
    "**Висновок.** Другий додатній розв'язок рівняння знаходиться на відрізку [3.389, 3.390]."
   ]
  },
  {
   "cell_type": "code",
   "execution_count": 15,
   "metadata": {},
   "outputs": [],
   "source": [
    "plt.close('all')"
   ]
  }
 ],
 "metadata": {
  "kernelspec": {
   "display_name": "Python 3 (ipykernel)",
   "language": "python",
   "name": "python3"
  },
  "language_info": {
   "codemirror_mode": {
    "name": "ipython",
    "version": 3
   },
   "file_extension": ".py",
   "mimetype": "text/x-python",
   "name": "python",
   "nbconvert_exporter": "python",
   "pygments_lexer": "ipython3",
   "version": "3.9.7"
  }
 },
 "nbformat": 4,
 "nbformat_minor": 4
}
