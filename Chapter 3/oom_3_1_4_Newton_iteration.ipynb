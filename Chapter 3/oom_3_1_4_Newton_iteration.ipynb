{
 "cells": [
  {
   "cell_type": "markdown",
   "metadata": {},
   "source": [
    "# 3. Розв'язування нелінійних рівнянь\n",
    "------------"
   ]
  },
  {
   "cell_type": "markdown",
   "metadata": {},
   "source": [
    "Нехай маємо рівняння\n",
    "\n",
    "$(1)\\qquad\\qquad\\qquad\n",
    "f(x)=0, \\quad x\\in [a,b],$\n",
    "\n",
    "де $f:[a,b]\\to \\mathbb{R}$ -- неперервна на $[a,b]$ функція.\n"
   ]
  },
  {
   "cell_type": "markdown",
   "metadata": {
    "tags": []
   },
   "source": [
    "### 3.1.4. Метод Ньютона\n",
    "--------------\n",
    "Нехай рівняння (1) \n",
    "має і тільки один розв'язок $x_*$ на відрізку $[a,b]$ і $f(a)\\cdot f(b)<0$. \n",
    "\n",
    "Вважаємо, що $f\\in C^{1} ([a,b])$, $f'(x)\\ne 0$ для всіх $x\\in [a,b]$."
   ]
  },
  {
   "cell_type": "markdown",
   "metadata": {
    "tags": []
   },
   "source": [
    "Метод Ньютона визначається так:\n",
    "\n",
    "* задаємо початкове значення $x_0\\in [a,b]$ і\n",
    "\n",
    "* знаходимо послідовні наближення $x_1, x_2, x_3, \\ldots$ розв'язку рівняння (1) за формулою\n",
    "\n",
    "$(2)\\qquad\\qquad\\qquad x_{n+1} = x_n- \\frac{f(x_n)}{f'(x_n)}, \\quad n=0,1,2, \\dots\\,.$\n",
    "\n",
    " Для того, щоби цей метод був коректним, необхідне виконання умови:\n",
    "$x_n\\in [a,b]$ для кожного $n\\in \\mathbb{N}.$\n",
    "\n",
    "**Теорема.** Нехай  $f(a)f(b)<0$, функції $f', f''$ неперервні і відмінні від нуля на $[a,b]$ або, що те саме,\n",
    " зберігають знак на $[a,b]$.\n",
    "Тоді рівняння  (1) має і тільки один розв'язок $x_\\ast$ та, якщо початкове\n",
    "$x_0 \\in [a,b]$ задовольняє умову\n",
    "\n",
    "$(3)\\qquad\\qquad\\qquad f(x_0)f''(x_0)>0,$\n",
    "\n",
    "то послідовність $\\{x_n\\}$, отримана методом Ньютона, збігається до розв'язку $x_\\ast$.\n",
    "\n",
    "Крім того, для довільного $n\\in \\mathbb{N}$ маємо оцінку  відхилення $x_n$ від $x_\\ast$:\n",
    "\n",
    "$(4)\\qquad\\qquad\\qquad \n",
    "|x_n-x_\\ast|\\leqslant \\frac{M_2}{2m_1}|x_n-x_{n-1}|^2,$\n",
    "\n",
    "де \n",
    "\n",
    "$(5)\\qquad\\qquad\\qquad M_2:=\\max\\limits_{x\\in [a,b]}|f''(x)|, \\quad m_1:=\\min\\limits_{x\\in [a,b]}|f'(x)|$."
   ]
  },
  {
   "cell_type": "markdown",
   "metadata": {
    "tags": []
   },
   "source": [
    "#### Пояснення до використання програмного коду\n",
    "-----------------\n",
    "*   Підготувати середовище і потрібні функції : \n",
    "    1. виконати комірку для підготовки середовища\n",
    "    2. виконати комірку, де **визначена** функція ``Newton_iteration`` \n",
    "    3. виконати комірку, де **визначена** функція ``plot_graphics``\n",
    "    4. виконати комірку, де **визначені** функції ``f`` і ``f_deriv``\n",
    "    \n",
    "*   Локалізувати (графічно) розв'язок рівняння (1)\n",
    "     1. виконати комірку, в якій задається відрізок ``[a, b]``\n",
    "    2. виконати комірку, в якій будується графік; якщо ініціалізовано інтерактивний режим, то за допомогою масштабування графіку уточнити (звузити) відрізок ``[a, b]``, щоб на ньому знаходився лише один розв'язок рівняння, інакше - виконувати наступні пункти\n",
    "    3. виконати комірку, в якій задається звужений відрізок ``[a, b]``\n",
    "    4. виконати комірку, в якій будується графік на звуженому відрізку ``[a, b]``\n",
    "    5. пункти 3 і 4 можна послідовно повторювати для точнішої локалізації потрібного розв'язку\n",
    "    \n",
    "*   Обчислити наближення локалізованого розв'язку\n",
    "    1. задати точність ``eps`` чисельного розв'язку і початкове наближення ``x0``\n",
    "    2. виконати комірку, де є **виклик** функції ``Newton_iteration``\n",
    "    3. для знаходження іншого корення виконати дії пунктів локалізації"
   ]
  },
  {
   "cell_type": "markdown",
   "metadata": {
    "tags": []
   },
   "source": [
    "#### Програмна реалізація методу\n",
    "------------"
   ]
  },
  {
   "cell_type": "markdown",
   "metadata": {
    "tags": []
   },
   "source": [
    ">#### Підготовка середовища"
   ]
  },
  {
   "cell_type": "code",
   "execution_count": 1,
   "metadata": {},
   "outputs": [],
   "source": [
    "# при виконанні в JupyterLab наступний рядок розкоментувати\n",
    "#%matplotlib widget\n",
    "\n",
    "import numpy as np\n",
    "import matplotlib.pyplot as plt"
   ]
  },
  {
   "cell_type": "markdown",
   "metadata": {},
   "source": [
    ">#### ``Newton_iteration`` -- функція, яка реалізує метод Ньютона "
   ]
  },
  {
   "cell_type": "code",
   "execution_count": 2,
   "metadata": {
    "colab": {
     "base_uri": "https://localhost:8080/"
    },
    "executionInfo": {
     "elapsed": 338,
     "status": "ok",
     "timestamp": 1629912431271,
     "user": {
      "displayName": "Anatoliy Muzychuk",
      "photoUrl": "",
      "userId": "02436432047169316818"
     },
     "user_tz": -180
    },
    "id": "c6TrJDY0PQGz",
    "outputId": "e915a7a1-5b99-4c21-a2fd-2cb036410d10"
   },
   "outputs": [],
   "source": [
    "def Newton_iteration(f,f_deriv, a, b, x0, eps):\n",
    "    \"\"\" знаходження методом Ньютона чисельного розв'язку рівняння (1), \n",
    "        де f -- непервна функція на відрізку [a, b],  \n",
    "        f_deriv -- похідна функція на відрізку [a, b]\n",
    "        x0 -- початкове наближення\n",
    "        eps -- задана точність\n",
    "    \"\"\"   \n",
    "    x_prev=x0\n",
    "    k=1\n",
    "    x_new = x_prev - f(x_prev)/f_deriv(x_prev)\n",
    "    if np.abs(x_new-x_prev)<eps:\n",
    "        return x_new,k\n",
    "    while np.abs(x_new-x_prev) > eps:\n",
    "        k+=1\n",
    "        x_prev = x_new\n",
    "        x_new = x_prev - f(x_prev)/f_deriv(x_prev)       \n",
    "    return x_new,k"
   ]
  },
  {
   "cell_type": "markdown",
   "metadata": {},
   "source": [
    ">#### ``plot_graphics`` -- функція для побудови графіка функції ``f`` на відрізку ``[a,b]`` за значеннями в ``n`` точках "
   ]
  },
  {
   "cell_type": "code",
   "execution_count": 3,
   "metadata": {},
   "outputs": [],
   "source": [
    "def plot_graphics(f, a, b, n):\n",
    "    \"\"\"фуункція для побудови графіка функції f \n",
    "       на відрізку [a,b] за значеннями в n точках \n",
    "    \"\"\"\n",
    "    xarr = np.linspace(a, b, n)    \n",
    "    y=f(xarr) \n",
    "    fig = plt.figure()\n",
    "    ax = fig.gca()\n",
    "    ax.plot(xarr,y)\n",
    "    ax.axhline(color=\"grey\", ls=\"--\", zorder=-1)\n",
    "    ax.axvline(color=\"grey\", ls=\"--\", zorder=-1)\n",
    "    ax.set_xlim(a,b)\n",
    "    plt.show()"
   ]
  },
  {
   "cell_type": "markdown",
   "metadata": {
    "tags": []
   },
   "source": [
    "#### Обчислювальні експерименти\n",
    "------------"
   ]
  },
  {
   "cell_type": "markdown",
   "metadata": {
    "tags": []
   },
   "source": [
    "Знаходження чисельних розв'язків методом Ньютона продемонструємо на прикладах."
   ]
  },
  {
   "cell_type": "markdown",
   "metadata": {
    "tags": []
   },
   "source": [
    "**Приклад 1.** Нехай у рівнянні (1) $f(x)=sin(x^2-2x)$. Обчислити методом Ньютона другий додатній розв'язок цього рівняння з точністю $eps=10^{-5}$."
   ]
  },
  {
   "cell_type": "markdown",
   "metadata": {
    "tags": []
   },
   "source": [
    "Легко переконатися, що першими додатніми розв'язками є $x_1=2.0$, а також $x_2 = 1+np.sqrt(1+np.pi)$ і $x_3 = 1+np.sqrt(1+2*np.pi)$. Виконуючи обчислення, отримаємо $x_2 = 3.035090330572526$ і $x_3 = 3.698737724785346$ з точністю $10^{-15}$. Далі називатимемо їх аналітичними розв'язками і збережемо їх значення для подальшого аналізу похибок чисельних розв'язків:"
   ]
  },
  {
   "cell_type": "code",
   "execution_count": 50,
   "metadata": {},
   "outputs": [],
   "source": [
    "x_1 = 2.0 \n",
    "x_2 = 3.035090330572526 \n",
    "x_3 = 3.698737724785346"
   ]
  },
  {
   "cell_type": "markdown",
   "metadata": {
    "tags": []
   },
   "source": [
    ">#### ``f`` і ``f_deriv`` -- функція лівої частини рівняння (1) та її похідна"
   ]
  },
  {
   "cell_type": "code",
   "execution_count": 5,
   "metadata": {},
   "outputs": [],
   "source": [
    "def f(x):\n",
    "    \"\"\"функція лівої частини рівняння (1)\"\"\"\n",
    "    return np.sin(x*x-2*x)\n",
    "\n",
    "def f_deriv(x):\n",
    "    \"\"\"похідна функції лівої частини рівняння (1)\"\"\"\n",
    "    return (2*x - 2)*np.cos(x*x-2*x)"
   ]
  },
  {
   "cell_type": "code",
   "execution_count": 6,
   "metadata": {},
   "outputs": [],
   "source": [
    "# задання відрізка\n",
    "a=0\n",
    "b=10"
   ]
  },
  {
   "cell_type": "markdown",
   "metadata": {},
   "source": [
    ">#### Побудова графіку функції ``f``"
   ]
  },
  {
   "cell_type": "code",
   "execution_count": 7,
   "metadata": {},
   "outputs": [
    {
     "data": {
      "image/png": "[encoded data removed]",
      "text/plain": [
       "<Figure size 432x288 with 1 Axes>"
      ]
     },
     "metadata": {
      "needs_background": "light"
     },
     "output_type": "display_data"
    }
   ],
   "source": [
    "plot_graphics(f, a, b, 256)"
   ]
  },
  {
   "cell_type": "markdown",
   "metadata": {},
   "source": [
    ">#### Уточнення проміжку ``[a, b]``"
   ]
  },
  {
   "cell_type": "code",
   "execution_count": 8,
   "metadata": {},
   "outputs": [],
   "source": [
    "# задання відрізка\n",
    "a=2.8\n",
    "b=3.2"
   ]
  },
  {
   "cell_type": "code",
   "execution_count": 9,
   "metadata": {},
   "outputs": [
    {
     "data": {
      "image/png": "[encoded data removed]",
      "text/plain": [
       "<Figure size 432x288 with 1 Axes>"
      ]
     },
     "metadata": {
      "needs_background": "light"
     },
     "output_type": "display_data"
    }
   ],
   "source": [
    "plot_graphics(f, a, b, 256)"
   ]
  },
  {
   "cell_type": "markdown",
   "metadata": {},
   "source": [
    "Виконуючи наступні комірки, можна переконатися, що навіть при достатньо грубому початковому наближенні абсолютна та відноста похибки чисельного розв'язку швидко заникають при збільшенні кількості ітерацій:"
   ]
  },
  {
   "cell_type": "code",
   "execution_count": 25,
   "metadata": {},
   "outputs": [
    {
     "name": "stdout",
     "output_type": "stream",
     "text": [
      "Розв'язок рівняння x=3.0350904029782013 з точністю eps=0.001 за k=2 ітерацій\n"
     ]
    }
   ],
   "source": [
    "#знаходження чисельного розв'язку\n",
    "eps=0.001\n",
    "x0=3.0\n",
    "x, k = Newton_iteration(f, f_deriv, a, b,x0, eps)\n",
    "print(f\"Розв'язок рівняння x={x} з точністю eps={eps} за k={k} ітерацій\")"
   ]
  },
  {
   "cell_type": "code",
   "execution_count": 26,
   "metadata": {},
   "outputs": [
    {
     "name": "stdout",
     "output_type": "stream",
     "text": [
      "Відносна похибка чисельного розв'язку delta=2.3856184609700732e-08\n"
     ]
    }
   ],
   "source": [
    "print(f\"Відносна похибка чисельного розв'язку delta={np.abs(x_2-x)/x_2}\")"
   ]
  },
  {
   "cell_type": "code",
   "execution_count": 27,
   "metadata": {},
   "outputs": [
    {
     "name": "stdout",
     "output_type": "stream",
     "text": [
      "Розв'язок рівняння x=3.0350903305725274 з точністю eps=1e-05 за k=3 ітерацій\n"
     ]
    }
   ],
   "source": [
    "#знаходження чисельного розв'язку\n",
    "eps=0.00001\n",
    "x0=3.0\n",
    "x, k = Newton_iteration(f, f_deriv, a, b,x0, eps)\n",
    "print(f\"Розв'язок рівняння x={x} з точністю eps={eps} за k={k} ітерацій\")"
   ]
  },
  {
   "cell_type": "code",
   "execution_count": 28,
   "metadata": {},
   "outputs": [
    {
     "name": "stdout",
     "output_type": "stream",
     "text": [
      "Відносна похибка чисельного розв'язку delta=4.389548528853422e-16\n"
     ]
    }
   ],
   "source": [
    "print(f\"Відносна похибка чисельного розв'язку delta={np.abs(x_2-x)/x_2}\")"
   ]
  },
  {
   "cell_type": "code",
   "execution_count": 30,
   "metadata": {},
   "outputs": [
    {
     "name": "stdout",
     "output_type": "stream",
     "text": [
      "Розв'язок рівняння x=3.035090330572526 з точністю eps=1e-11 за k=4 ітерацій\n"
     ]
    }
   ],
   "source": [
    "#знаходження чисельного розв'язку\n",
    "eps = 0.00000000001\n",
    "x0 = 3.0\n",
    "x, k = Newton_iteration(f, f_deriv, a, b,x0, eps)\n",
    "print(f\"Розв'язок рівняння x={x} з точністю eps={eps} за k={k} ітерацій\")"
   ]
  },
  {
   "cell_type": "markdown",
   "metadata": {},
   "source": [
    "Як бачимо, вже за чотири ітерації абсолютна похибка чисельного розв'язку не перевищує $10^{-15}$.\n",
    "\n",
    "Виконання наступних комірок демонструє, що при точнішому початковому наближенні чисельний розв'язок співпадатиме з аналітичним уже на другій ітерації:"
   ]
  },
  {
   "cell_type": "code",
   "execution_count": 31,
   "metadata": {},
   "outputs": [
    {
     "name": "stdout",
     "output_type": "stream",
     "text": [
      "Розв'язок рівняння x=3.035090330572526 з точністю eps=1e-05 за k=2 ітерацій\n"
     ]
    }
   ],
   "source": [
    "#знаходження чисельного розв'язку\n",
    "eps=0.00001\n",
    "x0=3.035\n",
    "x, k = Newton_iteration(f, f_deriv, a, b,x0, eps)\n",
    "print(f\"Розв'язок рівняння x={x} з точністю eps={eps} за k={k} ітерацій\")"
   ]
  },
  {
   "cell_type": "code",
   "execution_count": 32,
   "metadata": {},
   "outputs": [
    {
     "name": "stdout",
     "output_type": "stream",
     "text": [
      "Розв'язок рівняння x=3.035090330572526 з точністю eps=1e-11 за k=3 ітерацій\n"
     ]
    }
   ],
   "source": [
    "#знаходження чисельного розв'язку\n",
    "eps=0.00000000001\n",
    "x0=3.035\n",
    "x, k = Newton_iteration(f, f_deriv, a, b,x0, eps)\n",
    "print(f\"Розв'язок рівняння x={x} з точністю eps={eps} за k={k} ітерацій\")"
   ]
  },
  {
   "cell_type": "code",
   "execution_count": 33,
   "metadata": {},
   "outputs": [
    {
     "name": "stdout",
     "output_type": "stream",
     "text": [
      "Розв'язок рівняння x=3.035090330572526 з точністю eps=1e-13 за k=3 ітерацій\n"
     ]
    }
   ],
   "source": [
    "#знаходження чисельного розв'язку\n",
    "eps=0.0000000000001\n",
    "x0=3.035\n",
    "x, k = Newton_iteration(f, f_deriv, a, b,x0, eps)\n",
    "print(f\"Розв'язок рівняння x={x} з точністю eps={eps} за k={k} ітерацій\")"
   ]
  },
  {
   "cell_type": "markdown",
   "metadata": {},
   "source": [
    "Разом з тим, через грубе задання початкового наближення чисельний розв'язок за методом Ньютона може співпасти з іншими аналітичними розв'язками, наприклад, при заданих у наступних комірках наближеннях матимемо співпадіння з $x_1$ та $x_3$: "
   ]
  },
  {
   "cell_type": "code",
   "execution_count": 51,
   "metadata": {},
   "outputs": [
    {
     "name": "stdout",
     "output_type": "stream",
     "text": [
      "Розв'язок рівняння x=2.0 з точністю eps=1e-07 за k=8 ітерацій\n"
     ]
    }
   ],
   "source": [
    "#знаходження чисельного розв'язку\n",
    "eps=0.0000001\n",
    "x0=2.5\n",
    "x, k = Newton_iteration(f, f_deriv, a, b,x0, eps)\n",
    "print(f\"Розв'язок рівняння x={x} з точністю eps={eps} за k={k} ітерацій\")"
   ]
  },
  {
   "cell_type": "code",
   "execution_count": 52,
   "metadata": {},
   "outputs": [
    {
     "name": "stdout",
     "output_type": "stream",
     "text": [
      "Розв'язок рівняння x=3.698737724785346 з точністю eps=1e-07 за k=5 ітерацій\n"
     ]
    }
   ],
   "source": [
    "#знаходження чисельного розв'язку\n",
    "eps=0.0000001\n",
    "x0=2.7\n",
    "x, k = Newton_iteration(f, f_deriv, a, b,x0, eps)\n",
    "print(f\"Розв'язок рівняння x={x} з точністю eps={eps} за k={k} ітерацій\")"
   ]
  },
  {
   "cell_type": "markdown",
   "metadata": {},
   "source": [
    "**Приклад 2.** Нехай у рівнянні (1) $f(x)=cos(x^2-2x)$. Обчислити методом Ньютона другий додатній розв'язок цього рівняння з точністю $eps=10^{-5}$."
   ]
  },
  {
   "cell_type": "markdown",
   "metadata": {
    "tags": []
   },
   "source": [
    "Легко переконатися, що $x_2 = 1+np.sqrt(1+3*np.pi/2) = 3.390060455382811$ і $x_3 = 1+np.sqrt(1+5*np.pi/2) = 3.975564086685831$ з точністю $10^{-15}$. Збережемо ці значення:"
   ]
  },
  {
   "cell_type": "code",
   "execution_count": 74,
   "metadata": {
    "tags": []
   },
   "outputs": [],
   "source": [
    "x_2 = 1+np.sqrt(1+3*np.pi/2)\n",
    "x_3 = 1+np.sqrt(1+5*np.pi/2)"
   ]
  },
  {
   "cell_type": "markdown",
   "metadata": {
    "tags": []
   },
   "source": [
    ">#### ``fcs`` -- функція лівої частини рівняння (1) "
   ]
  },
  {
   "cell_type": "code",
   "execution_count": 53,
   "metadata": {
    "tags": []
   },
   "outputs": [],
   "source": [
    "def fcs(x):\n",
    "    \"\"\"функція лівої частини рівняння (1)\"\"\"\n",
    "    return np.cos(x*x-2*x)\n",
    "\n",
    "def fcs_deriv(x):\n",
    "    \"\"\"похідна функції лівої частини рівняння (1)\"\"\"\n",
    "    return -(2*x - 2)*np.sin(x*x-2*x)"
   ]
  },
  {
   "cell_type": "markdown",
   "metadata": {
    "tags": []
   },
   "source": [
    ">#### Легко переконатися в аналогічний до попереднього прикладу спосіб, що шуканий розв'язок заданого рівняння знаходиться на відрізку ``[3.389, 3.390]``. "
   ]
  },
  {
   "cell_type": "markdown",
   "metadata": {
    "tags": []
   },
   "source": [
    "Послідовне виконання наступних комірок даватиме чисельний розв'язок рівняння (1) при відповідних значеннях параметра ``eps``:   "
   ]
  },
  {
   "cell_type": "code",
   "execution_count": 54,
   "metadata": {},
   "outputs": [],
   "source": [
    "# задання відрізка\n",
    "a=3.389\n",
    "b=3.390"
   ]
  },
  {
   "cell_type": "code",
   "execution_count": 61,
   "metadata": {},
   "outputs": [
    {
     "name": "stdout",
     "output_type": "stream",
     "text": [
      "Розв'язок рівняння x=3.3900604555586753 з точністю eps=0.001 за k=2 ітерацій\n"
     ]
    }
   ],
   "source": [
    "#знаходження чисельного розв'язку\n",
    "eps=0.001\n",
    "x0=3.38\n",
    "x, k = Newton_iteration(fcs, fcs_deriv, a, b,x0, eps)\n",
    "print(f\"Розв'язок рівняння x={x} з точністю eps={eps} за k={k} ітерацій\")"
   ]
  },
  {
   "cell_type": "code",
   "execution_count": 62,
   "metadata": {},
   "outputs": [
    {
     "name": "stdout",
     "output_type": "stream",
     "text": [
      "Відносна похибка чисельного розв'язку delta=5.1876423561323855e-11\n"
     ]
    }
   ],
   "source": [
    "print(f\"Відносна похибка чисельного розв'язку delta={np.abs(x_2-x)/x_2}\")"
   ]
  },
  {
   "cell_type": "code",
   "execution_count": 56,
   "metadata": {},
   "outputs": [
    {
     "name": "stdout",
     "output_type": "stream",
     "text": [
      "Розв'язок рівняння x=3.390060455382811 з точністю eps=1e-05 за k=3 ітерацій\n"
     ]
    }
   ],
   "source": [
    "#знаходження чисельного розв'язку\n",
    "eps=0.00001\n",
    "x0=3.38\n",
    "x, k = Newton_iteration(fcs, fcs_deriv, a, b,x0, eps)\n",
    "print(f\"Розв'язок рівняння x={x} з точністю eps={eps} за k={k} ітерацій\")"
   ]
  },
  {
   "cell_type": "code",
   "execution_count": 63,
   "metadata": {},
   "outputs": [
    {
     "name": "stdout",
     "output_type": "stream",
     "text": [
      "Розв'язок рівняння x=3.390060455382811 з точністю eps=1e-06 за k=3 ітерацій\n"
     ]
    }
   ],
   "source": [
    "#знаходження чисельного розв'язку\n",
    "eps = 0.000001\n",
    "x0 = 3.38\n",
    "x, k = Newton_iteration(fcs, fcs_deriv, a, b,x0, eps)\n",
    "print(f\"Розв'язок рівняння x={x} з точністю eps={eps} за k={k} ітерацій\")"
   ]
  },
  {
   "cell_type": "markdown",
   "metadata": {},
   "source": [
    "Як бачимо, при заданому початковому наближенні вже за три ітерації чисельний розв'язок співпалдає з аналітичним. Зазначимо, грубше початкове наближення вимагає більшу кількість ітерацій, або ж можемо отримати наближення іншого розв'язку: "
   ]
  },
  {
   "cell_type": "code",
   "execution_count": 67,
   "metadata": {},
   "outputs": [
    {
     "name": "stdout",
     "output_type": "stream",
     "text": [
      "Розв'язок рівняння x=3.3900604553828106 з точністю eps=1e-08 за k=5 ітерацій\n"
     ]
    }
   ],
   "source": [
    "#знаходження чисельного розв'язку\n",
    "eps = 0.00000001\n",
    "x0 = 3.2\n",
    "x, k = Newton_iteration(fcs, fcs_deriv, a, b,x0, eps)\n",
    "print(f\"Розв'язок рівняння x={x} з точністю eps={eps} за k={k} ітерацій\")"
   ]
  },
  {
   "cell_type": "code",
   "execution_count": 72,
   "metadata": {},
   "outputs": [
    {
     "name": "stdout",
     "output_type": "stream",
     "text": [
      "Розв'язок рівняння x=3.975564086685831 з точністю eps=1e-08 за k=4 ітерацій\n"
     ]
    }
   ],
   "source": [
    "#знаходження чисельного розв'язку\n",
    "eps = 0.00000001\n",
    "x0 = 3.1\n",
    "x, k = Newton_iteration(fcs, fcs_deriv, a, b,x0, eps)\n",
    "print(f\"Розв'язок рівняння x={x} з точністю eps={eps} за k={k} ітерацій\")"
   ]
  },
  {
   "cell_type": "code",
   "execution_count": 14,
   "metadata": {
    "tags": []
   },
   "outputs": [],
   "source": [
    "plt.close('all')"
   ]
  }
 ],
 "metadata": {
  "kernelspec": {
   "display_name": "Python 3 (ipykernel)",
   "language": "python",
   "name": "python3"
  },
  "language_info": {
   "codemirror_mode": {
    "name": "ipython",
    "version": 3
   },
   "file_extension": ".py",
   "mimetype": "text/x-python",
   "name": "python",
   "nbconvert_exporter": "python",
   "pygments_lexer": "ipython3",
   "version": "3.9.7"
  }
 },
 "nbformat": 4,
 "nbformat_minor": 4
}
