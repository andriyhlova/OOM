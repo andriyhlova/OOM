{
 "cells": [
  {
   "cell_type": "markdown",
   "metadata": {},
   "source": [
    "# 3. Розв'язування нелінійних рівнянь\n",
    "------------"
   ]
  },
  {
   "cell_type": "markdown",
   "metadata": {},
   "source": [
    "Нехай маємо рівняння\n",
    "\n",
    "$(1)\\qquad\\qquad\\qquad\n",
    "f(x)=0, \\quad x\\in [a,b],$\n",
    "\n",
    "де $f:[a,b]\\to \\mathbb{R}$ -- неперервна на $[a,b]$ функція.\n"
   ]
  },
  {
   "cell_type": "markdown",
   "metadata": {
    "tags": []
   },
   "source": [
    "### 3.1.2. Метод бісекції\n",
    "--------------\n",
    "Нехай рівняння (1) \n",
    "має і тільки один розв'язок на відрізку $[a,b]$, тобто маємо \n",
    "\n",
    "$(2)\\qquad\\qquad\\qquad f(a)f(b) < 0$.\n",
    "\n",
    "Ідея методу бісекції полягає у обчисленні послідовності $x_0, x_1, \\ldots ,x_n, \\ldots$ за формулою $x_n=(a+b)/2$ шляхом покрокового звуження проміжку $(a,b)$ за рахунок ділення його навпіл. На кожному кроці за новий проміжок $(a,b)$ беруть ту частину попереднього проміжку, де локалізований розв'язок, тобто виконується умова (2).\n",
    "Поділ виконують до тих пір, коли виконається умова \n",
    "\n",
    "$(3)\\qquad\\qquad\\qquad |b-a| < eps,$ \n",
    "\n",
    "де $eps$ -- задана величина (точність). \n",
    "\n",
    "Останнє з обчислених значень $x_n$ є наближенням розв'язку рівняння з точністю $eps$.\n",
    "\n",
    "Якщо для чергового значення $x_n$ виявится, що $f(x_n)=0$, то це значення беруть за розв'язок рівняння.  "
   ]
  },
  {
   "cell_type": "markdown",
   "metadata": {
    "tags": []
   },
   "source": [
    "#### Пояснення до використання програмного коду\n",
    "-----------------\n",
    "*   Підготувати середовище і потрібні функції : \n",
    "    1. виконати комірку для підготовки середовища\n",
    "    2. виконати комірку, де **визначена** функція ``bisection`` \n",
    "    3. виконати комірку, де **визначена** функція ``plot_graphics``\n",
    "    4. виконати комірку, де **визначена** функція ``f``\n",
    "    \n",
    "*   Локалізувати (графічно) розв'язок рівняння (1)\n",
    "    1. виконати комірку, в якій задається відрізок ``[a, b]``\n",
    "    2. виконати комірку, в якій будується графік; якщо ініціалізовано інтерактивний режим, то за допомогою масштабування графіку уточнити (звузити) відрізок ``[a, b]``, щоб на ньому знаходився лише один розв'язок рівняння, інакше - виконувати наступні пункти\n",
    "    3. виконати комірку, в якій задається звужений відрізок ``[a, b]``\n",
    "    4. виконати комірку, в якій будується графік на звуженому відрізку ``[a, b]``\n",
    "    5. пункти 3 і 4 можна послідовно повторювати для точнішої локалізації потрібного розв'язку\n",
    "    \n",
    "*   Обчислити наближення локалізованого розв'язку\n",
    "    1. задати точність ``eps`` наближеного розв'язку\n",
    "    2. виконати комірку, де є **виклик** функції ``bisection``\n",
    "    3. для знаходження іншого розв'язку виконати дії пунктів локалізації"
   ]
  },
  {
   "cell_type": "markdown",
   "metadata": {
    "tags": []
   },
   "source": [
    "#### Програмна реалізація методу\n",
    "------------"
   ]
  },
  {
   "cell_type": "markdown",
   "metadata": {},
   "source": [
    ">#### Підготовка середовища"
   ]
  },
  {
   "cell_type": "code",
   "execution_count": 1,
   "metadata": {},
   "outputs": [],
   "source": [
    "# при виконанні в JupyterLab наступний рядок розкоментувати\n",
    "#%matplotlib widget\n",
    "\n",
    "import numpy as np\n",
    "import matplotlib.pyplot as plt"
   ]
  },
  {
   "cell_type": "markdown",
   "metadata": {},
   "source": [
    ">#### ``bisection`` -- функція, яка реалізує метод бісекції "
   ]
  },
  {
   "cell_type": "code",
   "execution_count": 2,
   "metadata": {
    "colab": {
     "base_uri": "https://localhost:8080/"
    },
    "executionInfo": {
     "elapsed": 338,
     "status": "ok",
     "timestamp": 1629912431271,
     "user": {
      "displayName": "Anatoliy Muzychuk",
      "photoUrl": "",
      "userId": "02436432047169316818"
     },
     "user_tz": -180
    },
    "id": "c6TrJDY0PQGz",
    "outputId": "e915a7a1-5b99-4c21-a2fd-2cb036410d10"
   },
   "outputs": [],
   "source": [
    "def bisection(f,a,b,eps):\n",
    "    \"\"\" знаходження методом бісекції наближеного кореня рівняння (1), \n",
    "        де f -- непервна на відрізку [a,b] функція, \n",
    "        на цьому відрізку рівняння має і тільки один розв'язок, \n",
    "        eps -- задана точність\n",
    "    \"\"\"\n",
    "    k = 0\n",
    "    ba = np.abs(b-a)\n",
    "    if ba < eps:\n",
    "        return (a+b)/2, k+1\n",
    "    while ba > eps:\n",
    "        fa = f(a)\n",
    "        k += 1\n",
    "        x = (a+b)/2\n",
    "        fx = f(x)\n",
    "        if fx==0 :\n",
    "            return x, k\n",
    "        if fa*fx < 0:\n",
    "            b = x\n",
    "        else:\n",
    "            a = x\n",
    "        ba = np.abs(b-a)\n",
    "    return (a+b)/2, k+1"
   ]
  },
  {
   "cell_type": "markdown",
   "metadata": {
    "tags": []
   },
   "source": [
    ">#### ``plot_graphics`` -- функція для побудови графіка функції ``f`` на відрізку ``[a,b]`` за значеннями в ``n`` точках "
   ]
  },
  {
   "cell_type": "code",
   "execution_count": 3,
   "metadata": {},
   "outputs": [],
   "source": [
    "def plot_graphics(f, a, b, n):\n",
    "    \"\"\"фуункція для побудови графіка функції f \n",
    "       на відрізку [a,b] за значеннями в n точках \n",
    "    \"\"\"\n",
    "    xarr = np.linspace(a, b, n)    \n",
    "    y=f(xarr) \n",
    "    fig = plt.figure()\n",
    "    ax = fig.gca()\n",
    "    ax.plot(xarr,y)\n",
    "    ax.axhline(color=\"grey\", ls=\"--\", zorder=-1)\n",
    "    ax.axvline(color=\"grey\", ls=\"--\", zorder=-1)\n",
    "    ax.set_xlim(a,b)\n",
    "    plt.show()"
   ]
  },
  {
   "cell_type": "markdown",
   "metadata": {
    "tags": []
   },
   "source": [
    "#### Обчислювальні експерименти\n",
    "------------"
   ]
  },
  {
   "cell_type": "markdown",
   "metadata": {
    "tags": []
   },
   "source": [
    "Знаходження чисельних розв'язків методом бісекції продемонструємо на прикладах."
   ]
  },
  {
   "cell_type": "markdown",
   "metadata": {
    "tags": []
   },
   "source": [
    "**Приклад 1.** Нехай у рівнянні (1) $f(x)=sin(x^2-2x)$. Обчислити методом бісекції другий додатній розв'язок цього рівняння з точністю $eps=10^{-5}$."
   ]
  },
  {
   "cell_type": "markdown",
   "metadata": {
    "tags": []
   },
   "source": [
    "Легко переконатися, що першими додатніми розв'язками є $x_1=2.0$, а також $x_2 = 1+np.sqrt(1+np.pi)$ і $x_3 = 1+np.sqrt(1+2*np.pi)$. Виконуючи обчислення, отримаємо $x_2 = 3.035090330572526$ і $x_3 = 3.698737724785346$ з точністю $10^{-15}$. Далі називатимемо їх аналітичними розв'язками. Збережемо їхні значення для подальшого аналізу похибок чисельних розв'язків:"
   ]
  },
  {
   "cell_type": "code",
   "execution_count": 4,
   "metadata": {},
   "outputs": [],
   "source": [
    "x_1 = 2.0 \n",
    "x_2 = 3.035090330572526 \n",
    "x_3 = 3.698737724785346"
   ]
  },
  {
   "cell_type": "markdown",
   "metadata": {
    "tags": []
   },
   "source": [
    ">#### ``f`` -- функція лівої частини рівняння (1) "
   ]
  },
  {
   "cell_type": "code",
   "execution_count": 5,
   "metadata": {},
   "outputs": [],
   "source": [
    "def f(x):\n",
    "    \"\"\"функція лівої частини рівняння (1)\"\"\"\n",
    "    return np.sin(x*x-2*x)"
   ]
  },
  {
   "cell_type": "markdown",
   "metadata": {},
   "source": [
    ">#### Побудова графіку функції ``f``"
   ]
  },
  {
   "cell_type": "code",
   "execution_count": 6,
   "metadata": {},
   "outputs": [],
   "source": [
    "# задання відрізка\n",
    "a=0\n",
    "b=10"
   ]
  },
  {
   "cell_type": "code",
   "execution_count": 7,
   "metadata": {},
   "outputs": [
    {
     "data": {
      "image/png": "[encoded data removed]",
      "text/plain": [
       "<Figure size 432x288 with 1 Axes>"
      ]
     },
     "metadata": {
      "needs_background": "light"
     },
     "output_type": "display_data"
    }
   ],
   "source": [
    "plot_graphics(f, a, b, 256)"
   ]
  },
  {
   "cell_type": "markdown",
   "metadata": {},
   "source": [
    ">#### Уточнення проміжку ``[a, b]``"
   ]
  },
  {
   "cell_type": "code",
   "execution_count": 8,
   "metadata": {},
   "outputs": [],
   "source": [
    "# задання оновленого відрізка\n",
    "a=2.8\n",
    "b=3.2"
   ]
  },
  {
   "cell_type": "code",
   "execution_count": 9,
   "metadata": {},
   "outputs": [
    {
     "data": {
      "image/png": "[encoded data removed]",
      "text/plain": [
       "<Figure size 432x288 with 1 Axes>"
      ]
     },
     "metadata": {
      "needs_background": "light"
     },
     "output_type": "display_data"
    }
   ],
   "source": [
    "plot_graphics(f, a, b, 256)"
   ]
  },
  {
   "cell_type": "code",
   "execution_count": 10,
   "metadata": {},
   "outputs": [],
   "source": [
    "# задання оновленого відрізка\n",
    "a=3.0\n",
    "b=3.05"
   ]
  },
  {
   "cell_type": "code",
   "execution_count": 11,
   "metadata": {},
   "outputs": [
    {
     "data": {
      "image/png": "[encoded data removed]",
      "text/plain": [
       "<Figure size 432x288 with 1 Axes>"
      ]
     },
     "metadata": {
      "needs_background": "light"
     },
     "output_type": "display_data"
    }
   ],
   "source": [
    "plot_graphics(f, a, b, 256)"
   ]
  },
  {
   "cell_type": "code",
   "execution_count": 12,
   "metadata": {},
   "outputs": [],
   "source": [
    "# задання оновленого відрізка\n",
    "a=3.03\n",
    "b=3.04"
   ]
  },
  {
   "cell_type": "code",
   "execution_count": 13,
   "metadata": {},
   "outputs": [
    {
     "data": {
      "image/png": "[encoded data removed]",
      "text/plain": [
       "<Figure size 432x288 with 1 Axes>"
      ]
     },
     "metadata": {
      "needs_background": "light"
     },
     "output_type": "display_data"
    }
   ],
   "source": [
    "plot_graphics(f, a, b, 256)"
   ]
  },
  {
   "cell_type": "code",
   "execution_count": 14,
   "metadata": {},
   "outputs": [],
   "source": [
    "# задання оновленого відрізка\n",
    "a=3.034\n",
    "b=3.036"
   ]
  },
  {
   "cell_type": "code",
   "execution_count": 15,
   "metadata": {},
   "outputs": [
    {
     "name": "stdout",
     "output_type": "stream",
     "text": [
      "Розв'язок рівняння x=3.03508984375 з точністю eps=1e-05, кількість ітерацій k=9.\n"
     ]
    }
   ],
   "source": [
    "#знаходження чисельного розв'язку\n",
    "eps = 0.00001\n",
    "x,k = bisection(f, a, b, eps)\n",
    "print(f\"Розв'язок рівняння x={x} з точністю eps={eps}, кількість ітерацій k={k}.\")"
   ]
  },
  {
   "cell_type": "code",
   "execution_count": 16,
   "metadata": {},
   "outputs": [
    {
     "name": "stdout",
     "output_type": "stream",
     "text": [
      "Відносна похибка чисельного розв'язку delta=1.6039803540187618e-07\n"
     ]
    }
   ],
   "source": [
    "print(f\"Відносна похибка чисельного розв'язку delta={np.abs(x_2-x)/x_2}\")"
   ]
  },
  {
   "cell_type": "markdown",
   "metadata": {},
   "source": [
    "Зазначимо, що згідно теорії, викладеної в підрозділі 3.2, наближення розв'язку рівняння (1) методом бісекції має збігатися до точного розв'язку. Уявлення про характер цієї збіжності можна отримати, якщо задавати менші значення параметра ``eps``."
   ]
  },
  {
   "cell_type": "code",
   "execution_count": 17,
   "metadata": {},
   "outputs": [
    {
     "name": "stdout",
     "output_type": "stream",
     "text": [
      "Розв'язок рівняння x=3.0350903015136717 з точністю eps=1e-07, кількість ітерацій k=16.\n"
     ]
    }
   ],
   "source": [
    "#знаходження чисельного розв'язку\n",
    "eps = 0.0000001\n",
    "x,k = bisection(f, a, b, eps)\n",
    "print(f\"Розв'язок рівняння x={x} з точністю eps={eps}, кількість ітерацій k={k}.\")"
   ]
  },
  {
   "cell_type": "code",
   "execution_count": 18,
   "metadata": {},
   "outputs": [
    {
     "name": "stdout",
     "output_type": "stream",
     "text": [
      "Відносна похибка чисельного розв'язку delta=9.57429640268604e-09\n"
     ]
    }
   ],
   "source": [
    "print(f\"Відносна похибка чисельного розв'язку delta={np.abs(x_2-x)/x_2}\")"
   ]
  },
  {
   "cell_type": "code",
   "execution_count": 19,
   "metadata": {},
   "outputs": [
    {
     "name": "stdout",
     "output_type": "stream",
     "text": [
      "Розв'язок рівняння x=3.035090330600738 з точністю eps=1e-09, кількість ітерацій k=22.\n"
     ]
    }
   ],
   "source": [
    "#знаходження чисельного розв'язку\n",
    "eps = 0.000000001\n",
    "x,k = bisection(f, a, b, eps)\n",
    "print(f\"Розв'язок рівняння x={x} з точністю eps={eps}, кількість ітерацій k={k}.\")"
   ]
  },
  {
   "cell_type": "code",
   "execution_count": 20,
   "metadata": {},
   "outputs": [
    {
     "name": "stdout",
     "output_type": "stream",
     "text": [
      "Відносна похибка чисельного розв'язку delta=9.295307964700006e-12\n"
     ]
    }
   ],
   "source": [
    "print(f\"Відносна похибка чисельного розв'язку delta={np.abs(x_2-x)/x_2}\")"
   ]
  },
  {
   "cell_type": "markdown",
   "metadata": {
    "tags": []
   },
   "source": [
    "**Приклад 2.** Нехай у рівнянні (1) $f(x)=cos(x^2-2x)$. Обчислити методом бісекції другий додатній розв'язок цього рівняння з точністю $eps=10^{-5}$."
   ]
  },
  {
   "cell_type": "markdown",
   "metadata": {
    "tags": []
   },
   "source": [
    "Легко переконатися, що $x_2 = 1+np.sqrt(1+3*np.pi/2) = 3.390060455382811$ і $x_3 = 1+np.sqrt(1+5*np.pi/2) = 3.975564086685831$ з точністю $10^{-15}$. Збережемо ці значення:"
   ]
  },
  {
   "cell_type": "code",
   "execution_count": 36,
   "metadata": {
    "tags": []
   },
   "outputs": [],
   "source": [
    "x_2 = 1+np.sqrt(1+3*np.pi/2)\n",
    "x_3 = 1+np.sqrt(1+5*np.pi/2)"
   ]
  },
  {
   "cell_type": "markdown",
   "metadata": {
    "tags": []
   },
   "source": [
    ">#### ``fcs`` -- функція лівої частини рівняння (1) "
   ]
  },
  {
   "cell_type": "code",
   "execution_count": 37,
   "metadata": {
    "tags": []
   },
   "outputs": [],
   "source": [
    "def fcs(x):\n",
    "    \"\"\"функція лівої частини рівняння (1)\"\"\"\n",
    "    return np.cos(x*x-2*x)"
   ]
  },
  {
   "cell_type": "markdown",
   "metadata": {
    "tags": []
   },
   "source": [
    ">#### Легко переконатися в аналогічний до попереднього прикладу спосіб, що шуканий розв'язок заданого рівняння знаходиться на відрізку ``[3.389, 3.390]``. "
   ]
  },
  {
   "cell_type": "markdown",
   "metadata": {
    "tags": []
   },
   "source": [
    "Послідовне виконання наступних комірок даватиме чисельний розв'язок рівняння (1) при відповідних значеннях параметра ``eps``:   "
   ]
  },
  {
   "cell_type": "code",
   "execution_count": 38,
   "metadata": {},
   "outputs": [],
   "source": [
    "# задання відрізка\n",
    "a=3.389\n",
    "b=3.390"
   ]
  },
  {
   "cell_type": "code",
   "execution_count": 39,
   "metadata": {},
   "outputs": [
    {
     "name": "stdout",
     "output_type": "stream",
     "text": [
      "Розв'язок рівняння x=3.3899960937499998 з точністю eps=1e-05, кількість ітерацій k=8.\n"
     ]
    }
   ],
   "source": [
    "#знаходження чисельного розв'язку\n",
    "eps = 0.00001\n",
    "x,k = bisection(f, a, b, eps)\n",
    "print(f\"Розв'язок рівняння x={x} з точністю eps={eps}, кількість ітерацій k={k}.\")"
   ]
  },
  {
   "cell_type": "code",
   "execution_count": 40,
   "metadata": {},
   "outputs": [
    {
     "name": "stdout",
     "output_type": "stream",
     "text": [
      "Відносна похибка чисельного розв'язку delta=1.8985393817718306e-05\n"
     ]
    }
   ],
   "source": [
    "print(f\"Відносна похибка чисельного розв'язку delta={np.abs(x_2-x)/x_2}\")"
   ]
  },
  {
   "cell_type": "code",
   "execution_count": 41,
   "metadata": {},
   "outputs": [
    {
     "name": "stdout",
     "output_type": "stream",
     "text": [
      "Розв'язок рівняння x=3.389999969482422 з точністю eps=1e-07, кількість ітерацій k=15.\n"
     ]
    }
   ],
   "source": [
    "#знаходження чисельного розв'язку\n",
    "eps = 0.0000001\n",
    "x,k = bisection(f, a, b, eps)\n",
    "print(f\"Розв'язок рівняння x={x} з точністю eps={eps}, кількість ітерацій k={k}.\")"
   ]
  },
  {
   "cell_type": "code",
   "execution_count": 42,
   "metadata": {},
   "outputs": [
    {
     "name": "stdout",
     "output_type": "stream",
     "text": [
      "Відносна похибка чисельного розв'язку delta=1.7842130305719424e-05\n"
     ]
    }
   ],
   "source": [
    "print(f\"Відносна похибка чисельного розв'язку delta={np.abs(x_2-x)/x_2}\")"
   ]
  },
  {
   "cell_type": "code",
   "execution_count": 43,
   "metadata": {},
   "outputs": [
    {
     "name": "stdout",
     "output_type": "stream",
     "text": [
      "Розв'язок рівняння x=3.3899999995231633 з точністю eps=1e-09, кількість ітерацій k=21.\n"
     ]
    }
   ],
   "source": [
    "#знаходження чисельного розв'язку\n",
    "eps = 0.000000001\n",
    "x,k = bisection(f, a, b, eps)\n",
    "print(f\"Розв'язок рівняння x={x} з точністю eps={eps}, кількість ітерацій k={k}.\")"
   ]
  },
  {
   "cell_type": "code",
   "execution_count": 44,
   "metadata": {},
   "outputs": [
    {
     "name": "stdout",
     "output_type": "stream",
     "text": [
      "Відносна похибка чисельного розв'язку delta=1.7833268888100083e-05\n"
     ]
    }
   ],
   "source": [
    "print(f\"Відносна похибка чисельного розв'язку delta={np.abs(x_2-x)/x_2}\")"
   ]
  },
  {
   "cell_type": "markdown",
   "metadata": {
    "tags": []
   },
   "source": [
    "**Приклад 3.** Нехай у рівнянні (1) $f(x)=x-1$. Обчислити методом бісекції розв'язок цього рівняння з точністю $eps=10^{-5}$."
   ]
  },
  {
   "cell_type": "markdown",
   "metadata": {
    "tags": []
   },
   "source": [
    "Метою цього прикладу є продемонструвати особливість алгоритму методу бісекції, а саме потребу в перевірці, чи на якомусь кроці точка поділу відрізка  навпіл не співпаде з розв'язком рівняння. Виконаємо послідовно наступні комірки:"
   ]
  },
  {
   "cell_type": "code",
   "execution_count": 25,
   "metadata": {
    "tags": []
   },
   "outputs": [],
   "source": [
    "def flnr(x):\n",
    "    \"\"\"функція лівої частини рівняння (1)\"\"\"\n",
    "    return x-1"
   ]
  },
  {
   "cell_type": "code",
   "execution_count": 26,
   "metadata": {},
   "outputs": [],
   "source": [
    "# задання відрізка\n",
    "a=0\n",
    "b=4.0"
   ]
  },
  {
   "cell_type": "code",
   "execution_count": 27,
   "metadata": {},
   "outputs": [
    {
     "name": "stdout",
     "output_type": "stream",
     "text": [
      "Розв'язок рівняння x=1.0 з точністю eps=1e-05, кількість ітерацій k=2.\n"
     ]
    }
   ],
   "source": [
    "#знаходження чисельного розв'язку\n",
    "eps = 0.00001\n",
    "x,k = bisection(flnr, a, b, eps)\n",
    "print(f\"Розв'язок рівняння x={x} з точністю eps={eps}, кількість ітерацій k={k}.\")"
   ]
  },
  {
   "cell_type": "markdown",
   "metadata": {
    "tags": []
   },
   "source": [
    "Як бачимо, за рахунок зазначеної вище перевірки чисельний розв'язок буде отримано вже на другій ітерації, хоч при цьому довжина отриманого після поділу відрізка рівна 1. Легко переконатися безпосереднім обчисленням, що при відсутності такої перевірки матимемо неправильний результат."
   ]
  },
  {
   "cell_type": "markdown",
   "metadata": {
    "tags": []
   },
   "source": [
    "**Висновок.** Оскільки швидкість збіжності методу бісекції є невисокою, доцільно попередньо локалізувати шуканий розв'язок рівняння на якомога короткому відрізку."
   ]
  },
  {
   "cell_type": "code",
   "execution_count": null,
   "metadata": {},
   "outputs": [],
   "source": []
  }
 ],
 "metadata": {
  "kernelspec": {
   "display_name": "Python 3 (ipykernel)",
   "language": "python",
   "name": "python3"
  },
  "language_info": {
   "codemirror_mode": {
    "name": "ipython",
    "version": 3
   },
   "file_extension": ".py",
   "mimetype": "text/x-python",
   "name": "python",
   "nbconvert_exporter": "python",
   "pygments_lexer": "ipython3",
   "version": "3.9.7"
  }
 },
 "nbformat": 4,
 "nbformat_minor": 4
}
