{
 "cells": [
  {
   "cell_type": "markdown",
   "metadata": {},
   "source": [
    "# 3. Розв'язування систем нелінійних рівнянь\n",
    "------------"
   ]
  },
  {
   "cell_type": "markdown",
   "metadata": {},
   "source": [
    "Розглянемо нелінійну систему рівнянь\n",
    "\n",
    "$(1)\\qquad\\qquad\\qquad\n",
    "   \\begin{cases}\n",
    "    f_1(x_1,\\ldots,x_n)=0 \\\\\n",
    "    \\qquad \\ldots \\\\\n",
    "    f_n(x_1,\\ldots,x_n) = 0\n",
    "   \\end{cases} \\quad \\Leftrightarrow \\quad f(x)=0,\n",
    "$\n",
    "\n",
    "де $f_1,\\ldots,f_n$ --- визначені на деякій множині $D\\subset \\mathbb{R}^n$ функції, а \n",
    "\n",
    "$\\qquad\\qquad\\qquad\n",
    "f(x):=\\begin{pmatrix}  f_1(x_1,\\ldots,x_n) \\\\\n",
    "    \\ldots \\\\\n",
    "    f_n(x_1,\\ldots,x_n)\n",
    "    \\end{pmatrix},\\ x=\\begin{pmatrix}x_1\\\\ \\ldots\\\\\n",
    "x_n\\end{pmatrix} \\in D,\\quad \\text{ ---  векторна функція}.$"
   ]
  },
  {
   "cell_type": "markdown",
   "metadata": {
    "tags": []
   },
   "source": [
    "### 3.2.3. Метод Ньютона\n",
    "--------------\n",
    "Припускаємо, що $ f_{i}\\in C^{1}(D),\\, i=\\overline{1,n},\\, $ і матриця Якобі\n",
    "\n",
    "$(1)\\qquad\\qquad\\qquad\\nabla f(x):=\n",
    "\\begin{pmatrix}\n",
    "\\dfrac{\\partial f_{1}(x_1,\\ldots,x_n)}{\\partial x_{1}} &\\ldots &\n",
    "\\dfrac{\\partial f_{1}(x_1,\\ldots,x_n)}{\\partial x_{n}} \\\\\n",
    "\\vdots &\\ddots & \\vdots\\\\\n",
    "\\dfrac{\\partial f_{n}(x_1,\\ldots,x_n)}{\\partial x_{1}} &\\ldots &\n",
    " \\dfrac{\\partial f_{n}(x_1,\\ldots,x_n)}{\\partial x_{n}}\n",
    "\\end{pmatrix}\n",
    "$\n",
    "\n",
    "невироджена в кожній точці $x=(x_1,\\ldots,x_n)^\\top\\in D.$"
   ]
  },
  {
   "cell_type": "markdown",
   "metadata": {
    "tags": []
   },
   "source": [
    "Метод Ньютона визначається так:\n",
    "\n",
    "* задаємо початкове значення $x^0\\in D$ \n",
    "\n",
    "* знаходимо послідовні наближення $x^1, x^2, x^3, \\ldots$ розв'язку системи рівнянь (1) за формулою\n",
    "\n",
    "$(2)\\qquad\\qquad\\qquad  x^{k+1}=x^{k}-[\\nabla f(x^{k})]^{-1}f(x^{k}), \\quad\\quad k=0,1,2,....$\n",
    "\n",
    "Тут $[\\nabla f(x^{k})]^{-1}$ -- обернена до матриці Якобі, яку під час реалізації методу будемо знаходити за допомогою бібліотечної функції.\n"
   ]
  },
  {
   "cell_type": "markdown",
   "metadata": {
    "tags": []
   },
   "source": [
    "#### Пояснення до використання програмного коду\n",
    "-----------------\n",
    "*   Підготувати середовище і потрібні функції : \n",
    "    1. виконати комірку для підготовки середовища\n",
    "    2. виконати комірку, де **визначена** функція ``Newton_iteration`` \n",
    "    3. виконати комірку, де **визначені** функції ``f`` і ``inverse_Jacobian_matrix``\n",
    "     \n",
    "*   Обчислити наближення розв'язку\n",
    "    1. задати точність ``eps`` наближеного розв'язку і початкове наближення ``x0``\n",
    "    2. виконати комірку, де є **виклик** функції ``Newton_iteration``"
   ]
  },
  {
   "cell_type": "code",
   "execution_count": 9,
   "metadata": {
    "id": "jb5hlEr5QF1p"
   },
   "outputs": [],
   "source": [
    "# Підготовка середовища\n",
    "\n",
    "import numpy as np\n",
    "from scipy import linalg\n",
    "\n",
    "def norm_3(a):\n",
    "    \"\"\"обчислення евклідової норми вектора a\"\"\"\n",
    "    return np.sqrt(np.sum(a**2))"
   ]
  },
  {
   "cell_type": "markdown",
   "metadata": {},
   "source": [
    ">#### ``Newton_iteration`` -- функція, яка реалізує метод Ньютона "
   ]
  },
  {
   "cell_type": "code",
   "execution_count": 10,
   "metadata": {
    "colab": {
     "base_uri": "https://localhost:8080/"
    },
    "executionInfo": {
     "elapsed": 338,
     "status": "ok",
     "timestamp": 1629912431271,
     "user": {
      "displayName": "Anatoliy Muzychuk",
      "photoUrl": "",
      "userId": "02436432047169316818"
     },
     "user_tz": -180
    },
    "id": "c6TrJDY0PQGz",
    "outputId": "e915a7a1-5b99-4c21-a2fd-2cb036410d10"
   },
   "outputs": [],
   "source": [
    "def Newton_iteration(f,invJ, x0, eps, kmax):\n",
    "    \"\"\" знаходження методом Ньютона наближеного кореня рівняння (1), \n",
    "        де f -- непервна функція на відрізку [a, b],  \n",
    "        f_deriv -- похідна функція на відрізку [a, b]\n",
    "        x0 -- початкове наближення\n",
    "        eps -- задана точність\n",
    "    \"\"\"   \n",
    "    x_prev=x0.copy()\n",
    "    k=1\n",
    "    \n",
    "    x_new = x_prev - invJ(x_prev).dot(f(x_prev))\n",
    "    \n",
    "    while norm_3(x_new-x_prev) > eps and k<kmax:\n",
    "        k+=1\n",
    "        x_prev = x_new\n",
    "        x_new = x_prev - invJ(x_prev).dot(f(x_prev))       \n",
    "    return x_new,k"
   ]
  },
  {
   "cell_type": "markdown",
   "metadata": {
    "tags": []
   },
   "source": [
    ">#### ``f`` і ``inverse_Jacobian_matrix`` -- векторна функція лівої частини рівняння (1) та обернена її матриці Якобі"
   ]
  },
  {
   "cell_type": "code",
   "execution_count": 14,
   "metadata": {},
   "outputs": [],
   "source": [
    "def f(x):\n",
    "    \"\"\"функції лівої частини системи рівнянь (1)\"\"\"\n",
    "    f0 = x[0]**2- 2*x[1]+3\n",
    "    f1 = 2*x[0] +3*x[1]**2 - 1 \n",
    "    return np.array([f0,f1])\n",
    "\n",
    "def inverse_Jacobian_matrix(x):\n",
    "    \"\"\"обернена матриця якобіана лівої частини рівняння (1)\"\"\"\n",
    "    df00 = 2*x[0]\n",
    "    df01 = -2\n",
    "    df10 = 2\n",
    "    df11 = 6*x[1]\n",
    "    invJ = linalg.inv(np.array([[df00, df01],[df10, df11]]))\n",
    "    return invJ"
   ]
  },
  {
   "cell_type": "code",
   "execution_count": 11,
   "metadata": {},
   "outputs": [],
   "source": [
    "def f(x):\n",
    "    \"\"\"функції лівої частини системи рівнянь (1)\"\"\"\n",
    "    f0 = np.exp(x[0]**2 + x[1]**2) - 1\n",
    "    f1 = np.exp(x[0]**2 - x[1]**2) - 1 \n",
    "    return np.array([f0,f1])\n",
    "\n",
    "def inverse_Jacobian_matrix(x):\n",
    "    \"\"\"обернена матриця якобіана лівої частини рівняння (1)\"\"\"\n",
    "    df00 = np.exp(x[0]**2 + x[1]**2)*2*x[0]\n",
    "    df01 = np.exp(x[0]**2 + x[1]**2)*2*x[1]\n",
    "    df10 = np.exp(x[0]**2 - x[1]**2)*2*x[0]\n",
    "    df11 =-np.exp(x[0]**2 - x[1]**2)*2*x[1]\n",
    "    invJ = linalg.inv(np.array([[df00, df01],[df10, df11]]))\n",
    "    return invJ"
   ]
  },
  {
   "cell_type": "code",
   "execution_count": 11,
   "metadata": {},
   "outputs": [],
   "source": [
    "def f(x):\n",
    "    \"\"\"функції лівої частини системи рівнянь (1)\"\"\"\n",
    "    f0 = np.exp(x[0]**2 + x[1]**2) - 1\n",
    "    f1 = np.exp(x[0]**2 - x[1]**2) - 1 \n",
    "    return np.array([f0,f1])\n",
    "\n",
    "def inverse_Jacobian_matrix(x):\n",
    "    \"\"\"обернена матриця якобіана лівої частини рівняння (1)\"\"\"\n",
    "    df00 = np.exp(x[0]**2 + x[1]**2)*2*x[0]\n",
    "    df01 = np.exp(x[0]**2 + x[1]**2)*2*x[1]\n",
    "    df10 = np.exp(x[0]**2 - x[1]**2)*2*x[0]\n",
    "    df11 =-np.exp(x[0]**2 - x[1]**2)*2*x[1]\n",
    "    invJ = linalg.inv(np.array([[df00, df01],[df10, df11]]))\n",
    "    return invJ"
   ]
  },
  {
   "cell_type": "code",
   "execution_count": 16,
   "metadata": {},
   "outputs": [
    {
     "name": "stdout",
     "output_type": "stream",
     "text": [
      "розв'язок системи рівнянь x=[-4.81296631  2.55700967] з точністю eps=1e-05 за k=100000 ітерацій\n"
     ]
    }
   ],
   "source": [
    "#знаходження наближення розв'язку\n",
    "eps=0.00001\n",
    "kmax=10000000\n",
    "x0=np.array([0.1, 0.1])\n",
    "x, k =Newton_iteration(f, inverse_Jacobian_matrix, x0, eps,kmax)\n",
    "print(f\"розв'язок системи рівнянь x={x} з точністю eps={eps} за k={k} ітерацій\")"
   ]
  },
  {
   "cell_type": "code",
   "execution_count": 13,
   "metadata": {},
   "outputs": [
    {
     "name": "stdout",
     "output_type": "stream",
     "text": [
      "розв'язок системи рівнянь x=[3.6237777e-06 3.6237777e-06] з точністю eps=1e-05 за k=219 ітерацій\n"
     ]
    }
   ],
   "source": [
    "#знаходження наближення розв'язку\n",
    "eps=0.00001\n",
    "kmax=10000\n",
    "x0=np.array([10, 10])\n",
    "x, k =Newton_iteration(f, inverse_Jacobian_matrix, x0, eps,kmax)\n",
    "print(f\"розв'язок системи рівнянь x={x} з точністю eps={eps} за k={k} ітерацій\")"
   ]
  },
  {
   "cell_type": "code",
   "execution_count": null,
   "metadata": {},
   "outputs": [],
   "source": []
  },
  {
   "cell_type": "code",
   "execution_count": null,
   "metadata": {},
   "outputs": [],
   "source": []
  }
 ],
 "metadata": {
  "kernelspec": {
   "display_name": "Python 3 (ipykernel)",
   "language": "python",
   "name": "python3"
  },
  "language_info": {
   "codemirror_mode": {
    "name": "ipython",
    "version": 3
   },
   "file_extension": ".py",
   "mimetype": "text/x-python",
   "name": "python",
   "nbconvert_exporter": "python",
   "pygments_lexer": "ipython3",
   "version": "3.9.7"
  }
 },
 "nbformat": 4,
 "nbformat_minor": 4
}
