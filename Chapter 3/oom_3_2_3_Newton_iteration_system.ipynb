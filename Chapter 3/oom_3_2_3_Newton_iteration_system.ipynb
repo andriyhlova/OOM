{
 "cells": [
  {
   "cell_type": "markdown",
   "metadata": {},
   "source": [
    "# 3. Розв'язування систем нелінійних рівнянь\n",
    "------------"
   ]
  },
  {
   "cell_type": "markdown",
   "metadata": {},
   "source": [
    "Розглянемо нелінійну систему рівнянь\n",
    "\n",
    "$(1)\\qquad\\qquad\\qquad\n",
    "   \\begin{cases}\n",
    "    f_1(x_1,\\ldots,x_n)=0 \\\\\n",
    "    \\qquad \\ldots \\\\\n",
    "    f_n(x_1,\\ldots,x_n) = 0\n",
    "   \\end{cases} \\quad \\Leftrightarrow \\quad f(x)=0,\n",
    "$\n",
    "\n",
    "де $f_1,\\ldots,f_n$ --- визначені на деякій множині $D\\subset \\mathbb{R}^n$ функції, а \n",
    "\n",
    "$\\qquad\\qquad\\qquad\n",
    "f(x):=\\begin{pmatrix}  f_1(x_1,\\ldots,x_n) \\\\\n",
    "    \\ldots \\\\\n",
    "    f_n(x_1,\\ldots,x_n)\n",
    "    \\end{pmatrix},\\ x=\\begin{pmatrix}x_1\\\\ \\ldots\\\\\n",
    "x_n\\end{pmatrix} \\in D,\\quad \\text{ ---  векторна функція}.$"
   ]
  },
  {
   "cell_type": "markdown",
   "metadata": {
    "tags": []
   },
   "source": [
    "### 3.2.3. Метод Ньютона\n",
    "--------------\n",
    "Припускаємо, що $ f_{i}\\in C^{1}(D),\\, i=\\overline{1,n},\\, $ і матриця Якобі\n",
    "\n",
    "$(1)\\qquad\\qquad\\qquad\\nabla f(x):=\n",
    "\\begin{pmatrix}\n",
    "\\dfrac{\\partial f_{1}(x_1,\\ldots,x_n)}{\\partial x_{1}} &\\ldots &\n",
    "\\dfrac{\\partial f_{1}(x_1,\\ldots,x_n)}{\\partial x_{n}} \\\\\n",
    "\\vdots &\\ddots & \\vdots\\\\\n",
    "\\dfrac{\\partial f_{n}(x_1,\\ldots,x_n)}{\\partial x_{1}} &\\ldots &\n",
    " \\dfrac{\\partial f_{n}(x_1,\\ldots,x_n)}{\\partial x_{n}}\n",
    "\\end{pmatrix}\n",
    "$\n",
    "\n",
    "невироджена в кожній точці $x=(x_1,\\ldots,x_n)^\\top\\in D.$"
   ]
  },
  {
   "cell_type": "markdown",
   "metadata": {
    "tags": []
   },
   "source": [
    "Метод Ньютона визначається так:\n",
    "\n",
    "* задаємо початкове значення $x^0\\in D$ \n",
    "\n",
    "* знаходимо послідовні наближення $x^1, x^2, x^3, \\ldots$ розв'язку системи рівнянь (1) за формулою\n",
    "\n",
    "$(2)\\qquad\\qquad\\qquad  x^{k+1}=x^{k}-[\\nabla f(x^{k})]^{-1}f(x^{k}), \\quad\\quad k=0,1,2,....$\n",
    "\n",
    "Тут $[\\nabla f(x^{k})]^{-1}$ -- обернена до матриці Якобі, яку під час реалізації методу будемо знаходити за допомогою бібліотечної функції.\n"
   ]
  },
  {
   "cell_type": "markdown",
   "metadata": {
    "tags": []
   },
   "source": [
    "#### Пояснення до використання програмного коду\n",
    "-----------------\n",
    "*   Підготувати середовище і потрібні функції : \n",
    "    1. виконати комірку для підготовки середовища\n",
    "    2. виконати комірку, в якій **визначена** функція ``Newton_iteration`` \n",
    "     \n",
    "*   Обчислити чисельний розв'язок конкретної заданої системи\n",
    "    1. виконати комірку, де **визначені** функції ``f`` і ``inverse_Jacobian_matrix``\n",
    "    2. задати точність ``eps`` наближеного розв'язку і початкове наближення ``x0``\n",
    "    3. виконати комірку з **викликом** функції ``Newton_iteration``"
   ]
  },
  {
   "cell_type": "markdown",
   "metadata": {
    "tags": []
   },
   "source": [
    "#### Програмна реалізація методу\n",
    "------------"
   ]
  },
  {
   "cell_type": "markdown",
   "metadata": {
    "tags": []
   },
   "source": [
    ">#### Підготовка середовища"
   ]
  },
  {
   "cell_type": "code",
   "execution_count": 23,
   "metadata": {
    "id": "jb5hlEr5QF1p"
   },
   "outputs": [],
   "source": [
    "import numpy as np\n",
    "from scipy import linalg"
   ]
  },
  {
   "cell_type": "markdown",
   "metadata": {
    "tags": []
   },
   "source": [
    ">#### Допоміжна функція"
   ]
  },
  {
   "cell_type": "code",
   "execution_count": 24,
   "metadata": {
    "id": "jb5hlEr5QF1p"
   },
   "outputs": [],
   "source": [
    "def norm_3(a):\n",
    "    \"\"\"обчислення евклідової норми вектора a\"\"\"\n",
    "    return np.sqrt(np.sum(a**2))"
   ]
  },
  {
   "cell_type": "markdown",
   "metadata": {},
   "source": [
    ">#### ``Newton_iteration`` -- функція, яка реалізує метод Ньютона "
   ]
  },
  {
   "cell_type": "code",
   "execution_count": 25,
   "metadata": {
    "colab": {
     "base_uri": "https://localhost:8080/"
    },
    "executionInfo": {
     "elapsed": 338,
     "status": "ok",
     "timestamp": 1629912431271,
     "user": {
      "displayName": "Anatoliy Muzychuk",
      "photoUrl": "",
      "userId": "02436432047169316818"
     },
     "user_tz": -180
    },
    "id": "c6TrJDY0PQGz",
    "outputId": "e915a7a1-5b99-4c21-a2fd-2cb036410d10"
   },
   "outputs": [],
   "source": [
    "def Newton_iteration(f,invJ, x0, eps, kmax):\n",
    "    \"\"\" знаходження методом Ньютона наближеного кореня рівняння (1), \n",
    "        де f -- непервна функція на відрізку [a, b],  \n",
    "        f_deriv -- похідна функція на відрізку [a, b]\n",
    "        x0 -- початкове наближення\n",
    "        eps -- задана точність\n",
    "    \"\"\"   \n",
    "    x_prev=x0.copy()\n",
    "    k=1\n",
    "    \n",
    "    x_new = x_prev - invJ(x_prev).dot(f(x_prev))\n",
    "    \n",
    "    while norm_3(x_new-x_prev) > eps and k<kmax:\n",
    "        k+=1\n",
    "        x_prev = x_new\n",
    "        x_new = x_prev - invJ(x_prev).dot(f(x_prev))       \n",
    "    return k, x_new"
   ]
  },
  {
   "cell_type": "markdown",
   "metadata": {
    "tags": []
   },
   "source": [
    ">#### ``f`` і ``inverse_Jacobian_matrix`` -- векторна функція лівої частини рівняння (1) та обернена її матриці Якобі"
   ]
  },
  {
   "cell_type": "markdown",
   "metadata": {
    "tags": []
   },
   "source": [
    "#### Обчислювальні експерименти\n",
    "------------"
   ]
  },
  {
   "cell_type": "markdown",
   "metadata": {
    "tags": []
   },
   "source": [
    "Продемонструємо застосування методу Ньютона до розв'язування нелінійних систем."
   ]
  },
  {
   "cell_type": "markdown",
   "metadata": {
    "tags": []
   },
   "source": [
    "**Приклад 1.** (example 7.1) Обчислити методом Ньютона розв'язок системи\n",
    "\n",
    "$  \\left\\{\n",
    "     \\begin{array}{ll}\n",
    "      e^{x_1^2+x_2^2}=1,\\\\\n",
    "    e^{x_1^2-x_2^2}=1.\n",
    "     \\end{array}\n",
    "   \\right. \n",
    "$"
   ]
  },
  {
   "cell_type": "markdown",
   "metadata": {
    "tags": []
   },
   "source": [
    "Легко бачити, що її розв'язком є $x=(0, 0)^\\top$."
   ]
  },
  {
   "cell_type": "markdown",
   "metadata": {
    "tags": []
   },
   "source": [
    "Визначимо векторну функцію, яка задає ліву частину системи, і функцію, яка повертає обернену матрицю для якобіана лівої частини: "
   ]
  },
  {
   "cell_type": "code",
   "execution_count": 26,
   "metadata": {},
   "outputs": [],
   "source": [
    "def f(x):\n",
    "    \"\"\"функції лівої частини системи рівнянь (1)\"\"\"\n",
    "    f0 = np.exp(x[0]**2 + x[1]**2) - 1\n",
    "    f1 = np.exp(x[0]**2 - x[1]**2) - 1 \n",
    "    return np.array([f0,f1])\n",
    "\n",
    "def inverse_Jacobian_matrix(x):\n",
    "    \"\"\"обернена матриця якобіана лівої частини рівняння (1)\"\"\"\n",
    "    df00 = np.exp(x[0]**2 + x[1]**2)*2*x[0]\n",
    "    df01 = np.exp(x[0]**2 + x[1]**2)*2*x[1]\n",
    "    df10 = np.exp(x[0]**2 - x[1]**2)*2*x[0]\n",
    "    df11 =-np.exp(x[0]**2 - x[1]**2)*2*x[1]\n",
    "    invJ = linalg.inv(np.array([[df00, df01],[df10, df11]]))\n",
    "    return invJ"
   ]
  },
  {
   "cell_type": "markdown",
   "metadata": {},
   "source": [
    "Тепер знайдемо чисельний розв'язок при різних значеннях параметра $eps$, попередньо задавши обмеження кількості операцій та початкове наближення:"
   ]
  },
  {
   "cell_type": "code",
   "execution_count": 27,
   "metadata": {},
   "outputs": [],
   "source": [
    "kmax=100\n",
    "x0=np.array([0.1, 0.1])"
   ]
  },
  {
   "cell_type": "code",
   "execution_count": 28,
   "metadata": {},
   "outputs": [
    {
     "name": "stdout",
     "output_type": "stream",
     "text": [
      "Чисельний розв'язок системи рівнянь x=[0.00039585 0.00039585] з точністю eps=0.001 за k=8 ітерацій\n"
     ]
    }
   ],
   "source": [
    "eps=0.001\n",
    "k, xk = Newton_iteration(f, inverse_Jacobian_matrix, x0, eps,kmax)\n",
    "print(f\"Чисельний розв'язок системи рівнянь x={xk} з точністю eps={eps} за k={k} ітерацій\")"
   ]
  },
  {
   "cell_type": "code",
   "execution_count": 29,
   "metadata": {},
   "outputs": [
    {
     "name": "stdout",
     "output_type": "stream",
     "text": [
      "Чисельний розв'язок системи рівнянь x=[6.18511692e-06 6.18511692e-06] з точністю eps=1e-05 за k=14 ітерацій\n"
     ]
    }
   ],
   "source": [
    "eps=0.00001\n",
    "k, xk = Newton_iteration(f, inverse_Jacobian_matrix, x0, eps,kmax)\n",
    "print(f\"Чисельний розв'язок системи рівнянь x={xk} з точністю eps={eps} за k={k} ітерацій\")"
   ]
  },
  {
   "cell_type": "code",
   "execution_count": 30,
   "metadata": {},
   "outputs": [
    {
     "name": "stdout",
     "output_type": "stream",
     "text": [
      "Чисельний розв'язок системи рівнянь x=[4.82473408e-08 4.82472913e-08] з точністю eps=1e-07 за k=21 ітерацій\n"
     ]
    }
   ],
   "source": [
    "eps=0.0000001\n",
    "k, xk = Newton_iteration(f, inverse_Jacobian_matrix, x0, eps,kmax)\n",
    "print(f\"Чисельний розв'язок системи рівнянь x={xk} з точністю eps={eps} за k={k} ітерацій\")"
   ]
  },
  {
   "cell_type": "markdown",
   "metadata": {},
   "source": [
    "Як бачимо, чисельний розв'язок заданої системи рівнянь швидко збігається до точного розв'язку. \n",
    "\n",
    "Якщо за початкове наближення взяти вектор правої частини, то для досягнення такої ж точності, як в попередньому випадку, треба виконати більше ітерацій:"
   ]
  },
  {
   "cell_type": "code",
   "execution_count": 31,
   "metadata": {},
   "outputs": [],
   "source": [
    "x0=np.array([1, 1])"
   ]
  },
  {
   "cell_type": "code",
   "execution_count": 32,
   "metadata": {},
   "outputs": [
    {
     "name": "stdout",
     "output_type": "stream",
     "text": [
      "Чисельний розв'язок системи рівнянь x=[0.00040068 0.00040068] з точністю eps=0.001 за k=13 ітерацій\n"
     ]
    }
   ],
   "source": [
    "eps=0.001\n",
    "k, xk = Newton_iteration(f, inverse_Jacobian_matrix, x0, eps,kmax)\n",
    "print(f\"Чисельний розв'язок системи рівнянь x={xk} з точністю eps={eps} за k={k} ітерацій\")"
   ]
  },
  {
   "cell_type": "code",
   "execution_count": 33,
   "metadata": {},
   "outputs": [
    {
     "name": "stdout",
     "output_type": "stream",
     "text": [
      "Чисельний розв'язок системи рівнянь x=[6.26059772e-06 6.26059770e-06] з точністю eps=1e-05 за k=19 ітерацій\n"
     ]
    }
   ],
   "source": [
    "eps=0.00001\n",
    "k, xk = Newton_iteration(f, inverse_Jacobian_matrix, x0, eps,kmax)\n",
    "print(f\"Чисельний розв'язок системи рівнянь x={xk} з точністю eps={eps} за k={k} ітерацій\")"
   ]
  },
  {
   "cell_type": "markdown",
   "metadata": {},
   "source": [
    "Зазначимо, що при грубшому початковому наближенні матимемо збіжний процес, але, що слід було очікувати,кількість ітерацій значно зростає:"
   ]
  },
  {
   "cell_type": "code",
   "execution_count": 34,
   "metadata": {},
   "outputs": [],
   "source": [
    "kmax=200\n",
    "x0=np.array([5, 5])"
   ]
  },
  {
   "cell_type": "code",
   "execution_count": 35,
   "metadata": {},
   "outputs": [
    {
     "name": "stdout",
     "output_type": "stream",
     "text": [
      "Чисельний розв'язок системи рівнянь x=[0.00036503 0.00036503] з точністю eps=0.001 за k=62 ітерацій\n"
     ]
    }
   ],
   "source": [
    "eps=0.001\n",
    "k, xk = Newton_iteration(f, inverse_Jacobian_matrix, x0, eps,kmax)\n",
    "print(f\"Чисельний розв'язок системи рівнянь x={xk} з точністю eps={eps} за k={k} ітерацій\")"
   ]
  },
  {
   "cell_type": "code",
   "execution_count": 36,
   "metadata": {},
   "outputs": [
    {
     "name": "stdout",
     "output_type": "stream",
     "text": [
      "Чисельний розв'язок системи рівнянь x=[5.70352056e-06 5.70352046e-06] з точністю eps=1e-05 за k=68 ітерацій\n"
     ]
    }
   ],
   "source": [
    "eps=0.00001\n",
    "k, xk = Newton_iteration(f, inverse_Jacobian_matrix, x0, eps,kmax)\n",
    "print(f\"Чисельний розв'язок системи рівнянь x={xk} з точністю eps={eps} за k={k} ітерацій\")"
   ]
  },
  {
   "cell_type": "markdown",
   "metadata": {},
   "source": [
    "**Приклад 2.** (приклад 3.8) Обчислити методом Ньютона розв'язок системи\n",
    "\n",
    "$\\left\\{\n",
    "   \\begin{array}{rcl}\n",
    "    4x_1-\\sin{x_2}+1&=&0,\\\\ \\\\\n",
    "         \\cos{x_1}-2x_2+3&=&0\\\\\n",
    "   \\end{array}\n",
    "  \\right.\n",
    "$"
   ]
  },
  {
   "cell_type": "markdown",
   "metadata": {},
   "source": [
    "Як і в попередньому прикладі, визначимо потрібні функції:"
   ]
  },
  {
   "cell_type": "code",
   "execution_count": 37,
   "metadata": {},
   "outputs": [],
   "source": [
    "def f(x):\n",
    "    \"\"\"функції лівої частини системи рівнянь (1)\"\"\"\n",
    "    f0 = 4*x[0] - np.sin(x[1]) + 1\n",
    "    f1 = np.cos(x[0]) - 2*x[1] + 3 \n",
    "    return np.array([f0,f1])\n",
    "\n",
    "def inverse_Jacobian_matrix(x):\n",
    "    \"\"\"обернена матриця якобіана лівої частини рівняння (1)\"\"\"\n",
    "    df00 = 4\n",
    "    df01 = - np.cos(x[1])\n",
    "    df10 = - np.sin(x[0])\n",
    "    df11 =-2\n",
    "    invJ = linalg.inv(np.array([[df00, df01],[df10, df11]]))\n",
    "    return invJ"
   ]
  },
  {
   "cell_type": "markdown",
   "metadata": {},
   "source": [
    "За початкове наближення візьмемо той самий вектор, що і при застосуванні методу простої ітерації:"
   ]
  },
  {
   "cell_type": "code",
   "execution_count": 38,
   "metadata": {},
   "outputs": [],
   "source": [
    "x0=np.array([-0.25 , 1.5])"
   ]
  },
  {
   "cell_type": "markdown",
   "metadata": {},
   "source": [
    "Тепер знайдемо чисельний розв'язок при різних значеннях параметра $eps$:"
   ]
  },
  {
   "cell_type": "code",
   "execution_count": 39,
   "metadata": {},
   "outputs": [
    {
     "name": "stdout",
     "output_type": "stream",
     "text": [
      "Чисельний розв'язок системи рівнянь x=[-0.02266228  1.99987161] з точністю eps=0.01 за k=3 ітерацій\n"
     ]
    }
   ],
   "source": [
    "eps=0.01\n",
    "k, xk = Newton_iteration(f, inverse_Jacobian_matrix, x0, eps,kmax)\n",
    "print(f\"Чисельний розв'язок системи рівнянь x={xk} з точністю eps={eps} за k={k} ітерацій\")"
   ]
  },
  {
   "cell_type": "code",
   "execution_count": 40,
   "metadata": {},
   "outputs": [
    {
     "name": "stdout",
     "output_type": "stream",
     "text": [
      "Чисельний розв'язок системи рівнянь x=[-0.02266229  1.99987161] з точністю eps=1e-07 за k=4 ітерацій\n"
     ]
    }
   ],
   "source": [
    "eps=0.0000001\n",
    "k, xk = Newton_iteration(f, inverse_Jacobian_matrix, x0, eps,kmax)\n",
    "print(f\"Чисельний розв'язок системи рівнянь x={xk} з точністю eps={eps} за k={k} ітерацій\")"
   ]
  },
  {
   "cell_type": "code",
   "execution_count": 41,
   "metadata": {},
   "outputs": [
    {
     "name": "stdout",
     "output_type": "stream",
     "text": [
      "Чисельний розв'язок системи рівнянь x=[-0.02266229  1.99987161] з точністю eps=1e-09 за k=5 ітерацій\n"
     ]
    }
   ],
   "source": [
    "eps=0.000000001\n",
    "k, xk = Newton_iteration(f, inverse_Jacobian_matrix, x0, eps,kmax)\n",
    "print(f\"Чисельний розв'язок системи рівнянь x={xk} з точністю eps={eps} за k={k} ітерацій\")"
   ]
  },
  {
   "cell_type": "markdown",
   "metadata": {},
   "source": [
    "Порівнюючи з методом простої ітерації бачимо, що задана точність досягається за меншу кількість ітерацій."
   ]
  },
  {
   "cell_type": "markdown",
   "metadata": {
    "tags": []
   },
   "source": [
    "**Приклад 3.** (приклад 3.9м) Обчислити методом Ньютона розв'язок системи\n",
    "\n",
    "$  \\left\\{\n",
    "     \\begin{array}{ll}\n",
    "      x_1^2-2x_2+3=0,\\\\\n",
    "    2x_1+3x_2^2-1=0.\n",
    "     \\end{array}\n",
    "   \\right. \n",
    "$"
   ]
  },
  {
   "cell_type": "markdown",
   "metadata": {
    "tags": []
   },
   "source": [
    "Визначимо векторну функцію, яка задає ліву частину системи, і функцію, яка повертає матрицю якобіана лівої частини: "
   ]
  },
  {
   "cell_type": "code",
   "execution_count": 42,
   "metadata": {},
   "outputs": [],
   "source": [
    "def f(x):\n",
    "    \"\"\"функції лівої частини системи рівнянь (1)\"\"\"\n",
    "    f0 = x[0]**2- 2*x[1]+3\n",
    "    f1 = 2*x[0] +3*x[1]**2 - 8 \n",
    "    return np.array([f0,f1])\n",
    "\n",
    "def inverse_Jacobian_matrix(x):\n",
    "    \"\"\"обернена матриця якобіана лівої частини рівняння (1)\"\"\"\n",
    "    df00 = 2*x[0]\n",
    "    df01 = -2\n",
    "    df10 = 2\n",
    "    df11 = 6*x[1]\n",
    "    invJ = linalg.inv(np.array([[df00, df01],[df10, df11]]))\n",
    "    return invJ"
   ]
  },
  {
   "cell_type": "code",
   "execution_count": 43,
   "metadata": {},
   "outputs": [
    {
     "name": "stdout",
     "output_type": "stream",
     "text": [
      "Чисельний розв'язок системи рівнянь x=[0.34762568 1.56042181] з точністю eps=0.0001 за k=5 ітерацій\n"
     ]
    }
   ],
   "source": [
    "eps=0.0001\n",
    "kmax=10000000\n",
    "x0=np.array([1.01, 1.99])\n",
    "k, xk = Newton_iteration(f, inverse_Jacobian_matrix, x0, eps,kmax)\n",
    "print(f\"Чисельний розв'язок системи рівнянь x={xk} з точністю eps={eps} за k={k} ітерацій\")"
   ]
  },
  {
   "cell_type": "code",
   "execution_count": 44,
   "metadata": {},
   "outputs": [
    {
     "name": "stdout",
     "output_type": "stream",
     "text": [
      "Чисельний розв'язок системи рівнянь x=[0.34762568 1.56042181] з точністю eps=1e-06 за k=5 ітерацій\n"
     ]
    }
   ],
   "source": [
    "eps=0.000001\n",
    "kmax=10000000\n",
    "x0=np.array([1.01, 1.99])\n",
    "k, xk = Newton_iteration(f, inverse_Jacobian_matrix, x0, eps,kmax)\n",
    "print(f\"Чисельний розв'язок системи рівнянь x={xk} з точністю eps={eps} за k={k} ітерацій\")"
   ]
  },
  {
   "cell_type": "code",
   "execution_count": null,
   "metadata": {},
   "outputs": [],
   "source": []
  }
 ],
 "metadata": {
  "kernelspec": {
   "display_name": "Python 3 (ipykernel)",
   "language": "python",
   "name": "python3"
  },
  "language_info": {
   "codemirror_mode": {
    "name": "ipython",
    "version": 3
   },
   "file_extension": ".py",
   "mimetype": "text/x-python",
   "name": "python",
   "nbconvert_exporter": "python",
   "pygments_lexer": "ipython3",
   "version": "3.9.7"
  }
 },
 "nbformat": 4,
 "nbformat_minor": 4
}
