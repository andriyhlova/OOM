{
 "cells": [
  {
   "cell_type": "markdown",
   "metadata": {},
   "source": [
    "# 3. Розв'язування систем нелінійних рівнянь\n",
    "------------"
   ]
  },
  {
   "cell_type": "markdown",
   "metadata": {},
   "source": [
    "Розглянемо  систему нелінійних рівнянь\n",
    "\n",
    "$(1)\\qquad\\qquad\\qquad\n",
    "   \\begin{cases}\n",
    "    f_1(x_1,\\ldots,x_n)=0 \\\\\n",
    "    \\qquad \\vdots \\\\\n",
    "    f_n(x_1,\\ldots,x_n) = 0\n",
    "   \\end{cases} \\quad \\Leftrightarrow \\quad f(x)=0,\\ x:=\\begin{pmatrix}x_1\\\\ \\vdots\\\\\n",
    "x_n\\end{pmatrix} \\in D,\n",
    "$\n",
    "\n",
    "де $f_1,\\ldots,f_n$ -- визначені на деякій множині $D\\subset \\mathbb{R}^n$ функції, а \n",
    "\n",
    "$\\qquad\\qquad\\qquad\n",
    "f(x):=\\begin{pmatrix}  f_1(x_1,\\ldots,x_n) \\\\\n",
    "    \\vdots \\\\\n",
    "    f_n(x_1,\\ldots,x_n)\n",
    "    \\end{pmatrix}$ --  векторна функція."
   ]
  },
  {
   "cell_type": "markdown",
   "metadata": {
    "tags": []
   },
   "source": [
    "### 3.2.3. Метод Ньютона\n",
    "--------------\n",
    "Припускаємо, що $ f_{i}\\in C^{1}(D),\\, i=\\overline{1,n},\\, $ і матриця Якобі\n",
    "\n",
    "$(1)\\qquad\\qquad\\qquad\\nabla f(x):=\n",
    "\\begin{pmatrix}\n",
    "\\dfrac{\\partial f_{1}(x_1,\\ldots,x_n)}{\\partial x_{1}} &\\ldots &\n",
    "\\dfrac{\\partial f_{1}(x_1,\\ldots,x_n)}{\\partial x_{n}} \\\\\n",
    "\\vdots &\\ddots & \\vdots\\\\\n",
    "\\dfrac{\\partial f_{n}(x_1,\\ldots,x_n)}{\\partial x_{1}} &\\ldots &\n",
    " \\dfrac{\\partial f_{n}(x_1,\\ldots,x_n)}{\\partial x_{n}}\n",
    "\\end{pmatrix}\n",
    "$\n",
    "\n",
    "невироджена в кожній точці $x=(x_1,\\ldots,x_n)^\\top\\in D.$"
   ]
  },
  {
   "cell_type": "markdown",
   "metadata": {
    "tags": []
   },
   "source": [
    "Метод Ньютона визначається так:\n",
    "\n",
    "* задаємо початкове значення $x^0\\in D$ \n",
    "\n",
    "* знаходимо послідовні наближення $x^1, x^2, x^3, \\ldots$ розв'язку системи рівнянь (1) за формулою\n",
    "\n",
    "$(2)\\qquad\\qquad\\qquad  x^{k+1}=x^{k}-[\\nabla f(x^{k})]^{-1}f(x^{k}), \\quad\\quad k=0,1,2,....$\n",
    "\n",
    "Тут $[\\nabla f(x^{k})]^{-1}$ -- обернена до матриці Якобі, яку під час реалізації методу будемо знаходити за допомогою бібліотечної функції.\n",
    "\n",
    "Застосуємо метод Ньютона для розв'язування систем, що складаються з двох нелінійних рівнянь, заданих на деякій прямокутній області $D := [a,b] \\times [c,d]$. \n",
    "\n",
    "Зазначимо, що при дослідженні зазначених систем рівнянь може бути корисним аналіз поведінки заданих нелінійних функцій на основі їхніх графіків, використовуючи різні підходи до побудови зображень. За рахунок такої візуалізації можна дати відповідь стосовно існування розв'язків системи, а також наочно побачити лінії перетину відповідних поверхонь і підібрати добре початкове наближення для чисельного розв'язку. В Jupyter-ноутбуках такі графічні побудови зручно виконувати на інтерактивних графічних панелях з використанням потужних графічних бібліотек, які дають змогу користувачеві переглядати зображення під різними кутами зору, динамічно змінюючи їх за допомогою мишки.    "
   ]
  },
  {
   "cell_type": "markdown",
   "metadata": {
    "tags": []
   },
   "source": [
    "#### Пояснення до використання програмного коду\n",
    "-----------------\n",
    "*   Підготувати середовище і потрібні функції : \n",
    "    1. виконати комірку для підготовки середовища\n",
    "    2. виконати комірки, в яких **визначені** функції ``Newton_iteration`` і ``D3_plotter`` \n",
    "     \n",
    "*   Обчислити чисельний розв'язок конкретної заданої системи\n",
    "    1. виконати комірку, де **визначені** функції ``f`` і ``inverse_Jacobian_matrix``\n",
    "    2. виконати комірку з **викликом** функції ``D3_plotter`` для побудови тривимірних графіків функції ``f`` і, аналізуючи лінії їхніх перетинів на площині $x_3=0$, задати початкове наближення ``x0``\n",
    "    3. задати точність ``eps`` чисельного розв'язку \n",
    "    3. виконати комірку з **викликом** функції ``Newton_iteration``"
   ]
  },
  {
   "cell_type": "markdown",
   "metadata": {
    "tags": []
   },
   "source": [
    "#### Програмна реалізація методу\n",
    "------------"
   ]
  },
  {
   "cell_type": "markdown",
   "metadata": {
    "tags": []
   },
   "source": [
    ">#### Підготовка середовища"
   ]
  },
  {
   "cell_type": "code",
   "execution_count": 1,
   "metadata": {
    "id": "jb5hlEr5QF1p"
   },
   "outputs": [],
   "source": [
    "%matplotlib widget\n",
    "import matplotlib.pyplot as plt\n",
    "import numpy as np\n",
    "from mpl_toolkits import mplot3d\n",
    "from scipy import linalg"
   ]
  },
  {
   "cell_type": "markdown",
   "metadata": {},
   "source": [
    ">#### ``Newton_iteration`` -- функція, яка реалізує метод Ньютона "
   ]
  },
  {
   "cell_type": "code",
   "execution_count": 2,
   "metadata": {
    "colab": {
     "base_uri": "https://localhost:8080/"
    },
    "executionInfo": {
     "elapsed": 338,
     "status": "ok",
     "timestamp": 1629912431271,
     "user": {
      "displayName": "Anatoliy Muzychuk",
      "photoUrl": "",
      "userId": "02436432047169316818"
     },
     "user_tz": -180
    },
    "id": "c6TrJDY0PQGz",
    "outputId": "e915a7a1-5b99-4c21-a2fd-2cb036410d10"
   },
   "outputs": [],
   "source": [
    "def Newton_iteration(f,invJ, x0, eps, kmax):\n",
    "    \"\"\" знаходження методом Ньютона наближеного кореня рівняння (1), \n",
    "        де f -- непервна функція на відрізку [a, b],  \n",
    "        f_deriv -- похідна функція на відрізку [a, b]\n",
    "        x0 -- початкове наближення\n",
    "        eps -- задана точність\n",
    "    \"\"\"   \n",
    "    x_prev=x0.copy()\n",
    "    k=1\n",
    "    \n",
    "    x_new = x_prev - invJ(x_prev).dot(f(x_prev))\n",
    "    \n",
    "    while norm_3(x_new-x_prev) > eps and k<kmax:\n",
    "        k+=1\n",
    "        x_prev = x_new\n",
    "        x_new = x_prev - invJ(x_prev).dot(f(x_prev))       \n",
    "    return k, x_new"
   ]
  },
  {
   "cell_type": "markdown",
   "metadata": {
    "tags": []
   },
   "source": [
    ">#### ``D3_plotter`` -- функція для побудови тривимірних графіків функції ``f`` "
   ]
  },
  {
   "cell_type": "code",
   "execution_count": 3,
   "metadata": {},
   "outputs": [],
   "source": [
    "def D3_plotter(f, D, N0, N1, plotting=True):\n",
    "    \"\"\"  \n",
    "    \"\"\"   \n",
    "    x0=np.linspace(D[0,0], D[0,1], N0+1)\n",
    "    x1=np.linspace(D[1,0], D[1,1], N1+1)  \n",
    "    print(f\"x0={x0}\")\n",
    "    print(f\"x1={x1}\")\n",
    "    \n",
    "    f0 = np.empty((N0+1,N1+1), dtype=float) \n",
    "    f1 = np.empty((N0+1,N1+1), dtype=float)\n",
    "    f2 = np.empty((N0+1,N1+1), dtype=float)\n",
    "    \n",
    "    for j in range(N1+1):\n",
    "        for i in range(N0+1): \n",
    "            f0[j,i],f1[j,i] = f(x0[i],x1[j])\n",
    "            f2[j,i] = 0\n",
    "    #print(f\"f0={f0}\")\n",
    "    #print(f\"f1={f1}\")\n",
    "           \n",
    "    if plotting :\n",
    "        X1, X0 = np.meshgrid(x1, x0)\n",
    "        # set up a figure twice as wide as it is tall\n",
    "        fig = plt.figure(figsize=plt.figaspect(0.5)) \n",
    "        # =============\n",
    "        # First subplot\n",
    "        # =============\n",
    "        # set up the axes for the first plot\n",
    "        ax = fig.add_subplot(1, 2, 1, projection='3d')\n",
    "        ax.set_xlabel('x1')\n",
    "        ax.set_ylabel('x0') \n",
    "        ax.set_zlabel('f');\n",
    "        ax.set_title(f\"Графіки функції f0 і f2=0\");\n",
    "        surf = ax.plot_surface(X1, X0, f0, rstride=1, cstride=1, cmap='viridis', linewidth=0, antialiased=False)\n",
    "        #surf = ax.plot_surface(X1, X0, f1, rstride=1, cstride=1, cmap='viridis', linewidth=0, antialiased=False)\n",
    "        ax.plot_surface(X1, X0, f2, rstride=1, cstride=1, cmap='viridis', linewidth=0, antialiased=False)\n",
    "        fig.colorbar(surf, shrink=0.5, aspect=10)\n",
    "        # ==============\n",
    "        # Second subplot\n",
    "        # ==============\n",
    "        # set up the axes for the second plot\n",
    "        ax = fig.add_subplot(1, 2, 2, projection='3d')\n",
    "        ax.set_xlabel('x1')\n",
    "        ax.set_ylabel('x0')\n",
    "        ax.set_zlabel('f');\n",
    "        ax.set_title(f\"Графіки функцій f0 і f2=0\");\n",
    "        surf = ax.plot_wireframe(X1, X0, f0, rstride=2, cstride=2)\n",
    "        #surf = ax.plot_wireframe(X1, X0, f1, rstride=2, cstride=2)\n",
    "        ax.plot_wireframe(X1, X0, f2, rstride=2, cstride=2)\n",
    "        \n",
    "        fig1 = plt.figure(figsize=plt.figaspect(0.5))\n",
    "        # =============\n",
    "        # First subplot\n",
    "        # =============\n",
    "        # set up the axes for the first plot\n",
    "        ax1 = fig1.add_subplot(1, 2, 1, projection='3d')\n",
    "        ax1.set_xlabel('x1')\n",
    "        ax1.set_ylabel('x0') \n",
    "        ax1.set_zlabel('f');\n",
    "        ax1.set_title(f\"Графіки функцій f1 і f2=0\");\n",
    "        #surf = ax1.plot_surface(X1, X0, f0, rstride=1, cstride=1, cmap='viridis', linewidth=0, antialiased=False)\n",
    "        surf1 = ax1.plot_surface(X1, X0, f1, rstride=1, cstride=1, cmap='viridis', linewidth=0, antialiased=False)\n",
    "        surf2 = ax1.plot_surface(X1, X0, f2, rstride=1, cstride=1, cmap='viridis', linewidth=0, antialiased=False)\n",
    "        fig1.colorbar(surf1, shrink=0.5, aspect=10)\n",
    "        # ==============\n",
    "        # Second subplot\n",
    "        # ==============\n",
    "        # set up the axes for the second plot\n",
    "        ax1 = fig1.add_subplot(1, 2, 2, projection='3d')\n",
    "        ax1.set_xlabel('x1')\n",
    "        ax1.set_ylabel('x0')\n",
    "        ax1.set_zlabel('f');\n",
    "        ax1.set_title(f\"Графіки функцій f1 і f2=0\");\n",
    "        #surf = ax1.plot_wireframe(X1, X0, f0, rstride=2, cstride=2)\n",
    "        ax1.plot_wireframe(X1, X0, f1, rstride=2, cstride=2)\n",
    "        ax1.plot_wireframe(X1, X0, f2, rstride=2, cstride=2)\n",
    "        \n",
    "        fig2 = plt.figure(figsize=plt.figaspect(0.5))\n",
    "        # =============\n",
    "        # First subplot\n",
    "        # =============\n",
    "        # set up the axes for the first plot\n",
    "        ax2 = fig2.add_subplot(1, 2, 1, projection='3d')\n",
    "        ax2.set_xlabel('x1')\n",
    "        ax2.set_ylabel('x0') \n",
    "        ax2.set_zlabel('f');\n",
    "        ax2.set_title(f\"Графіки функцій f0,f1 і f2=0\");\n",
    "        surf0 = ax2.plot_surface(X1, X0, f0, rstride=1, cstride=1, cmap='viridis', linewidth=0, antialiased=False)\n",
    "        surf1 = ax2.plot_surface(X1, X0, f1, rstride=1, cstride=1, cmap='viridis', linewidth=0, antialiased=False)\n",
    "        surf2 = ax2.plot_surface(X1, X0, f2, rstride=1, cstride=1, cmap='viridis', linewidth=0, antialiased=False)\n",
    "        fig2.colorbar(surf0, shrink=0.5, aspect=10)\n",
    "        # ==============\n",
    "        # Second subplot\n",
    "        # ==============\n",
    "        # set up the axes for the second plot\n",
    "        ax2 = fig2.add_subplot(1, 2, 2, projection='3d')\n",
    "        ax2.set_xlabel('x1')\n",
    "        ax2.set_ylabel('x0')\n",
    "        ax2.set_zlabel('f');\n",
    "        ax2.set_title(f\"Графіки функцій f0,f1 і f2=0\");\n",
    "        surf0 = ax2.plot_wireframe(X1, X0, f0, rstride=2, cstride=2)\n",
    "        surf1 = ax2.plot_wireframe(X1, X0, f1, rstride=2, cstride=2)\n",
    "        surf2 = ax2.plot_wireframe(X1, X0, f2, rstride=2, cstride=2)\n"
   ]
  },
  {
   "cell_type": "markdown",
   "metadata": {
    "tags": []
   },
   "source": [
    ">#### Допоміжні функції"
   ]
  },
  {
   "cell_type": "code",
   "execution_count": 4,
   "metadata": {
    "id": "jb5hlEr5QF1p"
   },
   "outputs": [],
   "source": [
    "def norm_3(a):\n",
    "    \"\"\"обчислення евклідової норми вектора a\"\"\"\n",
    "    return np.sqrt(np.sum(a**2))"
   ]
  },
  {
   "cell_type": "markdown",
   "metadata": {
    "tags": []
   },
   "source": [
    ">#### ``domain`` --  функція, яка запаковує в масив координати  лівої частини системи рівнянь (1) і правої частини системи рівнянь (2) відповідно "
   ]
  },
  {
   "cell_type": "code",
   "execution_count": 5,
   "metadata": {},
   "outputs": [],
   "source": [
    "def domain(a,b,c,d):\n",
    "    return np.array([[a,b],[c,d]])"
   ]
  },
  {
   "cell_type": "markdown",
   "metadata": {
    "tags": []
   },
   "source": [
    ">#### ``f`` і ``inverse_Jacobian_matrix`` -- векторна функція лівої частини рівняння (1) та обернена її матриці Якобі"
   ]
  },
  {
   "cell_type": "markdown",
   "metadata": {
    "tags": []
   },
   "source": [
    "#### Обчислювальні експерименти\n",
    "------------"
   ]
  },
  {
   "cell_type": "markdown",
   "metadata": {
    "tags": []
   },
   "source": [
    "Продемонструємо застосування методу Ньютона до розв'язування  систем двох нелінійних рівнянь."
   ]
  },
  {
   "cell_type": "markdown",
   "metadata": {},
   "source": [
    "**Приклад 1.** (приклад 3.8) Обчислити методом Ньютона розв'язок системи\n",
    "\n",
    "$\\left\\{\n",
    "   \\begin{array}{rcl}\n",
    "    4x_1-\\sin{x_2}+1&=&0,\\\\ \\\\\n",
    "         \\cos{x_1}-2x_2+3&=&0,\\\\\n",
    "   \\end{array}\n",
    "  \\right.\n",
    "$  $\\quad(x_1,x_2)^\\top \\in D $."
   ]
  },
  {
   "cell_type": "markdown",
   "metadata": {},
   "source": [
    "Нагадаємо, що у розділі 3 було обґрунтовано застосування іншого чисельного методу -- ітерацій -- до заданої системи в області \n",
    "$$\n",
    "D:=\\big\\{(x_1,x_2)^\\top \\in \\mathbb{R}^2 \\quad\\big| -\\dfrac{1}{2}\\leqslant x_1\\leqslant 0,\n",
    "\\text{ }1\\leqslant x_2\\leqslant 2\\big\\},\n",
    "$$\n",
    "де цим методом і було знайдено чисельний  розв'язок системи. \n",
    "Тому далі також будемо розглядати цю систему в ``D`` і  задавати початкове наближення ``x0`` всередині цієї області. "
   ]
  },
  {
   "cell_type": "markdown",
   "metadata": {
    "tags": []
   },
   "source": [
    "Визначимо векторну функцію, яка задає ліву частину системи (1), і функцію, яка повертає обернену матрицю для якобіана лівої частини: "
   ]
  },
  {
   "cell_type": "code",
   "execution_count": 6,
   "metadata": {},
   "outputs": [],
   "source": [
    "def f(x):\n",
    "    \"\"\"функції лівої частини системи рівнянь (1)\"\"\"\n",
    "    f0 = 4*x[0] - np.sin(x[1]) + 1\n",
    "    f1 = np.cos(x[0]) - 2*x[1] + 3 \n",
    "    return np.array([f0,f1])\n",
    "\n",
    "def inverse_Jacobian_matrix(x):\n",
    "    \"\"\"обернена матриця якобіана лівої частини рівняння (1)\"\"\"\n",
    "    df00 = 4\n",
    "    df01 = - np.cos(x[1])\n",
    "    df10 = - np.sin(x[0])\n",
    "    df11 =-2\n",
    "    invJ = linalg.inv(np.array([[df00, df01],[df10, df11]]))\n",
    "    return invJ"
   ]
  },
  {
   "cell_type": "markdown",
   "metadata": {
    "tags": []
   },
   "source": [
    "Побудуємо області ``D``  графіки функцій лівої частини системи рівнянь-- спочатку кожну з них окремо, щоб бачити лінії їхнього перетину площини $x_3=0$, а потім разом на одній графічній панелі. Щоб мати змогу скористатися функцією  ``D3_plotter``, спочатку дещо змінимо реалізацію функції ``f`` (назвавши її ``ff``), щоб вона задовольняла інтерфейс функції ``D3_plotter``:"
   ]
  },
  {
   "cell_type": "code",
   "execution_count": 7,
   "metadata": {},
   "outputs": [],
   "source": [
    "def ff(x0,x1):\n",
    "    \"\"\"функції лівої частини системи рівнянь (1)\"\"\"\n",
    "    f0 = x0 - (np.sin(x1)-1)/4\n",
    "    f1 = x1 - (np.cos(x0)+3)/2 \n",
    "    return f0,f1"
   ]
  },
  {
   "cell_type": "code",
   "execution_count": 8,
   "metadata": {},
   "outputs": [
    {
     "name": "stdout",
     "output_type": "stream",
     "text": [
      "x0=[-0.25  -0.225 -0.2   -0.175 -0.15  -0.125 -0.1   -0.075 -0.05  -0.025\n",
      "  0.   ]\n",
      "x1=[1.  1.1 1.2 1.3 1.4 1.5 1.6 1.7 1.8 1.9 2. ]\n"
     ]
    },
    {
     "data": {
      "application/vnd.jupyter.widget-view+json": {
       "model_id": "cd94bbf3acbc4e818297757e0bb89fc2",
       "version_major": 2,
       "version_minor": 0
      },
      "text/plain": [
       "Canvas(toolbar=Toolbar(toolitems=[('Home', 'Reset original view', 'home', 'home'), ('Back', 'Back to previous …"
      ]
     },
     "metadata": {},
     "output_type": "display_data"
    },
    {
     "data": {
      "application/vnd.jupyter.widget-view+json": {
       "model_id": "659df3fd674f44569f3d664ab3bbb648",
       "version_major": 2,
       "version_minor": 0
      },
      "text/plain": [
       "Canvas(toolbar=Toolbar(toolitems=[('Home', 'Reset original view', 'home', 'home'), ('Back', 'Back to previous …"
      ]
     },
     "metadata": {},
     "output_type": "display_data"
    },
    {
     "data": {
      "application/vnd.jupyter.widget-view+json": {
       "model_id": "d249576fc6ca456ca720628e8d3af604",
       "version_major": 2,
       "version_minor": 0
      },
      "text/plain": [
       "Canvas(toolbar=Toolbar(toolitems=[('Home', 'Reset original view', 'home', 'home'), ('Back', 'Back to previous …"
      ]
     },
     "metadata": {},
     "output_type": "display_data"
    }
   ],
   "source": [
    "D = domain(-0.25,0,1,2)\n",
    "N0=10\n",
    "N1=10\n",
    "D3_plotter(ff, D, N0, N1)"
   ]
  },
  {
   "cell_type": "markdown",
   "metadata": {},
   "source": [
    "Зауважимо, що отримані графіки інтерактивні, їх можна обертати за допомогою мишки для динамічної зміни кута зору. "
   ]
  },
  {
   "cell_type": "markdown",
   "metadata": {
    "tags": []
   },
   "source": [
    "На основі отриманих графіків можемо зробити висновок про існування розв'язків системи. Після задання значень початкового наближення ``x0``(такого ж, як і при застосуванні методу простої ітерації) та обмеження на кількість ітерацій ``kmax`` знайдемо чисельний розв'язок при різних значеннях параметра ``eps``:"
   ]
  },
  {
   "cell_type": "code",
   "execution_count": 9,
   "metadata": {},
   "outputs": [],
   "source": [
    "x0=np.array([-0.5 , 2])\n",
    "kmax = 100"
   ]
  },
  {
   "cell_type": "code",
   "execution_count": 10,
   "metadata": {},
   "outputs": [
    {
     "name": "stdout",
     "output_type": "stream",
     "text": [
      "Чисельний розв'язок системи рівнянь x=[-0.02266229  1.99987163] з точністю eps=0.001 за k=3 ітерацій\n"
     ]
    }
   ],
   "source": [
    "eps=0.001\n",
    "k, xk = Newton_iteration(f, inverse_Jacobian_matrix, x0, eps,kmax)\n",
    "print(f\"Чисельний розв'язок системи рівнянь x={xk} з точністю eps={eps} за k={k} ітерацій\")"
   ]
  },
  {
   "cell_type": "code",
   "execution_count": 11,
   "metadata": {},
   "outputs": [
    {
     "name": "stdout",
     "output_type": "stream",
     "text": [
      "Чисельний розв'язок системи рівнянь x=[-0.02266229  1.99987161] з точністю eps=1e-07 за k=4 ітерацій\n"
     ]
    }
   ],
   "source": [
    "eps=0.0000001\n",
    "k, xk = Newton_iteration(f, inverse_Jacobian_matrix, x0, eps,kmax)\n",
    "print(f\"Чисельний розв'язок системи рівнянь x={xk} з точністю eps={eps} за k={k} ітерацій\")"
   ]
  },
  {
   "cell_type": "code",
   "execution_count": 12,
   "metadata": {},
   "outputs": [
    {
     "name": "stdout",
     "output_type": "stream",
     "text": [
      "Чисельний розв'язок системи рівнянь x=[-0.02266229  1.99987161] з точністю eps=1e-09 за k=5 ітерацій\n"
     ]
    }
   ],
   "source": [
    "eps=0.000000001\n",
    "k, xk = Newton_iteration(f, inverse_Jacobian_matrix, x0, eps,kmax)\n",
    "print(f\"Чисельний розв'язок системи рівнянь x={xk} з точністю eps={eps} за k={k} ітерацій\")"
   ]
  },
  {
   "cell_type": "markdown",
   "metadata": {},
   "source": [
    "Можна переконатися, що при заданні інших початкових наближень з області $D$ ітераційний процес також збігатиметься:"
   ]
  },
  {
   "cell_type": "code",
   "execution_count": 13,
   "metadata": {},
   "outputs": [],
   "source": [
    "x0=np.array([0, 1])\n",
    "kmax = 100"
   ]
  },
  {
   "cell_type": "code",
   "execution_count": 14,
   "metadata": {},
   "outputs": [
    {
     "name": "stdout",
     "output_type": "stream",
     "text": [
      "Чисельний розв'язок системи рівнянь x=[-0.02266229  1.99987161] з точністю eps=0.001 за k=4 ітерацій\n"
     ]
    }
   ],
   "source": [
    "eps=0.001\n",
    "k, xk = Newton_iteration(f, inverse_Jacobian_matrix, x0, eps,kmax)\n",
    "print(f\"Чисельний розв'язок системи рівнянь x={xk} з точністю eps={eps} за k={k} ітерацій\")"
   ]
  },
  {
   "cell_type": "code",
   "execution_count": 15,
   "metadata": {},
   "outputs": [
    {
     "name": "stdout",
     "output_type": "stream",
     "text": [
      "Чисельний розв'язок системи рівнянь x=[-0.02266229  1.99987161] з точністю eps=1e-07 за k=5 ітерацій\n"
     ]
    }
   ],
   "source": [
    "eps=0.0000001\n",
    "k, xk = Newton_iteration(f, inverse_Jacobian_matrix, x0, eps,kmax)\n",
    "print(f\"Чисельний розв'язок системи рівнянь x={xk} з точністю eps={eps} за k={k} ітерацій\")"
   ]
  },
  {
   "cell_type": "markdown",
   "metadata": {},
   "source": [
    "Порівнюючи з методом простої ітерації бачимо, що для цього прикладу задана точність досягається за меншу кількість ітерацій."
   ]
  },
  {
   "cell_type": "markdown",
   "metadata": {
    "tags": []
   },
   "source": [
    "**Приклад 2.** (приклад 3.9м) Обчислити методом Ньютона розв'язок системи\n",
    "\n",
    "$  \\left\\{\n",
    "     \\begin{array}{ll}\n",
    "      x_1^2-2x_2+3=0,\\\\\n",
    "    2x_1+3x_2^2-8=0.\n",
    "     \\end{array}\n",
    "   \\right. \n",
    "$"
   ]
  },
  {
   "cell_type": "markdown",
   "metadata": {
    "tags": []
   },
   "source": [
    "Визначимо векторну функцію, яка задає ліву частину системи, і функцію, яка повертає обернену матрицю якобіана лівої частини: "
   ]
  },
  {
   "cell_type": "code",
   "execution_count": 16,
   "metadata": {},
   "outputs": [],
   "source": [
    "def f(x):\n",
    "    \"\"\"функції лівої частини системи рівнянь (1)\"\"\"\n",
    "    f0 = x[0]**2 - 2*x[1] + 3\n",
    "    f1 = 2*x[0] + 3*x[1]**2 - 8 \n",
    "    return np.array([f0,f1])\n",
    "\n",
    "def inverse_Jacobian_matrix(x):\n",
    "    \"\"\"обернена матриця якобіана лівої частини рівняння (1)\"\"\"\n",
    "    df00 = 2*x[0]\n",
    "    df01 = -2\n",
    "    df10 = 2\n",
    "    df11 = 6*x[1]\n",
    "    invJ = linalg.inv(np.array([[df00, df01],[df10, df11]]))\n",
    "    return invJ"
   ]
  },
  {
   "cell_type": "markdown",
   "metadata": {
    "tags": []
   },
   "source": [
    "Як і в попередньому прикладі, дещо змінимо реалізацію функції ``f`` і побудуємо її графіки: "
   ]
  },
  {
   "cell_type": "code",
   "execution_count": 17,
   "metadata": {},
   "outputs": [],
   "source": [
    "def ff2(x0,x1):\n",
    "    \"\"\"функції лівої частини системи рівнянь (1)\"\"\"\n",
    "    f0 = x0**2 - 2*x1 + 3\n",
    "    f1 = 2*x0 + 3*x1**2 - 8 \n",
    "    return f0,f1"
   ]
  },
  {
   "cell_type": "code",
   "execution_count": 18,
   "metadata": {},
   "outputs": [
    {
     "name": "stdout",
     "output_type": "stream",
     "text": [
      "x0=[0.  0.2 0.4 0.6 0.8 1.  1.2 1.4 1.6 1.8 2. ]\n",
      "x1=[0.  0.2 0.4 0.6 0.8 1.  1.2 1.4 1.6 1.8 2. ]\n"
     ]
    },
    {
     "data": {
      "application/vnd.jupyter.widget-view+json": {
       "model_id": "9893e1c51f1548c997200ab3fdc3ea66",
       "version_major": 2,
       "version_minor": 0
      },
      "text/plain": [
       "Canvas(toolbar=Toolbar(toolitems=[('Home', 'Reset original view', 'home', 'home'), ('Back', 'Back to previous …"
      ]
     },
     "metadata": {},
     "output_type": "display_data"
    },
    {
     "data": {
      "application/vnd.jupyter.widget-view+json": {
       "model_id": "d5554f494b594bba8e50bda14dc33068",
       "version_major": 2,
       "version_minor": 0
      },
      "text/plain": [
       "Canvas(toolbar=Toolbar(toolitems=[('Home', 'Reset original view', 'home', 'home'), ('Back', 'Back to previous …"
      ]
     },
     "metadata": {},
     "output_type": "display_data"
    },
    {
     "data": {
      "application/vnd.jupyter.widget-view+json": {
       "model_id": "47b42640809e4eac81f59a4385a33c08",
       "version_major": 2,
       "version_minor": 0
      },
      "text/plain": [
       "Canvas(toolbar=Toolbar(toolitems=[('Home', 'Reset original view', 'home', 'home'), ('Back', 'Back to previous …"
      ]
     },
     "metadata": {},
     "output_type": "display_data"
    }
   ],
   "source": [
    "D2 = domain( 0,2,0,2)\n",
    "N0=10\n",
    "N1=10\n",
    "D3_plotter(ff2, D2, N0, N1)"
   ]
  },
  {
   "cell_type": "markdown",
   "metadata": {
    "tags": []
   },
   "source": [
    "На основі отриманих графіків можемо зробити висновок про існування розв'язків системи і після задання значень початкового наближення ``x0`` і обмеження на кількість ітерацій ``kmax`` знайдемо чисельний розв'язок при різних значеннях параметра ``eps``: "
   ]
  },
  {
   "cell_type": "code",
   "execution_count": 19,
   "metadata": {},
   "outputs": [
    {
     "name": "stdout",
     "output_type": "stream",
     "text": [
      "Чисельний розв'язок системи рівнянь x=[0.34762643 1.56042166] з точністю eps=0.001 за k=4 ітерацій\n"
     ]
    }
   ],
   "source": [
    "kmax=100\n",
    "x0=np.array([1.01, 1.99])\n",
    "eps=0.001\n",
    "k, xk = Newton_iteration(f, inverse_Jacobian_matrix, x0, eps,kmax)\n",
    "print(f\"Чисельний розв'язок системи рівнянь x={xk} з точністю eps={eps} за k={k} ітерацій\")"
   ]
  },
  {
   "cell_type": "code",
   "execution_count": 20,
   "metadata": {},
   "outputs": [
    {
     "name": "stdout",
     "output_type": "stream",
     "text": [
      "Чисельний розв'язок системи рівнянь x=[0.34762568 1.56042181] з точністю eps=1e-05 за k=5 ітерацій\n"
     ]
    }
   ],
   "source": [
    "eps=0.00001\n",
    "k, xk = Newton_iteration(f, inverse_Jacobian_matrix, x0, eps,kmax)\n",
    "print(f\"Чисельний розв'язок системи рівнянь x={xk} з точністю eps={eps} за k={k} ітерацій\")"
   ]
  },
  {
   "cell_type": "code",
   "execution_count": 21,
   "metadata": {},
   "outputs": [
    {
     "name": "stdout",
     "output_type": "stream",
     "text": [
      "Чисельний розв'язок системи рівнянь x=[0.34762568 1.56042181] з точністю eps=1e-07 за k=6 ітерацій\n"
     ]
    }
   ],
   "source": [
    "eps=0.0000001\n",
    "k, xk = Newton_iteration(f, inverse_Jacobian_matrix, x0, eps,kmax)\n",
    "print(f\"Чисельний розв'язок системи рівнянь x={xk} з точністю eps={eps} за k={k} ітерацій\")"
   ]
  },
  {
   "cell_type": "markdown",
   "metadata": {},
   "source": [
    "Порахуємо чисельний розв'язок ще при іншому початковому наближенні:"
   ]
  },
  {
   "cell_type": "code",
   "execution_count": 22,
   "metadata": {},
   "outputs": [
    {
     "name": "stdout",
     "output_type": "stream",
     "text": [
      "Чисельний розв'язок системи рівнянь x=[0.34762582 1.56042178] з точністю eps=0.001 за k=5 ітерацій\n"
     ]
    }
   ],
   "source": [
    "eps=0.001\n",
    "kmax=100\n",
    "x0=np.array([0,1])\n",
    "k, xk = Newton_iteration(f, inverse_Jacobian_matrix, x0, eps,kmax)\n",
    "print(f\"Чисельний розв'язок системи рівнянь x={xk} з точністю eps={eps} за k={k} ітерацій\")"
   ]
  },
  {
   "cell_type": "markdown",
   "metadata": {},
   "source": [
    "Як бачимо, і в цьому випадку метод Ньютона демонструє свою ефективність."
   ]
  },
  {
   "cell_type": "markdown",
   "metadata": {
    "tags": []
   },
   "source": [
    "**Приклад 1.** (example 7.1) Обчислити методом Ньютона розв'язок системи\n",
    "\n",
    "$  \\left\\{\n",
    "     \\begin{array}{ll}\n",
    "      e^{x_1^2+x_2^2}=1,\\\\\n",
    "      e^{x_1^2-x_2^2}=1.\n",
    "     \\end{array}\n",
    "   \\right. \n",
    "$"
   ]
  },
  {
   "cell_type": "markdown",
   "metadata": {
    "tags": []
   },
   "source": [
    "Легко бачити, що розв'язком заданої системи є вектор $x=(0, 0)^\\top$, будемо використовувати його для аналізу чисельних розв'язків."
   ]
  },
  {
   "cell_type": "markdown",
   "metadata": {
    "tags": []
   },
   "source": [
    "Перепишемо систему у вигляді (1):\n",
    "\n",
    "$  \\left\\{\n",
    "     \\begin{array}{ll}\n",
    "      e^{x_1^2+x_2^2} - 1 = 0,\\\\\n",
    "      e^{x_1^2-x_2^2} - 1 = 0.\n",
    "     \\end{array}\n",
    "   \\right. \n",
    "$"
   ]
  },
  {
   "cell_type": "markdown",
   "metadata": {},
   "source": [
    "Як і в попередньому прикладі, визначимо потрібні функції:"
   ]
  },
  {
   "cell_type": "code",
   "execution_count": 23,
   "metadata": {},
   "outputs": [],
   "source": [
    "def f3(x):\n",
    "    \"\"\"функції лівої частини системи рівнянь (1)\"\"\"\n",
    "    f0 = np.exp(x[0]**2 + x[1]**2) - 1\n",
    "    f1 = np.exp(x[0]**2 - x[1]**2) - 1 \n",
    "    return np.array([f0,f1])\n",
    "\n",
    "def inverse_Jacobian_matrix(x):\n",
    "    \"\"\"обернена матриця якобіана лівої частини рівняння (1)\"\"\"\n",
    "    df00 = np.exp(x[0]**2 + x[1]**2)*2*x[0]\n",
    "    df01 = np.exp(x[0]**2 + x[1]**2)*2*x[1]\n",
    "    df10 = np.exp(x[0]**2 - x[1]**2)*2*x[0]\n",
    "    df11 =-np.exp(x[0]**2 - x[1]**2)*2*x[1]\n",
    "    invJ = linalg.inv(np.array([[df00, df01],[df10, df11]]))\n",
    "    return invJ"
   ]
  },
  {
   "cell_type": "markdown",
   "metadata": {},
   "source": [
    "Візуалізуємо поведінку заданих функцій за допомогою фукції ``D3_plotter``. Для узгодження з інтерфейсом цієї функції модифікуємо реалізацію функції ``f3``:"
   ]
  },
  {
   "cell_type": "code",
   "execution_count": 24,
   "metadata": {},
   "outputs": [],
   "source": [
    "def ff3(x0, x1):\n",
    "    \"\"\"функції лівої частини системи рівнянь (1)\"\"\"\n",
    "    f0 = np.exp(x0**2 + x1**2) - 1\n",
    "    f1 = np.exp(x0**2 - x1**2) - 1 \n",
    "    return f0,f1"
   ]
  },
  {
   "cell_type": "markdown",
   "metadata": {},
   "source": [
    "Тепер знайдемо чисельний розв'язок при різних значеннях параметра $eps$, попередньо задавши обмеження кількості операцій та початкове наближення:"
   ]
  },
  {
   "cell_type": "code",
   "execution_count": 25,
   "metadata": {},
   "outputs": [
    {
     "name": "stdout",
     "output_type": "stream",
     "text": [
      "x0=[-1.  -0.8 -0.6 -0.4 -0.2  0.   0.2  0.4  0.6  0.8  1. ]\n",
      "x1=[-1.  -0.8 -0.6 -0.4 -0.2  0.   0.2  0.4  0.6  0.8  1. ]\n"
     ]
    },
    {
     "data": {
      "application/vnd.jupyter.widget-view+json": {
       "model_id": "ff933e508d984b5ab0c3d12949313a1e",
       "version_major": 2,
       "version_minor": 0
      },
      "text/plain": [
       "Canvas(toolbar=Toolbar(toolitems=[('Home', 'Reset original view', 'home', 'home'), ('Back', 'Back to previous …"
      ]
     },
     "metadata": {},
     "output_type": "display_data"
    },
    {
     "data": {
      "application/vnd.jupyter.widget-view+json": {
       "model_id": "33ca261f992041af87843a3a05f9ab91",
       "version_major": 2,
       "version_minor": 0
      },
      "text/plain": [
       "Canvas(toolbar=Toolbar(toolitems=[('Home', 'Reset original view', 'home', 'home'), ('Back', 'Back to previous …"
      ]
     },
     "metadata": {},
     "output_type": "display_data"
    },
    {
     "data": {
      "application/vnd.jupyter.widget-view+json": {
       "model_id": "50314eed29bd498697e61d547be3a6c5",
       "version_major": 2,
       "version_minor": 0
      },
      "text/plain": [
       "Canvas(toolbar=Toolbar(toolitems=[('Home', 'Reset original view', 'home', 'home'), ('Back', 'Back to previous …"
      ]
     },
     "metadata": {},
     "output_type": "display_data"
    }
   ],
   "source": [
    "D3 = domain( -1,1,-1,1)\n",
    "N0=10\n",
    "N1=10\n",
    "D3_plotter(ff3, D3, N0, N1)"
   ]
  },
  {
   "cell_type": "markdown",
   "metadata": {},
   "source": [
    "З отриманих графіків очевидно, що окрім вектора $x=(0, 0)^\\top$ система немає більше розв'язків. Тому далі дослідимо, як чисельні розв'язки збігатимуться до цього вектора.\n",
    "\n",
    "Задамо обмеження на кількість ітерацій та початкове наближення і обчислимо чисельний розв'язок при кількох значеннях параметра ``eps``:"
   ]
  },
  {
   "cell_type": "code",
   "execution_count": 26,
   "metadata": {},
   "outputs": [],
   "source": [
    "kmax=100\n",
    "x0=np.array([0.1, 0.1])"
   ]
  },
  {
   "cell_type": "code",
   "execution_count": 27,
   "metadata": {},
   "outputs": [
    {
     "name": "stdout",
     "output_type": "stream",
     "text": [
      "Чисельний розв'язок системи рівнянь x=[0.00039585 0.00039585] з точністю eps=0.001 за k=8 ітерацій\n"
     ]
    }
   ],
   "source": [
    "eps=0.001\n",
    "k, xk = Newton_iteration(f3, inverse_Jacobian_matrix, x0, eps,kmax)\n",
    "print(f\"Чисельний розв'язок системи рівнянь x={xk} з точністю eps={eps} за k={k} ітерацій\")"
   ]
  },
  {
   "cell_type": "code",
   "execution_count": 28,
   "metadata": {},
   "outputs": [
    {
     "name": "stdout",
     "output_type": "stream",
     "text": [
      "Чисельний розв'язок системи рівнянь x=[6.18511692e-06 6.18511692e-06] з точністю eps=1e-05 за k=14 ітерацій\n"
     ]
    }
   ],
   "source": [
    "eps=0.00001\n",
    "k, xk = Newton_iteration(f3, inverse_Jacobian_matrix, x0, eps,kmax)\n",
    "print(f\"Чисельний розв'язок системи рівнянь x={xk} з точністю eps={eps} за k={k} ітерацій\")"
   ]
  },
  {
   "cell_type": "code",
   "execution_count": 29,
   "metadata": {},
   "outputs": [
    {
     "name": "stdout",
     "output_type": "stream",
     "text": [
      "Чисельний розв'язок системи рівнянь x=[4.82473408e-08 4.82472913e-08] з точністю eps=1e-07 за k=21 ітерацій\n"
     ]
    }
   ],
   "source": [
    "eps=0.0000001\n",
    "k, xk = Newton_iteration(f3, inverse_Jacobian_matrix, x0, eps,kmax)\n",
    "print(f\"Чисельний розв'язок системи рівнянь x={xk} з точністю eps={eps} за k={k} ітерацій\")"
   ]
  },
  {
   "cell_type": "markdown",
   "metadata": {},
   "source": [
    "Як бачимо, чисельний розв'язок заданої системи рівнянь досить швидко збігається до точного розв'язку. \n",
    "\n",
    "Якщо за початкове наближення взяти вектор правої частини, то для досягнення такої ж точності, як в попередньому випадку, треба виконати більше ітерацій:"
   ]
  },
  {
   "cell_type": "code",
   "execution_count": 30,
   "metadata": {},
   "outputs": [],
   "source": [
    "x0=np.array([1, 1])"
   ]
  },
  {
   "cell_type": "code",
   "execution_count": 31,
   "metadata": {},
   "outputs": [
    {
     "name": "stdout",
     "output_type": "stream",
     "text": [
      "Чисельний розв'язок системи рівнянь x=[0.00040068 0.00040068] з точністю eps=0.001 за k=13 ітерацій\n"
     ]
    }
   ],
   "source": [
    "eps=0.001\n",
    "k, xk = Newton_iteration(f3, inverse_Jacobian_matrix, x0, eps,kmax)\n",
    "print(f\"Чисельний розв'язок системи рівнянь x={xk} з точністю eps={eps} за k={k} ітерацій\")"
   ]
  },
  {
   "cell_type": "code",
   "execution_count": 32,
   "metadata": {},
   "outputs": [
    {
     "name": "stdout",
     "output_type": "stream",
     "text": [
      "Чисельний розв'язок системи рівнянь x=[6.26059772e-06 6.26059770e-06] з точністю eps=1e-05 за k=19 ітерацій\n"
     ]
    }
   ],
   "source": [
    "eps=0.00001\n",
    "k, xk = Newton_iteration(f3, inverse_Jacobian_matrix, x0, eps,kmax)\n",
    "print(f\"Чисельний розв'язок системи рівнянь x={xk} з точністю eps={eps} за k={k} ітерацій\")"
   ]
  },
  {
   "cell_type": "markdown",
   "metadata": {},
   "source": [
    "Зазначимо, що при грубшому початковому наближенні також матимемо збіжний процес, але, що слід було очікувати, кількість ітерацій значно зростає:"
   ]
  },
  {
   "cell_type": "code",
   "execution_count": 33,
   "metadata": {},
   "outputs": [],
   "source": [
    "kmax=200\n",
    "x0=np.array([5, 5])"
   ]
  },
  {
   "cell_type": "code",
   "execution_count": 34,
   "metadata": {},
   "outputs": [
    {
     "name": "stdout",
     "output_type": "stream",
     "text": [
      "Чисельний розв'язок системи рівнянь x=[0.00036503 0.00036503] з точністю eps=0.001 за k=62 ітерацій\n"
     ]
    }
   ],
   "source": [
    "eps=0.001\n",
    "k, xk = Newton_iteration(f3, inverse_Jacobian_matrix, x0, eps,kmax)\n",
    "print(f\"Чисельний розв'язок системи рівнянь x={xk} з точністю eps={eps} за k={k} ітерацій\")"
   ]
  },
  {
   "cell_type": "markdown",
   "metadata": {},
   "source": [
    "Разом з тим нагадаємо про обчислення оберненої матриці якобіана заданої функції ``f`` на кожному кроці методу Ньютона. Необхідною умовою такої операції є невиродженість матриці якобіана в точках області, через які проходитимуть ітерації. З вигляду якобіана очевидно, що викодження буде при попаданні на одну з осей координат. Зокрема з наступним початковим наближенням отримаємо повідомлення про зупинку обчислень через виродженість матриці якобіана:"
   ]
  },
  {
   "cell_type": "code",
   "execution_count": 35,
   "metadata": {},
   "outputs": [],
   "source": [
    "x0=np.array([0.1, 0])"
   ]
  },
  {
   "cell_type": "code",
   "execution_count": 36,
   "metadata": {},
   "outputs": [
    {
     "ename": "LinAlgError",
     "evalue": "singular matrix",
     "output_type": "error",
     "traceback": [
      "\u001b[1;31m---------------------------------------------------------------------------\u001b[0m",
      "\u001b[1;31mLinAlgError\u001b[0m                               Traceback (most recent call last)",
      "\u001b[1;32mC:\\Users\\AF9AD~1.MUZ\\AppData\\Local\\Temp/ipykernel_23428/2589559195.py\u001b[0m in \u001b[0;36m<module>\u001b[1;34m\u001b[0m\n\u001b[0;32m      1\u001b[0m \u001b[0meps\u001b[0m\u001b[1;33m=\u001b[0m\u001b[1;36m0.001\u001b[0m\u001b[1;33m\u001b[0m\u001b[1;33m\u001b[0m\u001b[0m\n\u001b[1;32m----> 2\u001b[1;33m \u001b[0mk\u001b[0m\u001b[1;33m,\u001b[0m \u001b[0mxk\u001b[0m \u001b[1;33m=\u001b[0m \u001b[0mNewton_iteration\u001b[0m\u001b[1;33m(\u001b[0m\u001b[0mf3\u001b[0m\u001b[1;33m,\u001b[0m \u001b[0minverse_Jacobian_matrix\u001b[0m\u001b[1;33m,\u001b[0m \u001b[0mx0\u001b[0m\u001b[1;33m,\u001b[0m \u001b[0meps\u001b[0m\u001b[1;33m,\u001b[0m\u001b[0mkmax\u001b[0m\u001b[1;33m)\u001b[0m\u001b[1;33m\u001b[0m\u001b[1;33m\u001b[0m\u001b[0m\n\u001b[0m\u001b[0;32m      3\u001b[0m \u001b[0mprint\u001b[0m\u001b[1;33m(\u001b[0m\u001b[1;34mf\"Чисельний розв'язок системи рівнянь x={xk} з точністю eps={eps} за k={k} ітерацій\"\u001b[0m\u001b[1;33m)\u001b[0m\u001b[1;33m\u001b[0m\u001b[1;33m\u001b[0m\u001b[0m\n",
      "\u001b[1;32mC:\\Users\\AF9AD~1.MUZ\\AppData\\Local\\Temp/ipykernel_23428/3102370629.py\u001b[0m in \u001b[0;36mNewton_iteration\u001b[1;34m(f, invJ, x0, eps, kmax)\u001b[0m\n\u001b[0;32m      9\u001b[0m     \u001b[0mk\u001b[0m\u001b[1;33m=\u001b[0m\u001b[1;36m1\u001b[0m\u001b[1;33m\u001b[0m\u001b[1;33m\u001b[0m\u001b[0m\n\u001b[0;32m     10\u001b[0m \u001b[1;33m\u001b[0m\u001b[0m\n\u001b[1;32m---> 11\u001b[1;33m     \u001b[0mx_new\u001b[0m \u001b[1;33m=\u001b[0m \u001b[0mx_prev\u001b[0m \u001b[1;33m-\u001b[0m \u001b[0minvJ\u001b[0m\u001b[1;33m(\u001b[0m\u001b[0mx_prev\u001b[0m\u001b[1;33m)\u001b[0m\u001b[1;33m.\u001b[0m\u001b[0mdot\u001b[0m\u001b[1;33m(\u001b[0m\u001b[0mf\u001b[0m\u001b[1;33m(\u001b[0m\u001b[0mx_prev\u001b[0m\u001b[1;33m)\u001b[0m\u001b[1;33m)\u001b[0m\u001b[1;33m\u001b[0m\u001b[1;33m\u001b[0m\u001b[0m\n\u001b[0m\u001b[0;32m     12\u001b[0m \u001b[1;33m\u001b[0m\u001b[0m\n\u001b[0;32m     13\u001b[0m     \u001b[1;32mwhile\u001b[0m \u001b[0mnorm_3\u001b[0m\u001b[1;33m(\u001b[0m\u001b[0mx_new\u001b[0m\u001b[1;33m-\u001b[0m\u001b[0mx_prev\u001b[0m\u001b[1;33m)\u001b[0m \u001b[1;33m>\u001b[0m \u001b[0meps\u001b[0m \u001b[1;32mand\u001b[0m \u001b[0mk\u001b[0m\u001b[1;33m<\u001b[0m\u001b[0mkmax\u001b[0m\u001b[1;33m:\u001b[0m\u001b[1;33m\u001b[0m\u001b[1;33m\u001b[0m\u001b[0m\n",
      "\u001b[1;32mC:\\Users\\AF9AD~1.MUZ\\AppData\\Local\\Temp/ipykernel_23428/1451067752.py\u001b[0m in \u001b[0;36minverse_Jacobian_matrix\u001b[1;34m(x)\u001b[0m\n\u001b[0;32m     11\u001b[0m     \u001b[0mdf10\u001b[0m \u001b[1;33m=\u001b[0m \u001b[0mnp\u001b[0m\u001b[1;33m.\u001b[0m\u001b[0mexp\u001b[0m\u001b[1;33m(\u001b[0m\u001b[0mx\u001b[0m\u001b[1;33m[\u001b[0m\u001b[1;36m0\u001b[0m\u001b[1;33m]\u001b[0m\u001b[1;33m**\u001b[0m\u001b[1;36m2\u001b[0m \u001b[1;33m-\u001b[0m \u001b[0mx\u001b[0m\u001b[1;33m[\u001b[0m\u001b[1;36m1\u001b[0m\u001b[1;33m]\u001b[0m\u001b[1;33m**\u001b[0m\u001b[1;36m2\u001b[0m\u001b[1;33m)\u001b[0m\u001b[1;33m*\u001b[0m\u001b[1;36m2\u001b[0m\u001b[1;33m*\u001b[0m\u001b[0mx\u001b[0m\u001b[1;33m[\u001b[0m\u001b[1;36m0\u001b[0m\u001b[1;33m]\u001b[0m\u001b[1;33m\u001b[0m\u001b[1;33m\u001b[0m\u001b[0m\n\u001b[0;32m     12\u001b[0m     \u001b[0mdf11\u001b[0m \u001b[1;33m=\u001b[0m\u001b[1;33m-\u001b[0m\u001b[0mnp\u001b[0m\u001b[1;33m.\u001b[0m\u001b[0mexp\u001b[0m\u001b[1;33m(\u001b[0m\u001b[0mx\u001b[0m\u001b[1;33m[\u001b[0m\u001b[1;36m0\u001b[0m\u001b[1;33m]\u001b[0m\u001b[1;33m**\u001b[0m\u001b[1;36m2\u001b[0m \u001b[1;33m-\u001b[0m \u001b[0mx\u001b[0m\u001b[1;33m[\u001b[0m\u001b[1;36m1\u001b[0m\u001b[1;33m]\u001b[0m\u001b[1;33m**\u001b[0m\u001b[1;36m2\u001b[0m\u001b[1;33m)\u001b[0m\u001b[1;33m*\u001b[0m\u001b[1;36m2\u001b[0m\u001b[1;33m*\u001b[0m\u001b[0mx\u001b[0m\u001b[1;33m[\u001b[0m\u001b[1;36m1\u001b[0m\u001b[1;33m]\u001b[0m\u001b[1;33m\u001b[0m\u001b[1;33m\u001b[0m\u001b[0m\n\u001b[1;32m---> 13\u001b[1;33m     \u001b[0minvJ\u001b[0m \u001b[1;33m=\u001b[0m \u001b[0mlinalg\u001b[0m\u001b[1;33m.\u001b[0m\u001b[0minv\u001b[0m\u001b[1;33m(\u001b[0m\u001b[0mnp\u001b[0m\u001b[1;33m.\u001b[0m\u001b[0marray\u001b[0m\u001b[1;33m(\u001b[0m\u001b[1;33m[\u001b[0m\u001b[1;33m[\u001b[0m\u001b[0mdf00\u001b[0m\u001b[1;33m,\u001b[0m \u001b[0mdf01\u001b[0m\u001b[1;33m]\u001b[0m\u001b[1;33m,\u001b[0m\u001b[1;33m[\u001b[0m\u001b[0mdf10\u001b[0m\u001b[1;33m,\u001b[0m \u001b[0mdf11\u001b[0m\u001b[1;33m]\u001b[0m\u001b[1;33m]\u001b[0m\u001b[1;33m)\u001b[0m\u001b[1;33m)\u001b[0m\u001b[1;33m\u001b[0m\u001b[1;33m\u001b[0m\u001b[0m\n\u001b[0m\u001b[0;32m     14\u001b[0m     \u001b[1;32mreturn\u001b[0m \u001b[0minvJ\u001b[0m\u001b[1;33m\u001b[0m\u001b[1;33m\u001b[0m\u001b[0m\n",
      "\u001b[1;32m~\\anaconda3\\lib\\site-packages\\scipy\\linalg\\basic.py\u001b[0m in \u001b[0;36minv\u001b[1;34m(a, overwrite_a, check_finite)\u001b[0m\n\u001b[0;32m    966\u001b[0m         \u001b[0minv_a\u001b[0m\u001b[1;33m,\u001b[0m \u001b[0minfo\u001b[0m \u001b[1;33m=\u001b[0m \u001b[0mgetri\u001b[0m\u001b[1;33m(\u001b[0m\u001b[0mlu\u001b[0m\u001b[1;33m,\u001b[0m \u001b[0mpiv\u001b[0m\u001b[1;33m,\u001b[0m \u001b[0mlwork\u001b[0m\u001b[1;33m=\u001b[0m\u001b[0mlwork\u001b[0m\u001b[1;33m,\u001b[0m \u001b[0moverwrite_lu\u001b[0m\u001b[1;33m=\u001b[0m\u001b[1;36m1\u001b[0m\u001b[1;33m)\u001b[0m\u001b[1;33m\u001b[0m\u001b[1;33m\u001b[0m\u001b[0m\n\u001b[0;32m    967\u001b[0m     \u001b[1;32mif\u001b[0m \u001b[0minfo\u001b[0m \u001b[1;33m>\u001b[0m \u001b[1;36m0\u001b[0m\u001b[1;33m:\u001b[0m\u001b[1;33m\u001b[0m\u001b[1;33m\u001b[0m\u001b[0m\n\u001b[1;32m--> 968\u001b[1;33m         \u001b[1;32mraise\u001b[0m \u001b[0mLinAlgError\u001b[0m\u001b[1;33m(\u001b[0m\u001b[1;34m\"singular matrix\"\u001b[0m\u001b[1;33m)\u001b[0m\u001b[1;33m\u001b[0m\u001b[1;33m\u001b[0m\u001b[0m\n\u001b[0m\u001b[0;32m    969\u001b[0m     \u001b[1;32mif\u001b[0m \u001b[0minfo\u001b[0m \u001b[1;33m<\u001b[0m \u001b[1;36m0\u001b[0m\u001b[1;33m:\u001b[0m\u001b[1;33m\u001b[0m\u001b[1;33m\u001b[0m\u001b[0m\n\u001b[0;32m    970\u001b[0m         raise ValueError('illegal value in %d-th argument of internal '\n",
      "\u001b[1;31mLinAlgError\u001b[0m: singular matrix"
     ]
    }
   ],
   "source": [
    "eps=0.001\n",
    "k, xk = Newton_iteration(f3, inverse_Jacobian_matrix, x0, eps,kmax)\n",
    "print(f\"Чисельний розв'язок системи рівнянь x={xk} з точністю eps={eps} за k={k} ітерацій\")"
   ]
  },
  {
   "cell_type": "markdown",
   "metadata": {},
   "source": [
    "Зазначимо, що тут була роглянута найпростіша реалізація методу Ньютона. Їснують різні варіанти цього методу, які дають змогу ефективно шукати чисельні розв'язки для різних випадків нелінійних рівнянь."
   ]
  },
  {
   "cell_type": "code",
   "execution_count": null,
   "metadata": {},
   "outputs": [],
   "source": []
  }
 ],
 "metadata": {
  "kernelspec": {
   "display_name": "Python 3 (ipykernel)",
   "language": "python",
   "name": "python3"
  },
  "language_info": {
   "codemirror_mode": {
    "name": "ipython",
    "version": 3
   },
   "file_extension": ".py",
   "mimetype": "text/x-python",
   "name": "python",
   "nbconvert_exporter": "python",
   "pygments_lexer": "ipython3",
   "version": "3.9.7"
  }
 },
 "nbformat": 4,
 "nbformat_minor": 4
}
