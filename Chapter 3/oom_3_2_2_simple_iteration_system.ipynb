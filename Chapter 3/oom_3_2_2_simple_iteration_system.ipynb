{
 "cells": [
  {
   "cell_type": "markdown",
   "metadata": {},
   "source": [
    "# 3.2. Розв'язування систем нелінійних рівнянь\n",
    "------------"
   ]
  },
  {
   "cell_type": "markdown",
   "metadata": {},
   "source": [
    "Розглянемо нелінійну систему рівнянь\n",
    "\n",
    "$(1)\\qquad\\qquad\\qquad\n",
    "   \\begin{cases}\n",
    "    f_1(x_1,\\ldots,x_n)=0 \\\\\n",
    "    \\qquad \\ldots \\\\\n",
    "    f_n(x_1,\\ldots,x_n) = 0\n",
    "   \\end{cases} \\quad \\Leftrightarrow \\quad f(x)=0,\n",
    "$\n",
    "\n",
    "де $f_1,\\ldots,f_n$ --- визначені на деякій множині $D\\subset \\mathbb{R}^n$ функції, а \n",
    "\n",
    "$\\qquad\\qquad\\qquad\n",
    "f(x):=\\begin{pmatrix}  f_1(x_1,\\ldots,x_n) \\\\\n",
    "    \\ldots \\\\\n",
    "    f_n(x_1,\\ldots,x_n)\n",
    "    \\end{pmatrix},\\ x=\\begin{pmatrix}x_1\\\\ \\ldots\\\\\n",
    "x_n\\end{pmatrix} \\in D,\\quad \\text{ ---  векторна функція}.$"
   ]
  },
  {
   "cell_type": "markdown",
   "metadata": {
    "tags": []
   },
   "source": [
    "### 3.2.2. Метод простої ітерації\n",
    "--------------\n",
    "Запишемо систему рівнянь (1) у вигляді\n",
    "\n",
    "$(2)\\qquad\\qquad\\qquad\n",
    "\\left\\{\n",
    "   \\begin{array}{rcl}\n",
    "    x_1 = g_1(x_1,\\ldots,x_n)\\\\\n",
    "    \\qquad \\ldots \\\\\n",
    "    x_n = g_n(x_1,\\ldots,x_n)\\\\\n",
    "   \\end{array}\n",
    "\\right. \\quad \\Leftrightarrow \\quad x:=g(x).\n",
    "$\n",
    " "
   ]
  },
  {
   "cell_type": "markdown",
   "metadata": {},
   "source": [
    "Побудуємо послідовність\n",
    "\n",
    "$\\qquad\\qquad\\qquad\n",
    "x^0=\\left(\\begin{matrix}x_1^0\\\\\\ldots \\\\ x_n^0\\end{matrix}\\right),\\\n",
    "x^1=\\left(\\begin{matrix}x_1^1\\\\\\ldots \\\\ x_n^1\\end{matrix}\\right),\\ \\ldots, \\\n",
    "x^k=\\left(\\begin{matrix}x_1^k\\\\\\ldots \\\\ x_n^k\\end{matrix}\\right),\\\n",
    "x^{k+1}=\\left(\\begin{matrix}x_1^{k+1}\\\\\\ldots \\\\ x_n^{k+1}\\end{matrix}\\right), \\ldots,\n",
    "$\n",
    "\n",
    " за правилом:\n",
    " \n",
    " \n",
    "$x^0\\in D $ --  початкове наближення, яке довільно вибирають, а решту членів знаходять за рекурентним співвідношенням\n",
    "\n",
    "$\\qquad\\qquad\\qquad\n",
    " x^{k+1}:=g(x^k) \\quad \\Leftrightarrow \\quad\n",
    " \\begin{cases}\n",
    "  x^{k+1}_1:=g_1(x^k_1,\\ldots,x^k_n)\\\\\n",
    "    \\qquad \\ldots \\\\\n",
    "   x^{k+1}_n:=g_n(x^k_1,\\ldots,x^k_n)\n",
    "   \\end{cases},\n",
    " \\quad k\\in \\mathbb{N}\\cup\\{0\\}.\n",
    "$\n",
    "\n",
    "Цей процес називають *методом простих ітерацій*."
   ]
  },
  {
   "cell_type": "markdown",
   "metadata": {
    "tags": []
   },
   "source": [
    "#### Пояснення до використання програмного коду\n",
    "-----------------\n",
    "*   Підготувати середовище і потрібні функції : \n",
    "    1. виконати комірку для підготовки середовища\n",
    "    2. виконати комірку, де **визначена** функція ``simple_iteration`` \n",
    "    3. виконати комірки, де **визначена** функція ``g`` \n",
    "    \n",
    "*   Обчислити наближення  розв'язку системи\n",
    "    1. задати точність ``eps`` наближеного розв'язку і початкове наближення ``x0``\n",
    "    2. виконати комірку, де є **виклик** функції ``simple_iteration``"
   ]
  },
  {
   "cell_type": "code",
   "execution_count": 1,
   "metadata": {},
   "outputs": [],
   "source": [
    "# Підготовка середовища\n",
    "import numpy as np\n",
    "\n",
    "def norm_3(a):\n",
    "    \"\"\"обчислення евклідової норми вектора a\"\"\"\n",
    "    return np.sqrt(np.sum(a**2))"
   ]
  },
  {
   "cell_type": "markdown",
   "metadata": {},
   "source": [
    ">#### ``simple_iteration`` -- функція, яка реалізує метод простої ітерації "
   ]
  },
  {
   "cell_type": "code",
   "execution_count": 2,
   "metadata": {
    "colab": {
     "base_uri": "https://localhost:8080/"
    },
    "executionInfo": {
     "elapsed": 338,
     "status": "ok",
     "timestamp": 1629912431271,
     "user": {
      "displayName": "Anatoliy Muzychuk",
      "photoUrl": "",
      "userId": "02436432047169316818"
     },
     "user_tz": -180
    },
    "id": "c6TrJDY0PQGz",
    "outputId": "e915a7a1-5b99-4c21-a2fd-2cb036410d10"
   },
   "outputs": [],
   "source": [
    "def simple_iteration(g, x0, eps):\n",
    "    \"\"\" знаходження методом простої ітерації наближеного розв'язку системи рівнянь (1), \n",
    "        де g -- непервна векторна функція,  \n",
    "        x0 -- початкове наближення\n",
    "        eps -- задана точність\n",
    "    \"\"\"   \n",
    "    x_prev=x0.copy()\n",
    "    k=1\n",
    "    x_new =g(x_prev)\n",
    "    while norm_3(x_new-x_prev) > eps:\n",
    "        k+=1\n",
    "        x_prev = x_new\n",
    "        x_new = g(x_prev)  \n",
    "    return x_new,k"
   ]
  },
  {
   "cell_type": "markdown",
   "metadata": {
    "tags": []
   },
   "source": [
    ">#### ``g`` -- векторна функція правої частини системи рівнянь (2) "
   ]
  },
  {
   "cell_type": "code",
   "execution_count": 3,
   "metadata": {},
   "outputs": [],
   "source": [
    "def g(x):\n",
    "    \"\"\"функція правої частини системи рівнянь (2)\"\"\"\n",
    "    g0 = (np.sin(x[1])-1)/4\n",
    "    g1 = (np.cos(x[0])+3)/2 \n",
    "    return np.array([g0,g1])"
   ]
  },
  {
   "cell_type": "code",
   "execution_count": 6,
   "metadata": {},
   "outputs": [
    {
     "name": "stdout",
     "output_type": "stream",
     "text": [
      "Розв'язок системи рівнянь x=[-0.02266227  1.99987159] з точністю eps=1e-05 за k=5 ітерацій\n"
     ]
    }
   ],
   "source": [
    "#знаходження наближення розв'язку\n",
    "eps=0.00001\n",
    "x0=np.array([-0.25 , 1.5])\n",
    "x, k =simple_iteration(g, x0, eps)\n",
    "print(f\"Розв'язок системи рівнянь x={x} з точністю eps={eps} за k={k} ітерацій\")"
   ]
  },
  {
   "cell_type": "code",
   "execution_count": null,
   "metadata": {},
   "outputs": [],
   "source": []
  }
 ],
 "metadata": {
  "kernelspec": {
   "display_name": "Python 3 (ipykernel)",
   "language": "python",
   "name": "python3"
  },
  "language_info": {
   "codemirror_mode": {
    "name": "ipython",
    "version": 3
   },
   "file_extension": ".py",
   "mimetype": "text/x-python",
   "name": "python",
   "nbconvert_exporter": "python",
   "pygments_lexer": "ipython3",
   "version": "3.9.7"
  }
 },
 "nbformat": 4,
 "nbformat_minor": 4
}
