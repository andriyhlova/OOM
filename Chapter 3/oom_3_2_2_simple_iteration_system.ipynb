{
 "cells": [
  {
   "cell_type": "markdown",
   "metadata": {},
   "source": [
    "# 3.2. Розв'язування систем нелінійних рівнянь\n",
    "------------"
   ]
  },
  {
   "cell_type": "markdown",
   "metadata": {},
   "source": [
    "Розглянемо нелінійну систему рівнянь\n",
    "\n",
    "$(1)\\qquad\\qquad\\qquad\n",
    "   \\begin{cases}\n",
    "    f_1(x_1,\\ldots,x_n)=0 \\\\\n",
    "    \\qquad \\vdots \\\\\n",
    "    f_n(x_1,\\ldots,x_n) = 0\n",
    "   \\end{cases} \\quad \\Leftrightarrow \\quad f(x)=0,\n",
    "$\n",
    "\n",
    "де $f_1,\\ldots,f_n$ --- визначені на деякій множині $D\\subset \\mathbb{R}^n$ функції, а \n",
    "\n",
    "$\\qquad\\qquad\\qquad\n",
    "f(x):=\\begin{pmatrix}  f_1(x_1,\\ldots,x_n) \\\\\n",
    "    \\vdots \\\\\n",
    "    f_n(x_1,\\ldots,x_n)\n",
    "    \\end{pmatrix},\\ x=\\begin{pmatrix}x_1\\\\ \\vdots\\\\\n",
    "x_n\\end{pmatrix} \\in D,\\quad \\text{ ---  векторна функція}.$"
   ]
  },
  {
   "cell_type": "markdown",
   "metadata": {
    "tags": []
   },
   "source": [
    "### 3.2.2. Метод простої ітерації\n",
    "--------------\n",
    "Запишемо систему рівнянь (1) у вигляді\n",
    "\n",
    "$(2)\\qquad\\qquad\\qquad\n",
    "\\left\\{\n",
    "   \\begin{array}{rcl}\n",
    "    x_1 = g_1(x_1,\\ldots,x_n)\\\\\n",
    "     \\vdots  \\qquad \\qquad\\\\\n",
    "    x_n = g_n(x_1,\\ldots,x_n)\\\\\n",
    "   \\end{array}\n",
    "\\right. \\quad \\Leftrightarrow \\quad x:=g(x).\n",
    "$\n",
    " "
   ]
  },
  {
   "cell_type": "markdown",
   "metadata": {},
   "source": [
    "Побудуємо послідовність\n",
    "\n",
    "$\\qquad\\qquad\\qquad\n",
    "x^0=\\left(\\begin{matrix}x_1^0\\\\\\vdots \\\\ x_n^0\\end{matrix}\\right),\\\n",
    "x^1=\\left(\\begin{matrix}x_1^1\\\\\\vdots \\\\ x_n^1\\end{matrix}\\right),\\ \\ldots, \\\n",
    "x^k=\\left(\\begin{matrix}x_1^k\\\\\\vdots \\\\ x_n^k\\end{matrix}\\right),\\\n",
    "x^{k+1}=\\left(\\begin{matrix}x_1^{k+1}\\\\\\vdots \\\\ x_n^{k+1}\\end{matrix}\\right), \\ldots,\n",
    "$\n",
    "\n",
    " за правилом:\n",
    " \n",
    " \n",
    "$x^0\\in D $ --  початкове наближення, яке довільно вибирають, а решту членів знаходять за рекурентним співвідношенням\n",
    "\n",
    "$\\qquad\\qquad\\qquad\n",
    " x^{k+1}:=g(x^k) \\quad \\Leftrightarrow \\quad\n",
    " \\begin{cases}\n",
    "  x^{k+1}_1:=g_1(x^k_1,\\ldots,x^k_n)\\\\\n",
    "    \\qquad \\vdots \\\\\n",
    "   x^{k+1}_n:=g_n(x^k_1,\\ldots,x^k_n)\n",
    "   \\end{cases},\n",
    " \\quad k\\in \\mathbb{N}\\cup\\{0\\}.\n",
    "$\n",
    "\n",
    "Цей процес називають *методом простих ітерацій*. \n",
    "Застосуємо метод простих ітерацій для розв'язування систем, що складаються з двох нелінійних рівнянь, заданих на прямокутнику $D := [a,b] \\times [c,d]$. \n",
    "\n",
    "Зазначимо, що дослідження зазначених систем рівнянь (зокрема щодо задоволення достатніх для збіжності умов) є непростим завданням. Корисним у таких випадках може бути аналіз поведінки заданих нелінійних функцій на основі їхніх графіків, використовуючи для цього різні способи подання графіків. За рахунок такої візуалізації можна дати відповідь стосовно існування розв'язків системи, а також наочно побачити лінії перетину відповідних поверхонь і підібрати добре початкове наближення для чисельного розв'язку. В Jupyter-ноутбуках такі графічні побудови зручно виконувати на інтерактивних графічних панелях з використанням потужних графічних бібліотек, які дають змогу користувачеві переглядати зображення під різними кутами зору, динамічно змінюючи їх за допомогою мишки.    "
   ]
  },
  {
   "cell_type": "markdown",
   "metadata": {
    "tags": []
   },
   "source": [
    "#### Пояснення до використання програмного коду\n",
    "-----------------\n",
    "*   Підготувати середовище і потрібні функції : \n",
    "    1. виконати комірку для підготовки середовища\n",
    "    2. виконати комірки, де **визначені** функції ``simple_iteration`` і `D3_plotter`` \n",
    "     \n",
    "*   Обчислити чисельний розв'язок конкретної заданої системи\n",
    "    1. виконати комірки, в яких **визначені** функції ``f`` і ``g``\n",
    "    2. виконати комірку з **викликом** функції ``D3_plotter`` для побудови тривимірних графіків функції ``f`` і, аналізуючи лінії їхніх перетинів на площині $x_3=0$, задати початкове наближення ``x0``\n",
    "    3. задати точність ``eps`` чисельного розв'язку\n",
    "    4. виконати комірку з **викликом** функції ``simple_iteration``"
   ]
  },
  {
   "cell_type": "markdown",
   "metadata": {
    "tags": []
   },
   "source": [
    "#### Програмна реалізація методу\n",
    "------------"
   ]
  },
  {
   "cell_type": "markdown",
   "metadata": {
    "tags": []
   },
   "source": [
    ">#### Підготовка середовища"
   ]
  },
  {
   "cell_type": "code",
   "execution_count": 21,
   "metadata": {},
   "outputs": [],
   "source": [
    "%matplotlib widget\n",
    "import matplotlib.pyplot as plt\n",
    "import numpy as np\n",
    "from mpl_toolkits import mplot3d"
   ]
  },
  {
   "cell_type": "markdown",
   "metadata": {
    "tags": []
   },
   "source": [
    ">#### Допоміжна функція"
   ]
  },
  {
   "cell_type": "code",
   "execution_count": 22,
   "metadata": {},
   "outputs": [],
   "source": [
    "def norm_3(a):\n",
    "    \"\"\"обчислення евклідової норми вектора a\"\"\"\n",
    "    return np.sqrt(np.sum(a**2))"
   ]
  },
  {
   "cell_type": "markdown",
   "metadata": {
    "tags": []
   },
   "source": [
    ">#### ``simple_iteration`` -- функція, яка реалізує метод простої ітерації "
   ]
  },
  {
   "cell_type": "code",
   "execution_count": 23,
   "metadata": {
    "colab": {
     "base_uri": "https://localhost:8080/"
    },
    "executionInfo": {
     "elapsed": 338,
     "status": "ok",
     "timestamp": 1629912431271,
     "user": {
      "displayName": "Anatoliy Muzychuk",
      "photoUrl": "",
      "userId": "02436432047169316818"
     },
     "user_tz": -180
    },
    "id": "c6TrJDY0PQGz",
    "outputId": "e915a7a1-5b99-4c21-a2fd-2cb036410d10"
   },
   "outputs": [],
   "source": [
    "def simple_iteration(g, x0, eps, kmax):\n",
    "    \"\"\" знаходження методом простої ітерації наближеного розв'язку системи рівнянь (1), \n",
    "        де g -- непервна векторна функція,  \n",
    "        x0 -- початкове наближення\n",
    "        eps -- задана точність\n",
    "    \"\"\"   \n",
    "    x_prev=x0.copy()\n",
    "    k=1\n",
    "    x_new =g(x_prev)\n",
    "    while norm_3(x_new-x_prev) > eps and k<kmax:\n",
    "        k+=1\n",
    "        x_prev = x_new\n",
    "        x_new = g(x_prev)  \n",
    "    return k, x_new"
   ]
  },
  {
   "cell_type": "markdown",
   "metadata": {
    "tags": []
   },
   "source": [
    ">#### ``D3_plotter`` -- функція для побудови тривимірних графіків функції ``f`` "
   ]
  },
  {
   "cell_type": "code",
   "execution_count": 24,
   "metadata": {},
   "outputs": [],
   "source": [
    "def D3_plotter(f, D, N0, N1, plotting=True):\n",
    "    \"\"\"  \n",
    "    \"\"\"   \n",
    "    x0=np.linspace(D[0,0], D[0,1], N0+1)\n",
    "    x1=np.linspace(D[1,0], D[1,1], N1+1)  \n",
    "    print(f\"x0={x0}\")\n",
    "    print(f\"x1={x1}\")\n",
    "    \n",
    "    f0 = np.empty((N0+1,N1+1), dtype=float) \n",
    "    f1 = np.empty((N0+1,N1+1), dtype=float)\n",
    "    f2 = np.empty((N0+1,N1+1), dtype=float)\n",
    "    \n",
    "    for j in range(N1+1):\n",
    "        for i in range(N0+1): \n",
    "            f0[j,i],f1[j,i] = f(x0[i],x1[j])\n",
    "            f2[j,i] = 0\n",
    "    #print(f\"f0={f0}\")\n",
    "    #print(f\"f1={f1}\")\n",
    "           \n",
    "    if plotting :\n",
    "        X1, X0 = np.meshgrid(x1, x0)\n",
    "        # set up a figure twice as wide as it is tall\n",
    "        fig = plt.figure(figsize=plt.figaspect(0.5)) \n",
    "        # =============\n",
    "        # First subplot\n",
    "        # =============\n",
    "        # set up the axes for the first plot\n",
    "        ax = fig.add_subplot(1, 2, 1, projection='3d')\n",
    "        ax.set_xlabel('x1')\n",
    "        ax.set_ylabel('x0') \n",
    "        ax.set_zlabel('f');\n",
    "        ax.set_title(f\"Графіки функції f0 і f2=0\");\n",
    "        surf = ax.plot_surface(X1, X0, f0, rstride=1, cstride=1, cmap='viridis', linewidth=0, antialiased=False)\n",
    "        #surf = ax.plot_surface(X1, X0, f1, rstride=1, cstride=1, cmap='viridis', linewidth=0, antialiased=False)\n",
    "        ax.plot_surface(X1, X0, f2, rstride=1, cstride=1, cmap='viridis', linewidth=0, antialiased=False)\n",
    "        fig.colorbar(surf, shrink=0.5, aspect=10)\n",
    "        # ==============\n",
    "        # Second subplot\n",
    "        # ==============\n",
    "        # set up the axes for the second plot\n",
    "        ax = fig.add_subplot(1, 2, 2, projection='3d')\n",
    "        ax.set_xlabel('x1')\n",
    "        ax.set_ylabel('x0')\n",
    "        ax.set_zlabel('f');\n",
    "        ax.set_title(f\"Графіки функцій f0 і f2=0\");\n",
    "        surf = ax.plot_wireframe(X1, X0, f0, rstride=2, cstride=2)\n",
    "        #surf = ax.plot_wireframe(X1, X0, f1, rstride=2, cstride=2)\n",
    "        ax.plot_wireframe(X1, X0, f2, rstride=2, cstride=2)\n",
    "        \n",
    "        fig1 = plt.figure(figsize=plt.figaspect(0.5))\n",
    "        # =============\n",
    "        # First subplot\n",
    "        # =============\n",
    "        # set up the axes for the first plot\n",
    "        ax1 = fig1.add_subplot(1, 2, 1, projection='3d')\n",
    "        ax1.set_xlabel('x1')\n",
    "        ax1.set_ylabel('x0') \n",
    "        ax1.set_zlabel('f');\n",
    "        ax1.set_title(f\"Графіки функцій f1 і f2=0\");\n",
    "        #surf = ax1.plot_surface(X1, X0, f0, rstride=1, cstride=1, cmap='viridis', linewidth=0, antialiased=False)\n",
    "        surf1 = ax1.plot_surface(X1, X0, f1, rstride=1, cstride=1, cmap='viridis', linewidth=0, antialiased=False)\n",
    "        surf2 = ax1.plot_surface(X1, X0, f2, rstride=1, cstride=1, cmap='viridis', linewidth=0, antialiased=False)\n",
    "        fig1.colorbar(surf1, shrink=0.5, aspect=10)\n",
    "        # ==============\n",
    "        # Second subplot\n",
    "        # ==============\n",
    "        # set up the axes for the second plot\n",
    "        ax1 = fig1.add_subplot(1, 2, 2, projection='3d')\n",
    "        ax1.set_xlabel('x1')\n",
    "        ax1.set_ylabel('x0')\n",
    "        ax1.set_zlabel('f');\n",
    "        ax1.set_title(f\"Графіки функцій f1 і f2=0\");\n",
    "        #surf = ax1.plot_wireframe(X1, X0, f0, rstride=2, cstride=2)\n",
    "        ax1.plot_wireframe(X1, X0, f1, rstride=2, cstride=2)\n",
    "        ax1.plot_wireframe(X1, X0, f2, rstride=2, cstride=2)\n",
    "        \n",
    "        fig2 = plt.figure(figsize=plt.figaspect(0.5))\n",
    "        # =============\n",
    "        # First subplot\n",
    "        # =============\n",
    "        # set up the axes for the first plot\n",
    "        ax2 = fig2.add_subplot(1, 2, 1, projection='3d')\n",
    "        ax2.set_xlabel('x1')\n",
    "        ax2.set_ylabel('x0') \n",
    "        ax2.set_zlabel('f');\n",
    "        ax2.set_title(f\"Графіки функцій f0,f1 і f2=0\");\n",
    "        surf0 = ax2.plot_surface(X1, X0, f0, rstride=1, cstride=1, cmap='viridis', linewidth=0, antialiased=False)\n",
    "        surf1 = ax2.plot_surface(X1, X0, f1, rstride=1, cstride=1, cmap='viridis', linewidth=0, antialiased=False)\n",
    "        surf2 = ax2.plot_surface(X1, X0, f2, rstride=1, cstride=1, cmap='viridis', linewidth=0, antialiased=False)\n",
    "        fig2.colorbar(surf0, shrink=0.5, aspect=10)\n",
    "        # ==============\n",
    "        # Second subplot\n",
    "        # ==============\n",
    "        # set up the axes for the second plot\n",
    "        ax2 = fig2.add_subplot(1, 2, 2, projection='3d')\n",
    "        ax2.set_xlabel('x1')\n",
    "        ax2.set_ylabel('x0')\n",
    "        ax2.set_zlabel('f');\n",
    "        ax2.set_title(f\"Графіки функцій f0,f1 і f2=0\");\n",
    "        surf0 = ax2.plot_wireframe(X1, X0, f0, rstride=2, cstride=2)\n",
    "        surf1 = ax2.plot_wireframe(X1, X0, f1, rstride=2, cstride=2)\n",
    "        surf2 = ax2.plot_wireframe(X1, X0, f2, rstride=2, cstride=2)\n"
   ]
  },
  {
   "cell_type": "markdown",
   "metadata": {
    "tags": []
   },
   "source": [
    ">#### ``domain`` --  функція, яка запаковує в масив координати  лівої частини системи рівнянь (1) і правої частини системи рівнянь (2) відповідно "
   ]
  },
  {
   "cell_type": "code",
   "execution_count": 25,
   "metadata": {},
   "outputs": [],
   "source": [
    "def domain(a,b,c,d):\n",
    "    return np.array([[a,b],[c,d]])"
   ]
  },
  {
   "cell_type": "markdown",
   "metadata": {
    "tags": []
   },
   "source": [
    ">#### ``f`` і ``g`` -- векторні функції лівої частини системи рівнянь (1) і правої частини системи рівнянь (2) відповідно "
   ]
  },
  {
   "cell_type": "markdown",
   "metadata": {
    "tags": []
   },
   "source": [
    "#### Обчислювальні експерименти\n",
    "------------"
   ]
  },
  {
   "cell_type": "markdown",
   "metadata": {
    "tags": []
   },
   "source": [
    "Продемонструємо застосування методу простої ітерації до розв'язування  систем двох нелінійних рівнянь."
   ]
  },
  {
   "cell_type": "markdown",
   "metadata": {},
   "source": [
    "**Приклад 1.** (приклад 3.8) Обчислити методом простої ітерації розв'язок системи\n",
    "\n",
    "$\\left\\{\n",
    "   \\begin{array}{rcl}\n",
    "    4x_1-\\sin{x_2}+1&=&0,\\\\ \\\\\n",
    "         \\cos{x_1}-2x_2+3&=&0\\\\\n",
    "   \\end{array}\n",
    "  \\right.\n",
    "$,  $\\quad(x_1,x_2)^\\top \\in D $."
   ]
  },
  {
   "cell_type": "markdown",
   "metadata": {},
   "source": [
    "Запишемо систему у вигляді (2)\n",
    "\n",
    "$\n",
    "  \\left\\{\n",
    "   \\begin{array}{rcl}\n",
    "    x_1&=& 0.25\\sin{x_2}-0.25,\\\\\n",
    "     \\\\\n",
    "        x_2&=& 0.5\\cos{x_1}+1.5.\\\\\n",
    "   \\end{array}\n",
    "  \\right.\n",
    "  $"
   ]
  },
  {
   "cell_type": "markdown",
   "metadata": {},
   "source": [
    "У розділі 3, де було обґрунтовано метод ітерацій для заданої системи, визначено область \n",
    "$$\n",
    "D:=\\big\\{(x_1,x_2)^\\top \\in \\mathbb{R}^2 \\quad\\big| -\\dfrac{1}{2}\\leqslant x_1\\leqslant 0,\n",
    "\\text{ }1\\leqslant x_2\\leqslant 2\\big\\},\n",
    "$$\n",
    "яку функції $g_0$ і $g_2$ переводять саму в себе. \n",
    "Будемо задавати початкове наближення $x0$ всередині цієї області. "
   ]
  },
  {
   "cell_type": "markdown",
   "metadata": {},
   "source": [
    "Визначимо векторні функції $f$ і $g$:"
   ]
  },
  {
   "cell_type": "code",
   "execution_count": 26,
   "metadata": {},
   "outputs": [],
   "source": [
    "def f(x0,x1):\n",
    "    \"\"\"функції лівої частини системи рівнянь (1)\"\"\"\n",
    "    f0 = x0 - (np.sin(x1)-1)/4\n",
    "    f1 = x1 - (np.cos(x0)+3)/2 \n",
    "    return f0,f1\n",
    "def g(x):\n",
    "    \"\"\"функції правої частини системи рівнянь (2)\"\"\"\n",
    "    g0 = (np.sin(x[1])-1)/4\n",
    "    g1 = (np.cos(x[0])+3)/2 \n",
    "    return np.array([g0,g1])"
   ]
  },
  {
   "cell_type": "markdown",
   "metadata": {},
   "source": [
    "Задамо область $D$ і побудуємо графіки функцій лівої частини системи рівнянь-- спочатку кожну з них окремо, щоб бачити лінії їхнього перетину площини $x_3=0$, а потім разом на одній графічній панелі:"
   ]
  },
  {
   "cell_type": "code",
   "execution_count": 27,
   "metadata": {},
   "outputs": [
    {
     "name": "stdout",
     "output_type": "stream",
     "text": [
      "x0=[-0.25  -0.225 -0.2   -0.175 -0.15  -0.125 -0.1   -0.075 -0.05  -0.025\n",
      "  0.   ]\n",
      "x1=[1.  1.1 1.2 1.3 1.4 1.5 1.6 1.7 1.8 1.9 2. ]\n"
     ]
    },
    {
     "data": {
      "application/vnd.jupyter.widget-view+json": {
       "model_id": "1b3c9b55db4d4c95b1d6390d3294dd63",
       "version_major": 2,
       "version_minor": 0
      },
      "text/plain": [
       "Canvas(toolbar=Toolbar(toolitems=[('Home', 'Reset original view', 'home', 'home'), ('Back', 'Back to previous …"
      ]
     },
     "metadata": {},
     "output_type": "display_data"
    },
    {
     "data": {
      "application/vnd.jupyter.widget-view+json": {
       "model_id": "2b59e2a6b735470f87246bc2a19cae29",
       "version_major": 2,
       "version_minor": 0
      },
      "text/plain": [
       "Canvas(toolbar=Toolbar(toolitems=[('Home', 'Reset original view', 'home', 'home'), ('Back', 'Back to previous …"
      ]
     },
     "metadata": {},
     "output_type": "display_data"
    },
    {
     "data": {
      "application/vnd.jupyter.widget-view+json": {
       "model_id": "6d681a88a076487ea1057ddfa1d18068",
       "version_major": 2,
       "version_minor": 0
      },
      "text/plain": [
       "Canvas(toolbar=Toolbar(toolitems=[('Home', 'Reset original view', 'home', 'home'), ('Back', 'Back to previous …"
      ]
     },
     "metadata": {},
     "output_type": "display_data"
    }
   ],
   "source": [
    "D = domain(-0.25,0,1,2)\n",
    "N0=10\n",
    "N1=10\n",
    "D3_plotter(f, D, N0, N1)"
   ]
  },
  {
   "cell_type": "markdown",
   "metadata": {},
   "source": [
    "Зауважимо, що отримані графіки інтерактивні, їх можна обертати за допомогою мишки. Аналізуючи отримані зображення, можемо вибрати таке початкове наближення $x0$:"
   ]
  },
  {
   "cell_type": "code",
   "execution_count": 28,
   "metadata": {},
   "outputs": [],
   "source": [
    "x0=np.array([-0.05 , 1.8])"
   ]
  },
  {
   "cell_type": "markdown",
   "metadata": {},
   "source": [
    "Тепер знайдемо чисельний розв'язок при різних значеннях параметра $eps$:"
   ]
  },
  {
   "cell_type": "code",
   "execution_count": 29,
   "metadata": {},
   "outputs": [
    {
     "name": "stdout",
     "output_type": "stream",
     "text": [
      "Чисельний розв'язок системи рівнянь x=[-0.02267453  1.99987219] з точністю eps=0.001, обчислений за k=3 ітерацій\n"
     ]
    }
   ],
   "source": [
    "eps=0.001\n",
    "kmax=1000\n",
    "k, xk = simple_iteration(g, x0, eps,kmax)\n",
    "print(f\"Чисельний розв'язок системи рівнянь x={xk} з точністю eps={eps}, обчислений за k={k} ітерацій\")"
   ]
  },
  {
   "cell_type": "code",
   "execution_count": 30,
   "metadata": {},
   "outputs": [
    {
     "name": "stdout",
     "output_type": "stream",
     "text": [
      "Чисельний розв'язок системи рівнянь x=[-0.02266229  1.99987161] з точністю eps=1e-07, обчислений за k=6 ітерацій\n"
     ]
    }
   ],
   "source": [
    "eps=0.0000001\n",
    "k, xk = simple_iteration(g, x0, eps,kmax)\n",
    "print(f\"Чисельний розв'язок системи рівнянь x={xk} з точністю eps={eps}, обчислений за k={k} ітерацій\")"
   ]
  },
  {
   "cell_type": "code",
   "execution_count": 31,
   "metadata": {},
   "outputs": [
    {
     "name": "stdout",
     "output_type": "stream",
     "text": [
      "Чисельний розв'язок системи рівнянь x=[-0.02266229  1.99987161] з точністю eps=1e-09, обчислений за k=7 ітерацій\n"
     ]
    }
   ],
   "source": [
    "eps=0.000000001\n",
    "k, xk = simple_iteration(g, x0, eps,kmax)\n",
    "print(f\"Чисельний розв'язок системи рівнянь x={xk} з точністю eps={eps}, обчислений за k={k} ітерацій\")"
   ]
  },
  {
   "cell_type": "markdown",
   "metadata": {},
   "source": [
    "Можна переконатися, що при заданні інших початкових наближень з області $D$ ітераційний процес також збігатиметься:"
   ]
  },
  {
   "cell_type": "code",
   "execution_count": 32,
   "metadata": {},
   "outputs": [],
   "source": [
    "x0=np.array([0, 1.4])"
   ]
  },
  {
   "cell_type": "code",
   "execution_count": 33,
   "metadata": {},
   "outputs": [
    {
     "name": "stdout",
     "output_type": "stream",
     "text": [
      "Чисельний розв'язок системи рівнянь x=[-0.0226753   1.99987146] з точністю eps=0.001, обчислений за k=3 ітерацій\n"
     ]
    }
   ],
   "source": [
    "eps=0.001 \n",
    "k, xk = simple_iteration(g, x0, eps,kmax)\n",
    "print(f\"Чисельний розв'язок системи рівнянь x={xk} з точністю eps={eps}, обчислений за k={k} ітерацій\")"
   ]
  },
  {
   "cell_type": "code",
   "execution_count": 34,
   "metadata": {},
   "outputs": [
    {
     "name": "stdout",
     "output_type": "stream",
     "text": [
      "Чисельний розв'язок системи рівнянь x=[-0.02266229  1.99987161] з точністю eps=1e-07, обчислений за k=6 ітерацій\n"
     ]
    }
   ],
   "source": [
    "eps=0.0000001\n",
    "k, xk = simple_iteration(g, x0, eps,kmax)\n",
    "print(f\"Чисельний розв'язок системи рівнянь x={xk} з точністю eps={eps}, обчислений за k={k} ітерацій\")"
   ]
  },
  {
   "cell_type": "markdown",
   "metadata": {
    "tags": []
   },
   "source": [
    "**Приклад 2.** (приклад 3.9м) Обчислити методом простої ітерації розв'язок системи\n",
    "\n",
    "$  \\left\\{\n",
    "     \\begin{array}{ll}\n",
    "      x_1^2-2x_2+3=0,\\\\\n",
    "    2x_1+3x_2^2-8=0.\n",
    "     \\end{array}\n",
    "   \\right. \n",
    "$"
   ]
  },
  {
   "cell_type": "markdown",
   "metadata": {
    "tags": []
   },
   "source": [
    "Запишемо задану систему у придатному для ітерацій вигляді:\n",
    "\n",
    "$  \\left\\{\n",
    "     \\begin{array}{ll}\n",
    "    x_1 = -1.5 x_2^2 + 4,\\\\\n",
    "    x_2 =  0.5 x_1^2 + 1.5.\n",
    "     \\end{array}\n",
    "   \\right. \n",
    "$"
   ]
  },
  {
   "cell_type": "markdown",
   "metadata": {
    "tags": []
   },
   "source": [
    "Визначимо відповідні векторні функції для цих двох систем: "
   ]
  },
  {
   "cell_type": "code",
   "execution_count": 35,
   "metadata": {},
   "outputs": [],
   "source": [
    "def f2(x0,x1):\n",
    "    \"\"\"функції лівої частини системи рівнянь (1)\"\"\"\n",
    "    f0 = x0**2 - 2*x1 + 3\n",
    "    f1 = 2*x0 + 3*x1**2 - 8 \n",
    "    return f0,f1\n",
    "def g2(x):\n",
    "    \"\"\"функції правої частини системи рівнянь (2)\"\"\"\n",
    "    g0 = 3*x[0]  +  3*x[1]**2 - 8\n",
    "    g1 =   x[0]**2 -x[1] + 3 \n",
    "    return np.array([g0,g1])"
   ]
  },
  {
   "cell_type": "markdown",
   "metadata": {
    "tags": []
   },
   "source": [
    "Побудуємо графіки функцій лівої частини заданої системи рівнянь: "
   ]
  },
  {
   "cell_type": "code",
   "execution_count": 36,
   "metadata": {},
   "outputs": [
    {
     "name": "stdout",
     "output_type": "stream",
     "text": [
      "x0=[0.  0.2 0.4 0.6 0.8 1.  1.2 1.4 1.6 1.8 2. ]\n",
      "x1=[0.  0.2 0.4 0.6 0.8 1.  1.2 1.4 1.6 1.8 2. ]\n"
     ]
    },
    {
     "data": {
      "application/vnd.jupyter.widget-view+json": {
       "model_id": "ec42ed3c4ead4c679ada2a63a4c6bee4",
       "version_major": 2,
       "version_minor": 0
      },
      "text/plain": [
       "Canvas(toolbar=Toolbar(toolitems=[('Home', 'Reset original view', 'home', 'home'), ('Back', 'Back to previous …"
      ]
     },
     "metadata": {},
     "output_type": "display_data"
    },
    {
     "data": {
      "application/vnd.jupyter.widget-view+json": {
       "model_id": "68cd78bc3883400382add45d56a40503",
       "version_major": 2,
       "version_minor": 0
      },
      "text/plain": [
       "Canvas(toolbar=Toolbar(toolitems=[('Home', 'Reset original view', 'home', 'home'), ('Back', 'Back to previous …"
      ]
     },
     "metadata": {},
     "output_type": "display_data"
    },
    {
     "data": {
      "application/vnd.jupyter.widget-view+json": {
       "model_id": "8353e2519c7c4d879607efad9a608fd7",
       "version_major": 2,
       "version_minor": 0
      },
      "text/plain": [
       "Canvas(toolbar=Toolbar(toolitems=[('Home', 'Reset original view', 'home', 'home'), ('Back', 'Back to previous …"
      ]
     },
     "metadata": {},
     "output_type": "display_data"
    }
   ],
   "source": [
    "D2 = domain( 0,2,0,2)\n",
    "N0=10\n",
    "N1=10\n",
    "D3_plotter(f2, D2, N0, N1)"
   ]
  },
  {
   "cell_type": "markdown",
   "metadata": {
    "tags": []
   },
   "source": [
    "На основі отриманих графіків можемо зробити висновок про існування розв'язків системи і після задання значень початкового наближення ``x0``, точності ``eps`` і обмеження на кількість ітерацій ``kmax`` зробити спробу отримати чисельний розв'язок: "
   ]
  },
  {
   "cell_type": "code",
   "execution_count": 37,
   "metadata": {},
   "outputs": [
    {
     "name": "stdout",
     "output_type": "stream",
     "text": [
      "Чисельний розв'язок системи рівнянь x=[inf nan] з точністю eps=0.001, обчислений за k=13 ітерацій\n"
     ]
    },
    {
     "name": "stderr",
     "output_type": "stream",
     "text": [
      "C:\\Users\\AF9AD~1.MUZ\\AppData\\Local\\Temp/ipykernel_26572/3604055467.py:3: RuntimeWarning: overflow encountered in square\n",
      "  return np.sqrt(np.sum(a**2))\n",
      "C:\\Users\\AF9AD~1.MUZ\\AppData\\Local\\Temp/ipykernel_26572/3351566844.py:8: RuntimeWarning: overflow encountered in double_scalars\n",
      "  g0 = 3*x[0]  +  3*x[1]**2 - 8\n",
      "C:\\Users\\AF9AD~1.MUZ\\AppData\\Local\\Temp/ipykernel_26572/3351566844.py:9: RuntimeWarning: overflow encountered in double_scalars\n",
      "  g1 =   x[0]**2 -x[1] + 3\n",
      "C:\\Users\\AF9AD~1.MUZ\\AppData\\Local\\Temp/ipykernel_26572/3351566844.py:9: RuntimeWarning: invalid value encountered in double_scalars\n",
      "  g1 =   x[0]**2 -x[1] + 3\n",
      "C:\\Users\\AF9AD~1.MUZ\\AppData\\Local\\Temp/ipykernel_26572/1453803499.py:10: RuntimeWarning: invalid value encountered in subtract\n",
      "  while norm_3(x_new-x_prev) > eps and k<kmax:\n"
     ]
    }
   ],
   "source": [
    "x0 = np.array([0.3, 1.5])#0.34762568 1.56042181\n",
    "eps = 0.001\n",
    "kmax = 1000\n",
    "k, xk = simple_iteration(g2, x0, eps,kmax)\n",
    "print(f\"Чисельний розв'язок системи рівнянь x={xk} з точністю eps={eps}, обчислений за k={k} ітерацій\")"
   ]
  },
  {
   "cell_type": "markdown",
   "metadata": {
    "tags": []
   },
   "source": [
    "Отримані повідомлення про переповнення проміжних значень вже при невеликій кількості виконаних ітерацій свідчать про розбіжність методу. Можемо за допомогою графічних побудов переконатися, що функція ``g2`` не виконує стрискаючого відображення. З цією метою дещо змінимо реалізацію функції ``g2`` (назвавши її ``gg2``), щоб вона задовольняла інтерфейс функції ``D3_plotter``:"
   ]
  },
  {
   "cell_type": "code",
   "execution_count": 38,
   "metadata": {},
   "outputs": [],
   "source": [
    "def gg2(x0,x1):\n",
    "    \"\"\"функції правої частини системи рівнянь (2)\"\"\"\n",
    "    g0 = 3*x0  +  3*x1**2 - 8\n",
    "    g1 =   x0**2 -x1 + 3 \n",
    "    return g0,g1"
   ]
  },
  {
   "cell_type": "markdown",
   "metadata": {
    "tags": []
   },
   "source": [
    "Побудуємо графіки цієї функції: "
   ]
  },
  {
   "cell_type": "code",
   "execution_count": 39,
   "metadata": {},
   "outputs": [
    {
     "name": "stdout",
     "output_type": "stream",
     "text": [
      "x0=[0.  0.1 0.2 0.3 0.4 0.5 0.6 0.7 0.8 0.9 1. ]\n",
      "x1=[1.  1.1 1.2 1.3 1.4 1.5 1.6 1.7 1.8 1.9 2. ]\n"
     ]
    },
    {
     "data": {
      "application/vnd.jupyter.widget-view+json": {
       "model_id": "53b87fa7713f45c29f47213b0cf8132c",
       "version_major": 2,
       "version_minor": 0
      },
      "text/plain": [
       "Canvas(toolbar=Toolbar(toolitems=[('Home', 'Reset original view', 'home', 'home'), ('Back', 'Back to previous …"
      ]
     },
     "metadata": {},
     "output_type": "display_data"
    },
    {
     "data": {
      "application/vnd.jupyter.widget-view+json": {
       "model_id": "5b10a529122d4d919f5124f2ff35c39a",
       "version_major": 2,
       "version_minor": 0
      },
      "text/plain": [
       "Canvas(toolbar=Toolbar(toolitems=[('Home', 'Reset original view', 'home', 'home'), ('Back', 'Back to previous …"
      ]
     },
     "metadata": {},
     "output_type": "display_data"
    },
    {
     "data": {
      "application/vnd.jupyter.widget-view+json": {
       "model_id": "5d6d216e8453439781580c486de29a95",
       "version_major": 2,
       "version_minor": 0
      },
      "text/plain": [
       "Canvas(toolbar=Toolbar(toolitems=[('Home', 'Reset original view', 'home', 'home'), ('Back', 'Back to previous …"
      ]
     },
     "metadata": {},
     "output_type": "display_data"
    }
   ],
   "source": [
    "D2 = domain( 0,1,1,2)\n",
    "N0=10\n",
    "N1=10\n",
    "D3_plotter(gg2, D2, N0, N1)"
   ]
  },
  {
   "cell_type": "markdown",
   "metadata": {
    "tags": []
   },
   "source": [
    "На основі шкали значень робимо висновок, що відображення дійсно не є стискаючим, очевидно через квадратичний характер обох компонент векторної функції ``g2``. \n",
    "\n",
    "Отож побудований нами ітераційний процес не дає змоги отримати чисельний розв'язок методом ітерацій. Разом з тим зазначимо, що його вдається отримати методом Ньютона. "
   ]
  },
  {
   "cell_type": "code",
   "execution_count": 40,
   "metadata": {
    "tags": []
   },
   "outputs": [],
   "source": [
    "plt.close('all')"
   ]
  },
  {
   "cell_type": "code",
   "execution_count": null,
   "metadata": {},
   "outputs": [],
   "source": []
  }
 ],
 "metadata": {
  "kernelspec": {
   "display_name": "Python 3 (ipykernel)",
   "language": "python",
   "name": "python3"
  },
  "language_info": {
   "codemirror_mode": {
    "name": "ipython",
    "version": 3
   },
   "file_extension": ".py",
   "mimetype": "text/x-python",
   "name": "python",
   "nbconvert_exporter": "python",
   "pygments_lexer": "ipython3",
   "version": "3.9.7"
  }
 },
 "nbformat": 4,
 "nbformat_minor": 4
}
