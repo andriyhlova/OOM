{
 "cells": [
  {
   "cell_type": "markdown",
   "metadata": {},
   "source": [
    "# 3.2. Розв'язування систем нелінійних рівнянь\n",
    "------------"
   ]
  },
  {
   "cell_type": "markdown",
   "metadata": {},
   "source": [
    "Розглянемо нелінійну систему рівнянь\n",
    "\n",
    "$(1)\\qquad\\qquad\\qquad\n",
    "   \\begin{cases}\n",
    "    f_1(x_1,\\ldots,x_n)=0 \\\\\n",
    "    \\qquad \\ldots \\\\\n",
    "    f_n(x_1,\\ldots,x_n) = 0\n",
    "   \\end{cases} \\quad \\Leftrightarrow \\quad f(x)=0,\n",
    "$\n",
    "\n",
    "де $f_1,\\ldots,f_n$ --- визначені на деякій множині $D\\subset \\mathbb{R}^n$ функції, а \n",
    "\n",
    "$\\qquad\\qquad\\qquad\n",
    "f(x):=\\begin{pmatrix}  f_1(x_1,\\ldots,x_n) \\\\\n",
    "    \\ldots \\\\\n",
    "    f_n(x_1,\\ldots,x_n)\n",
    "    \\end{pmatrix},\\ x=\\begin{pmatrix}x_1\\\\ \\ldots\\\\\n",
    "x_n\\end{pmatrix} \\in D,\\quad \\text{ ---  векторна функція}.$"
   ]
  },
  {
   "cell_type": "markdown",
   "metadata": {
    "tags": []
   },
   "source": [
    "### 3.2.2. Метод простої ітерації\n",
    "--------------\n",
    "Запишемо систему рівнянь (1) у вигляді\n",
    "\n",
    "$(2)\\qquad\\qquad\\qquad\n",
    "\\left\\{\n",
    "   \\begin{array}{rcl}\n",
    "    x_1 = g_1(x_1,\\ldots,x_n)\\\\\n",
    "    \\qquad \\ldots \\\\\n",
    "    x_n = g_n(x_1,\\ldots,x_n)\\\\\n",
    "   \\end{array}\n",
    "\\right. \\quad \\Leftrightarrow \\quad x:=g(x).\n",
    "$\n",
    " "
   ]
  },
  {
   "cell_type": "markdown",
   "metadata": {},
   "source": [
    "Побудуємо послідовність\n",
    "\n",
    "$\\qquad\\qquad\\qquad\n",
    "x^0=\\left(\\begin{matrix}x_1^0\\\\\\ldots \\\\ x_n^0\\end{matrix}\\right),\\\n",
    "x^1=\\left(\\begin{matrix}x_1^1\\\\\\ldots \\\\ x_n^1\\end{matrix}\\right),\\ \\ldots, \\\n",
    "x^k=\\left(\\begin{matrix}x_1^k\\\\\\ldots \\\\ x_n^k\\end{matrix}\\right),\\\n",
    "x^{k+1}=\\left(\\begin{matrix}x_1^{k+1}\\\\\\ldots \\\\ x_n^{k+1}\\end{matrix}\\right), \\ldots,\n",
    "$\n",
    "\n",
    " за правилом:\n",
    " \n",
    " \n",
    "$x^0\\in D $ --  початкове наближення, яке довільно вибирають, а решту членів знаходять за рекурентним співвідношенням\n",
    "\n",
    "$\\qquad\\qquad\\qquad\n",
    " x^{k+1}:=g(x^k) \\quad \\Leftrightarrow \\quad\n",
    " \\begin{cases}\n",
    "  x^{k+1}_1:=g_1(x^k_1,\\ldots,x^k_n)\\\\\n",
    "    \\qquad \\ldots \\\\\n",
    "   x^{k+1}_n:=g_n(x^k_1,\\ldots,x^k_n)\n",
    "   \\end{cases},\n",
    " \\quad k\\in \\mathbb{N}\\cup\\{0\\}.\n",
    "$\n",
    "\n",
    "Цей процес називають *методом простих ітерацій*."
   ]
  },
  {
   "cell_type": "markdown",
   "metadata": {
    "tags": []
   },
   "source": [
    "#### Пояснення до використання програмного коду\n",
    "-----------------\n",
    "*   Підготувати середовище і потрібні функції : \n",
    "    1. виконати комірку для підготовки середовища\n",
    "    2. виконати комірку, де **визначена** функція ``simple_iteration`` \n",
    "     \n",
    "*   Обчислити чисельний розв'язок конкретної заданої системи\n",
    "    1. виконати комірку, в якій **визначена** функція ``g`` із системи (2)\n",
    "    2. задати точність ``eps`` чисельного розв'язку і початкове наближення ``x0``\n",
    "    3. виконати комірку з **викликом** функції ``simple_iteration``"
   ]
  },
  {
   "cell_type": "markdown",
   "metadata": {
    "tags": []
   },
   "source": [
    "#### Програмна реалізація методу\n",
    "------------"
   ]
  },
  {
   "cell_type": "markdown",
   "metadata": {
    "tags": []
   },
   "source": [
    ">#### Підготовка середовища"
   ]
  },
  {
   "cell_type": "code",
   "execution_count": 1,
   "metadata": {},
   "outputs": [],
   "source": [
    "import numpy as np"
   ]
  },
  {
   "cell_type": "markdown",
   "metadata": {
    "tags": []
   },
   "source": [
    ">#### Допоміжна функція"
   ]
  },
  {
   "cell_type": "code",
   "execution_count": 2,
   "metadata": {},
   "outputs": [],
   "source": [
    "def norm_3(a):\n",
    "    \"\"\"обчислення евклідової норми вектора a\"\"\"\n",
    "    return np.sqrt(np.sum(a**2))"
   ]
  },
  {
   "cell_type": "markdown",
   "metadata": {},
   "source": [
    ">#### ``simple_iteration`` -- функція, яка реалізує метод простої ітерації "
   ]
  },
  {
   "cell_type": "code",
   "execution_count": 3,
   "metadata": {
    "colab": {
     "base_uri": "https://localhost:8080/"
    },
    "executionInfo": {
     "elapsed": 338,
     "status": "ok",
     "timestamp": 1629912431271,
     "user": {
      "displayName": "Anatoliy Muzychuk",
      "photoUrl": "",
      "userId": "02436432047169316818"
     },
     "user_tz": -180
    },
    "id": "c6TrJDY0PQGz",
    "outputId": "e915a7a1-5b99-4c21-a2fd-2cb036410d10"
   },
   "outputs": [],
   "source": [
    "def simple_iteration(g, x0, eps):\n",
    "    \"\"\" знаходження методом простої ітерації наближеного розв'язку системи рівнянь (1), \n",
    "        де g -- непервна векторна функція,  \n",
    "        x0 -- початкове наближення\n",
    "        eps -- задана точність\n",
    "    \"\"\"   \n",
    "    x_prev=x0.copy()\n",
    "    k=1\n",
    "    x_new =g(x_prev)\n",
    "    while norm_3(x_new-x_prev) > eps:\n",
    "        k+=1\n",
    "        x_prev = x_new\n",
    "        x_new = g(x_prev)  \n",
    "    return k, x_new"
   ]
  },
  {
   "cell_type": "markdown",
   "metadata": {
    "tags": []
   },
   "source": [
    ">#### ``g`` -- векторна функція правої частини системи рівнянь (2) "
   ]
  },
  {
   "cell_type": "markdown",
   "metadata": {
    "tags": []
   },
   "source": [
    "#### Обчислювальні експерименти\n",
    "------------"
   ]
  },
  {
   "cell_type": "markdown",
   "metadata": {
    "tags": []
   },
   "source": [
    "Продемонструємо застосування методу простої ітерації до розв'язування нелінійних систем."
   ]
  },
  {
   "cell_type": "markdown",
   "metadata": {},
   "source": [
    "**Приклад 1.** (приклад 3.8) Обчислити методом простої ітерації розв'язок системи\n",
    "\n",
    "$\\left\\{\n",
    "   \\begin{array}{rcl}\n",
    "    4x_1-\\sin{x_2}+1&=&0,\\\\ \\\\\n",
    "         \\cos{x_1}-2x_2+3&=&0\\\\\n",
    "   \\end{array}\n",
    "  \\right.\n",
    "$\n",
    "\n",
    "Запишемо систему у вигляді (2)\n",
    "\n",
    "$\n",
    "  \\left\\{\n",
    "   \\begin{array}{rcl}\n",
    "    x_1&=& 0.25\\sin{x_2}-0.25,\\\\\n",
    "     \\\\\n",
    "        x_2&=& 0.5\\cos{x_1}+1.5.\\\\\n",
    "   \\end{array}\n",
    "  \\right.\n",
    "  $"
   ]
  },
  {
   "cell_type": "markdown",
   "metadata": {},
   "source": [
    "  \n",
    "  Визначимо векторну функцію $g$:"
   ]
  },
  {
   "cell_type": "code",
   "execution_count": 4,
   "metadata": {},
   "outputs": [],
   "source": [
    "def g(x):\n",
    "    \"\"\"функція правої частини системи рівнянь (2)\"\"\"\n",
    "    g0 = (np.sin(x[1])-1)/4\n",
    "    g1 = (np.cos(x[0])+3)/2 \n",
    "    return np.array([g0,g1])"
   ]
  },
  {
   "cell_type": "markdown",
   "metadata": {},
   "source": [
    "У розділі 3, де було обґрунтовано метод ітерацій для заданої системи, визначено область \n",
    "$$\n",
    "D:=\\big\\{(x_1,x_2)^\\top \\in \\mathbb{R}^2 \\quad\\big| -\\dfrac{1}{2}\\leqslant x_1\\leqslant 0,\n",
    "\\text{ }1\\leqslant x_2\\leqslant 2\\big\\},\n",
    "$$\n",
    "яку функції $g_0$ і $g_2$ переводять саму в себе. \n",
    "Задамо початкове наближення $x0$ всередині цієї області: "
   ]
  },
  {
   "cell_type": "code",
   "execution_count": 5,
   "metadata": {},
   "outputs": [],
   "source": [
    "x0=np.array([-0.25 , 1.5])"
   ]
  },
  {
   "cell_type": "markdown",
   "metadata": {},
   "source": [
    "Тепер знайдемо чисельний розв'язок при різних значеннях параметра $eps$:"
   ]
  },
  {
   "cell_type": "code",
   "execution_count": 6,
   "metadata": {},
   "outputs": [
    {
     "name": "stdout",
     "output_type": "stream",
     "text": [
      "Чисельний розв'язок системи рівнянь x=[-0.02267563  1.99988885] з точністю eps=0.01, обчислений за k=3 ітерацій\n"
     ]
    }
   ],
   "source": [
    "eps=0.01\n",
    "k, xk = simple_iteration(g, x0, eps)\n",
    "print(f\"Чисельний розв'язок системи рівнянь x={xk} з точністю eps={eps}, обчислений за k={k} ітерацій\")"
   ]
  },
  {
   "cell_type": "code",
   "execution_count": 7,
   "metadata": {},
   "outputs": [
    {
     "name": "stdout",
     "output_type": "stream",
     "text": [
      "Чисельний розв'язок системи рівнянь x=[-0.02266229  1.99987161] з точністю eps=1e-07, обчислений за k=6 ітерацій\n"
     ]
    }
   ],
   "source": [
    "eps=0.0000001\n",
    "k, xk = simple_iteration(g, x0, eps)\n",
    "print(f\"Чисельний розв'язок системи рівнянь x={xk} з точністю eps={eps}, обчислений за k={k} ітерацій\")"
   ]
  },
  {
   "cell_type": "code",
   "execution_count": 8,
   "metadata": {},
   "outputs": [
    {
     "name": "stdout",
     "output_type": "stream",
     "text": [
      "Чисельний розв'язок системи рівнянь x=[-0.02266229  1.99987161] з точністю eps=1e-09, обчислений за k=8 ітерацій\n"
     ]
    }
   ],
   "source": [
    "eps=0.000000001\n",
    "k, xk = simple_iteration(g, x0, eps)\n",
    "print(f\"Чисельний розв'язок системи рівнянь x={xk} з точністю eps={eps}, обчислений за k={k} ітерацій\")"
   ]
  },
  {
   "cell_type": "markdown",
   "metadata": {},
   "source": [
    "Можна переконатися, що при заданні інших початкових наближень з області $D$ ітераційний процес також збігатиметься:"
   ]
  },
  {
   "cell_type": "code",
   "execution_count": 9,
   "metadata": {},
   "outputs": [],
   "source": [
    "x0=np.array([-0.5 , 1])"
   ]
  },
  {
   "cell_type": "code",
   "execution_count": 10,
   "metadata": {},
   "outputs": [
    {
     "name": "stdout",
     "output_type": "stream",
     "text": [
      "Чисельний розв'язок системи рівнянь x=[-0.02263481  1.99992997] з точністю eps=0.01, обчислений за k=3 ітерацій\n"
     ]
    }
   ],
   "source": [
    "eps=0.01 \n",
    "k, xk = simple_iteration(g, x0, eps)\n",
    "print(f\"Чисельний розв'язок системи рівнянь x={xk} з точністю eps={eps}, обчислений за k={k} ітерацій\")"
   ]
  },
  {
   "cell_type": "code",
   "execution_count": 11,
   "metadata": {},
   "outputs": [
    {
     "name": "stdout",
     "output_type": "stream",
     "text": [
      "Чисельний розв'язок системи рівнянь x=[-0.02266228  1.99987161] з точністю eps=1e-07, обчислений за k=6 ітерацій\n"
     ]
    }
   ],
   "source": [
    "eps=0.0000001\n",
    "k, xk = simple_iteration(g, x0, eps)\n",
    "print(f\"Чисельний розв'язок системи рівнянь x={xk} з точністю eps={eps}, обчислений за k={k} ітерацій\")"
   ]
  },
  {
   "cell_type": "code",
   "execution_count": null,
   "metadata": {},
   "outputs": [],
   "source": []
  },
  {
   "cell_type": "code",
   "execution_count": null,
   "metadata": {},
   "outputs": [],
   "source": []
  }
 ],
 "metadata": {
  "kernelspec": {
   "display_name": "Python 3 (ipykernel)",
   "language": "python",
   "name": "python3"
  },
  "language_info": {
   "codemirror_mode": {
    "name": "ipython",
    "version": 3
   },
   "file_extension": ".py",
   "mimetype": "text/x-python",
   "name": "python",
   "nbconvert_exporter": "python",
   "pygments_lexer": "ipython3",
   "version": "3.9.7"
  }
 },
 "nbformat": 4,
 "nbformat_minor": 4
}
