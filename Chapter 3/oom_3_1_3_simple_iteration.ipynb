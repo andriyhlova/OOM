{
 "cells": [
  {
   "cell_type": "markdown",
   "metadata": {},
   "source": [
    "# 3. Розв'язування нелінійних рівнянь\n",
    "------------"
   ]
  },
  {
   "cell_type": "markdown",
   "metadata": {},
   "source": [
    "Нехай маємо рівняння\n",
    "\n",
    "$(1)\\qquad\\qquad\\qquad\n",
    "f(x)=0, \\quad x\\in [a,b],$\n",
    "\n",
    "де $f:[a,b]\\to \\mathbb{R}$ -- неперервна на $[a,b]$ функція.\n"
   ]
  },
  {
   "cell_type": "markdown",
   "metadata": {
    "tags": []
   },
   "source": [
    "### 3.1.3. Метод простої ітерації\n",
    "--------------\n",
    "Нехай рівняння (1) \n",
    "має і тільки один розв'язок $x_*$ на відрізку $[a,b]$. \n",
    "\n",
    "Запишемо це рівняння у вигляді\n",
    "\n",
    "$(2)\\qquad\\qquad\\qquad\n",
    "x = \\varphi (x),$\n",
    " \n",
    "де \n",
    "\n",
    "$(3)\\qquad\\qquad\\qquad \\varphi(x) := x + \\rho(x)f(x),\\quad x\\in [a,b],$\n",
    "\n",
    "а $\\rho:[a,b]\\to \\mathbb{R}$ -- довільна неперервна функція, яка не має нулів на $[a,b]$. Зокрема, може бути $\\rho(x)= 1,\\, x\\in [a,b]$."
   ]
  },
  {
   "cell_type": "markdown",
   "metadata": {
    "tags": []
   },
   "source": [
    "Метод простої ітерації визначається так:\n",
    "\n",
    "* задаємо початкове значення $x_0\\in [a,b]$ і\n",
    "\n",
    "* знаходимо послідовні наближення $x_1, x_2, x_3, \\ldots$ розв'язку рівняння (2) за формулою\n",
    "\n",
    "$(4)\\qquad\\qquad\\qquad x_{n+1} = \\varphi(x_n), \\quad n=0,1,2, \\dots\\,.$\n",
    "\n",
    "\n",
    "**Теорема.** Нехай функція $\\varphi: [a,b]\\to \\mathbb{R}$ є стискуючим відображенням, тобто задовольняє умову Ліпшиця \n",
    "\n",
    "$(5)\\qquad\\qquad\\qquad \n",
    "|\\varphi(x^{\\prime\\prime}) - \\varphi(x^{\\prime})| \\leqslant q|x^{\\prime\\prime} - x^{\\prime}|,\\quad x^{\\prime}, \\ x^{\\prime\\prime} \\in [a,b],$\n",
    "\n",
    "зі сталою $q\\in (0,1)$,\n",
    "та $x_0$ і $d>0$ такі, що $ [x_0-d,x_0+d]\\subset [a,b]$ і \n",
    "\n",
    "$(6)\\qquad\\qquad\\qquad\n",
    "|\\varphi(x_0)-x_0| \\leqslant (1-q)d$.\n",
    "\n",
    "Тоді рівняння (2) має на відрізку $[x_0-d,x_0+d]$ єдиний розв'язок $x_*$ і він є границею послідовності (4).\n",
    "\n",
    "Для похибки  $x_{n} - x_*$ маємо оцінку\n",
    "\n",
    "$(7)\\qquad\\qquad\\qquad\n",
    "|x_{n} - x_*|\\leqslant q^{n} |b-a|.$\n",
    " \n",
    "тобто метод простої ітерації збігається зі швидкістю геометричної прогресії із знаменником $q$.\n"
   ]
  },
  {
   "cell_type": "markdown",
   "metadata": {
    "tags": []
   },
   "source": [
    "#### Пояснення до використання програмного коду\n",
    "-----------------\n",
    "*   Підготувати середовище і потрібні функції : \n",
    "    1. виконати комірку для підготовки середовища\n",
    "    2. виконати комірку, де **визначена** функція ``simple_iteration`` \n",
    "    3. виконати комірку, де **визначена** функція ``plot_graphics``\n",
    "    4. виконати комірки, де **визначені** функції ``f`` і ``rho``\n",
    "    \n",
    "*   Локалізувати (графічно) розв'язок рівняння (1)\n",
    "    1. виконати комірку, в якій задається відрізок ``[a, b]``\n",
    "    2. виконати комірку, в якій будується графік; якщо ініціалізовано інтерактивний режим, то за допомогою масштабування графіку уточнити (звузити) відрізок ``[a, b]``, щоб на ньому знаходився лише один розв'язок рівняння, інакше - виконувати наступні пункти\n",
    "    3. виконати комірку, в якій задається звужений відрізок ``[a, b]``\n",
    "    4. виконати комірку, в якій будується графік на звуженому відрізку ``[a, b]``\n",
    "    5. пункти 3 і 4 можна послідовно повторювати для точнішої локалізації потрібного розв'язку\n",
    "    \n",
    "*   Обчислити наближення локалізованого розв'язку\n",
    "    1. задати точність ``eps`` чисельного розв'язку і початкове наближення ``x0``\n",
    "    2. виконати комірку, де є **виклик** функції ``simple_iteration``\n",
    "    3. для знаходження іншого розв'язку виконати дії пунктів локалізації"
   ]
  },
  {
   "cell_type": "markdown",
   "metadata": {
    "tags": []
   },
   "source": [
    "#### Програмна реалізація методу\n",
    "------------"
   ]
  },
  {
   "cell_type": "markdown",
   "metadata": {},
   "source": [
    ">#### Підготовка середовища"
   ]
  },
  {
   "cell_type": "code",
   "execution_count": 2,
   "metadata": {},
   "outputs": [],
   "source": [
    "# при виконанні в JupyterLab наступний рядок розкоментувати\n",
    "%matplotlib widget\n",
    "\n",
    "import numpy as np\n",
    "import matplotlib.pyplot as plt"
   ]
  },
  {
   "cell_type": "markdown",
   "metadata": {},
   "source": [
    "``simple_iteration`` -- функція, яка реалізує метод простої ітерації "
   ]
  },
  {
   "cell_type": "markdown",
   "metadata": {},
   "source": [
    "Функція ``simple_iteration`` реалізує метод простої ітерації "
   ]
  },
  {
   "cell_type": "markdown",
   "metadata": {
    "tags": []
   },
   "source": [
    " ``simple_iteration`` -- функція, яка реалізує метод простої ітерації "
   ]
  },
  {
   "cell_type": "markdown",
   "metadata": {
    "tags": []
   },
   "source": [
    ">#### ``simple_iteration`` -- функція, яка реалізує метод простої ітерації "
   ]
  },
  {
   "cell_type": "code",
   "execution_count": 3,
   "metadata": {
    "colab": {
     "base_uri": "https://localhost:8080/"
    },
    "executionInfo": {
     "elapsed": 338,
     "status": "ok",
     "timestamp": 1629912431271,
     "user": {
      "displayName": "Anatoliy Muzychuk",
      "photoUrl": "",
      "userId": "02436432047169316818"
     },
     "user_tz": -180
    },
    "id": "c6TrJDY0PQGz",
    "outputId": "e915a7a1-5b99-4c21-a2fd-2cb036410d10"
   },
   "outputs": [],
   "source": [
    "def simple_iteration(f,rho,a,b, x0, eps):\n",
    "    \"\"\" знаходження методом простої ітерації чисельного розв'язку рівняння (1), \n",
    "        де f -- непервна функція на відрізку [a, b],  \n",
    "        rho -- непервна функція на відрізку [a, b]\n",
    "        x0 -- початкове наближення\n",
    "        eps -- задана точність\n",
    "    \"\"\"\n",
    "    \n",
    "    x_prev=x0\n",
    "    k=1\n",
    "    x_new = x_prev + rho(x_prev)*f(x_prev)\n",
    "    \n",
    "    while np.abs(x_new-x_prev) > eps:\n",
    "        k+=1\n",
    "        x_prev = x_new\n",
    "        x_new = x_prev + rho(x_prev)*f(x_prev)       \n",
    "    return x_new,k"
   ]
  },
  {
   "cell_type": "markdown",
   "metadata": {},
   "source": [
    ">#### ``plot_graphics`` -- функція для побудови графіка функції ``f`` на відрізку ``[a,b]`` за значеннями в ``n`` точках "
   ]
  },
  {
   "cell_type": "code",
   "execution_count": 4,
   "metadata": {},
   "outputs": [],
   "source": [
    "def plot_graphics(f, a, b, n):\n",
    "    \"\"\"фуункція для побудови графіка функції f \n",
    "       на відрізку [a,b] за значеннями в n точках \n",
    "    \"\"\"\n",
    "    xarr = np.linspace(a, b, n)    \n",
    "    y=f(xarr) \n",
    "    fig = plt.figure()\n",
    "    ax = fig.gca()\n",
    "    ax.plot(xarr,y)\n",
    "    ax.axhline(color=\"grey\", ls=\"--\", zorder=-1)\n",
    "    ax.axvline(color=\"grey\", ls=\"--\", zorder=-1)\n",
    "    ax.set_xlim(a,b)\n",
    "    plt.show()"
   ]
  },
  {
   "cell_type": "markdown",
   "metadata": {
    "tags": []
   },
   "source": [
    "#### Обчислювальні експерименти\n",
    "------------"
   ]
  },
  {
   "cell_type": "markdown",
   "metadata": {
    "tags": []
   },
   "source": [
    "Знаходження чисельних розв'язків методом простої ітерації продемонструємо на прикладах."
   ]
  },
  {
   "cell_type": "markdown",
   "metadata": {
    "tags": []
   },
   "source": [
    "**Приклад 1.** Нехай у рівнянні (1) $f(x)=sin(x^2-2x)$. Обчислити методом простої ітерації другий додатній розв'язок цього рівняння з точністю $eps=10^{-5}$."
   ]
  },
  {
   "cell_type": "markdown",
   "metadata": {
    "tags": []
   },
   "source": [
    "Легко переконатися, що першими додатніми розв'язками є $x_1=2.0$, а також $x_2 = 1+np.sqrt(1+np.pi)$ і $x_3 = 1+np.sqrt(1+2*np.pi)$. Виконуючи обчислення, отримаємо $x_2 = 3.035090330572526$ і $x_3 = 3.698737724785346$ з точністю $10^{-15}$. Далі називатимемо їх аналітичними розв'язками і збережемо їх значення для подальшого аналізу похибок чисельних розв'язків:"
   ]
  },
  {
   "cell_type": "markdown",
   "metadata": {
    "tags": []
   },
   "source": [
    ">#### ``f`` -- функція лівої частини рівняння (1) "
   ]
  },
  {
   "cell_type": "code",
   "execution_count": 5,
   "metadata": {},
   "outputs": [],
   "source": [
    "def f(x):\n",
    "    \"\"\"функція лівої частини рівняння (1)\"\"\"\n",
    "    return np.sin(x*x-2*x)"
   ]
  },
  {
   "cell_type": "markdown",
   "metadata": {
    "tags": []
   },
   "source": [
    ">#### ``rho`` -- функція $\\rho$ з формули (3) "
   ]
  },
  {
   "cell_type": "code",
   "execution_count": 6,
   "metadata": {},
   "outputs": [],
   "source": [
    "def rho(x):\n",
    "    \"\"\"функція \\rho в рівнянні (3)\"\"\"\n",
    "    return 1"
   ]
  },
  {
   "cell_type": "markdown",
   "metadata": {},
   "source": [
    ">#### Побудова графіку функції ``f``"
   ]
  },
  {
   "cell_type": "code",
   "execution_count": 7,
   "metadata": {},
   "outputs": [],
   "source": [
    "# задання відрізка\n",
    "a=0\n",
    "b=10"
   ]
  },
  {
   "cell_type": "code",
   "execution_count": 8,
   "metadata": {},
   "outputs": [
    {
     "data": {
      "application/vnd.jupyter.widget-view+json": {
       "model_id": "144aec5f20a34282961a8d8259dfae10",
       "version_major": 2,
       "version_minor": 0
      },
      "text/plain": [
       "Canvas(toolbar=Toolbar(toolitems=[('Home', 'Reset original view', 'home', 'home'), ('Back', 'Back to previous …"
      ]
     },
     "metadata": {},
     "output_type": "display_data"
    }
   ],
   "source": [
    "plot_graphics(f, a, b, 256)"
   ]
  },
  {
   "cell_type": "markdown",
   "metadata": {},
   "source": [
    ">#### Уточнення проміжку ``[a, b]``"
   ]
  },
  {
   "cell_type": "code",
   "execution_count": 9,
   "metadata": {},
   "outputs": [],
   "source": [
    "# задання оновленого відрізка\n",
    "a=2.8\n",
    "b=3.2"
   ]
  },
  {
   "cell_type": "code",
   "execution_count": 10,
   "metadata": {},
   "outputs": [
    {
     "data": {
      "application/vnd.jupyter.widget-view+json": {
       "model_id": "28b8af82f6654ceba987b9679a00a483",
       "version_major": 2,
       "version_minor": 0
      },
      "text/plain": [
       "Canvas(toolbar=Toolbar(toolitems=[('Home', 'Reset original view', 'home', 'home'), ('Back', 'Back to previous …"
      ]
     },
     "metadata": {},
     "output_type": "display_data"
    }
   ],
   "source": [
    "plot_graphics(f, a, b, 256)"
   ]
  },
  {
   "cell_type": "code",
   "execution_count": 11,
   "metadata": {},
   "outputs": [],
   "source": [
    "# задання оновленого відрізка\n",
    "a=3.0\n",
    "b=3.05"
   ]
  },
  {
   "cell_type": "code",
   "execution_count": 12,
   "metadata": {},
   "outputs": [
    {
     "data": {
      "application/vnd.jupyter.widget-view+json": {
       "model_id": "9adeb20c8cc44e768268391a6fc368bc",
       "version_major": 2,
       "version_minor": 0
      },
      "text/plain": [
       "Canvas(toolbar=Toolbar(toolitems=[('Home', 'Reset original view', 'home', 'home'), ('Back', 'Back to previous …"
      ]
     },
     "metadata": {},
     "output_type": "display_data"
    }
   ],
   "source": [
    "plot_graphics(f, a, b, 256)"
   ]
  },
  {
   "cell_type": "code",
   "execution_count": 13,
   "metadata": {},
   "outputs": [],
   "source": [
    "# задання оновленого відрізка\n",
    "a=3.03\n",
    "b=3.04"
   ]
  },
  {
   "cell_type": "code",
   "execution_count": 14,
   "metadata": {},
   "outputs": [
    {
     "data": {
      "application/vnd.jupyter.widget-view+json": {
       "model_id": "5623838a945c44dc8e7ac38994392785",
       "version_major": 2,
       "version_minor": 0
      },
      "text/plain": [
       "Canvas(toolbar=Toolbar(toolitems=[('Home', 'Reset original view', 'home', 'home'), ('Back', 'Back to previous …"
      ]
     },
     "metadata": {},
     "output_type": "display_data"
    }
   ],
   "source": [
    "plot_graphics(f, a, b, 256)"
   ]
  },
  {
   "cell_type": "code",
   "execution_count": 15,
   "metadata": {},
   "outputs": [],
   "source": [
    "# задання оновленого відрізка\n",
    "a=3.034\n",
    "b=3.036"
   ]
  },
  {
   "cell_type": "code",
   "execution_count": 16,
   "metadata": {},
   "outputs": [
    {
     "name": "stdout",
     "output_type": "stream",
     "text": [
      "Розв'язок рівняння x=3.0351201307008653 з точністю eps=0.0001 за k=254302 ітерацій\n"
     ]
    }
   ],
   "source": [
    "#знаходження чисельного розв'язку\n",
    "eps=0.0001\n",
    "x0=3.034\n",
    "x, k = simple_iteration(f, rho, a, b,x0, eps)\n",
    "print(f\"Розв'язок рівняння x={x} з точністю eps={eps} за k={k} ітерацій\")"
   ]
  },
  {
   "cell_type": "code",
   "execution_count": 17,
   "metadata": {},
   "outputs": [
    {
     "name": "stdout",
     "output_type": "stream",
     "text": [
      "Розв'язок рівняння x=3.035142461207598 з точністю eps=0.0001 за k=65073 ітерацій\n"
     ]
    }
   ],
   "source": [
    "#знаходження чисельного розв'язку\n",
    "eps=0.0001\n",
    "x0=3.035\n",
    "x, k = simple_iteration(f, rho, a, b,x0, eps)\n",
    "print(f\"Розв'язок рівняння x={x} з точністю eps={eps} за k={k} ітерацій\")"
   ]
  },
  {
   "cell_type": "code",
   "execution_count": 18,
   "metadata": {},
   "outputs": [
    {
     "name": "stdout",
     "output_type": "stream",
     "text": [
      "Розв'язок рівняння x=3.035089587774611 з точністю eps=1e-06 за k=1710633 ітерацій\n"
     ]
    }
   ],
   "source": [
    "#знаходження чисельного розв'язку\n",
    "eps=0.000001\n",
    "x0=3.035\n",
    "x, k = simple_iteration(f, rho, a, b,x0, eps)\n",
    "print(f\"Розв'язок рівняння x={x} з точністю eps={eps} за k={k} ітерацій\")"
   ]
  },
  {
   "cell_type": "code",
   "execution_count": 19,
   "metadata": {},
   "outputs": [
    {
     "name": "stdout",
     "output_type": "stream",
     "text": [
      "Розв'язок рівняння x=3.035074467154927 з точністю eps=0.0001 за k=190492 ітерацій\n"
     ]
    }
   ],
   "source": [
    "#знаходження чисельного розв'язку\n",
    "eps=0.0001\n",
    "x0=3.036\n",
    "x, k = simple_iteration(f, rho, a, b,x0, eps)\n",
    "print(f\"Розв'язок рівняння x={x} з точністю eps={eps} за k={k} ітерацій\")"
   ]
  },
  {
   "cell_type": "code",
   "execution_count": null,
   "metadata": {},
   "outputs": [],
   "source": []
  }
 ],
 "metadata": {
  "kernelspec": {
   "display_name": "Python 3 (ipykernel)",
   "language": "python",
   "name": "python3"
  },
  "language_info": {
   "codemirror_mode": {
    "name": "ipython",
    "version": 3
   },
   "file_extension": ".py",
   "mimetype": "text/x-python",
   "name": "python",
   "nbconvert_exporter": "python",
   "pygments_lexer": "ipython3",
   "version": "3.9.7"
  }
 },
 "nbformat": 4,
 "nbformat_minor": 4
}
