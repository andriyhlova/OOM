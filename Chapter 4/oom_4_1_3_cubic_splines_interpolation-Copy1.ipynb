{
 "cells": [
  {
   "cell_type": "markdown",
   "metadata": {},
   "source": [
    "# 4.1. Інтерполяція функцій поліномами\n",
    "--------------------\n",
    "\n",
    "Нехай треба наблизити функцію  $y=f(x),\\, x\\in [a,b],$ поліномами\n",
    "\n",
    "$(1)\\quad\\qquad\\qquad\\qquad L_n (x)= \\sum_{i=0}^n a_i x^i, \\; n\\in \\mathbb{N}\\cup \\{0\\},$\n",
    "\n",
    "якщо відомі значення цієї функції $ f_0 = f(x_0),\\, f_1 = f(x_1), ... ,\\, f_n = f(x_n)$ на скінченій множині точок $ x_0, x_1, ... , x_n$. \n",
    "\n",
    "Використовують різні підходи для побудови інтерполяційних поліномів, зокрема для знаходження невідомих коефіцієнтів $a_i$, $i=\\overline{0,n}$."
   ]
  },
  {
   "cell_type": "markdown",
   "metadata": {
    "tags": []
   },
   "source": [
    "## 4.2. Інтерполяція кубічними сплайнами\n",
    "-----------\n",
    "Нехай на відрізку $[a,b]$ задано сітку $\\{x_0,x_1,\\ldots,x_n \\,|\n",
    "\\,a=x_0<x_1<\\ldots<x_n=b\\},$ у вузлах якої задано значення $\\{y_0,y_1,\\ldots,y_n\\}$ функції $f\\in C[a,b]$.\n",
    "\n",
    "Інтерполяційний кубічний (нормальний) сплайн має вигляд\n",
    "\\begin{multline}\\label{5}\n",
    "  g(x):=m_{i-1}\\frac{(x_i-x)^3}{6h_i}+m_i\\frac{(x-x_{i-1})^3}{6h_i}+\n",
    "  \\Biggl[y_{i-1}-\\frac{m_{i-1}h_i^2}{6}\\Biggr]\\frac{x_i-x}{h_i}+\\\\\n",
    "  +\\Biggl[y_{i}-\\frac{m_{i}h_i^2}{6}\\Biggr]\n",
    "  \\frac{x-x_{i-1}}{h_i}, \\quad x\\in [x_{i-1},x_{i}],\\quad  i=\\overline{1,n},\n",
    "\\end{multline}\n",
    "де \n",
    "$\n",
    "h_i:=x_{i}-x_{i-1},\\  i=\\overline{1,n},\\; m_0=0, \\; m_n=0,\n",
    "$\n",
    "а сталі $m_i,\\ i=\\overline{1,n-1},$ знаходять із системи рівнянь\n",
    "$$\n",
    "  \\dfrac{h_i}{6}m_{i-1}+\\dfrac{h_i+h_{i+1}}{3}m_i+\\dfrac{h_{i+1}}{6}m_{i+1}=\n",
    "  \\dfrac{y_{i-1}}{h_i}-\\Biggl[\\dfrac{1}{h_i}+\\dfrac{1}{h_{i+1}}\\Biggr]y_i+\\dfrac{y_{i+1}}{h_{i+1}},\\quad\n",
    "  i=\\overline{1,n-1}.\n",
    "$$\n",
    "Якщо домножити кожне $i$-е рівняння цієї системи на вираз $\\alpha_i := 6/(h_i+h_{i+1})$, то отримаємо СЛАР \n",
    "$$Hm=Dy.$$\n",
    "Тут  $A$ і $D$ -- тридіагональні матриці розміром $(n-1)\\times (n-1)$  і $(n-1)\\times (n+1)$ відповідно, елементи яких обчислюють за формулами\n",
    "$$a_{i,i}=2, \\; \n",
    "  a_{i+1,i}=\\frac{h_{i+1}}{(h_{i+1}+h_{i+2})}, \\; \n",
    "  a_{i,i+1}=\\frac{h_{i+1}}{(h_i+h_{i+1})},$$\n",
    "$$d_{i,i}  =\\frac{6}{h_i(h_i+h_{i+1}))}, \\; \n",
    "  d_{i,i+1}=-\\frac{6}{h_i h_{i+1}},\\; \n",
    "  d_{i,i+2}=\\frac{6}{h_{i+1}(h_i+h_{i+1})}, \\\\ i=\\overline{1,n-1}. $$"
   ]
  },
  {
   "cell_type": "markdown",
   "metadata": {
    "id": "C56etMUzw6qS",
    "tags": []
   },
   "source": [
    "#### Пояснення до використання програмного коду\n",
    "-----------------\n",
    "*    Підготувати середовище і потрібні функції : \n",
    "     1. виконати комірку для підготовки середовища  \n",
    "     2.   виконати комірки, в яких **визначені** функції ``spline3_interpolation``, ``spline3_interpolator``, ``calculate_m``, ``TDMA_solver``,  ``set_matrix_diagonals``, ``set_vector`` і ``hv``\n",
    "\n",
    "*   Обчислити наближені значення конкретної функції :  \n",
    "    1. виконати комірку, де **визначені** функції, які задають вузли інтерполювання і значення конкретної функції у цих вузлах\n",
    "    2. виконати комірку, в якій задають координати відрізка ``[a,b]`` і викликають функції для задання даних інтерполювання і обчислення коефіцієнтів сплайна\n",
    "    3. якщо треба обчислити: \n",
    "        -  одне наближене значення функції в деякій точці, то виконати комірку з викликом функції  ``spline3_interpolation`` з відповідними значеннями аргументів;\n",
    "        -  кілька наближених значень функції в рівновіддалених точках на ``[a,b]``, то викликати функцію ``spline3_interpolator`` з відповідними значеннями аргументів; у цьому випадку за замовчуванням (при ``prnt=True`` ) будуть побудовані графіки сплайна і функції, яку інтерполюють (при ``fr=True`` ), а також буде обчислено найбільше відхилення знайденого сплайна від цієї фукції."
   ]
  },
  {
   "cell_type": "markdown",
   "metadata": {
    "tags": []
   },
   "source": [
    "#### Програмна реалізація методу\n",
    "------------"
   ]
  },
  {
   "cell_type": "markdown",
   "metadata": {
    "tags": []
   },
   "source": [
    ">#### Підготовка середовища"
   ]
  },
  {
   "cell_type": "code",
   "execution_count": 1,
   "metadata": {},
   "outputs": [],
   "source": [
    "#%matplotlib inline\n",
    "%matplotlib widget\n",
    "import matplotlib.pyplot as plt\n",
    "import numpy as np"
   ]
  },
  {
   "cell_type": "markdown",
   "metadata": {
    "tags": []
   },
   "source": [
    ">#### ``spline3_interpolation`` -- функція для обчислення інтерполяційного кубічного сплайна"
   ]
  },
  {
   "cell_type": "code",
   "execution_count": 2,
   "metadata": {},
   "outputs": [],
   "source": [
    "def spline3_interpolation(xp,x,y,h,m):\n",
    "    n = x.size -1\n",
    "    if xp < x[0] or xp > x[n]:\n",
    "        raise Exception('точка поза відрізком') \n",
    "    i=1\n",
    "    while (i <= n) and (xp > x[i]): \n",
    "        i+=1\n",
    "          \n",
    "    g = m[i-1] * (x[i]-xp)**3 /(6*h[i-1])    \n",
    "    g += m[i] * (xp-x[i-1])**3 /(6*h[i-1]) + (y[i-1]-m[i-1]*h[i-1]**2/6) * (x[i]-xp)/h[i-1]     \n",
    "    g += (y[i]-m[i]*h[i-1]**2/6) * (xp -x[i-1])/h[i-1]\n",
    "\n",
    "    return g\n",
    "    "
   ]
  },
  {
   "cell_type": "markdown",
   "metadata": {},
   "source": [
    ">#### ``spline3_interpolator`` -- функція, яка реалізує процес інтерполювання кубічним сплайном"
   ]
  },
  {
   "cell_type": "code",
   "execution_count": 3,
   "metadata": {},
   "outputs": [],
   "source": [
    "def spline3_interpolator(xv,fv,a,b,n,ng,prnt=True,fr=False):\n",
    "    \"\"\"наближення на відрізку [a,b] функції f кубічними сплайнами з рівновіддаленими вузлами інтерполювання\n",
    "       ng - кількість точок, у яких обчислюють значення полінома\n",
    "    \"\"\"\n",
    "    x = xv(a,b,n)   \n",
    "    y = fv(a,b,n)\n",
    "    h = hv(x)\n",
    "    m=calculate_m(x,y,h)\n",
    "    \n",
    "    xg=np.linspace(a,b,ng+1)\n",
    "    \n",
    "    \n",
    "    pv=np.empty(ng+1)\n",
    "    i=0\n",
    "    for xp in xg:\n",
    "        pv[i]=spline3_interpolation(xp,x,y,h,m)        \n",
    "        i+=1\n",
    "    \n",
    "    if prnt== False:\n",
    "        return pv\n",
    "    \n",
    "    fig = plt.figure(figsize=(8, 5))\n",
    "    ax = fig.gca()\n",
    "    ax.axhline(color=\"grey\", ls=\"--\", zorder=-1)\n",
    "    ax.axvline(color=\"grey\", ls=\"--\", zorder=-1)\n",
    "    \n",
    "    plt.plot(xg, pv)    \n",
    "    plt.scatter(x, y, marker='o')\n",
    "    \n",
    "    if fr==True:\n",
    "        fg=fv(a,b,ng)\n",
    "        plt.plot(xg, fg,'--')\n",
    "        eps=np.max(np.abs(pv-fg))\n",
    "        print(f\"eps={eps}\")\n",
    "    \n",
    "    return pv\n",
    "\n"
   ]
  },
  {
   "cell_type": "markdown",
   "metadata": {},
   "source": [
    ">#### ``calculate_m`` -- функція, яка реалізує обчислення коефіцієнтів сплайна"
   ]
  },
  {
   "cell_type": "code",
   "execution_count": 4,
   "metadata": {},
   "outputs": [],
   "source": [
    "def calculate_m(x,y,h):\n",
    "    nel=x.size\n",
    "    n=nel-1\n",
    "    n2=x.size-3\n",
    "    m2=TDMA_solver(n2,set_matrix_diagonals,set_vector,h,y)\n",
    "    m=np.empty(x.size, dtype='float32')\n",
    "    m[0]=0\n",
    "    m[n]=0\n",
    "    for i in range(1,n):\n",
    "        m[i]=m2[i-1]    \n",
    "    return m\n",
    "    "
   ]
  },
  {
   "cell_type": "markdown",
   "metadata": {},
   "source": [
    ">#### ``TDMA_solver`` -- функція, яка реалізує метод прогонки для розв'язування СЛАР"
   ]
  },
  {
   "cell_type": "code",
   "execution_count": 5,
   "metadata": {
    "id": "0qc5BcctO5t2"
   },
   "outputs": [],
   "source": [
    "def TDMA_solver(n,set_matrix_diagonals,set_vector,h,y):\n",
    "    \"\"\" метод прогонки для розв'язування СЛАР\n",
    "        з 3-діагональною матрицею \n",
    "        n+1 - кількість невідомих; n- максимальне значення індексу\n",
    "        вектор с-головна діагональ\n",
    "        вектори a i b - нижня і верхня діагоналі, паралельні головній\n",
    "        вектор g - вільні члени\n",
    "      \"\"\"\n",
    "    c,a,b = set_matrix_diagonals(n,h)\n",
    "    g = set_vector(n,h,y)\n",
    "   \n",
    "    alpha = np.empty(n+1, dtype=float ) \n",
    "    beta  = np.empty(n+1, dtype=float )\n",
    "    \n",
    "    if c[0] !=0 :\n",
    "        alpha[0] =-b[0]/c[0]\n",
    "        beta [0] = g[0]/c[0]\n",
    "    else:\n",
    "        raise Exception('c[0]==0') \n",
    "    \n",
    "    for i in range(1,n+1):\n",
    "        w=a[i]*alpha[i-1]+c[i]\n",
    "        if w != 0 :\n",
    "            alpha[i] =-b[i]/w\n",
    "            beta[i]  = (g[i] - a[i]*beta[i-1])/w\n",
    "        else:\n",
    "            raise Exception('w==0')\n",
    "        \n",
    "    x = np.empty(n+1, dtype=float )\n",
    "    x[n] = beta[n]\n",
    "    for i in range(n-1,-1,-1):\n",
    "        x[i] = alpha[i]*x[i+1] + beta[i]\n",
    "    return x"
   ]
  },
  {
   "cell_type": "markdown",
   "metadata": {},
   "source": [
    ">#### ``set_matrix_diagonals`` -- функція, яка обчислює діагоналі матриці СЛАР"
   ]
  },
  {
   "cell_type": "code",
   "execution_count": 6,
   "metadata": {
    "id": "IdDn2xvxQF1n"
   },
   "outputs": [],
   "source": [
    "def set_matrix_diagonals(n,h):\n",
    "    \"\"\" функція задає 3 діагоналі матриці СЛАР \n",
    "    n - останнє значення індексу\n",
    "    \"\"\"\n",
    "    #n=h.size-1 \n",
    "    c=np.full(n+1,2)\n",
    "    \n",
    "    a=np.empty(n+1)\n",
    "    a[0]=0\n",
    "    b=np.empty(n+1)\n",
    "    b[n]=0\n",
    "    for i in range(1,n+1):        \n",
    "        a[i]=h[i] /(h[i-1]+h[i]) \n",
    "        b[i-1]=h[i-1] /(h[i-1]+h[i])\n",
    "    return c,a,b"
   ]
  },
  {
   "cell_type": "markdown",
   "metadata": {},
   "source": [
    ">#### ``set_vector`` -- функція, яка обчислює вектор вільних членів СЛАР"
   ]
  },
  {
   "cell_type": "code",
   "execution_count": 7,
   "metadata": {
    "tags": []
   },
   "outputs": [],
   "source": [
    "def set_vector(n,h,y):  \n",
    "    d = np.empty(n+1, dtype='float32')\n",
    "    for i in range(1,n+2):\n",
    "        d[i-1] =6/(h[i-1]+h[i]) * ( (y[i+1]-y[i])/h[i] - (y[i]-y[i-1])/h[i-1])\n",
    "    return d\n",
    "    "
   ]
  },
  {
   "cell_type": "markdown",
   "metadata": {},
   "source": [
    ">#### ``hv`` -- функція, яка обчислює відрізки між вузлами "
   ]
  },
  {
   "cell_type": "code",
   "execution_count": 8,
   "metadata": {},
   "outputs": [],
   "source": [
    "def hv(x):    \n",
    "    \"\"\" визначення відрізків між вузлами\"\"\"\n",
    "    n=x.size\n",
    "    h=np.empty(n-1)\n",
    "    for i in range(n-1):\n",
    "        h[i]=x[i+1]-x[i]\n",
    "    return h"
   ]
  },
  {
   "cell_type": "markdown",
   "metadata": {},
   "source": [
    "#### Обчислювальні експерименти\n",
    "____________________"
   ]
  },
  {
   "cell_type": "markdown",
   "metadata": {
    "tags": []
   },
   "source": [
    "Продемонструємо використання кубічного сплайна для інтерполяції функцій."
   ]
  },
  {
   "cell_type": "markdown",
   "metadata": {},
   "source": [
    "**Приклад 1.** Інтерполювання функції $f$, яка на множині $(0, 3, 6, 9)$ набуває значення $f(0)=12, \\, f(3)=6,\\, f(6)=9, \\,f(9)=3$. \n"
   ]
  },
  {
   "cell_type": "markdown",
   "metadata": {},
   "source": [
    "Визначимо функції, які повертають вузли інтерполювання та відповідні значення функції:"
   ]
  },
  {
   "cell_type": "code",
   "execution_count": 9,
   "metadata": {},
   "outputs": [],
   "source": [
    "def xv1(a,b,n):    \n",
    "    \"\"\" встановлення вузлів інтерполювання\"\"\"\n",
    "    return np.array([0,3,6,9], dtype='float32')"
   ]
  },
  {
   "cell_type": "code",
   "execution_count": 10,
   "metadata": {},
   "outputs": [],
   "source": [
    "def yv1(a,b,n):\n",
    "    \"\"\" задання значень функції у вузлах інтерполювання\"\"\"\n",
    "    return np.array([12,6,9,3], dtype='float32')"
   ]
  },
  {
   "cell_type": "markdown",
   "metadata": {},
   "source": [
    "Задамо дані інтерполяційної задачі і обчислимо коефіцієнти сплайна:"
   ]
  },
  {
   "cell_type": "code",
   "execution_count": 11,
   "metadata": {
    "tags": []
   },
   "outputs": [],
   "source": [
    "a=0\n",
    "b=9\n",
    "n=3\n",
    "\n",
    "x = xv1(a,b,n)\n",
    "y = yv1(a,b,n)\n",
    "\n",
    "h=hv(xv1(a,b,n))\n",
    "\n",
    "m=calculate_m(x,y,h)"
   ]
  },
  {
   "cell_type": "markdown",
   "metadata": {},
   "source": [
    "Тепер можна обчислювати значення сплайна в довільній точці відрізку $[a, b]$:"
   ]
  },
  {
   "cell_type": "code",
   "execution_count": 12,
   "metadata": {
    "tags": []
   },
   "outputs": [
    {
     "data": {
      "text/plain": [
       "9.11111111111111"
      ]
     },
     "execution_count": 12,
     "metadata": {},
     "output_type": "execute_result"
    }
   ],
   "source": [
    "xp = 1\n",
    "spline3_interpolation(xp,x,y,h,m)"
   ]
  },
  {
   "cell_type": "code",
   "execution_count": 13,
   "metadata": {},
   "outputs": [
    {
     "data": {
      "text/plain": [
       "6.777777777777778"
      ]
     },
     "execution_count": 13,
     "metadata": {},
     "output_type": "execute_result"
    }
   ],
   "source": [
    "xp = 4\n",
    "spline3_interpolation(xp,x,y,h,m)"
   ]
  },
  {
   "cell_type": "code",
   "execution_count": 14,
   "metadata": {},
   "outputs": [
    {
     "data": {
      "text/plain": [
       "8.11111111111111"
      ]
     },
     "execution_count": 14,
     "metadata": {},
     "output_type": "execute_result"
    }
   ],
   "source": [
    "xp = 7\n",
    "spline3_interpolation(xp,x,y,h,m)"
   ]
  },
  {
   "cell_type": "markdown",
   "metadata": {
    "tags": []
   },
   "source": [
    "Якщо ж треба обчислити значення сплайна у ``ng`` **рівновіддалених точках** на ``[a,b]``, то використовуємо функцію ``spline3_interpolator``, яка визначає необхідні для інтерполювання кроки:"
   ]
  },
  {
   "cell_type": "code",
   "execution_count": 15,
   "metadata": {
    "tags": []
   },
   "outputs": [],
   "source": [
    "a=0\n",
    "b=9\n",
    "n=3"
   ]
  },
  {
   "cell_type": "code",
   "execution_count": 16,
   "metadata": {},
   "outputs": [
    {
     "data": {
      "application/vnd.jupyter.widget-view+json": {
       "model_id": "795d535118c347448ff32996fce2cde9",
       "version_major": 2,
       "version_minor": 0
      },
      "text/plain": [
       "Canvas(toolbar=Toolbar(toolitems=[('Home', 'Reset original view', 'home', 'home'), ('Back', 'Back to previous …"
      ]
     },
     "metadata": {},
     "output_type": "display_data"
    }
   ],
   "source": [
    "ng=60\n",
    "ps = spline3_interpolator(xv1,yv1,a,b,n, ng)"
   ]
  },
  {
   "cell_type": "markdown",
   "metadata": {},
   "source": [
    "**Приклад 2.** Інтерполювання функції $f(x)=sin(x),\\; x \\in [0,2\\pi]$  на **рівновіддалених вузлах**. "
   ]
  },
  {
   "cell_type": "markdown",
   "metadata": {},
   "source": [
    "Визначимо функції, які повертають множину рівновіддалених вузлів інтерполювання та відповідні значення функції:"
   ]
  },
  {
   "cell_type": "code",
   "execution_count": 17,
   "metadata": {},
   "outputs": [],
   "source": [
    "def xv2(a,b,n):\n",
    "    x=np.linspace(a,b,n+1)\n",
    "    return x"
   ]
  },
  {
   "cell_type": "code",
   "execution_count": 18,
   "metadata": {},
   "outputs": [],
   "source": [
    "def yv2(a,b,n):   \n",
    "    x=np.linspace(a,b,n+1)\n",
    "    f=np.sin(x)#+1\n",
    "    return f"
   ]
  },
  {
   "cell_type": "markdown",
   "metadata": {},
   "source": [
    "Визначимо координати відрізка інтерполювання:"
   ]
  },
  {
   "cell_type": "code",
   "execution_count": 19,
   "metadata": {},
   "outputs": [],
   "source": [
    "a=0\n",
    "b=2*np.pi"
   ]
  },
  {
   "cell_type": "markdown",
   "metadata": {},
   "source": [
    "і обчислимо значення сплайна в ``ng`` точках відрізка, будуючи його для різних значень параметра ``n``:"
   ]
  },
  {
   "cell_type": "code",
   "execution_count": 20,
   "metadata": {},
   "outputs": [
    {
     "data": {
      "application/vnd.jupyter.widget-view+json": {
       "model_id": "bb39a95ea7944ec9a37ce39fc3599ce3",
       "version_major": 2,
       "version_minor": 0
      },
      "text/plain": [
       "Canvas(toolbar=Toolbar(toolitems=[('Home', 'Reset original view', 'home', 'home'), ('Back', 'Back to previous …"
      ]
     },
     "metadata": {},
     "output_type": "display_data"
    },
    {
     "name": "stdout",
     "output_type": "stream",
     "text": [
      "eps=0.10851070178281641\n"
     ]
    }
   ],
   "source": [
    "ng=60\n",
    "n=3\n",
    "ps = spline3_interpolator(xv2,yv2,a,b,n, ng, fr=True)"
   ]
  },
  {
   "cell_type": "code",
   "execution_count": 21,
   "metadata": {},
   "outputs": [
    {
     "data": {
      "application/vnd.jupyter.widget-view+json": {
       "model_id": "6d8f20ad3e1a44c7ba3edfabe2b0c259",
       "version_major": 2,
       "version_minor": 0
      },
      "text/plain": [
       "Canvas(toolbar=Toolbar(toolitems=[('Home', 'Reset original view', 'home', 'home'), ('Back', 'Back to previous …"
      ]
     },
     "metadata": {},
     "output_type": "display_data"
    },
    {
     "name": "stdout",
     "output_type": "stream",
     "text": [
      "eps=0.008946309828320342\n"
     ]
    }
   ],
   "source": [
    "n=5\n",
    "ps = spline3_interpolator(xv2,yv2,a,b,n, ng, fr=True)"
   ]
  },
  {
   "cell_type": "code",
   "execution_count": 22,
   "metadata": {},
   "outputs": [
    {
     "data": {
      "application/vnd.jupyter.widget-view+json": {
       "model_id": "55093b3b848f4e8bb5ef3e5e183650bc",
       "version_major": 2,
       "version_minor": 0
      },
      "text/plain": [
       "Canvas(toolbar=Toolbar(toolitems=[('Home', 'Reset original view', 'home', 'home'), ('Back', 'Back to previous …"
      ]
     },
     "metadata": {},
     "output_type": "display_data"
    },
    {
     "name": "stdout",
     "output_type": "stream",
     "text": [
      "eps=0.0004472593032810446\n"
     ]
    }
   ],
   "source": [
    "n=10\n",
    "ps = spline3_interpolator(xv2,yv2,a,b,n, ng, fr=True)"
   ]
  },
  {
   "cell_type": "code",
   "execution_count": 23,
   "metadata": {},
   "outputs": [
    {
     "data": {
      "application/vnd.jupyter.widget-view+json": {
       "model_id": "84c703805cb44f0b8fa2a48f25068187",
       "version_major": 2,
       "version_minor": 0
      },
      "text/plain": [
       "Canvas(toolbar=Toolbar(toolitems=[('Home', 'Reset original view', 'home', 'home'), ('Back', 'Back to previous …"
      ]
     },
     "metadata": {},
     "output_type": "display_data"
    },
    {
     "name": "stdout",
     "output_type": "stream",
     "text": [
      "eps=2.0516548986826422e-05\n"
     ]
    }
   ],
   "source": [
    "n=20\n",
    "ps = spline3_interpolator(xv2,yv2,a,b,n, ng, fr=True)"
   ]
  },
  {
   "cell_type": "markdown",
   "metadata": {},
   "source": [
    "Спостерігаємо швидке зменшення в нормі $\\| \\cdot \\|_\\infty$ відхилення полінома від заданої функції із зростанням кількості вузлів."
   ]
  },
  {
   "cell_type": "markdown",
   "metadata": {},
   "source": [
    "**Приклад 3.(example 8.1)** Інтерполювання функції $f(x)=(1+x^2)^{-1},\\; x \\in [-5,5]$   на **рівновіддалених вузлах**."
   ]
  },
  {
   "cell_type": "markdown",
   "metadata": {},
   "source": [
    "Зазначимо, що при інтерполяції заданої функції поліномами Лагранжа і Ньютона на рівновіддалених вузлах спостерігається зростання похибки інтерполяції поблизу кінців відрізка при зростанні кількості вузлів. Покажемо, що інтерполяція кубічним сплайном не має такого недоліку.\n",
    "\n",
    "Виконаємо аналогічні кроки, що і в попередньому прикладі і розглянемо інтерполювання при зростанні кількості рівновіддалених вузлів:"
   ]
  },
  {
   "cell_type": "code",
   "execution_count": 24,
   "metadata": {},
   "outputs": [],
   "source": [
    "def xv3(a,b,n):\n",
    "    x=np.linspace(a,b,n+1)\n",
    "    return x"
   ]
  },
  {
   "cell_type": "code",
   "execution_count": 25,
   "metadata": {},
   "outputs": [],
   "source": [
    "def yv3(a,b,n):   \n",
    "    x=np.linspace(a,b,n+1)\n",
    "    f=1/(1+x*x)\n",
    "    return f"
   ]
  },
  {
   "cell_type": "code",
   "execution_count": 26,
   "metadata": {},
   "outputs": [],
   "source": [
    "a=-5\n",
    "b=5\n",
    "ng=60"
   ]
  },
  {
   "cell_type": "code",
   "execution_count": 27,
   "metadata": {},
   "outputs": [
    {
     "data": {
      "application/vnd.jupyter.widget-view+json": {
       "model_id": "0be3543a22034d4eb46afa47b1ec721d",
       "version_major": 2,
       "version_minor": 0
      },
      "text/plain": [
       "Canvas(toolbar=Toolbar(toolitems=[('Home', 'Reset original view', 'home', 'home'), ('Back', 'Back to previous …"
      ]
     },
     "metadata": {},
     "output_type": "display_data"
    },
    {
     "name": "stdout",
     "output_type": "stream",
     "text": [
      "eps=0.4234817773103714\n"
     ]
    }
   ],
   "source": [
    "n = 5\n",
    "ps = spline3_interpolator(xv3,yv3,a,b,n, ng, fr=True)"
   ]
  },
  {
   "cell_type": "code",
   "execution_count": 28,
   "metadata": {},
   "outputs": [
    {
     "data": {
      "application/vnd.jupyter.widget-view+json": {
       "model_id": "1d57a55a2f4b4b9f8aceca82e0dc9c9c",
       "version_major": 2,
       "version_minor": 0
      },
      "text/plain": [
       "Canvas(toolbar=Toolbar(toolitems=[('Home', 'Reset original view', 'home', 'home'), ('Back', 'Back to previous …"
      ]
     },
     "metadata": {},
     "output_type": "display_data"
    },
    {
     "name": "stdout",
     "output_type": "stream",
     "text": [
      "eps=0.02091373773495131\n"
     ]
    }
   ],
   "source": [
    "n = 10\n",
    "ps = spline3_interpolator(xv3,yv3,a,b,n, ng, fr=True)"
   ]
  },
  {
   "cell_type": "code",
   "execution_count": 29,
   "metadata": {},
   "outputs": [
    {
     "data": {
      "application/vnd.jupyter.widget-view+json": {
       "model_id": "0ad3b990af34426f8ff1ea1a0aa87f01",
       "version_major": 2,
       "version_minor": 0
      },
      "text/plain": [
       "Canvas(toolbar=Toolbar(toolitems=[('Home', 'Reset original view', 'home', 'home'), ('Back', 'Back to previous …"
      ]
     },
     "metadata": {},
     "output_type": "display_data"
    },
    {
     "name": "stdout",
     "output_type": "stream",
     "text": [
      "eps=0.0028346638974414695\n"
     ]
    }
   ],
   "source": [
    "n = 20\n",
    "ps = spline3_interpolator(xv3,yv3,a,b,n, ng, fr=True)"
   ]
  },
  {
   "cell_type": "markdown",
   "metadata": {},
   "source": [
    "Як бачимо, для заданої функції відхилення значень сплайна зменшується при збільшенні кількості вузлів інтерполювання. "
   ]
  },
  {
   "cell_type": "code",
   "execution_count": 30,
   "metadata": {
    "tags": []
   },
   "outputs": [],
   "source": [
    "plt.close('all')"
   ]
  },
  {
   "cell_type": "code",
   "execution_count": null,
   "metadata": {},
   "outputs": [],
   "source": []
  },
  {
   "cell_type": "code",
   "execution_count": null,
   "metadata": {},
   "outputs": [],
   "source": []
  }
 ],
 "metadata": {
  "kernelspec": {
   "display_name": "Python 3 (ipykernel)",
   "language": "python",
   "name": "python3"
  },
  "language_info": {
   "codemirror_mode": {
    "name": "ipython",
    "version": 3
   },
   "file_extension": ".py",
   "mimetype": "text/x-python",
   "name": "python",
   "nbconvert_exporter": "python",
   "pygments_lexer": "ipython3",
   "version": "3.9.7"
  }
 },
 "nbformat": 4,
 "nbformat_minor": 4
}
