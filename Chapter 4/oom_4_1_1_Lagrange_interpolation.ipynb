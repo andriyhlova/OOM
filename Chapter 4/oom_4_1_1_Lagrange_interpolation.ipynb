{
 "cells": [
  {
   "cell_type": "markdown",
   "metadata": {},
   "source": [
    "# 4.1. Інтерполяція функцій поліномами\n",
    "--------------------\n",
    "\n",
    "Нехай треба наблизити функцію  $y=f(x),\\, x\\in [a,b],$ поліномами\n",
    "\n",
    "$(1)\\quad\\qquad\\qquad\\qquad L_n (x)= \\sum_{i=0}^n a_i x^i, \\; n\\in \\mathbb{N}\\cup \\{0\\},$\n",
    "\n",
    "якщо відомі значення цієї функції $ f_0 = f(x_0),\\, f_1 = f(x_1), ... ,\\, f_n = f(x_n)$ на скінченій множині точок $ x_0, x_1, ... , x_n$. \n",
    "\n",
    "Використовують різні підходи для побудови інтерполяційних поліномів, зокрема для знаходження невідомих коефіцієнтів $a_i$, $i=\\overline{0,n}$."
   ]
  },
  {
   "cell_type": "markdown",
   "metadata": {
    "tags": []
   },
   "source": [
    "## 4.1.1. Інтерполяційний поліном Лагранжа\n",
    "-----------\n",
    "Ідея побудови інтерполяційного полінома Лагранжа полягає у використанні поліномів \n",
    "\n",
    "$(2)\\quad\\qquad\\qquad\\qquad \\Phi_i(x) = \\frac{(x-x_{0})\\ldots (x-x_{i-1}) (x-x_{i+1})\\ldots\n",
    " (x-x_{n})}{(x_{i}-x_{0})\\ldots (x_{i}-x_{i-1}) (x_{i}-x_{i+1})\\ldots\n",
    " (x_{i}-x_{n})}, \\; i=\\overline{0,n},$\n",
    "\n",
    "для яких є очевидними рівності\n",
    "\n",
    "$(3)\\quad\\qquad\\qquad\\qquad \n",
    "\\Phi_i(x_j) = \\left\\{\n",
    "\\begin{array}{cl}\n",
    "0,& i\\neq j,\\\\\n",
    "1,& i=j,\n",
    "\\end{array} \\right. \\quad\n",
    "i,j=\\overline{0,n}.$\n",
    "\n",
    "Інтерполяційний поліном Лагранжа має вигляд\n",
    "\n",
    "$(4)\\quad\\qquad\\qquad\\qquad L_n(x)=\\sum_{i=0}^n f(x_i) \\Phi_i(x). $"
   ]
  },
  {
   "cell_type": "markdown",
   "metadata": {
    "tags": []
   },
   "source": [
    "#### Пояснення до використання програмного коду\n",
    "-----------------\n",
    "*   Підготувати середовище і потрібні функції : \n",
    "    1. виконати комірку для підготовки середовища\n",
    "    2. виконати комірку, де **визначена** функція ``Newton_iteration`` \n",
    "    3. виконати комірку, де **визначені** функції ``f`` і ``inverse_Jacobian_matrix``\n",
    "     \n",
    "*   Обчислити наближення розв'язку\n",
    "    1. задати точність ``eps`` наближеного розв'язку і початкове наближення ``x0``\n",
    "    2. виконати комірку, де є **виклик** функції ``Newton_iteration``"
   ]
  },
  {
   "cell_type": "markdown",
   "metadata": {
    "id": "C56etMUzw6qS",
    "tags": []
   },
   "source": [
    "#### Пояснення до використання програмного коду\n",
    "-----------------\n",
    "*   Підготувати потрібні функції : \n",
    "    1.   виконати комірку з імпортом бібліотек ``numpy`` і ``matplotlib``  \n",
    "    2.   виконати комірку, де **визначені** функції ``Lagrange_interpolation``,``xfx`` і ``L_interpolator``\n",
    "\n",
    "\n",
    "\n",
    "*   Для отримання наближення конкретної функції **в одній точці** :  \n",
    "    1.   запрограмувати і виконати комірку, де **визначена** функція ``f``\n",
    "    2.   викликаючи функцію ``xfx``, обчислити вузли інтерполювання і значення функції \n",
    "    3.   викликати функцію ``Lagrange_interpolation`` з відповідними значеннями аргументів\n",
    "\n",
    "*   Для отримання наближення конкретної функції в ``ng`` **рівновіддалених точках** на ``[a,b]``\n",
    "    1.   запрограмувати і виконати комірку, де **визначена** функція ``f``\n",
    "    2.   викликати функцію ``L_interpolator`` з відповідними значеннями аргументів; у цьому випадку за замовчуванням (при ``prnt=True`` ) будуть побудовані графіки полінома і функції, яку інтерполюють (при ``fr=True`` )\n",
    "\n",
    "*   Приклади знаходження наближених розв'язків див. у розділі **Обчислювальний експеримент**  "
   ]
  },
  {
   "cell_type": "code",
   "execution_count": null,
   "metadata": {},
   "outputs": [],
   "source": [
    "# Імпорт бібліотек\n",
    "%matplotlib inline\n",
    "#%matplotlib widget\n",
    "import matplotlib.pyplot as plt\n",
    "import numpy as np"
   ]
  },
  {
   "cell_type": "code",
   "execution_count": null,
   "metadata": {},
   "outputs": [],
   "source": [
    "def Lagrange_interpolation(xv,x,f):\n",
    "    \"\"\"\n",
    "    обчислення полінома в точці xv \n",
    "       xv - точка, в якій наближують функцію \n",
    "       x  - масив вузлів інтерполювання\n",
    "       f  - масив значень функції у вузлах     \n",
    "    \"\"\"\n",
    "    n=x.size\n",
    "    fxv=0\n",
    "    for i in range(n):\n",
    "        lagr=1.\n",
    "        for j in range(n):\n",
    "            if (i==j) :\n",
    "                continue\n",
    "            lagr*=(xv-x[j])/(x[i]-x[j])\n",
    "        fxv+=f[i]*lagr\n",
    "    return fxv\n",
    "                "
   ]
  },
  {
   "cell_type": "code",
   "execution_count": null,
   "metadata": {},
   "outputs": [],
   "source": [
    "def xfx(f,a,b,n):\n",
    "    \"\"\"обчислення рівновіддалених вузлів інтерполювання і значень функції f у вузлах\"\"\"\n",
    "    x=np.linspace(a,b,n)\n",
    "    fx=f(x)\n",
    "    return x,fx"
   ]
  },
  {
   "cell_type": "code",
   "execution_count": null,
   "metadata": {},
   "outputs": [],
   "source": [
    "def L_interpolator(f,a,b,n,ng,prnt=True,fr=False):\n",
    "    \"\"\"наближення на відрізку [a,b] функції f поліномом Лагранжа n-го степеня з рівновіддаленими вузлами інтерполювання\n",
    "       ng - кількість точок, у яких обчислюють значення полінома\n",
    "    \"\"\"\n",
    "    x,fx=xfx(f,a,b,n)\n",
    "    \n",
    "    xg=np.linspace(a,b,ng+1)\n",
    "    fg=f(xg)\n",
    "    \n",
    "    fv=np.empty(ng+1)\n",
    "    i=0\n",
    "    for xv in xg:\n",
    "        fv[i]=Lagrange_interpolation(xv,x,fx)\n",
    "        i+=1\n",
    "    \n",
    "    if prnt== False:\n",
    "        return fv\n",
    "    \n",
    "    fig = plt.figure(figsize=(8, 5))\n",
    "    ax = fig.gca()\n",
    "    ax.axhline(color=\"grey\", ls=\"--\", zorder=-1)\n",
    "    ax.axvline(color=\"grey\", ls=\"--\", zorder=-1)\n",
    "    \n",
    "    plt.plot(xg, fv)    \n",
    "    plt.scatter(x, fx, marker='o')\n",
    "    \n",
    "    if fr==True:\n",
    "        plt.plot(xg, fg,'--')\n",
    "    \n",
    "    return fv\n",
    "\n"
   ]
  },
  {
   "cell_type": "markdown",
   "metadata": {},
   "source": [
    "**Приклад 1.** Інтерполювання функції $f(x)=x^2,\\; x \\in [a,b]$ "
   ]
  },
  {
   "cell_type": "code",
   "execution_count": null,
   "metadata": {},
   "outputs": [],
   "source": [
    "def f(x):\n",
    "    return x**2"
   ]
  },
  {
   "cell_type": "code",
   "execution_count": null,
   "metadata": {
    "tags": []
   },
   "outputs": [],
   "source": [
    "a = 0\n",
    "b = 4\n",
    "\n",
    "n = 5\n",
    "x,fx=xfx(f,a,b,n)"
   ]
  },
  {
   "cell_type": "markdown",
   "metadata": {},
   "source": [
    "##### 1) Обчислення значення інтерполяційного полінома Лагранжа ``n``-го степеня в точці ``xi``"
   ]
  },
  {
   "cell_type": "code",
   "execution_count": null,
   "metadata": {
    "tags": []
   },
   "outputs": [],
   "source": [
    "xi=1.5\n",
    "Lagrange_interpolation(xi,x,fx)"
   ]
  },
  {
   "cell_type": "code",
   "execution_count": null,
   "metadata": {
    "tags": []
   },
   "outputs": [],
   "source": [
    "xi=2.5\n",
    "Lagrange_interpolation(xi,x,fx)"
   ]
  },
  {
   "cell_type": "markdown",
   "metadata": {},
   "source": [
    "**Приклад 2.** Інтерполювання функції $f(x)=sin(x),\\; x \\in  [0,2\\pi]$ "
   ]
  },
  {
   "cell_type": "code",
   "execution_count": null,
   "metadata": {},
   "outputs": [],
   "source": [
    "def f(x):\n",
    "    return np.sin(x)"
   ]
  },
  {
   "cell_type": "code",
   "execution_count": null,
   "metadata": {
    "tags": []
   },
   "outputs": [],
   "source": [
    "a=0\n",
    "b=2*np.pi\n",
    "\n",
    "n=5\n",
    "x,fx=xfx(f,a,b,n)"
   ]
  },
  {
   "cell_type": "markdown",
   "metadata": {},
   "source": [
    "##### 1) Обчислення значення інтерполяційного полінома Лагранжа ``n``-го степеня в точці ``xi``"
   ]
  },
  {
   "cell_type": "code",
   "execution_count": null,
   "metadata": {},
   "outputs": [],
   "source": [
    "xi = np.pi/6\n",
    "Lagrange_interpolation(xi, x,fx)"
   ]
  },
  {
   "cell_type": "code",
   "execution_count": null,
   "metadata": {
    "tags": []
   },
   "outputs": [],
   "source": [
    "n=10\n",
    "x,fx=xfx(f,a,b,n)"
   ]
  },
  {
   "cell_type": "code",
   "execution_count": null,
   "metadata": {},
   "outputs": [],
   "source": [
    "Lagrange_interpolation(xi, x,fx)"
   ]
  },
  {
   "cell_type": "markdown",
   "metadata": {},
   "source": [
    "##### 2) Обчислення значень інтерполяційного полінома Лагранжа ``n``-го степеня в ``ng`` **рівновіддалених точках** на ``[a,b]``"
   ]
  },
  {
   "cell_type": "code",
   "execution_count": null,
   "metadata": {
    "tags": []
   },
   "outputs": [],
   "source": [
    "plt.close('all')"
   ]
  },
  {
   "cell_type": "code",
   "execution_count": null,
   "metadata": {},
   "outputs": [],
   "source": [
    "ng=60\n",
    "\n",
    "n=5\n",
    "L_interpolator(f,a,b,n, ng, fr=True)"
   ]
  },
  {
   "cell_type": "code",
   "execution_count": null,
   "metadata": {},
   "outputs": [],
   "source": [
    "n = 7\n",
    "pn = L_interpolator(f,a,b,n, ng, fr=True)"
   ]
  },
  {
   "cell_type": "code",
   "execution_count": null,
   "metadata": {},
   "outputs": [],
   "source": [
    "n=10\n",
    "pn = L_interpolator(f,a,b,n, ng, fr=True)"
   ]
  },
  {
   "cell_type": "code",
   "execution_count": null,
   "metadata": {
    "tags": []
   },
   "outputs": [],
   "source": [
    "plt.close('all')"
   ]
  }
 ],
 "metadata": {
  "kernelspec": {
   "display_name": "Python 3 (ipykernel)",
   "language": "python",
   "name": "python3"
  },
  "language_info": {
   "codemirror_mode": {
    "name": "ipython",
    "version": 3
   },
   "file_extension": ".py",
   "mimetype": "text/x-python",
   "name": "python",
   "nbconvert_exporter": "python",
   "pygments_lexer": "ipython3",
   "version": "3.9.7"
  }
 },
 "nbformat": 4,
 "nbformat_minor": 4
}
