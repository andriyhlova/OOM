{
 "cells": [
  {
   "cell_type": "markdown",
   "metadata": {
    "tags": []
   },
   "source": [
    "# 4.1. Інтерполяція функцій поліномами\n",
    "--------------------\n",
    "\n",
    "Інтерполювання функції  $y=f(x),\\, x\\in [a,b],$ поліномами \n",
    "\n",
    "$(1)\\quad\\qquad\\qquad\\qquad L_n (x)= \\sum_{i=0}^n a_i x^i, \\; n\\in \\mathbb{N}\\cup \\{0\\},$\n",
    "\n",
    "полягає у знаходженні таких поліномів, які наближують цю функцію на відрізку $[a,b]$ з деякою точністю, \n",
    "якщо відомі значення $ f_0 = f(x_0),\\, f_1 = f(x_1), ... ,\\, f_n = f(x_n)$ на скінченій множині точок $ x_0, x_1, ... , x_n$. "
   ]
  },
  {
   "cell_type": "markdown",
   "metadata": {
    "tags": []
   },
   "source": [
    "## 4.1.1. Інтерполяційний поліном Лагранжа\n",
    "-----------\n",
    "Ідея побудови інтерполяційного полінома Лагранжа полягає у використанні поліномів \n",
    "\n",
    "$(2)\\quad\\qquad\\qquad\\qquad \\Phi_i(x) = \\frac{(x-x_{0})\\ldots (x-x_{i-1}) (x-x_{i+1})\\ldots\n",
    " (x-x_{n})}{(x_{i}-x_{0})\\ldots (x_{i}-x_{i-1}) (x_{i}-x_{i+1})\\ldots\n",
    " (x_{i}-x_{n})}, \\; i=\\overline{0,n},$\n",
    "\n",
    "для яких є очевидними рівності\n",
    "\n",
    "$(3)\\quad\\qquad\\qquad\\qquad \n",
    "\\Phi_i(x_j) = \\left\\{\n",
    "\\begin{array}{cl}\n",
    "0,& i\\neq j,\\\\\n",
    "1,& i=j,\n",
    "\\end{array} \\right. \\quad\n",
    "i,j=\\overline{0,n}.$\n",
    "\n",
    "Інтерполяційний поліном Лагранжа має вигляд\n",
    "\n",
    "$(4)\\quad\\qquad\\qquad\\qquad L_n(x)=\\sum_{i=0}^n f(x_i) \\Phi_i(x). $"
   ]
  },
  {
   "cell_type": "markdown",
   "metadata": {
    "id": "C56etMUzw6qS",
    "jp-MarkdownHeadingCollapsed": true,
    "tags": []
   },
   "source": [
    "#### Пояснення до використання програмного коду\n",
    "-----------------\n",
    "*   Підготувати середовище і потрібні функції : \n",
    "    1. виконати комірку для підготовки середовища  \n",
    "    2.   виконати комірку, в якій **визначені** функції ``Lagrange_interpolation`` і ``L_interpolator``\n",
    "\n",
    "*   Обчислити наближені значення конкретної функції :  \n",
    "    1. виконати комірку, де **визначені** функції, які задають вузли інтерполювання і значення конкретної функції у цих вузлах\n",
    "    2. виконати комірку, в якій задають координати відрізка ``[a,b]`` і викликають функції для задання даних інтерполювання\n",
    "    3. якщо треба обчислити:\n",
    "        -  одне наближене значення функції в деякій точці, то виконати комірку з викликом функції  ``Lagrange_interpolation`` з відповідними значеннями аргументів;\n",
    "        -  кілька наближених значень функції в рівновіддалених точках на ``[a,b]``, то викликати функцію ``L_interpolator`` з відповідними значеннями аргументів; у цьому випадку за замовчуванням (при ``prnt=True`` ) будуть побудовані графіки полінома і функції, яку інтерполюють (при ``fr=True`` ), а також буде обчислено найбільше відхилення знайденого полінома від цієї фукції."
   ]
  },
  {
   "cell_type": "markdown",
   "metadata": {
    "tags": []
   },
   "source": [
    "#### Програмна реалізація методу\n",
    "------------"
   ]
  },
  {
   "cell_type": "markdown",
   "metadata": {
    "tags": []
   },
   "source": [
    ">#### Підготовка середовища"
   ]
  },
  {
   "cell_type": "code",
   "execution_count": 1,
   "metadata": {},
   "outputs": [],
   "source": [
    "#%matplotlib inline\n",
    "%matplotlib widget\n",
    "import matplotlib.pyplot as plt\n",
    "import numpy as np"
   ]
  },
  {
   "cell_type": "markdown",
   "metadata": {
    "tags": []
   },
   "source": [
    ">#### ``Lagrange_interpolation`` -- функція для обчислення інтерполяційного полінома Лагранжа"
   ]
  },
  {
   "cell_type": "code",
   "execution_count": 2,
   "metadata": {},
   "outputs": [],
   "source": [
    "def Lagrange_interpolation(xv,x,f):\n",
    "    \"\"\"\n",
    "    обчислення полінома в точці xv \n",
    "       xv - точка, в якій наближують функцію \n",
    "       x  - масив вузлів інтерполювання\n",
    "       f  - масив значень функції у вузлах     \n",
    "    \"\"\"\n",
    "    n=x.size\n",
    "    fxv=0\n",
    "    for i in range(n):\n",
    "        lagr=1.\n",
    "        for j in range(n):\n",
    "            if (i==j) :\n",
    "                continue\n",
    "            lagr*=(xv-x[j])/(x[i]-x[j])\n",
    "        fxv+=f[i]*lagr\n",
    "    return fxv\n",
    "                "
   ]
  },
  {
   "cell_type": "markdown",
   "metadata": {},
   "source": [
    ">#### ``L_interpolator`` -- функція, яка реалізує процес інтерполювання"
   ]
  },
  {
   "cell_type": "code",
   "execution_count": 3,
   "metadata": {},
   "outputs": [],
   "source": [
    "def L_interpolator(xv,fv,a,b,n,ng,prnt=True,fr=False):\n",
    "    \"\"\"наближення на відрізку [a,b] функції f поліномом Лагранжа n-го степеня з рівновіддаленими вузлами інтерполювання\n",
    "       ng - кількість точок, у яких обчислюють значення полінома\n",
    "    \"\"\"\n",
    "    x = xv(a,b,n)\n",
    "    fx = fv(a,b,n)\n",
    "    \n",
    "    xg=np.linspace(a,b,ng+1)\n",
    "    \n",
    "    \n",
    "    pv=np.empty(ng+1)\n",
    "    i=0\n",
    "    for xv in xg:\n",
    "        pv[i]=Lagrange_interpolation(xv,x,fx)\n",
    "        i+=1\n",
    "    \n",
    "    if prnt== False:\n",
    "        return pv\n",
    "    \n",
    "    fig = plt.figure(figsize=(8, 5))\n",
    "    ax = fig.gca()\n",
    "    ax.axhline(color=\"grey\", ls=\"--\", zorder=-1)\n",
    "    ax.axvline(color=\"grey\", ls=\"--\", zorder=-1)\n",
    "    \n",
    "    plt.plot(xg, pv)    \n",
    "    plt.scatter(x, fx, marker='o')\n",
    "    \n",
    "    if fr==True:\n",
    "        fg=fv(a,b,ng)\n",
    "        plt.plot(xg, fg,'--')\n",
    "        eps=np.max(np.abs(pv-fg))\n",
    "        print(f\"eps={eps}\")\n",
    "    \n",
    "    return pv\n",
    "\n"
   ]
  },
  {
   "cell_type": "markdown",
   "metadata": {
    "tags": []
   },
   "source": [
    "#### Обчислювальні експерименти\n",
    "------------"
   ]
  },
  {
   "cell_type": "markdown",
   "metadata": {
    "tags": []
   },
   "source": [
    "Продемонструємо використання інтерполяційного полінома Лагранжа для наближення функцій."
   ]
  },
  {
   "cell_type": "markdown",
   "metadata": {},
   "source": [
    "**Приклад 1.** Інтерполювання функції $f$, яка на множині $(0, 2, 3, 5)$ набуває значення $f(0)=2, \\, f(2)=4,\\, f(3)=6, \\,f(5)=8$. \n"
   ]
  },
  {
   "cell_type": "markdown",
   "metadata": {},
   "source": [
    "Визначимо функції, які повертають вузли інтерполювання та відповідні значення функції. Щоб забезпечити формування таких даних також при інтерполюванні на $n$ рівновіддалених точках на відрізку $[a, b]$, передбачимо у цих функціях відповідні аргументи:"
   ]
  },
  {
   "cell_type": "code",
   "execution_count": 4,
   "metadata": {},
   "outputs": [],
   "source": [
    "def xv1(a=0,b=5,n=3):    \n",
    "    \"\"\" встановлення вузлів інтерполювання\"\"\"\n",
    "    return np.array([0,2,3,5], dtype='float32')"
   ]
  },
  {
   "cell_type": "code",
   "execution_count": 5,
   "metadata": {},
   "outputs": [],
   "source": [
    "def fv1(a=0,b=5,n=3):\n",
    "    \"\"\" задання значень функції у вузлах інтерполювання\"\"\"\n",
    "    return np.array([2,4,6,8], dtype='float32')"
   ]
  },
  {
   "cell_type": "markdown",
   "metadata": {},
   "source": [
    "Задамо також кінці відрізка та кількість вузлів інтерполювання:"
   ]
  },
  {
   "cell_type": "code",
   "execution_count": 6,
   "metadata": {
    "tags": []
   },
   "outputs": [],
   "source": [
    "a = 0\n",
    "b = 5\n",
    "n = 3\n",
    "x = xv1(a,b,n)\n",
    "fx = fv1(a,b,n)"
   ]
  },
  {
   "cell_type": "markdown",
   "metadata": {},
   "source": [
    "Обчислюємо значення інтерполяційного полінома Лагранжа ``n``-го степеня в точці ``xi``"
   ]
  },
  {
   "cell_type": "code",
   "execution_count": 7,
   "metadata": {
    "tags": []
   },
   "outputs": [
    {
     "data": {
      "text/plain": [
       "3.0999999999999996"
      ]
     },
     "execution_count": 7,
     "metadata": {},
     "output_type": "execute_result"
    }
   ],
   "source": [
    "xi=1.5\n",
    "Lagrange_interpolation(xi,x,fx)"
   ]
  },
  {
   "cell_type": "code",
   "execution_count": 8,
   "metadata": {
    "tags": []
   },
   "outputs": [
    {
     "data": {
      "text/plain": [
       "5.0"
      ]
     },
     "execution_count": 8,
     "metadata": {},
     "output_type": "execute_result"
    }
   ],
   "source": [
    "xi=2.5\n",
    "Lagrange_interpolation(xi,x,fx)"
   ]
  },
  {
   "cell_type": "markdown",
   "metadata": {
    "tags": []
   },
   "source": [
    "Якщо ж треба обчислити значення інтерполяційного полінома Лагранжа ``n``-го степеня в ``ng`` **рівновіддалених точках** на ``[a,b]``, то використовуємо функцію ``L_interpolator``, яка визначає необхідні для інтерполювання кроки :"
   ]
  },
  {
   "cell_type": "code",
   "execution_count": 9,
   "metadata": {},
   "outputs": [
    {
     "data": {
      "application/vnd.jupyter.widget-view+json": {
       "model_id": "5aea3ab6ba4a47acb2fa2db3c8fa6619",
       "version_major": 2,
       "version_minor": 0
      },
      "text/plain": [
       "Canvas(toolbar=Toolbar(toolitems=[('Home', 'Reset original view', 'home', 'home'), ('Back', 'Back to previous …"
      ]
     },
     "metadata": {},
     "output_type": "display_data"
    },
    {
     "data": {
      "text/plain": [
       "array([2.        , 1.9679784 , 1.94938272, 1.94375   , 1.95061728,\n",
       "       1.9695216 , 2.        , 2.04158951, 2.09382716, 2.15625   ,\n",
       "       2.22839506, 2.30979938, 2.4       , 2.49853395, 2.60493827,\n",
       "       2.71875   , 2.83950617, 2.96674383, 3.1       , 3.23881173,\n",
       "       3.38271605, 3.53125   , 3.68395062, 3.84035494, 4.        ,\n",
       "       4.16242284, 4.32716049, 4.49375   , 4.6617284 , 4.83063272,\n",
       "       5.        , 5.16936728, 5.3382716 , 5.50625   , 5.67283951,\n",
       "       5.83757716, 6.        , 6.15964506, 6.31604938, 6.46875   ,\n",
       "       6.61728395, 6.76118827, 6.9       , 7.03325617, 7.16049383,\n",
       "       7.28125   , 7.39506173, 7.50146605, 7.6       , 7.69020062,\n",
       "       7.77160494, 7.84375   , 7.90617284, 7.95841049, 8.        ,\n",
       "       8.0304784 , 8.04938272, 8.05625   , 8.05061728, 8.0320216 ,\n",
       "       8.        ])"
      ]
     },
     "execution_count": 9,
     "metadata": {},
     "output_type": "execute_result"
    }
   ],
   "source": [
    "ng=60\n",
    "n=3\n",
    "L_interpolator(xv1,fv1,a,b,n, ng)"
   ]
  },
  {
   "cell_type": "markdown",
   "metadata": {},
   "source": [
    "Зазначимо, що функція ``L_interpolator`` при значеннях аргументів ``prnt=True`` виводить на графічну панель графік інтерполяційного полінома, а якщо відома формула інтерпольованої функції (як це буде продемонстровано в наступному прикладі), то при ``fr=True`` будується графік цієї функції і виводиться максимум відхилення інтерполяційного полінома від заданої функції."
   ]
  },
  {
   "cell_type": "markdown",
   "metadata": {},
   "source": [
    "**Приклад 2.** Інтерполювання функції $f(x)=sin(x),\\; x \\in  [0,2\\pi]$  \n"
   ]
  },
  {
   "cell_type": "code",
   "execution_count": 10,
   "metadata": {},
   "outputs": [],
   "source": [
    "def xv2(a,b,n):\n",
    "    x=np.linspace(a,b,n+1)\n",
    "    return x"
   ]
  },
  {
   "cell_type": "code",
   "execution_count": 11,
   "metadata": {},
   "outputs": [],
   "source": [
    "def fv2(a,b,n):   \n",
    "    x=np.linspace(a,b,n+1)\n",
    "    f=np.sin(x)#+1\n",
    "    return f"
   ]
  },
  {
   "cell_type": "code",
   "execution_count": 12,
   "metadata": {
    "tags": []
   },
   "outputs": [],
   "source": [
    "a=0\n",
    "b=2*np.pi\n",
    "n=3"
   ]
  },
  {
   "cell_type": "code",
   "execution_count": 13,
   "metadata": {},
   "outputs": [
    {
     "data": {
      "application/vnd.jupyter.widget-view+json": {
       "model_id": "0df21655f0084eb78a351534ea909f35",
       "version_major": 2,
       "version_minor": 0
      },
      "text/plain": [
       "Canvas(toolbar=Toolbar(toolitems=[('Home', 'Reset original view', 'home', 'home'), ('Back', 'Back to previous …"
      ]
     },
     "metadata": {},
     "output_type": "display_data"
    },
    {
     "name": "stdout",
     "output_type": "stream",
     "text": [
      "eps=0.2545937399527187\n"
     ]
    }
   ],
   "source": [
    "ng=60\n",
    "pL = L_interpolator(xv2,fv2,a,b,n, ng, fr=True)"
   ]
  },
  {
   "cell_type": "code",
   "execution_count": 14,
   "metadata": {},
   "outputs": [
    {
     "data": {
      "application/vnd.jupyter.widget-view+json": {
       "model_id": "706c52327ba24461b78f79f53afe2fb7",
       "version_major": 2,
       "version_minor": 0
      },
      "text/plain": [
       "Canvas(toolbar=Toolbar(toolitems=[('Home', 'Reset original view', 'home', 'home'), ('Back', 'Back to previous …"
      ]
     },
     "metadata": {},
     "output_type": "display_data"
    },
    {
     "name": "stdout",
     "output_type": "stream",
     "text": [
      "eps=0.02664282649990979\n"
     ]
    }
   ],
   "source": [
    "n = 5\n",
    "pL = L_interpolator(xv2,fv2,a,b,n, ng, fr=True)"
   ]
  },
  {
   "cell_type": "code",
   "execution_count": 15,
   "metadata": {
    "tags": []
   },
   "outputs": [
    {
     "data": {
      "application/vnd.jupyter.widget-view+json": {
       "model_id": "b76e27440a9c49eaa931a403fd512935",
       "version_major": 2,
       "version_minor": 0
      },
      "text/plain": [
       "Canvas(toolbar=Toolbar(toolitems=[('Home', 'Reset original view', 'home', 'home'), ('Back', 'Back to previous …"
      ]
     },
     "metadata": {},
     "output_type": "display_data"
    },
    {
     "name": "stdout",
     "output_type": "stream",
     "text": [
      "eps=5.08951732331453e-05\n"
     ]
    }
   ],
   "source": [
    "n = 10\n",
    "pL = L_interpolator(xv2,fv2,a,b,n, ng, fr=True)"
   ]
  },
  {
   "cell_type": "code",
   "execution_count": 16,
   "metadata": {},
   "outputs": [
    {
     "data": {
      "application/vnd.jupyter.widget-view+json": {
       "model_id": "682328434a7140f8b5caba5cc0287575",
       "version_major": 2,
       "version_minor": 0
      },
      "text/plain": [
       "Canvas(toolbar=Toolbar(toolitems=[('Home', 'Reset original view', 'home', 'home'), ('Back', 'Back to previous …"
      ]
     },
     "metadata": {},
     "output_type": "display_data"
    },
    {
     "name": "stdout",
     "output_type": "stream",
     "text": [
      "eps=2.823019595865617e-13\n"
     ]
    }
   ],
   "source": [
    "n = 20\n",
    "pL = L_interpolator(xv2,fv2,a,b,n, ng, fr=True)"
   ]
  },
  {
   "cell_type": "markdown",
   "metadata": {},
   "source": [
    "Як бачимо, для заданої функції відхилення від її значень значень полінома швидко зменшується в нормі $\\| \\cdot \\|_\\infty$ із зростанням кількості вузлів. Як відомо (див.розділ ), при інтерполюванні розглянутими поліномами у випадку рівновіддалених вузлів так буде не для довільної функції. Це демонструє наступний приклад."
   ]
  },
  {
   "cell_type": "markdown",
   "metadata": {},
   "source": [
    "**Приклад 3.(example 8.1)** Інтерполювання функції $f(x)=(1+x^2)^{-1},\\; x \\in [-5,5]$   на **рівновіддалених вузлах**."
   ]
  },
  {
   "cell_type": "code",
   "execution_count": 17,
   "metadata": {},
   "outputs": [],
   "source": [
    "def xv3(a,b,n):\n",
    "    x=np.linspace(a,b,n+1)\n",
    "    return x"
   ]
  },
  {
   "cell_type": "code",
   "execution_count": 18,
   "metadata": {},
   "outputs": [],
   "source": [
    "def fv3(a,b,n):   \n",
    "    x=np.linspace(a,b,n+1)\n",
    "    f=1/(1+x*x)\n",
    "    return f"
   ]
  },
  {
   "cell_type": "code",
   "execution_count": 19,
   "metadata": {},
   "outputs": [],
   "source": [
    "a=-5\n",
    "b=5\n",
    "ng=60"
   ]
  },
  {
   "cell_type": "code",
   "execution_count": 20,
   "metadata": {},
   "outputs": [
    {
     "data": {
      "application/vnd.jupyter.widget-view+json": {
       "model_id": "7d5cb36751ac427a9fa28f8bfbd0c6af",
       "version_major": 2,
       "version_minor": 0
      },
      "text/plain": [
       "Canvas(toolbar=Toolbar(toolitems=[('Home', 'Reset original view', 'home', 'home'), ('Back', 'Back to previous …"
      ]
     },
     "metadata": {},
     "output_type": "display_data"
    },
    {
     "name": "stdout",
     "output_type": "stream",
     "text": [
      "eps=0.4326923076923077\n"
     ]
    }
   ],
   "source": [
    "n = 5\n",
    "pL = L_interpolator(xv3,fv3,a,b,n, ng, fr=True)"
   ]
  },
  {
   "cell_type": "code",
   "execution_count": 21,
   "metadata": {},
   "outputs": [
    {
     "data": {
      "application/vnd.jupyter.widget-view+json": {
       "model_id": "2fe7b5f5d32e49689498bc07a4f9a924",
       "version_major": 2,
       "version_minor": 0
      },
      "text/plain": [
       "Canvas(toolbar=Toolbar(toolitems=[('Home', 'Reset original view', 'home', 'home'), ('Back', 'Back to previous …"
      ]
     },
     "metadata": {},
     "output_type": "display_data"
    },
    {
     "name": "stdout",
     "output_type": "stream",
     "text": [
      "eps=1.9007638550703463\n"
     ]
    }
   ],
   "source": [
    "n = 10\n",
    "pL = L_interpolator(xv3,fv3,a,b,n, ng, fr=True)"
   ]
  },
  {
   "cell_type": "code",
   "execution_count": 22,
   "metadata": {},
   "outputs": [
    {
     "data": {
      "application/vnd.jupyter.widget-view+json": {
       "model_id": "7e8bd82e8dfa4dd0af335c6819511e29",
       "version_major": 2,
       "version_minor": 0
      },
      "text/plain": [
       "Canvas(toolbar=Toolbar(toolitems=[('Home', 'Reset original view', 'home', 'home'), ('Back', 'Back to previous …"
      ]
     },
     "metadata": {},
     "output_type": "display_data"
    },
    {
     "name": "stdout",
     "output_type": "stream",
     "text": [
      "eps=56.63118692857735\n"
     ]
    }
   ],
   "source": [
    "n = 20\n",
    "pL = L_interpolator(xv3,fv3,a,b,n, ng, fr=True)"
   ]
  },
  {
   "cell_type": "markdown",
   "metadata": {},
   "source": [
    "Як бачимо, для заданої функції відхилення значень інтерполяційного полінома зростає поблизу кінців відрізка."
   ]
  },
  {
   "cell_type": "code",
   "execution_count": 23,
   "metadata": {
    "tags": []
   },
   "outputs": [],
   "source": [
    "plt.close('all')"
   ]
  },
  {
   "cell_type": "code",
   "execution_count": null,
   "metadata": {},
   "outputs": [],
   "source": []
  }
 ],
 "metadata": {
  "kernelspec": {
   "display_name": "Python 3 (ipykernel)",
   "language": "python",
   "name": "python3"
  },
  "language_info": {
   "codemirror_mode": {
    "name": "ipython",
    "version": 3
   },
   "file_extension": ".py",
   "mimetype": "text/x-python",
   "name": "python",
   "nbconvert_exporter": "python",
   "pygments_lexer": "ipython3",
   "version": "3.9.7"
  }
 },
 "nbformat": 4,
 "nbformat_minor": 4
}
