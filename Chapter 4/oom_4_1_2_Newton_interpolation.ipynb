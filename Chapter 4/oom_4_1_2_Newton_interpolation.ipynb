{
 "cells": [
  {
   "cell_type": "markdown",
   "metadata": {},
   "source": [
    "# 4.1. Інтерполяція функцій поліномами\n",
    "--------------------\n",
    "\n",
    "Інтерполювання функції  $y=f(x),\\, x\\in [a,b],$ поліномами \n",
    "\n",
    "$(1)\\quad\\qquad L_n (x)= \\sum_{i=0}^n a_i x^i, \\; n\\in \\mathbb{N}\\cup \\{0\\},$\n",
    "\n",
    "полягає у знаходженні таких поліномів, які наближують цю функцію на відрізку $[a,b]$ з деякою точністю, \n",
    "якщо відомі значення $ f_0 = f(x_0),\\, f_1 = f(x_1), ... ,\\, f_n = f(x_n)$ на скінченій множині точок $ x_0, x_1, ... , x_n$. "
   ]
  },
  {
   "cell_type": "markdown",
   "metadata": {
    "tags": []
   },
   "source": [
    "## 4.1.2. Інтерполяційний поліном Ньютона\n",
    "-----------\n",
    "Інтерполяційний поліном Ньютона $L_n(x)$ є такою формою подання інтерполяційного полінома, яка забезпечує його обчислення через відповідне значення $L_{n-1}(x)$:\n",
    "\n",
    "$(5)\\quad\\qquad L_n(x) = L_{n-1}(x) + (x-x_0)(x-x_1) \\ldots (x-x_{n-1})f(x_0;x_1; \\ldots; x_n), \\; n \\in  \\mathbb{N},$\n",
    "\n",
    "\n",
    "де $f(x_0;x_1; \\ldots; x_n)$ -- розділена різниця $n$-го порядку."
   ]
  },
  {
   "cell_type": "markdown",
   "metadata": {
    "tags": []
   },
   "source": [
    "Розділені різниці обчислюють рекурентно за формулю\n",
    "\n",
    "$(5)\\quad\\qquad\n",
    "f(x_{i-1};x_{i}; \\ldots; x_{i+k}):=\\dfrac{f(x_{i};x_{i+1}; \\ldots; x_{i+k}) - f(x_{i-1};x_{i}; \\ldots;\n",
    "x_{i+k-1})}{x_{i+k}-x_{i-1}},\\; i=\\overline{1, n-k},\\; k=\\overline{1, n}.$\n",
    "\n",
    "Під час обчислення розділені різниці можна зберігати у такій структурі з рядками змінної довжини\n",
    "\n",
    "\\begin{equation}\n",
    "\\begin{cases}\n",
    "f(x_0) \\\\\n",
    "f(x_1) \\quad f(x_0; x_1) \\\\\n",
    "f(x_2) \\quad f(x_1; x_2) \\quad f(x_0; x_1; x_2)\\\\\n",
    " \\ldots\\quad \\quad \\ldots  \\\\\n",
    "f(x_n) \\quad f(x_{n-1}; x_n)  \\quad f(x_{n-2}; x_{n-1}; x_n) \\quad \\ldots \\quad f(x_0;x_1; \\ldots; x_n),\n",
    "\\end{cases}\n",
    "\\end{equation}"
   ]
  },
  {
   "cell_type": "markdown",
   "metadata": {
    "tags": []
   },
   "source": [
    "У явному вигляді подання (5) можна переписати так\n",
    "\n",
    "$ L_n(x)= f(x_0)+(x-x_0)f(x_0;x_1) + (x-x_0)(x-x_1)f(x_0;x_1;x_2) + \\ldots +(x-x_0)(x-x_1) \\ldots (x-x_{n-1}) f(x_0;x_1;\\ldots; x_n).\n",
    "$"
   ]
  },
  {
   "cell_type": "markdown",
   "metadata": {
    "id": "C56etMUzw6qS",
    "tags": []
   },
   "source": [
    "#### Пояснення до використання програмного коду\n",
    "-----------------\n",
    "*   Підготувати середовище і потрібні функції : \n",
    "    1. виконати комірку для підготовки середовища \n",
    "    2.   виконати комірки, де **визначені** функції ``divided_differences``,``Newton_interpolation`` і ``N_interpolator``\n",
    "\n",
    "*   Обчислити наближені значення конкретної функції :   :    \n",
    "    1. виконати комірку, де **визначені** функції, які задають вузли інтерполювання і значення конкретної функції у цих вузлах\n",
    "    2. виконати комірку, в якій задають координати відрізка ``[a,b]`` і викликають функції для задання даних інтерполювання і обчислення розділених різниць\n",
    "    3. якщо треба обчислити: \n",
    "        -  одне наближене значення функції в деякій точці, то виконати комірку з викликом функції ``Newton_interpolation`` з відповідними значеннями аргументів\n",
    "        -  кілька наближених значень функції в рівновіддалених точках на ``[a,b]``, то викликати функцію ``N_interpolator`` з відповідними значеннями аргументів; у цьому випадку за замовчуванням (при ``prnt=True`` ) будуть побудовані графіки полінома і функції, яку інтерполюють (при ``fr=True`` ), а також буде обчислено найбільше відхилення знайденого полінома від цієї фукції."
   ]
  },
  {
   "cell_type": "markdown",
   "metadata": {
    "tags": []
   },
   "source": [
    "#### Програмна реалізація методу\n",
    "------------"
   ]
  },
  {
   "cell_type": "markdown",
   "metadata": {
    "tags": []
   },
   "source": [
    ">#### Підготовка середовища"
   ]
  },
  {
   "cell_type": "code",
   "execution_count": 1,
   "metadata": {},
   "outputs": [],
   "source": [
    "#%matplotlib inline\n",
    "%matplotlib widget\n",
    "import matplotlib.pyplot as plt\n",
    "import numpy as np"
   ]
  },
  {
   "cell_type": "markdown",
   "metadata": {},
   "source": [
    ">#### ``divided_differences`` -- функція для обчислення розділених різниць функції ``f`` на масиві точок ``xs``"
   ]
  },
  {
   "cell_type": "code",
   "execution_count": 2,
   "metadata": {},
   "outputs": [],
   "source": [
    "def divided_differences(xs,f):\n",
    "    \"\"\"обчислення розділених різниць функції f на масиві точок xs \"\"\"\n",
    "    ddm=np.empty(xs.size)\n",
    "    ddm[0]=f[0]\n",
    "    \n",
    "    dd=list()\n",
    "    dd.append(f)   \n",
    "    n=xs.size-1\n",
    "    \n",
    "    for k in range(1,n+1):\n",
    "        fn=np.empty(n-k+1)\n",
    "        for i in range(n-k+1):            \n",
    "            fn[i]=(dd[k-1][i+1]-dd[k-1][i])/(xs[i+k]-xs[i])\n",
    "        ddm[k]=fn[0]\n",
    "        dd.append(fn)\n",
    "    return ddm      "
   ]
  },
  {
   "cell_type": "markdown",
   "metadata": {},
   "source": [
    ">#### ``Newton_interpolation`` -- функція для обчислення інтерполяційного полінома Ньютона"
   ]
  },
  {
   "cell_type": "code",
   "execution_count": 3,
   "metadata": {},
   "outputs": [],
   "source": [
    "def Newton_interpolation(x,k, xs, ddm):\n",
    "    \"\"\"обчислення значення інтерполяційного полінома \n",
    "       x - точка, в якій обчислюють значення полінома\n",
    "       k - степінь полінома\n",
    "       xs - масив вузлів\n",
    "       ddm - розділені різниці\n",
    "    \"\"\"\n",
    "    pk=ddm[0]\n",
    "    w=1\n",
    "    for i in range(1,k+1):\n",
    "        w*=x-xs[i-1]\n",
    "        pk+=w*ddm[i]       \n",
    "    return pk"
   ]
  },
  {
   "cell_type": "markdown",
   "metadata": {},
   "source": [
    ">#### ``N_interpolator`` -- функція, яка реалізує процес інтерполювання"
   ]
  },
  {
   "cell_type": "code",
   "execution_count": 4,
   "metadata": {},
   "outputs": [],
   "source": [
    "def N_interpolator(xv,fv,a,b,n,m,ng,prnt=True,fr=False):\n",
    "    \"\"\"наближення заданої таблично функції на відрізку [a,b] поліномом Ньютона m-го степеня\n",
    "       xv - функція, яка встановлює вузли інтерполювання\n",
    "       fv - функція, яка задає табличні значення функції у вузлах інтерполювання\n",
    "       ng - кількість точок, у яких обчислюють значення полінома\n",
    "    \"\"\"\n",
    "    x=xv(a,b,n)\n",
    "    \n",
    "    if m>x.size-1:\n",
    "        print(f\" недостатня кількість інтерполяційних вузлів\")\n",
    "        return\n",
    "    \n",
    "    f=fv(a,b,n)\n",
    "    ddm=divided_differences(x,f)\n",
    "    \n",
    "    xg=np.linspace(a,b,ng+1)\n",
    "\n",
    "    pm=np.empty(ng+1)\n",
    "    i=0\n",
    "    for xi in xg:\n",
    "        pm[i]=Newton_interpolation(xi,m, x, ddm)\n",
    "        i+=1\n",
    "    \n",
    "    if prnt== False:\n",
    "        return pm\n",
    "    \n",
    "    plt.close('all')\n",
    "    \n",
    "    fig = plt.figure(figsize=(8, 5))\n",
    "    ax = fig.gca()\n",
    "    ax.axhline(color=\"grey\", ls=\"--\", zorder=-1)\n",
    "    ax.axvline(color=\"grey\", ls=\"--\", zorder=-1)\n",
    "    plt.plot(xg, pm)\n",
    "    \n",
    "    plt.scatter(x, f, marker='o')\n",
    "    if fr==True:\n",
    "        fg=fv(a,b,ng)\n",
    "        plt.plot(xg, fg,'--')\n",
    "        eps=np.max(np.abs(pm-fg))\n",
    "        print(f\"eps={eps}\")\n",
    "    \n",
    "    return pm    "
   ]
  },
  {
   "cell_type": "markdown",
   "metadata": {},
   "source": [
    "#### Обчислювальні експерименти\n",
    "____________________"
   ]
  },
  {
   "cell_type": "markdown",
   "metadata": {
    "tags": []
   },
   "source": [
    "Продемонструємо використання інтерполяційного полінома Ньютона для наближення функцій."
   ]
  },
  {
   "cell_type": "markdown",
   "metadata": {},
   "source": [
    "**Приклад 1.** Інтерполювання функції $f$, яка на множині $(0, 2, 3, 5)$ набуває значення $f(0)=2, \\, f(2)=4,\\, f(3)=6, \\,f(5)=8$. \n"
   ]
  },
  {
   "cell_type": "markdown",
   "metadata": {},
   "source": [
    "**Приклад 1.** Інтерполювання функції, заданої таблицею   \n",
    "\n",
    " $$\n",
    " \\begin{tabular}{|c|c|c|c|c|c|}\n",
    " \\hline\n",
    " $i$ & $0$ & $1$ & $2$ & $3$\n",
    " \\\\\n",
    " \\hline\n",
    " $x_i$ & $0$ & $2$ & $3$ & $5$\n",
    " \\\\ \\hline\n",
    " $y_i $ %\\phantom{$\\Bigg|$}\n",
    " & $2$ & $4$ & $6$  & $8$\n",
    "  \\\\ \\hline\n",
    " \\end{tabular} \n",
    " \n",
    " $$\n",
    " \n",
    " на відрізку $[a, b]$"
   ]
  },
  {
   "cell_type": "markdown",
   "metadata": {},
   "source": [
    "Визначимо функції, які повертають вузли інтерполювання та відповідні значення функції:"
   ]
  },
  {
   "cell_type": "code",
   "execution_count": 5,
   "metadata": {},
   "outputs": [],
   "source": [
    "def xv1(a,b,n):    \n",
    "    \"\"\" встановлення вузлів інтерполювання\"\"\"\n",
    "    return np.array([0,2,3,5], dtype='float32')"
   ]
  },
  {
   "cell_type": "code",
   "execution_count": 6,
   "metadata": {},
   "outputs": [],
   "source": [
    "def fv1(a,b,n):\n",
    "    \"\"\" задання значень функції у вузлах інтерполювання\"\"\"\n",
    "    return np.array([2,4,6,8], dtype='float32')"
   ]
  },
  {
   "cell_type": "markdown",
   "metadata": {},
   "source": [
    "Задамо також кінці відрізка та кількість вузлів інтерполювання:"
   ]
  },
  {
   "cell_type": "code",
   "execution_count": 7,
   "metadata": {},
   "outputs": [],
   "source": [
    "a=0\n",
    "b=5\n",
    "n=3"
   ]
  },
  {
   "cell_type": "markdown",
   "metadata": {},
   "source": [
    "Якщо треба обчислити наближені значення функції **в окремих точках**, то спочатку обчислимо за відомими значеннями функцій розділені різниці:"
   ]
  },
  {
   "cell_type": "code",
   "execution_count": 8,
   "metadata": {},
   "outputs": [],
   "source": [
    "x1=xv1(a,b,n)\n",
    "ddm = divided_differences(x1,fv1(a,b,n))"
   ]
  },
  {
   "cell_type": "markdown",
   "metadata": {},
   "source": [
    "і використаємо їх у функції ``Newton_interpolation`` для побудови інтерполяційного полінома Ньютона ``m``-го степеня (``m <= n``) та обчислення його значення в точці ``xi``: "
   ]
  },
  {
   "cell_type": "code",
   "execution_count": 9,
   "metadata": {},
   "outputs": [
    {
     "data": {
      "text/plain": [
       "3.1"
      ]
     },
     "execution_count": 9,
     "metadata": {},
     "output_type": "execute_result"
    }
   ],
   "source": [
    "xi=1.5\n",
    "m=3\n",
    "Newton_interpolation(xi,m, x1, ddm)"
   ]
  },
  {
   "cell_type": "markdown",
   "metadata": {},
   "source": [
    "Щоб знайти значення інтерполяційного полінома в іншій точці, задаємо її координати і повторюємо виклик ``Newton_interpolation`` :"
   ]
  },
  {
   "cell_type": "code",
   "execution_count": 10,
   "metadata": {},
   "outputs": [
    {
     "data": {
      "text/plain": [
       "5.0"
      ]
     },
     "execution_count": 10,
     "metadata": {},
     "output_type": "execute_result"
    }
   ],
   "source": [
    "xi=2.5\n",
    "Newton_interpolation(xi,m, x1, ddm)"
   ]
  },
  {
   "cell_type": "markdown",
   "metadata": {
    "tags": []
   },
   "source": [
    "Якщо ж треба обчислити значення інтерполяційного полінома Ньютона ``m``-го степеня в ``ng`` **рівновіддалених точках** на ``[a,b]``, то використовуємо функцію ``N_interpolator``, яка визначає необхідні для інтерполювання кроки\n",
    ":"
   ]
  },
  {
   "cell_type": "code",
   "execution_count": 11,
   "metadata": {},
   "outputs": [
    {
     "data": {
      "application/vnd.jupyter.widget-view+json": {
       "model_id": "2cc9a593ced94a6c9e12e6e974428cda",
       "version_major": 2,
       "version_minor": 0
      },
      "text/plain": [
       "Canvas(toolbar=Toolbar(toolitems=[('Home', 'Reset original view', 'home', 'home'), ('Back', 'Back to previous …"
      ]
     },
     "metadata": {},
     "output_type": "display_data"
    },
    {
     "data": {
      "text/plain": [
       "array([2.        , 1.9679784 , 1.94938272, 1.94375   , 1.95061728,\n",
       "       1.9695216 , 2.        , 2.04158951, 2.09382716, 2.15625   ,\n",
       "       2.22839506, 2.30979938, 2.4       , 2.49853395, 2.60493827,\n",
       "       2.71875   , 2.83950617, 2.96674383, 3.1       , 3.23881173,\n",
       "       3.38271605, 3.53125   , 3.68395062, 3.84035494, 4.        ,\n",
       "       4.16242284, 4.32716049, 4.49375   , 4.6617284 , 4.83063272,\n",
       "       5.        , 5.16936728, 5.3382716 , 5.50625   , 5.67283951,\n",
       "       5.83757716, 6.        , 6.15964506, 6.31604938, 6.46875   ,\n",
       "       6.61728395, 6.76118827, 6.9       , 7.03325617, 7.16049383,\n",
       "       7.28125   , 7.39506173, 7.50146605, 7.6       , 7.69020062,\n",
       "       7.77160494, 7.84375   , 7.90617284, 7.95841049, 8.        ,\n",
       "       8.0304784 , 8.04938272, 8.05625   , 8.05061728, 8.0320216 ,\n",
       "       8.        ])"
      ]
     },
     "execution_count": 11,
     "metadata": {},
     "output_type": "execute_result"
    }
   ],
   "source": [
    "m=3\n",
    "ng=60\n",
    "N_interpolator(xv1,fv1,a,b,n,m,ng,prnt=True)"
   ]
  },
  {
   "cell_type": "markdown",
   "metadata": {},
   "source": [
    "Зазначимо, що функція ``N_interpolator`` при значеннях аргументів ``prnt=True`` виводить на графічну панель графік інтерполяційного полінома, а якщо відома формула інтерпольованої функції (як це буде продемонстровано в наступному прикладі), то при ``fr=True`` будується графік цієї функції і виводиться максимум відхилення інтерполяційного полінома від заданої функції."
   ]
  },
  {
   "cell_type": "markdown",
   "metadata": {},
   "source": [
    "**Приклад 2.** Інтерполювання функції $f(x)=sin(x),\\; x \\in [0,2\\pi]$  на **рівновіддалених вузлах**. "
   ]
  },
  {
   "cell_type": "markdown",
   "metadata": {},
   "source": [
    "Визначимо функції, які окремо повертають множину рівновіддалених вузлів інтерполювання та відповідні значення функції:"
   ]
  },
  {
   "cell_type": "code",
   "execution_count": 12,
   "metadata": {},
   "outputs": [],
   "source": [
    "def xv2(a,b,n):\n",
    "    x=np.linspace(a,b,n+1)\n",
    "    return x"
   ]
  },
  {
   "cell_type": "code",
   "execution_count": 13,
   "metadata": {},
   "outputs": [],
   "source": [
    "def fv2(a,b,n):   \n",
    "    x=np.linspace(a,b,n+1)\n",
    "    f=np.sin(x)#+1\n",
    "    return f"
   ]
  },
  {
   "cell_type": "markdown",
   "metadata": {},
   "source": [
    "Визначимо координати відрізка інтерполювання та кількість вузлів:"
   ]
  },
  {
   "cell_type": "code",
   "execution_count": 14,
   "metadata": {},
   "outputs": [],
   "source": [
    "a=0\n",
    "b=2*np.pi\n",
    "n=3"
   ]
  },
  {
   "cell_type": "markdown",
   "metadata": {},
   "source": [
    "Тепер обчислимо значення інтерполяційного полінома Ньютона ``m``-го степеня в ``ng`` точках відрізка:"
   ]
  },
  {
   "cell_type": "code",
   "execution_count": 15,
   "metadata": {},
   "outputs": [
    {
     "data": {
      "application/vnd.jupyter.widget-view+json": {
       "model_id": "7c996062e8154a0692c839656e74bf9d",
       "version_major": 2,
       "version_minor": 0
      },
      "text/plain": [
       "Canvas(toolbar=Toolbar(toolitems=[('Home', 'Reset original view', 'home', 'home'), ('Back', 'Back to previous …"
      ]
     },
     "metadata": {},
     "output_type": "display_data"
    },
    {
     "name": "stdout",
     "output_type": "stream",
     "text": [
      "eps=0.2545937399527193\n"
     ]
    }
   ],
   "source": [
    "m=3\n",
    "ng=60\n",
    "pN = N_interpolator(xv2,fv2,a,b,n,m,ng,fr=True)"
   ]
  },
  {
   "cell_type": "markdown",
   "metadata": {},
   "source": [
    "Розглянемо тепер інтерполяцію поліномами вищого степеня. Як і слід очікувати, при заданні степеня полінома меншим кількості використаних при цьому вузлів матимемо значне відхилення значень полінома від значень функції, наприклад:    "
   ]
  },
  {
   "cell_type": "code",
   "execution_count": 16,
   "metadata": {},
   "outputs": [
    {
     "data": {
      "application/vnd.jupyter.widget-view+json": {
       "model_id": "461f383b24f942c3a5c2aff44a45b454",
       "version_major": 2,
       "version_minor": 0
      },
      "text/plain": [
       "Canvas(toolbar=Toolbar(toolitems=[('Home', 'Reset original view', 'home', 'home'), ('Back', 'Back to previous …"
      ]
     },
     "metadata": {},
     "output_type": "display_data"
    },
    {
     "name": "stdout",
     "output_type": "stream",
     "text": [
      "eps=3.3677098243468913\n"
     ]
    }
   ],
   "source": [
    "n = 5\n",
    "m = 3\n",
    "pN = N_interpolator(xv2,fv2,a,b,n,m,ng,fr=True)"
   ]
  },
  {
   "cell_type": "markdown",
   "metadata": {},
   "source": [
    "Тому далі, збільшуючи кількість вузлів, братимемо такий самий степінь полінома: "
   ]
  },
  {
   "cell_type": "code",
   "execution_count": 17,
   "metadata": {},
   "outputs": [
    {
     "data": {
      "application/vnd.jupyter.widget-view+json": {
       "model_id": "e3fe9c614bdb44d59d366716cadebe90",
       "version_major": 2,
       "version_minor": 0
      },
      "text/plain": [
       "Canvas(toolbar=Toolbar(toolitems=[('Home', 'Reset original view', 'home', 'home'), ('Back', 'Back to previous …"
      ]
     },
     "metadata": {},
     "output_type": "display_data"
    },
    {
     "name": "stdout",
     "output_type": "stream",
     "text": [
      "eps=0.02664282649990979\n"
     ]
    }
   ],
   "source": [
    "n = 5\n",
    "m = 5\n",
    "pN = N_interpolator(xv2,fv2,a,b,n,m,ng,fr=True)"
   ]
  },
  {
   "cell_type": "code",
   "execution_count": 18,
   "metadata": {},
   "outputs": [
    {
     "data": {
      "application/vnd.jupyter.widget-view+json": {
       "model_id": "0a11bd4ade354ffda6b77ec047142819",
       "version_major": 2,
       "version_minor": 0
      },
      "text/plain": [
       "Canvas(toolbar=Toolbar(toolitems=[('Home', 'Reset original view', 'home', 'home'), ('Back', 'Back to previous …"
      ]
     },
     "metadata": {},
     "output_type": "display_data"
    },
    {
     "name": "stdout",
     "output_type": "stream",
     "text": [
      "eps=5.0895173235671054e-05\n"
     ]
    }
   ],
   "source": [
    "n = 10\n",
    "m = 10\n",
    "pN = N_interpolator(xv2,fv2,a,b,n,m,ng,fr=True)"
   ]
  },
  {
   "cell_type": "code",
   "execution_count": 19,
   "metadata": {},
   "outputs": [
    {
     "data": {
      "application/vnd.jupyter.widget-view+json": {
       "model_id": "492dfdac897846c4b7bd22d958a5bbba",
       "version_major": 2,
       "version_minor": 0
      },
      "text/plain": [
       "Canvas(toolbar=Toolbar(toolitems=[('Home', 'Reset original view', 'home', 'home'), ('Back', 'Back to previous …"
      ]
     },
     "metadata": {},
     "output_type": "display_data"
    },
    {
     "name": "stdout",
     "output_type": "stream",
     "text": [
      "eps=1.3457290837237679e-13\n"
     ]
    }
   ],
   "source": [
    "n = 20\n",
    "m = 20\n",
    "pN = N_interpolator(xv2,fv2,a,b,n,m,ng,fr=True)"
   ]
  },
  {
   "cell_type": "markdown",
   "metadata": {},
   "source": [
    "Як бачимо, для заданої функції відхилення від її значень значень полінома швидко зменшується в нормі $\\| \\cdot \\|_\\infty$ із зростанням кількості вузлів. Як відомо (див.розділ ), при інтерполюванні розглянутими поліномами у випадку рівновіддалених вузлів так буде не для довільної функції. Це демонструє наступний приклад."
   ]
  },
  {
   "cell_type": "markdown",
   "metadata": {},
   "source": [
    "**Приклад 3.(example 8.1)** Інтерполювання функції $f(x)=(1+x^2)^{-1},\\; x \\in [-5,5]$  на **рівновіддалених вузлах**."
   ]
  },
  {
   "cell_type": "markdown",
   "metadata": {},
   "source": [
    "Виконаємо аналогічні кроки, що і в попередньому прикладі і розглянемо інтерполювання при зростанні кількості рівновіддалених вузлів:"
   ]
  },
  {
   "cell_type": "code",
   "execution_count": 20,
   "metadata": {},
   "outputs": [],
   "source": [
    "def xv3(a,b,n):\n",
    "    x=np.linspace(a,b,n+1)\n",
    "    return x"
   ]
  },
  {
   "cell_type": "code",
   "execution_count": 21,
   "metadata": {},
   "outputs": [],
   "source": [
    "def fv3(a,b,n):   \n",
    "    x=np.linspace(a,b,n+1)\n",
    "    f=1/(1+x*x)\n",
    "    return f"
   ]
  },
  {
   "cell_type": "code",
   "execution_count": 22,
   "metadata": {},
   "outputs": [],
   "source": [
    "a=-5\n",
    "b=5"
   ]
  },
  {
   "cell_type": "code",
   "execution_count": 23,
   "metadata": {},
   "outputs": [
    {
     "data": {
      "application/vnd.jupyter.widget-view+json": {
       "model_id": "07b525cb506541aba32e8a8a803d6fc5",
       "version_major": 2,
       "version_minor": 0
      },
      "text/plain": [
       "Canvas(toolbar=Toolbar(toolitems=[('Home', 'Reset original view', 'home', 'home'), ('Back', 'Back to previous …"
      ]
     },
     "metadata": {},
     "output_type": "display_data"
    },
    {
     "name": "stdout",
     "output_type": "stream",
     "text": [
      "eps=0.4326923076923076\n"
     ]
    }
   ],
   "source": [
    "n = 5\n",
    "m = 5\n",
    "pN = N_interpolator(xv3,fv3,a,b,n,m,ng,fr=True)"
   ]
  },
  {
   "cell_type": "code",
   "execution_count": 24,
   "metadata": {},
   "outputs": [
    {
     "data": {
      "application/vnd.jupyter.widget-view+json": {
       "model_id": "568201d561f4485785d76b9cf1a28083",
       "version_major": 2,
       "version_minor": 0
      },
      "text/plain": [
       "Canvas(toolbar=Toolbar(toolitems=[('Home', 'Reset original view', 'home', 'home'), ('Back', 'Back to previous …"
      ]
     },
     "metadata": {},
     "output_type": "display_data"
    },
    {
     "name": "stdout",
     "output_type": "stream",
     "text": [
      "eps=1.9007638550703447\n"
     ]
    }
   ],
   "source": [
    "n = 10\n",
    "m = 10\n",
    "pN = N_interpolator(xv3,fv3,a,b,n,m,ng,fr=True)"
   ]
  },
  {
   "cell_type": "code",
   "execution_count": 25,
   "metadata": {},
   "outputs": [
    {
     "data": {
      "application/vnd.jupyter.widget-view+json": {
       "model_id": "3a26fab35d2c45049512d1024d332427",
       "version_major": 2,
       "version_minor": 0
      },
      "text/plain": [
       "Canvas(toolbar=Toolbar(toolitems=[('Home', 'Reset original view', 'home', 'home'), ('Back', 'Back to previous …"
      ]
     },
     "metadata": {},
     "output_type": "display_data"
    },
    {
     "name": "stdout",
     "output_type": "stream",
     "text": [
      "eps=56.63118692857639\n"
     ]
    }
   ],
   "source": [
    "n = 20\n",
    "m = 20\n",
    "pN = N_interpolator(xv3,fv3,a,b,n,m,ng,fr=True)"
   ]
  },
  {
   "cell_type": "markdown",
   "metadata": {},
   "source": [
    "Як бачимо, для заданої функції відхилення значень інтерполяційного полінома зростає поблизу кінців відрізка."
   ]
  },
  {
   "cell_type": "code",
   "execution_count": null,
   "metadata": {
    "tags": []
   },
   "outputs": [],
   "source": [
    "plt.close('all')"
   ]
  },
  {
   "cell_type": "code",
   "execution_count": null,
   "metadata": {},
   "outputs": [],
   "source": []
  }
 ],
 "metadata": {
  "kernelspec": {
   "display_name": "Python 3 (ipykernel)",
   "language": "python",
   "name": "python3"
  },
  "language_info": {
   "codemirror_mode": {
    "name": "ipython",
    "version": 3
   },
   "file_extension": ".py",
   "mimetype": "text/x-python",
   "name": "python",
   "nbconvert_exporter": "python",
   "pygments_lexer": "ipython3",
   "version": "3.9.7"
  }
 },
 "nbformat": 4,
 "nbformat_minor": 4
}
