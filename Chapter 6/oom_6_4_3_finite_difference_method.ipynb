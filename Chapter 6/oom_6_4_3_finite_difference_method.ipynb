{
 "cells": [
  {
   "cell_type": "markdown",
   "metadata": {
    "id": "uDSAycn9QF1Y"
   },
   "source": [
    "# 6.4. Чисельне розв'язування крайових задач для звичайних диференціальних рівнянь\n",
    "---------------------"
   ]
  },
  {
   "cell_type": "markdown",
   "metadata": {
    "id": "TrvVaZ02QF1h"
   },
   "source": [
    "## 6.4.3.  Розв'язування крайових задач для ЗДР методом скінчених різниць (сіток) "
   ]
  },
  {
   "cell_type": "markdown",
   "metadata": {},
   "source": [
    "Розглянемо крайову задачу \n",
    "\n",
    "$(1)\\quad\\qquad\\qquad\\qquad u''+q(x)u=f(x), \\quad x \\in (0,l),$\n",
    "\n",
    "$(2)\\quad\\qquad\\qquad\\qquad \\alpha_0u'(0)+\\beta_0u(0)=\\gamma_0,$\n",
    "\n",
    "$(3)\\quad\\qquad\\qquad\\qquad\\alpha_1u'(0)+\\beta_1u(0)=\\gamma_1,$\n",
    "\n",
    "де $q, f\\in C([0,l])$, а $\\alpha_0,  \\beta_0, \\gamma_0, \\alpha_1,  \\beta_1, \\gamma_1$ -- сталі, \n",
    " причому  \n",
    "$|\\alpha_{0}|+|\\beta_{0}|> 0,\\quad |\\alpha_{1}|+|\\beta_{1}|> 0$.\n",
    "\n",
    "Нехай ця задача має і тільки один розв'язок $C^2[0,l]$.  "
   ]
  },
  {
   "cell_type": "markdown",
   "metadata": {},
   "source": [
    "Побудуємо сітку --- систему з $N+1, \\; N\\in \\mathbb{N},$ точок\n",
    "$$\n",
    "x_i=ih,\\quad i=\\overline{0,N},\\quad \\text{де}\\ \\  h:=\\dfrac{l}{N}.\n",
    "$$\n",
    "У методі сіток чисельним розв'язком крайової задачі (1)-(3) є наближення сіткових значень $u_i,\\, i=\\overline{0,N},$  розв'язку   $u$ у вузлах $x_i,\\, i=\\overline{0,N}.$\n",
    "\n",
    "Після заміни похідних першого і другого порядку від функції $u$ у вузлах сітки різницевими співвідношеннями матимемо СЛАР \n",
    "\n",
    "$(4)\\quad\\qquad\\qquad\\qquad \\sum_{i=0}^{N}c_{ij}u_i=d_j,\\quad j=\\overline{0,N},$\n",
    "\n",
    "з квадратною тридіагональною матрицею\n",
    "$$\n",
    "C=\n",
    "\\begin{pmatrix}\n",
    "-\\alpha_0+\\beta_0h& \\alpha_0& 0& \\ldots& 0& 0& 0\\\\\n",
    "1& h^2q_1-2& 1& \\ldots& 0& 0& 0\\\\\n",
    "0& 1& h^2q_2-2& \\ldots& 0& 0& 0\\\\\n",
    "\\ldots& \\ldots& \\ldots& \\ldots& \\ldots& \\ldots& \\ldots\\\\\n",
    "0& 0& 0& \\ldots& 1& h^2q_{N-1}-2& 1\\\\\n",
    "0& 0& 0& \\ldots& 0& -\\alpha_1& \\alpha_1+h\\beta_1\n",
    "\\end{pmatrix}\n",
    "$$\n",
    "і вектором вільних членів $d$, де \n",
    "$d_0 = h\\gamma_0, \\; d_N= h\\gamma_1, \\; d_i=h^2 f(x_i),\\; i=\\overline{1,N-1}$.\n",
    "\n",
    "Беручи до уваги діагональну структуру матриці, розв'язок СЛАР (5) знаходимо методом прогонки. Отриманий вектор і буде шуканим чисельним розв'язком крайової задачі (1)-(3). "
   ]
  },
  {
   "cell_type": "markdown",
   "metadata": {
    "id": "C56etMUzw6qS",
    "tags": []
   },
   "source": [
    "#### Пояснення до використання програмного коду\n",
    "-----------------\n",
    "*   Підготувати потрібні функції : \n",
    "    1.   виконати комірку з імпортом NumPy \n",
    "    2.   виконати комірку з функціями  $q$ і $f$\n",
    "    3.   виконати комірку з функцією set_matrix_diagonals_and_vector\n",
    "    3.   виконати комірку з функцією tridiagonal_matrix_algorithm\n",
    "\n",
    "*    Задати дані крайової задачі :\n",
    "     1.   виконати комірку, в якій задано усі параметри крайової задачі \n",
    "\n",
    "*    Задання параметра сітки і обчислення матриці та вектора вільних членів СЛАР :\n",
    "     1.   виконати комірку, в якій задано параметр  $N$\n",
    "     2.   виконати комірку з викликом функції set_matrix_diagonals_and_vector\n",
    "\n",
    "*   Знайти чисельний розв'язок крайової задачі:\n",
    "     1. Виконати комірку з викликом функції tridiagonal_matrix_algorithm"
   ]
  },
  {
   "cell_type": "code",
   "execution_count": null,
   "metadata": {
    "id": "Dv08qO4sQF1k"
   },
   "outputs": [],
   "source": [
    "import numpy as np"
   ]
  },
  {
   "cell_type": "code",
   "execution_count": 1,
   "metadata": {},
   "outputs": [],
   "source": [
    "# Імпорт бібліотек\n",
    "%matplotlib widget\n",
    "import matplotlib.pyplot as plt\n",
    "import numpy as np\n",
    "import pandas as pd"
   ]
  },
  {
   "cell_type": "markdown",
   "metadata": {
    "id": "JML_Qdgo363W"
   },
   "source": [
    ">### Задання функцій  $q$ і $f$ \n",
    "\n",
    "---------------\n"
   ]
  },
  {
   "cell_type": "code",
   "execution_count": 2,
   "metadata": {},
   "outputs": [],
   "source": [
    "def f(x):\n",
    "    return x*x\n",
    "\n",
    "def q(x):\n",
    "    return -(x+1)"
   ]
  },
  {
   "cell_type": "markdown",
   "metadata": {
    "id": "JML_Qdgo363W"
   },
   "source": [
    ">### Функція для задання діагоналей матриці $C$ і вектора $d$\n",
    "\n",
    "---------------\n",
    "*   функція set_matrix_diagonals_and_vector задає 3 діагоналі матриці $C$ і вектор вільних членів $d$"
   ]
  },
  {
   "cell_type": "code",
   "execution_count": 7,
   "metadata": {
    "id": "IdDn2xvxQF1n"
   },
   "outputs": [],
   "source": [
    "def set_matrix_diagonals_and_vector(alpha0,alpha1,beta0,beta1, gamma0, gamma1,l,N):\n",
    "    \"\"\" функція задає 3 діагоналі матриці і вектор вільних членів СЛАР \"\"\"\n",
    "    \n",
    "    h=l/N\n",
    "    h2=h*h\n",
    "    x=np.linspace(0, l, N+1)\n",
    "    c=h2*q(x)-2\n",
    "    c[0]=-alpha0+h*beta0\n",
    "    c[N]=alpha1+h*beta1\n",
    "    a=np.ones(N+1, dtype=float)\n",
    "    a[0]=0\n",
    "    a[N]=-alpha1\n",
    "    b=np.ones(N+1, dtype=float)\n",
    "    b[0]=alpha0\n",
    "    b[N]=0\n",
    "    d=h2*f(x)\n",
    "    d[0]=gamma0\n",
    "    d[N]=gamma1\n",
    "    return c,a,b,d"
   ]
  },
  {
   "cell_type": "markdown",
   "metadata": {
    "id": "ocZR4xN_cvNf"
   },
   "source": [
    ">### Функція  tridiagonal_matrix_algorithm  реалізує метод прогонки для розв'язування СЛАР\n",
    "\n",
    "-------------------"
   ]
  },
  {
   "cell_type": "code",
   "execution_count": 4,
   "metadata": {
    "id": "0qc5BcctO5t2"
   },
   "outputs": [],
   "source": [
    "def tridiagonal_matrix_algorithm(a,b,c,g):\n",
    "    \"\"\" метод прогонки для розв'язування СЛАР\n",
    "        з 3-діагональною матрицею \n",
    "        вектор с-головна діагональ\n",
    "        вектори a i b - нижня і верхня діагоналі, паралельні головній\n",
    "        вектор g - вільні члени\n",
    "      \"\"\"\n",
    "    n1=c.size\n",
    "   \n",
    "    alpha = np.empty(n1, dtype=float ) \n",
    "    beta  = np.empty(n1, dtype=float )\n",
    "    \n",
    "    if c[0] !=0 :\n",
    "        alpha[0] =-b[0]/c[0]\n",
    "        beta [0] = g[0]/c[0]\n",
    "    else:\n",
    "        raise Exception('c[0]==0') \n",
    "    \n",
    "    for i in range(1,n1):\n",
    "        w=a[i]*alpha[i-1]+c[i]\n",
    "        if w != 0 :\n",
    "            alpha[i] =-b[i]/w\n",
    "            beta[i]  = (g[i] - a[i]*beta[i-1])/w\n",
    "        else:\n",
    "            raise Exception('w==0')\n",
    "        \n",
    "    x = np.empty(n1, dtype=float )\n",
    "    n = n1-1\n",
    "    x[n] = beta[n]\n",
    "    for i in range(n-1,-1,-1):\n",
    "        x[i] = alpha[i]*x[i+1] + beta[i]\n",
    "    return x"
   ]
  },
  {
   "cell_type": "markdown",
   "metadata": {
    "id": "HPAH-o9C_VeX"
   },
   "source": [
    ">### Задання даних конкретної крайової задачі \n",
    "---------------"
   ]
  },
  {
   "cell_type": "code",
   "execution_count": 5,
   "metadata": {
    "id": "tp8_4AioQF1q"
   },
   "outputs": [],
   "source": [
    "# Приклад 6.4 \n",
    "l=3\n",
    "alpha0=0\n",
    "alpha1=0\n",
    "beta0=1\n",
    "beta1=1\n",
    "gamma0=0\n",
    "gamma1=0"
   ]
  },
  {
   "cell_type": "markdown",
   "metadata": {
    "id": "HPAH-o9C_VeX"
   },
   "source": [
    ">### Задання параметра сітки і обчислення матриці та вектора вільних членів СЛАР \n",
    "---------------"
   ]
  },
  {
   "cell_type": "code",
   "execution_count": 6,
   "metadata": {
    "id": "tp8_4AioQF1q"
   },
   "outputs": [
    {
     "name": "stdout",
     "output_type": "stream",
     "text": [
      "[0. 1. 2. 3.]\n"
     ]
    }
   ],
   "source": [
    "N=3\n",
    "c,a,b,d=set_matrix_diagonals_and_vector(alpha0,alpha1,beta0,beta1, gamma0, gamma1,l,N)"
   ]
  },
  {
   "cell_type": "markdown",
   "metadata": {
    "id": "4OrUqmgnS2x9",
    "tags": []
   },
   "source": [
    ">### Знаходження чисельного розв'язку задачі\n",
    "\n",
    "--------------"
   ]
  },
  {
   "cell_type": "code",
   "execution_count": 8,
   "metadata": {
    "id": "0L8dI09xRUFF",
    "tags": []
   },
   "outputs": [],
   "source": [
    "u = tridiagonal_matrix_algorithm(a,b,c,d)"
   ]
  },
  {
   "cell_type": "code",
   "execution_count": 9,
   "metadata": {
    "id": "0L8dI09xRUFF"
   },
   "outputs": [
    {
     "name": "stdout",
     "output_type": "stream",
     "text": [
      "[ 0.         -0.47368421 -0.89473684  0.        ]\n"
     ]
    }
   ],
   "source": [
    "print(u)"
   ]
  },
  {
   "cell_type": "code",
   "execution_count": null,
   "metadata": {
    "tags": []
   },
   "outputs": [],
   "source": []
  },
  {
   "cell_type": "markdown",
   "metadata": {
    "tags": []
   },
   "source": [
    "##  Обчислювальні експерименти\n",
    "------------\n",
    "\n",
    "Продемонструємо знаходження чисельного розв'язку задачі (1)-(3)  на згущених сітках:"
   ]
  },
  {
   "cell_type": "code",
   "execution_count": 20,
   "metadata": {},
   "outputs": [],
   "source": [
    "x_0=np.linspace(0, l, N+1)\n",
    "#print(\"x_0\",x_0)\n",
    "c,a,b,d=set_matrix_diagonals_and_vector(alpha0,alpha1,beta0,beta1, gamma0, gamma1,l,N)\n",
    "u_0 = tridiagonal_matrix_algorithm(a,b,c,d)\n",
    "#print(\"u_0\",u_0)\n",
    "\n",
    "x_1=np.linspace(0, l, 2*N+1)\n",
    "#print(\"x_1\",x_1)\n",
    "c,a,b,d=set_matrix_diagonals_and_vector(alpha0,alpha1,beta0,beta1, gamma0, gamma1,l,2*N)\n",
    "u_1 = tridiagonal_matrix_algorithm(a,b,c,d)\n",
    "#print(\"u_1\",u_1)\n",
    "\n",
    "x_2=np.linspace(0, l, 4*N+1) \n",
    "#print(\"x_2\",x_2)\n",
    "c,a,b,d=set_matrix_diagonals_and_vector(alpha0,alpha1,beta0,beta1, gamma0, gamma1,l,4*N)\n",
    "u_2 = tridiagonal_matrix_algorithm(a,b,c,d)\n",
    "#print(\"u_2\",u_2)\n",
    "\n",
    "x_3=np.linspace(0, l, 8*N+1)\n",
    "#print(\"x_3\",x_3)\n",
    "c,a,b,d=set_matrix_diagonals_and_vector(alpha0,alpha1,beta0,beta1, gamma0, gamma1,l,8*N)\n",
    "u_3 = tridiagonal_matrix_algorithm(a,b,c,d)\n",
    "#print(\"u_3\",u_3)\n",
    "\n",
    "\n",
    "x_4=np.linspace(0, l, 16*N+1) \n",
    "#print(\"x_4\",x_4)\n",
    "c,a,b,d=set_matrix_diagonals_and_vector(alpha0,alpha1,beta0,beta1, gamma0, gamma1,l,16*N)\n",
    "u_4 = tridiagonal_matrix_algorithm(a,b,c,d)\n",
    "#print(\"u_4\",u_4)"
   ]
  },
  {
   "cell_type": "code",
   "execution_count": 22,
   "metadata": {},
   "outputs": [
    {
     "data": {
      "text/html": [
       "<div>\n",
       "<style scoped>\n",
       "    .dataframe tbody tr th:only-of-type {\n",
       "        vertical-align: middle;\n",
       "    }\n",
       "\n",
       "    .dataframe tbody tr th {\n",
       "        vertical-align: top;\n",
       "    }\n",
       "\n",
       "    .dataframe thead th {\n",
       "        text-align: right;\n",
       "    }\n",
       "</style>\n",
       "<table border=\"1\" class=\"dataframe\">\n",
       "  <thead>\n",
       "    <tr style=\"text-align: right;\">\n",
       "      <th></th>\n",
       "      <th>x</th>\n",
       "      <th>u_0</th>\n",
       "      <th>u_1</th>\n",
       "      <th>u_2</th>\n",
       "      <th>u_3</th>\n",
       "      <th>u_4</th>\n",
       "    </tr>\n",
       "  </thead>\n",
       "  <tbody>\n",
       "    <tr>\n",
       "      <th>0</th>\n",
       "      <td>1.0</td>\n",
       "      <td>-0.473684</td>\n",
       "      <td>-0.505412</td>\n",
       "      <td>-0.514449</td>\n",
       "      <td>-0.516799</td>\n",
       "      <td>-0.517392</td>\n",
       "    </tr>\n",
       "    <tr>\n",
       "      <th>1</th>\n",
       "      <td>2.0</td>\n",
       "      <td>-0.894737</td>\n",
       "      <td>-0.964912</td>\n",
       "      <td>-0.986630</td>\n",
       "      <td>-0.992444</td>\n",
       "      <td>-0.993925</td>\n",
       "    </tr>\n",
       "    <tr>\n",
       "      <th>2</th>\n",
       "      <td>3.0</td>\n",
       "      <td>0.000000</td>\n",
       "      <td>0.000000</td>\n",
       "      <td>0.000000</td>\n",
       "      <td>0.000000</td>\n",
       "      <td>0.000000</td>\n",
       "    </tr>\n",
       "  </tbody>\n",
       "</table>\n",
       "</div>"
      ],
      "text/plain": [
       "     x       u_0       u_1       u_2       u_3       u_4\n",
       "0  1.0 -0.473684 -0.505412 -0.514449 -0.516799 -0.517392\n",
       "1  2.0 -0.894737 -0.964912 -0.986630 -0.992444 -0.993925\n",
       "2  3.0  0.000000  0.000000  0.000000  0.000000  0.000000"
      ]
     },
     "execution_count": 22,
     "metadata": {},
     "output_type": "execute_result"
    }
   ],
   "source": [
    "df=pd.DataFrame({'x':x_0[1::],'u_0':u_0[1::],'u_1':u_1[2::2],'u_2':u_2[4::4],'u_3':u_3[8::8],'u_4':u_4[16::16]})\n",
    "df"
   ]
  },
  {
   "cell_type": "code",
   "execution_count": 24,
   "metadata": {},
   "outputs": [
    {
     "data": {
      "text/html": [
       "<div>\n",
       "<style scoped>\n",
       "    .dataframe tbody tr th:only-of-type {\n",
       "        vertical-align: middle;\n",
       "    }\n",
       "\n",
       "    .dataframe tbody tr th {\n",
       "        vertical-align: top;\n",
       "    }\n",
       "\n",
       "    .dataframe thead th {\n",
       "        text-align: right;\n",
       "    }\n",
       "</style>\n",
       "<table border=\"1\" class=\"dataframe\">\n",
       "  <thead>\n",
       "    <tr style=\"text-align: right;\">\n",
       "      <th></th>\n",
       "      <th>x</th>\n",
       "      <th>u_1</th>\n",
       "      <th>u_2</th>\n",
       "      <th>u_3</th>\n",
       "      <th>u_4</th>\n",
       "    </tr>\n",
       "  </thead>\n",
       "  <tbody>\n",
       "    <tr>\n",
       "      <th>0</th>\n",
       "      <td>0.5</td>\n",
       "      <td>-0.239121</td>\n",
       "      <td>-0.244238</td>\n",
       "      <td>-0.245555</td>\n",
       "      <td>-0.245887</td>\n",
       "    </tr>\n",
       "    <tr>\n",
       "      <th>1</th>\n",
       "      <td>1.0</td>\n",
       "      <td>-0.505412</td>\n",
       "      <td>-0.514449</td>\n",
       "      <td>-0.516799</td>\n",
       "      <td>-0.517392</td>\n",
       "    </tr>\n",
       "    <tr>\n",
       "      <th>2</th>\n",
       "      <td>1.5</td>\n",
       "      <td>-0.774409</td>\n",
       "      <td>-0.788642</td>\n",
       "      <td>-0.792390</td>\n",
       "      <td>-0.793340</td>\n",
       "    </tr>\n",
       "    <tr>\n",
       "      <th>3</th>\n",
       "      <td>2.0</td>\n",
       "      <td>-0.964912</td>\n",
       "      <td>-0.986630</td>\n",
       "      <td>-0.992444</td>\n",
       "      <td>-0.993925</td>\n",
       "    </tr>\n",
       "    <tr>\n",
       "      <th>4</th>\n",
       "      <td>2.5</td>\n",
       "      <td>-0.879100</td>\n",
       "      <td>-0.906107</td>\n",
       "      <td>-0.913485</td>\n",
       "      <td>-0.915375</td>\n",
       "    </tr>\n",
       "    <tr>\n",
       "      <th>5</th>\n",
       "      <td>3.0</td>\n",
       "      <td>0.000000</td>\n",
       "      <td>0.000000</td>\n",
       "      <td>0.000000</td>\n",
       "      <td>0.000000</td>\n",
       "    </tr>\n",
       "  </tbody>\n",
       "</table>\n",
       "</div>"
      ],
      "text/plain": [
       "     x       u_1       u_2       u_3       u_4\n",
       "0  0.5 -0.239121 -0.244238 -0.245555 -0.245887\n",
       "1  1.0 -0.505412 -0.514449 -0.516799 -0.517392\n",
       "2  1.5 -0.774409 -0.788642 -0.792390 -0.793340\n",
       "3  2.0 -0.964912 -0.986630 -0.992444 -0.993925\n",
       "4  2.5 -0.879100 -0.906107 -0.913485 -0.915375\n",
       "5  3.0  0.000000  0.000000  0.000000  0.000000"
      ]
     },
     "execution_count": 24,
     "metadata": {},
     "output_type": "execute_result"
    }
   ],
   "source": [
    "df=pd.DataFrame({'x':x_1[1::],'u_1':u_1[1::],'u_2':u_2[2::2],'u_3':u_3[4::4],'u_4':u_4[8::8]})\n",
    "df"
   ]
  },
  {
   "cell_type": "code",
   "execution_count": 21,
   "metadata": {},
   "outputs": [
    {
     "data": {
      "application/vnd.jupyter.widget-view+json": {
       "model_id": "5492babac621492fb3e112add119ab94",
       "version_major": 2,
       "version_minor": 0
      },
      "text/plain": [
       "Canvas(toolbar=Toolbar(toolitems=[('Home', 'Reset original view', 'home', 'home'), ('Back', 'Back to previous …"
      ]
     },
     "metadata": {},
     "output_type": "display_data"
    },
    {
     "data": {
      "text/plain": [
       "[<matplotlib.lines.Line2D at 0x2746f701880>]"
      ]
     },
     "execution_count": 21,
     "metadata": {},
     "output_type": "execute_result"
    }
   ],
   "source": [
    "fig1 = plt.figure(figsize=(8, 5))\n",
    "ax = fig1.gca()\n",
    "ax.axhline(color=\"grey\", ls=\"--\", zorder=-1)\n",
    "ax.axvline(color=\"grey\", ls=\"--\", zorder=-1)\n",
    "\n",
    "plt.plot(x_0, u_0)\n",
    "\n",
    "plt.plot(x_1, u_1)\n",
    "\n",
    "plt.plot(x_2, u_2)\n",
    "\n",
    "plt.plot(x_3, u_3)\n",
    "\n",
    "plt.plot(x_4, u_4)"
   ]
  },
  {
   "cell_type": "code",
   "execution_count": null,
   "metadata": {
    "tags": []
   },
   "outputs": [],
   "source": [
    "plt.close('all')"
   ]
  }
 ],
 "metadata": {
  "anaconda-cloud": {},
  "colab": {
   "name": "oom_2_2_1_simple_iteration.ipynb",
   "private_outputs": true,
   "provenance": []
  },
  "kernelspec": {
   "display_name": "Python 3 (ipykernel)",
   "language": "python",
   "name": "python3"
  },
  "language_info": {
   "codemirror_mode": {
    "name": "ipython",
    "version": 3
   },
   "file_extension": ".py",
   "mimetype": "text/x-python",
   "name": "python",
   "nbconvert_exporter": "python",
   "pygments_lexer": "ipython3",
   "version": "3.9.7"
  }
 },
 "nbformat": 4,
 "nbformat_minor": 4
}
