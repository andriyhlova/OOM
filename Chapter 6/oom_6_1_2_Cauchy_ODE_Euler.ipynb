{
 "cells": [
  {
   "cell_type": "markdown",
   "metadata": {},
   "source": [
    "# 6.1. Чисельне розв'язування задачі Коші для звичайних диференціальних рівнянь\n",
    "--------------------\n",
    "\n",
    "## 6.1.1. Формулювання задачі Коші для  звичайного диференціального рівняння\n",
    "-----------\n",
    "Розглянемо розв'язане стосовно похідної звичайне диференціальне рівняння першого порядку:\n",
    "\n",
    "$(1)\\quad\\qquad\\qquad\\qquad u'=f(x,u),$\n",
    "\n",
    "де $x$ -- незалежна змінна, $u=u(x)$ -- шукана функція, $u'$ -- похідна $u$, $f: D\\to \\mathbb{R}$\n",
    "-- задана функція, $D$ -- область в $\\mathbb{R}^2.$\n",
    "\n",
    "Задача Коші для рівняння полягає у знаходженні розв'язку рівняння  (1), який задовольняє початкову умову\n",
    "\n",
    "$(2)\\quad\\qquad\\qquad\\qquad u(x_0)=u_0,$\n",
    "\n",
    "де $(x_0,u_0)$ -- задана точка області $D$.\n",
    "\n"
   ]
  },
  {
   "cell_type": "markdown",
   "metadata": {
    "id": "TrvVaZ02QF1h",
    "tags": []
   },
   "source": [
    "## 6.1.2.  Метод Ейлера\n",
    "---------------------"
   ]
  },
  {
   "cell_type": "markdown",
   "metadata": {
    "id": "elD_lWBKQF1j"
   },
   "source": [
    "Розв'язок задачі (1),(2) розглядаємо на відрізку $[a,b]$, коли $x_0=a$.\n",
    "\n",
    "Задаємо рівномірне розбиття відрізка $[a,b]$ точками $x_{0}, x_{1}, \\ldots, x_{n}$, де $n\\in \\mathbb{N}$ і \n",
    "$ x_{i}:=a+ih,\\ \\ i=\\overline{0,n}, \\quad h:=\\frac{b-a}{n}.$ \n",
    "\n",
    "Чисельним розв'язком задачі (1),(2) вважаємо наближення $u_{i}$, $i=\\overline{1,n}$, відповідно, значень $u(x_{i})$, $i=\\overline{1,n}$, розв'язку цієї задачі, який знаходимо за рекурентною формулою \n",
    "\n",
    "$(3)\\quad\\qquad\\qquad\\qquad u_{i+1}=u_{i}+h\\,f(x_{i},u_{i}), \\quad i=\\overline{0,n-1},$\n",
    "\n",
    "беручи значення $u_{0}$ з початкової умови (2)."
   ]
  },
  {
   "cell_type": "markdown",
   "metadata": {
    "id": "C56etMUzw6qS"
   },
   "source": [
    "#### Пояснення до використання програмного коду\n",
    "-----------------\n",
    "*   Підготувати середовище і потрібні функції : \n",
    "    1. виконати комірку для підготовки середовища \n",
    "    2. виконати комірку, де **визначена** функція ``Euler_method``\n",
    "\n",
    "*   Обчислити чисельний розв'язок конкретної задачі Коші\n",
    "    1. виконати комірку, де **визначена** функція ``f``\n",
    "    2. виконати комірку з викликом функції ``Euler_method``, перед виконанням задати відповідні аргументи цієї функції.\n",
    "\n",
    "*   Щоб переконатися, що чисельний розв'язок достатньо точний, можна виконати кілька послідовних викликів функції ``Euler_method``, збільшуючи кількість вузлів сітки."
   ]
  },
  {
   "cell_type": "markdown",
   "metadata": {
    "tags": []
   },
   "source": [
    "#### Програмна реалізація методів\n",
    "------------"
   ]
  },
  {
   "cell_type": "markdown",
   "metadata": {
    "tags": []
   },
   "source": [
    ">#### Підготовка середовища"
   ]
  },
  {
   "cell_type": "code",
   "execution_count": 1,
   "metadata": {
    "id": "Dv08qO4sQF1k"
   },
   "outputs": [],
   "source": [
    "%matplotlib widget\n",
    "import matplotlib.pyplot as plt\n",
    "\n",
    "import numpy as np\n",
    "import pandas as pd"
   ]
  },
  {
   "cell_type": "markdown",
   "metadata": {
    "tags": []
   },
   "source": [
    ">#### ``Euler_method`` -- функція, яка реалізує явний метод Ейлера для знаходження чисельного розв'язку задачі Коші"
   ]
  },
  {
   "cell_type": "code",
   "execution_count": 2,
   "metadata": {
    "id": "0qc5BcctO5t2"
   },
   "outputs": [],
   "source": [
    "def Euler_method(f,u0,a,b,n):\n",
    "    \"\"\" явний метод Ейлера\n",
    "    \"\"\"\n",
    "    h=(b-a)/n\n",
    "    x=np.linspace(a, b, n+1) \n",
    "\n",
    "    u=np.empty(n+1) \n",
    "    u[0]=u0\n",
    "    for i in range(n):\n",
    "        u[i+1] = u[i] + h*f(x[i],u[i])\n",
    "        \n",
    "    return u              "
   ]
  },
  {
   "cell_type": "markdown",
   "metadata": {
    "tags": []
   },
   "source": [
    ">#### ``f`` -- функція, яка задає обчислення  правої частини конкретного рівняння "
   ]
  },
  {
   "cell_type": "markdown",
   "metadata": {
    "tags": []
   },
   "source": [
    "#### Обчислювальні експерименти\n",
    "------------"
   ]
  },
  {
   "cell_type": "markdown",
   "metadata": {
    "tags": []
   },
   "source": [
    "Продемонструємо застосування методу Ейлера для знаходження чисельного розв'язку задачі Коші."
   ]
  },
  {
   "cell_type": "markdown",
   "metadata": {
    "tags": []
   },
   "source": [
    "##### Приклад 1. \n",
    "За допомогою методу Ейлера знайти чисельний розв'язок задачі Коші (1),(2), коли\n",
    "$f(x,u)=u^2+2x-x^4, \\quad [a,b]=[0,\\,1], \\quad u(0)=0.$\n",
    "\n",
    "Очевидно, що функція $u(x)=x^2$ є точним розв'язком задачі Коші у цьому випадку."
   ]
  },
  {
   "cell_type": "markdown",
   "metadata": {
    "tags": []
   },
   "source": [
    "Визначимо функцію правої частини рівняння (1):"
   ]
  },
  {
   "cell_type": "code",
   "execution_count": 3,
   "metadata": {},
   "outputs": [],
   "source": [
    "def f2(x, u):\n",
    "    return u**2+2*x-x**4"
   ]
  },
  {
   "cell_type": "markdown",
   "metadata": {
    "tags": []
   },
   "source": [
    "Задамо координати відрізка і початкові дані:"
   ]
  },
  {
   "cell_type": "code",
   "execution_count": 4,
   "metadata": {
    "tags": []
   },
   "outputs": [],
   "source": [
    "a=0\n",
    "b=1\n",
    "u0=0"
   ]
  },
  {
   "cell_type": "markdown",
   "metadata": {
    "tags": []
   },
   "source": [
    "Знайдемо чисельні розв'язки задачі на послідовності сіток, подвоюючи на кожному кроці кількість вузлів і зберігаючи відповідні масиви для подальшого аналізу:"
   ]
  },
  {
   "cell_type": "code",
   "execution_count": 5,
   "metadata": {},
   "outputs": [],
   "source": [
    "n_start = 5\n",
    "\n",
    "n = n_start\n",
    "x0=np.linspace(a, b, n+1)\n",
    "u_0=Euler_method(f2,u0,a,b,n)\n",
    "\n",
    "n*=2\n",
    "x1=np.linspace(a, b, n+1)\n",
    "u_1=Euler_method(f2,u0,a,b,n)\n",
    "\n",
    "n*=2\n",
    "x2=np.linspace(a, b, n+1)\n",
    "u_2=Euler_method(f2,u0,a,b,n)\n",
    "\n",
    "n*=2\n",
    "x3=np.linspace(a, b, n+1)\n",
    "u_3=Euler_method(f2,u0,a,b,n)\n",
    "\n",
    "n*=2\n",
    "x4=np.linspace(a, b, n+1)\n",
    "u_4=Euler_method(f2,u0,a,b,n)"
   ]
  },
  {
   "cell_type": "markdown",
   "metadata": {
    "tags": []
   },
   "source": [
    "Порахуємо також значення точного розв'язку задачі на рівномірній сітці:"
   ]
  },
  {
   "cell_type": "code",
   "execution_count": 6,
   "metadata": {},
   "outputs": [],
   "source": [
    "x=np.linspace(a, b, 256)\n",
    "ux=x**2"
   ]
  },
  {
   "cell_type": "markdown",
   "metadata": {
    "tags": []
   },
   "source": [
    "Побудуємо графіки отриманих чисельних і точного розв'язків задачі:"
   ]
  },
  {
   "cell_type": "code",
   "execution_count": 7,
   "metadata": {
    "tags": []
   },
   "outputs": [
    {
     "data": {
      "application/vnd.jupyter.widget-view+json": {
       "model_id": "0f2dc9b2d0c14a8b81c933479527ccbc",
       "version_major": 2,
       "version_minor": 0
      },
      "text/plain": [
       "Canvas(toolbar=Toolbar(toolitems=[('Home', 'Reset original view', 'home', 'home'), ('Back', 'Back to previous …"
      ]
     },
     "metadata": {},
     "output_type": "display_data"
    }
   ],
   "source": [
    "fig = plt.figure(figsize=(8, 5))\n",
    "plt.plot(x, ux, label='ux')\n",
    "plt.plot(x0, u_0, label='u_0')\n",
    "plt.plot(x1, u_1, label='u_1')\n",
    "plt.plot(x2, u_2, label='u_2')\n",
    "plt.plot(x3, u_3, label='u_3')\n",
    "plt.plot(x4, u_4, label='u_4')\n",
    "ax = fig.gca()\n",
    "ax.legend();"
   ]
  },
  {
   "cell_type": "markdown",
   "metadata": {
    "tags": []
   },
   "source": [
    "Зауважимо, що графічні побудови за вибраного режиму виконуються з автоматичною лінійною інтертерполяцією чисельних розв'язків, які насправді обчислені лише у вузлах відповідної сітки. Нагадаємо, що отримані зобаження можна масштабувати, використовуючи режим 'Zoom to rectangle'. "
   ]
  },
  {
   "cell_type": "markdown",
   "metadata": {
    "tags": []
   },
   "source": [
    "Як бачимо, графіки чисельних розв'язків візуально близькі до графіка точного розв'язку. Для детальнішого аналізу занесемо в таблицю значення усіх розв'язків на спільній множині вузлів ``x_0``: "
   ]
  },
  {
   "cell_type": "code",
   "execution_count": 8,
   "metadata": {},
   "outputs": [
    {
     "data": {
      "text/html": [
       "<div>\n",
       "<style scoped>\n",
       "    .dataframe tbody tr th:only-of-type {\n",
       "        vertical-align: middle;\n",
       "    }\n",
       "\n",
       "    .dataframe tbody tr th {\n",
       "        vertical-align: top;\n",
       "    }\n",
       "\n",
       "    .dataframe thead th {\n",
       "        text-align: right;\n",
       "    }\n",
       "</style>\n",
       "<table border=\"1\" class=\"dataframe\">\n",
       "  <thead>\n",
       "    <tr style=\"text-align: right;\">\n",
       "      <th></th>\n",
       "      <th>x_0</th>\n",
       "      <th>u_0</th>\n",
       "      <th>u_1</th>\n",
       "      <th>u_2</th>\n",
       "      <th>u_3</th>\n",
       "      <th>u_4</th>\n",
       "      <th>u</th>\n",
       "    </tr>\n",
       "  </thead>\n",
       "  <tbody>\n",
       "    <tr>\n",
       "      <th>0</th>\n",
       "      <td>0.2</td>\n",
       "      <td>0.000000</td>\n",
       "      <td>0.019990</td>\n",
       "      <td>0.029982</td>\n",
       "      <td>0.034986</td>\n",
       "      <td>0.037492</td>\n",
       "      <td>0.04</td>\n",
       "    </tr>\n",
       "    <tr>\n",
       "      <th>1</th>\n",
       "      <td>0.4</td>\n",
       "      <td>0.079680</td>\n",
       "      <td>0.119418</td>\n",
       "      <td>0.139550</td>\n",
       "      <td>0.149727</td>\n",
       "      <td>0.154851</td>\n",
       "      <td>0.16</td>\n",
       "    </tr>\n",
       "    <tr>\n",
       "      <th>2</th>\n",
       "      <td>0.6</td>\n",
       "      <td>0.235830</td>\n",
       "      <td>0.295966</td>\n",
       "      <td>0.327335</td>\n",
       "      <td>0.343481</td>\n",
       "      <td>0.351690</td>\n",
       "      <td>0.36</td>\n",
       "    </tr>\n",
       "    <tr>\n",
       "      <th>3</th>\n",
       "      <td>0.8</td>\n",
       "      <td>0.461033</td>\n",
       "      <td>0.544711</td>\n",
       "      <td>0.590442</td>\n",
       "      <td>0.614666</td>\n",
       "      <td>0.627183</td>\n",
       "      <td>0.64</td>\n",
       "    </tr>\n",
       "    <tr>\n",
       "      <th>4</th>\n",
       "      <td>1.0</td>\n",
       "      <td>0.741623</td>\n",
       "      <td>0.855895</td>\n",
       "      <td>0.922810</td>\n",
       "      <td>0.959860</td>\n",
       "      <td>0.979503</td>\n",
       "      <td>1.00</td>\n",
       "    </tr>\n",
       "  </tbody>\n",
       "</table>\n",
       "</div>"
      ],
      "text/plain": [
       "   x_0       u_0       u_1       u_2       u_3       u_4     u\n",
       "0  0.2  0.000000  0.019990  0.029982  0.034986  0.037492  0.04\n",
       "1  0.4  0.079680  0.119418  0.139550  0.149727  0.154851  0.16\n",
       "2  0.6  0.235830  0.295966  0.327335  0.343481  0.351690  0.36\n",
       "3  0.8  0.461033  0.544711  0.590442  0.614666  0.627183  0.64\n",
       "4  1.0  0.741623  0.855895  0.922810  0.959860  0.979503  1.00"
      ]
     },
     "execution_count": 8,
     "metadata": {},
     "output_type": "execute_result"
    }
   ],
   "source": [
    "u = x0**2\n",
    "\n",
    "df=pd.DataFrame({'x_0':x0[1::],'u_0':u_0[1::],'u_1':u_1[2::2],'u_2':u_2[4::4],'u_3':u_3[8::8],'u_4':u_4[16::16],'u':u[1::]})\n",
    "df"
   ]
  },
  {
   "cell_type": "markdown",
   "metadata": {
    "tags": []
   },
   "source": [
    "На множині ``x_0`` маємо такі значення абсолютних похибок отриманих чисельних розв'язків:"
   ]
  },
  {
   "cell_type": "code",
   "execution_count": 9,
   "metadata": {},
   "outputs": [
    {
     "data": {
      "text/html": [
       "<div>\n",
       "<style scoped>\n",
       "    .dataframe tbody tr th:only-of-type {\n",
       "        vertical-align: middle;\n",
       "    }\n",
       "\n",
       "    .dataframe tbody tr th {\n",
       "        vertical-align: top;\n",
       "    }\n",
       "\n",
       "    .dataframe thead th {\n",
       "        text-align: right;\n",
       "    }\n",
       "</style>\n",
       "<table border=\"1\" class=\"dataframe\">\n",
       "  <thead>\n",
       "    <tr style=\"text-align: right;\">\n",
       "      <th></th>\n",
       "      <th>e_0</th>\n",
       "      <th>e_1</th>\n",
       "      <th>e_2</th>\n",
       "      <th>e_3</th>\n",
       "      <th>e_4</th>\n",
       "    </tr>\n",
       "  </thead>\n",
       "  <tbody>\n",
       "    <tr>\n",
       "      <th>0</th>\n",
       "      <td>0.040000</td>\n",
       "      <td>0.020010</td>\n",
       "      <td>0.010018</td>\n",
       "      <td>0.005014</td>\n",
       "      <td>0.002508</td>\n",
       "    </tr>\n",
       "    <tr>\n",
       "      <th>1</th>\n",
       "      <td>0.080320</td>\n",
       "      <td>0.040582</td>\n",
       "      <td>0.020450</td>\n",
       "      <td>0.010273</td>\n",
       "      <td>0.005149</td>\n",
       "    </tr>\n",
       "    <tr>\n",
       "      <th>2</th>\n",
       "      <td>0.124170</td>\n",
       "      <td>0.064034</td>\n",
       "      <td>0.032665</td>\n",
       "      <td>0.016519</td>\n",
       "      <td>0.008310</td>\n",
       "    </tr>\n",
       "    <tr>\n",
       "      <th>3</th>\n",
       "      <td>0.178967</td>\n",
       "      <td>0.095289</td>\n",
       "      <td>0.049558</td>\n",
       "      <td>0.025334</td>\n",
       "      <td>0.012817</td>\n",
       "    </tr>\n",
       "    <tr>\n",
       "      <th>4</th>\n",
       "      <td>0.258377</td>\n",
       "      <td>0.144105</td>\n",
       "      <td>0.077190</td>\n",
       "      <td>0.040140</td>\n",
       "      <td>0.020497</td>\n",
       "    </tr>\n",
       "  </tbody>\n",
       "</table>\n",
       "</div>"
      ],
      "text/plain": [
       "        e_0       e_1       e_2       e_3       e_4\n",
       "0  0.040000  0.020010  0.010018  0.005014  0.002508\n",
       "1  0.080320  0.040582  0.020450  0.010273  0.005149\n",
       "2  0.124170  0.064034  0.032665  0.016519  0.008310\n",
       "3  0.178967  0.095289  0.049558  0.025334  0.012817\n",
       "4  0.258377  0.144105  0.077190  0.040140  0.020497"
      ]
     },
     "execution_count": 9,
     "metadata": {},
     "output_type": "execute_result"
    }
   ],
   "source": [
    "df1=pd.DataFrame()\n",
    "df1['e_0']=np.abs(df['u']-df['u_0'])\n",
    "df1['e_1']=np.abs(df['u']-df['u_1'])\n",
    "df1['e_2']=np.abs(df['u']-df['u_2'])\n",
    "df1['e_3']=np.abs(df['u']-df['u_3'])\n",
    "df1['e_4']=np.abs(df['u']-df['u_4'])\n",
    "df1"
   ]
  },
  {
   "cell_type": "markdown",
   "metadata": {
    "tags": []
   },
   "source": [
    "Побудуємо графіки абсолютних похибок у логарифмічній шкалі:"
   ]
  },
  {
   "cell_type": "code",
   "execution_count": 11,
   "metadata": {
    "tags": []
   },
   "outputs": [
    {
     "data": {
      "application/vnd.jupyter.widget-view+json": {
       "model_id": "f85fee9c597f4d6894de7df36b3bade7",
       "version_major": 2,
       "version_minor": 0
      },
      "text/plain": [
       "Canvas(toolbar=Toolbar(toolitems=[('Home', 'Reset original view', 'home', 'home'), ('Back', 'Back to previous …"
      ]
     },
     "metadata": {},
     "output_type": "display_data"
    }
   ],
   "source": [
    "fig = plt.figure(figsize=(8, 5))\n",
    "df1.e_0.plot(logy=True)\n",
    "df1.e_1.plot(logy=True)\n",
    "df1.e_2.plot(logy=True)\n",
    "df1.e_3.plot(logy=True)\n",
    "df1.e_4.plot(logy=True)\n",
    "ax = fig.gca()\n",
    "ax.legend();"
   ]
  },
  {
   "cell_type": "markdown",
   "metadata": {
    "tags": []
   },
   "source": [
    "Як бачимо, при згущенні сітки похибки чисельних розв'язків на кожному кроці зменшуються. Зазначимо, що на фіксованій сітці вони дещо відрізняються між собою, зростаючи у вузлах поблизу правого кінця відрізку."
   ]
  },
  {
   "cell_type": "markdown",
   "metadata": {},
   "source": [
    "Обчислимо для кожного чисельного розв'язку його абсолютну похибку за нормою $\\| \\cdot \\|_\\infty$"
   ]
  },
  {
   "cell_type": "code",
   "execution_count": 12,
   "metadata": {},
   "outputs": [
    {
     "name": "stdout",
     "output_type": "stream",
     "text": [
      " ne_0 = 2.58e-01\n",
      " ne_1 = 1.44e-01\n",
      " ne_2 = 7.72e-02\n",
      " ne_3 = 4.01e-02\n",
      " ne_4 = 2.05e-02\n"
     ]
    }
   ],
   "source": [
    "ne_0 = max(np.abs(df1['e_0']))\n",
    "ne_1 = max(np.abs(df1['e_1']))\n",
    "ne_2 = max(np.abs(df1['e_2']))\n",
    "ne_3 = max(np.abs(df1['e_3']))\n",
    "ne_4 = max(np.abs(df1['e_4']))\n",
    "print(f\" ne_0 = {ne_0:1.2e}\\n ne_1 = {ne_1:1.2e}\\n ne_2 = {ne_2:1.2e}\\n ne_3 = {ne_3:1.2e}\\n ne_4 = {ne_4:1.2e}\")"
   ]
  },
  {
   "cell_type": "markdown",
   "metadata": {
    "tags": []
   },
   "source": [
    "Оцінимо швидкість збіжності чисельних розв'язків до точного, а саме у скільки разів зменшуватметься абсолютна похибка при подвоєнні кількості вузлів сітки:"
   ]
  },
  {
   "cell_type": "code",
   "execution_count": 13,
   "metadata": {},
   "outputs": [
    {
     "data": {
      "text/html": [
       "<div>\n",
       "<style scoped>\n",
       "    .dataframe tbody tr th:only-of-type {\n",
       "        vertical-align: middle;\n",
       "    }\n",
       "\n",
       "    .dataframe tbody tr th {\n",
       "        vertical-align: top;\n",
       "    }\n",
       "\n",
       "    .dataframe thead th {\n",
       "        text-align: right;\n",
       "    }\n",
       "</style>\n",
       "<table border=\"1\" class=\"dataframe\">\n",
       "  <thead>\n",
       "    <tr style=\"text-align: right;\">\n",
       "      <th></th>\n",
       "      <th>r_0</th>\n",
       "      <th>r_1</th>\n",
       "      <th>r_2</th>\n",
       "      <th>r_3</th>\n",
       "    </tr>\n",
       "  </thead>\n",
       "  <tbody>\n",
       "    <tr>\n",
       "      <th>0</th>\n",
       "      <td>1.999000</td>\n",
       "      <td>1.997379</td>\n",
       "      <td>1.998048</td>\n",
       "      <td>1.998849</td>\n",
       "    </tr>\n",
       "    <tr>\n",
       "      <th>1</th>\n",
       "      <td>1.979222</td>\n",
       "      <td>1.984420</td>\n",
       "      <td>1.990733</td>\n",
       "      <td>1.994970</td>\n",
       "    </tr>\n",
       "    <tr>\n",
       "      <th>2</th>\n",
       "      <td>1.939134</td>\n",
       "      <td>1.960322</td>\n",
       "      <td>1.977406</td>\n",
       "      <td>1.987941</td>\n",
       "    </tr>\n",
       "    <tr>\n",
       "      <th>3</th>\n",
       "      <td>1.878148</td>\n",
       "      <td>1.922780</td>\n",
       "      <td>1.956151</td>\n",
       "      <td>1.976559</td>\n",
       "    </tr>\n",
       "    <tr>\n",
       "      <th>4</th>\n",
       "      <td>1.792979</td>\n",
       "      <td>1.866874</td>\n",
       "      <td>1.923033</td>\n",
       "      <td>1.958333</td>\n",
       "    </tr>\n",
       "  </tbody>\n",
       "</table>\n",
       "</div>"
      ],
      "text/plain": [
       "        r_0       r_1       r_2       r_3\n",
       "0  1.999000  1.997379  1.998048  1.998849\n",
       "1  1.979222  1.984420  1.990733  1.994970\n",
       "2  1.939134  1.960322  1.977406  1.987941\n",
       "3  1.878148  1.922780  1.956151  1.976559\n",
       "4  1.792979  1.866874  1.923033  1.958333"
      ]
     },
     "execution_count": 13,
     "metadata": {},
     "output_type": "execute_result"
    }
   ],
   "source": [
    "df2=pd.DataFrame()\n",
    "df2['r_0'] = df1['e_0'] / df1['e_1']\n",
    "df2['r_1'] = df1['e_1'] / df1['e_2']\n",
    "df2['r_2'] = df1['e_2'] / df1['e_3']\n",
    "df2['r_3'] = df1['e_3'] / df1['e_4']\n",
    "\n",
    "df2"
   ]
  },
  {
   "cell_type": "markdown",
   "metadata": {
    "tags": []
   },
   "source": [
    "Як бачимо, швидкість наближається до числа 2, що узгоджується з теоретичними  оцінками похибок методу Ейлера."
   ]
  },
  {
   "cell_type": "code",
   "execution_count": 14,
   "metadata": {},
   "outputs": [],
   "source": [
    "plt.close('all')"
   ]
  },
  {
   "cell_type": "markdown",
   "metadata": {},
   "source": [
    "\n",
    "##### Приклад 2.\n",
    "\n",
    "\n",
    "$f(x,u)=-u\\, cos x + e^{-sin x}, \\quad [a,b]=[0,\\,10], \\quad u(0)=1.$\n",
    "\n",
    "Відомо [(1.69 Самойленко)] , що функція $u(x)=(x+1)e^{-sin x}$ є точним розв'язком задачі Коші у цьому випадку."
   ]
  },
  {
   "cell_type": "markdown",
   "metadata": {
    "tags": []
   },
   "source": [
    "Задамо функцію правої частини диференціального рівняння і решту даних задачі Коші:"
   ]
  },
  {
   "cell_type": "code",
   "execution_count": 15,
   "metadata": {},
   "outputs": [],
   "source": [
    "def f3(x, u):\n",
    "    return -u*np.cos(x) + np.exp(-np.sin(x))"
   ]
  },
  {
   "cell_type": "code",
   "execution_count": 16,
   "metadata": {
    "tags": []
   },
   "outputs": [],
   "source": [
    "a=0\n",
    "b=10\n",
    "u0=1"
   ]
  },
  {
   "cell_type": "markdown",
   "metadata": {
    "tags": []
   },
   "source": [
    "Оскільки на цей раз розглядаємо задачу на більшому відрізку і поведінка розв'язку є складнішою, то відразу почнемо шукати чисельні розв'язки при більшому значенні параметра ``n_start``, який задає початкову кількість вузлів сітки. Далі повторимо усі кроки, якими отримали і досліджували чисельні розв'язки попередньої задачі:"
   ]
  },
  {
   "cell_type": "code",
   "execution_count": 18,
   "metadata": {},
   "outputs": [
    {
     "data": {
      "application/vnd.jupyter.widget-view+json": {
       "model_id": "9caec14f930b4f0186c43281e496a20c",
       "version_major": 2,
       "version_minor": 0
      },
      "text/plain": [
       "Canvas(toolbar=Toolbar(toolitems=[('Home', 'Reset original view', 'home', 'home'), ('Back', 'Back to previous …"
      ]
     },
     "metadata": {},
     "output_type": "display_data"
    },
    {
     "data": {
      "text/html": [
       "<div>\n",
       "<style scoped>\n",
       "    .dataframe tbody tr th:only-of-type {\n",
       "        vertical-align: middle;\n",
       "    }\n",
       "\n",
       "    .dataframe tbody tr th {\n",
       "        vertical-align: top;\n",
       "    }\n",
       "\n",
       "    .dataframe thead th {\n",
       "        text-align: right;\n",
       "    }\n",
       "</style>\n",
       "<table border=\"1\" class=\"dataframe\">\n",
       "  <thead>\n",
       "    <tr style=\"text-align: right;\">\n",
       "      <th></th>\n",
       "      <th>x_0</th>\n",
       "      <th>u_0</th>\n",
       "      <th>u_1</th>\n",
       "      <th>u_2</th>\n",
       "      <th>u_3</th>\n",
       "      <th>u_4</th>\n",
       "      <th>u</th>\n",
       "    </tr>\n",
       "  </thead>\n",
       "  <tbody>\n",
       "    <tr>\n",
       "      <th>0</th>\n",
       "      <td>0.1</td>\n",
       "      <td>1.000000</td>\n",
       "      <td>0.997625</td>\n",
       "      <td>0.996528</td>\n",
       "      <td>0.996001</td>\n",
       "      <td>0.995742</td>\n",
       "      <td>0.995487</td>\n",
       "    </tr>\n",
       "    <tr>\n",
       "      <th>1</th>\n",
       "      <td>0.2</td>\n",
       "      <td>0.990998</td>\n",
       "      <td>0.987197</td>\n",
       "      <td>0.985446</td>\n",
       "      <td>0.984604</td>\n",
       "      <td>0.984192</td>\n",
       "      <td>0.983785</td>\n",
       "    </tr>\n",
       "    <tr>\n",
       "      <th>2</th>\n",
       "      <td>0.3</td>\n",
       "      <td>0.975856</td>\n",
       "      <td>0.971386</td>\n",
       "      <td>0.969332</td>\n",
       "      <td>0.968346</td>\n",
       "      <td>0.967864</td>\n",
       "      <td>0.967388</td>\n",
       "    </tr>\n",
       "    <tr>\n",
       "      <th>3</th>\n",
       "      <td>0.4</td>\n",
       "      <td>0.957043</td>\n",
       "      <td>0.952486</td>\n",
       "      <td>0.950399</td>\n",
       "      <td>0.949401</td>\n",
       "      <td>0.948913</td>\n",
       "      <td>0.948431</td>\n",
       "    </tr>\n",
       "    <tr>\n",
       "      <th>4</th>\n",
       "      <td>0.5</td>\n",
       "      <td>0.936639</td>\n",
       "      <td>0.932425</td>\n",
       "      <td>0.930508</td>\n",
       "      <td>0.929594</td>\n",
       "      <td>0.929148</td>\n",
       "      <td>0.928708</td>\n",
       "    </tr>\n",
       "    <tr>\n",
       "      <th>...</th>\n",
       "      <td>...</td>\n",
       "      <td>...</td>\n",
       "      <td>...</td>\n",
       "      <td>...</td>\n",
       "      <td>...</td>\n",
       "      <td>...</td>\n",
       "      <td>...</td>\n",
       "    </tr>\n",
       "    <tr>\n",
       "      <th>95</th>\n",
       "      <td>9.6</td>\n",
       "      <td>10.498641</td>\n",
       "      <td>11.492380</td>\n",
       "      <td>12.037450</td>\n",
       "      <td>12.323347</td>\n",
       "      <td>12.469819</td>\n",
       "      <td>12.618712</td>\n",
       "    </tr>\n",
       "    <tr>\n",
       "      <th>96</th>\n",
       "      <td>9.7</td>\n",
       "      <td>11.651473</td>\n",
       "      <td>12.770818</td>\n",
       "      <td>13.385431</td>\n",
       "      <td>13.707976</td>\n",
       "      <td>13.873266</td>\n",
       "      <td>14.041319</td>\n",
       "    </tr>\n",
       "    <tr>\n",
       "      <th>97</th>\n",
       "      <td>9.8</td>\n",
       "      <td>12.903998</td>\n",
       "      <td>14.157057</td>\n",
       "      <td>14.845542</td>\n",
       "      <td>15.206970</td>\n",
       "      <td>15.392217</td>\n",
       "      <td>15.580580</td>\n",
       "    </tr>\n",
       "    <tr>\n",
       "      <th>98</th>\n",
       "      <td>9.9</td>\n",
       "      <td>14.248884</td>\n",
       "      <td>15.641425</td>\n",
       "      <td>16.406735</td>\n",
       "      <td>16.808539</td>\n",
       "      <td>17.014490</td>\n",
       "      <td>17.223913</td>\n",
       "    </tr>\n",
       "    <tr>\n",
       "      <th>99</th>\n",
       "      <td>10.0</td>\n",
       "      <td>15.673900</td>\n",
       "      <td>17.208556</td>\n",
       "      <td>18.051831</td>\n",
       "      <td>18.494522</td>\n",
       "      <td>18.721419</td>\n",
       "      <td>18.952131</td>\n",
       "    </tr>\n",
       "  </tbody>\n",
       "</table>\n",
       "<p>100 rows × 7 columns</p>\n",
       "</div>"
      ],
      "text/plain": [
       "     x_0        u_0        u_1        u_2        u_3        u_4          u\n",
       "0    0.1   1.000000   0.997625   0.996528   0.996001   0.995742   0.995487\n",
       "1    0.2   0.990998   0.987197   0.985446   0.984604   0.984192   0.983785\n",
       "2    0.3   0.975856   0.971386   0.969332   0.968346   0.967864   0.967388\n",
       "3    0.4   0.957043   0.952486   0.950399   0.949401   0.948913   0.948431\n",
       "4    0.5   0.936639   0.932425   0.930508   0.929594   0.929148   0.928708\n",
       "..   ...        ...        ...        ...        ...        ...        ...\n",
       "95   9.6  10.498641  11.492380  12.037450  12.323347  12.469819  12.618712\n",
       "96   9.7  11.651473  12.770818  13.385431  13.707976  13.873266  14.041319\n",
       "97   9.8  12.903998  14.157057  14.845542  15.206970  15.392217  15.580580\n",
       "98   9.9  14.248884  15.641425  16.406735  16.808539  17.014490  17.223913\n",
       "99  10.0  15.673900  17.208556  18.051831  18.494522  18.721419  18.952131\n",
       "\n",
       "[100 rows x 7 columns]"
      ]
     },
     "execution_count": 18,
     "metadata": {},
     "output_type": "execute_result"
    }
   ],
   "source": [
    "n_start = 100\n",
    "\n",
    "n = n_start\n",
    "x0=np.linspace(a, b, n+1)\n",
    "u_0=Euler_method(f3,u0,a,b,n)\n",
    "\n",
    "n*=2\n",
    "x1=np.linspace(a, b, n+1)\n",
    "u_1=Euler_method(f3,u0,a,b,n)\n",
    "\n",
    "n*=2\n",
    "x2=np.linspace(a, b, n+1)\n",
    "u_2=Euler_method(f3,u0,a,b,n)\n",
    "\n",
    "n*=2\n",
    "x3=np.linspace(a, b, n+1)\n",
    "u_3=Euler_method(f3,u0,a,b,n)\n",
    "\n",
    "n*=2\n",
    "x4=np.linspace(a, b, n+1)\n",
    "u_4=Euler_method(f3,u0,a,b,n)\n",
    "\n",
    "x=np.linspace(a, b, 256)\n",
    "ux=(x+1)*np.exp(-np.sin(x))\n",
    "\n",
    "fig = plt.figure(figsize=(8, 5))\n",
    "plt.plot(x, ux, label='ux')\n",
    "plt.plot(x0, u_0, label='u_0')\n",
    "plt.plot(x1, u_1, label='u_1')\n",
    "plt.plot(x2, u_2, label='u_2')\n",
    "plt.plot(x3, u_3, label='u_3')\n",
    "plt.plot(x4, u_4, label='u_4')\n",
    "ax = fig.gca()\n",
    "ax.legend();\n",
    "\n",
    "u=(x0+1)*np.exp(-np.sin(x0))\n",
    "\n",
    "df=pd.DataFrame({'x_0':x0[1::],'u_0':u_0[1::],'u_1':u_1[2::2],'u_2':u_2[4::4],'u_3':u_3[8::8],'u_4':u_4[16::16],'u':u[1::]})\n",
    "df"
   ]
  },
  {
   "cell_type": "markdown",
   "metadata": {
    "tags": []
   },
   "source": [
    "Оскільки розглядаємо задачу на довшому відрізку і, як видно з графіку, поведінка її розв'язку є складнішою, то похибка отриманих чисельних розв'язків є більшою у цьому випадку:"
   ]
  },
  {
   "cell_type": "code",
   "execution_count": 19,
   "metadata": {
    "tags": []
   },
   "outputs": [
    {
     "data": {
      "text/html": [
       "<div>\n",
       "<style scoped>\n",
       "    .dataframe tbody tr th:only-of-type {\n",
       "        vertical-align: middle;\n",
       "    }\n",
       "\n",
       "    .dataframe tbody tr th {\n",
       "        vertical-align: top;\n",
       "    }\n",
       "\n",
       "    .dataframe thead th {\n",
       "        text-align: right;\n",
       "    }\n",
       "</style>\n",
       "<table border=\"1\" class=\"dataframe\">\n",
       "  <thead>\n",
       "    <tr style=\"text-align: right;\">\n",
       "      <th></th>\n",
       "      <th>e_0</th>\n",
       "      <th>e_1</th>\n",
       "      <th>e_2</th>\n",
       "      <th>e_3</th>\n",
       "      <th>e_4</th>\n",
       "    </tr>\n",
       "  </thead>\n",
       "  <tbody>\n",
       "    <tr>\n",
       "      <th>0</th>\n",
       "      <td>0.004513</td>\n",
       "      <td>0.002138</td>\n",
       "      <td>0.001041</td>\n",
       "      <td>0.000514</td>\n",
       "      <td>0.000255</td>\n",
       "    </tr>\n",
       "    <tr>\n",
       "      <th>1</th>\n",
       "      <td>0.007213</td>\n",
       "      <td>0.003412</td>\n",
       "      <td>0.001661</td>\n",
       "      <td>0.000819</td>\n",
       "      <td>0.000407</td>\n",
       "    </tr>\n",
       "    <tr>\n",
       "      <th>2</th>\n",
       "      <td>0.008468</td>\n",
       "      <td>0.003998</td>\n",
       "      <td>0.001944</td>\n",
       "      <td>0.000959</td>\n",
       "      <td>0.000476</td>\n",
       "    </tr>\n",
       "    <tr>\n",
       "      <th>3</th>\n",
       "      <td>0.008612</td>\n",
       "      <td>0.004055</td>\n",
       "      <td>0.001968</td>\n",
       "      <td>0.000970</td>\n",
       "      <td>0.000481</td>\n",
       "    </tr>\n",
       "    <tr>\n",
       "      <th>4</th>\n",
       "      <td>0.007931</td>\n",
       "      <td>0.003716</td>\n",
       "      <td>0.001799</td>\n",
       "      <td>0.000885</td>\n",
       "      <td>0.000439</td>\n",
       "    </tr>\n",
       "    <tr>\n",
       "      <th>...</th>\n",
       "      <td>...</td>\n",
       "      <td>...</td>\n",
       "      <td>...</td>\n",
       "      <td>...</td>\n",
       "      <td>...</td>\n",
       "    </tr>\n",
       "    <tr>\n",
       "      <th>95</th>\n",
       "      <td>2.120071</td>\n",
       "      <td>1.126332</td>\n",
       "      <td>0.581262</td>\n",
       "      <td>0.295365</td>\n",
       "      <td>0.148893</td>\n",
       "    </tr>\n",
       "    <tr>\n",
       "      <th>96</th>\n",
       "      <td>2.389846</td>\n",
       "      <td>1.270501</td>\n",
       "      <td>0.655888</td>\n",
       "      <td>0.333344</td>\n",
       "      <td>0.168053</td>\n",
       "    </tr>\n",
       "    <tr>\n",
       "      <th>97</th>\n",
       "      <td>2.676582</td>\n",
       "      <td>1.423523</td>\n",
       "      <td>0.735038</td>\n",
       "      <td>0.373610</td>\n",
       "      <td>0.188363</td>\n",
       "    </tr>\n",
       "    <tr>\n",
       "      <th>98</th>\n",
       "      <td>2.975028</td>\n",
       "      <td>1.582488</td>\n",
       "      <td>0.817177</td>\n",
       "      <td>0.415374</td>\n",
       "      <td>0.209423</td>\n",
       "    </tr>\n",
       "    <tr>\n",
       "      <th>99</th>\n",
       "      <td>3.278231</td>\n",
       "      <td>1.743575</td>\n",
       "      <td>0.900300</td>\n",
       "      <td>0.457609</td>\n",
       "      <td>0.230713</td>\n",
       "    </tr>\n",
       "  </tbody>\n",
       "</table>\n",
       "<p>100 rows × 5 columns</p>\n",
       "</div>"
      ],
      "text/plain": [
       "         e_0       e_1       e_2       e_3       e_4\n",
       "0   0.004513  0.002138  0.001041  0.000514  0.000255\n",
       "1   0.007213  0.003412  0.001661  0.000819  0.000407\n",
       "2   0.008468  0.003998  0.001944  0.000959  0.000476\n",
       "3   0.008612  0.004055  0.001968  0.000970  0.000481\n",
       "4   0.007931  0.003716  0.001799  0.000885  0.000439\n",
       "..       ...       ...       ...       ...       ...\n",
       "95  2.120071  1.126332  0.581262  0.295365  0.148893\n",
       "96  2.389846  1.270501  0.655888  0.333344  0.168053\n",
       "97  2.676582  1.423523  0.735038  0.373610  0.188363\n",
       "98  2.975028  1.582488  0.817177  0.415374  0.209423\n",
       "99  3.278231  1.743575  0.900300  0.457609  0.230713\n",
       "\n",
       "[100 rows x 5 columns]"
      ]
     },
     "execution_count": 19,
     "metadata": {},
     "output_type": "execute_result"
    }
   ],
   "source": [
    "df1=pd.DataFrame()\n",
    "df1['e_0']=np.abs(df['u']-df['u_0'])\n",
    "df1['e_1']=np.abs(df['u']-df['u_1'])\n",
    "df1['e_2']=np.abs(df['u']-df['u_2'])\n",
    "df1['e_3']=np.abs(df['u']-df['u_3'])\n",
    "df1['e_4']=np.abs(df['u']-df['u_4'])\n",
    "df1"
   ]
  },
  {
   "cell_type": "code",
   "execution_count": 20,
   "metadata": {
    "tags": []
   },
   "outputs": [
    {
     "data": {
      "application/vnd.jupyter.widget-view+json": {
       "model_id": "72f1a5d8f2b4416d9b6b20c99808bb04",
       "version_major": 2,
       "version_minor": 0
      },
      "text/plain": [
       "Canvas(toolbar=Toolbar(toolitems=[('Home', 'Reset original view', 'home', 'home'), ('Back', 'Back to previous …"
      ]
     },
     "metadata": {},
     "output_type": "display_data"
    }
   ],
   "source": [
    "fig = plt.figure(figsize=(8, 5))\n",
    "df1.e_0.plot(logy=True)\n",
    "df1.e_1.plot(logy=True)\n",
    "df1.e_2.plot(logy=True)\n",
    "df1.e_3.plot(logy=True)\n",
    "df1.e_4.plot(logy=True)\n",
    "ax = fig.gca()\n",
    "ax.legend();"
   ]
  },
  {
   "cell_type": "markdown",
   "metadata": {},
   "source": [
    "Обчислимо для кожного чисельного розв'язку його абсолютну похибку за нормою $\\| \\cdot \\|_\\infty$"
   ]
  },
  {
   "cell_type": "code",
   "execution_count": 21,
   "metadata": {},
   "outputs": [
    {
     "name": "stdout",
     "output_type": "stream",
     "text": [
      " ne_0=3.28e+00\n",
      " ne_1=1.74e+00\n",
      " ne_2=9.00e-01\n",
      " ne_3=4.58e-01\n",
      " ne_4=2.31e-01\n"
     ]
    }
   ],
   "source": [
    "ne_0 = max(np.abs(df1['e_0']))\n",
    "ne_1 = max(np.abs(df1['e_1']))\n",
    "ne_2 = max(np.abs(df1['e_2']))\n",
    "ne_3 = max(np.abs(df1['e_3']))\n",
    "ne_4 = max(np.abs(df1['e_4']))\n",
    "print(f\" ne_0={ne_0:1.2e}\\n ne_1={ne_1:1.2e}\\n ne_2={ne_2:1.2e}\\n ne_3={ne_3:1.2e}\\n ne_4={ne_4:1.2e}\")"
   ]
  },
  {
   "cell_type": "markdown",
   "metadata": {
    "tags": []
   },
   "source": [
    "Знайдемо тепер значення швидкості збіжності чисельних розв'язків:"
   ]
  },
  {
   "cell_type": "code",
   "execution_count": 22,
   "metadata": {},
   "outputs": [
    {
     "data": {
      "text/html": [
       "<div>\n",
       "<style scoped>\n",
       "    .dataframe tbody tr th:only-of-type {\n",
       "        vertical-align: middle;\n",
       "    }\n",
       "\n",
       "    .dataframe tbody tr th {\n",
       "        vertical-align: top;\n",
       "    }\n",
       "\n",
       "    .dataframe thead th {\n",
       "        text-align: right;\n",
       "    }\n",
       "</style>\n",
       "<table border=\"1\" class=\"dataframe\">\n",
       "  <thead>\n",
       "    <tr style=\"text-align: right;\">\n",
       "      <th></th>\n",
       "      <th>r_0</th>\n",
       "      <th>r_1</th>\n",
       "      <th>r_2</th>\n",
       "      <th>r_3</th>\n",
       "    </tr>\n",
       "  </thead>\n",
       "  <tbody>\n",
       "    <tr>\n",
       "      <th>0</th>\n",
       "      <td>2.110890</td>\n",
       "      <td>2.053274</td>\n",
       "      <td>2.026133</td>\n",
       "      <td>2.012945</td>\n",
       "    </tr>\n",
       "    <tr>\n",
       "      <th>1</th>\n",
       "      <td>2.113901</td>\n",
       "      <td>2.054808</td>\n",
       "      <td>2.026907</td>\n",
       "      <td>2.013334</td>\n",
       "    </tr>\n",
       "    <tr>\n",
       "      <th>2</th>\n",
       "      <td>2.117906</td>\n",
       "      <td>2.056875</td>\n",
       "      <td>2.027957</td>\n",
       "      <td>2.013863</td>\n",
       "    </tr>\n",
       "    <tr>\n",
       "      <th>3</th>\n",
       "      <td>2.123949</td>\n",
       "      <td>2.060006</td>\n",
       "      <td>2.029549</td>\n",
       "      <td>2.014665</td>\n",
       "    </tr>\n",
       "    <tr>\n",
       "      <th>4</th>\n",
       "      <td>2.134008</td>\n",
       "      <td>2.065217</td>\n",
       "      <td>2.032199</td>\n",
       "      <td>2.016001</td>\n",
       "    </tr>\n",
       "    <tr>\n",
       "      <th>...</th>\n",
       "      <td>...</td>\n",
       "      <td>...</td>\n",
       "      <td>...</td>\n",
       "      <td>...</td>\n",
       "    </tr>\n",
       "    <tr>\n",
       "      <th>95</th>\n",
       "      <td>1.882280</td>\n",
       "      <td>1.937735</td>\n",
       "      <td>1.967946</td>\n",
       "      <td>1.983733</td>\n",
       "    </tr>\n",
       "    <tr>\n",
       "      <th>96</th>\n",
       "      <td>1.881026</td>\n",
       "      <td>1.937069</td>\n",
       "      <td>1.967603</td>\n",
       "      <td>1.983558</td>\n",
       "    </tr>\n",
       "    <tr>\n",
       "      <th>97</th>\n",
       "      <td>1.880252</td>\n",
       "      <td>1.936665</td>\n",
       "      <td>1.967396</td>\n",
       "      <td>1.983454</td>\n",
       "    </tr>\n",
       "    <tr>\n",
       "      <th>98</th>\n",
       "      <td>1.879969</td>\n",
       "      <td>1.936529</td>\n",
       "      <td>1.967329</td>\n",
       "      <td>1.983421</td>\n",
       "    </tr>\n",
       "    <tr>\n",
       "      <th>99</th>\n",
       "      <td>1.880178</td>\n",
       "      <td>1.936659</td>\n",
       "      <td>1.967402</td>\n",
       "      <td>1.983459</td>\n",
       "    </tr>\n",
       "  </tbody>\n",
       "</table>\n",
       "<p>100 rows × 4 columns</p>\n",
       "</div>"
      ],
      "text/plain": [
       "         r_0       r_1       r_2       r_3\n",
       "0   2.110890  2.053274  2.026133  2.012945\n",
       "1   2.113901  2.054808  2.026907  2.013334\n",
       "2   2.117906  2.056875  2.027957  2.013863\n",
       "3   2.123949  2.060006  2.029549  2.014665\n",
       "4   2.134008  2.065217  2.032199  2.016001\n",
       "..       ...       ...       ...       ...\n",
       "95  1.882280  1.937735  1.967946  1.983733\n",
       "96  1.881026  1.937069  1.967603  1.983558\n",
       "97  1.880252  1.936665  1.967396  1.983454\n",
       "98  1.879969  1.936529  1.967329  1.983421\n",
       "99  1.880178  1.936659  1.967402  1.983459\n",
       "\n",
       "[100 rows x 4 columns]"
      ]
     },
     "execution_count": 22,
     "metadata": {},
     "output_type": "execute_result"
    }
   ],
   "source": [
    "df2=pd.DataFrame()\n",
    "df2['r_0'] = df1['e_0'] / df1['e_1']\n",
    "df2['r_1'] = df1['e_1'] / df1['e_2']\n",
    "df2['r_2'] = df1['e_2'] / df1['e_3']\n",
    "df2['r_3'] = df1['e_3'] / df1['e_4']\n",
    "\n",
    "df2"
   ]
  },
  {
   "cell_type": "markdown",
   "metadata": {
    "tags": []
   },
   "source": [
    "Як бачимо, отримані значення швидкості наближаються до числа 2, як і передбачають результати теоретичних досліджень. Зазначимо, що це повільна збіжність, тому при обчисленні розв'язку на сітках з більшою кількістю вузлів ( при більшому значенні параметра ``n_start``) наступить такий момент, коли похибка почне зростати через похибку арифметичних операцій. Така властивість методу Ейлера обмежує його застосування і оправдовує його використання хіба для отримання певних уявлень про розв'язок задачі Коші. "
   ]
  },
  {
   "cell_type": "code",
   "execution_count": null,
   "metadata": {
    "tags": []
   },
   "outputs": [],
   "source": [
    "plt.close('all')"
   ]
  },
  {
   "cell_type": "markdown",
   "metadata": {},
   "source": [
    "  **Цього не треба**\n",
    "_________________\n",
    "але на сітках з більшою кількістю вузлів ( при більшому значенні параметра ``n_start``), то можна пересвідчитися у повільному зменшенні похибок чисельних розв'язків."
   ]
  },
  {
   "cell_type": "code",
   "execution_count": null,
   "metadata": {},
   "outputs": [],
   "source": [
    "n_start = 200\n",
    "\n",
    "n = n_start\n",
    "x0=np.linspace(a, b, n+1)\n",
    "u_0=Euler_method(f3,u0,a,b,n)\n",
    "\n",
    "n*=2\n",
    "x1=np.linspace(a, b, n+1)\n",
    "u_1=Euler_method(f3,u0,a,b,n)\n",
    "\n",
    "n*=2\n",
    "x2=np.linspace(a, b, n+1)\n",
    "u_2=Euler_method(f3,u0,a,b,n)\n",
    "\n",
    "n*=2\n",
    "x3=np.linspace(a, b, n+1)\n",
    "u_3=Euler_method(f3,u0,a,b,n)\n",
    "\n",
    "n*=2\n",
    "x4=np.linspace(a, b, n+1)\n",
    "u_4=Euler_method(f3,u0,a,b,n)\n",
    "\n",
    "x=np.linspace(a, b, 256)\n",
    "ux=(x+1)*np.exp(-np.sin(x))\n",
    "\n",
    "fig = plt.figure(figsize=(8, 5))\n",
    "plt.plot(x, ux, label='ux')\n",
    "plt.plot(x0, u_0, label='u_0')\n",
    "plt.plot(x1, u_1, label='u_1')\n",
    "plt.plot(x2, u_2, label='u_2')\n",
    "plt.plot(x3, u_3, label='u_3')\n",
    "plt.plot(x4, u_4, label='u_4')\n",
    "ax = fig.gca()\n",
    "ax.legend();\n",
    "\n",
    "u=(x0+1)*np.exp(-np.sin(x0))\n",
    "\n",
    "df=pd.DataFrame({'x_0':x0[1::],'u_0':u_0[1::],'u_1':u_1[2::2],'u_2':u_2[4::4],'u_3':u_3[8::8],'u_4':u_4[16::16],'u':u[1::]})\n",
    "df"
   ]
  },
  {
   "cell_type": "markdown",
   "metadata": {
    "tags": []
   },
   "source": [
    "Оскільки розглядаємо задачу на довшому відрізку і, як видно з графіку, поведінка її розв'язку є складнішою, то похибка отриманих чисельних розв'язків є більшою у цьому випадку:"
   ]
  },
  {
   "cell_type": "code",
   "execution_count": null,
   "metadata": {
    "tags": []
   },
   "outputs": [],
   "source": [
    "df1=pd.DataFrame()\n",
    "df1['e_0']=np.abs(df['u']-df['u_0'])\n",
    "df1['e_1']=np.abs(df['u']-df['u_1'])\n",
    "df1['e_2']=np.abs(df['u']-df['u_2'])\n",
    "df1['e_3']=np.abs(df['u']-df['u_3'])\n",
    "df1['e_4']=np.abs(df['u']-df['u_4'])\n",
    "df1"
   ]
  },
  {
   "cell_type": "code",
   "execution_count": null,
   "metadata": {
    "tags": []
   },
   "outputs": [],
   "source": [
    "fig = plt.figure(figsize=(8, 5))\n",
    "df1.e_0.plot(logy=True)\n",
    "df1.e_1.plot(logy=True)\n",
    "df1.e_2.plot(logy=True)\n",
    "df1.e_3.plot(logy=True)\n",
    "df1.e_4.plot(logy=True)\n",
    "ax = fig.gca()\n",
    "ax.legend();"
   ]
  },
  {
   "cell_type": "markdown",
   "metadata": {},
   "source": [
    "Обчислимо для кожного чисельного розв'язку його абсолютну похибку за нормою $\\| \\cdot \\|_\\infty$"
   ]
  },
  {
   "cell_type": "code",
   "execution_count": null,
   "metadata": {},
   "outputs": [],
   "source": [
    "ne_0 = max(np.abs(df1['e_0']))\n",
    "ne_1 = max(np.abs(df1['e_1']))\n",
    "ne_2 = max(np.abs(df1['e_2']))\n",
    "ne_3 = max(np.abs(df1['e_3']))\n",
    "ne_4 = max(np.abs(df1['e_4']))\n",
    "print(f\" ne_0={ne_0:1.2e}\\n ne_1={ne_1:1.2e}\\n ne_2={ne_2:1.2e}\\n ne_3={ne_3:1.2e}\\n ne_4={ne_4:1.2e}\")"
   ]
  },
  {
   "cell_type": "markdown",
   "metadata": {
    "tags": []
   },
   "source": [
    "Знайдемо тепер значення швидкості збіжності чисельних розв'язків:"
   ]
  },
  {
   "cell_type": "code",
   "execution_count": null,
   "metadata": {},
   "outputs": [],
   "source": [
    "df2=pd.DataFrame()\n",
    "df2['r_0'] = df1['e_0'] / df1['e_1']\n",
    "df2['r_1'] = df1['e_1'] / df1['e_2']\n",
    "df2['r_2'] = df1['e_2'] / df1['e_3']\n",
    "df2['r_3'] = df1['e_3'] / df1['e_4']\n",
    "\n",
    "df2"
   ]
  },
  {
   "cell_type": "code",
   "execution_count": null,
   "metadata": {},
   "outputs": [],
   "source": []
  },
  {
   "cell_type": "code",
   "execution_count": null,
   "metadata": {},
   "outputs": [],
   "source": []
  }
 ],
 "metadata": {
  "anaconda-cloud": {},
  "colab": {
   "name": "oom_2_2_1_simple_iteration.ipynb",
   "private_outputs": true,
   "provenance": []
  },
  "kernelspec": {
   "display_name": "Python 3 (ipykernel)",
   "language": "python",
   "name": "python3"
  },
  "language_info": {
   "codemirror_mode": {
    "name": "ipython",
    "version": 3
   },
   "file_extension": ".py",
   "mimetype": "text/x-python",
   "name": "python",
   "nbconvert_exporter": "python",
   "pygments_lexer": "ipython3",
   "version": "3.9.7"
  }
 },
 "nbformat": 4,
 "nbformat_minor": 4
}
