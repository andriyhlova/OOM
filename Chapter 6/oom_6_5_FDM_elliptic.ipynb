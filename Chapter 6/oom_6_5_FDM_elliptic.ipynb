{
 "cells": [
  {
   "cell_type": "markdown",
   "metadata": {
    "id": "uDSAycn9QF1Y"
   },
   "source": [
    "# 6.5. Чисельне розв'язування крайових задач для еліптичних рівнянь методом скінчених різниць\n",
    "---------------------"
   ]
  },
  {
   "cell_type": "markdown",
   "metadata": {
    "id": "TrvVaZ02QF1h"
   },
   "source": [
    "## 6.5.1.  Постановка  задачі Діріхле для рівняння Пуассона "
   ]
  },
  {
   "cell_type": "markdown",
   "metadata": {},
   "source": [
    "Нехай \n",
    "$D:=(0,a)\\times (0,b) \\equiv \\{(x,y)\\ |\\ 0<x<a, \\, 0<y< b\\},$\n",
    "\n",
    "де $a>0$ і $b>0$ -- деякі числа.\n",
    "\n",
    "Розглянемо задачу Діріхле для рівняння Пуассона. Треба знайти функцію \n",
    "$u\\in C^2(D)\\cap C(\\overline{D})$,\n",
    "яка задовольняє рівняння\n",
    "\n",
    "$(1)\\quad\\qquad  u_{xx}(x,y)+u_{yy}(x,y) = f(x,y),\\quad (x,y)\\in D,$\n",
    "\n",
    "і крайові умови\n",
    "\n",
    "$(2)\\quad\\qquad u|_{x=0}=\\varphi_1(y),\\quad u|_{x=a}=\\varphi_2(y),\\quad y\\in[0,b],$\n",
    "\n",
    "$(3)\\quad\\qquad u|_{y=0}=\\psi_1(x),\\quad u|_{y=b}=\\psi_2(x),\\quad x\\in(0,a),$\n",
    "\n",
    "де $f\\in C(\\overline{D}),\\quad \\varphi_k\\in C([0,b]), \\quad \\psi_k\\in C([0,a]), \\quad k=1,2,$ --\n",
    "задані функції, причому виконуються  умови узгодження:\n",
    "$$ \\varphi_1(0)=\\psi_1(0),\\quad \\varphi_1(b)=\\psi_2(0),\\quad\n",
    "\\varphi_2(0)=\\psi_1(a),\\quad \\varphi_2(b)=\\psi_2(a).$$\n"
   ]
  },
  {
   "cell_type": "markdown",
   "metadata": {
    "id": "TrvVaZ02QF1h"
   },
   "source": [
    "## 6.5.2.  Різницева схема "
   ]
  },
  {
   "cell_type": "markdown",
   "metadata": {},
   "source": [
    "Нехай $N_x, N_y$ -- які-небудь натуральні числа і\n",
    "$$\n",
    "h_x:=\\frac{a}{N_x},\\quad h_y:=\\frac{b}{N_y}.\n",
    "$$\n",
    "Побудуємо сітку\n",
    "$$\n",
    "\\{(x_i,y_j) \\;|\\; x_i:=ih_x,\\,\\,y_j:=jh_y, \\quad i=\\overline{0,N_x}, \\,\\,j=\\overline{0,N_y}\\},\n",
    "$$\n",
    "на якій розглянемо наближення функції $u$\n",
    "$$\n",
    "u_{i,j}\\approx u(x_i,y_j),\\,\\,i=\\overline{0,N_x},\\,\\,j=\\overline{0,N_y},\n",
    "$$\n",
    "і сіткові значення вхідних даних: \n",
    "$$f_{i,j}:=f(x_i,y_j),  \\quad \\varphi_{k,j}:=\\varphi_k(y_j),\\quad \\psi_{k,i}:=\\psi_k(x_i), \\quad k=\\overline{1,2},\\quad i=\\overline{1,N_x-1},\\;\\;j=\\overline{1,N_y-1}. $$\n",
    "\n",
    "\n",
    "Позначимо \n",
    "$N:=(N_x-1)\\times(N_y-1), \\quad \\alpha:=h_x^{-2}, \\; \\beta:=h_y^{-2}$. "
   ]
  },
  {
   "cell_type": "markdown",
   "metadata": {},
   "source": [
    "Сіткові значення впорядкуємо у вигляді векторів $v, g \\in \\mathbb{R}^N$ так, що \n",
    "$$ \n",
    "v_k = u_{i,j} \\text{ при } k=(i-1)(N_y-1)+j-1, \\quad i=\\overline{1,N_x-1},\\,\\,j=\\overline{1,N_y-1}, \\quad k=\\overline{0,N-1},\\\\\n",
    "$$\n",
    "$$  \n",
    "g_{k} = \n",
    "\\begin{cases}\n",
    "f_{1, 1}      - \\beta \\psi_{1,1} - \\alpha \\varphi_{1,1}, \\quad\\quad\\quad\\quad\\quad k=0,\\\\\n",
    "f_{1, N_y-1}  - \\beta \\psi_{2,1} - \\alpha \\varphi_{1, N_y-1},\\;\\;\\quad\\quad k=N_y-2,\\\\\n",
    "f_{N_x-1, 1}      - \\beta \\psi_{1, N_x-1} - \\alpha \\varphi_{2,1},\\;\\;\\quad\\quad k=(N_x-2)(N_y-1),\\\\\n",
    "f_{N_x-1, N_y-1}  - \\beta \\psi_{2, N_x-1} - \\alpha \\varphi_{2, N_y-1},\\; k=N-1,\\\\\n",
    "f_{1, j}    -\\alpha \\varphi_{1, j},   \\quad\\quad j=\\overline{2,N_y-2}, \\quad k=j-1,\\\\\n",
    "f_{N_x-1, j}-\\alpha \\varphi_{2, j},        \\quad j=\\overline{2,N_y-2}, \\quad k=(N_x-2)(N_y-1)+j-1, \\\\\n",
    "f_{i,1}    - \\beta \\psi_{1,i},\\quad \\quad i=\\overline{2,N_x-2},\\;\\;\\quad k=(i-1)(N_y-1),\\\\\n",
    "f_{i,N_y-1}- \\beta \\psi_{2,i},\\quad i=\\overline{2,N_x-2},\\;\\;\\quad k=i(N_y-1)-1,\\\\\n",
    "f_{i,j},\\quad i=\\overline{2,N_x-2},\\,\\,j=\\overline{2,N_y-2},\\quad k=(i-1)(N_y-1)+j-1. \\\\\n",
    "\\end{cases}\n",
    "$$\n",
    "\n",
    "\n",
    "Якщо у внутрішніх вузлах сітки використати такі апроксимації:\n",
    "$$\n",
    " u_{xx}(x_i,y_j)\\approx\\frac{u_{i-1,j}-2u_{i,j}+u_{i+1,j}}{h_x^2},\\quad\n",
    "u_{yy}(x_i,y_j)\\approx\\frac{u_{i,j-1}-2u_{i,j}+u_{i,j+1}}{h_y^2},i=\\overline{1,N_x-1},\\,\\,j=\\overline{1,N_y-1},\n",
    "$$\n",
    "то різницеву схему для задачі (1)-(3) можна звести до такої СЛАР відносно шуканих наближень розв'язку:\n",
    "\n",
    "$(3)\\qquad\\qquad \\qquad\\qquad\\qquad\\qquad\n",
    "    C v = g,\n",
    "$\n",
    "\n",
    "з матрицею $C \\in \\mathbb{R}^{N \\times N}$, яка має блочну структуру\n",
    "\n",
    "$$\n",
    "C=\n",
    "\\begin{pmatrix}\n",
    "B& A& 0& 0 &\\ldots& 0& 0& 0\\\\\n",
    "A& B& A& 0 &\\ldots& 0& 0& 0\\\\\n",
    "0& A& B& A &\\ldots& 0& 0& 0\\\\\n",
    "\\ldots& \\ldots& \\ldots& \\ldots& \\ldots& \\ldots& \\ldots\\\\\n",
    "0& 0& 0& 0& \\ldots& A& B& A\\\\\n",
    "0& 0& 0& 0& \\ldots& 0& A& B\n",
    "\\end{pmatrix}\n",
    "$$\n",
    "де блоки $A,B \\in \\mathbb{R}^{(N_y-1) \\times (N_y-1)}$ є діагональною і тридіагональною матрицями відповідно, які мають вираз \n",
    "$$\n",
    "A=\n",
    "\\begin{pmatrix}\n",
    " \\alpha  & 0& 0& 0 &\\ldots& 0& 0& 0\\\\\n",
    "0 & \\alpha & 0 & 0 &\\ldots& 0& 0& 0\\\\\n",
    "0& 0 & \\alpha & 0 &\\ldots& 0& 0& 0\\\\\n",
    "\\ldots& \\ldots& \\ldots& \\ldots& \\ldots& \\ldots& \\ldots\\\\\n",
    "0& 0& 0& 0& \\ldots& 0 & \\alpha & 0\\\\\n",
    "0& 0& 0& 0& \\ldots& 0& 0 & \\alpha\n",
    "\\end{pmatrix}\n",
    "$$\n",
    "$$\n",
    "B=\n",
    "\\begin{pmatrix}\n",
    "- 2(\\alpha+\\beta) & \\beta& 0& 0 &\\ldots& 0& 0& 0\\\\\n",
    "\\beta & - 2(\\alpha+\\beta)& \\beta& 0 &\\ldots& 0& 0& 0\\\\\n",
    "0& \\beta & - 2(\\alpha+\\beta)& \\beta &\\ldots& 0& 0& 0\\\\\n",
    "\\ldots& \\ldots& \\ldots& \\ldots& \\ldots& \\ldots& \\ldots\\\\\n",
    "0& 0& 0& 0& \\ldots& \\beta & - 2(\\alpha+\\beta)& \\beta\\\\\n",
    "0& 0& 0& 0& \\ldots& 0& \\beta & - 2(\\alpha+\\beta)\n",
    "\\end{pmatrix}\n",
    "$$\n",
    "\n",
    "Співвідношення (4) утворюють СЛАР відносно шуканих значень наближень розв'язку даної задачі."
   ]
  },
  {
   "cell_type": "markdown",
   "metadata": {
    "id": "C56etMUzw6qS",
    "tags": []
   },
   "source": [
    "#### Пояснення до використання програмного коду\n",
    "-----------------\n",
    "*   Підготувати потрібні функції : \n",
    "    1.   виконати комірку для підготовки середовища \n",
    "    2.   виконати комірки, де **визначені** функції ``FDA_E_solver``,``set_matrix`` і ``set_vector``\n",
    "\n",
    "*    Обчислити чисельний розв'язок конкретної крайової задачі :\n",
    "     1.  виконати комірку, де **визначені** функції ``phi1``,``phi2``, ``psi1``, ``psi2``  і ``f``, які задають конкретну крайову задачу \n",
    "     2.  виконати комірку, в якій задано усі параметри крайової задачі \n",
    "     3.  виконати комірку з викликом функції ``FDA_E_solver``, перед виконанням задати відповідні аргументи цієї функції.\n",
    "\n",
    "*   Щоб переконатися, що чисельний розв'язок достатньо точний, можна виконати кілька послідовних викликів функції ``FDA_E_solver``, збільшуючи кількість вузлів сітки."
   ]
  },
  {
   "cell_type": "markdown",
   "metadata": {
    "tags": []
   },
   "source": [
    "#### Програмна реалізація методів\n",
    "------------"
   ]
  },
  {
   "cell_type": "markdown",
   "metadata": {
    "tags": []
   },
   "source": [
    ">#### Підготовка середовища"
   ]
  },
  {
   "cell_type": "code",
   "execution_count": 3,
   "metadata": {},
   "outputs": [],
   "source": [
    "%matplotlib widget\n",
    "import matplotlib.pyplot as plt\n",
    "import numpy as np\n",
    "import pandas as pd\n",
    "from scipy import linalg\n",
    "from mpl_toolkits import mplot3d"
   ]
  },
  {
   "cell_type": "markdown",
   "metadata": {
    "id": "ocZR4xN_cvNf",
    "tags": []
   },
   "source": [
    ">#### ``FDA_E_solver`` -- функція, яка отримує вхідні параметри чисельного методу, формує масиви значень розв'язку на межі області, задає матрицю вектор вільних членів  СЛАР, знаходить значення чисельного розв'язку у внутрішніх вузлах сітки і повертає матрицю, яка містить значення розв'язку у всіх точках сітки. За замовчуванням ( при ``plotting=True``) будуються 3D-графіки чисельного розв'язку задачі.\n",
    "    \n"
   ]
  },
  {
   "cell_type": "code",
   "execution_count": 5,
   "metadata": {},
   "outputs": [],
   "source": [
    "def FDA_E_solver(f, phi1, phi2, psi1, psi2, a, b, Nx, Ny, plotting=True):\n",
    "    \"\"\" Розв'язування крайової задачі (1)-(3) \n",
    "        методом скінчених різниць \n",
    "    \"\"\"   \n",
    "    hx = a/Nx\n",
    "    hy = b/Ny\n",
    "    alpha = 1/(hx*hx)\n",
    "    beta  = 1/(hy*hy)\n",
    "\n",
    "    N = (Nx-1)*(Ny-1)\n",
    "      \n",
    "    c = set_matrix(alpha,beta,Nx, Ny)\n",
    "    \n",
    "    x=np.linspace(0, a, Nx+1)\n",
    "    y=np.linspace(0, b, Ny+1)    \n",
    "    \n",
    "    ps1 = np.empty(Nx+1, dtype=float)\n",
    "    ps2 = np.empty(Nx+1, dtype=float)\n",
    "    for i in range(Nx+1):\n",
    "        ps1[i] = psi1(x[i])\n",
    "        ps2[i] = psi2(x[i])\n",
    "        \n",
    "    ph1 = np.empty(Ny+1, dtype=float)\n",
    "    ph2 = np.empty(Ny+1, dtype=float)\n",
    "    for j in range(Ny+1):\n",
    "        ph1[j] = phi1(y[j])\n",
    "        ph2[j] = phi2(y[j])    \n",
    "    \n",
    "    g = set_vector(f, ph1, ph2, ps1, ps2, x, y, alpha,beta, Nx, Ny)\n",
    "    \n",
    "    u = linalg.solve(c, g)\n",
    "    \n",
    "    uij=u.reshape(((Nx-1),(Ny-1)))\n",
    "\n",
    "    ue = np.empty((Nx+1,Ny+1), dtype=float)\n",
    "\n",
    "    ue[0,:] = ph1\n",
    "    ue[Nx,:]= ph2\n",
    "    ue[:,Ny]= ps2\n",
    "    ue[:,0] = ps1\n",
    "    for i in range(1,Nx):\n",
    "        for j in range(1,Ny):\n",
    "            ue[i,j] = uij[i-1,j-1]\n",
    "    \n",
    "    if plotting :\n",
    "        Y, X = np.meshgrid(y, x)\n",
    "        # set up a figure twice as wide as it is tall\n",
    "        fig = plt.figure(figsize=plt.figaspect(0.5)) \n",
    "        # =============\n",
    "        # First subplot\n",
    "        # =============\n",
    "        # set up the axes for the first plot\n",
    "        ax = fig.add_subplot(1, 2, 1, projection='3d')\n",
    "        ax.set_xlabel('y')\n",
    "        ax.set_ylabel('x') \n",
    "        ax.set_zlabel('u');\n",
    "        ax.set_title(f\"Розв'язок задачі Nx={Nx}, Ny={Ny}\");\n",
    "        surf = ax.plot_surface(Y, X, ue, rstride=1, cstride=1, cmap='viridis', linewidth=0, antialiased=False)\n",
    "        fig.colorbar(surf, shrink=0.5, aspect=10)\n",
    "        # ==============\n",
    "        # Second subplot\n",
    "        # ==============\n",
    "        # set up the axes for the second plot\n",
    "        ax = fig.add_subplot(1, 2, 2, projection='3d')\n",
    "        ax.set_xlabel('y')\n",
    "        ax.set_ylabel('x')\n",
    "        ax.set_zlabel('u');\n",
    "        ax.set_title(f\"Розв'язок задачі Nx={Nx}, Ny={Ny}\");\n",
    "        surf = ax.plot_wireframe(Y, X, ue, rstride=5, cstride=5)\n",
    "    return ue"
   ]
  },
  {
   "cell_type": "markdown",
   "metadata": {
    "id": "JML_Qdgo363W"
   },
   "source": [
    ">### ``set_matrix`` -- функція, яка формує матрицю  $C$ "
   ]
  },
  {
   "cell_type": "code",
   "execution_count": 6,
   "metadata": {
    "id": "IdDn2xvxQF1n"
   },
   "outputs": [],
   "source": [
    "def set_matrix(alpha,beta,Nx, Ny):\n",
    "    \"\"\" функція задає матрицю СЛАР \"\"\"\n",
    "    \n",
    "    N = (Nx-1)*(Ny-1)\n",
    "    c=np.zeros((N,N), dtype=float)\n",
    "    c[0,0] = -2*(alpha+beta)\n",
    "    c[0,1] = beta\n",
    "    c[N-1,N-1] = -2*(alpha+beta)\n",
    "    c[N-1,N-2] = beta\n",
    "    for i in range(1,N-1):\n",
    "        c[i,i-1] = beta\n",
    "        c[i,i]   = -2*(alpha+beta)\n",
    "        c[i,i+1] = beta       \n",
    "    nstop = (Ny-1)*(Nx-2) \n",
    "    for k in range(Ny-2, nstop, Ny-1):\n",
    "        c[k,k+1] = 0\n",
    "        c[k+1,k] = 0\n",
    "    \n",
    "    \n",
    "    for k in range(nstop):\n",
    "        c[k,k+Ny-1] = alpha\n",
    "        c[k+Ny-1,k] = alpha\n",
    "        \n",
    "    return c"
   ]
  },
  {
   "cell_type": "markdown",
   "metadata": {
    "id": "JML_Qdgo363W"
   },
   "source": [
    ">### ``set_vector`` -- функція, яка формує вектор вільних членів СЛАР"
   ]
  },
  {
   "cell_type": "code",
   "execution_count": 7,
   "metadata": {
    "id": "IdDn2xvxQF1n"
   },
   "outputs": [],
   "source": [
    "def set_vector(f, ph1, ph2, ps1, ps2, x, y, alpha,beta, Nx, Ny):\n",
    "    \"\"\" функція задає вектор вільних членів СЛАР \"\"\"\n",
    "   \n",
    "    N = (Nx-1)*(Ny-1)    \n",
    "    g=np.empty(N, dtype=float)\n",
    "    \n",
    "    k=0\n",
    "    for i in range(1,Nx):\n",
    "        for j in range(1,Ny):\n",
    "            g[k] = f(x[i],y[j])  \n",
    "            k += 1   \n",
    "    \n",
    "    if Nx==3 and Ny==2:\n",
    "        g[0]-= beta*(ps1[1]+ps2[1])+alpha*ph1[1]\n",
    "        g[1]-= beta*(ps1[2]+ps2[2])+alpha*ph2[1]\n",
    "        print(f\"g={g}\")  \n",
    "        return g\n",
    "    \n",
    "    if Nx < 4 or Ny < 4:\n",
    "        raise Exception('invalid grid')\n",
    "    \n",
    "    k=0\n",
    "    g[k] -= beta*ps1[1]+alpha*ph1[1]\n",
    "    k=Ny-2\n",
    "    g[k] -= beta*ps2[1]+alpha*ph1[Ny-1]\n",
    "    k=(Nx-2)*(Ny-1)\n",
    "    g[k] -= beta*ps1[Nx-1]+alpha*ph2[1]\n",
    "    k=N-1\n",
    "    g[k] -= beta*ps2[Nx-1]+alpha*ph2[Ny-1]\n",
    "    \n",
    "    for j in range(2,Ny-2):\n",
    "        k=j-1\n",
    "        g[k] -= alpha*ph1[j]\n",
    "        k=(Nx-2)*(Ny-1)+j-1\n",
    "        g[k] -= alpha*ph2[j]\n",
    "    for i in range(2,Nx-2):\n",
    "        k=(i-1)*(Ny-1)\n",
    "        g[k] -= beta*ps1[i]\n",
    "        k=i*(Ny-1)-1\n",
    "        g[k] -= beta*ps2[i]                       \n",
    "        \n",
    "    return g"
   ]
  },
  {
   "cell_type": "markdown",
   "metadata": {
    "tags": []
   },
   "source": [
    ">#### ``phi1``,``phi2``, ``psi1``, ``psi2``  і ``f`` -- функції, які задають конкретну крайову задачу "
   ]
  },
  {
   "cell_type": "markdown",
   "metadata": {
    "tags": []
   },
   "source": [
    "#### Обчислювальні експерименти\n",
    "------------"
   ]
  },
  {
   "cell_type": "markdown",
   "metadata": {
    "tags": []
   },
   "source": [
    "Продемонструємо застосування методу скінчених різниць до розв'язування крайової задачі Діріхле для рівняння Пуасона."
   ]
  },
  {
   "cell_type": "markdown",
   "metadata": {
    "tags": []
   },
   "source": [
    "**Приклад 1.** (приклад 1.6) Знайти чисельний розв'язок крайової задачі\n",
    " \\begin{equation}\\label{2001.6.6}\n",
    "\\Delta u= x+y,\\quad (x,y)\\in(0,3)\\times(0,2),\n",
    "\\end{equation}\n",
    "\\begin{equation}\\label{2001.6.7}\n",
    "u|_{x=0}=y,\\quad u|_{x=3}=2y,\\quad y\\in[0,2],\n",
    "\\end{equation}\n",
    "\\begin{equation}\\label{2001.6.8}\n",
    "u|_{y=0}=0,\\quad u|_{y=2}=\\frac{2}{3}x+2,\\quad x\\in(0,3),\n",
    "\\end{equation}\n",
    "застосовуючи метод скінчених різниць на послідовності сіток, в яких подвоюється кількість вузлів по кожній змінній. "
   ]
  },
  {
   "cell_type": "markdown",
   "metadata": {
    "tags": []
   },
   "source": [
    "Визначимо функції, які задають праву частину рівняння (1) і крайові умови на сторонах прямокутника:"
   ]
  },
  {
   "cell_type": "code",
   "execution_count": 4,
   "metadata": {},
   "outputs": [],
   "source": [
    "def f(x,y):\n",
    "    return x+y\n",
    "def phi1(y):\n",
    "    return y\n",
    "def phi2(y):\n",
    "    return 2*y\n",
    "def psi1(x):\n",
    "    return 0\n",
    "def psi2(x):\n",
    "    return 2*x/3+2"
   ]
  },
  {
   "cell_type": "markdown",
   "metadata": {
    "tags": []
   },
   "source": [
    "Задамо сторони прямокутника і початкові значення параметрів сітки:"
   ]
  },
  {
   "cell_type": "code",
   "execution_count": 8,
   "metadata": {},
   "outputs": [],
   "source": [
    "a=3\n",
    "b=2\n",
    "Nx_start = 12\n",
    "Ny_start = 8"
   ]
  },
  {
   "cell_type": "markdown",
   "metadata": {
    "tags": []
   },
   "source": [
    "Знайдемо чисельні розв'язки задачі на послідовності сіток, подвоюючи на кожному кроці кількість вузлів по кожній змінній і зберігаючи відповідні масиви результатів; для подальшого аналізу також зберігатимемо значення чисельного розв'язку у точках початкової сітки:"
   ]
  },
  {
   "cell_type": "code",
   "execution_count": 9,
   "metadata": {},
   "outputs": [
    {
     "data": {
      "application/vnd.jupyter.widget-view+json": {
       "model_id": "51220e411e614f958836df98f9a7016a",
       "version_major": 2,
       "version_minor": 0
      },
      "text/plain": [
       "Canvas(toolbar=Toolbar(toolitems=[('Home', 'Reset original view', 'home', 'home'), ('Back', 'Back to previous …"
      ]
     },
     "metadata": {},
     "output_type": "display_data"
    },
    {
     "data": {
      "text/plain": [
       "77"
      ]
     },
     "execution_count": 9,
     "metadata": {},
     "output_type": "execute_result"
    }
   ],
   "source": [
    "Nx=Nx_start\n",
    "Ny=Ny_start\n",
    "u_0 = FDA_E_solver(f, phi1, phi2, psi1, psi2, a, b, Nx, Ny)\n",
    "u0=u_0[1:Nx:1,1:Ny:1].reshape((Nx-1)*(Ny-1))"
   ]
  },
  {
   "cell_type": "code",
   "execution_count": 10,
   "metadata": {},
   "outputs": [
    {
     "data": {
      "application/vnd.jupyter.widget-view+json": {
       "model_id": "6f2895cb13c6442f9d6ba2abce171e1e",
       "version_major": 2,
       "version_minor": 0
      },
      "text/plain": [
       "Canvas(toolbar=Toolbar(toolitems=[('Home', 'Reset original view', 'home', 'home'), ('Back', 'Back to previous …"
      ]
     },
     "metadata": {},
     "output_type": "display_data"
    },
    {
     "data": {
      "text/plain": [
       "77"
      ]
     },
     "execution_count": 10,
     "metadata": {},
     "output_type": "execute_result"
    }
   ],
   "source": [
    "Nx *= 2\n",
    "Ny *= 2\n",
    "u_1 = FDA_E_solver(f, phi1, phi2, psi1, psi2, a, b, Nx, Ny)\n",
    "u1=u_1[2:Nx-1:2,2:Ny-1:2].reshape((Nx_start-1)*(Ny_start-1))"
   ]
  },
  {
   "cell_type": "code",
   "execution_count": 11,
   "metadata": {},
   "outputs": [
    {
     "data": {
      "application/vnd.jupyter.widget-view+json": {
       "model_id": "69eea46cba5a42e092def6f710d524ba",
       "version_major": 2,
       "version_minor": 0
      },
      "text/plain": [
       "Canvas(toolbar=Toolbar(toolitems=[('Home', 'Reset original view', 'home', 'home'), ('Back', 'Back to previous …"
      ]
     },
     "metadata": {},
     "output_type": "display_data"
    },
    {
     "data": {
      "text/plain": [
       "77"
      ]
     },
     "execution_count": 11,
     "metadata": {},
     "output_type": "execute_result"
    }
   ],
   "source": [
    "Nx *= 2\n",
    "Ny *= 2\n",
    "u_2 = FDA_E_solver(f, phi1, phi2, psi1, psi2, a, b, Nx, Ny)\n",
    "u2=u_2[4:Nx-3:4,4:Ny-3:4].reshape((Nx_start-1)*(Ny_start-1))"
   ]
  },
  {
   "cell_type": "code",
   "execution_count": 12,
   "metadata": {},
   "outputs": [
    {
     "data": {
      "application/vnd.jupyter.widget-view+json": {
       "model_id": "b325e83c23d5445eac6358c585857c1d",
       "version_major": 2,
       "version_minor": 0
      },
      "text/plain": [
       "Canvas(toolbar=Toolbar(toolitems=[('Home', 'Reset original view', 'home', 'home'), ('Back', 'Back to previous …"
      ]
     },
     "metadata": {},
     "output_type": "display_data"
    },
    {
     "data": {
      "text/plain": [
       "77"
      ]
     },
     "execution_count": 12,
     "metadata": {},
     "output_type": "execute_result"
    }
   ],
   "source": [
    "Nx *= 2\n",
    "Ny *= 2\n",
    "u_3 = FDA_E_solver(f, phi1, phi2, psi1, psi2, a, b, Nx, Ny)\n",
    "u3=u_3[8:Nx-7:8,8:Ny-7:8].reshape((Nx_start-1)*(Ny_start-1))"
   ]
  },
  {
   "cell_type": "code",
   "execution_count": 13,
   "metadata": {},
   "outputs": [
    {
     "data": {
      "application/vnd.jupyter.widget-view+json": {
       "model_id": "8ebf5ff033d945a6befb9f6beb5ae952",
       "version_major": 2,
       "version_minor": 0
      },
      "text/plain": [
       "Canvas(toolbar=Toolbar(toolitems=[('Home', 'Reset original view', 'home', 'home'), ('Back', 'Back to previous …"
      ]
     },
     "metadata": {},
     "output_type": "display_data"
    },
    {
     "data": {
      "text/plain": [
       "77"
      ]
     },
     "execution_count": 13,
     "metadata": {},
     "output_type": "execute_result"
    }
   ],
   "source": [
    "Nx *= 2\n",
    "Ny *= 2\n",
    "u_4 = FDA_E_solver(f, phi1, phi2, psi1, psi2, a, b, Nx, Ny)\n",
    "u4=u_4[16:Nx-15:16,16:Ny-15:16].reshape((Nx_start-1)*(Ny_start-1))"
   ]
  },
  {
   "cell_type": "markdown",
   "metadata": {
    "tags": []
   },
   "source": [
    "Як бачимо, графіки чисельних розв'язків візуально подібні між собою. Для детальнішого аналізу занесемо в таблицю значення усіх розв'язків на спільній для усіх сіток множині вузлів: "
   ]
  },
  {
   "cell_type": "code",
   "execution_count": 17,
   "metadata": {},
   "outputs": [
    {
     "data": {
      "text/html": [
       "<div>\n",
       "<style scoped>\n",
       "    .dataframe tbody tr th:only-of-type {\n",
       "        vertical-align: middle;\n",
       "    }\n",
       "\n",
       "    .dataframe tbody tr th {\n",
       "        vertical-align: top;\n",
       "    }\n",
       "\n",
       "    .dataframe thead th {\n",
       "        text-align: right;\n",
       "    }\n",
       "</style>\n",
       "<table border=\"1\" class=\"dataframe\">\n",
       "  <thead>\n",
       "    <tr style=\"text-align: right;\">\n",
       "      <th></th>\n",
       "      <th>u_0</th>\n",
       "      <th>u_1</th>\n",
       "      <th>u_2</th>\n",
       "      <th>u_3</th>\n",
       "      <th>u_4</th>\n",
       "    </tr>\n",
       "  </thead>\n",
       "  <tbody>\n",
       "    <tr>\n",
       "      <th>0</th>\n",
       "      <td>0.164497</td>\n",
       "      <td>0.171949</td>\n",
       "      <td>0.173837</td>\n",
       "      <td>0.174327</td>\n",
       "      <td>0.174453</td>\n",
       "    </tr>\n",
       "    <tr>\n",
       "      <th>1</th>\n",
       "      <td>0.344323</td>\n",
       "      <td>0.361248</td>\n",
       "      <td>0.365401</td>\n",
       "      <td>0.366471</td>\n",
       "      <td>0.366745</td>\n",
       "    </tr>\n",
       "    <tr>\n",
       "      <th>2</th>\n",
       "      <td>0.536998</td>\n",
       "      <td>0.569520</td>\n",
       "      <td>0.577063</td>\n",
       "      <td>0.578975</td>\n",
       "      <td>0.579464</td>\n",
       "    </tr>\n",
       "    <tr>\n",
       "      <th>3</th>\n",
       "      <td>0.731952</td>\n",
       "      <td>0.797518</td>\n",
       "      <td>0.811631</td>\n",
       "      <td>0.815112</td>\n",
       "      <td>0.815995</td>\n",
       "    </tr>\n",
       "    <tr>\n",
       "      <th>4</th>\n",
       "      <td>0.889774</td>\n",
       "      <td>1.041444</td>\n",
       "      <td>1.072022</td>\n",
       "      <td>1.079294</td>\n",
       "      <td>1.081118</td>\n",
       "    </tr>\n",
       "    <tr>\n",
       "      <th>...</th>\n",
       "      <td>...</td>\n",
       "      <td>...</td>\n",
       "      <td>...</td>\n",
       "      <td>...</td>\n",
       "      <td>...</td>\n",
       "    </tr>\n",
       "    <tr>\n",
       "      <th>72</th>\n",
       "      <td>0.861878</td>\n",
       "      <td>0.949424</td>\n",
       "      <td>0.972746</td>\n",
       "      <td>0.978782</td>\n",
       "      <td>0.980323</td>\n",
       "    </tr>\n",
       "    <tr>\n",
       "      <th>73</th>\n",
       "      <td>1.177350</td>\n",
       "      <td>1.354034</td>\n",
       "      <td>1.401200</td>\n",
       "      <td>1.413340</td>\n",
       "      <td>1.416432</td>\n",
       "    </tr>\n",
       "    <tr>\n",
       "      <th>74</th>\n",
       "      <td>1.374996</td>\n",
       "      <td>1.757882</td>\n",
       "      <td>1.863289</td>\n",
       "      <td>1.890393</td>\n",
       "      <td>1.897288</td>\n",
       "    </tr>\n",
       "    <tr>\n",
       "      <th>75</th>\n",
       "      <td>1.141355</td>\n",
       "      <td>2.065495</td>\n",
       "      <td>2.340931</td>\n",
       "      <td>2.413504</td>\n",
       "      <td>2.432058</td>\n",
       "    </tr>\n",
       "    <tr>\n",
       "      <th>76</th>\n",
       "      <td>2.370952</td>\n",
       "      <td>1.972072</td>\n",
       "      <td>2.763810</td>\n",
       "      <td>2.983314</td>\n",
       "      <td>3.040900</td>\n",
       "    </tr>\n",
       "  </tbody>\n",
       "</table>\n",
       "<p>77 rows × 5 columns</p>\n",
       "</div>"
      ],
      "text/plain": [
       "         u_0       u_1       u_2       u_3       u_4\n",
       "0   0.164497  0.171949  0.173837  0.174327  0.174453\n",
       "1   0.344323  0.361248  0.365401  0.366471  0.366745\n",
       "2   0.536998  0.569520  0.577063  0.578975  0.579464\n",
       "3   0.731952  0.797518  0.811631  0.815112  0.815995\n",
       "4   0.889774  1.041444  1.072022  1.079294  1.081118\n",
       "..       ...       ...       ...       ...       ...\n",
       "72  0.861878  0.949424  0.972746  0.978782  0.980323\n",
       "73  1.177350  1.354034  1.401200  1.413340  1.416432\n",
       "74  1.374996  1.757882  1.863289  1.890393  1.897288\n",
       "75  1.141355  2.065495  2.340931  2.413504  2.432058\n",
       "76  2.370952  1.972072  2.763810  2.983314  3.040900\n",
       "\n",
       "[77 rows x 5 columns]"
      ]
     },
     "execution_count": 17,
     "metadata": {},
     "output_type": "execute_result"
    }
   ],
   "source": [
    "df=pd.DataFrame({'u_0':u0, 'u_1':u1,'u_2':u2, 'u_3':u3,'u_4':u4})\n",
    "df"
   ]
  },
  {
   "cell_type": "code",
   "execution_count": 18,
   "metadata": {},
   "outputs": [
    {
     "data": {
      "text/html": [
       "<div>\n",
       "<style scoped>\n",
       "    .dataframe tbody tr th:only-of-type {\n",
       "        vertical-align: middle;\n",
       "    }\n",
       "\n",
       "    .dataframe tbody tr th {\n",
       "        vertical-align: top;\n",
       "    }\n",
       "\n",
       "    .dataframe thead th {\n",
       "        text-align: right;\n",
       "    }\n",
       "</style>\n",
       "<table border=\"1\" class=\"dataframe\">\n",
       "  <thead>\n",
       "    <tr style=\"text-align: right;\">\n",
       "      <th></th>\n",
       "      <th>e_0</th>\n",
       "      <th>e_1</th>\n",
       "      <th>e_2</th>\n",
       "      <th>e_3</th>\n",
       "    </tr>\n",
       "  </thead>\n",
       "  <tbody>\n",
       "    <tr>\n",
       "      <th>0</th>\n",
       "      <td>0.009956</td>\n",
       "      <td>0.002504</td>\n",
       "      <td>0.000616</td>\n",
       "      <td>0.000126</td>\n",
       "    </tr>\n",
       "    <tr>\n",
       "      <th>1</th>\n",
       "      <td>0.022423</td>\n",
       "      <td>0.005497</td>\n",
       "      <td>0.001344</td>\n",
       "      <td>0.000274</td>\n",
       "    </tr>\n",
       "    <tr>\n",
       "      <th>2</th>\n",
       "      <td>0.042465</td>\n",
       "      <td>0.009944</td>\n",
       "      <td>0.002401</td>\n",
       "      <td>0.000488</td>\n",
       "    </tr>\n",
       "    <tr>\n",
       "      <th>3</th>\n",
       "      <td>0.084043</td>\n",
       "      <td>0.018477</td>\n",
       "      <td>0.004363</td>\n",
       "      <td>0.000883</td>\n",
       "    </tr>\n",
       "    <tr>\n",
       "      <th>4</th>\n",
       "      <td>0.191344</td>\n",
       "      <td>0.039674</td>\n",
       "      <td>0.009096</td>\n",
       "      <td>0.001823</td>\n",
       "    </tr>\n",
       "    <tr>\n",
       "      <th>...</th>\n",
       "      <td>...</td>\n",
       "      <td>...</td>\n",
       "      <td>...</td>\n",
       "      <td>...</td>\n",
       "    </tr>\n",
       "    <tr>\n",
       "      <th>72</th>\n",
       "      <td>0.118445</td>\n",
       "      <td>0.030899</td>\n",
       "      <td>0.007576</td>\n",
       "      <td>0.001541</td>\n",
       "    </tr>\n",
       "    <tr>\n",
       "      <th>73</th>\n",
       "      <td>0.239082</td>\n",
       "      <td>0.062398</td>\n",
       "      <td>0.015232</td>\n",
       "      <td>0.003093</td>\n",
       "    </tr>\n",
       "    <tr>\n",
       "      <th>74</th>\n",
       "      <td>0.522292</td>\n",
       "      <td>0.139406</td>\n",
       "      <td>0.033998</td>\n",
       "      <td>0.006894</td>\n",
       "    </tr>\n",
       "    <tr>\n",
       "      <th>75</th>\n",
       "      <td>1.290703</td>\n",
       "      <td>0.366563</td>\n",
       "      <td>0.091127</td>\n",
       "      <td>0.018554</td>\n",
       "    </tr>\n",
       "    <tr>\n",
       "      <th>76</th>\n",
       "      <td>0.669948</td>\n",
       "      <td>1.068827</td>\n",
       "      <td>0.277090</td>\n",
       "      <td>0.057586</td>\n",
       "    </tr>\n",
       "  </tbody>\n",
       "</table>\n",
       "<p>77 rows × 4 columns</p>\n",
       "</div>"
      ],
      "text/plain": [
       "         e_0       e_1       e_2       e_3\n",
       "0   0.009956  0.002504  0.000616  0.000126\n",
       "1   0.022423  0.005497  0.001344  0.000274\n",
       "2   0.042465  0.009944  0.002401  0.000488\n",
       "3   0.084043  0.018477  0.004363  0.000883\n",
       "4   0.191344  0.039674  0.009096  0.001823\n",
       "..       ...       ...       ...       ...\n",
       "72  0.118445  0.030899  0.007576  0.001541\n",
       "73  0.239082  0.062398  0.015232  0.003093\n",
       "74  0.522292  0.139406  0.033998  0.006894\n",
       "75  1.290703  0.366563  0.091127  0.018554\n",
       "76  0.669948  1.068827  0.277090  0.057586\n",
       "\n",
       "[77 rows x 4 columns]"
      ]
     },
     "execution_count": 18,
     "metadata": {},
     "output_type": "execute_result"
    }
   ],
   "source": [
    "df1=pd.DataFrame()\n",
    "df1['e_0']=np.abs(df['u_4']-df['u_0'])\n",
    "df1['e_1']=np.abs(df['u_4']-df['u_1'])\n",
    "df1['e_2']=np.abs(df['u_4']-df['u_2'])\n",
    "df1['e_3']=np.abs(df['u_4']-df['u_3'])\n",
    "\n",
    "df1"
   ]
  },
  {
   "cell_type": "code",
   "execution_count": 19,
   "metadata": {
    "tags": []
   },
   "outputs": [
    {
     "data": {
      "application/vnd.jupyter.widget-view+json": {
       "model_id": "cf0999e71e004f50ad1170620237567f",
       "version_major": 2,
       "version_minor": 0
      },
      "text/plain": [
       "Canvas(toolbar=Toolbar(toolitems=[('Home', 'Reset original view', 'home', 'home'), ('Back', 'Back to previous …"
      ]
     },
     "metadata": {},
     "output_type": "display_data"
    }
   ],
   "source": [
    "fig = plt.figure(figsize=(8, 5))\n",
    "df1.e_0.plot(logy=True)\n",
    "df1.e_1.plot(logy=True)\n",
    "df1.e_2.plot(logy=True)\n",
    "df1.e_3.plot(logy=True)\n",
    "\n",
    "ax = fig.gca()\n",
    "ax.legend();"
   ]
  },
  {
   "cell_type": "code",
   "execution_count": 20,
   "metadata": {},
   "outputs": [
    {
     "name": "stdout",
     "output_type": "stream",
     "text": [
      " ne_0=1.47e+00\n",
      " ne_1=1.07e+00\n",
      " ne_2=2.77e-01\n",
      " ne_3=5.76e-02\n"
     ]
    }
   ],
   "source": [
    "ne_0 = max(np.abs(df1['e_0']))\n",
    "ne_1 = max(np.abs(df1['e_1']))\n",
    "ne_2 = max(np.abs(df1['e_2']))\n",
    "ne_3 = max(np.abs(df1['e_3']))\n",
    "\n",
    "print(f\" ne_0={ne_0:1.2e}\\n ne_1={ne_1:1.2e}\\n ne_2={ne_2:1.2e}\\n ne_3={ne_3:1.2e}\")"
   ]
  },
  {
   "cell_type": "code",
   "execution_count": 21,
   "metadata": {},
   "outputs": [
    {
     "data": {
      "text/html": [
       "<div>\n",
       "<style scoped>\n",
       "    .dataframe tbody tr th:only-of-type {\n",
       "        vertical-align: middle;\n",
       "    }\n",
       "\n",
       "    .dataframe tbody tr th {\n",
       "        vertical-align: top;\n",
       "    }\n",
       "\n",
       "    .dataframe thead th {\n",
       "        text-align: right;\n",
       "    }\n",
       "</style>\n",
       "<table border=\"1\" class=\"dataframe\">\n",
       "  <thead>\n",
       "    <tr style=\"text-align: right;\">\n",
       "      <th></th>\n",
       "      <th>r_0</th>\n",
       "      <th>r_1</th>\n",
       "      <th>r_2</th>\n",
       "    </tr>\n",
       "  </thead>\n",
       "  <tbody>\n",
       "    <tr>\n",
       "      <th>0</th>\n",
       "      <td>3.976692</td>\n",
       "      <td>4.064306</td>\n",
       "      <td>4.895639</td>\n",
       "    </tr>\n",
       "    <tr>\n",
       "      <th>1</th>\n",
       "      <td>4.079051</td>\n",
       "      <td>4.089734</td>\n",
       "      <td>4.902357</td>\n",
       "    </tr>\n",
       "    <tr>\n",
       "      <th>2</th>\n",
       "      <td>4.270485</td>\n",
       "      <td>4.141921</td>\n",
       "      <td>4.916664</td>\n",
       "    </tr>\n",
       "    <tr>\n",
       "      <th>3</th>\n",
       "      <td>4.548628</td>\n",
       "      <td>4.234533</td>\n",
       "      <td>4.943848</td>\n",
       "    </tr>\n",
       "    <tr>\n",
       "      <th>4</th>\n",
       "      <td>4.822896</td>\n",
       "      <td>4.361724</td>\n",
       "      <td>4.988298</td>\n",
       "    </tr>\n",
       "    <tr>\n",
       "      <th>...</th>\n",
       "      <td>...</td>\n",
       "      <td>...</td>\n",
       "      <td>...</td>\n",
       "    </tr>\n",
       "    <tr>\n",
       "      <th>72</th>\n",
       "      <td>3.833333</td>\n",
       "      <td>4.078289</td>\n",
       "      <td>4.917374</td>\n",
       "    </tr>\n",
       "    <tr>\n",
       "      <th>73</th>\n",
       "      <td>3.831570</td>\n",
       "      <td>4.096498</td>\n",
       "      <td>4.925325</td>\n",
       "    </tr>\n",
       "    <tr>\n",
       "      <th>74</th>\n",
       "      <td>3.746554</td>\n",
       "      <td>4.100383</td>\n",
       "      <td>4.931254</td>\n",
       "    </tr>\n",
       "    <tr>\n",
       "      <th>75</th>\n",
       "      <td>3.521095</td>\n",
       "      <td>4.022558</td>\n",
       "      <td>4.911399</td>\n",
       "    </tr>\n",
       "    <tr>\n",
       "      <th>76</th>\n",
       "      <td>0.626807</td>\n",
       "      <td>3.857329</td>\n",
       "      <td>4.811776</td>\n",
       "    </tr>\n",
       "  </tbody>\n",
       "</table>\n",
       "<p>77 rows × 3 columns</p>\n",
       "</div>"
      ],
      "text/plain": [
       "         r_0       r_1       r_2\n",
       "0   3.976692  4.064306  4.895639\n",
       "1   4.079051  4.089734  4.902357\n",
       "2   4.270485  4.141921  4.916664\n",
       "3   4.548628  4.234533  4.943848\n",
       "4   4.822896  4.361724  4.988298\n",
       "..       ...       ...       ...\n",
       "72  3.833333  4.078289  4.917374\n",
       "73  3.831570  4.096498  4.925325\n",
       "74  3.746554  4.100383  4.931254\n",
       "75  3.521095  4.022558  4.911399\n",
       "76  0.626807  3.857329  4.811776\n",
       "\n",
       "[77 rows x 3 columns]"
      ]
     },
     "execution_count": 21,
     "metadata": {},
     "output_type": "execute_result"
    }
   ],
   "source": [
    "df2=pd.DataFrame()\n",
    "df2['r_0'] = df1['e_0'] / df1['e_1']\n",
    "df2['r_1'] = df1['e_1'] / df1['e_2']\n",
    "df2['r_2'] = df1['e_2'] / df1['e_3']\n",
    "\n",
    "df2"
   ]
  },
  {
   "cell_type": "code",
   "execution_count": null,
   "metadata": {
    "tags": []
   },
   "outputs": [],
   "source": [
    "plt.close('all')"
   ]
  }
 ],
 "metadata": {
  "anaconda-cloud": {},
  "colab": {
   "name": "oom_2_2_1_simple_iteration.ipynb",
   "private_outputs": true,
   "provenance": []
  },
  "kernelspec": {
   "display_name": "Python 3 (ipykernel)",
   "language": "python",
   "name": "python3"
  },
  "language_info": {
   "codemirror_mode": {
    "name": "ipython",
    "version": 3
   },
   "file_extension": ".py",
   "mimetype": "text/x-python",
   "name": "python",
   "nbconvert_exporter": "python",
   "pygments_lexer": "ipython3",
   "version": "3.9.7"
  }
 },
 "nbformat": 4,
 "nbformat_minor": 4
}
