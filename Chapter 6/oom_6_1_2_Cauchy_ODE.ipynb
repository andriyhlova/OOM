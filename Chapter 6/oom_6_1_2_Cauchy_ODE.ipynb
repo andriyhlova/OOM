{
 "cells": [
  {
   "cell_type": "markdown",
   "metadata": {},
   "source": [
    "# 6.1. Чисельне розв'язування задачі Коші для звичайних диференціальних рівнянь\n",
    "--------------------\n",
    "\n",
    "## 6.1.1. Формулювання задачі Коші для  звичайного диференціального рівняння\n",
    "-----------\n",
    "Розглянемо розв'язане стосовно похідної звичайне диференціальне рівняння першого порядку:\n",
    "\n",
    "$(1)\\quad\\qquad\\qquad\\qquad u'=f(x,u),$\n",
    "\n",
    "де $x$ -- незалежна змінна, $u=u(x)$ -- шукана функція, $u'$ -- похідна $u$, $f: D\\to \\mathbb{R}$\n",
    "-- задана функція, $D$ -- область в $\\mathbb{R}^2.$\n",
    "\n",
    "Задача Коші для рівняння полягає у знаходженні розв'язку рівняння  (1), який задовольняє початкову умову\n",
    "\n",
    "$(2)\\quad\\qquad\\qquad\\qquad u(x_0)=u_0,$\n",
    "\n",
    "де $(x_0,u_0)$ -- задана точка області $D$.\n",
    "\n"
   ]
  },
  {
   "cell_type": "markdown",
   "metadata": {
    "id": "TrvVaZ02QF1h",
    "tags": []
   },
   "source": [
    "## 6.1.2.  Метод Ейлера\n",
    "---------------------"
   ]
  },
  {
   "cell_type": "markdown",
   "metadata": {
    "id": "elD_lWBKQF1j"
   },
   "source": [
    "Розв'язок задачі (1),(2) розглядаємо на відрізку $[a,b]$, коли $x_0=a$.\n",
    "\n",
    "Задаємо рівномірне розбиття відрізка $[a,b]$ точками $x_{0}, x_{1}, \\ldots, x_{n}$, де $n\\in \\mathbb{N}$ і \n",
    "$ x_{i}:=a+ih,\\ \\ i=\\overline{0,n}, \\quad h:=\\frac{b-a}{n}.$ \n",
    "\n",
    "Наближення $u_{i}$, $i=\\overline{1,n}$, відповідно, значень $u(x_{i})$, $i=\\overline{1,n}$, розв'язку даної\n",
    "задачі знаходимо за рекурентною формулою \n",
    "\n",
    "$(3)\\quad\\qquad\\qquad\\qquad u_{i+1}=u_{i}+h\\,f(x_{i},u_{i}), \\quad i=\\overline{0,n-1},$\n",
    "\n",
    "беручи значення $u_{0}$ з початкової умови (2)."
   ]
  },
  {
   "cell_type": "markdown",
   "metadata": {
    "id": "C56etMUzw6qS"
   },
   "source": [
    "#### Пояснення до використання програмного коду\n",
    "-----------------\n",
    "*   Підготувати потрібні функції : \n",
    "    1.   виконати комірку з імпортом NumPy \n",
    "    2.   виконати комірку з функцією ``rectangle_formula``\n",
    "    3.   виконати комірку з підінтегральною функцією ``f``\n",
    "\n",
    "*   Для отримання наближення інтеграла треба виконати комірку з викликом функції ``rectangle_formula``, перед виконанням задати відповідні аргументи цієї функції.\n",
    "\n",
    "*   Щоб переконатися, що наближення достатньо точне, можна виконати кілька послідовних викликів, збільшуючи значення параметра $m$."
   ]
  },
  {
   "cell_type": "code",
   "execution_count": 1,
   "metadata": {
    "id": "Dv08qO4sQF1k"
   },
   "outputs": [],
   "source": [
    "%matplotlib widget\n",
    "import matplotlib.pyplot as plt"
   ]
  },
  {
   "cell_type": "code",
   "execution_count": 2,
   "metadata": {
    "id": "Dv08qO4sQF1k"
   },
   "outputs": [],
   "source": [
    "import numpy as np\n",
    "import pandas as pd"
   ]
  },
  {
   "cell_type": "code",
   "execution_count": 3,
   "metadata": {
    "id": "0qc5BcctO5t2"
   },
   "outputs": [],
   "source": [
    "def Euler_method(f,u0,a,b,n):\n",
    "    \"\"\" явний метод Ейлера\n",
    "    \"\"\"\n",
    "    h=(b-a)/n\n",
    "    x=np.linspace(a, b, n+1) \n",
    "    #print(x)\n",
    "\n",
    "    u=np.empty(n+1) \n",
    "    u[0]=u0\n",
    "    for i in range(n):\n",
    "        u[i+1]=u[i]+h*f(x[i],u[i])\n",
    "        \n",
    "    return u              "
   ]
  },
  {
   "cell_type": "markdown",
   "metadata": {
    "tags": []
   },
   "source": [
    "##### Приклад 1.\n",
    "$f(x,u)=u^3+x^2, \\quad [a,b]=[0,\\,3],\\quad u(0)=2$"
   ]
  },
  {
   "cell_type": "code",
   "execution_count": 4,
   "metadata": {},
   "outputs": [],
   "source": [
    "def f1(x,u):\n",
    "    return u**3+x**2"
   ]
  },
  {
   "cell_type": "code",
   "execution_count": 5,
   "metadata": {
    "tags": []
   },
   "outputs": [],
   "source": [
    "a=0\n",
    "b=3\n",
    "u0=2"
   ]
  },
  {
   "cell_type": "code",
   "execution_count": 6,
   "metadata": {
    "tags": []
   },
   "outputs": [
    {
     "data": {
      "text/plain": [
       "array([2.00000000e+00, 1.00000000e+01, 1.01100000e+03, 1.03336535e+09])"
      ]
     },
     "execution_count": 6,
     "metadata": {},
     "output_type": "execute_result"
    }
   ],
   "source": [
    "n=3\n",
    "Euler_method(f1,u0,a,b,n)"
   ]
  },
  {
   "cell_type": "markdown",
   "metadata": {},
   "source": [
    "##### Приклад 2.\n",
    "$f(x,u)=u^2+2x-x^4, \\quad [a,b]=[0,\\,1], \\quad u(0)=0.$\n",
    "\n",
    "Очевидно, що функція $u(x)=x^2$ є точним розв'язком задачі Коші у цьому випадку."
   ]
  },
  {
   "cell_type": "code",
   "execution_count": 7,
   "metadata": {},
   "outputs": [],
   "source": [
    "def f2(x, u):\n",
    "    return u**2+2*x-x**4"
   ]
  },
  {
   "cell_type": "code",
   "execution_count": 8,
   "metadata": {
    "tags": []
   },
   "outputs": [],
   "source": [
    "a=0\n",
    "b=1\n",
    "u0=0"
   ]
  },
  {
   "cell_type": "code",
   "execution_count": 9,
   "metadata": {},
   "outputs": [],
   "source": [
    "n=10\n",
    "u_0=Euler_method(f2,u0,a,b,n)"
   ]
  },
  {
   "cell_type": "code",
   "execution_count": 10,
   "metadata": {},
   "outputs": [],
   "source": [
    "n=20\n",
    "u_1=Euler_method(f2,u0,a,b,n)"
   ]
  },
  {
   "cell_type": "code",
   "execution_count": 11,
   "metadata": {
    "tags": []
   },
   "outputs": [],
   "source": [
    "n=40\n",
    "u_2=Euler_method(f2,u0,a,b,n)"
   ]
  },
  {
   "cell_type": "code",
   "execution_count": 12,
   "metadata": {},
   "outputs": [],
   "source": [
    "n=80\n",
    "u_3=Euler_method(f2,u0,a,b,n)"
   ]
  },
  {
   "cell_type": "code",
   "execution_count": 13,
   "metadata": {},
   "outputs": [],
   "source": [
    "n=160\n",
    "u_4=Euler_method(f2,u0,a,b,n)"
   ]
  },
  {
   "cell_type": "code",
   "execution_count": 14,
   "metadata": {},
   "outputs": [
    {
     "data": {
      "text/plain": [
       "array([0. , 0.1, 0.2, 0.3, 0.4, 0.5, 0.6, 0.7, 0.8, 0.9, 1. ])"
      ]
     },
     "execution_count": 14,
     "metadata": {},
     "output_type": "execute_result"
    }
   ],
   "source": [
    "x_0=np.linspace(0, 1, 11) \n",
    "x_0"
   ]
  },
  {
   "cell_type": "code",
   "execution_count": 15,
   "metadata": {},
   "outputs": [],
   "source": [
    "u=x_0**2"
   ]
  },
  {
   "cell_type": "code",
   "execution_count": null,
   "metadata": {},
   "outputs": [],
   "source": [
    "x1=np.linspace(0, 1, 21)[::2] \n",
    "x1"
   ]
  },
  {
   "cell_type": "code",
   "execution_count": null,
   "metadata": {},
   "outputs": [],
   "source": [
    "x2=np.linspace(0, 1, 41)[::4] \n",
    "x2"
   ]
  },
  {
   "cell_type": "code",
   "execution_count": 16,
   "metadata": {},
   "outputs": [
    {
     "data": {
      "text/html": [
       "<div>\n",
       "<style scoped>\n",
       "    .dataframe tbody tr th:only-of-type {\n",
       "        vertical-align: middle;\n",
       "    }\n",
       "\n",
       "    .dataframe tbody tr th {\n",
       "        vertical-align: top;\n",
       "    }\n",
       "\n",
       "    .dataframe thead th {\n",
       "        text-align: right;\n",
       "    }\n",
       "</style>\n",
       "<table border=\"1\" class=\"dataframe\">\n",
       "  <thead>\n",
       "    <tr style=\"text-align: right;\">\n",
       "      <th></th>\n",
       "      <th>x_0</th>\n",
       "      <th>u_0</th>\n",
       "      <th>u_1</th>\n",
       "      <th>u_2</th>\n",
       "      <th>u_3</th>\n",
       "      <th>u_4</th>\n",
       "      <th>u</th>\n",
       "    </tr>\n",
       "  </thead>\n",
       "  <tbody>\n",
       "    <tr>\n",
       "      <th>0</th>\n",
       "      <td>0.1</td>\n",
       "      <td>0.000000</td>\n",
       "      <td>0.005000</td>\n",
       "      <td>0.007499</td>\n",
       "      <td>0.008750</td>\n",
       "      <td>0.009375</td>\n",
       "      <td>0.01</td>\n",
       "    </tr>\n",
       "    <tr>\n",
       "      <th>1</th>\n",
       "      <td>0.2</td>\n",
       "      <td>0.019990</td>\n",
       "      <td>0.029982</td>\n",
       "      <td>0.034986</td>\n",
       "      <td>0.037492</td>\n",
       "      <td>0.038745</td>\n",
       "      <td>0.04</td>\n",
       "    </tr>\n",
       "    <tr>\n",
       "      <th>2</th>\n",
       "      <td>0.3</td>\n",
       "      <td>0.059870</td>\n",
       "      <td>0.074876</td>\n",
       "      <td>0.082419</td>\n",
       "      <td>0.086205</td>\n",
       "      <td>0.088101</td>\n",
       "      <td>0.09</td>\n",
       "    </tr>\n",
       "    <tr>\n",
       "      <th>3</th>\n",
       "      <td>0.4</td>\n",
       "      <td>0.119418</td>\n",
       "      <td>0.139550</td>\n",
       "      <td>0.149727</td>\n",
       "      <td>0.154851</td>\n",
       "      <td>0.157422</td>\n",
       "      <td>0.16</td>\n",
       "    </tr>\n",
       "    <tr>\n",
       "      <th>4</th>\n",
       "      <td>0.5</td>\n",
       "      <td>0.198284</td>\n",
       "      <td>0.223800</td>\n",
       "      <td>0.236800</td>\n",
       "      <td>0.243373</td>\n",
       "      <td>0.246680</td>\n",
       "      <td>0.25</td>\n",
       "    </tr>\n",
       "    <tr>\n",
       "      <th>5</th>\n",
       "      <td>0.6</td>\n",
       "      <td>0.295966</td>\n",
       "      <td>0.327335</td>\n",
       "      <td>0.343481</td>\n",
       "      <td>0.351690</td>\n",
       "      <td>0.355832</td>\n",
       "      <td>0.36</td>\n",
       "    </tr>\n",
       "    <tr>\n",
       "      <th>6</th>\n",
       "      <td>0.7</td>\n",
       "      <td>0.411766</td>\n",
       "      <td>0.449745</td>\n",
       "      <td>0.469545</td>\n",
       "      <td>0.479684</td>\n",
       "      <td>0.484819</td>\n",
       "      <td>0.49</td>\n",
       "    </tr>\n",
       "    <tr>\n",
       "      <th>7</th>\n",
       "      <td>0.8</td>\n",
       "      <td>0.544711</td>\n",
       "      <td>0.590442</td>\n",
       "      <td>0.614666</td>\n",
       "      <td>0.627183</td>\n",
       "      <td>0.633552</td>\n",
       "      <td>0.64</td>\n",
       "    </tr>\n",
       "    <tr>\n",
       "      <th>8</th>\n",
       "      <td>0.9</td>\n",
       "      <td>0.693422</td>\n",
       "      <td>0.748563</td>\n",
       "      <td>0.778355</td>\n",
       "      <td>0.793924</td>\n",
       "      <td>0.801896</td>\n",
       "      <td>0.81</td>\n",
       "    </tr>\n",
       "    <tr>\n",
       "      <th>9</th>\n",
       "      <td>1.0</td>\n",
       "      <td>0.855895</td>\n",
       "      <td>0.922810</td>\n",
       "      <td>0.959860</td>\n",
       "      <td>0.979503</td>\n",
       "      <td>0.989639</td>\n",
       "      <td>1.00</td>\n",
       "    </tr>\n",
       "  </tbody>\n",
       "</table>\n",
       "</div>"
      ],
      "text/plain": [
       "   x_0       u_0       u_1       u_2       u_3       u_4     u\n",
       "0  0.1  0.000000  0.005000  0.007499  0.008750  0.009375  0.01\n",
       "1  0.2  0.019990  0.029982  0.034986  0.037492  0.038745  0.04\n",
       "2  0.3  0.059870  0.074876  0.082419  0.086205  0.088101  0.09\n",
       "3  0.4  0.119418  0.139550  0.149727  0.154851  0.157422  0.16\n",
       "4  0.5  0.198284  0.223800  0.236800  0.243373  0.246680  0.25\n",
       "5  0.6  0.295966  0.327335  0.343481  0.351690  0.355832  0.36\n",
       "6  0.7  0.411766  0.449745  0.469545  0.479684  0.484819  0.49\n",
       "7  0.8  0.544711  0.590442  0.614666  0.627183  0.633552  0.64\n",
       "8  0.9  0.693422  0.748563  0.778355  0.793924  0.801896  0.81\n",
       "9  1.0  0.855895  0.922810  0.959860  0.979503  0.989639  1.00"
      ]
     },
     "execution_count": 16,
     "metadata": {},
     "output_type": "execute_result"
    }
   ],
   "source": [
    "df=pd.DataFrame({'x_0':x_0[1::],'u_0':u_0[1::],'u_1':u_1[2::2],'u_2':u_2[4::4],'u_3':u_3[8::8],'u_4':u_4[16::16],'u':u[1::]})\n",
    "df"
   ]
  },
  {
   "cell_type": "code",
   "execution_count": null,
   "metadata": {
    "scrolled": true
   },
   "outputs": [],
   "source": [
    "fig = plt.figure()#figsize=(10, 5))\n",
    "ax = fig.gca()\n",
    "ax.axhline(color=\"grey\", ls=\"--\", zorder=-1)\n",
    "ax.axvline(color=\"grey\", ls=\"--\", zorder=-1)\n",
    "#ax.set_xlim(0, b)    \n",
    "ax.plot(x_0, u_0) "
   ]
  },
  {
   "cell_type": "code",
   "execution_count": 18,
   "metadata": {},
   "outputs": [],
   "source": [
    "plt.close('all')"
   ]
  },
  {
   "cell_type": "code",
   "execution_count": 19,
   "metadata": {
    "scrolled": true
   },
   "outputs": [
    {
     "data": {
      "application/vnd.jupyter.widget-view+json": {
       "model_id": "898851a1111a4764b1b64eafa6023671",
       "version_major": 2,
       "version_minor": 0
      },
      "text/plain": [
       "Canvas(toolbar=Toolbar(toolitems=[('Home', 'Reset original view', 'home', 'home'), ('Back', 'Back to previous …"
      ]
     },
     "metadata": {},
     "output_type": "display_data"
    },
    {
     "data": {
      "text/plain": [
       "[<matplotlib.lines.Line2D at 0x219b0165700>]"
      ]
     },
     "execution_count": 19,
     "metadata": {},
     "output_type": "execute_result"
    }
   ],
   "source": [
    "plt.plot(x_0, u_0) "
   ]
  },
  {
   "cell_type": "code",
   "execution_count": null,
   "metadata": {},
   "outputs": [],
   "source": []
  }
 ],
 "metadata": {
  "anaconda-cloud": {},
  "colab": {
   "name": "oom_2_2_1_simple_iteration.ipynb",
   "private_outputs": true,
   "provenance": []
  },
  "kernelspec": {
   "display_name": "Python 3 (ipykernel)",
   "language": "python",
   "name": "python3"
  },
  "language_info": {
   "codemirror_mode": {
    "name": "ipython",
    "version": 3
   },
   "file_extension": ".py",
   "mimetype": "text/x-python",
   "name": "python",
   "nbconvert_exporter": "python",
   "pygments_lexer": "ipython3",
   "version": "3.9.7"
  }
 },
 "nbformat": 4,
 "nbformat_minor": 4
}
