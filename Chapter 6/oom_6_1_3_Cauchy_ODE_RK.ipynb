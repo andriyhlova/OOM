{
 "cells": [
  {
   "cell_type": "markdown",
   "metadata": {},
   "source": [
    "# 6.1. Чисельне розв'язування задачі Коші для звичайних диференціальних рівнянь\n",
    "--------------------\n",
    "\n",
    "## 6.1.1. Формулювання задачі Коші для  звичайного диференціального рівняння\n",
    "-----------\n",
    "Розглянемо розв'язане стосовно похідної звичайне диференціальне рівняння першого порядку:\n",
    "\n",
    "$(1)\\quad\\qquad\\qquad\\qquad u'=f(x,u),$\n",
    "\n",
    "де $x$ -- незалежна змінна, $u=u(x)$ -- шукана функція, $u'$ -- похідна $u$, $f: D\\to \\mathbb{R}$\n",
    "-- задана функція, $D$ -- область в $\\mathbb{R}^2.$\n",
    "\n",
    "Задача Коші для рівняння полягає у знаходженні розв'язку рівняння  (1), який задовольняє початкову умову\n",
    "\n",
    "$(2)\\quad\\qquad\\qquad\\qquad u(x_0)=u_0,$\n",
    "\n",
    "де $(x_0,u_0)$ -- задана точка області $D$.\n",
    "\n"
   ]
  },
  {
   "cell_type": "markdown",
   "metadata": {
    "id": "TrvVaZ02QF1h",
    "tags": []
   },
   "source": [
    "## 6.1.3.  Метод Рунге-Кутта\n",
    "---------------------"
   ]
  },
  {
   "cell_type": "markdown",
   "metadata": {
    "id": "elD_lWBKQF1j"
   },
   "source": [
    "Нехай задача (1),(2)\n",
    "має єдиний розв'язок, визначений на відрізку $[a,b]$, де $a=x_0$, і ми шукаємо $ u_1, \\ldots, u_n$ -- наближення \n",
    "значень цього розв'язку в точках $x_1,\\ldots,x_n,$\n",
    "де $n\\in \\mathbb{N}$ -- деяке число, а\n",
    "$$\n",
    " x_i:=a+ih,\\ \\ i=\\overline{0,n},\\qquad h:=(b-a)/n.\n",
    "$$\n",
    "\n",
    "Чисельним розв'язком задачі (1),(2) вважаємо наближення  $u_i,\\ i=\\overline{1,n}$, ($u_0$ беремо з початкової умови (2)) за правилом\n",
    "\n",
    "$(3)\\quad\\qquad\\qquad\\qquad u_{i+1}=u_i+ \\sum _{j=1}^r p_{r,j}k_{i,j}(h),$\n",
    "\n",
    "де $r$ -- деяке натуральне число,\n",
    "$$\n",
    "k_{i,1}(h):=f(x_i,u_i)\\cdot h,\n",
    "$$\n",
    "$$ k_{i,j}(h):=f\\big(x_i+\\alpha_j h, u_i+ \\sum _{l=1}^{j-1} \\beta_{j,l}k_{i,l}(h)\\big)\\cdot h,\\quad j=\\overline{2,r},\n",
    "$$\n",
    "а коефіцієнти $p_{r,k}, \\alpha_j, \\beta_{j,l},\\ k=\\overline{1,r}, j=\\overline{2,r},\n",
    "l=\\overline{1,j-1},$ знаходять із відповідної системи рівнянь.\n",
    "\n",
    "На практиці часто застосовують метод Рунге-Кутта четвертого порядку, який одержуть при $r=4$. \n",
    "У цьому випадку можна використати такі розрахункові формули:\n",
    "\n",
    "$$\n",
    "u_{i+1}=u_i + \\frac{1}{6}k_{i,1}(h) +\\frac{1}{3}k_{i,2}(h)+\\frac{1}{3}k_{i,3}(h)+ \\frac{1}{6}k_{i,4}(h),\n",
    "$$\n",
    "де\n",
    "$$\n",
    "k_{i,1}(h):=f(x_i,u_i)\\cdot h,\n",
    "\\quad\n",
    "k_{i,2}(h):=f\\bigg(x_i+\\frac{1}{2}h,u_i + \\frac{1}{2}k_{i,1}(h)\\bigg)\\cdot h,\n",
    "$$\n",
    "$$\n",
    "k_{i,3}(h):=f(x_i + \\frac{1}{2}h,u_i+\\frac{1}{2}k_{i,2}(h))\\cdot h,\n",
    "\\quad\n",
    "k_{i,4}(h):=f(x_i+h,u_i+k_{i,3}(h))\\cdot h, \\;\\; i=\\overline{0,n-1}.\n",
    "$$\n",
    "\n",
    "\n"
   ]
  },
  {
   "cell_type": "markdown",
   "metadata": {
    "id": "C56etMUzw6qS"
   },
   "source": [
    "#### Пояснення до використання програмного коду\n",
    "-----------------\n",
    "*   Підготувати середовище і потрібні функції : \n",
    "    1. виконати комірку для підготовки середовища \n",
    "    2. виконати комірку з функцією ``RK4_method``\n",
    "\n",
    "*   Обчислити чисельний розв'язок конкретної задачі Коші\n",
    "    1. виконати комірку, де **визначена** функція ``f``\n",
    "    2. виконати комірку з викликом функції ``RK4_method``, перед виконанням задати відповідні аргументи цієї функції.\n",
    "\n",
    "*   Щоб переконатися, що чисельний розв'язок достатньо точний, можна виконати кілька послідовних викликів функції ``RK4_method``, збільшуючи кількість вузлів сітки."
   ]
  },
  {
   "cell_type": "markdown",
   "metadata": {
    "tags": []
   },
   "source": [
    "#### Програмна реалізація методів\n",
    "------------"
   ]
  },
  {
   "cell_type": "markdown",
   "metadata": {
    "tags": []
   },
   "source": [
    ">#### Підготовка середовища"
   ]
  },
  {
   "cell_type": "code",
   "execution_count": 1,
   "metadata": {
    "id": "Dv08qO4sQF1k"
   },
   "outputs": [],
   "source": [
    "%matplotlib widget\n",
    "import matplotlib.pyplot as plt\n",
    "\n",
    "import numpy as np\n",
    "import pandas as pd"
   ]
  },
  {
   "cell_type": "markdown",
   "metadata": {
    "tags": []
   },
   "source": [
    ">#### ``RK4_method`` -- функція, яка реалізує явний метод Ейлера для знаходження чисельного розв'язку задачі Коші"
   ]
  },
  {
   "cell_type": "code",
   "execution_count": 2,
   "metadata": {
    "id": "0qc5BcctO5t2"
   },
   "outputs": [],
   "source": [
    "def RK4_method(f,u0,a,b,n):\n",
    "    \"\"\" метод Рунге-Кутта четвертого порядку\n",
    "    \"\"\"\n",
    "    h=(b-a)/n\n",
    "    x=np.linspace(a, b, n+1) \n",
    "\n",
    "\n",
    "    u=np.empty(n+1) \n",
    "    u[0]=u0\n",
    "    for i in range(n):\n",
    "        k1 = f(x[i], u[i])\n",
    "        k2 = f(x[i] + h/2, u[i] + h/2*k1)\n",
    "        k3 = f(x[i] + h/2, u[i] + h/2*k2)\n",
    "        k4 = f(x[i+1], u[i] + h*k3)\n",
    "        \n",
    "        u[i+1] =u [i] + h/6*(k1 + 2*k2 + 2*k3 + k4)\n",
    "        \n",
    "    return u              "
   ]
  },
  {
   "cell_type": "markdown",
   "metadata": {
    "tags": []
   },
   "source": [
    ">#### ``f`` -- функція, яка задає обчислення  правої частини конкретного рівняння "
   ]
  },
  {
   "cell_type": "markdown",
   "metadata": {
    "tags": []
   },
   "source": [
    "#### Обчислювальні експерименти\n",
    "------------"
   ]
  },
  {
   "cell_type": "markdown",
   "metadata": {
    "tags": []
   },
   "source": [
    "Продемонструємо застосування методу Рунге-Кутта для знаходження чисельного розв'язку задачі Коші."
   ]
  },
  {
   "cell_type": "markdown",
   "metadata": {
    "tags": []
   },
   "source": [
    "\n",
    "##### Приклад 1.\n",
    "За допомогою методу Рунге-Кутта 4-го порядку знайти чисельний розв'язок задачі Коші (1),(2), коли\n",
    "$f(x,u)=u^2+2x-x^4, \\quad [a,b]=[0,\\,1], \\quad u(0)=0.$\n",
    "\n",
    "Очевидно, що функція $u(x)=x^2$ є точним розв'язком задачі Коші у цьому випадку."
   ]
  },
  {
   "cell_type": "markdown",
   "metadata": {
    "tags": []
   },
   "source": [
    "Визначимо функцію правої частини рівняння (1):"
   ]
  },
  {
   "cell_type": "code",
   "execution_count": 3,
   "metadata": {},
   "outputs": [],
   "source": [
    "def f2(x, u):\n",
    "    return u**2+2*x-x**4"
   ]
  },
  {
   "cell_type": "markdown",
   "metadata": {
    "tags": []
   },
   "source": [
    "Задамо координати відрізка і початкові дані:"
   ]
  },
  {
   "cell_type": "code",
   "execution_count": 4,
   "metadata": {
    "tags": []
   },
   "outputs": [],
   "source": [
    "a=0\n",
    "b=1\n",
    "u0=0"
   ]
  },
  {
   "cell_type": "markdown",
   "metadata": {
    "tags": []
   },
   "source": [
    "Знайдемо чисельні розв'язки задачі на послідовності сіток, подвоюючи на кожному кроці кількість вузлів і зберігаючи відповідні масиви для подальшого аналізу:"
   ]
  },
  {
   "cell_type": "code",
   "execution_count": 5,
   "metadata": {},
   "outputs": [],
   "source": [
    "n_start = 5\n",
    "\n",
    "n = n_start\n",
    "x0=np.linspace(a, b, n+1)\n",
    "u_0=RK4_method(f2,u0,a,b,n)\n",
    "\n",
    "n*=2\n",
    "x1=np.linspace(a, b, n+1)\n",
    "u_1=RK4_method(f2,u0,a,b,n)\n",
    "\n",
    "n*=2\n",
    "x2=np.linspace(a, b, n+1)\n",
    "u_2=RK4_method(f2,u0,a,b,n)\n",
    "\n",
    "n*=2\n",
    "x3=np.linspace(a, b, n+1)\n",
    "u_3=RK4_method(f2,u0,a,b,n)\n",
    "\n",
    "n*=2\n",
    "x4=np.linspace(a, b, n+1)\n",
    "u_4=RK4_method(f2,u0,a,b,n)"
   ]
  },
  {
   "cell_type": "markdown",
   "metadata": {
    "tags": []
   },
   "source": [
    "Порахуємо також значення точного розв'язку задачі на рівномірній сітці:"
   ]
  },
  {
   "cell_type": "code",
   "execution_count": 6,
   "metadata": {},
   "outputs": [],
   "source": [
    "x=np.linspace(a, b, 256)\n",
    "ux=x**2"
   ]
  },
  {
   "cell_type": "markdown",
   "metadata": {
    "tags": []
   },
   "source": [
    "Побудуємо графіки отриманих чисельних і точного розв'язків задачі:"
   ]
  },
  {
   "cell_type": "code",
   "execution_count": 7,
   "metadata": {
    "tags": []
   },
   "outputs": [
    {
     "data": {
      "application/vnd.jupyter.widget-view+json": {
       "model_id": "b18067120f7e44d48582d59c6f248540",
       "version_major": 2,
       "version_minor": 0
      },
      "text/plain": [
       "Canvas(toolbar=Toolbar(toolitems=[('Home', 'Reset original view', 'home', 'home'), ('Back', 'Back to previous …"
      ]
     },
     "metadata": {},
     "output_type": "display_data"
    }
   ],
   "source": [
    "fig = plt.figure(figsize=(8, 5))\n",
    "plt.plot(x, ux, label='ux')\n",
    "plt.plot(x0, u_0, label='u_0')\n",
    "plt.plot(x1, u_1, label='u_1')\n",
    "plt.plot(x2, u_2, label='u_2')\n",
    "plt.plot(x3, u_3, label='u_3')\n",
    "plt.plot(x4, u_4, label='u_4')\n",
    "ax = fig.gca()\n",
    "ax.legend();"
   ]
  },
  {
   "cell_type": "markdown",
   "metadata": {
    "tags": []
   },
   "source": [
    "Зауважимо, що графічні побудови за вибраного режиму виконуються з автоматичною лінійною інтертерполяцією чисельних розв'язків, які насправді обчислені лише у вузлах відповідної сітки. Нагадаємо, що отримані зобаження можна масштабувати, використовуючи режим 'Zoom to rectangle'. "
   ]
  },
  {
   "cell_type": "markdown",
   "metadata": {
    "tags": []
   },
   "source": [
    "Як бачимо, графіки чисельних розв'язків візуально близькі до графіка точного розв'язку. Для детальнішого аналізу занесемо в таблицю значення усіх розв'язків на спільній множині вузлів ``x_0``: "
   ]
  },
  {
   "cell_type": "code",
   "execution_count": 8,
   "metadata": {},
   "outputs": [
    {
     "data": {
      "text/html": [
       "<div>\n",
       "<style scoped>\n",
       "    .dataframe tbody tr th:only-of-type {\n",
       "        vertical-align: middle;\n",
       "    }\n",
       "\n",
       "    .dataframe tbody tr th {\n",
       "        vertical-align: top;\n",
       "    }\n",
       "\n",
       "    .dataframe thead th {\n",
       "        text-align: right;\n",
       "    }\n",
       "</style>\n",
       "<table border=\"1\" class=\"dataframe\">\n",
       "  <thead>\n",
       "    <tr style=\"text-align: right;\">\n",
       "      <th></th>\n",
       "      <th>x_0</th>\n",
       "      <th>u_0</th>\n",
       "      <th>u_1</th>\n",
       "      <th>u_2</th>\n",
       "      <th>u_3</th>\n",
       "      <th>u_4</th>\n",
       "      <th>u</th>\n",
       "    </tr>\n",
       "  </thead>\n",
       "  <tbody>\n",
       "    <tr>\n",
       "      <th>0</th>\n",
       "      <td>0.2</td>\n",
       "      <td>0.040013</td>\n",
       "      <td>0.040001</td>\n",
       "      <td>0.040000</td>\n",
       "      <td>0.04</td>\n",
       "      <td>0.04</td>\n",
       "      <td>0.04</td>\n",
       "    </tr>\n",
       "    <tr>\n",
       "      <th>1</th>\n",
       "      <td>0.4</td>\n",
       "      <td>0.160029</td>\n",
       "      <td>0.160002</td>\n",
       "      <td>0.160000</td>\n",
       "      <td>0.16</td>\n",
       "      <td>0.16</td>\n",
       "      <td>0.16</td>\n",
       "    </tr>\n",
       "    <tr>\n",
       "      <th>2</th>\n",
       "      <td>0.6</td>\n",
       "      <td>0.360052</td>\n",
       "      <td>0.360003</td>\n",
       "      <td>0.360000</td>\n",
       "      <td>0.36</td>\n",
       "      <td>0.36</td>\n",
       "      <td>0.36</td>\n",
       "    </tr>\n",
       "    <tr>\n",
       "      <th>3</th>\n",
       "      <td>0.8</td>\n",
       "      <td>0.640088</td>\n",
       "      <td>0.640006</td>\n",
       "      <td>0.640000</td>\n",
       "      <td>0.64</td>\n",
       "      <td>0.64</td>\n",
       "      <td>0.64</td>\n",
       "    </tr>\n",
       "    <tr>\n",
       "      <th>4</th>\n",
       "      <td>1.0</td>\n",
       "      <td>1.000142</td>\n",
       "      <td>1.000009</td>\n",
       "      <td>1.000001</td>\n",
       "      <td>1.00</td>\n",
       "      <td>1.00</td>\n",
       "      <td>1.00</td>\n",
       "    </tr>\n",
       "  </tbody>\n",
       "</table>\n",
       "</div>"
      ],
      "text/plain": [
       "   x_0       u_0       u_1       u_2   u_3   u_4     u\n",
       "0  0.2  0.040013  0.040001  0.040000  0.04  0.04  0.04\n",
       "1  0.4  0.160029  0.160002  0.160000  0.16  0.16  0.16\n",
       "2  0.6  0.360052  0.360003  0.360000  0.36  0.36  0.36\n",
       "3  0.8  0.640088  0.640006  0.640000  0.64  0.64  0.64\n",
       "4  1.0  1.000142  1.000009  1.000001  1.00  1.00  1.00"
      ]
     },
     "execution_count": 8,
     "metadata": {},
     "output_type": "execute_result"
    }
   ],
   "source": [
    "u = x0**2\n",
    "\n",
    "df=pd.DataFrame({'x_0':x0[1::],'u_0':u_0[1::],'u_1':u_1[2::2],'u_2':u_2[4::4],'u_3':u_3[8::8],'u_4':u_4[16::16],'u':u[1::]})\n",
    "df"
   ]
  },
  {
   "cell_type": "markdown",
   "metadata": {
    "tags": []
   },
   "source": [
    "На множині вузлів ``x_0`` маємо такі значення абсолютних похибок отриманих чисельних розв'язків:"
   ]
  },
  {
   "cell_type": "code",
   "execution_count": 9,
   "metadata": {},
   "outputs": [
    {
     "data": {
      "text/html": [
       "<div>\n",
       "<style scoped>\n",
       "    .dataframe tbody tr th:only-of-type {\n",
       "        vertical-align: middle;\n",
       "    }\n",
       "\n",
       "    .dataframe tbody tr th {\n",
       "        vertical-align: top;\n",
       "    }\n",
       "\n",
       "    .dataframe thead th {\n",
       "        text-align: right;\n",
       "    }\n",
       "</style>\n",
       "<table border=\"1\" class=\"dataframe\">\n",
       "  <thead>\n",
       "    <tr style=\"text-align: right;\">\n",
       "      <th></th>\n",
       "      <th>e_0</th>\n",
       "      <th>e_1</th>\n",
       "      <th>e_2</th>\n",
       "      <th>e_3</th>\n",
       "      <th>e_4</th>\n",
       "    </tr>\n",
       "  </thead>\n",
       "  <tbody>\n",
       "    <tr>\n",
       "      <th>0</th>\n",
       "      <td>0.000013</td>\n",
       "      <td>8.427528e-07</td>\n",
       "      <td>5.269722e-08</td>\n",
       "      <td>3.294049e-09</td>\n",
       "      <td>2.058864e-10</td>\n",
       "    </tr>\n",
       "    <tr>\n",
       "      <th>1</th>\n",
       "      <td>0.000029</td>\n",
       "      <td>1.821414e-06</td>\n",
       "      <td>1.139999e-07</td>\n",
       "      <td>7.128789e-09</td>\n",
       "      <td>4.456444e-10</td>\n",
       "    </tr>\n",
       "    <tr>\n",
       "      <th>2</th>\n",
       "      <td>0.000052</td>\n",
       "      <td>3.265084e-06</td>\n",
       "      <td>2.049552e-07</td>\n",
       "      <td>1.283629e-08</td>\n",
       "      <td>8.030726e-10</td>\n",
       "    </tr>\n",
       "    <tr>\n",
       "      <th>3</th>\n",
       "      <td>0.000088</td>\n",
       "      <td>5.623451e-06</td>\n",
       "      <td>3.554703e-07</td>\n",
       "      <td>2.234675e-08</td>\n",
       "      <td>1.400790e-09</td>\n",
       "    </tr>\n",
       "    <tr>\n",
       "      <th>4</th>\n",
       "      <td>0.000142</td>\n",
       "      <td>9.237892e-06</td>\n",
       "      <td>5.906353e-07</td>\n",
       "      <td>3.735716e-08</td>\n",
       "      <td>2.349089e-09</td>\n",
       "    </tr>\n",
       "  </tbody>\n",
       "</table>\n",
       "</div>"
      ],
      "text/plain": [
       "        e_0           e_1           e_2           e_3           e_4\n",
       "0  0.000013  8.427528e-07  5.269722e-08  3.294049e-09  2.058864e-10\n",
       "1  0.000029  1.821414e-06  1.139999e-07  7.128789e-09  4.456444e-10\n",
       "2  0.000052  3.265084e-06  2.049552e-07  1.283629e-08  8.030726e-10\n",
       "3  0.000088  5.623451e-06  3.554703e-07  2.234675e-08  1.400790e-09\n",
       "4  0.000142  9.237892e-06  5.906353e-07  3.735716e-08  2.349089e-09"
      ]
     },
     "execution_count": 9,
     "metadata": {},
     "output_type": "execute_result"
    }
   ],
   "source": [
    "df1=pd.DataFrame()\n",
    "df1['e_0']=np.abs(df['u']-df['u_0'])\n",
    "df1['e_1']=np.abs(df['u']-df['u_1'])\n",
    "df1['e_2']=np.abs(df['u']-df['u_2'])\n",
    "df1['e_3']=np.abs(df['u']-df['u_3'])\n",
    "df1['e_4']=np.abs(df['u']-df['u_4'])\n",
    "df1"
   ]
  },
  {
   "cell_type": "markdown",
   "metadata": {
    "tags": []
   },
   "source": [
    "Побудуємо графіки абсолютних похибок у логарифмічній шкалі:"
   ]
  },
  {
   "cell_type": "code",
   "execution_count": 10,
   "metadata": {
    "tags": []
   },
   "outputs": [
    {
     "data": {
      "application/vnd.jupyter.widget-view+json": {
       "model_id": "59f27cd1ff5941268cb93b53512f566c",
       "version_major": 2,
       "version_minor": 0
      },
      "text/plain": [
       "Canvas(toolbar=Toolbar(toolitems=[('Home', 'Reset original view', 'home', 'home'), ('Back', 'Back to previous …"
      ]
     },
     "metadata": {},
     "output_type": "display_data"
    }
   ],
   "source": [
    "fig = plt.figure(figsize=(8, 5))\n",
    "df1.e_0.plot(logy=True)\n",
    "df1.e_1.plot(logy=True)\n",
    "df1.e_2.plot(logy=True)\n",
    "df1.e_3.plot(logy=True)\n",
    "df1.e_4.plot(logy=True)\n",
    "ax = fig.gca()\n",
    "ax.legend();"
   ]
  },
  {
   "cell_type": "markdown",
   "metadata": {
    "tags": []
   },
   "source": [
    "Як бачимо, при згущенні сітки похибки чисельних розв'язків на кожному кроці зменшуються. Зазначимо, що на фіксованій сітці вони дещо відрізняються між собою, поволі зростаючи у вузлах поблизу правого кінця відрізку."
   ]
  },
  {
   "cell_type": "markdown",
   "metadata": {},
   "source": [
    "Обчислимо для кожного чисельного розв'язку його абсолютну похибку за нормою $\\| \\cdot \\|_\\infty$"
   ]
  },
  {
   "cell_type": "code",
   "execution_count": 11,
   "metadata": {},
   "outputs": [
    {
     "name": "stdout",
     "output_type": "stream",
     "text": [
      " ne_0=1.42e-04\n",
      " ne_1=9.24e-06\n",
      " ne_2=5.91e-07\n",
      " ne_3=3.74e-08\n",
      " ne_4=2.35e-09\n"
     ]
    }
   ],
   "source": [
    "ne_0 = max(np.abs(df1['e_0']))\n",
    "ne_1 = max(np.abs(df1['e_1']))\n",
    "ne_2 = max(np.abs(df1['e_2']))\n",
    "ne_3 = max(np.abs(df1['e_3']))\n",
    "ne_4 = max(np.abs(df1['e_4']))\n",
    "print(f\" ne_0={ne_0:1.2e}\\n ne_1={ne_1:1.2e}\\n ne_2={ne_2:1.2e}\\n ne_3={ne_3:1.2e}\\n ne_4={ne_4:1.2e}\")"
   ]
  },
  {
   "cell_type": "markdown",
   "metadata": {
    "tags": []
   },
   "source": [
    "Оцінимо швидкість збіжності чисельних розв'язків до точного, а саме у скільки разів зменшуватметься абсолютна похибка при подвоєнні кількості вузлів сітки:"
   ]
  },
  {
   "cell_type": "code",
   "execution_count": 12,
   "metadata": {},
   "outputs": [
    {
     "data": {
      "text/html": [
       "<div>\n",
       "<style scoped>\n",
       "    .dataframe tbody tr th:only-of-type {\n",
       "        vertical-align: middle;\n",
       "    }\n",
       "\n",
       "    .dataframe tbody tr th {\n",
       "        vertical-align: top;\n",
       "    }\n",
       "\n",
       "    .dataframe thead th {\n",
       "        text-align: right;\n",
       "    }\n",
       "</style>\n",
       "<table border=\"1\" class=\"dataframe\">\n",
       "  <thead>\n",
       "    <tr style=\"text-align: right;\">\n",
       "      <th></th>\n",
       "      <th>r_0</th>\n",
       "      <th>r_1</th>\n",
       "      <th>r_2</th>\n",
       "      <th>r_3</th>\n",
       "    </tr>\n",
       "  </thead>\n",
       "  <tbody>\n",
       "    <tr>\n",
       "      <th>0</th>\n",
       "      <td>15.979276</td>\n",
       "      <td>15.992358</td>\n",
       "      <td>15.997706</td>\n",
       "      <td>15.999346</td>\n",
       "    </tr>\n",
       "    <tr>\n",
       "      <th>1</th>\n",
       "      <td>15.940022</td>\n",
       "      <td>15.977328</td>\n",
       "      <td>15.991484</td>\n",
       "      <td>15.996585</td>\n",
       "    </tr>\n",
       "    <tr>\n",
       "      <th>2</th>\n",
       "      <td>15.859714</td>\n",
       "      <td>15.930726</td>\n",
       "      <td>15.966850</td>\n",
       "      <td>15.983975</td>\n",
       "    </tr>\n",
       "    <tr>\n",
       "      <th>3</th>\n",
       "      <td>15.671779</td>\n",
       "      <td>15.819746</td>\n",
       "      <td>15.907025</td>\n",
       "      <td>15.952964</td>\n",
       "    </tr>\n",
       "    <tr>\n",
       "      <th>4</th>\n",
       "      <td>15.361403</td>\n",
       "      <td>15.640602</td>\n",
       "      <td>15.810499</td>\n",
       "      <td>15.902829</td>\n",
       "    </tr>\n",
       "  </tbody>\n",
       "</table>\n",
       "</div>"
      ],
      "text/plain": [
       "         r_0        r_1        r_2        r_3\n",
       "0  15.979276  15.992358  15.997706  15.999346\n",
       "1  15.940022  15.977328  15.991484  15.996585\n",
       "2  15.859714  15.930726  15.966850  15.983975\n",
       "3  15.671779  15.819746  15.907025  15.952964\n",
       "4  15.361403  15.640602  15.810499  15.902829"
      ]
     },
     "execution_count": 12,
     "metadata": {},
     "output_type": "execute_result"
    }
   ],
   "source": [
    "df2=pd.DataFrame()\n",
    "df2['r_0'] = df1['e_0'] / df1['e_1']\n",
    "df2['r_1'] = df1['e_1'] / df1['e_2']\n",
    "df2['r_2'] = df1['e_2'] / df1['e_3']\n",
    "df2['r_3'] = df1['e_3'] / df1['e_4']\n",
    "\n",
    "df2"
   ]
  },
  {
   "cell_type": "markdown",
   "metadata": {
    "tags": []
   },
   "source": [
    "Як бачимо, швидкість наближається до числа 16, що узгоджується з теоретичними  оцінками похибок методів Рунге-Кутта."
   ]
  },
  {
   "cell_type": "code",
   "execution_count": 13,
   "metadata": {
    "tags": []
   },
   "outputs": [],
   "source": [
    "plt.close('all')"
   ]
  },
  {
   "cell_type": "markdown",
   "metadata": {},
   "source": [
    "\n",
    "##### Приклад 2.\n",
    "\n",
    "\n",
    "$f(x,u)=-u\\, cos x + e^{-sin x}, \\quad [a,b]=[0,\\,10], \\quad u(0)=1.$\n",
    "\n",
    "Відомо [(1.69 Самойленко)] , що функція $u(x)=(x+1)e^{-sin x}$ є точним розв'язком задачі Коші у цьому випадку."
   ]
  },
  {
   "cell_type": "markdown",
   "metadata": {
    "tags": []
   },
   "source": [
    "Задамо функцію правої частини диференціального рівняння і решту даних задачі Коші:"
   ]
  },
  {
   "cell_type": "code",
   "execution_count": 14,
   "metadata": {},
   "outputs": [],
   "source": [
    "def f3(x, u):\n",
    "    return -u*np.cos(x) + np.exp(-np.sin(x))"
   ]
  },
  {
   "cell_type": "code",
   "execution_count": 15,
   "metadata": {
    "tags": []
   },
   "outputs": [],
   "source": [
    "a=0\n",
    "b=10\n",
    "u0=1"
   ]
  },
  {
   "cell_type": "markdown",
   "metadata": {
    "tags": []
   },
   "source": [
    "Далі повторимо усі кроки, якими отримали і досліджували чисельні розв'язки попередньої задачі:"
   ]
  },
  {
   "cell_type": "code",
   "execution_count": 16,
   "metadata": {},
   "outputs": [
    {
     "data": {
      "application/vnd.jupyter.widget-view+json": {
       "model_id": "df5678edfaff4712a08c5b16a2e158b1",
       "version_major": 2,
       "version_minor": 0
      },
      "text/plain": [
       "Canvas(toolbar=Toolbar(toolitems=[('Home', 'Reset original view', 'home', 'home'), ('Back', 'Back to previous …"
      ]
     },
     "metadata": {},
     "output_type": "display_data"
    },
    {
     "data": {
      "text/html": [
       "<div>\n",
       "<style scoped>\n",
       "    .dataframe tbody tr th:only-of-type {\n",
       "        vertical-align: middle;\n",
       "    }\n",
       "\n",
       "    .dataframe tbody tr th {\n",
       "        vertical-align: top;\n",
       "    }\n",
       "\n",
       "    .dataframe thead th {\n",
       "        text-align: right;\n",
       "    }\n",
       "</style>\n",
       "<table border=\"1\" class=\"dataframe\">\n",
       "  <thead>\n",
       "    <tr style=\"text-align: right;\">\n",
       "      <th></th>\n",
       "      <th>x_0</th>\n",
       "      <th>u_0</th>\n",
       "      <th>u_1</th>\n",
       "      <th>u_2</th>\n",
       "      <th>u_3</th>\n",
       "      <th>u_4</th>\n",
       "      <th>u</th>\n",
       "    </tr>\n",
       "  </thead>\n",
       "  <tbody>\n",
       "    <tr>\n",
       "      <th>0</th>\n",
       "      <td>2.0</td>\n",
       "      <td>1.152763</td>\n",
       "      <td>1.204188</td>\n",
       "      <td>1.208120</td>\n",
       "      <td>1.208405</td>\n",
       "      <td>1.208420</td>\n",
       "      <td>1.208421</td>\n",
       "    </tr>\n",
       "    <tr>\n",
       "      <th>1</th>\n",
       "      <td>4.0</td>\n",
       "      <td>9.693075</td>\n",
       "      <td>10.556816</td>\n",
       "      <td>10.649402</td>\n",
       "      <td>10.656734</td>\n",
       "      <td>10.657217</td>\n",
       "      <td>10.657250</td>\n",
       "    </tr>\n",
       "    <tr>\n",
       "      <th>2</th>\n",
       "      <td>6.0</td>\n",
       "      <td>8.174354</td>\n",
       "      <td>9.133145</td>\n",
       "      <td>9.250316</td>\n",
       "      <td>9.256140</td>\n",
       "      <td>9.256475</td>\n",
       "      <td>9.256497</td>\n",
       "    </tr>\n",
       "    <tr>\n",
       "      <th>3</th>\n",
       "      <td>8.0</td>\n",
       "      <td>2.143113</td>\n",
       "      <td>3.311437</td>\n",
       "      <td>3.344964</td>\n",
       "      <td>3.346271</td>\n",
       "      <td>3.346333</td>\n",
       "      <td>3.346337</td>\n",
       "    </tr>\n",
       "    <tr>\n",
       "      <th>4</th>\n",
       "      <td>10.0</td>\n",
       "      <td>12.526120</td>\n",
       "      <td>18.664765</td>\n",
       "      <td>18.936153</td>\n",
       "      <td>18.951184</td>\n",
       "      <td>18.952073</td>\n",
       "      <td>18.952131</td>\n",
       "    </tr>\n",
       "  </tbody>\n",
       "</table>\n",
       "</div>"
      ],
      "text/plain": [
       "    x_0        u_0        u_1        u_2        u_3        u_4          u\n",
       "0   2.0   1.152763   1.204188   1.208120   1.208405   1.208420   1.208421\n",
       "1   4.0   9.693075  10.556816  10.649402  10.656734  10.657217  10.657250\n",
       "2   6.0   8.174354   9.133145   9.250316   9.256140   9.256475   9.256497\n",
       "3   8.0   2.143113   3.311437   3.344964   3.346271   3.346333   3.346337\n",
       "4  10.0  12.526120  18.664765  18.936153  18.951184  18.952073  18.952131"
      ]
     },
     "execution_count": 16,
     "metadata": {},
     "output_type": "execute_result"
    }
   ],
   "source": [
    "n_start = 5\n",
    "\n",
    "n = n_start\n",
    "x0=np.linspace(a, b, n+1)\n",
    "u_0=RK4_method(f3,u0,a,b,n)\n",
    "\n",
    "n*=2\n",
    "x1=np.linspace(a, b, n+1)\n",
    "u_1=RK4_method(f3,u0,a,b,n)\n",
    "\n",
    "n*=2\n",
    "x2=np.linspace(a, b, n+1)\n",
    "u_2=RK4_method(f3,u0,a,b,n)\n",
    "\n",
    "n*=2\n",
    "x3=np.linspace(a, b, n+1)\n",
    "u_3=RK4_method(f3,u0,a,b,n)\n",
    "\n",
    "n*=2\n",
    "x4=np.linspace(a, b, n+1)\n",
    "u_4=RK4_method(f3,u0,a,b,n)\n",
    "\n",
    "x=np.linspace(a, b, 256)\n",
    "ux=(x+1)*np.exp(-np.sin(x))\n",
    "\n",
    "fig = plt.figure(figsize=(8, 5))\n",
    "plt.plot(x, ux, label='ux')\n",
    "plt.plot(x0, u_0, label='u_0')\n",
    "plt.plot(x1, u_1, label='u_1')\n",
    "plt.plot(x2, u_2, label='u_2')\n",
    "plt.plot(x3, u_3, label='u_3')\n",
    "plt.plot(x4, u_4, label='u_4')\n",
    "ax = fig.gca()\n",
    "ax.legend();\n",
    "\n",
    "u=(x0+1)*np.exp(-np.sin(x0))\n",
    "\n",
    "df=pd.DataFrame({'x_0':x0[1::],'u_0':u_0[1::],'u_1':u_1[2::2],'u_2':u_2[4::4],'u_3':u_3[8::8],'u_4':u_4[16::16],'u':u[1::]})\n",
    "df"
   ]
  },
  {
   "cell_type": "markdown",
   "metadata": {
    "tags": []
   },
   "source": [
    "Оскільки розглядаємо задачу на довшому відрізку і, як видно з графіку, поведінка її розв'язку є складнішою, то похибка отриманих чисельних розв'язків є більшою у цьому випадку:"
   ]
  },
  {
   "cell_type": "code",
   "execution_count": 17,
   "metadata": {
    "tags": []
   },
   "outputs": [
    {
     "data": {
      "text/html": [
       "<div>\n",
       "<style scoped>\n",
       "    .dataframe tbody tr th:only-of-type {\n",
       "        vertical-align: middle;\n",
       "    }\n",
       "\n",
       "    .dataframe tbody tr th {\n",
       "        vertical-align: top;\n",
       "    }\n",
       "\n",
       "    .dataframe thead th {\n",
       "        text-align: right;\n",
       "    }\n",
       "</style>\n",
       "<table border=\"1\" class=\"dataframe\">\n",
       "  <thead>\n",
       "    <tr style=\"text-align: right;\">\n",
       "      <th></th>\n",
       "      <th>e_0</th>\n",
       "      <th>e_1</th>\n",
       "      <th>e_2</th>\n",
       "      <th>e_3</th>\n",
       "      <th>e_4</th>\n",
       "    </tr>\n",
       "  </thead>\n",
       "  <tbody>\n",
       "    <tr>\n",
       "      <th>0</th>\n",
       "      <td>0.055658</td>\n",
       "      <td>0.004234</td>\n",
       "      <td>0.000302</td>\n",
       "      <td>0.000017</td>\n",
       "      <td>9.525676e-07</td>\n",
       "    </tr>\n",
       "    <tr>\n",
       "      <th>1</th>\n",
       "      <td>0.964175</td>\n",
       "      <td>0.100434</td>\n",
       "      <td>0.007848</td>\n",
       "      <td>0.000516</td>\n",
       "      <td>3.266958e-05</td>\n",
       "    </tr>\n",
       "    <tr>\n",
       "      <th>2</th>\n",
       "      <td>1.082142</td>\n",
       "      <td>0.123352</td>\n",
       "      <td>0.006180</td>\n",
       "      <td>0.000357</td>\n",
       "      <td>2.144942e-05</td>\n",
       "    </tr>\n",
       "    <tr>\n",
       "      <th>3</th>\n",
       "      <td>1.203224</td>\n",
       "      <td>0.034900</td>\n",
       "      <td>0.001373</td>\n",
       "      <td>0.000066</td>\n",
       "      <td>3.593800e-06</td>\n",
       "    </tr>\n",
       "    <tr>\n",
       "      <th>4</th>\n",
       "      <td>6.426011</td>\n",
       "      <td>0.287366</td>\n",
       "      <td>0.015978</td>\n",
       "      <td>0.000947</td>\n",
       "      <td>5.766687e-05</td>\n",
       "    </tr>\n",
       "  </tbody>\n",
       "</table>\n",
       "</div>"
      ],
      "text/plain": [
       "        e_0       e_1       e_2       e_3           e_4\n",
       "0  0.055658  0.004234  0.000302  0.000017  9.525676e-07\n",
       "1  0.964175  0.100434  0.007848  0.000516  3.266958e-05\n",
       "2  1.082142  0.123352  0.006180  0.000357  2.144942e-05\n",
       "3  1.203224  0.034900  0.001373  0.000066  3.593800e-06\n",
       "4  6.426011  0.287366  0.015978  0.000947  5.766687e-05"
      ]
     },
     "execution_count": 17,
     "metadata": {},
     "output_type": "execute_result"
    }
   ],
   "source": [
    "df1=pd.DataFrame()\n",
    "df1['e_0']=np.abs(df['u']-df['u_0'])\n",
    "df1['e_1']=np.abs(df['u']-df['u_1'])\n",
    "df1['e_2']=np.abs(df['u']-df['u_2'])\n",
    "df1['e_3']=np.abs(df['u']-df['u_3'])\n",
    "df1['e_4']=np.abs(df['u']-df['u_4'])\n",
    "df1"
   ]
  },
  {
   "cell_type": "code",
   "execution_count": 19,
   "metadata": {
    "tags": []
   },
   "outputs": [
    {
     "data": {
      "application/vnd.jupyter.widget-view+json": {
       "model_id": "89ef27a0e47744558d7df6c0069ff279",
       "version_major": 2,
       "version_minor": 0
      },
      "text/plain": [
       "Canvas(toolbar=Toolbar(toolitems=[('Home', 'Reset original view', 'home', 'home'), ('Back', 'Back to previous …"
      ]
     },
     "metadata": {},
     "output_type": "display_data"
    }
   ],
   "source": [
    "fig = plt.figure(figsize=(8, 5))\n",
    "df1.e_0.plot(logy=True)\n",
    "df1.e_1.plot(logy=True)\n",
    "df1.e_2.plot(logy=True)\n",
    "df1.e_3.plot(logy=True)\n",
    "df1.e_4.plot(logy=True)\n",
    "ax = fig.gca()\n",
    "ax.legend();"
   ]
  },
  {
   "cell_type": "markdown",
   "metadata": {},
   "source": [
    "Обчислимо для кожного чисельного розв'язку його абсолютну похибку за нормою $\\| \\cdot \\|_\\infty$"
   ]
  },
  {
   "cell_type": "code",
   "execution_count": 20,
   "metadata": {},
   "outputs": [
    {
     "name": "stdout",
     "output_type": "stream",
     "text": [
      " ne_0=6.43e+00\n",
      " ne_1=2.87e-01\n",
      " ne_2=1.60e-02\n",
      " ne_3=9.47e-04\n",
      " ne_4=5.77e-05\n"
     ]
    }
   ],
   "source": [
    "ne_0 = max(np.abs(df1['e_0']))\n",
    "ne_1 = max(np.abs(df1['e_1']))\n",
    "ne_2 = max(np.abs(df1['e_2']))\n",
    "ne_3 = max(np.abs(df1['e_3']))\n",
    "ne_4 = max(np.abs(df1['e_4']))\n",
    "print(f\" ne_0={ne_0:1.2e}\\n ne_1={ne_1:1.2e}\\n ne_2={ne_2:1.2e}\\n ne_3={ne_3:1.2e}\\n ne_4={ne_4:1.2e}\")"
   ]
  },
  {
   "cell_type": "markdown",
   "metadata": {
    "tags": []
   },
   "source": [
    "Знайдемо тепер значення швидкості збіжності чисельних розв'язків:"
   ]
  },
  {
   "cell_type": "code",
   "execution_count": 21,
   "metadata": {},
   "outputs": [
    {
     "data": {
      "text/html": [
       "<div>\n",
       "<style scoped>\n",
       "    .dataframe tbody tr th:only-of-type {\n",
       "        vertical-align: middle;\n",
       "    }\n",
       "\n",
       "    .dataframe tbody tr th {\n",
       "        vertical-align: top;\n",
       "    }\n",
       "\n",
       "    .dataframe thead th {\n",
       "        text-align: right;\n",
       "    }\n",
       "</style>\n",
       "<table border=\"1\" class=\"dataframe\">\n",
       "  <thead>\n",
       "    <tr style=\"text-align: right;\">\n",
       "      <th></th>\n",
       "      <th>r_0</th>\n",
       "      <th>r_1</th>\n",
       "      <th>r_2</th>\n",
       "      <th>r_3</th>\n",
       "    </tr>\n",
       "  </thead>\n",
       "  <tbody>\n",
       "    <tr>\n",
       "      <th>0</th>\n",
       "      <td>13.146823</td>\n",
       "      <td>14.034844</td>\n",
       "      <td>18.138471</td>\n",
       "      <td>17.458484</td>\n",
       "    </tr>\n",
       "    <tr>\n",
       "      <th>1</th>\n",
       "      <td>9.600087</td>\n",
       "      <td>12.797077</td>\n",
       "      <td>15.218977</td>\n",
       "      <td>15.784874</td>\n",
       "    </tr>\n",
       "    <tr>\n",
       "      <th>2</th>\n",
       "      <td>8.772826</td>\n",
       "      <td>19.958474</td>\n",
       "      <td>17.323763</td>\n",
       "      <td>16.632586</td>\n",
       "    </tr>\n",
       "    <tr>\n",
       "      <th>3</th>\n",
       "      <td>34.476730</td>\n",
       "      <td>25.416805</td>\n",
       "      <td>20.917407</td>\n",
       "      <td>18.265754</td>\n",
       "    </tr>\n",
       "    <tr>\n",
       "      <th>4</th>\n",
       "      <td>22.361753</td>\n",
       "      <td>17.985473</td>\n",
       "      <td>16.873061</td>\n",
       "      <td>16.420769</td>\n",
       "    </tr>\n",
       "  </tbody>\n",
       "</table>\n",
       "</div>"
      ],
      "text/plain": [
       "         r_0        r_1        r_2        r_3\n",
       "0  13.146823  14.034844  18.138471  17.458484\n",
       "1   9.600087  12.797077  15.218977  15.784874\n",
       "2   8.772826  19.958474  17.323763  16.632586\n",
       "3  34.476730  25.416805  20.917407  18.265754\n",
       "4  22.361753  17.985473  16.873061  16.420769"
      ]
     },
     "execution_count": 21,
     "metadata": {},
     "output_type": "execute_result"
    }
   ],
   "source": [
    "df2=pd.DataFrame()\n",
    "df2['r_0'] = df1['e_0'] / df1['e_1']\n",
    "df2['r_1'] = df1['e_1'] / df1['e_2']\n",
    "df2['r_2'] = df1['e_2'] / df1['e_3']\n",
    "df2['r_3'] = df1['e_3'] / df1['e_4']\n",
    "\n",
    "df2"
   ]
  },
  {
   "cell_type": "markdown",
   "metadata": {
    "tags": []
   },
   "source": [
    "Як бачимо, отримані значення наближуються до 16, як і передбачають результати теоретичних досліджень. Якщо повторити усі кроки з обчислення розв'язку, але на сітках з більшою кількістю вузлів ( при більшому значенні параметра ``n_start``), то можна пересвідчитися у подальшому зменшенні похибок чисельних розв'язків."
   ]
  },
  {
   "cell_type": "code",
   "execution_count": null,
   "metadata": {
    "tags": []
   },
   "outputs": [],
   "source": [
    "plt.close('all')"
   ]
  },
  {
   "cell_type": "markdown",
   "metadata": {},
   "source": [
    "  **Цього не треба**\n",
    "_________________\n",
    "але на сітках з більшою кількістю вузлів ( при більшому значенні параметра ``n_start``), то можна пересвідчитися, у подальшому зменшенні похибок чисельних розв'язків."
   ]
  },
  {
   "cell_type": "code",
   "execution_count": null,
   "metadata": {},
   "outputs": [],
   "source": [
    "n_start = 50\n",
    "\n",
    "n = n_start\n",
    "x0=np.linspace(a, b, n+1)\n",
    "u_0=RK4_method(f3,u0,a,b,n)\n",
    "\n",
    "n*=2\n",
    "x1=np.linspace(a, b, n+1)\n",
    "u_1=RK4_method(f3,u0,a,b,n)\n",
    "\n",
    "n*=2\n",
    "x2=np.linspace(a, b, n+1)\n",
    "u_2=RK4_method(f3,u0,a,b,n)\n",
    "\n",
    "n*=2\n",
    "x3=np.linspace(a, b, n+1)\n",
    "u_3=RK4_method(f3,u0,a,b,n)\n",
    "\n",
    "n*=2\n",
    "x4=np.linspace(a, b, n+1)\n",
    "u_4=RK4_method(f3,u0,a,b,n)\n",
    "\n",
    "x=np.linspace(a, b, 256)\n",
    "ux=(x+1)*np.exp(-np.sin(x))\n",
    "\n",
    "fig = plt.figure(figsize=(8, 5))\n",
    "plt.plot(x, ux, label='ux')\n",
    "plt.plot(x0, u_0, label='u_0')\n",
    "plt.plot(x1, u_1, label='u_1')\n",
    "plt.plot(x2, u_2, label='u_2')\n",
    "plt.plot(x3, u_3, label='u_3')\n",
    "plt.plot(x4, u_4, label='u_4')\n",
    "ax = fig.gca()\n",
    "ax.legend();\n",
    "\n",
    "u=(x0+1)*np.exp(-np.sin(x0))\n",
    "\n",
    "df=pd.DataFrame({'x_0':x0[1::],'u_0':u_0[1::],'u_1':u_1[2::2],'u_2':u_2[4::4],'u_3':u_3[8::8],'u_4':u_4[16::16],'u':u[1::]})\n",
    "df"
   ]
  },
  {
   "cell_type": "code",
   "execution_count": null,
   "metadata": {
    "tags": []
   },
   "outputs": [],
   "source": [
    "df1=pd.DataFrame()\n",
    "df1['e_0']=np.abs(df['u']-df['u_0'])\n",
    "df1['e_1']=np.abs(df['u']-df['u_1'])\n",
    "df1['e_2']=np.abs(df['u']-df['u_2'])\n",
    "df1['e_3']=np.abs(df['u']-df['u_3'])\n",
    "df1['e_4']=np.abs(df['u']-df['u_4'])\n",
    "df1"
   ]
  },
  {
   "cell_type": "code",
   "execution_count": null,
   "metadata": {
    "tags": []
   },
   "outputs": [],
   "source": [
    "fig = plt.figure(figsize=(8, 5))\n",
    "df1.e_0.plot(logy=True)\n",
    "df1.e_1.plot(logy=True)\n",
    "df1.e_2.plot(logy=True)\n",
    "df1.e_3.plot(logy=True)\n",
    "df1.e_4.plot(logy=True)\n",
    "ax = fig.gca()\n",
    "ax.legend();"
   ]
  },
  {
   "cell_type": "markdown",
   "metadata": {
    "tags": []
   },
   "source": [
    "Знайдемо тепер значення швидкості збіжності чисельних розв'язків:"
   ]
  },
  {
   "cell_type": "code",
   "execution_count": null,
   "metadata": {},
   "outputs": [],
   "source": [
    "df2=pd.DataFrame()\n",
    "df2['r_0'] = df1['e_0'] / df1['e_1']\n",
    "df2['r_1'] = df1['e_1'] / df1['e_2']\n",
    "df2['r_2'] = df1['e_2'] / df1['e_3']\n",
    "df2['r_3'] = df1['e_3'] / df1['e_4']\n",
    "\n",
    "df2"
   ]
  },
  {
   "cell_type": "code",
   "execution_count": null,
   "metadata": {},
   "outputs": [],
   "source": []
  }
 ],
 "metadata": {
  "anaconda-cloud": {},
  "colab": {
   "name": "oom_2_2_1_simple_iteration.ipynb",
   "private_outputs": true,
   "provenance": []
  },
  "kernelspec": {
   "display_name": "Python 3 (ipykernel)",
   "language": "python",
   "name": "python3"
  },
  "language_info": {
   "codemirror_mode": {
    "name": "ipython",
    "version": 3
   },
   "file_extension": ".py",
   "mimetype": "text/x-python",
   "name": "python",
   "nbconvert_exporter": "python",
   "pygments_lexer": "ipython3",
   "version": "3.9.7"
  }
 },
 "nbformat": 4,
 "nbformat_minor": 4
}
