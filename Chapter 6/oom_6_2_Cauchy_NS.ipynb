{
 "cells": [
  {
   "cell_type": "markdown",
   "metadata": {},
   "source": [
    "# 6.2. Чисельні методи розв'язування задачі Коші для систем звичайних диференціальних рівнянь і рівнянь вищих порядків\n",
    "--------------------\n",
    "\n",
    "## 6.2.1. Постановка задачі Коші для систем ЗДР\n",
    "-----------\n",
    "Розглянемо задачу Коші для нормальної системи (НС) звичайних диференціальних рівнянь\n",
    "$(1)\\quad\\qquad\\qquad \\begin{cases}\n",
    "u'=f(x,u,v),\\\\\n",
    "v'=g(x,u,v),\n",
    "\\end{cases}\n",
    "$\n",
    "\n",
    "де $f(x,u,v),\\, g(x,u,v),\\, (x,u,v)\\in G,$ -- задані функції, $G$ -- область в $\\mathbb{R}^3$,\n",
    "\n",
    "з початковими умовами\n",
    "\n",
    "$(2)\\quad\\qquad\\qquad\\qquad\\begin{cases}\n",
    "u(x_0)=u_0,\\\\\n",
    "v(x_0)=v_0.\n",
    "\\end{cases}\n",
    "$\n",
    "\n",
    "Під розв'язком НС розуміємо пару неперервно диференційовних функцій\n",
    "$u=u(x),\\ v=v(x),\\ x\\in \\langle a,b \\rangle$, які при підставлянні їх в рівняння\n",
    "системи перетворюють ці рівняння  в тотожності.\n"
   ]
  },
  {
   "cell_type": "markdown",
   "metadata": {},
   "source": [
    "Далі вважаємо, що $x \\in [a,b]$ і $x_0=a$.\n",
    "\n",
    "Чисельний (наближений) розв'язок задачі розглядаємо в точках $x_{0}, x_{1}, \\ldots, x_{n}$, де  \n",
    "$ x_{i}:=a+ih,\\; i=\\overline{0,n}, \\; n\\in \\mathbb{N}, \\; h:=\\frac{b-a}{n}$, а саме шукаємо наближення $u_i, v_i$, $i=\\overline{1,n}$, значень розв'язку $u(x_i), v(x_i)$, $i=\\overline{1,n}$."
   ]
  },
  {
   "cell_type": "markdown",
   "metadata": {
    "id": "TrvVaZ02QF1h",
    "tags": []
   },
   "source": [
    "## 6.2.2.  Метод Ейлера і Рунге-Кутта\n",
    "---------------------"
   ]
  },
  {
   "cell_type": "markdown",
   "metadata": {
    "id": "elD_lWBKQF1j",
    "tags": []
   },
   "source": [
    "Чисельний розв'язок задачі Коші знаходять **методом Ейлера** за рекурентними формулами \n",
    "\n",
    "$(3)\\quad\\qquad\\qquad\\qquad \n",
    "\\begin{cases}\n",
    "u_{i+1}=u_{i}+h\\,f(x_i,u_i,v_i), \\\\\n",
    "v_{i+1}=v_{i}+h\\,g(x_i,u_i,v_i), \\quad i=\\overline{0,n-1}.\n",
    "\\end{cases}\n",
    "$\n",
    "\n",
    "Значення $u_0$ і $v_0$ беруть з початкових умов."
   ]
  },
  {
   "cell_type": "markdown",
   "metadata": {
    "id": "elD_lWBKQF1j",
    "tags": []
   },
   "source": [
    "Чисельний розв'язок задачі Коші знаходять **методом Рунге-Кутта** за рекурентними формулами \n",
    "\n",
    "$(4)\\quad\\qquad\\qquad\\qquad \n",
    "\\begin{cases}\n",
    "u_{i+1}=u_{i}+ \\frac{1}{6}k_{i,1}(h) +\\frac{1}{3}k_{i,2}(h)+\\frac{1}{3}k_{i,3}(h)+ \\frac{1}{6}k_{i,4}(h),\\\\\n",
    "v_{i+1}=v_{i}+\n",
    "\\frac{1}{6}m_{i,1}(h) +\\frac{1}{3}m_{i,2}(h)+\\frac{1}{3}m_{i,3}(h)+ \\frac{1}{6}m_{i,4}(h), \\quad i=\\overline{0,n-1},\n",
    "\\end{cases}\n",
    "$\n",
    "\n",
    "де\n",
    "\n",
    "$\n",
    "\\quad\\qquad k_{i,1}(h):=f(x_i,\\;u_i,\\;v_i)\\cdot h, \\quad m_{i,1}(h):=g(x_i,\\;u_i,\\;v_i)\\cdot h,\n",
    "$\n",
    "\n",
    "$\n",
    "\\quad\\qquad k_{i,2}(h):=f\\bigg(x_i+\\frac{1}{2}h,\\;u_i + \\frac{1}{2}k_{i,1}(h),\\; v_i + \\frac{1}{2}m_{i,1}(h)\\bigg)\\cdot h,\n",
    "$\n",
    "\n",
    "$\n",
    "\\quad\\qquad m_{i,2}(h):=g\\bigg(x_i+\\frac{1}{2}h,\\;u_i + \\frac{1}{2}k_{i,1}(h),\\; v_i + \\frac{1}{2}m_{i,1}(h)\\bigg)\\cdot h,\n",
    "$\n",
    "\n",
    "$\n",
    "\\quad\\qquad k_{i,3}(h):=f(x_i + \\frac{1}{2}h,\\;u_i+\\frac{1}{2}k_{i,2}(h), \\; v_i +\\frac{1}{2}m_{i,2}(h))\\cdot h,\n",
    "$\n",
    "\n",
    "$\n",
    "\\quad\\qquad m_{i,3}(h):=g(x_i + \\frac{1}{2}h,\\;u_i+\\frac{1}{2}k_{i,2}(h), \\; v_i +\\frac{1}{2}m_{i,2}(h))\\cdot h,\n",
    "$\n",
    "\n",
    "$\n",
    "\\quad\\qquad k_{i,4}(h):=f(x_i+h,\\;u_i+k_{i,3}(h),\\; v_i + m_{i,3}(h))\\cdot h,\n",
    "$\n",
    "\n",
    "$\n",
    "\\quad\\qquad m_{i,4}(h):=g(x_i+h,\\; u_i+k_{i,3}(h),\\; v_i + m_{i,3}(h))\\cdot h.\n",
    "$\n",
    "\n",
    "Значення $u_0$ і $v_0$ беруть з початкових умов."
   ]
  },
  {
   "cell_type": "markdown",
   "metadata": {
    "id": "C56etMUzw6qS",
    "jp-MarkdownHeadingCollapsed": true,
    "tags": []
   },
   "source": [
    "#### Пояснення до використання програмного коду\n",
    "-----------------\n",
    "*   Підготувати середовище і потрібні функції : \n",
    "    1. виконати комірку для підготовки середовища \n",
    "    2. виконати комірку з функцією ``Euler_NS`` чи ``RK4_NS``\n",
    "\n",
    "*   Обчислити чисельний розв'язок конкретної задачі Коші\n",
    "    1. виконати комірку, де **визначені** функції ``f`` і ``g``\n",
    "    2. виконати комірку з викликом функції ``Euler_NS`` чи ``RK4__NS``, перед виконанням задати відповідні аргументи цієї функції.\n",
    "\n",
    "*   Щоб переконатися, що чисельний розв'язок достатньо точний, можна виконати кілька послідовних викликів функції ``Euler_NS`` чи ``RK4__NS``, збільшуючи кількість вузлів сітки."
   ]
  },
  {
   "cell_type": "markdown",
   "metadata": {
    "tags": []
   },
   "source": [
    "#### Програмна реалізація методів\n",
    "------------"
   ]
  },
  {
   "cell_type": "markdown",
   "metadata": {
    "tags": []
   },
   "source": [
    ">#### Підготовка середовища"
   ]
  },
  {
   "cell_type": "code",
   "execution_count": 1,
   "metadata": {
    "id": "Dv08qO4sQF1k"
   },
   "outputs": [],
   "source": [
    "%matplotlib widget\n",
    "import matplotlib.pyplot as plt\n",
    "\n",
    "import numpy as np\n",
    "import pandas as pd"
   ]
  },
  {
   "cell_type": "markdown",
   "metadata": {
    "tags": []
   },
   "source": [
    ">#### ``Euler_NS`` -- функція, яка реалізує явний метод Ейлера для знаходження чисельного розв'язку задачі Коші для системи двох ЗДР 1-го порядку"
   ]
  },
  {
   "cell_type": "code",
   "execution_count": 2,
   "metadata": {
    "id": "0qc5BcctO5t2"
   },
   "outputs": [],
   "source": [
    "def Euler_NS(f,g,u0,v0,a,b,n, alpha, beta, gamma, delta):\n",
    "    \"\"\" явний метод Ейлера для задачі Коші\n",
    "        для системи двох ЗДР 1-го порядку\n",
    "    \"\"\"\n",
    "    h=(b-a)/n\n",
    "    x=np.linspace(a, b, n+1) \n",
    "\n",
    "    u=np.empty(n+1)\n",
    "    v=np.empty(n+1)\n",
    "    u[0]=u0\n",
    "    v[0]=v0\n",
    "    \n",
    "    for i in range(n):\n",
    "        u[i+1]=u[i] + h*f(u[i], v[i], alpha, beta)\n",
    "        v[i+1]=v[i] + h*g(u[i], v[i], gamma, delta) \n",
    "        \n",
    "    return u, v\n"
   ]
  },
  {
   "cell_type": "markdown",
   "metadata": {
    "tags": []
   },
   "source": [
    ">#### ``RK4_NS`` -- функція, яка реалізує метод Рунге-Кутта для знаходження чисельного розв'язку задачі Коші для системи двох ЗДР 1-го порядку"
   ]
  },
  {
   "cell_type": "code",
   "execution_count": 3,
   "metadata": {
    "id": "0qc5BcctO5t2"
   },
   "outputs": [],
   "source": [
    "def RK4_NS(f,g,u0,v0,a,b,n, alpha, beta, gamma, delta):\n",
    "    \"\"\" метод Рунге-Кутта четвертого порядку \n",
    "        для задачі Коші для системи двох ЗДР 1-го порядку       \n",
    "    \"\"\"\n",
    "    h=(b-a)/n\n",
    "    x=np.linspace(a, b, n+1) \n",
    "\n",
    "    u=np.empty(n+1)\n",
    "    v=np.empty(n+1)\n",
    "    u[0]=u0\n",
    "    v[0]=v0\n",
    "    \n",
    "    for i in range(n):\n",
    "        k1 = f(u[i], v[i], alpha, beta)\n",
    "        m1 = g(u[i], v[i], gamma, delta)\n",
    "        k2 = f(u[i] + h/2*k1, v[i] + h/2*m1, alpha, beta)\n",
    "        m2 = g(u[i] + h/2*k1, v[i] + h/2*m1, gamma, delta)\n",
    "        k3 = f(u[i] + h/2*k2, v[i] + h/2*m2, alpha, beta) \n",
    "        m3 = g(u[i] + h/2*k2, v[i] + h/2*m2, gamma, delta)\n",
    "        k4 = f(u[i] + h*k3, v[i] + h*m3, alpha, beta)      \n",
    "        m4 = g(u[i] + h*k3, v[i] + h*m3, gamma, delta)\n",
    "        \n",
    "        u[i+1]=u[i] + h/6*(k1 + 2*k2 + 2*k3 + k4)\n",
    "        v[i+1]=v[i] + h/6*(m1 + 2*m2 + 2*m3 + m4) \n",
    "        \n",
    "    return u, v\n"
   ]
  },
  {
   "cell_type": "markdown",
   "metadata": {
    "tags": []
   },
   "source": [
    ">#### ``f, g`` -- функції, які задають обчислення  правих частин рівнянь конкретної системи  "
   ]
  },
  {
   "cell_type": "markdown",
   "metadata": {
    "tags": []
   },
   "source": [
    "#### Обчислювальні експерименти\n",
    "------------"
   ]
  },
  {
   "cell_type": "markdown",
   "metadata": {
    "tags": []
   },
   "source": [
    "Продемонструємо застосування методів Ейлера та Рунге-Кутта для знаходження чисельного розв'язку задачі Коші для системи двох ЗДР 1-го порядку."
   ]
  },
  {
   "cell_type": "markdown",
   "metadata": {
    "tags": []
   },
   "source": [
    "##### Приклад 1. \n",
    "За допомогою методів Ейлера та Рунге-Кутта знайти чисельні розв'язки задачі Коші (1),(2), коли\n",
    "\n",
    "$f(x,u,v)=\\alpha u + \\beta uv,\\quad g(x,u,v)=\\gamma v + \\delta uv, \\quad x \\in [a,b], $ \n",
    "\n",
    "$\\quad u(0)=u0, \\quad v(0)=v0, \\quad \\alpha,\\beta, \\gamma, \\delta, u0, v0 $-- задані  числа.\n",
    "\n",
    "Система рівнянь (1) відома під назвою рівнянь Лотки-Волmтерра і описує динаміку популяції двох видів -- жертви і хижака, детальніше див., наприклад, розділ 2.1 [Ортега].\n"
   ]
  },
  {
   "cell_type": "markdown",
   "metadata": {
    "tags": []
   },
   "source": [
    "Визначимо функції правих частин рівняннь (1):"
   ]
  },
  {
   "cell_type": "code",
   "execution_count": 4,
   "metadata": {},
   "outputs": [],
   "source": [
    "def f(u, v, alpha, beta ):\n",
    "    return alpha*u + beta*u*v"
   ]
  },
  {
   "cell_type": "code",
   "execution_count": 5,
   "metadata": {},
   "outputs": [],
   "source": [
    "def g(u, v, gamma, delta ):\n",
    "    return gamma*v + delta*u*v"
   ]
  },
  {
   "cell_type": "markdown",
   "metadata": {
    "tags": []
   },
   "source": [
    "Задамо значення параметрів задачі і початкові дані:"
   ]
  },
  {
   "cell_type": "code",
   "execution_count": 6,
   "metadata": {
    "tags": []
   },
   "outputs": [],
   "source": [
    "a=0\n",
    "b=12\n",
    "u0=80\n",
    "v0=30\n",
    "alpha = 0.25\n",
    "beta = - 0.01\n",
    "gamma = -1\n",
    "delta = 0.01"
   ]
  },
  {
   "cell_type": "markdown",
   "metadata": {
    "tags": []
   },
   "source": [
    ">##### 1) Застосування методу Ейлера\n",
    "------------"
   ]
  },
  {
   "cell_type": "markdown",
   "metadata": {
    "tags": []
   },
   "source": [
    "Знайдемо методом Ейлера чисельні розв'язки задачі на послідовності сіток, подвоюючи на кожному кроці кількість вузлів і зберігаючи відповідні масиви для подальшого аналізу:"
   ]
  },
  {
   "cell_type": "code",
   "execution_count": 7,
   "metadata": {},
   "outputs": [],
   "source": [
    "n_start = 64\n",
    "\n",
    "n = n_start\n",
    "x0=np.linspace(a, b, n+1)\n",
    "u_0, v_0 = Euler_NS(f, g, u0,v0, a,b,n, alpha, beta, gamma, delta)\n",
    "\n",
    "n *= 2\n",
    "x1=np.linspace(a, b, n+1)\n",
    "u_1, v_1 = Euler_NS(f, g, u0,v0, a,b,n, alpha, beta, gamma, delta)\n",
    "\n",
    "n *= 2\n",
    "x2=np.linspace(a, b, n+1)\n",
    "u_2, v_2 = Euler_NS(f, g, u0,v0, a,b,n, alpha, beta, gamma, delta)\n",
    "\n",
    "n *= 2\n",
    "x3=np.linspace(a, b, n+1)\n",
    "u_3, v_3 = Euler_NS(f, g, u0,v0, a,b,n, alpha, beta, gamma, delta)\n",
    "\n",
    "n *= 2\n",
    "x4=np.linspace(a, b, n+1)\n",
    "u_4, v_4 = Euler_NS(f, g, u0,v0, a,b,n, alpha, beta, gamma, delta)\n",
    "\n",
    "n *= 2\n",
    "x5=np.linspace(a, b, n+1)\n",
    "u_5, v_5 = Euler_NS(f, g, u0,v0, a,b,n, alpha, beta, gamma, delta)"
   ]
  },
  {
   "cell_type": "markdown",
   "metadata": {
    "tags": []
   },
   "source": [
    "Побудуємо графіки отриманих чисельних розв'язків задачі:"
   ]
  },
  {
   "cell_type": "code",
   "execution_count": 8,
   "metadata": {
    "tags": []
   },
   "outputs": [
    {
     "data": {
      "application/vnd.jupyter.widget-view+json": {
       "model_id": "1906f28997984d2d930039fb6f51810c",
       "version_major": 2,
       "version_minor": 0
      },
      "text/plain": [
       "Canvas(toolbar=Toolbar(toolitems=[('Home', 'Reset original view', 'home', 'home'), ('Back', 'Back to previous …"
      ]
     },
     "metadata": {},
     "output_type": "display_data"
    }
   ],
   "source": [
    "fig = plt.figure(figsize=(8, 5))\n",
    "plt.scatter(u0,v0, marker='o', label='start')\n",
    "plt.plot( u_0,v_0, label='u_0')\n",
    "plt.plot( u_1,v_1, label='u_1')\n",
    "plt.plot( u_2,v_2, label='u_2')\n",
    "plt.plot( u_3,v_3, label='u_3')\n",
    "plt.plot( u_4,v_4, label='u_4')\n",
    "plt.plot( u_5,v_5, label='u_4')\n",
    "ax = fig.gca()\n",
    "ax.legend();"
   ]
  },
  {
   "cell_type": "markdown",
   "metadata": {
    "tags": []
   },
   "source": [
    "Як бачимо, усі графіки починаються в точці $start(u0, v0)$. При збільшенні значення параметра ``b`` вони матимуть вигляд еліпсоподібних спіралей:"
   ]
  },
  {
   "cell_type": "code",
   "execution_count": 9,
   "metadata": {
    "tags": []
   },
   "outputs": [
    {
     "data": {
      "application/vnd.jupyter.widget-view+json": {
       "model_id": "5ab827fa8510447cbf4b659803204d0f",
       "version_major": 2,
       "version_minor": 0
      },
      "text/plain": [
       "Canvas(toolbar=Toolbar(toolitems=[('Home', 'Reset original view', 'home', 'home'), ('Back', 'Back to previous …"
      ]
     },
     "metadata": {},
     "output_type": "display_data"
    }
   ],
   "source": [
    "b=16\n",
    "\n",
    "n_start = 64\n",
    "\n",
    "n = n_start\n",
    "x0=np.linspace(a, b, n+1)\n",
    "u_0, v_0 = Euler_NS(f, g, u0,v0, a,b,n, alpha, beta, gamma, delta)\n",
    "\n",
    "n *= 2\n",
    "x1=np.linspace(a, b, n+1)\n",
    "u_1, v_1 = Euler_NS(f, g, u0,v0, a,b,n, alpha, beta, gamma, delta)\n",
    "\n",
    "n *= 2\n",
    "x2=np.linspace(a, b, n+1)\n",
    "u_2, v_2 = Euler_NS(f, g, u0,v0, a,b,n, alpha, beta, gamma, delta)\n",
    "\n",
    "n *= 2\n",
    "x3=np.linspace(a, b, n+1)\n",
    "u_3, v_3 = Euler_NS(f, g, u0,v0, a,b,n, alpha, beta, gamma, delta)\n",
    "\n",
    "n *= 2\n",
    "x4=np.linspace(a, b, n+1)\n",
    "u_4, v_4 = Euler_NS(f, g, u0,v0, a,b,n, alpha, beta, gamma, delta)\n",
    "\n",
    "n *= 2\n",
    "x5=np.linspace(a, b, n+1)\n",
    "u_5, v_5 = Euler_NS(f, g, u0,v0, a,b,n, alpha, beta, gamma, delta)\n",
    "\n",
    "\n",
    "fig = plt.figure(figsize=(8, 5))\n",
    "plt.scatter(u0,v0, marker='o', label='start')\n",
    "plt.plot( u_0,v_0, label='uv_0')\n",
    "plt.plot( u_1,v_1, label='uv_1')\n",
    "plt.plot( u_2,v_2, label='uv_2')\n",
    "plt.plot( u_3,v_3, label='uv_3')\n",
    "plt.plot( u_4,v_4, label='uv_4')\n",
    "plt.plot( u_5,v_5, label='uv_5')\n",
    "ax = fig.gca()\n",
    "ax.legend();"
   ]
  },
  {
   "cell_type": "markdown",
   "metadata": {
    "tags": []
   },
   "source": [
    "Зауважимо, що при збільшенні вузлів сітки графіки чисельних розв'язків наближаються до замкнутої еліпсоподібної фігури, яка характеризує популяції взаємопов'язаних видів при заданих значеннях параметрів моделі. "
   ]
  },
  {
   "cell_type": "markdown",
   "metadata": {
    "tags": []
   },
   "source": [
    "Побудуємо графіки чисельних розв'язків як функцій змінної ``x``: "
   ]
  },
  {
   "cell_type": "code",
   "execution_count": 10,
   "metadata": {
    "tags": []
   },
   "outputs": [
    {
     "data": {
      "application/vnd.jupyter.widget-view+json": {
       "model_id": "5bff706a7630409a9dd13b7182b3343f",
       "version_major": 2,
       "version_minor": 0
      },
      "text/plain": [
       "Canvas(toolbar=Toolbar(toolitems=[('Home', 'Reset original view', 'home', 'home'), ('Back', 'Back to previous …"
      ]
     },
     "metadata": {},
     "output_type": "display_data"
    }
   ],
   "source": [
    "fig = plt.figure(figsize=(8, 5))\n",
    "\n",
    "plt.plot(x0, u_0, label='u_0')\n",
    "plt.plot(x1, u_1, label='u_1')\n",
    "plt.plot(x2, u_2, label='u_2')\n",
    "plt.plot(x3, u_3, label='u_3')\n",
    "plt.plot(x4, u_4, label='u_4')\n",
    "plt.plot(x5, u_5, label='u_5')\n",
    "ax = fig.gca()\n",
    "ax.legend();"
   ]
  },
  {
   "cell_type": "code",
   "execution_count": 11,
   "metadata": {
    "tags": []
   },
   "outputs": [
    {
     "data": {
      "application/vnd.jupyter.widget-view+json": {
       "model_id": "cda7d90fe75d4a469fb756b4b26fd19b",
       "version_major": 2,
       "version_minor": 0
      },
      "text/plain": [
       "Canvas(toolbar=Toolbar(toolitems=[('Home', 'Reset original view', 'home', 'home'), ('Back', 'Back to previous …"
      ]
     },
     "metadata": {},
     "output_type": "display_data"
    }
   ],
   "source": [
    "fig = plt.figure(figsize=(8, 5))\n",
    "\n",
    "plt.plot(x0, v_0, label='v_0')\n",
    "plt.plot(x1, v_1, label='v_1')\n",
    "plt.plot(x2, v_2, label='v_2')\n",
    "plt.plot(x3, v_3, label='v_3')\n",
    "plt.plot(x4, v_4, label='v_4')\n",
    "plt.plot(x5, v_5, label='v_5')\n",
    "ax = fig.gca()\n",
    "ax.legend();"
   ]
  },
  {
   "cell_type": "markdown",
   "metadata": {
    "tags": []
   },
   "source": [
    "Співставляючи оримані графіки бачимо, що зростання популяції жертв (функція ``u``) приводить з часом до зростання кількості хижаків (функція ``v``), які за деякий час знову зменшать популяцію жертв, що в свою чергу негативно вплине на кількість хижаків. "
   ]
  },
  {
   "cell_type": "markdown",
   "metadata": {
    "tags": []
   },
   "source": [
    "Для подальшого аналізу занесемо в таблиці значення усіх розв'язків на спільній множині вузлів ``x_0``. Далі при виведенні таблиць будемо виводити лише 5 перших рядків (щоб отримати усі рядки таблиці треба забрати виклик методу ``head(5)``): "
   ]
  },
  {
   "cell_type": "code",
   "execution_count": 12,
   "metadata": {
    "tags": []
   },
   "outputs": [
    {
     "data": {
      "text/html": [
       "<div>\n",
       "<style scoped>\n",
       "    .dataframe tbody tr th:only-of-type {\n",
       "        vertical-align: middle;\n",
       "    }\n",
       "\n",
       "    .dataframe tbody tr th {\n",
       "        vertical-align: top;\n",
       "    }\n",
       "\n",
       "    .dataframe thead th {\n",
       "        text-align: right;\n",
       "    }\n",
       "</style>\n",
       "<table border=\"1\" class=\"dataframe\">\n",
       "  <thead>\n",
       "    <tr style=\"text-align: right;\">\n",
       "      <th></th>\n",
       "      <th>x_0</th>\n",
       "      <th>u_0</th>\n",
       "      <th>u_1</th>\n",
       "      <th>u_2</th>\n",
       "      <th>u_3</th>\n",
       "      <th>u_4</th>\n",
       "      <th>u_5</th>\n",
       "    </tr>\n",
       "  </thead>\n",
       "  <tbody>\n",
       "    <tr>\n",
       "      <th>0</th>\n",
       "      <td>0.25</td>\n",
       "      <td>79.000000</td>\n",
       "      <td>79.077656</td>\n",
       "      <td>79.116139</td>\n",
       "      <td>79.135249</td>\n",
       "      <td>79.144765</td>\n",
       "      <td>79.149513</td>\n",
       "    </tr>\n",
       "    <tr>\n",
       "      <th>1</th>\n",
       "      <td>0.50</td>\n",
       "      <td>78.308750</td>\n",
       "      <td>78.460503</td>\n",
       "      <td>78.535028</td>\n",
       "      <td>78.571880</td>\n",
       "      <td>78.590195</td>\n",
       "      <td>78.599324</td>\n",
       "    </tr>\n",
       "    <tr>\n",
       "      <th>2</th>\n",
       "      <td>0.75</td>\n",
       "      <td>77.916472</td>\n",
       "      <td>78.136485</td>\n",
       "      <td>78.243684</td>\n",
       "      <td>78.296499</td>\n",
       "      <td>78.322702</td>\n",
       "      <td>78.335751</td>\n",
       "    </tr>\n",
       "    <tr>\n",
       "      <th>3</th>\n",
       "      <td>1.00</td>\n",
       "      <td>77.811404</td>\n",
       "      <td>78.092334</td>\n",
       "      <td>78.228254</td>\n",
       "      <td>78.294999</td>\n",
       "      <td>78.328060</td>\n",
       "      <td>78.344511</td>\n",
       "    </tr>\n",
       "    <tr>\n",
       "      <th>4</th>\n",
       "      <td>1.25</td>\n",
       "      <td>77.980763</td>\n",
       "      <td>78.314338</td>\n",
       "      <td>78.474686</td>\n",
       "      <td>78.553184</td>\n",
       "      <td>78.592008</td>\n",
       "      <td>78.611313</td>\n",
       "    </tr>\n",
       "  </tbody>\n",
       "</table>\n",
       "</div>"
      ],
      "text/plain": [
       "    x_0        u_0        u_1        u_2        u_3        u_4        u_5\n",
       "0  0.25  79.000000  79.077656  79.116139  79.135249  79.144765  79.149513\n",
       "1  0.50  78.308750  78.460503  78.535028  78.571880  78.590195  78.599324\n",
       "2  0.75  77.916472  78.136485  78.243684  78.296499  78.322702  78.335751\n",
       "3  1.00  77.811404  78.092334  78.228254  78.294999  78.328060  78.344511\n",
       "4  1.25  77.980763  78.314338  78.474686  78.553184  78.592008  78.611313"
      ]
     },
     "execution_count": 12,
     "metadata": {},
     "output_type": "execute_result"
    }
   ],
   "source": [
    "dfue=pd.DataFrame({'x_0':x0[1::],'u_0':u_0[1::],'u_1':u_1[2::2],'u_2':u_2[4::4],'u_3':u_3[8::8],'u_4':u_4[16::16],'u_5':u_5[32::32]})\n",
    "dfue.head(5)"
   ]
  },
  {
   "cell_type": "code",
   "execution_count": 13,
   "metadata": {
    "tags": []
   },
   "outputs": [
    {
     "data": {
      "text/html": [
       "<div>\n",
       "<style scoped>\n",
       "    .dataframe tbody tr th:only-of-type {\n",
       "        vertical-align: middle;\n",
       "    }\n",
       "\n",
       "    .dataframe tbody tr th {\n",
       "        vertical-align: top;\n",
       "    }\n",
       "\n",
       "    .dataframe thead th {\n",
       "        text-align: right;\n",
       "    }\n",
       "</style>\n",
       "<table border=\"1\" class=\"dataframe\">\n",
       "  <thead>\n",
       "    <tr style=\"text-align: right;\">\n",
       "      <th></th>\n",
       "      <th>x_0</th>\n",
       "      <th>v_0</th>\n",
       "      <th>v_1</th>\n",
       "      <th>v_2</th>\n",
       "      <th>v_3</th>\n",
       "      <th>v_4</th>\n",
       "      <th>v_5</th>\n",
       "    </tr>\n",
       "  </thead>\n",
       "  <tbody>\n",
       "    <tr>\n",
       "      <th>0</th>\n",
       "      <td>0.25</td>\n",
       "      <td>28.500000</td>\n",
       "      <td>28.500469</td>\n",
       "      <td>28.502218</td>\n",
       "      <td>28.503450</td>\n",
       "      <td>28.504152</td>\n",
       "      <td>28.504524</td>\n",
       "    </tr>\n",
       "    <tr>\n",
       "      <th>1</th>\n",
       "      <td>0.50</td>\n",
       "      <td>27.003750</td>\n",
       "      <td>27.017216</td>\n",
       "      <td>27.026498</td>\n",
       "      <td>27.031729</td>\n",
       "      <td>27.034485</td>\n",
       "      <td>27.035898</td>\n",
       "    </tr>\n",
       "    <tr>\n",
       "      <th>2</th>\n",
       "      <td>0.75</td>\n",
       "      <td>25.539387</td>\n",
       "      <td>25.575457</td>\n",
       "      <td>25.596594</td>\n",
       "      <td>25.607866</td>\n",
       "      <td>25.613670</td>\n",
       "      <td>25.616613</td>\n",
       "    </tr>\n",
       "    <tr>\n",
       "      <th>3</th>\n",
       "      <td>1.00</td>\n",
       "      <td>24.129388</td>\n",
       "      <td>24.194888</td>\n",
       "      <td>24.230869</td>\n",
       "      <td>24.249579</td>\n",
       "      <td>24.259104</td>\n",
       "      <td>24.263907</td>\n",
       "    </tr>\n",
       "    <tr>\n",
       "      <th>4</th>\n",
       "      <td>1.25</td>\n",
       "      <td>22.790895</td>\n",
       "      <td>22.890210</td>\n",
       "      <td>22.942890</td>\n",
       "      <td>22.969886</td>\n",
       "      <td>22.983536</td>\n",
       "      <td>22.990398</td>\n",
       "    </tr>\n",
       "  </tbody>\n",
       "</table>\n",
       "</div>"
      ],
      "text/plain": [
       "    x_0        v_0        v_1        v_2        v_3        v_4        v_5\n",
       "0  0.25  28.500000  28.500469  28.502218  28.503450  28.504152  28.504524\n",
       "1  0.50  27.003750  27.017216  27.026498  27.031729  27.034485  27.035898\n",
       "2  0.75  25.539387  25.575457  25.596594  25.607866  25.613670  25.616613\n",
       "3  1.00  24.129388  24.194888  24.230869  24.249579  24.259104  24.263907\n",
       "4  1.25  22.790895  22.890210  22.942890  22.969886  22.983536  22.990398"
      ]
     },
     "execution_count": 13,
     "metadata": {},
     "output_type": "execute_result"
    }
   ],
   "source": [
    "dfve=pd.DataFrame({'x_0':x0[1::],'v_0':v_0[1::],'v_1':v_1[2::2],'v_2':v_2[4::4],'v_3':v_3[8::8],'v_4':v_4[16::16],'v_5':v_5[32::32]})\n",
    "dfve.head(5)"
   ]
  },
  {
   "cell_type": "markdown",
   "metadata": {
    "tags": []
   },
   "source": [
    ">##### 2) Застосування методу Рунге-Кутта\n",
    "------------"
   ]
  },
  {
   "cell_type": "markdown",
   "metadata": {
    "tags": []
   },
   "source": [
    "Розглянемо чисельне розв'язування тієї самої задачі Коші, але тепер застосуємо метод Рунге-Кутта. Після задання тих самих  значень параметрів задачі і початкових даних знайдемо чисельні розв'язки задачі на послідовності сіток, подвоюючи на кожному кроці кількість вузлів:"
   ]
  },
  {
   "cell_type": "code",
   "execution_count": 14,
   "metadata": {},
   "outputs": [],
   "source": [
    "a=0\n",
    "b=16\n",
    "u0=80\n",
    "v0=30\n",
    "alpha = 0.25\n",
    "beta = - 0.01\n",
    "gamma = -1\n",
    "delta = 0.01\n",
    "\n",
    "n_start = 16\n",
    "\n",
    "n = n_start\n",
    "xr0=np.linspace(a, b, n+1)\n",
    "ur_0, vr_0 = RK4_NS(f, g, u0,v0, a,b,n, alpha, beta, gamma, delta)\n",
    "\n",
    "n *= 2\n",
    "x1=np.linspace(a, b, n+1)\n",
    "ur_1, vr_1 = RK4_NS(f, g, u0,v0, a,b,n, alpha, beta, gamma, delta)\n",
    "\n",
    "n *= 2\n",
    "x2=np.linspace(a, b, n+1)\n",
    "ur_2, vr_2 = RK4_NS(f, g, u0,v0, a,b,n, alpha, beta, gamma, delta)\n",
    "\n",
    "n *= 2\n",
    "x3=np.linspace(a, b, n+1)\n",
    "ur_3, vr_3 = RK4_NS(f, g, u0,v0, a,b,n, alpha, beta, gamma, delta)\n",
    "\n",
    "n *= 2\n",
    "x4=np.linspace(a, b, n+1)\n",
    "ur_4, vr_4 = RK4_NS(f, g, u0,v0, a,b,n, alpha, beta, gamma, delta)\n",
    "\n",
    "n *= 2\n",
    "x5=np.linspace(a, b, n+1)\n",
    "ur_5, vr_5 = RK4_NS(f, g, u0,v0, a,b,n, alpha, beta, gamma, delta)"
   ]
  },
  {
   "cell_type": "markdown",
   "metadata": {
    "tags": []
   },
   "source": [
    "Побудуємо графіки отриманих розв'язків:"
   ]
  },
  {
   "cell_type": "code",
   "execution_count": 15,
   "metadata": {
    "tags": []
   },
   "outputs": [
    {
     "data": {
      "application/vnd.jupyter.widget-view+json": {
       "model_id": "2c076fbd12674d3dab9a629b32ef1924",
       "version_major": 2,
       "version_minor": 0
      },
      "text/plain": [
       "Canvas(toolbar=Toolbar(toolitems=[('Home', 'Reset original view', 'home', 'home'), ('Back', 'Back to previous …"
      ]
     },
     "metadata": {},
     "output_type": "display_data"
    }
   ],
   "source": [
    "fig = plt.figure(figsize=(8, 5))\n",
    "\n",
    "plt.scatter(u0,v0, marker='o', label='start')\n",
    "plt.plot( ur_0,vr_0, label='uvr_0')\n",
    "plt.plot( ur_1,vr_1, label='uvr_1')\n",
    "plt.plot( ur_2,vr_2, label='uvr_2')\n",
    "plt.plot( ur_3,vr_3, label='uvr_3')\n",
    "plt.plot( ur_4,vr_4, label='uvr_4')\n",
    "plt.plot( ur_5,vr_5, label='uvr_5')\n",
    "ax = fig.gca()\n",
    "ax.legend();"
   ]
  },
  {
   "cell_type": "markdown",
   "metadata": {
    "tags": []
   },
   "source": [
    "Зауважимо, що як і слід було очікувати, метод Рунге-Кутта демонструє швидшу збіжність, ніж метод Ейлера. Тому графіки отриманих розв'язків починають візуально співпадати уже на сітках з невеликою кількістю вузлів. Для того, щоб їх розрізнити, можна використати режим масштабування. "
   ]
  },
  {
   "cell_type": "markdown",
   "metadata": {
    "tags": []
   },
   "source": [
    "Для подальшого аналізу занесемо в таблиці значення усіх розв'язків на спільній множині вузлів ``x_0``: "
   ]
  },
  {
   "cell_type": "code",
   "execution_count": 16,
   "metadata": {
    "tags": []
   },
   "outputs": [
    {
     "data": {
      "text/html": [
       "<div>\n",
       "<style scoped>\n",
       "    .dataframe tbody tr th:only-of-type {\n",
       "        vertical-align: middle;\n",
       "    }\n",
       "\n",
       "    .dataframe tbody tr th {\n",
       "        vertical-align: top;\n",
       "    }\n",
       "\n",
       "    .dataframe thead th {\n",
       "        text-align: right;\n",
       "    }\n",
       "</style>\n",
       "<table border=\"1\" class=\"dataframe\">\n",
       "  <thead>\n",
       "    <tr style=\"text-align: right;\">\n",
       "      <th></th>\n",
       "      <th>x_0</th>\n",
       "      <th>ur_0</th>\n",
       "      <th>ur_1</th>\n",
       "      <th>ur_2</th>\n",
       "      <th>ur_3</th>\n",
       "      <th>ur_4</th>\n",
       "      <th>ur_5</th>\n",
       "    </tr>\n",
       "  </thead>\n",
       "  <tbody>\n",
       "    <tr>\n",
       "      <th>0</th>\n",
       "      <td>1.0</td>\n",
       "      <td>78.357869</td>\n",
       "      <td>78.360676</td>\n",
       "      <td>78.360894</td>\n",
       "      <td>78.360909</td>\n",
       "      <td>78.360910</td>\n",
       "      <td>78.360910</td>\n",
       "    </tr>\n",
       "    <tr>\n",
       "      <th>1</th>\n",
       "      <td>2.0</td>\n",
       "      <td>80.840126</td>\n",
       "      <td>80.847055</td>\n",
       "      <td>80.847536</td>\n",
       "      <td>80.847567</td>\n",
       "      <td>80.847569</td>\n",
       "      <td>80.847569</td>\n",
       "    </tr>\n",
       "    <tr>\n",
       "      <th>2</th>\n",
       "      <td>3.0</td>\n",
       "      <td>86.611094</td>\n",
       "      <td>86.621690</td>\n",
       "      <td>86.622387</td>\n",
       "      <td>86.622431</td>\n",
       "      <td>86.622434</td>\n",
       "      <td>86.622434</td>\n",
       "    </tr>\n",
       "    <tr>\n",
       "      <th>3</th>\n",
       "      <td>4.0</td>\n",
       "      <td>94.902810</td>\n",
       "      <td>94.916288</td>\n",
       "      <td>94.917139</td>\n",
       "      <td>94.917192</td>\n",
       "      <td>94.917195</td>\n",
       "      <td>94.917196</td>\n",
       "    </tr>\n",
       "    <tr>\n",
       "      <th>4</th>\n",
       "      <td>5.0</td>\n",
       "      <td>104.794859</td>\n",
       "      <td>104.810173</td>\n",
       "      <td>104.811099</td>\n",
       "      <td>104.811156</td>\n",
       "      <td>104.811159</td>\n",
       "      <td>104.811159</td>\n",
       "    </tr>\n",
       "  </tbody>\n",
       "</table>\n",
       "</div>"
      ],
      "text/plain": [
       "   x_0        ur_0        ur_1        ur_2        ur_3        ur_4        ur_5\n",
       "0  1.0   78.357869   78.360676   78.360894   78.360909   78.360910   78.360910\n",
       "1  2.0   80.840126   80.847055   80.847536   80.847567   80.847569   80.847569\n",
       "2  3.0   86.611094   86.621690   86.622387   86.622431   86.622434   86.622434\n",
       "3  4.0   94.902810   94.916288   94.917139   94.917192   94.917195   94.917196\n",
       "4  5.0  104.794859  104.810173  104.811099  104.811156  104.811159  104.811159"
      ]
     },
     "execution_count": 16,
     "metadata": {},
     "output_type": "execute_result"
    }
   ],
   "source": [
    "dfur=pd.DataFrame({'x_0':xr0[1::],'ur_0':ur_0[1::],'ur_1':ur_1[2::2],'ur_2':ur_2[4::4],'ur_3':ur_3[8::8],'ur_4':ur_4[16::16],'ur_5':ur_5[32::32]})\n",
    "dfur.head(5)"
   ]
  },
  {
   "cell_type": "code",
   "execution_count": 17,
   "metadata": {
    "tags": []
   },
   "outputs": [
    {
     "data": {
      "text/html": [
       "<div>\n",
       "<style scoped>\n",
       "    .dataframe tbody tr th:only-of-type {\n",
       "        vertical-align: middle;\n",
       "    }\n",
       "\n",
       "    .dataframe tbody tr th {\n",
       "        vertical-align: top;\n",
       "    }\n",
       "\n",
       "    .dataframe thead th {\n",
       "        text-align: right;\n",
       "    }\n",
       "</style>\n",
       "<table border=\"1\" class=\"dataframe\">\n",
       "  <thead>\n",
       "    <tr style=\"text-align: right;\">\n",
       "      <th></th>\n",
       "      <th>x_0</th>\n",
       "      <th>vr_0</th>\n",
       "      <th>vr_1</th>\n",
       "      <th>vr_2</th>\n",
       "      <th>vr_3</th>\n",
       "      <th>vr_4</th>\n",
       "      <th>vr_5</th>\n",
       "    </tr>\n",
       "  </thead>\n",
       "  <tbody>\n",
       "    <tr>\n",
       "      <th>0</th>\n",
       "      <td>1.0</td>\n",
       "      <td>24.269596</td>\n",
       "      <td>24.268784</td>\n",
       "      <td>24.268739</td>\n",
       "      <td>24.268737</td>\n",
       "      <td>24.268737</td>\n",
       "      <td>24.268737</td>\n",
       "    </tr>\n",
       "    <tr>\n",
       "      <th>1</th>\n",
       "      <td>2.0</td>\n",
       "      <td>19.731535</td>\n",
       "      <td>19.730446</td>\n",
       "      <td>19.730403</td>\n",
       "      <td>19.730401</td>\n",
       "      <td>19.730401</td>\n",
       "      <td>19.730401</td>\n",
       "    </tr>\n",
       "    <tr>\n",
       "      <th>2</th>\n",
       "      <td>3.0</td>\n",
       "      <td>16.728963</td>\n",
       "      <td>16.728113</td>\n",
       "      <td>16.728100</td>\n",
       "      <td>16.728100</td>\n",
       "      <td>16.728100</td>\n",
       "      <td>16.728100</td>\n",
       "    </tr>\n",
       "    <tr>\n",
       "      <th>3</th>\n",
       "      <td>4.0</td>\n",
       "      <td>15.226495</td>\n",
       "      <td>15.226261</td>\n",
       "      <td>15.226296</td>\n",
       "      <td>15.226300</td>\n",
       "      <td>15.226300</td>\n",
       "      <td>15.226300</td>\n",
       "    </tr>\n",
       "    <tr>\n",
       "      <th>4</th>\n",
       "      <td>5.0</td>\n",
       "      <td>15.191791</td>\n",
       "      <td>15.192664</td>\n",
       "      <td>15.192778</td>\n",
       "      <td>15.192787</td>\n",
       "      <td>15.192787</td>\n",
       "      <td>15.192787</td>\n",
       "    </tr>\n",
       "  </tbody>\n",
       "</table>\n",
       "</div>"
      ],
      "text/plain": [
       "   x_0       vr_0       vr_1       vr_2       vr_3       vr_4       vr_5\n",
       "0  1.0  24.269596  24.268784  24.268739  24.268737  24.268737  24.268737\n",
       "1  2.0  19.731535  19.730446  19.730403  19.730401  19.730401  19.730401\n",
       "2  3.0  16.728963  16.728113  16.728100  16.728100  16.728100  16.728100\n",
       "3  4.0  15.226495  15.226261  15.226296  15.226300  15.226300  15.226300\n",
       "4  5.0  15.191791  15.192664  15.192778  15.192787  15.192787  15.192787"
      ]
     },
     "execution_count": 17,
     "metadata": {},
     "output_type": "execute_result"
    }
   ],
   "source": [
    "dfvr=pd.DataFrame({'x_0':xr0[1::],'vr_0':vr_0[1::],'vr_1':vr_1[2::2],'vr_2':vr_2[4::4],'vr_3':vr_3[8::8],'vr_4':vr_4[16::16],'vr_5':vr_5[32::32]})\n",
    "dfvr.head(5)"
   ]
  },
  {
   "cell_type": "markdown",
   "metadata": {
    "tags": []
   },
   "source": [
    "Як бачимо, в останній та передостанній колонках обох таблиць відповідні значення можуть відрізнятися лише останньою цифрою. Оскільки точний розв'язок задачі Коші невідомий, то далі обчислюватимемо значення абсолютних похибок чисельних розв'язків та швидкості збіжності до ``ur_5`` і ``vr_5`` відповідно на спільній множині вузлів ``x_0``: "
   ]
  },
  {
   "cell_type": "code",
   "execution_count": 18,
   "metadata": {},
   "outputs": [
    {
     "data": {
      "text/html": [
       "<div>\n",
       "<style scoped>\n",
       "    .dataframe tbody tr th:only-of-type {\n",
       "        vertical-align: middle;\n",
       "    }\n",
       "\n",
       "    .dataframe tbody tr th {\n",
       "        vertical-align: top;\n",
       "    }\n",
       "\n",
       "    .dataframe thead th {\n",
       "        text-align: right;\n",
       "    }\n",
       "</style>\n",
       "<table border=\"1\" class=\"dataframe\">\n",
       "  <thead>\n",
       "    <tr style=\"text-align: right;\">\n",
       "      <th></th>\n",
       "      <th>eur_0</th>\n",
       "      <th>eur_1</th>\n",
       "      <th>eur_2</th>\n",
       "      <th>eur_3</th>\n",
       "    </tr>\n",
       "  </thead>\n",
       "  <tbody>\n",
       "    <tr>\n",
       "      <th>0</th>\n",
       "      <td>0.003041</td>\n",
       "      <td>0.000234</td>\n",
       "      <td>0.000016</td>\n",
       "      <td>0.000001</td>\n",
       "    </tr>\n",
       "    <tr>\n",
       "      <th>1</th>\n",
       "      <td>0.007444</td>\n",
       "      <td>0.000514</td>\n",
       "      <td>0.000033</td>\n",
       "      <td>0.000002</td>\n",
       "    </tr>\n",
       "    <tr>\n",
       "      <th>2</th>\n",
       "      <td>0.011340</td>\n",
       "      <td>0.000744</td>\n",
       "      <td>0.000047</td>\n",
       "      <td>0.000003</td>\n",
       "    </tr>\n",
       "    <tr>\n",
       "      <th>3</th>\n",
       "      <td>0.014386</td>\n",
       "      <td>0.000907</td>\n",
       "      <td>0.000056</td>\n",
       "      <td>0.000004</td>\n",
       "    </tr>\n",
       "    <tr>\n",
       "      <th>4</th>\n",
       "      <td>0.016301</td>\n",
       "      <td>0.000986</td>\n",
       "      <td>0.000060</td>\n",
       "      <td>0.000004</td>\n",
       "    </tr>\n",
       "  </tbody>\n",
       "</table>\n",
       "</div>"
      ],
      "text/plain": [
       "      eur_0     eur_1     eur_2     eur_3\n",
       "0  0.003041  0.000234  0.000016  0.000001\n",
       "1  0.007444  0.000514  0.000033  0.000002\n",
       "2  0.011340  0.000744  0.000047  0.000003\n",
       "3  0.014386  0.000907  0.000056  0.000004\n",
       "4  0.016301  0.000986  0.000060  0.000004"
      ]
     },
     "execution_count": 18,
     "metadata": {},
     "output_type": "execute_result"
    }
   ],
   "source": [
    "dfur1=pd.DataFrame()\n",
    "dfur1['eur_0']=np.abs(dfur['ur_5']-dfur['ur_0'])\n",
    "dfur1['eur_1']=np.abs(dfur['ur_5']-dfur['ur_1'])\n",
    "dfur1['eur_2']=np.abs(dfur['ur_5']-dfur['ur_2'])\n",
    "dfur1['eur_3']=np.abs(dfur['ur_5']-dfur['ur_3'])\n",
    "\n",
    "dfur1.head(5)"
   ]
  },
  {
   "cell_type": "code",
   "execution_count": 19,
   "metadata": {},
   "outputs": [
    {
     "data": {
      "text/html": [
       "<div>\n",
       "<style scoped>\n",
       "    .dataframe tbody tr th:only-of-type {\n",
       "        vertical-align: middle;\n",
       "    }\n",
       "\n",
       "    .dataframe tbody tr th {\n",
       "        vertical-align: top;\n",
       "    }\n",
       "\n",
       "    .dataframe thead th {\n",
       "        text-align: right;\n",
       "    }\n",
       "</style>\n",
       "<table border=\"1\" class=\"dataframe\">\n",
       "  <thead>\n",
       "    <tr style=\"text-align: right;\">\n",
       "      <th></th>\n",
       "      <th>evr_0</th>\n",
       "      <th>evr_1</th>\n",
       "      <th>evr_2</th>\n",
       "      <th>evr_3</th>\n",
       "    </tr>\n",
       "  </thead>\n",
       "  <tbody>\n",
       "    <tr>\n",
       "      <th>0</th>\n",
       "      <td>0.000860</td>\n",
       "      <td>0.000047</td>\n",
       "      <td>2.589884e-06</td>\n",
       "      <td>1.479729e-07</td>\n",
       "    </tr>\n",
       "    <tr>\n",
       "      <th>1</th>\n",
       "      <td>0.001134</td>\n",
       "      <td>0.000045</td>\n",
       "      <td>1.889312e-06</td>\n",
       "      <td>8.750560e-08</td>\n",
       "    </tr>\n",
       "    <tr>\n",
       "      <th>2</th>\n",
       "      <td>0.000863</td>\n",
       "      <td>0.000013</td>\n",
       "      <td>4.721431e-07</td>\n",
       "      <td>7.016251e-08</td>\n",
       "    </tr>\n",
       "    <tr>\n",
       "      <th>3</th>\n",
       "      <td>0.000195</td>\n",
       "      <td>0.000039</td>\n",
       "      <td>3.984675e-06</td>\n",
       "      <td>2.955270e-07</td>\n",
       "    </tr>\n",
       "    <tr>\n",
       "      <th>4</th>\n",
       "      <td>0.000996</td>\n",
       "      <td>0.000123</td>\n",
       "      <td>9.508043e-06</td>\n",
       "      <td>6.462838e-07</td>\n",
       "    </tr>\n",
       "  </tbody>\n",
       "</table>\n",
       "</div>"
      ],
      "text/plain": [
       "      evr_0     evr_1         evr_2         evr_3\n",
       "0  0.000860  0.000047  2.589884e-06  1.479729e-07\n",
       "1  0.001134  0.000045  1.889312e-06  8.750560e-08\n",
       "2  0.000863  0.000013  4.721431e-07  7.016251e-08\n",
       "3  0.000195  0.000039  3.984675e-06  2.955270e-07\n",
       "4  0.000996  0.000123  9.508043e-06  6.462838e-07"
      ]
     },
     "execution_count": 19,
     "metadata": {},
     "output_type": "execute_result"
    }
   ],
   "source": [
    "dfvr1=pd.DataFrame()\n",
    "dfvr1['evr_0']=np.abs(dfvr['vr_5']-dfvr['vr_0'])\n",
    "dfvr1['evr_1']=np.abs(dfvr['vr_5']-dfvr['vr_1'])\n",
    "dfvr1['evr_2']=np.abs(dfvr['vr_5']-dfvr['vr_2'])\n",
    "dfvr1['evr_3']=np.abs(dfvr['vr_5']-dfvr['vr_3'])\n",
    "\n",
    "dfvr1.head(5)"
   ]
  },
  {
   "cell_type": "markdown",
   "metadata": {
    "tags": []
   },
   "source": [
    "Побудуємо графіки абсолютних похибок у логарифмічній шкалі:"
   ]
  },
  {
   "cell_type": "code",
   "execution_count": 20,
   "metadata": {
    "tags": []
   },
   "outputs": [
    {
     "data": {
      "application/vnd.jupyter.widget-view+json": {
       "model_id": "43f4e71806ef488dac34d2c9ed78820e",
       "version_major": 2,
       "version_minor": 0
      },
      "text/plain": [
       "Canvas(toolbar=Toolbar(toolitems=[('Home', 'Reset original view', 'home', 'home'), ('Back', 'Back to previous …"
      ]
     },
     "metadata": {},
     "output_type": "display_data"
    }
   ],
   "source": [
    "fig = plt.figure(figsize=(8, 5))\n",
    "\n",
    "dfur1.eur_0.plot(logy=True)\n",
    "dfur1.eur_1.plot(logy=True)\n",
    "dfur1.eur_2.plot(logy=True)\n",
    "dfur1.eur_3.plot(logy=True)\n",
    "\n",
    "dfvr1.evr_0.plot(logy=True)\n",
    "dfvr1.evr_1.plot(logy=True)\n",
    "dfvr1.evr_2.plot(logy=True)\n",
    "dfvr1.evr_3.plot(logy=True)\n",
    "\n",
    "ax = fig.gca()\n",
    "ax.legend();"
   ]
  },
  {
   "cell_type": "markdown",
   "metadata": {},
   "source": [
    "Обчислимо для кожного чисельного розв'язку його абсолютну похибку за нормою $\\| \\cdot \\|_\\infty$"
   ]
  },
  {
   "cell_type": "code",
   "execution_count": 21,
   "metadata": {},
   "outputs": [
    {
     "name": "stdout",
     "output_type": "stream",
     "text": [
      " neur_0=6.43e-02,  nevr_0=3.27e-02\n",
      " neur_1=4.17e-03,  nevr_1=2.20e-03\n",
      " neur_2=2.62e-04,  nevr_2=1.42e-04\n",
      " neur_3=1.62e-05,  nevr_3=8.94e-06\n"
     ]
    }
   ],
   "source": [
    "neur_0 = max(np.abs(dfur1['eur_0']))\n",
    "neur_1 = max(np.abs(dfur1['eur_1']))\n",
    "neur_2 = max(np.abs(dfur1['eur_2']))\n",
    "neur_3 = max(np.abs(dfur1['eur_3']))\n",
    "\n",
    "nevr_0 = max(np.abs(dfvr1['evr_0']))\n",
    "nevr_1 = max(np.abs(dfvr1['evr_1']))\n",
    "nevr_2 = max(np.abs(dfvr1['evr_2']))\n",
    "nevr_3 = max(np.abs(dfvr1['evr_3']))\n",
    "\n",
    "print(f\" neur_0={neur_0:1.2e},  nevr_0={nevr_0:1.2e}\")\n",
    "print(f\" neur_1={neur_1:1.2e},  nevr_1={nevr_1:1.2e}\")\n",
    "print(f\" neur_2={neur_2:1.2e},  nevr_2={nevr_2:1.2e}\")\n",
    "print(f\" neur_3={neur_3:1.2e},  nevr_3={nevr_3:1.2e}\")"
   ]
  },
  {
   "cell_type": "markdown",
   "metadata": {
    "tags": []
   },
   "source": [
    "Оцінимо швидкість збіжності чисельних розв'язків до значень ``ur_5`` і ``vr_5``, а саме у скільки разів зменшуватметься абсолютна похибка при подвоєнні кількості вузлів сітки:"
   ]
  },
  {
   "cell_type": "code",
   "execution_count": 22,
   "metadata": {},
   "outputs": [
    {
     "data": {
      "text/html": [
       "<div>\n",
       "<style scoped>\n",
       "    .dataframe tbody tr th:only-of-type {\n",
       "        vertical-align: middle;\n",
       "    }\n",
       "\n",
       "    .dataframe tbody tr th {\n",
       "        vertical-align: top;\n",
       "    }\n",
       "\n",
       "    .dataframe thead th {\n",
       "        text-align: right;\n",
       "    }\n",
       "</style>\n",
       "<table border=\"1\" class=\"dataframe\">\n",
       "  <thead>\n",
       "    <tr style=\"text-align: right;\">\n",
       "      <th></th>\n",
       "      <th>rur_0</th>\n",
       "      <th>rur_1</th>\n",
       "      <th>rur_2</th>\n",
       "    </tr>\n",
       "  </thead>\n",
       "  <tbody>\n",
       "    <tr>\n",
       "      <th>0</th>\n",
       "      <td>13.017090</td>\n",
       "      <td>14.682301</td>\n",
       "      <td>15.450107</td>\n",
       "    </tr>\n",
       "    <tr>\n",
       "      <th>1</th>\n",
       "      <td>14.470429</td>\n",
       "      <td>15.370804</td>\n",
       "      <td>15.780677</td>\n",
       "    </tr>\n",
       "    <tr>\n",
       "      <th>2</th>\n",
       "      <td>15.240025</td>\n",
       "      <td>15.754353</td>\n",
       "      <td>15.969734</td>\n",
       "    </tr>\n",
       "    <tr>\n",
       "      <th>3</th>\n",
       "      <td>15.856276</td>\n",
       "      <td>16.071234</td>\n",
       "      <td>16.129092</td>\n",
       "    </tr>\n",
       "    <tr>\n",
       "      <th>4</th>\n",
       "      <td>16.524370</td>\n",
       "      <td>16.433398</td>\n",
       "      <td>16.317183</td>\n",
       "    </tr>\n",
       "    <tr>\n",
       "      <th>5</th>\n",
       "      <td>17.516002</td>\n",
       "      <td>17.024969</td>\n",
       "      <td>16.641528</td>\n",
       "    </tr>\n",
       "    <tr>\n",
       "      <th>6</th>\n",
       "      <td>19.799359</td>\n",
       "      <td>18.640998</td>\n",
       "      <td>17.615547</td>\n",
       "    </tr>\n",
       "    <tr>\n",
       "      <th>7</th>\n",
       "      <td>37.760466</td>\n",
       "      <td>70.247195</td>\n",
       "      <td>20.826680</td>\n",
       "    </tr>\n",
       "    <tr>\n",
       "      <th>8</th>\n",
       "      <td>6.241677</td>\n",
       "      <td>12.232101</td>\n",
       "      <td>14.383725</td>\n",
       "    </tr>\n",
       "    <tr>\n",
       "      <th>9</th>\n",
       "      <td>12.586289</td>\n",
       "      <td>14.670839</td>\n",
       "      <td>15.472717</td>\n",
       "    </tr>\n",
       "    <tr>\n",
       "      <th>10</th>\n",
       "      <td>15.416978</td>\n",
       "      <td>15.957177</td>\n",
       "      <td>16.093198</td>\n",
       "    </tr>\n",
       "    <tr>\n",
       "      <th>11</th>\n",
       "      <td>17.917106</td>\n",
       "      <td>17.277577</td>\n",
       "      <td>16.781742</td>\n",
       "    </tr>\n",
       "    <tr>\n",
       "      <th>12</th>\n",
       "      <td>22.982935</td>\n",
       "      <td>20.824289</td>\n",
       "      <td>18.969776</td>\n",
       "    </tr>\n",
       "    <tr>\n",
       "      <th>13</th>\n",
       "      <td>42.054732</td>\n",
       "      <td>5.721357</td>\n",
       "      <td>12.196141</td>\n",
       "    </tr>\n",
       "    <tr>\n",
       "      <th>14</th>\n",
       "      <td>9.335953</td>\n",
       "      <td>13.402174</td>\n",
       "      <td>14.902320</td>\n",
       "    </tr>\n",
       "    <tr>\n",
       "      <th>15</th>\n",
       "      <td>12.823169</td>\n",
       "      <td>14.745786</td>\n",
       "      <td>15.504031</td>\n",
       "    </tr>\n",
       "  </tbody>\n",
       "</table>\n",
       "</div>"
      ],
      "text/plain": [
       "        rur_0      rur_1      rur_2\n",
       "0   13.017090  14.682301  15.450107\n",
       "1   14.470429  15.370804  15.780677\n",
       "2   15.240025  15.754353  15.969734\n",
       "3   15.856276  16.071234  16.129092\n",
       "4   16.524370  16.433398  16.317183\n",
       "5   17.516002  17.024969  16.641528\n",
       "6   19.799359  18.640998  17.615547\n",
       "7   37.760466  70.247195  20.826680\n",
       "8    6.241677  12.232101  14.383725\n",
       "9   12.586289  14.670839  15.472717\n",
       "10  15.416978  15.957177  16.093198\n",
       "11  17.917106  17.277577  16.781742\n",
       "12  22.982935  20.824289  18.969776\n",
       "13  42.054732   5.721357  12.196141\n",
       "14   9.335953  13.402174  14.902320\n",
       "15  12.823169  14.745786  15.504031"
      ]
     },
     "execution_count": 22,
     "metadata": {},
     "output_type": "execute_result"
    }
   ],
   "source": [
    "dfur2=pd.DataFrame()\n",
    "dfur2['rur_0'] = dfur1['eur_0'] / dfur1['eur_1']\n",
    "dfur2['rur_1'] = dfur1['eur_1'] / dfur1['eur_2']\n",
    "dfur2['rur_2'] = dfur1['eur_2'] / dfur1['eur_3']\n",
    "\n",
    "dfur2"
   ]
  },
  {
   "cell_type": "code",
   "execution_count": 23,
   "metadata": {},
   "outputs": [
    {
     "data": {
      "text/html": [
       "<div>\n",
       "<style scoped>\n",
       "    .dataframe tbody tr th:only-of-type {\n",
       "        vertical-align: middle;\n",
       "    }\n",
       "\n",
       "    .dataframe tbody tr th {\n",
       "        vertical-align: top;\n",
       "    }\n",
       "\n",
       "    .dataframe thead th {\n",
       "        text-align: right;\n",
       "    }\n",
       "</style>\n",
       "<table border=\"1\" class=\"dataframe\">\n",
       "  <thead>\n",
       "    <tr style=\"text-align: right;\">\n",
       "      <th></th>\n",
       "      <th>rvr_0</th>\n",
       "      <th>rvr_1</th>\n",
       "      <th>rvr_2</th>\n",
       "    </tr>\n",
       "  </thead>\n",
       "  <tbody>\n",
       "    <tr>\n",
       "      <th>0</th>\n",
       "      <td>18.212808</td>\n",
       "      <td>18.222573</td>\n",
       "      <td>17.502414</td>\n",
       "    </tr>\n",
       "    <tr>\n",
       "      <th>1</th>\n",
       "      <td>25.164813</td>\n",
       "      <td>23.848759</td>\n",
       "      <td>21.590755</td>\n",
       "    </tr>\n",
       "    <tr>\n",
       "      <th>2</th>\n",
       "      <td>64.385699</td>\n",
       "      <td>28.391763</td>\n",
       "      <td>6.729280</td>\n",
       "    </tr>\n",
       "    <tr>\n",
       "      <th>3</th>\n",
       "      <td>5.019630</td>\n",
       "      <td>9.732501</td>\n",
       "      <td>13.483285</td>\n",
       "    </tr>\n",
       "    <tr>\n",
       "      <th>4</th>\n",
       "      <td>8.088470</td>\n",
       "      <td>12.953927</td>\n",
       "      <td>14.711869</td>\n",
       "    </tr>\n",
       "    <tr>\n",
       "      <th>5</th>\n",
       "      <td>11.634806</td>\n",
       "      <td>14.178397</td>\n",
       "      <td>15.227392</td>\n",
       "    </tr>\n",
       "    <tr>\n",
       "      <th>6</th>\n",
       "      <td>13.191806</td>\n",
       "      <td>14.783989</td>\n",
       "      <td>15.494060</td>\n",
       "    </tr>\n",
       "    <tr>\n",
       "      <th>7</th>\n",
       "      <td>14.270031</td>\n",
       "      <td>15.284982</td>\n",
       "      <td>15.736454</td>\n",
       "    </tr>\n",
       "    <tr>\n",
       "      <th>8</th>\n",
       "      <td>15.763894</td>\n",
       "      <td>16.081268</td>\n",
       "      <td>16.148067</td>\n",
       "    </tr>\n",
       "    <tr>\n",
       "      <th>9</th>\n",
       "      <td>19.056782</td>\n",
       "      <td>18.087787</td>\n",
       "      <td>17.265084</td>\n",
       "    </tr>\n",
       "    <tr>\n",
       "      <th>10</th>\n",
       "      <td>19.698983</td>\n",
       "      <td>7.465637</td>\n",
       "      <td>12.671119</td>\n",
       "    </tr>\n",
       "    <tr>\n",
       "      <th>11</th>\n",
       "      <td>11.874208</td>\n",
       "      <td>14.346201</td>\n",
       "      <td>15.317090</td>\n",
       "    </tr>\n",
       "    <tr>\n",
       "      <th>12</th>\n",
       "      <td>14.511231</td>\n",
       "      <td>15.522094</td>\n",
       "      <td>15.879978</td>\n",
       "    </tr>\n",
       "    <tr>\n",
       "      <th>13</th>\n",
       "      <td>16.193285</td>\n",
       "      <td>16.354420</td>\n",
       "      <td>16.298228</td>\n",
       "    </tr>\n",
       "    <tr>\n",
       "      <th>14</th>\n",
       "      <td>17.955295</td>\n",
       "      <td>17.317782</td>\n",
       "      <td>16.807865</td>\n",
       "    </tr>\n",
       "    <tr>\n",
       "      <th>15</th>\n",
       "      <td>20.802629</td>\n",
       "      <td>19.142593</td>\n",
       "      <td>17.866246</td>\n",
       "    </tr>\n",
       "  </tbody>\n",
       "</table>\n",
       "</div>"
      ],
      "text/plain": [
       "        rvr_0      rvr_1      rvr_2\n",
       "0   18.212808  18.222573  17.502414\n",
       "1   25.164813  23.848759  21.590755\n",
       "2   64.385699  28.391763   6.729280\n",
       "3    5.019630   9.732501  13.483285\n",
       "4    8.088470  12.953927  14.711869\n",
       "5   11.634806  14.178397  15.227392\n",
       "6   13.191806  14.783989  15.494060\n",
       "7   14.270031  15.284982  15.736454\n",
       "8   15.763894  16.081268  16.148067\n",
       "9   19.056782  18.087787  17.265084\n",
       "10  19.698983   7.465637  12.671119\n",
       "11  11.874208  14.346201  15.317090\n",
       "12  14.511231  15.522094  15.879978\n",
       "13  16.193285  16.354420  16.298228\n",
       "14  17.955295  17.317782  16.807865\n",
       "15  20.802629  19.142593  17.866246"
      ]
     },
     "execution_count": 23,
     "metadata": {},
     "output_type": "execute_result"
    }
   ],
   "source": [
    "dfvr2=pd.DataFrame()\n",
    "dfvr2['rvr_0'] = dfvr1['evr_0'] / dfvr1['evr_1']\n",
    "dfvr2['rvr_1'] = dfvr1['evr_1'] / dfvr1['evr_2']\n",
    "dfvr2['rvr_2'] = dfvr1['evr_2'] / dfvr1['evr_3']\n",
    "\n",
    "dfvr2"
   ]
  },
  {
   "cell_type": "markdown",
   "metadata": {
    "tags": []
   },
   "source": [
    "Як бачимо, отримані значення швидкості збіжності близькі до числа 16, характерного для методу Рунге-Кутта 4-го порядку."
   ]
  },
  {
   "cell_type": "markdown",
   "metadata": {},
   "source": [
    ">##### 3)Порівняння результатів, отриманих методами Ейлера і Рунге-Кутта"
   ]
  },
  {
   "cell_type": "markdown",
   "metadata": {
    "tags": []
   },
   "source": [
    "Вважаючи чисельні розв'язки, отримані методом Рунге-Кутта, достатньо точними, їх можна використати для оцінки результатів, які дає метод Ейлера.  \n",
    "\n",
    "Для зручності обчислень, додамо до таблиць результатів методу Ейлера відповідні значення розв'язків ``ur_5`` і ``vr_5``:"
   ]
  },
  {
   "cell_type": "code",
   "execution_count": 24,
   "metadata": {
    "tags": []
   },
   "outputs": [
    {
     "data": {
      "text/html": [
       "<div>\n",
       "<style scoped>\n",
       "    .dataframe tbody tr th:only-of-type {\n",
       "        vertical-align: middle;\n",
       "    }\n",
       "\n",
       "    .dataframe tbody tr th {\n",
       "        vertical-align: top;\n",
       "    }\n",
       "\n",
       "    .dataframe thead th {\n",
       "        text-align: right;\n",
       "    }\n",
       "</style>\n",
       "<table border=\"1\" class=\"dataframe\">\n",
       "  <thead>\n",
       "    <tr style=\"text-align: right;\">\n",
       "      <th></th>\n",
       "      <th>x_0</th>\n",
       "      <th>u_0</th>\n",
       "      <th>u_1</th>\n",
       "      <th>u_2</th>\n",
       "      <th>u_3</th>\n",
       "      <th>u_4</th>\n",
       "      <th>u_5</th>\n",
       "      <th>ur_5</th>\n",
       "    </tr>\n",
       "  </thead>\n",
       "  <tbody>\n",
       "    <tr>\n",
       "      <th>0</th>\n",
       "      <td>0.25</td>\n",
       "      <td>79.000000</td>\n",
       "      <td>79.077656</td>\n",
       "      <td>79.116139</td>\n",
       "      <td>79.135249</td>\n",
       "      <td>79.144765</td>\n",
       "      <td>79.149513</td>\n",
       "      <td>79.154254</td>\n",
       "    </tr>\n",
       "    <tr>\n",
       "      <th>1</th>\n",
       "      <td>0.50</td>\n",
       "      <td>78.308750</td>\n",
       "      <td>78.460503</td>\n",
       "      <td>78.535028</td>\n",
       "      <td>78.571880</td>\n",
       "      <td>78.590195</td>\n",
       "      <td>78.599324</td>\n",
       "      <td>78.608434</td>\n",
       "    </tr>\n",
       "    <tr>\n",
       "      <th>2</th>\n",
       "      <td>0.75</td>\n",
       "      <td>77.916472</td>\n",
       "      <td>78.136485</td>\n",
       "      <td>78.243684</td>\n",
       "      <td>78.296499</td>\n",
       "      <td>78.322702</td>\n",
       "      <td>78.335751</td>\n",
       "      <td>78.348765</td>\n",
       "    </tr>\n",
       "    <tr>\n",
       "      <th>3</th>\n",
       "      <td>1.00</td>\n",
       "      <td>77.811404</td>\n",
       "      <td>78.092334</td>\n",
       "      <td>78.228254</td>\n",
       "      <td>78.294999</td>\n",
       "      <td>78.328060</td>\n",
       "      <td>78.344511</td>\n",
       "      <td>78.360910</td>\n",
       "    </tr>\n",
       "    <tr>\n",
       "      <th>4</th>\n",
       "      <td>1.25</td>\n",
       "      <td>77.980763</td>\n",
       "      <td>78.314338</td>\n",
       "      <td>78.474686</td>\n",
       "      <td>78.553184</td>\n",
       "      <td>78.592008</td>\n",
       "      <td>78.611313</td>\n",
       "      <td>78.630546</td>\n",
       "    </tr>\n",
       "  </tbody>\n",
       "</table>\n",
       "</div>"
      ],
      "text/plain": [
       "    x_0        u_0        u_1        u_2        u_3        u_4        u_5  \\\n",
       "0  0.25  79.000000  79.077656  79.116139  79.135249  79.144765  79.149513   \n",
       "1  0.50  78.308750  78.460503  78.535028  78.571880  78.590195  78.599324   \n",
       "2  0.75  77.916472  78.136485  78.243684  78.296499  78.322702  78.335751   \n",
       "3  1.00  77.811404  78.092334  78.228254  78.294999  78.328060  78.344511   \n",
       "4  1.25  77.980763  78.314338  78.474686  78.553184  78.592008  78.611313   \n",
       "\n",
       "        ur_5  \n",
       "0  79.154254  \n",
       "1  78.608434  \n",
       "2  78.348765  \n",
       "3  78.360910  \n",
       "4  78.630546  "
      ]
     },
     "execution_count": 24,
     "metadata": {},
     "output_type": "execute_result"
    }
   ],
   "source": [
    "dfue['ur_5']=ur_5[8::8]\n",
    "dfue.head(5)"
   ]
  },
  {
   "cell_type": "code",
   "execution_count": 25,
   "metadata": {
    "tags": []
   },
   "outputs": [
    {
     "data": {
      "text/html": [
       "<div>\n",
       "<style scoped>\n",
       "    .dataframe tbody tr th:only-of-type {\n",
       "        vertical-align: middle;\n",
       "    }\n",
       "\n",
       "    .dataframe tbody tr th {\n",
       "        vertical-align: top;\n",
       "    }\n",
       "\n",
       "    .dataframe thead th {\n",
       "        text-align: right;\n",
       "    }\n",
       "</style>\n",
       "<table border=\"1\" class=\"dataframe\">\n",
       "  <thead>\n",
       "    <tr style=\"text-align: right;\">\n",
       "      <th></th>\n",
       "      <th>x_0</th>\n",
       "      <th>v_0</th>\n",
       "      <th>v_1</th>\n",
       "      <th>v_2</th>\n",
       "      <th>v_3</th>\n",
       "      <th>v_4</th>\n",
       "      <th>v_5</th>\n",
       "      <th>vr_5</th>\n",
       "    </tr>\n",
       "  </thead>\n",
       "  <tbody>\n",
       "    <tr>\n",
       "      <th>0</th>\n",
       "      <td>0.25</td>\n",
       "      <td>28.500000</td>\n",
       "      <td>28.500469</td>\n",
       "      <td>28.502218</td>\n",
       "      <td>28.503450</td>\n",
       "      <td>28.504152</td>\n",
       "      <td>28.504524</td>\n",
       "      <td>28.504910</td>\n",
       "    </tr>\n",
       "    <tr>\n",
       "      <th>1</th>\n",
       "      <td>0.50</td>\n",
       "      <td>27.003750</td>\n",
       "      <td>27.017216</td>\n",
       "      <td>27.026498</td>\n",
       "      <td>27.031729</td>\n",
       "      <td>27.034485</td>\n",
       "      <td>27.035898</td>\n",
       "      <td>27.037333</td>\n",
       "    </tr>\n",
       "    <tr>\n",
       "      <th>2</th>\n",
       "      <td>0.75</td>\n",
       "      <td>25.539387</td>\n",
       "      <td>25.575457</td>\n",
       "      <td>25.596594</td>\n",
       "      <td>25.607866</td>\n",
       "      <td>25.613670</td>\n",
       "      <td>25.616613</td>\n",
       "      <td>25.619582</td>\n",
       "    </tr>\n",
       "    <tr>\n",
       "      <th>3</th>\n",
       "      <td>1.00</td>\n",
       "      <td>24.129388</td>\n",
       "      <td>24.194888</td>\n",
       "      <td>24.230869</td>\n",
       "      <td>24.249579</td>\n",
       "      <td>24.259104</td>\n",
       "      <td>24.263907</td>\n",
       "      <td>24.268737</td>\n",
       "    </tr>\n",
       "    <tr>\n",
       "      <th>4</th>\n",
       "      <td>1.25</td>\n",
       "      <td>22.790895</td>\n",
       "      <td>22.890210</td>\n",
       "      <td>22.942890</td>\n",
       "      <td>22.969886</td>\n",
       "      <td>22.983536</td>\n",
       "      <td>22.990398</td>\n",
       "      <td>22.997284</td>\n",
       "    </tr>\n",
       "  </tbody>\n",
       "</table>\n",
       "</div>"
      ],
      "text/plain": [
       "    x_0        v_0        v_1        v_2        v_3        v_4        v_5  \\\n",
       "0  0.25  28.500000  28.500469  28.502218  28.503450  28.504152  28.504524   \n",
       "1  0.50  27.003750  27.017216  27.026498  27.031729  27.034485  27.035898   \n",
       "2  0.75  25.539387  25.575457  25.596594  25.607866  25.613670  25.616613   \n",
       "3  1.00  24.129388  24.194888  24.230869  24.249579  24.259104  24.263907   \n",
       "4  1.25  22.790895  22.890210  22.942890  22.969886  22.983536  22.990398   \n",
       "\n",
       "        vr_5  \n",
       "0  28.504910  \n",
       "1  27.037333  \n",
       "2  25.619582  \n",
       "3  24.268737  \n",
       "4  22.997284  "
      ]
     },
     "execution_count": 25,
     "metadata": {},
     "output_type": "execute_result"
    }
   ],
   "source": [
    "dfve['vr_5']=vr_5[8::8]\n",
    "dfve.head(5)"
   ]
  },
  {
   "cell_type": "markdown",
   "metadata": {
    "tags": []
   },
   "source": [
    "Далі виконаємо обчислення відхилень колонок модифікованих таблиць від ``ur_5`` і ``vr_5`` відповідно:"
   ]
  },
  {
   "cell_type": "code",
   "execution_count": 26,
   "metadata": {},
   "outputs": [
    {
     "data": {
      "text/html": [
       "<div>\n",
       "<style scoped>\n",
       "    .dataframe tbody tr th:only-of-type {\n",
       "        vertical-align: middle;\n",
       "    }\n",
       "\n",
       "    .dataframe tbody tr th {\n",
       "        vertical-align: top;\n",
       "    }\n",
       "\n",
       "    .dataframe thead th {\n",
       "        text-align: right;\n",
       "    }\n",
       "</style>\n",
       "<table border=\"1\" class=\"dataframe\">\n",
       "  <thead>\n",
       "    <tr style=\"text-align: right;\">\n",
       "      <th></th>\n",
       "      <th>eue_0</th>\n",
       "      <th>eue_1</th>\n",
       "      <th>eue_2</th>\n",
       "      <th>eue_3</th>\n",
       "      <th>eue_4</th>\n",
       "      <th>eue_5</th>\n",
       "    </tr>\n",
       "  </thead>\n",
       "  <tbody>\n",
       "    <tr>\n",
       "      <th>0</th>\n",
       "      <td>0.154254</td>\n",
       "      <td>0.076598</td>\n",
       "      <td>0.038115</td>\n",
       "      <td>0.019006</td>\n",
       "      <td>0.009489</td>\n",
       "      <td>0.004741</td>\n",
       "    </tr>\n",
       "    <tr>\n",
       "      <th>1</th>\n",
       "      <td>0.299684</td>\n",
       "      <td>0.147931</td>\n",
       "      <td>0.073406</td>\n",
       "      <td>0.036554</td>\n",
       "      <td>0.018239</td>\n",
       "      <td>0.009110</td>\n",
       "    </tr>\n",
       "    <tr>\n",
       "      <th>2</th>\n",
       "      <td>0.432292</td>\n",
       "      <td>0.212279</td>\n",
       "      <td>0.105081</td>\n",
       "      <td>0.052266</td>\n",
       "      <td>0.026063</td>\n",
       "      <td>0.013014</td>\n",
       "    </tr>\n",
       "    <tr>\n",
       "      <th>3</th>\n",
       "      <td>0.549506</td>\n",
       "      <td>0.268576</td>\n",
       "      <td>0.132656</td>\n",
       "      <td>0.065911</td>\n",
       "      <td>0.032850</td>\n",
       "      <td>0.016398</td>\n",
       "    </tr>\n",
       "    <tr>\n",
       "      <th>4</th>\n",
       "      <td>0.649783</td>\n",
       "      <td>0.316208</td>\n",
       "      <td>0.155860</td>\n",
       "      <td>0.077362</td>\n",
       "      <td>0.038538</td>\n",
       "      <td>0.019233</td>\n",
       "    </tr>\n",
       "  </tbody>\n",
       "</table>\n",
       "</div>"
      ],
      "text/plain": [
       "      eue_0     eue_1     eue_2     eue_3     eue_4     eue_5\n",
       "0  0.154254  0.076598  0.038115  0.019006  0.009489  0.004741\n",
       "1  0.299684  0.147931  0.073406  0.036554  0.018239  0.009110\n",
       "2  0.432292  0.212279  0.105081  0.052266  0.026063  0.013014\n",
       "3  0.549506  0.268576  0.132656  0.065911  0.032850  0.016398\n",
       "4  0.649783  0.316208  0.155860  0.077362  0.038538  0.019233"
      ]
     },
     "execution_count": 26,
     "metadata": {},
     "output_type": "execute_result"
    }
   ],
   "source": [
    "dfue1=pd.DataFrame()\n",
    "dfue1['eue_0']=np.abs(dfue['ur_5']-dfue['u_0'])\n",
    "dfue1['eue_1']=np.abs(dfue['ur_5']-dfue['u_1'])\n",
    "dfue1['eue_2']=np.abs(dfue['ur_5']-dfue['u_2'])\n",
    "dfue1['eue_3']=np.abs(dfue['ur_5']-dfue['u_3'])\n",
    "dfue1['eue_4']=np.abs(dfue['ur_5']-dfue['u_4'])\n",
    "dfue1['eue_5']=np.abs(dfue['ur_5']-dfue['u_5'])\n",
    "\n",
    "dfue1.head(5)"
   ]
  },
  {
   "cell_type": "code",
   "execution_count": 27,
   "metadata": {},
   "outputs": [
    {
     "data": {
      "text/html": [
       "<div>\n",
       "<style scoped>\n",
       "    .dataframe tbody tr th:only-of-type {\n",
       "        vertical-align: middle;\n",
       "    }\n",
       "\n",
       "    .dataframe tbody tr th {\n",
       "        vertical-align: top;\n",
       "    }\n",
       "\n",
       "    .dataframe thead th {\n",
       "        text-align: right;\n",
       "    }\n",
       "</style>\n",
       "<table border=\"1\" class=\"dataframe\">\n",
       "  <thead>\n",
       "    <tr style=\"text-align: right;\">\n",
       "      <th></th>\n",
       "      <th>eve_0</th>\n",
       "      <th>eve_1</th>\n",
       "      <th>eve_2</th>\n",
       "      <th>eve_3</th>\n",
       "      <th>eve_4</th>\n",
       "      <th>eve_5</th>\n",
       "    </tr>\n",
       "  </thead>\n",
       "  <tbody>\n",
       "    <tr>\n",
       "      <th>0</th>\n",
       "      <td>0.004910</td>\n",
       "      <td>0.004441</td>\n",
       "      <td>0.002692</td>\n",
       "      <td>0.001460</td>\n",
       "      <td>0.000758</td>\n",
       "      <td>0.000386</td>\n",
       "    </tr>\n",
       "    <tr>\n",
       "      <th>1</th>\n",
       "      <td>0.033583</td>\n",
       "      <td>0.020117</td>\n",
       "      <td>0.010835</td>\n",
       "      <td>0.005605</td>\n",
       "      <td>0.002848</td>\n",
       "      <td>0.001436</td>\n",
       "    </tr>\n",
       "    <tr>\n",
       "      <th>2</th>\n",
       "      <td>0.080195</td>\n",
       "      <td>0.044125</td>\n",
       "      <td>0.022989</td>\n",
       "      <td>0.011716</td>\n",
       "      <td>0.005912</td>\n",
       "      <td>0.002969</td>\n",
       "    </tr>\n",
       "    <tr>\n",
       "      <th>3</th>\n",
       "      <td>0.139349</td>\n",
       "      <td>0.073848</td>\n",
       "      <td>0.037868</td>\n",
       "      <td>0.019157</td>\n",
       "      <td>0.009633</td>\n",
       "      <td>0.004830</td>\n",
       "    </tr>\n",
       "    <tr>\n",
       "      <th>4</th>\n",
       "      <td>0.206389</td>\n",
       "      <td>0.107073</td>\n",
       "      <td>0.054394</td>\n",
       "      <td>0.027398</td>\n",
       "      <td>0.013747</td>\n",
       "      <td>0.006886</td>\n",
       "    </tr>\n",
       "  </tbody>\n",
       "</table>\n",
       "</div>"
      ],
      "text/plain": [
       "      eve_0     eve_1     eve_2     eve_3     eve_4     eve_5\n",
       "0  0.004910  0.004441  0.002692  0.001460  0.000758  0.000386\n",
       "1  0.033583  0.020117  0.010835  0.005605  0.002848  0.001436\n",
       "2  0.080195  0.044125  0.022989  0.011716  0.005912  0.002969\n",
       "3  0.139349  0.073848  0.037868  0.019157  0.009633  0.004830\n",
       "4  0.206389  0.107073  0.054394  0.027398  0.013747  0.006886"
      ]
     },
     "execution_count": 27,
     "metadata": {},
     "output_type": "execute_result"
    }
   ],
   "source": [
    "dfve1=pd.DataFrame()\n",
    "dfve1['eve_0']=np.abs(dfve['vr_5']-dfve['v_0'])\n",
    "dfve1['eve_1']=np.abs(dfve['vr_5']-dfve['v_1'])\n",
    "dfve1['eve_2']=np.abs(dfve['vr_5']-dfve['v_2'])\n",
    "dfve1['eve_3']=np.abs(dfve['vr_5']-dfve['v_3'])\n",
    "dfve1['eve_4']=np.abs(dfve['vr_5']-dfve['v_4'])\n",
    "dfve1['eve_5']=np.abs(dfve['vr_5']-dfve['v_5'])\n",
    "\n",
    "dfve1.head(5)"
   ]
  },
  {
   "cell_type": "markdown",
   "metadata": {
    "tags": []
   },
   "source": [
    "Можемо оцінити отримані відхилення за нормою $\\| \\cdot \\|_\\infty$:"
   ]
  },
  {
   "cell_type": "code",
   "execution_count": 28,
   "metadata": {},
   "outputs": [
    {
     "name": "stdout",
     "output_type": "stream",
     "text": [
      " neue_0=1.01e+01,  neve_0=6.39e+00\n",
      " neue_1=4.58e+00,  neve_1=2.83e+00\n",
      " neue_2=2.18e+00,  neve_2=1.33e+00\n",
      " neue_3=1.07e+00,  neve_3=6.48e-01\n",
      " neue_4=5.27e-01,  neve_4=3.20e-01\n",
      " neue_5=2.62e-01,  neve_5=1.59e-01\n"
     ]
    }
   ],
   "source": [
    "neue_0 = max(np.abs(dfue1['eue_0']))\n",
    "neue_1 = max(np.abs(dfue1['eue_1']))\n",
    "neue_2 = max(np.abs(dfue1['eue_2']))\n",
    "neue_3 = max(np.abs(dfue1['eue_3']))\n",
    "neue_4 = max(np.abs(dfue1['eue_4']))\n",
    "neue_5 = max(np.abs(dfue1['eue_5']))\n",
    "\n",
    "neve_0 = max(np.abs(dfve1['eve_0']))\n",
    "neve_1 = max(np.abs(dfve1['eve_1']))\n",
    "neve_2 = max(np.abs(dfve1['eve_2']))\n",
    "neve_3 = max(np.abs(dfve1['eve_3']))\n",
    "neve_4 = max(np.abs(dfve1['eve_4']))\n",
    "neve_5 = max(np.abs(dfve1['eve_5']))\n",
    "\n",
    "print(f\" neue_0={neue_0:1.2e},  neve_0={neve_0:1.2e}\")\n",
    "print(f\" neue_1={neue_1:1.2e},  neve_1={neve_1:1.2e}\")\n",
    "print(f\" neue_2={neue_2:1.2e},  neve_2={neve_2:1.2e}\")\n",
    "print(f\" neue_3={neue_3:1.2e},  neve_3={neve_3:1.2e}\")\n",
    "print(f\" neue_4={neue_4:1.2e},  neve_4={neve_4:1.2e}\")\n",
    "print(f\" neue_5={neue_5:1.2e},  neve_5={neve_5:1.2e}\")"
   ]
  },
  {
   "cell_type": "markdown",
   "metadata": {
    "tags": []
   },
   "source": [
    "Як бачимо, відхилення для обох невідомих функцій приблизно однакові.\n",
    "\n",
    "Оцінимо швидкість збіжності методу Ейлера:"
   ]
  },
  {
   "cell_type": "code",
   "execution_count": 29,
   "metadata": {},
   "outputs": [
    {
     "data": {
      "text/html": [
       "<div>\n",
       "<style scoped>\n",
       "    .dataframe tbody tr th:only-of-type {\n",
       "        vertical-align: middle;\n",
       "    }\n",
       "\n",
       "    .dataframe tbody tr th {\n",
       "        vertical-align: top;\n",
       "    }\n",
       "\n",
       "    .dataframe thead th {\n",
       "        text-align: right;\n",
       "    }\n",
       "</style>\n",
       "<table border=\"1\" class=\"dataframe\">\n",
       "  <thead>\n",
       "    <tr style=\"text-align: right;\">\n",
       "      <th></th>\n",
       "      <th>rue_0</th>\n",
       "      <th>rue_1</th>\n",
       "      <th>rue_2</th>\n",
       "      <th>rue_3</th>\n",
       "      <th>rue_4</th>\n",
       "    </tr>\n",
       "  </thead>\n",
       "  <tbody>\n",
       "    <tr>\n",
       "      <th>0</th>\n",
       "      <td>2.013814</td>\n",
       "      <td>2.009658</td>\n",
       "      <td>2.005468</td>\n",
       "      <td>2.002887</td>\n",
       "      <td>2.001481</td>\n",
       "    </tr>\n",
       "    <tr>\n",
       "      <th>1</th>\n",
       "      <td>2.025842</td>\n",
       "      <td>2.015235</td>\n",
       "      <td>2.008148</td>\n",
       "      <td>2.004200</td>\n",
       "      <td>2.002131</td>\n",
       "    </tr>\n",
       "    <tr>\n",
       "      <th>2</th>\n",
       "      <td>2.036432</td>\n",
       "      <td>2.020150</td>\n",
       "      <td>2.010512</td>\n",
       "      <td>2.005359</td>\n",
       "      <td>2.002705</td>\n",
       "    </tr>\n",
       "    <tr>\n",
       "      <th>3</th>\n",
       "      <td>2.045998</td>\n",
       "      <td>2.024608</td>\n",
       "      <td>2.012662</td>\n",
       "      <td>2.006415</td>\n",
       "      <td>2.003228</td>\n",
       "    </tr>\n",
       "    <tr>\n",
       "      <th>4</th>\n",
       "      <td>2.054920</td>\n",
       "      <td>2.028797</td>\n",
       "      <td>2.014691</td>\n",
       "      <td>2.007414</td>\n",
       "      <td>2.003723</td>\n",
       "    </tr>\n",
       "  </tbody>\n",
       "</table>\n",
       "</div>"
      ],
      "text/plain": [
       "      rue_0     rue_1     rue_2     rue_3     rue_4\n",
       "0  2.013814  2.009658  2.005468  2.002887  2.001481\n",
       "1  2.025842  2.015235  2.008148  2.004200  2.002131\n",
       "2  2.036432  2.020150  2.010512  2.005359  2.002705\n",
       "3  2.045998  2.024608  2.012662  2.006415  2.003228\n",
       "4  2.054920  2.028797  2.014691  2.007414  2.003723"
      ]
     },
     "execution_count": 29,
     "metadata": {},
     "output_type": "execute_result"
    }
   ],
   "source": [
    "dfue2=pd.DataFrame()\n",
    "dfue2['rue_0'] = dfue1['eue_0'] / dfue1['eue_1']\n",
    "dfue2['rue_1'] = dfue1['eue_1'] / dfue1['eue_2']\n",
    "dfue2['rue_2'] = dfue1['eue_2'] / dfue1['eue_3']\n",
    "dfue2['rue_3'] = dfue1['eue_3'] / dfue1['eue_4']\n",
    "dfue2['rue_4'] = dfue1['eue_4'] / dfue1['eue_5']\n",
    "\n",
    "dfue2.head(5)"
   ]
  },
  {
   "cell_type": "code",
   "execution_count": 30,
   "metadata": {},
   "outputs": [
    {
     "data": {
      "text/html": [
       "<div>\n",
       "<style scoped>\n",
       "    .dataframe tbody tr th:only-of-type {\n",
       "        vertical-align: middle;\n",
       "    }\n",
       "\n",
       "    .dataframe tbody tr th {\n",
       "        vertical-align: top;\n",
       "    }\n",
       "\n",
       "    .dataframe thead th {\n",
       "        text-align: right;\n",
       "    }\n",
       "</style>\n",
       "<table border=\"1\" class=\"dataframe\">\n",
       "  <thead>\n",
       "    <tr style=\"text-align: right;\">\n",
       "      <th></th>\n",
       "      <th>rve_0</th>\n",
       "      <th>rve_1</th>\n",
       "      <th>rve_2</th>\n",
       "      <th>rve_3</th>\n",
       "    </tr>\n",
       "  </thead>\n",
       "  <tbody>\n",
       "    <tr>\n",
       "      <th>0</th>\n",
       "      <td>1.105544</td>\n",
       "      <td>1.649991</td>\n",
       "      <td>1.843320</td>\n",
       "      <td>1.963804</td>\n",
       "    </tr>\n",
       "    <tr>\n",
       "      <th>1</th>\n",
       "      <td>1.669404</td>\n",
       "      <td>1.856640</td>\n",
       "      <td>1.933195</td>\n",
       "      <td>1.984154</td>\n",
       "    </tr>\n",
       "    <tr>\n",
       "      <th>2</th>\n",
       "      <td>1.817445</td>\n",
       "      <td>1.919421</td>\n",
       "      <td>1.962182</td>\n",
       "      <td>1.990988</td>\n",
       "    </tr>\n",
       "    <tr>\n",
       "      <th>3</th>\n",
       "      <td>1.886957</td>\n",
       "      <td>1.950179</td>\n",
       "      <td>1.976657</td>\n",
       "      <td>1.994447</td>\n",
       "    </tr>\n",
       "    <tr>\n",
       "      <th>4</th>\n",
       "      <td>1.927546</td>\n",
       "      <td>1.968474</td>\n",
       "      <td>1.985341</td>\n",
       "      <td>1.996535</td>\n",
       "    </tr>\n",
       "  </tbody>\n",
       "</table>\n",
       "</div>"
      ],
      "text/plain": [
       "      rve_0     rve_1     rve_2     rve_3\n",
       "0  1.105544  1.649991  1.843320  1.963804\n",
       "1  1.669404  1.856640  1.933195  1.984154\n",
       "2  1.817445  1.919421  1.962182  1.990988\n",
       "3  1.886957  1.950179  1.976657  1.994447\n",
       "4  1.927546  1.968474  1.985341  1.996535"
      ]
     },
     "execution_count": 30,
     "metadata": {},
     "output_type": "execute_result"
    }
   ],
   "source": [
    "dfve2=pd.DataFrame()\n",
    "dfve2['rve_0'] = dfve1['eve_0'] / dfve1['eve_1']\n",
    "dfve2['rve_1'] = dfve1['eve_1'] / dfve1['eve_2']\n",
    "dfve2['rve_2'] = dfve1['eve_2'] / dfve1['eve_3']\n",
    "dfve2['rve_3'] = dfve1['eve_3'] / dfve1['eve_4']\n",
    "dfve2['rve_3'] = dfve1['eve_4'] / dfve1['eve_5']\n",
    "\n",
    "dfve2.head(5)"
   ]
  },
  {
   "cell_type": "markdown",
   "metadata": {
    "tags": []
   },
   "source": [
    "Як і в попередньому випадку, отримані значення узгоджуються з теоретичними результатами. Як і очікувалося, значення швидкості близькі до числа 2."
   ]
  },
  {
   "cell_type": "code",
   "execution_count": null,
   "metadata": {},
   "outputs": [],
   "source": []
  }
 ],
 "metadata": {
  "kernelspec": {
   "display_name": "Python 3 (ipykernel)",
   "language": "python",
   "name": "python3"
  },
  "language_info": {
   "codemirror_mode": {
    "name": "ipython",
    "version": 3
   },
   "file_extension": ".py",
   "mimetype": "text/x-python",
   "name": "python",
   "nbconvert_exporter": "python",
   "pygments_lexer": "ipython3",
   "version": "3.9.7"
  }
 },
 "nbformat": 4,
 "nbformat_minor": 4
}
