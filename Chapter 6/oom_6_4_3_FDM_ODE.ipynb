{
 "cells": [
  {
   "cell_type": "markdown",
   "metadata": {
    "id": "uDSAycn9QF1Y"
   },
   "source": [
    "# 6.4. Чисельне розв'язування крайових задач для звичайних диференціальних рівнянь\n",
    "---------------------"
   ]
  },
  {
   "cell_type": "markdown",
   "metadata": {
    "id": "TrvVaZ02QF1h"
   },
   "source": [
    "## 6.4.3.  Розв'язування крайових задач для ЗДР методом скінчених різниць (сіток) "
   ]
  },
  {
   "cell_type": "markdown",
   "metadata": {},
   "source": [
    "Розглянемо крайову задачу \n",
    "\n",
    "$(1)\\quad\\qquad\\qquad\\qquad u''+q(x)u=f(x), \\quad x \\in (0,l),$\n",
    "\n",
    "$(2)\\quad\\qquad\\qquad\\qquad \\alpha_0u'(0)+\\beta_0u(0)=\\gamma_0,$\n",
    "\n",
    "$(3)\\quad\\qquad\\qquad\\qquad\\alpha_1u'(l)+\\beta_1u(l)=\\gamma_1,$\n",
    "\n",
    "де $q, f\\in C([0,l])$, а $\\alpha_0,  \\beta_0, \\gamma_0, \\alpha_1,  \\beta_1, \\gamma_1$ -- сталі, причому  \n",
    "$|\\alpha_{0}|+|\\beta_{0}|> 0,\\quad |\\alpha_{1}|+|\\beta_{1}|> 0$.\n",
    "\n",
    "Нехай ця задача має і тільки один розв'язок $C^2[0,l]$.  "
   ]
  },
  {
   "cell_type": "markdown",
   "metadata": {},
   "source": [
    "Побудуємо сітку з $N+1, \\; N\\in \\mathbb{N},$ точок\n",
    "$x_i=ih,\\quad i=\\overline{0,N}$, де $h:=\\dfrac{l}{N}$.\n",
    "\n",
    "У методі скінчених різниць чисельним розв'язком крайової задачі (1)-(3) є наближення сіткових значень $u_i,\\, i=\\overline{0,N},$  розв'язку   $u$ у вузлах $x_i,\\, i=\\overline{0,N}.$\n",
    "\n",
    "Після заміни похідних першого і другого порядку від функції $u$ у вузлах сітки різницевими співвідношеннями матимемо СЛАР \n",
    "\n",
    "$(4)\\quad\\qquad\\qquad\\qquad \\sum_{i=0}^{N}c_{ij}u_i=d_j,\\quad j=\\overline{0,N},$\n",
    "\n",
    "з квадратною тридіагональною матрицею\n",
    "$$\n",
    "C=\n",
    "\\begin{pmatrix}\n",
    "-\\alpha_0+\\beta_0h& \\alpha_0& 0& \\ldots& 0& 0& 0\\\\\n",
    "1& h^2q_1-2& 1& \\ldots& 0& 0& 0\\\\\n",
    "0& 1& h^2q_2-2& \\ldots& 0& 0& 0\\\\\n",
    "\\ldots& \\ldots& \\ldots& \\ldots& \\ldots& \\ldots& \\ldots\\\\\n",
    "0& 0& 0& \\ldots& 1& h^2q_{N-1}-2& 1\\\\\n",
    "0& 0& 0& \\ldots& 0& -\\alpha_1& \\alpha_1+h\\beta_1\n",
    "\\end{pmatrix}\n",
    "$$\n",
    "і вектором вільних членів $d$, де \n",
    "$d_0 = h\\gamma_0, \\; d_N= h\\gamma_1, \\; d_i=h^2 f(x_i),\\; i=\\overline{1,N-1}$.\n",
    "\n",
    "Беручи до уваги діагональну структуру матриці, розв'язок СЛАР (4) знаходимо методом прогонки. Отриманий вектор і буде шуканим чисельним розв'язком крайової задачі (1)-(3). "
   ]
  },
  {
   "cell_type": "markdown",
   "metadata": {
    "id": "C56etMUzw6qS",
    "tags": []
   },
   "source": [
    "#### Пояснення до використання програмного коду\n",
    "-----------------\n",
    "*   Підготувати потрібні функції : \n",
    "    1.   виконати комірку для підготовки середовища \n",
    "    2.   виконати комірки, де **визначені** функції ``FDA_solver``,``set_matrix_diagonals_and_vector`` і ``tridiagonal_matrix_algorithm``    \n",
    "\n",
    "*    Обчислити чисельний розв'язок конкретної крайової задачі :\n",
    "     1.  виконати комірку, де **визначені** функції ``q``  і ``f``, які задають конкретну крайову задачу \n",
    "     2.  виконати комірку, в якій задано усі параметри крайової задачі \n",
    "     3.  виконати комірку з викликом функції ``FDA_solver``, перед виконанням задати відповідні аргументи цієї функції.\n",
    "\n",
    "*    Задання параметра сітки і обчислення матриці та вектора вільних членів СЛАР :\n",
    "     1.   виконати комірку, в якій задано параметр  $N$\n",
    "     2.   виконати комірку з викликом функції set_matrix_diagonals_and_vector\n",
    "\n",
    "*   Знайти чисельний розв'язок крайової задачі:\n",
    "     1. Виконати комірку з викликом функції tridiagonal_matrix_algorithm"
   ]
  },
  {
   "cell_type": "markdown",
   "metadata": {
    "tags": []
   },
   "source": [
    "#### Програмна реалізація методів\n",
    "------------"
   ]
  },
  {
   "cell_type": "markdown",
   "metadata": {
    "tags": []
   },
   "source": [
    ">#### Підготовка середовища"
   ]
  },
  {
   "cell_type": "code",
   "execution_count": 1,
   "metadata": {},
   "outputs": [],
   "source": [
    "%matplotlib widget\n",
    "import matplotlib.pyplot as plt\n",
    "import numpy as np\n",
    "import pandas as pd"
   ]
  },
  {
   "cell_type": "markdown",
   "metadata": {
    "id": "ocZR4xN_cvNf",
    "tags": []
   },
   "source": [
    ">#### ``FDA_solver`` -- функція, яка отримує вхідні параметри чисельного методу, формує масиви значень розв'язку на межі області, задає матрицю і вектор вільних членів  СЛАР, знаходить значення чисельного розв'язку у внутрішніх вузлах сітки і повертає вектор, який містить значення розв'язку у всіх точках сітки. За замовчуванням ( при ``plotting=True``) будуються графіки чисельного розв'язку задачі.\n",
    "    \n"
   ]
  },
  {
   "cell_type": "code",
   "execution_count": 2,
   "metadata": {},
   "outputs": [],
   "source": [
    "def FDA_solver(f,q, alpha0,alpha1,beta0,beta1, gamma0, gamma1,l,N):\n",
    "    \"\"\" Розв'язування крайових задач (1)-(3) \n",
    "        методом скінчених різниць \n",
    "    \"\"\"      \n",
    "    c,a,b,d,x = set_matrix_diagonals_and_vector(f,q,alpha0,alpha1,beta0,beta1, gamma0, gamma1,l,N)\n",
    "    u = tridiagonal_matrix_algorithm(a,b,c,d)\n",
    "    return u,x"
   ]
  },
  {
   "cell_type": "markdown",
   "metadata": {
    "id": "JML_Qdgo363W"
   },
   "source": [
    ">### ``set_matrix_diagonals_and_vector`` -- функція для задання діагоналей матриці $C$ і вектора $d$"
   ]
  },
  {
   "cell_type": "code",
   "execution_count": 3,
   "metadata": {
    "id": "IdDn2xvxQF1n"
   },
   "outputs": [],
   "source": [
    "def set_matrix_diagonals_and_vector(f,q,alpha0,alpha1,beta0,beta1, gamma0, gamma1,l,N):\n",
    "    \"\"\" функція задає 3 діагоналі матриці і вектор вільних членів СЛАР \"\"\"\n",
    "    \n",
    "    h=l/N\n",
    "    h2=h*h\n",
    "    x=np.linspace(0, l, N+1)\n",
    "    \n",
    "    c = np.empty(N+1, dtype=float ) \n",
    "    for i in range(1,N): \n",
    "        c[i] = h2*q(x[i])-2\n",
    "    c[0] = -alpha0+h*beta0\n",
    "    c[N] =  alpha1+h*beta1   \n",
    "    \n",
    "    a=np.ones(N+1, dtype=float)\n",
    "    a[0] = 0\n",
    "    a[N] = -alpha1   \n",
    "    \n",
    "    b=np.ones(N+1, dtype=float)\n",
    "    b[0] = alpha0\n",
    "    b[N] = 0 \n",
    "    \n",
    "    d = np.empty(N+1, dtype=float ) \n",
    "    for i in range(1,N): \n",
    "        d[i] = h2*f(x[i])\n",
    "    d[0]=h*gamma0\n",
    "    d[N]=h*gamma1\n",
    "    \n",
    "    return c,a,b,d,x"
   ]
  },
  {
   "cell_type": "markdown",
   "metadata": {
    "id": "ocZR4xN_cvNf"
   },
   "source": [
    ">#### ``tridiagonal_matrix_algorithm`` -- функція, яка реалізує метод прогонки для розв'язування СЛАР"
   ]
  },
  {
   "cell_type": "code",
   "execution_count": 4,
   "metadata": {
    "id": "0qc5BcctO5t2"
   },
   "outputs": [],
   "source": [
    "def tridiagonal_matrix_algorithm(a,b,c,g):\n",
    "    \"\"\" метод прогонки для розв'язування СЛАР\n",
    "        з 3-діагональною матрицею \n",
    "        вектор с-головна діагональ\n",
    "        вектори a i b - нижня і верхня діагоналі, паралельні головній\n",
    "        вектор g - вільні члени\n",
    "      \"\"\"\n",
    "    n1=c.size\n",
    "   \n",
    "    alpha = np.empty(n1, dtype=float ) \n",
    "    beta  = np.empty(n1, dtype=float )\n",
    "    \n",
    "    if c[0] !=0 :\n",
    "        alpha[0] =-b[0]/c[0]\n",
    "        beta [0] = g[0]/c[0]\n",
    "    else:\n",
    "        raise Exception('c[0]==0') \n",
    "    \n",
    "    for i in range(1,n1):\n",
    "        w=a[i]*alpha[i-1]+c[i]\n",
    "        if w != 0 :\n",
    "            alpha[i] =-b[i]/w\n",
    "            beta[i]  = (g[i] - a[i]*beta[i-1])/w\n",
    "        else:\n",
    "            raise Exception('w==0')\n",
    "        \n",
    "    x = np.empty(n1, dtype=float )\n",
    "    n = n1-1\n",
    "    x[n] = beta[n]\n",
    "    for i in range(n-1,-1,-1):\n",
    "        x[i] = alpha[i]*x[i+1] + beta[i]\n",
    "    return x"
   ]
  },
  {
   "cell_type": "markdown",
   "metadata": {
    "tags": []
   },
   "source": [
    ">#### ``f`` і ``q`` -- функції, які задають конкретне рівняння "
   ]
  },
  {
   "cell_type": "markdown",
   "metadata": {
    "tags": []
   },
   "source": [
    "#### Обчислювальні експерименти\n",
    "------------"
   ]
  },
  {
   "cell_type": "markdown",
   "metadata": {
    "tags": []
   },
   "source": [
    "Продемонструємо застосування методу скінчених різниць для знаходження чисельного розв'язку задачі (1)-(3)."
   ]
  },
  {
   "cell_type": "markdown",
   "metadata": {
    "tags": []
   },
   "source": [
    "##### Приклад 1.\n",
    "Отримати методом скінчених різниць чисельний розв'язок крайової задачі \n",
    "\n",
    "$ u'' + u =1 $ на відрізку $[0, \\pi/2]$, $\\; u(0)=0, \\; u'(\\pi/2)=1$. "
   ]
  },
  {
   "cell_type": "markdown",
   "metadata": {
    "tags": []
   },
   "source": [
    "Легко бачити, що функція $u(x) = 1 - cos(x)$ є розв'язком такої задачі."
   ]
  },
  {
   "cell_type": "markdown",
   "metadata": {
    "tags": []
   },
   "source": [
    "Отож, задамо відомі функції, що фігурують в рівнянні:"
   ]
  },
  {
   "cell_type": "code",
   "execution_count": 50,
   "metadata": {},
   "outputs": [],
   "source": [
    "def f1(x):\n",
    "    return 1\n",
    "def q1(x):\n",
    "    return 1"
   ]
  },
  {
   "cell_type": "markdown",
   "metadata": {
    "tags": []
   },
   "source": [
    "А також значення усіх параметрів задачі:"
   ]
  },
  {
   "cell_type": "code",
   "execution_count": 51,
   "metadata": {
    "id": "tp8_4AioQF1q"
   },
   "outputs": [],
   "source": [
    "l=np.pi/2\n",
    "\n",
    "alpha0=0\n",
    "beta0=1\n",
    "gamma0=0\n",
    "\n",
    "alpha1=1\n",
    "beta1=0\n",
    "gamma1=1"
   ]
  },
  {
   "cell_type": "markdown",
   "metadata": {
    "tags": []
   },
   "source": [
    "Для фіксування початкового розміру сітки будемо використовувати параметр ``N_start``. Задамо його значення і спочатку обчислимо на досить густій сітці значення аналітичного (точного) розв'язку, а потім знайдемо чисельні розв'язки задачі на послідовності сіток, подвоюючи кожного разу кількість вузлів:"
   ]
  },
  {
   "cell_type": "code",
   "execution_count": 52,
   "metadata": {},
   "outputs": [],
   "source": [
    "N_start=5\n",
    "x=np.linspace(0, l, N_start*64+1)\n",
    "u = 1 - np.cos(x)"
   ]
  },
  {
   "cell_type": "code",
   "execution_count": 53,
   "metadata": {},
   "outputs": [],
   "source": [
    "N = N_start\n",
    "u_0,x0 = FDA_solver(f1,q1, alpha0,alpha1,beta0,beta1, gamma0, gamma1,l,N)\n",
    "\n",
    "N *= 2 \n",
    "u_1,x1 = FDA_solver(f1,q1, alpha0,alpha1,beta0,beta1, gamma0, gamma1,l,N)\n",
    "\n",
    "N *= 2 \n",
    "u_2,x2 = FDA_solver(f1,q1, alpha0,alpha1,beta0,beta1, gamma0, gamma1,l,N)\n",
    "\n",
    "N *= 2 \n",
    "u_3,x3 = FDA_solver(f1,q1, alpha0,alpha1,beta0,beta1, gamma0, gamma1,l,N)\n",
    "\n",
    "N *= 2 \n",
    "u_4,x4 = FDA_solver(f1,q1, alpha0,alpha1,beta0,beta1, gamma0, gamma1,l,N)\n",
    "\n",
    "N *= 2 \n",
    "u_5,x5 = FDA_solver(f1,q1, alpha0,alpha1,beta0,beta1, gamma0, gamma1,l,N)"
   ]
  },
  {
   "cell_type": "markdown",
   "metadata": {
    "tags": []
   },
   "source": [
    "Побудуємо графіки отриманих  розв'язків:"
   ]
  },
  {
   "cell_type": "code",
   "execution_count": 54,
   "metadata": {
    "tags": []
   },
   "outputs": [
    {
     "data": {
      "application/vnd.jupyter.widget-view+json": {
       "model_id": "321fd72fd5db4388916eb670eb1538b2",
       "version_major": 2,
       "version_minor": 0
      },
      "text/plain": [
       "Canvas(toolbar=Toolbar(toolitems=[('Home', 'Reset original view', 'home', 'home'), ('Back', 'Back to previous …"
      ]
     },
     "metadata": {},
     "output_type": "display_data"
    }
   ],
   "source": [
    "fig = plt.figure(figsize=(8, 5))\n",
    "plt.plot(x, u, label='u')\n",
    "plt.plot(x0, u_0, label='u_0')\n",
    "plt.plot(x1, u_1, label='u_1')\n",
    "\n",
    "plt.plot(x2, u_2, label='u_2')\n",
    "plt.plot(x3, u_3, label='u_3')\n",
    "plt.plot(x4, u_4, label='u_4')\n",
    "plt.plot(x5, u_5, label='u_5')\n",
    "ax = fig.gca()\n",
    "ax.legend();"
   ]
  },
  {
   "cell_type": "markdown",
   "metadata": {
    "tags": []
   },
   "source": [
    "Зазначимо, що бібліотечна функція ``plot`` при побудові графіків виконує лінійну інтерполяцію по значеннях, заданих у вузлах сітки. Нагадаємо також, що в режимі ``Zoom to rectangle`` можна маштабувати зображення на графічній панелі.\n",
    "\n",
    "Отож, як видно з отриманих графіків, чисельні розв'язки швидко збігаються до точного розв'язку. \n",
    "\n",
    "Для точнішого аналізу збережемо отримані дані в таблиці, розглядаючи чисельні розв'язки лише на множині вузлів, яка є перетином побудованої послідовності сіток:"
   ]
  },
  {
   "cell_type": "code",
   "execution_count": 32,
   "metadata": {
    "tags": []
   },
   "outputs": [
    {
     "data": {
      "text/html": [
       "<div>\n",
       "<style scoped>\n",
       "    .dataframe tbody tr th:only-of-type {\n",
       "        vertical-align: middle;\n",
       "    }\n",
       "\n",
       "    .dataframe tbody tr th {\n",
       "        vertical-align: top;\n",
       "    }\n",
       "\n",
       "    .dataframe thead th {\n",
       "        text-align: right;\n",
       "    }\n",
       "</style>\n",
       "<table border=\"1\" class=\"dataframe\">\n",
       "  <thead>\n",
       "    <tr style=\"text-align: right;\">\n",
       "      <th></th>\n",
       "      <th>x</th>\n",
       "      <th>u_0</th>\n",
       "      <th>u_1</th>\n",
       "      <th>u_2</th>\n",
       "      <th>u_3</th>\n",
       "      <th>u_4</th>\n",
       "      <th>u_5</th>\n",
       "      <th>u</th>\n",
       "    </tr>\n",
       "  </thead>\n",
       "  <tbody>\n",
       "    <tr>\n",
       "      <th>0</th>\n",
       "      <td>0.314159</td>\n",
       "      <td>0.072848</td>\n",
       "      <td>0.060959</td>\n",
       "      <td>0.054977</td>\n",
       "      <td>0.051968</td>\n",
       "      <td>0.050458</td>\n",
       "      <td>0.049701</td>\n",
       "      <td>0.048943</td>\n",
       "    </tr>\n",
       "    <tr>\n",
       "      <th>1</th>\n",
       "      <td>0.628319</td>\n",
       "      <td>0.237203</td>\n",
       "      <td>0.214025</td>\n",
       "      <td>0.202507</td>\n",
       "      <td>0.196749</td>\n",
       "      <td>0.193867</td>\n",
       "      <td>0.192425</td>\n",
       "      <td>0.190983</td>\n",
       "    </tr>\n",
       "    <tr>\n",
       "      <th>2</th>\n",
       "      <td>0.942478</td>\n",
       "      <td>0.476843</td>\n",
       "      <td>0.444186</td>\n",
       "      <td>0.428141</td>\n",
       "      <td>0.420167</td>\n",
       "      <td>0.416188</td>\n",
       "      <td>0.414201</td>\n",
       "      <td>0.412215</td>\n",
       "    </tr>\n",
       "    <tr>\n",
       "      <th>3</th>\n",
       "      <td>1.256637</td>\n",
       "      <td>0.768116</td>\n",
       "      <td>0.728865</td>\n",
       "      <td>0.709781</td>\n",
       "      <td>0.700350</td>\n",
       "      <td>0.695659</td>\n",
       "      <td>0.693319</td>\n",
       "      <td>0.690983</td>\n",
       "    </tr>\n",
       "  </tbody>\n",
       "</table>\n",
       "</div>"
      ],
      "text/plain": [
       "          x       u_0       u_1       u_2       u_3       u_4       u_5  \\\n",
       "0  0.314159  0.072848  0.060959  0.054977  0.051968  0.050458  0.049701   \n",
       "1  0.628319  0.237203  0.214025  0.202507  0.196749  0.193867  0.192425   \n",
       "2  0.942478  0.476843  0.444186  0.428141  0.420167  0.416188  0.414201   \n",
       "3  1.256637  0.768116  0.728865  0.709781  0.700350  0.695659  0.693319   \n",
       "\n",
       "          u  \n",
       "0  0.048943  \n",
       "1  0.190983  \n",
       "2  0.412215  \n",
       "3  0.690983  "
      ]
     },
     "execution_count": 32,
     "metadata": {},
     "output_type": "execute_result"
    }
   ],
   "source": [
    "df=pd.DataFrame({'x':x0[1:x0.size-1:],'u_0':u_0[1:u_0.size-1:],'u_1':u_1[2:u_1.size-2:2],'u_2':u_2[4:u_2.size-4:4],'u_3':u_3[8:u_3.size-8:8],'u_4':u_4[16:u_4.size-16:16],'u_5':u_5[32:u_5.size-32:32],'u':u[64:u.size-64:64]})\n",
    "df"
   ]
  },
  {
   "cell_type": "markdown",
   "metadata": {
    "tags": []
   },
   "source": [
    "Обчислимо абсолютні похибки отриманих розв'язків:"
   ]
  },
  {
   "cell_type": "code",
   "execution_count": 33,
   "metadata": {},
   "outputs": [
    {
     "data": {
      "text/html": [
       "<div>\n",
       "<style scoped>\n",
       "    .dataframe tbody tr th:only-of-type {\n",
       "        vertical-align: middle;\n",
       "    }\n",
       "\n",
       "    .dataframe tbody tr th {\n",
       "        vertical-align: top;\n",
       "    }\n",
       "\n",
       "    .dataframe thead th {\n",
       "        text-align: right;\n",
       "    }\n",
       "</style>\n",
       "<table border=\"1\" class=\"dataframe\">\n",
       "  <thead>\n",
       "    <tr style=\"text-align: right;\">\n",
       "      <th></th>\n",
       "      <th>e_0</th>\n",
       "      <th>e_1</th>\n",
       "      <th>e_2</th>\n",
       "      <th>e_3</th>\n",
       "      <th>e_4</th>\n",
       "      <th>e_5</th>\n",
       "    </tr>\n",
       "  </thead>\n",
       "  <tbody>\n",
       "    <tr>\n",
       "      <th>0</th>\n",
       "      <td>0.023905</td>\n",
       "      <td>0.012015</td>\n",
       "      <td>0.006034</td>\n",
       "      <td>0.003025</td>\n",
       "      <td>0.001515</td>\n",
       "      <td>0.000758</td>\n",
       "    </tr>\n",
       "    <tr>\n",
       "      <th>1</th>\n",
       "      <td>0.046220</td>\n",
       "      <td>0.023042</td>\n",
       "      <td>0.011524</td>\n",
       "      <td>0.005766</td>\n",
       "      <td>0.002884</td>\n",
       "      <td>0.001442</td>\n",
       "    </tr>\n",
       "    <tr>\n",
       "      <th>2</th>\n",
       "      <td>0.064628</td>\n",
       "      <td>0.031971</td>\n",
       "      <td>0.015927</td>\n",
       "      <td>0.007952</td>\n",
       "      <td>0.003973</td>\n",
       "      <td>0.001986</td>\n",
       "    </tr>\n",
       "    <tr>\n",
       "      <th>3</th>\n",
       "      <td>0.077133</td>\n",
       "      <td>0.037882</td>\n",
       "      <td>0.018798</td>\n",
       "      <td>0.009367</td>\n",
       "      <td>0.004676</td>\n",
       "      <td>0.002336</td>\n",
       "    </tr>\n",
       "  </tbody>\n",
       "</table>\n",
       "</div>"
      ],
      "text/plain": [
       "        e_0       e_1       e_2       e_3       e_4       e_5\n",
       "0  0.023905  0.012015  0.006034  0.003025  0.001515  0.000758\n",
       "1  0.046220  0.023042  0.011524  0.005766  0.002884  0.001442\n",
       "2  0.064628  0.031971  0.015927  0.007952  0.003973  0.001986\n",
       "3  0.077133  0.037882  0.018798  0.009367  0.004676  0.002336"
      ]
     },
     "execution_count": 33,
     "metadata": {},
     "output_type": "execute_result"
    }
   ],
   "source": [
    "df1=pd.DataFrame()\n",
    "df1['e_0']=np.abs(df['u']-df['u_0'])\n",
    "df1['e_1']=np.abs(df['u']-df['u_1'])\n",
    "df1['e_2']=np.abs(df['u']-df['u_2'])\n",
    "df1['e_3']=np.abs(df['u']-df['u_3'])\n",
    "df1['e_4']=np.abs(df['u']-df['u_4'])\n",
    "df1['e_5']=np.abs(df['u']-df['u_5'])\n",
    "df1"
   ]
  },
  {
   "cell_type": "markdown",
   "metadata": {
    "tags": []
   },
   "source": [
    "Побудуємо графіки похибок в логарифмічній шкалі:"
   ]
  },
  {
   "cell_type": "code",
   "execution_count": 34,
   "metadata": {
    "tags": []
   },
   "outputs": [
    {
     "data": {
      "application/vnd.jupyter.widget-view+json": {
       "model_id": "d0e18030f0bb444896fe7dbaf5918a56",
       "version_major": 2,
       "version_minor": 0
      },
      "text/plain": [
       "Canvas(toolbar=Toolbar(toolitems=[('Home', 'Reset original view', 'home', 'home'), ('Back', 'Back to previous …"
      ]
     },
     "metadata": {},
     "output_type": "display_data"
    }
   ],
   "source": [
    "fig = plt.figure(figsize=(8, 5))\n",
    "df1.e_0.plot(logy=True)\n",
    "df1.e_1.plot(logy=True)\n",
    "df1.e_2.plot(logy=True)\n",
    "df1.e_3.plot(logy=True)\n",
    "df1.e_4.plot(logy=True)\n",
    "df1.e_5.plot(logy=True)\n",
    "ax = fig.gca()\n",
    "ax.legend();"
   ]
  },
  {
   "cell_type": "markdown",
   "metadata": {},
   "source": [
    "Обчислимо для кожного чисельного розв'язку його абсолютну похибку ``ne_*`` за нормою $\\| \\cdot \\|_\\infty$:"
   ]
  },
  {
   "cell_type": "code",
   "execution_count": 35,
   "metadata": {},
   "outputs": [
    {
     "name": "stdout",
     "output_type": "stream",
     "text": [
      " ne_0=7.71e-02\n",
      " ne_1=3.79e-02\n",
      " ne_2=1.88e-02\n",
      " ne_3=9.37e-03\n",
      " ne_4=4.68e-03\n",
      " ne_5=2.34e-03\n"
     ]
    }
   ],
   "source": [
    "ne_0 = max(np.abs(df1['e_0']))\n",
    "ne_1 = max(np.abs(df1['e_1']))\n",
    "ne_2 = max(np.abs(df1['e_2']))\n",
    "ne_3 = max(np.abs(df1['e_3']))\n",
    "ne_4 = max(np.abs(df1['e_4']))\n",
    "ne_5 = max(np.abs(df1['e_5']))\n",
    "print(f\" ne_0={ne_0:1.2e}\\n ne_1={ne_1:1.2e}\\n ne_2={ne_2:1.2e}\\n ne_3={ne_3:1.2e}\\n ne_4={ne_4:1.2e}\\n ne_5={ne_5:1.2e}\")"
   ]
  },
  {
   "cell_type": "markdown",
   "metadata": {
    "tags": []
   },
   "source": [
    "Як бачимо, подвоєння кількості вузлів сітки зумовлює зменшення вдвічі зазначеної похибки. Якщо порахуємо так звану швидкість збіжності, то отримаємо дуже близьке до 2 значення:"
   ]
  },
  {
   "cell_type": "code",
   "execution_count": 37,
   "metadata": {},
   "outputs": [
    {
     "data": {
      "text/html": [
       "<div>\n",
       "<style scoped>\n",
       "    .dataframe tbody tr th:only-of-type {\n",
       "        vertical-align: middle;\n",
       "    }\n",
       "\n",
       "    .dataframe tbody tr th {\n",
       "        vertical-align: top;\n",
       "    }\n",
       "\n",
       "    .dataframe thead th {\n",
       "        text-align: right;\n",
       "    }\n",
       "</style>\n",
       "<table border=\"1\" class=\"dataframe\">\n",
       "  <thead>\n",
       "    <tr style=\"text-align: right;\">\n",
       "      <th></th>\n",
       "      <th>r_0</th>\n",
       "      <th>r_1</th>\n",
       "      <th>r_2</th>\n",
       "      <th>r_3</th>\n",
       "      <th>r_4</th>\n",
       "    </tr>\n",
       "  </thead>\n",
       "  <tbody>\n",
       "    <tr>\n",
       "      <th>0</th>\n",
       "      <td>1.989555</td>\n",
       "      <td>1.991292</td>\n",
       "      <td>1.994750</td>\n",
       "      <td>1.997147</td>\n",
       "      <td>1.998516</td>\n",
       "    </tr>\n",
       "    <tr>\n",
       "      <th>1</th>\n",
       "      <td>2.005872</td>\n",
       "      <td>1.999455</td>\n",
       "      <td>1.998844</td>\n",
       "      <td>1.999198</td>\n",
       "      <td>1.999543</td>\n",
       "    </tr>\n",
       "    <tr>\n",
       "      <th>2</th>\n",
       "      <td>2.021432</td>\n",
       "      <td>2.007431</td>\n",
       "      <td>2.002890</td>\n",
       "      <td>2.001237</td>\n",
       "      <td>2.000566</td>\n",
       "    </tr>\n",
       "    <tr>\n",
       "      <th>3</th>\n",
       "      <td>2.036130</td>\n",
       "      <td>2.015192</td>\n",
       "      <td>2.006883</td>\n",
       "      <td>2.003263</td>\n",
       "      <td>2.001587</td>\n",
       "    </tr>\n",
       "  </tbody>\n",
       "</table>\n",
       "</div>"
      ],
      "text/plain": [
       "        r_0       r_1       r_2       r_3       r_4\n",
       "0  1.989555  1.991292  1.994750  1.997147  1.998516\n",
       "1  2.005872  1.999455  1.998844  1.999198  1.999543\n",
       "2  2.021432  2.007431  2.002890  2.001237  2.000566\n",
       "3  2.036130  2.015192  2.006883  2.003263  2.001587"
      ]
     },
     "execution_count": 37,
     "metadata": {},
     "output_type": "execute_result"
    }
   ],
   "source": [
    "df2=pd.DataFrame()\n",
    "df2['r_0'] = df1['e_0'] / df1['e_1']\n",
    "df2['r_1'] = df1['e_1'] / df1['e_2']\n",
    "df2['r_2'] = df1['e_2'] / df1['e_3']\n",
    "df2['r_3'] = df1['e_3'] / df1['e_4']\n",
    "df2['r_4'] = df1['e_4'] / df1['e_5']\n",
    "\n",
    "df2"
   ]
  },
  {
   "cell_type": "markdown",
   "metadata": {
    "tags": []
   },
   "source": [
    "##### Приклад 2.\n",
    "(Приклад 6.5) Отримати методом скінчених різниць чисельний розв'язок крайової задачі \n",
    "\n",
    "$ u'' - (x+1)u = x^2 $ на відрізку $[0, 3]$, $\\; u(0)=0, \\; u(3)=0$. "
   ]
  },
  {
   "cell_type": "markdown",
   "metadata": {
    "tags": []
   },
   "source": [
    "Виконуємо ті самі кроки, що і в попередньому прикладі. Відмінність лише у тому, що точний розв'язок такої задачі невідомий.\n",
    "\n",
    "Отож, визначимо потрібні функції та задамо значення параметрів задачі:"
   ]
  },
  {
   "cell_type": "code",
   "execution_count": 39,
   "metadata": {
    "id": "tp8_4AioQF1q"
   },
   "outputs": [],
   "source": [
    "def f2(x):\n",
    "    return x*x\n",
    "\n",
    "def q2(x):\n",
    "    return -(x+1)\n",
    "\n",
    "l=3\n",
    "\n",
    "alpha0=0\n",
    "beta0=1\n",
    "gamma0=0\n",
    "\n",
    "alpha1=0\n",
    "beta1=1\n",
    "gamma1=0"
   ]
  },
  {
   "cell_type": "markdown",
   "metadata": {
    "tags": []
   },
   "source": [
    "Знаходимо чисельні розв'язки на послідовності сіток, у яких на кожному кроці подвоюється кількість вузлів:"
   ]
  },
  {
   "cell_type": "code",
   "execution_count": 40,
   "metadata": {
    "tags": []
   },
   "outputs": [],
   "source": [
    "N_start=10\n",
    "N = N_start\n",
    "u_0,x0 = FDA_solver(f2,q2, alpha0,alpha1,beta0,beta1, gamma0, gamma1,l,N)\n",
    "N *= 2 \n",
    "u_1,x1 = FDA_solver(f2,q2, alpha0,alpha1,beta0,beta1, gamma0, gamma1,l,N)\n",
    "N *= 2 \n",
    "u_2,x2 = FDA_solver(f2,q2, alpha0,alpha1,beta0,beta1, gamma0, gamma1,l,N)\n",
    "N *= 2 \n",
    "u_3,x3 = FDA_solver(f2,q2, alpha0,alpha1,beta0,beta1, gamma0, gamma1,l,N)\n",
    "N *= 2 \n",
    "u_4,x4 = FDA_solver(f2,q2, alpha0,alpha1,beta0,beta1, gamma0, gamma1,l,N)\n",
    "N *= 2 \n",
    "u_5,x5 = FDA_solver(f2,q2, alpha0,alpha1,beta0,beta1, gamma0, gamma1,l,N)\n",
    "N *= 2 \n",
    "u_6,x6 = FDA_solver(f2,q2, alpha0,alpha1,beta0,beta1, gamma0, gamma1,l,N)"
   ]
  },
  {
   "cell_type": "markdown",
   "metadata": {
    "tags": []
   },
   "source": [
    "Побудуємо графіки отриманих розв'язків:"
   ]
  },
  {
   "cell_type": "code",
   "execution_count": 41,
   "metadata": {
    "tags": []
   },
   "outputs": [
    {
     "data": {
      "application/vnd.jupyter.widget-view+json": {
       "model_id": "64abb0f0868846a882c1a8c9a2a40bdb",
       "version_major": 2,
       "version_minor": 0
      },
      "text/plain": [
       "Canvas(toolbar=Toolbar(toolitems=[('Home', 'Reset original view', 'home', 'home'), ('Back', 'Back to previous …"
      ]
     },
     "metadata": {},
     "output_type": "display_data"
    }
   ],
   "source": [
    "fig = plt.figure(figsize=(8, 5))\n",
    "\n",
    "plt.plot(x0, u_0, label='u_0')\n",
    "plt.plot(x1, u_1, label='u_1')\n",
    "plt.plot(x2, u_2, label='u_2')\n",
    "plt.plot(x3, u_3, label='u_3')\n",
    "plt.plot(x4, u_4, label='u_4')\n",
    "plt.plot(x5, u_5, label='u_5')\n",
    "plt.plot(x6, u_6, label='u_6')\n",
    "ax = fig.gca()\n",
    "ax.legend();"
   ]
  },
  {
   "cell_type": "markdown",
   "metadata": {
    "tags": []
   },
   "source": [
    "Візуально спостерігаємо збіжність чисельних розв'язків до деякої функції. Для кількісного аналізу збережемо дані в таблиці:"
   ]
  },
  {
   "cell_type": "code",
   "execution_count": 42,
   "metadata": {},
   "outputs": [
    {
     "data": {
      "text/html": [
       "<div>\n",
       "<style scoped>\n",
       "    .dataframe tbody tr th:only-of-type {\n",
       "        vertical-align: middle;\n",
       "    }\n",
       "\n",
       "    .dataframe tbody tr th {\n",
       "        vertical-align: top;\n",
       "    }\n",
       "\n",
       "    .dataframe thead th {\n",
       "        text-align: right;\n",
       "    }\n",
       "</style>\n",
       "<table border=\"1\" class=\"dataframe\">\n",
       "  <thead>\n",
       "    <tr style=\"text-align: right;\">\n",
       "      <th></th>\n",
       "      <th>x</th>\n",
       "      <th>u_0</th>\n",
       "      <th>u_1</th>\n",
       "      <th>u_2</th>\n",
       "      <th>u_3</th>\n",
       "      <th>u_4</th>\n",
       "      <th>u_5</th>\n",
       "      <th>u_6</th>\n",
       "    </tr>\n",
       "  </thead>\n",
       "  <tbody>\n",
       "    <tr>\n",
       "      <th>0</th>\n",
       "      <td>0.3</td>\n",
       "      <td>-0.143329</td>\n",
       "      <td>-0.144571</td>\n",
       "      <td>-0.144885</td>\n",
       "      <td>-0.144964</td>\n",
       "      <td>-0.144983</td>\n",
       "      <td>-0.144988</td>\n",
       "      <td>-0.144989</td>\n",
       "    </tr>\n",
       "    <tr>\n",
       "      <th>1</th>\n",
       "      <td>0.6</td>\n",
       "      <td>-0.295327</td>\n",
       "      <td>-0.297509</td>\n",
       "      <td>-0.298062</td>\n",
       "      <td>-0.298200</td>\n",
       "      <td>-0.298235</td>\n",
       "      <td>-0.298243</td>\n",
       "      <td>-0.298245</td>\n",
       "    </tr>\n",
       "    <tr>\n",
       "      <th>2</th>\n",
       "      <td>0.9</td>\n",
       "      <td>-0.457452</td>\n",
       "      <td>-0.460504</td>\n",
       "      <td>-0.461278</td>\n",
       "      <td>-0.461472</td>\n",
       "      <td>-0.461521</td>\n",
       "      <td>-0.461533</td>\n",
       "      <td>-0.461536</td>\n",
       "    </tr>\n",
       "    <tr>\n",
       "      <th>3</th>\n",
       "      <td>1.2</td>\n",
       "      <td>-0.624901</td>\n",
       "      <td>-0.628958</td>\n",
       "      <td>-0.629989</td>\n",
       "      <td>-0.630248</td>\n",
       "      <td>-0.630312</td>\n",
       "      <td>-0.630329</td>\n",
       "      <td>-0.630333</td>\n",
       "    </tr>\n",
       "    <tr>\n",
       "      <th>4</th>\n",
       "      <td>1.5</td>\n",
       "      <td>-0.786481</td>\n",
       "      <td>-0.791835</td>\n",
       "      <td>-0.793200</td>\n",
       "      <td>-0.793543</td>\n",
       "      <td>-0.793629</td>\n",
       "      <td>-0.793651</td>\n",
       "      <td>-0.793656</td>\n",
       "    </tr>\n",
       "    <tr>\n",
       "      <th>5</th>\n",
       "      <td>1.8</td>\n",
       "      <td>-0.922520</td>\n",
       "      <td>-0.929538</td>\n",
       "      <td>-0.931334</td>\n",
       "      <td>-0.931786</td>\n",
       "      <td>-0.931899</td>\n",
       "      <td>-0.931928</td>\n",
       "      <td>-0.931935</td>\n",
       "    </tr>\n",
       "    <tr>\n",
       "      <th>6</th>\n",
       "      <td>2.1</td>\n",
       "      <td>-0.999433</td>\n",
       "      <td>-1.008353</td>\n",
       "      <td>-1.010646</td>\n",
       "      <td>-1.011223</td>\n",
       "      <td>-1.011368</td>\n",
       "      <td>-1.011404</td>\n",
       "      <td>-1.011413</td>\n",
       "    </tr>\n",
       "    <tr>\n",
       "      <th>7</th>\n",
       "      <td>2.4</td>\n",
       "      <td>-0.958288</td>\n",
       "      <td>-0.968669</td>\n",
       "      <td>-0.971350</td>\n",
       "      <td>-0.972026</td>\n",
       "      <td>-0.972196</td>\n",
       "      <td>-0.972238</td>\n",
       "      <td>-0.972249</td>\n",
       "    </tr>\n",
       "    <tr>\n",
       "      <th>8</th>\n",
       "      <td>2.7</td>\n",
       "      <td>-0.691980</td>\n",
       "      <td>-0.701283</td>\n",
       "      <td>-0.703699</td>\n",
       "      <td>-0.704309</td>\n",
       "      <td>-0.704462</td>\n",
       "      <td>-0.704500</td>\n",
       "      <td>-0.704509</td>\n",
       "    </tr>\n",
       "  </tbody>\n",
       "</table>\n",
       "</div>"
      ],
      "text/plain": [
       "     x       u_0       u_1       u_2       u_3       u_4       u_5       u_6\n",
       "0  0.3 -0.143329 -0.144571 -0.144885 -0.144964 -0.144983 -0.144988 -0.144989\n",
       "1  0.6 -0.295327 -0.297509 -0.298062 -0.298200 -0.298235 -0.298243 -0.298245\n",
       "2  0.9 -0.457452 -0.460504 -0.461278 -0.461472 -0.461521 -0.461533 -0.461536\n",
       "3  1.2 -0.624901 -0.628958 -0.629989 -0.630248 -0.630312 -0.630329 -0.630333\n",
       "4  1.5 -0.786481 -0.791835 -0.793200 -0.793543 -0.793629 -0.793651 -0.793656\n",
       "5  1.8 -0.922520 -0.929538 -0.931334 -0.931786 -0.931899 -0.931928 -0.931935\n",
       "6  2.1 -0.999433 -1.008353 -1.010646 -1.011223 -1.011368 -1.011404 -1.011413\n",
       "7  2.4 -0.958288 -0.968669 -0.971350 -0.972026 -0.972196 -0.972238 -0.972249\n",
       "8  2.7 -0.691980 -0.701283 -0.703699 -0.704309 -0.704462 -0.704500 -0.704509"
      ]
     },
     "execution_count": 42,
     "metadata": {},
     "output_type": "execute_result"
    }
   ],
   "source": [
    "df=pd.DataFrame({'x':x0[1:x0.size-1:],'u_0':u_0[1:u_0.size-1:],'u_1':u_1[2:u_1.size-2:2],'u_2':u_2[4:u_2.size-4:4],'u_3':u_3[8:u_3.size-8:8],'u_4':u_4[16:u_4.size-16:16],'u_5':u_5[32:u_5.size-32:32],'u_6':u_6[64:u_6.size-64:64]})\n",
    "df"
   ]
  },
  {
   "cell_type": "markdown",
   "metadata": {
    "tags": []
   },
   "source": [
    "Оскільки точний розв'язок невідомий, то дослідимо, як швидко чисельні розв'язки збігаються до ``u_6``:"
   ]
  },
  {
   "cell_type": "code",
   "execution_count": 43,
   "metadata": {},
   "outputs": [
    {
     "data": {
      "text/html": [
       "<div>\n",
       "<style scoped>\n",
       "    .dataframe tbody tr th:only-of-type {\n",
       "        vertical-align: middle;\n",
       "    }\n",
       "\n",
       "    .dataframe tbody tr th {\n",
       "        vertical-align: top;\n",
       "    }\n",
       "\n",
       "    .dataframe thead th {\n",
       "        text-align: right;\n",
       "    }\n",
       "</style>\n",
       "<table border=\"1\" class=\"dataframe\">\n",
       "  <thead>\n",
       "    <tr style=\"text-align: right;\">\n",
       "      <th></th>\n",
       "      <th>e_0</th>\n",
       "      <th>e_1</th>\n",
       "      <th>e_2</th>\n",
       "      <th>e_3</th>\n",
       "      <th>e_4</th>\n",
       "      <th>e_5</th>\n",
       "    </tr>\n",
       "  </thead>\n",
       "  <tbody>\n",
       "    <tr>\n",
       "      <th>0</th>\n",
       "      <td>0.001661</td>\n",
       "      <td>0.000418</td>\n",
       "      <td>0.000104</td>\n",
       "      <td>0.000026</td>\n",
       "      <td>0.000006</td>\n",
       "      <td>0.000001</td>\n",
       "    </tr>\n",
       "    <tr>\n",
       "      <th>1</th>\n",
       "      <td>0.002919</td>\n",
       "      <td>0.000736</td>\n",
       "      <td>0.000184</td>\n",
       "      <td>0.000045</td>\n",
       "      <td>0.000011</td>\n",
       "      <td>0.000002</td>\n",
       "    </tr>\n",
       "    <tr>\n",
       "      <th>2</th>\n",
       "      <td>0.004084</td>\n",
       "      <td>0.001032</td>\n",
       "      <td>0.000258</td>\n",
       "      <td>0.000064</td>\n",
       "      <td>0.000015</td>\n",
       "      <td>0.000003</td>\n",
       "    </tr>\n",
       "    <tr>\n",
       "      <th>3</th>\n",
       "      <td>0.005431</td>\n",
       "      <td>0.001375</td>\n",
       "      <td>0.000344</td>\n",
       "      <td>0.000085</td>\n",
       "      <td>0.000020</td>\n",
       "      <td>0.000004</td>\n",
       "    </tr>\n",
       "    <tr>\n",
       "      <th>4</th>\n",
       "      <td>0.007174</td>\n",
       "      <td>0.001821</td>\n",
       "      <td>0.000456</td>\n",
       "      <td>0.000113</td>\n",
       "      <td>0.000027</td>\n",
       "      <td>0.000005</td>\n",
       "    </tr>\n",
       "    <tr>\n",
       "      <th>5</th>\n",
       "      <td>0.009415</td>\n",
       "      <td>0.002397</td>\n",
       "      <td>0.000600</td>\n",
       "      <td>0.000149</td>\n",
       "      <td>0.000035</td>\n",
       "      <td>0.000007</td>\n",
       "    </tr>\n",
       "    <tr>\n",
       "      <th>6</th>\n",
       "      <td>0.011980</td>\n",
       "      <td>0.003060</td>\n",
       "      <td>0.000767</td>\n",
       "      <td>0.000190</td>\n",
       "      <td>0.000045</td>\n",
       "      <td>0.000009</td>\n",
       "    </tr>\n",
       "    <tr>\n",
       "      <th>7</th>\n",
       "      <td>0.013960</td>\n",
       "      <td>0.003580</td>\n",
       "      <td>0.000898</td>\n",
       "      <td>0.000222</td>\n",
       "      <td>0.000053</td>\n",
       "      <td>0.000011</td>\n",
       "    </tr>\n",
       "    <tr>\n",
       "      <th>8</th>\n",
       "      <td>0.012530</td>\n",
       "      <td>0.003226</td>\n",
       "      <td>0.000811</td>\n",
       "      <td>0.000201</td>\n",
       "      <td>0.000048</td>\n",
       "      <td>0.000010</td>\n",
       "    </tr>\n",
       "  </tbody>\n",
       "</table>\n",
       "</div>"
      ],
      "text/plain": [
       "        e_0       e_1       e_2       e_3       e_4       e_5\n",
       "0  0.001661  0.000418  0.000104  0.000026  0.000006  0.000001\n",
       "1  0.002919  0.000736  0.000184  0.000045  0.000011  0.000002\n",
       "2  0.004084  0.001032  0.000258  0.000064  0.000015  0.000003\n",
       "3  0.005431  0.001375  0.000344  0.000085  0.000020  0.000004\n",
       "4  0.007174  0.001821  0.000456  0.000113  0.000027  0.000005\n",
       "5  0.009415  0.002397  0.000600  0.000149  0.000035  0.000007\n",
       "6  0.011980  0.003060  0.000767  0.000190  0.000045  0.000009\n",
       "7  0.013960  0.003580  0.000898  0.000222  0.000053  0.000011\n",
       "8  0.012530  0.003226  0.000811  0.000201  0.000048  0.000010"
      ]
     },
     "execution_count": 43,
     "metadata": {},
     "output_type": "execute_result"
    }
   ],
   "source": [
    "df1=pd.DataFrame()\n",
    "df1['e_0']=np.abs(df['u_6']-df['u_0'])\n",
    "df1['e_1']=np.abs(df['u_6']-df['u_1'])\n",
    "df1['e_2']=np.abs(df['u_6']-df['u_2'])\n",
    "df1['e_3']=np.abs(df['u_6']-df['u_3'])\n",
    "df1['e_4']=np.abs(df['u_6']-df['u_4'])\n",
    "df1['e_5']=np.abs(df['u_6']-df['u_5'])\n",
    "df1"
   ]
  },
  {
   "cell_type": "markdown",
   "metadata": {
    "tags": []
   },
   "source": [
    "Графіки (у логарифмічній шкалі) демонструють однаковий порядок отриманих похибок на усьому відрізку ``l``:"
   ]
  },
  {
   "cell_type": "code",
   "execution_count": 44,
   "metadata": {
    "tags": []
   },
   "outputs": [
    {
     "data": {
      "application/vnd.jupyter.widget-view+json": {
       "model_id": "c4792d815de64f51b3a63bc12d172aa5",
       "version_major": 2,
       "version_minor": 0
      },
      "text/plain": [
       "Canvas(toolbar=Toolbar(toolitems=[('Home', 'Reset original view', 'home', 'home'), ('Back', 'Back to previous …"
      ]
     },
     "metadata": {},
     "output_type": "display_data"
    }
   ],
   "source": [
    "fig = plt.figure(figsize=(8, 5))\n",
    "df1.e_0.plot(logy=True)\n",
    "df1.e_1.plot(logy=True)\n",
    "df1.e_2.plot(logy=True)\n",
    "df1.e_3.plot(logy=True)\n",
    "df1.e_4.plot(logy=True)\n",
    "df1.e_5.plot(logy=True)\n",
    "ax = fig.gca()\n",
    "ax.legend();"
   ]
  },
  {
   "cell_type": "markdown",
   "metadata": {},
   "source": [
    "Обчислимо для кожного чисельного розв'язку його абсолютну похибку за нормою $\\| \\cdot \\|_\\infty$:"
   ]
  },
  {
   "cell_type": "code",
   "execution_count": 45,
   "metadata": {},
   "outputs": [
    {
     "name": "stdout",
     "output_type": "stream",
     "text": [
      " ne_0=1.40e-02\n",
      " ne_1=3.58e-03\n",
      " ne_2=8.98e-04\n",
      " ne_3=2.22e-04\n",
      " ne_4=5.30e-05\n",
      " ne_5=1.06e-05\n"
     ]
    }
   ],
   "source": [
    "ne_0 = max(np.abs(df1['e_0']))\n",
    "ne_1 = max(np.abs(df1['e_1']))\n",
    "ne_2 = max(np.abs(df1['e_2']))\n",
    "ne_3 = max(np.abs(df1['e_3']))\n",
    "ne_4 = max(np.abs(df1['e_4']))\n",
    "ne_5 = max(np.abs(df1['e_5']))\n",
    "print(f\" ne_0={ne_0:1.2e}\\n ne_1={ne_1:1.2e}\\n ne_2={ne_2:1.2e}\\n ne_3={ne_3:1.2e}\\n ne_4={ne_4:1.2e}\\n ne_5={ne_5:1.2e}\")"
   ]
  },
  {
   "cell_type": "markdown",
   "metadata": {
    "tags": []
   },
   "source": [
    "Якщо обчислити швидкість збіжності (до ``u_6``), то матимемо число, близьке до 4, яке має тенденцію до збільшення при збільшенні вузлів сітки:"
   ]
  },
  {
   "cell_type": "code",
   "execution_count": 46,
   "metadata": {},
   "outputs": [
    {
     "data": {
      "text/html": [
       "<div>\n",
       "<style scoped>\n",
       "    .dataframe tbody tr th:only-of-type {\n",
       "        vertical-align: middle;\n",
       "    }\n",
       "\n",
       "    .dataframe tbody tr th {\n",
       "        vertical-align: top;\n",
       "    }\n",
       "\n",
       "    .dataframe thead th {\n",
       "        text-align: right;\n",
       "    }\n",
       "</style>\n",
       "<table border=\"1\" class=\"dataframe\">\n",
       "  <thead>\n",
       "    <tr style=\"text-align: right;\">\n",
       "      <th></th>\n",
       "      <th>r_0</th>\n",
       "      <th>r_1</th>\n",
       "      <th>r_2</th>\n",
       "      <th>r_3</th>\n",
       "      <th>r_4</th>\n",
       "    </tr>\n",
       "  </thead>\n",
       "  <tbody>\n",
       "    <tr>\n",
       "      <th>0</th>\n",
       "      <td>3.973235</td>\n",
       "      <td>4.004190</td>\n",
       "      <td>4.045699</td>\n",
       "      <td>4.199501</td>\n",
       "      <td>4.999852</td>\n",
       "    </tr>\n",
       "    <tr>\n",
       "      <th>1</th>\n",
       "      <td>3.965843</td>\n",
       "      <td>4.002246</td>\n",
       "      <td>4.045203</td>\n",
       "      <td>4.199372</td>\n",
       "      <td>4.999813</td>\n",
       "    </tr>\n",
       "    <tr>\n",
       "      <th>2</th>\n",
       "      <td>3.958273</td>\n",
       "      <td>4.000242</td>\n",
       "      <td>4.044690</td>\n",
       "      <td>4.199239</td>\n",
       "      <td>4.999773</td>\n",
       "    </tr>\n",
       "    <tr>\n",
       "      <th>3</th>\n",
       "      <td>3.949734</td>\n",
       "      <td>3.997981</td>\n",
       "      <td>4.044112</td>\n",
       "      <td>4.199088</td>\n",
       "      <td>4.999729</td>\n",
       "    </tr>\n",
       "    <tr>\n",
       "      <th>4</th>\n",
       "      <td>3.939694</td>\n",
       "      <td>3.995326</td>\n",
       "      <td>4.043433</td>\n",
       "      <td>4.198911</td>\n",
       "      <td>4.999676</td>\n",
       "    </tr>\n",
       "    <tr>\n",
       "      <th>5</th>\n",
       "      <td>3.927997</td>\n",
       "      <td>3.992234</td>\n",
       "      <td>4.042642</td>\n",
       "      <td>4.198706</td>\n",
       "      <td>4.999615</td>\n",
       "    </tr>\n",
       "    <tr>\n",
       "      <th>6</th>\n",
       "      <td>3.914706</td>\n",
       "      <td>3.988711</td>\n",
       "      <td>4.041740</td>\n",
       "      <td>4.198471</td>\n",
       "      <td>4.999545</td>\n",
       "    </tr>\n",
       "    <tr>\n",
       "      <th>7</th>\n",
       "      <td>3.899928</td>\n",
       "      <td>3.984778</td>\n",
       "      <td>4.040733</td>\n",
       "      <td>4.198208</td>\n",
       "      <td>4.999466</td>\n",
       "    </tr>\n",
       "    <tr>\n",
       "      <th>8</th>\n",
       "      <td>3.883733</td>\n",
       "      <td>3.980444</td>\n",
       "      <td>4.039621</td>\n",
       "      <td>4.197919</td>\n",
       "      <td>4.999380</td>\n",
       "    </tr>\n",
       "  </tbody>\n",
       "</table>\n",
       "</div>"
      ],
      "text/plain": [
       "        r_0       r_1       r_2       r_3       r_4\n",
       "0  3.973235  4.004190  4.045699  4.199501  4.999852\n",
       "1  3.965843  4.002246  4.045203  4.199372  4.999813\n",
       "2  3.958273  4.000242  4.044690  4.199239  4.999773\n",
       "3  3.949734  3.997981  4.044112  4.199088  4.999729\n",
       "4  3.939694  3.995326  4.043433  4.198911  4.999676\n",
       "5  3.927997  3.992234  4.042642  4.198706  4.999615\n",
       "6  3.914706  3.988711  4.041740  4.198471  4.999545\n",
       "7  3.899928  3.984778  4.040733  4.198208  4.999466\n",
       "8  3.883733  3.980444  4.039621  4.197919  4.999380"
      ]
     },
     "execution_count": 46,
     "metadata": {},
     "output_type": "execute_result"
    }
   ],
   "source": [
    "df2=pd.DataFrame()\n",
    "df2['r_0'] = df1['e_0'] / df1['e_1']\n",
    "df2['r_1'] = df1['e_1'] / df1['e_2']\n",
    "df2['r_2'] = df1['e_2'] / df1['e_3']\n",
    "df2['r_3'] = df1['e_3'] / df1['e_4']\n",
    "df2['r_4'] = df1['e_4'] / df1['e_5']\n",
    "\n",
    "df2"
   ]
  },
  {
   "cell_type": "code",
   "execution_count": 47,
   "metadata": {
    "tags": []
   },
   "outputs": [],
   "source": [
    "plt.close('all')"
   ]
  },
  {
   "cell_type": "code",
   "execution_count": null,
   "metadata": {},
   "outputs": [],
   "source": []
  }
 ],
 "metadata": {
  "anaconda-cloud": {},
  "colab": {
   "name": "oom_2_2_1_simple_iteration.ipynb",
   "private_outputs": true,
   "provenance": []
  },
  "kernelspec": {
   "display_name": "Python 3 (ipykernel)",
   "language": "python",
   "name": "python3"
  },
  "language_info": {
   "codemirror_mode": {
    "name": "ipython",
    "version": 3
   },
   "file_extension": ".py",
   "mimetype": "text/x-python",
   "name": "python",
   "nbconvert_exporter": "python",
   "pygments_lexer": "ipython3",
   "version": "3.9.7"
  }
 },
 "nbformat": 4,
 "nbformat_minor": 4
}
