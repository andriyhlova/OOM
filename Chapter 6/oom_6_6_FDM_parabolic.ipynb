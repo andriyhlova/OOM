{
 "cells": [
  {
   "cell_type": "markdown",
   "metadata": {
    "id": "uDSAycn9QF1Y"
   },
   "source": [
    "# 6.6. Чисельне розв'язування мішаних задач для параболічних рівнянь методом скінчених різниць\n",
    "---------------------"
   ]
  },
  {
   "cell_type": "markdown",
   "metadata": {
    "id": "TrvVaZ02QF1h"
   },
   "source": [
    "## 6.6.1.  Постановка мішаної задачі для рівняння теплопровідності "
   ]
  },
  {
   "cell_type": "markdown",
   "metadata": {},
   "source": [
    "Нехай \n",
    "$Q:=(0,l)\\times (0,T]$, $\\overline{Q}=[0,l]\\times[0,T]$, де $l>0$, $T>0$ -- деякі числа.\n",
    "\n",
    "Розглянемо мішану задачу першого роду для рівняння теплопровідності: знайти функцію $u\\in C^{2,1}(Q)\\cap C(\\overline{Q})$,\n",
    "яка задовольняє рівняння:\n",
    "\n",
    "$(1)\\quad\\qquad u_t-a^2u_{xx}=f(x,t),\\quad (x,t)\\in Q,$\n",
    "\n",
    "крайові умови:\n",
    "\n",
    "$(2)\\quad\\qquad u|_{x=0}=0, \\quad  u|_{x=l}=0,\\quad t\\in (0,T],$\n",
    "\n",
    "та початкову умову\n",
    "\n",
    "$(3)\\quad\\qquad u|_{t=0}=\\varphi(x),\\quad x\\in[0,l],$\n",
    "\n",
    "де  $a>0$ -- деяка стала, $f\\in C(\\overline{Q})$, $\\varphi\\in C([0,l])$ -- задані функції, причому виконується умова узгодження: $\\varphi(0)=\\varphi(l)=0$."
   ]
  },
  {
   "cell_type": "markdown",
   "metadata": {
    "id": "TrvVaZ02QF1h"
   },
   "source": [
    "## 6.4.2.  Різницева схема "
   ]
  },
  {
   "cell_type": "markdown",
   "metadata": {},
   "source": [
    "Нехай $N_x, N_t$ -- які-небудь натуральні числа і\n",
    "$$\n",
    "h:=\\frac{l}{N_x},\\quad \\tau:=\\frac{T}{N_t}.\n",
    "$$\n",
    "Побудуємо сітку\n",
    "$$\n",
    "\\{(x_i,t_j) \\;|\\; x_i:=ih,\\,\\,t_j:=j\\tau, \\quad i=\\overline{0,N_x}, \\,\\,j=\\overline{0,N_t}\\},\n",
    "$$\n",
    "на якій розглянемо наближення функції $u$\n",
    "$$\n",
    "u_{i,j}\\approx u(x_i,t_j),\\,\\,i=\\overline{0,N_x},\\,\\,j=\\overline{0,N_t},\n",
    "$$\n",
    "і сіткові значення вхідних даних: \n",
    "$$f_{i,j}:=f(x_i,t_j), \\quad i=\\overline{1,N_x-1},\\; j=\\overline{1,N_t-1}, \\quad \\varphi_{i}:=\\varphi(x_i),\\;\\;i=\\overline{0,N_x}. $$\n"
   ]
  },
  {
   "cell_type": "markdown",
   "metadata": {},
   "source": [
    "Якщо у внутрішніх вузлах сітки використати такі апроксимації похідних функції $u$:\n",
    "$$u_{xx} (x_i,t_j) \\approx \\frac{u_{i-1,j}-2u_{i,j}+u_{i+1,j}}{h^2}, \\quad\n",
    "i=\\overline{1,N_x-1}, \\,\\,j=\\overline{0,N_t-1}, $$\n",
    "$$u_{t} (x_i,t_j) \\approx \\frac{u_{i,j+1}-u_{i,j}}{\\tau}, \\quad i=\\overline{1,N_x-1},\n",
    "\\,\\,j=\\overline{0,N_t-1}.$$\n",
    "\n",
    "то, ввівши позначення  $\\alpha:=\\dfrac{\\tau^2}{h^2}a^2$, у результаті отримаємо явну різницеву схему відносно шуканих наближень розв'язку:\n",
    "\n",
    "$(4)\\quad\\qquad\n",
    "  u_{i,j+1}=\\alpha(u_{i-1,j}+u_{i+1,j})+\n",
    "  \\big(1-2\\alpha)u_{i,j} + \\tau f_{i,j}, \\quad   i=\\overline{1,N_x-1}, \\quad j=\\overline{0,N_t-1}.$\n",
    " \n",
    "$(5)\\quad\\qquad\\qquad u_{0,j}=0, \\quad u_{N_x,j}=0,\\quad j=\\overline{1,N_t},$\n",
    "\n",
    "$(6)\\quad\\qquad\\qquad u_{i,0}=\\varphi_i,\\quad i=\\overline{0,N_x}.$"
   ]
  },
  {
   "cell_type": "markdown",
   "metadata": {},
   "source": [
    "Обчислення за нею проводять в такому порядку: спочатку  за формулами (6) і (5)\n",
    "задаємо $u_{i,0}$, $i=\\overline{0,N_x}$, і $u_{0,j}, \\;\\; u_{N_x,j},\\quad j=\\overline{1,N_t}$.\n",
    "Далі за формулою (4) при $j=0$  знаходимо $u_{i,1}$, $i=\\overline{1,N_x-1}$, а потім за цією ж формулою при $j=1$ знаходимо   $u_{i,2}$, $i=\\overline{1,N_x-1}$, і так продовжуємо включно до $j=N_t-1$, тобто матимемо завершальне значення $u_{i,N_t}$, $i=\\overline{1,N_x-1}$."
   ]
  },
  {
   "cell_type": "markdown",
   "metadata": {
    "id": "C56etMUzw6qS",
    "tags": []
   },
   "source": [
    "#### Пояснення до використання програмного коду\n",
    "-----------------\n",
    "*   Підготувати потрібні функції : \n",
    "    1.   виконати комірку для підготовки середовища \n",
    "    2.   виконати комірки, де **визначені** функції ``FDA_E_solver``,``set_matrix`` і ``set_vector``\n",
    "\n",
    "*    Обчислити чисельний розв'язок конкретної крайової задачі :\n",
    "     1.  виконати комірку, де **визначені** функції ``phi1``,``phi2``, ``psi1``, ``psi2``  і ``f``, які задають конкретну крайову задачу \n",
    "     2.  виконати комірку, в якій задано усі параметри крайової задачі \n",
    "     3.  виконати комірку з викликом функції ``FDA_E_solver``, перед виконанням задати відповідні аргументи цієї функції.\n",
    "\n",
    "*   Щоб переконатися, що чисельний розв'язок достатньо точний, можна виконати кілька послідовних викликів функції ``FDA_E_solver``, збільшуючи кількість вузлів сітки."
   ]
  },
  {
   "cell_type": "markdown",
   "metadata": {
    "tags": []
   },
   "source": [
    "#### Програмна реалізація методів\n",
    "------------"
   ]
  },
  {
   "cell_type": "markdown",
   "metadata": {
    "tags": []
   },
   "source": [
    ">#### Підготовка середовища"
   ]
  },
  {
   "cell_type": "code",
   "execution_count": 1,
   "metadata": {},
   "outputs": [],
   "source": [
    "%matplotlib widget\n",
    "import matplotlib.pyplot as plt\n",
    "import numpy as np\n",
    "import pandas as pd\n",
    "from scipy import linalg\n",
    "from mpl_toolkits import mplot3d"
   ]
  },
  {
   "cell_type": "markdown",
   "metadata": {
    "id": "ocZR4xN_cvNf",
    "tags": []
   },
   "source": [
    ">#### ``FDA_P_solver`` -- функція, яка отримує вхідні параметри чисельного методу, формує масиви значень розв'язку на межі області, задає матрицю вектор вільних членів  СЛАР, знаходить значення чисельного розв'язку у внутрішніх вузлах сітки і повертає матрицю, яка містить значення розв'язку у всіх точках сітки. За замовчуванням ( при ``plotting=True``) будуються 3D-графіки чисельного розв'язку задачі.\n",
    "    \n"
   ]
  },
  {
   "cell_type": "code",
   "execution_count": 46,
   "metadata": {},
   "outputs": [],
   "source": [
    "def FDA_P_solver(f, phi, a, l, T, Nx, Nt, plotting=True):\n",
    "    \"\"\" Розв'язування мішаної задачі (1)-(3) \n",
    "        методом скінчених різниць \n",
    "    \"\"\"   \n",
    "    h = l/Nx\n",
    "    tau = T/Nt\n",
    "    alpha =a*a*tau/(h*h)\n",
    "    #print(alpha)      \n",
    "    \n",
    "    x=np.linspace(0, l, Nx+1)\n",
    "    t=np.linspace(0, T, Nt+1)  \n",
    "    #print(f\"x={x}\")\n",
    "    #print(f\"t={t}\")\n",
    "    \n",
    "    fij = np.empty((Nt+1,Nx+1), dtype=float) \n",
    "    \n",
    "    for j in range(Nt+1):\n",
    "        fij[j,0]=0\n",
    "        fij[j,Nx]=0\n",
    "        for i in range(1,Nx): \n",
    "            fij[j,i] = f(x[i],t[j])\n",
    "    #print(f\"fij={fij}\")\n",
    "    \n",
    "    if Nx < 3 :\n",
    "        raise Exception('invalid grid')\n",
    "        \n",
    "    u = np.empty((Nt+1,Nx+1), dtype=float)\n",
    "    \n",
    "    for i in range(Nx+1):\n",
    "        u[0,i] = phi(x[i])  \n",
    "    \n",
    "    if Nx < 3:\n",
    "        for j in range(1,Nt+1):\n",
    "            u[j,0] = 0\n",
    "            u[j,Nx] = 0\n",
    "            u[j,1] = alpha * u[j-1,2]+(1-2*alpha)*u[j-1,1]+tau*fij[j-1,1]\n",
    "            u[j,2] = alpha * u[j-1,1]+(1-2*alpha)*u[j-1,2]+tau*fij[j-1,2]\n",
    "    else:\n",
    "        for j in range(1,Nt+1):\n",
    "            u[j,0] = 0\n",
    "            u[j,Nx] = 0            \n",
    "            for i in range(1,Nx):             \n",
    "                u[j,i] = alpha *(u[j-1,i-1] + u[j-1,i+1])+(1-2*alpha)*u[j-1,i]+tau*fij[j-1,i]\n",
    "    \n",
    "    \n",
    "    if plotting :\n",
    "        TT, X = np.meshgrid(t, x)\n",
    "        # set up a figure twice as wide as it is tall\n",
    "        fig = plt.figure(figsize=plt.figaspect(0.5)) \n",
    "        # =============\n",
    "        # First subplot\n",
    "        # =============\n",
    "        # set up the axes for the first plot\n",
    "        ax = fig.add_subplot(1, 2, 1, projection='3d')\n",
    "        ax.set_xlabel('t')\n",
    "        ax.set_ylabel('x') \n",
    "        ax.set_zlabel('u');\n",
    "        ax.set_title(f\"Розв'язок задачі  Nt={Nt}, Nx={Nx}\");\n",
    "        surf = ax.plot_surface(TT, X, u.T, rstride=1, cstride=1, cmap='viridis', linewidth=0, antialiased=False)\n",
    "        fig.colorbar(surf, shrink=0.5, aspect=10)\n",
    "        # ==============\n",
    "        # Second subplot\n",
    "        # ==============\n",
    "        # set up the axes for the second plot\n",
    "        ax = fig.add_subplot(1, 2, 2, projection='3d')\n",
    "        ax.set_xlabel('t')\n",
    "        ax.set_ylabel('x')\n",
    "        ax.set_zlabel('u');\n",
    "        ax.set_title(f\"Розв'язок задачі  Nt={Nt}, Nx={Nx}\");\n",
    "        surf = ax.plot_wireframe(TT, X, u.T, rstride=1, cstride=1)\n",
    "    return u"
   ]
  },
  {
   "cell_type": "markdown",
   "metadata": {
    "tags": []
   },
   "source": [
    ">#### ``phi``  і ``f`` -- функції, які задають конкретну мішану задачу "
   ]
  },
  {
   "cell_type": "markdown",
   "metadata": {
    "tags": []
   },
   "source": [
    "#### Обчислювальні експерименти\n",
    "------------"
   ]
  },
  {
   "cell_type": "markdown",
   "metadata": {
    "tags": []
   },
   "source": [
    "Продемонструємо застосування методу скінчених різниць до розв'язування мішаної задачі для рівняння теплопровідності."
   ]
  },
  {
   "cell_type": "markdown",
   "metadata": {
    "tags": []
   },
   "source": [
    "**Приклад 1.** (приклад 1.7) Методом скінчених різниць розв'язати мішану задачу для рівняння теплопровідності\n",
    "\\begin{equation}\\label{2001.6.17}\n",
    "u_t- u_{xx}= x^2+t,\\,\\,(x,t)\\in(0,3)\\times(0,3],\n",
    "\\end{equation}\n",
    "\\begin{equation}\\label{2001.6.18}\n",
    "u|_{x=0}=0,\\,\\,u|_{x=3}=0,\\quad t\\in(0,3],\n",
    "\\end{equation}\n",
    "\\begin{equation}\\label{2001.6.19}\n",
    "u|_{t=0}=x(3-x),\\quad x\\in[0,3].\n",
    "\\end{equation}\n",
    "застосовуючи метод скінчених різниць на послідовності сіток, в яких подвоюється кількість вузлів по кожній змінній. "
   ]
  },
  {
   "cell_type": "markdown",
   "metadata": {
    "tags": []
   },
   "source": [
    "Визначимо функції, які задають праву частину рівняння (1) і початкову умову:"
   ]
  },
  {
   "cell_type": "code",
   "execution_count": 47,
   "metadata": {},
   "outputs": [],
   "source": [
    "def f(x,t):\n",
    "    return x*x+t\n",
    "def phi(x):\n",
    "    return x*(3-x)"
   ]
  },
  {
   "cell_type": "markdown",
   "metadata": {
    "tags": []
   },
   "source": [
    "Задамо дані області визначення розв'язку і початкові значення параметрів сітки:"
   ]
  },
  {
   "cell_type": "code",
   "execution_count": 50,
   "metadata": {},
   "outputs": [],
   "source": [
    "a = 1\n",
    "l = 3\n",
    "T = 3\n",
    "\n",
    "Nx_start = 6\n",
    "Nt_start = 24"
   ]
  },
  {
   "cell_type": "markdown",
   "metadata": {
    "tags": []
   },
   "source": [
    "Знайдемо чисельні розв'язки задачі на послідовності сіток, подвоюючи на кожному кроці кількість вузлів по кожній змінній і зберігаючи відповідні масиви результатів; для подальшого аналізу також зберігатимемо значення чисельного розв'язку у точках початкової сітки:"
   ]
  },
  {
   "cell_type": "code",
   "execution_count": 51,
   "metadata": {},
   "outputs": [
    {
     "name": "stderr",
     "output_type": "stream",
     "text": [
      "C:\\Users\\AF9AD~1.MUZ\\AppData\\Local\\Temp/ipykernel_13860/357893538.py:53: RuntimeWarning: More than 20 figures have been opened. Figures created through the pyplot interface (`matplotlib.pyplot.figure`) are retained until explicitly closed and may consume too much memory. (To control this warning, see the rcParam `figure.max_open_warning`).\n",
      "  fig = plt.figure(figsize=plt.figaspect(0.5))\n"
     ]
    },
    {
     "data": {
      "application/vnd.jupyter.widget-view+json": {
       "model_id": "0d23038f9fc74060b89550e337ee0fc1",
       "version_major": 2,
       "version_minor": 0
      },
      "text/plain": [
       "Canvas(toolbar=Toolbar(toolitems=[('Home', 'Reset original view', 'home', 'home'), ('Back', 'Back to previous …"
      ]
     },
     "metadata": {},
     "output_type": "display_data"
    }
   ],
   "source": [
    "Nx=Nx_start\n",
    "Nt=Nt_start\n",
    "u_0 = FDA_P_solver(f, phi, a, l, T, Nx, Nt)\n",
    "u0=u_0[1:Nt:1,1:Nx:1].reshape((Nx-1)*(Nt-1))"
   ]
  },
  {
   "cell_type": "code",
   "execution_count": 41,
   "metadata": {},
   "outputs": [
    {
     "name": "stdout",
     "output_type": "stream",
     "text": [
      "j=0\n",
      "i=1, u[i,j]=2.0\n",
      "i=2, u[i,j]=2.0\n",
      "j=1\n",
      "i=1, u[i,j]=1.0\n",
      "i=2, u[i,j]=4.0\n",
      "j=2\n",
      "i=1, u[i,j]=5.0\n",
      "i=2, u[i,j]=2.0\n",
      "j=3\n",
      "i=1, u[i,j]=0.0\n",
      "i=2, u[i,j]=9.0\n"
     ]
    }
   ],
   "source": [
    "for j in range(Nt+1):\n",
    "    print(f\"j={j}\")\n",
    "    for i in range(1,Nx):             \n",
    "        print(f\"i={i}, u[i,j]={u_0[j,i]}\")"
   ]
  },
  {
   "cell_type": "code",
   "execution_count": 14,
   "metadata": {},
   "outputs": [
    {
     "data": {
      "application/vnd.jupyter.widget-view+json": {
       "model_id": "642953de2ed54b7482304e4cf52dba48",
       "version_major": 2,
       "version_minor": 0
      },
      "text/plain": [
       "Canvas(toolbar=Toolbar(toolitems=[('Home', 'Reset original view', 'home', 'home'), ('Back', 'Back to previous …"
      ]
     },
     "metadata": {},
     "output_type": "display_data"
    },
    {
     "ename": "ValueError",
     "evalue": "cannot reshape array of size 4 into shape (25,)",
     "output_type": "error",
     "traceback": [
      "\u001b[1;31m---------------------------------------------------------------------------\u001b[0m",
      "\u001b[1;31mValueError\u001b[0m                                Traceback (most recent call last)",
      "\u001b[1;32mC:\\Users\\AF9AD~1.MUZ\\AppData\\Local\\Temp/ipykernel_13860/4260491614.py\u001b[0m in \u001b[0;36m<module>\u001b[1;34m\u001b[0m\n\u001b[0;32m      2\u001b[0m \u001b[0mNt\u001b[0m \u001b[1;33m*=\u001b[0m\u001b[1;36m2\u001b[0m\u001b[1;33m\u001b[0m\u001b[1;33m\u001b[0m\u001b[0m\n\u001b[0;32m      3\u001b[0m \u001b[0mu_1\u001b[0m \u001b[1;33m=\u001b[0m \u001b[0mFDA_P_solver\u001b[0m\u001b[1;33m(\u001b[0m\u001b[0mf\u001b[0m\u001b[1;33m,\u001b[0m \u001b[0mphi\u001b[0m\u001b[1;33m,\u001b[0m \u001b[0ma\u001b[0m\u001b[1;33m,\u001b[0m \u001b[0ml\u001b[0m\u001b[1;33m,\u001b[0m \u001b[0mT\u001b[0m\u001b[1;33m,\u001b[0m \u001b[0mNx\u001b[0m\u001b[1;33m,\u001b[0m \u001b[0mNt\u001b[0m\u001b[1;33m)\u001b[0m\u001b[1;33m\u001b[0m\u001b[1;33m\u001b[0m\u001b[0m\n\u001b[1;32m----> 4\u001b[1;33m \u001b[0mu1\u001b[0m\u001b[1;33m=\u001b[0m\u001b[0mu_1\u001b[0m\u001b[1;33m[\u001b[0m\u001b[1;36m2\u001b[0m\u001b[1;33m:\u001b[0m\u001b[0mNt\u001b[0m\u001b[1;33m-\u001b[0m\u001b[1;36m1\u001b[0m\u001b[1;33m:\u001b[0m\u001b[1;36m2\u001b[0m\u001b[1;33m,\u001b[0m\u001b[1;36m2\u001b[0m\u001b[1;33m:\u001b[0m\u001b[0mNx\u001b[0m\u001b[1;33m-\u001b[0m\u001b[1;36m1\u001b[0m\u001b[1;33m:\u001b[0m\u001b[1;36m2\u001b[0m\u001b[1;33m]\u001b[0m\u001b[1;33m.\u001b[0m\u001b[0mreshape\u001b[0m\u001b[1;33m(\u001b[0m\u001b[1;33m(\u001b[0m\u001b[0mNx\u001b[0m\u001b[1;33m-\u001b[0m\u001b[1;36m1\u001b[0m\u001b[1;33m)\u001b[0m\u001b[1;33m*\u001b[0m\u001b[1;33m(\u001b[0m\u001b[0mNt\u001b[0m\u001b[1;33m-\u001b[0m\u001b[1;36m1\u001b[0m\u001b[1;33m)\u001b[0m\u001b[1;33m)\u001b[0m\u001b[1;33m\u001b[0m\u001b[1;33m\u001b[0m\u001b[0m\n\u001b[0m",
      "\u001b[1;31mValueError\u001b[0m: cannot reshape array of size 4 into shape (25,)"
     ]
    }
   ],
   "source": [
    "Nx *=2\n",
    "Nt *=2\n",
    "u_1 = FDA_P_solver(f, phi, a, l, T, Nx, Nt)\n",
    "u1=u_1[2:Nt-1:2,2:Nx-1:2].reshape((Nx-1)*(Nt-1))"
   ]
  },
  {
   "cell_type": "code",
   "execution_count": 33,
   "metadata": {},
   "outputs": [
    {
     "data": {
      "application/vnd.jupyter.widget-view+json": {
       "model_id": "39ae7f8ea43b4ac4a0432b7cfe80942d",
       "version_major": 2,
       "version_minor": 0
      },
      "text/plain": [
       "Canvas(toolbar=Toolbar(toolitems=[('Home', 'Reset original view', 'home', 'home'), ('Back', 'Back to previous …"
      ]
     },
     "metadata": {},
     "output_type": "display_data"
    },
    {
     "ename": "ValueError",
     "evalue": "cannot reshape array of size 65280 into shape (130305,)",
     "output_type": "error",
     "traceback": [
      "\u001b[1;31m---------------------------------------------------------------------------\u001b[0m",
      "\u001b[1;31mValueError\u001b[0m                                Traceback (most recent call last)",
      "\u001b[1;32mC:\\Users\\AF9AD~1.MUZ\\AppData\\Local\\Temp/ipykernel_22648/449050396.py\u001b[0m in \u001b[0;36m<module>\u001b[1;34m\u001b[0m\n\u001b[0;32m      2\u001b[0m \u001b[0mNt\u001b[0m\u001b[1;33m=\u001b[0m\u001b[0mNt_start\u001b[0m\u001b[1;33m*\u001b[0m\u001b[1;36m128\u001b[0m\u001b[1;33m\u001b[0m\u001b[1;33m\u001b[0m\u001b[0m\n\u001b[0;32m      3\u001b[0m \u001b[0mu_0\u001b[0m \u001b[1;33m=\u001b[0m \u001b[0mFDA_H_solver\u001b[0m\u001b[1;33m(\u001b[0m\u001b[0mf\u001b[0m\u001b[1;33m,\u001b[0m \u001b[0mphi\u001b[0m\u001b[1;33m,\u001b[0m \u001b[0mpsi\u001b[0m\u001b[1;33m,\u001b[0m \u001b[0ma\u001b[0m\u001b[1;33m,\u001b[0m \u001b[0ml\u001b[0m\u001b[1;33m,\u001b[0m \u001b[0mT\u001b[0m\u001b[1;33m,\u001b[0m \u001b[0mNx\u001b[0m\u001b[1;33m,\u001b[0m \u001b[0mNt\u001b[0m\u001b[1;33m)\u001b[0m\u001b[1;33m\u001b[0m\u001b[1;33m\u001b[0m\u001b[0m\n\u001b[1;32m----> 4\u001b[1;33m \u001b[0mu0\u001b[0m\u001b[1;33m=\u001b[0m\u001b[0mu_0\u001b[0m\u001b[1;33m[\u001b[0m\u001b[1;36m1\u001b[0m\u001b[1;33m:\u001b[0m\u001b[0mNx\u001b[0m\u001b[1;33m:\u001b[0m\u001b[1;36m1\u001b[0m\u001b[1;33m,\u001b[0m\u001b[1;36m1\u001b[0m\u001b[1;33m:\u001b[0m\u001b[0mNt\u001b[0m\u001b[1;33m:\u001b[0m\u001b[1;36m1\u001b[0m\u001b[1;33m]\u001b[0m\u001b[1;33m.\u001b[0m\u001b[0mreshape\u001b[0m\u001b[1;33m(\u001b[0m\u001b[1;33m(\u001b[0m\u001b[0mNx\u001b[0m\u001b[1;33m-\u001b[0m\u001b[1;36m1\u001b[0m\u001b[1;33m)\u001b[0m\u001b[1;33m*\u001b[0m\u001b[1;33m(\u001b[0m\u001b[0mNt\u001b[0m\u001b[1;33m-\u001b[0m\u001b[1;36m1\u001b[0m\u001b[1;33m)\u001b[0m\u001b[1;33m)\u001b[0m\u001b[1;33m\u001b[0m\u001b[1;33m\u001b[0m\u001b[0m\n\u001b[0m",
      "\u001b[1;31mValueError\u001b[0m: cannot reshape array of size 65280 into shape (130305,)"
     ]
    }
   ],
   "source": [
    "Nx=Nx_start*64\n",
    "Nt=Nt_start*128\n",
    "u_0 = FDA_H_solver(f, phi, psi, a, l, T, Nx, Nt)\n",
    "u0=u_0[1:Nx:1,1:Nt:1].reshape((Nx-1)*(Nt-1))"
   ]
  },
  {
   "cell_type": "code",
   "execution_count": null,
   "metadata": {},
   "outputs": [],
   "source": [
    "Nx *= 2\n",
    "Ny *= 2\n",
    "u_1 = FDA_E_solver(f, phi1, phi2, psi1, psi2, a, b, Nx, Ny)\n",
    "u1=u_1[2:Nx-1:2,2:Ny-1:2].reshape((Nx_start-1)*(Ny_start-1))"
   ]
  },
  {
   "cell_type": "code",
   "execution_count": null,
   "metadata": {},
   "outputs": [],
   "source": [
    "Nx *= 2\n",
    "Ny *= 2\n",
    "u_2 = FDA_E_solver(f, phi1, phi2, psi1, psi2, a, b, Nx, Ny)\n",
    "u2=u_2[4:Nx-3:4,4:Ny-3:4].reshape((Nx_start-1)*(Ny_start-1))"
   ]
  },
  {
   "cell_type": "code",
   "execution_count": null,
   "metadata": {},
   "outputs": [],
   "source": [
    "Nx *= 2\n",
    "Ny *= 2\n",
    "u_3 = FDA_E_solver(f, phi1, phi2, psi1, psi2, a, b, Nx, Ny)\n",
    "u3=u_3[8:Nx-7:8,8:Ny-7:8].reshape((Nx_start-1)*(Ny_start-1))"
   ]
  },
  {
   "cell_type": "code",
   "execution_count": null,
   "metadata": {},
   "outputs": [],
   "source": [
    "Nx *= 2\n",
    "Ny *= 2\n",
    "u_4 = FDA_E_solver(f, phi1, phi2, psi1, psi2, a, b, Nx, Ny)\n",
    "u4=u_4[16:Nx-15:16,16:Ny-15:16].reshape((Nx_start-1)*(Ny_start-1))"
   ]
  },
  {
   "cell_type": "markdown",
   "metadata": {
    "tags": []
   },
   "source": [
    "Як бачимо, графіки чисельних розв'язків візуально подібні між собою. Для детальнішого аналізу занесемо в таблицю значення усіх розв'язків на спільній для усіх сіток множині вузлів: "
   ]
  },
  {
   "cell_type": "code",
   "execution_count": null,
   "metadata": {},
   "outputs": [],
   "source": [
    "df=pd.DataFrame({'u_0':u0, 'u_1':u1,'u_2':u2, 'u_3':u3,'u_4':u4})\n",
    "df"
   ]
  },
  {
   "cell_type": "code",
   "execution_count": null,
   "metadata": {},
   "outputs": [],
   "source": [
    "df1=pd.DataFrame()\n",
    "df1['e_0']=np.abs(df['u_4']-df['u_0'])\n",
    "df1['e_1']=np.abs(df['u_4']-df['u_1'])\n",
    "df1['e_2']=np.abs(df['u_4']-df['u_2'])\n",
    "df1['e_3']=np.abs(df['u_4']-df['u_3'])\n",
    "\n",
    "df1"
   ]
  },
  {
   "cell_type": "code",
   "execution_count": null,
   "metadata": {
    "tags": []
   },
   "outputs": [],
   "source": [
    "fig = plt.figure(figsize=(8, 5))\n",
    "df1.e_0.plot(logy=True)\n",
    "df1.e_1.plot(logy=True)\n",
    "df1.e_2.plot(logy=True)\n",
    "df1.e_3.plot(logy=True)\n",
    "\n",
    "ax = fig.gca()\n",
    "ax.legend();"
   ]
  },
  {
   "cell_type": "code",
   "execution_count": null,
   "metadata": {},
   "outputs": [],
   "source": [
    "ne_0 = max(np.abs(df1['e_0']))\n",
    "ne_1 = max(np.abs(df1['e_1']))\n",
    "ne_2 = max(np.abs(df1['e_2']))\n",
    "ne_3 = max(np.abs(df1['e_3']))\n",
    "\n",
    "print(f\" ne_0={ne_0:1.2e}\\n ne_1={ne_1:1.2e}\\n ne_2={ne_2:1.2e}\\n ne_3={ne_3:1.2e}\")"
   ]
  },
  {
   "cell_type": "code",
   "execution_count": null,
   "metadata": {},
   "outputs": [],
   "source": [
    "df2=pd.DataFrame()\n",
    "df2['r_0'] = df1['e_0'] / df1['e_1']\n",
    "df2['r_1'] = df1['e_1'] / df1['e_2']\n",
    "df2['r_2'] = df1['e_2'] / df1['e_3']\n",
    "\n",
    "df2"
   ]
  },
  {
   "cell_type": "code",
   "execution_count": 52,
   "metadata": {
    "tags": []
   },
   "outputs": [],
   "source": [
    "plt.close('all')"
   ]
  },
  {
   "cell_type": "code",
   "execution_count": null,
   "metadata": {},
   "outputs": [],
   "source": []
  }
 ],
 "metadata": {
  "anaconda-cloud": {},
  "colab": {
   "name": "oom_2_2_1_simple_iteration.ipynb",
   "private_outputs": true,
   "provenance": []
  },
  "kernelspec": {
   "display_name": "Python 3 (ipykernel)",
   "language": "python",
   "name": "python3"
  },
  "language_info": {
   "codemirror_mode": {
    "name": "ipython",
    "version": 3
   },
   "file_extension": ".py",
   "mimetype": "text/x-python",
   "name": "python",
   "nbconvert_exporter": "python",
   "pygments_lexer": "ipython3",
   "version": "3.9.7"
  }
 },
 "nbformat": 4,
 "nbformat_minor": 4
}
